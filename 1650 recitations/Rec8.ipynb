{
 "cells": [
  {
   "cell_type": "markdown",
   "metadata": {
    "tags": []
   },
   "source": [
    "# Recitation 8\n",
    "\n",
    "**Important: Comment out references to `%%time`**\n",
    "before uploading your `Rec8.py` file for autograding.\n",
    "\n",
    "___"
   ]
  },
  {
   "cell_type": "code",
   "execution_count": 72,
   "metadata": {},
   "outputs": [],
   "source": [
    "import string"
   ]
  },
  {
   "cell_type": "markdown",
   "metadata": {},
   "source": [
    "### Counting Instances\n",
    "There are different ways to count instances of an element in a list or instances of a substring in a string. The `.count()` method can be used for simple counting. For example, `'banana'.count('na')` returns `2`. For more complicated counting, you might want to use a loop or comprehension.\n",
    "\n",
    "**Compare the execution times** for these 3 different ways to count the number of integers in `range(10000)` that contain the digit `0`. The answer is `2620`.\n",
    "\n",
    "```\n",
    "count = 0\n",
    "for n in range(10000):\n",
    "    if XXX:\n",
    "        count += 1\n",
    "count\n",
    "```\n",
    "\n",
    "OR\n",
    "\n",
    "```\n",
    "len([n for n in range(10000) if XXX])\n",
    "```\n",
    "\n",
    "OR\n",
    "\n",
    "```\n",
    "sum(1 for n in range(10000) if XXX)\n",
    "```"
   ]
  },
  {
   "cell_type": "code",
   "execution_count": 32,
   "metadata": {},
   "outputs": [
    {
     "name": "stdout",
     "output_type": "stream",
     "text": [
      "CPU times: user 5.25 ms, sys: 458 μs, total: 5.71 ms\n",
      "Wall time: 5.51 ms\n"
     ]
    },
    {
     "data": {
      "text/plain": [
       "2620"
      ]
     },
     "execution_count": 32,
     "metadata": {},
     "output_type": "execute_result"
    }
   ],
   "source": [
    "#%%time\n",
    "count = 0\n",
    "for n in range(10000):\n",
    "    if sorted(str(n))[0] == '0':\n",
    "        count += 1\n",
    "\n",
    "count"
   ]
  },
  {
   "cell_type": "code",
   "execution_count": 28,
   "metadata": {},
   "outputs": [
    {
     "name": "stdout",
     "output_type": "stream",
     "text": [
      "CPU times: user 4.63 ms, sys: 360 μs, total: 4.99 ms\n",
      "Wall time: 4.98 ms\n"
     ]
    },
    {
     "data": {
      "text/plain": [
       "2620"
      ]
     },
     "execution_count": 28,
     "metadata": {},
     "output_type": "execute_result"
    }
   ],
   "source": [
    "#%%time\n",
    "len([n for n in range(10000) if sorted(str(n))[0] == '0'])"
   ]
  },
  {
   "cell_type": "code",
   "execution_count": 30,
   "metadata": {},
   "outputs": [
    {
     "name": "stdout",
     "output_type": "stream",
     "text": [
      "CPU times: user 4.54 ms, sys: 639 μs, total: 5.18 ms\n",
      "Wall time: 4.81 ms\n"
     ]
    },
    {
     "data": {
      "text/plain": [
       "2620"
      ]
     },
     "execution_count": 30,
     "metadata": {},
     "output_type": "execute_result"
    }
   ],
   "source": [
    "#%%time\n",
    "sum(1 for n in range(10000) if sorted(str(n))[0] == '0')"
   ]
  },
  {
   "cell_type": "markdown",
   "metadata": {},
   "source": [
    "### Important: Comment out references to `%%time` before uploading to Gradescope.\n",
    "\n",
    "___"
   ]
  },
  {
   "cell_type": "markdown",
   "metadata": {},
   "source": [
    "### A Dictionary\n",
    "\n",
    "Write code to **create a dictionary called `counties_pop`** containing 10 key-value pairs: each key corresponds to a Colorado county and its corresponding value is the county population (rounded to the nearest ten thousand). Create the dictionary by **zipping together these lists**:\n",
    "\n",
    "```\n",
    "counties = ['Adams', 'Arapahoe', 'Boulder', 'Denver', 'Douglas', 'El Paso', 'Jefferson', 'Larimer', 'Pueblo', 'Weld']\n",
    "pop = [520000, 650000, 330000, 710000, 370000, 740000, 580000, 360000, 170000, 340000]\n",
    "\n",
    "```\n",
    "\n",
    "The dictionary will look like `{'Adams': 520000, 'Arapahoe': 650000, ..., 'Weld': 340000}`."
   ]
  },
  {
   "cell_type": "code",
   "execution_count": 34,
   "metadata": {},
   "outputs": [],
   "source": [
    "counties = ['Adams', 'Arapahoe', 'Boulder', 'Denver', 'Douglas', 'El Paso', 'Jefferson', 'Larimer', 'Pueblo', 'Weld']\n",
    "pop = [520000, 650000, 330000, 710000, 370000, 740000, 580000, 360000, 170000, 340000]"
   ]
  },
  {
   "cell_type": "code",
   "execution_count": 66,
   "metadata": {},
   "outputs": [],
   "source": [
    "counties_pop = {counties[n]: pop[n] for n in range(len(counties))}"
   ]
  },
  {
   "cell_type": "code",
   "execution_count": 68,
   "metadata": {},
   "outputs": [
    {
     "data": {
      "text/plain": [
       "{'Adams': 520000,\n",
       " 'Arapahoe': 650000,\n",
       " 'Boulder': 330000,\n",
       " 'Denver': 710000,\n",
       " 'Douglas': 370000,\n",
       " 'El Paso': 740000,\n",
       " 'Jefferson': 580000,\n",
       " 'Larimer': 360000,\n",
       " 'Pueblo': 170000,\n",
       " 'Weld': 340000}"
      ]
     },
     "execution_count": 68,
     "metadata": {},
     "output_type": "execute_result"
    }
   ],
   "source": [
    "counties_pop"
   ]
  },
  {
   "cell_type": "markdown",
   "metadata": {},
   "source": [
    "**WRITE CODE** to complete these exercises. Use the **`counties_pop`** dictionary. **Save results in the variables** named below:\n",
    "\n",
    "* Extract the keys.\n",
    "* Extract the values.\n",
    "* **`pop_BDJ`**: Find the total population in Boulder, Denver, and Jefferson Counties.\n",
    "* **`pop_total`**: Calculate the total population in all 10 counties.\n",
    "* **`pop_begin_AD`**: Select the counties that begin with 'A' or 'D' and sum the population in those counties.\n",
    "* **`pop_large_ct`**: Count the number of counties that have a population exceeding 400,000.\n",
    "* Print out the information in the `counties_pop` dictionary in 10 rows with each row displaying a county name and population. Align the columns. Each population should have a comma separator for thousands:\n",
    " ```\n",
    "Adams      520,000\n",
    "Arapahoe   650,000\n",
    "Boulder    330,000\n",
    "Denver     710,000\n",
    " ...\n",
    " ```"
   ]
  },
  {
   "cell_type": "code",
   "execution_count": 74,
   "metadata": {},
   "outputs": [
    {
     "data": {
      "text/plain": [
       "dict_keys(['Adams', 'Arapahoe', 'Boulder', 'Denver', 'Douglas', 'El Paso', 'Jefferson', 'Larimer', 'Pueblo', 'Weld'])"
      ]
     },
     "execution_count": 74,
     "metadata": {},
     "output_type": "execute_result"
    }
   ],
   "source": [
    "counties_pop.keys()"
   ]
  },
  {
   "cell_type": "code",
   "execution_count": 77,
   "metadata": {},
   "outputs": [
    {
     "data": {
      "text/plain": [
       "dict_values([520000, 650000, 330000, 710000, 370000, 740000, 580000, 360000, 170000, 340000])"
      ]
     },
     "execution_count": 77,
     "metadata": {},
     "output_type": "execute_result"
    }
   ],
   "source": [
    "counties_pop.values()"
   ]
  },
  {
   "cell_type": "code",
   "execution_count": 88,
   "metadata": {},
   "outputs": [],
   "source": [
    "pop_BDJ = counties_pop['Denver'] + counties_pop['Boulder'] + counties_pop['Jefferson']"
   ]
  },
  {
   "cell_type": "code",
   "execution_count": 97,
   "metadata": {},
   "outputs": [],
   "source": [
    "pop_total = sum(counties_pop.values())"
   ]
  },
  {
   "cell_type": "code",
   "execution_count": 135,
   "metadata": {},
   "outputs": [],
   "source": [
    "pop_begin_AD = sum(counties_pop[x] for x in counties_pop if str(x)[0] == 'A' or str(x)[0] == 'D')"
   ]
  },
  {
   "cell_type": "code",
   "execution_count": 137,
   "metadata": {},
   "outputs": [],
   "source": [
    "pop_large_ct = sum(1 for n in counties_pop if counties_pop[n] > 400000)"
   ]
  },
  {
   "cell_type": "code",
   "execution_count": 157,
   "metadata": {},
   "outputs": [
    {
     "name": "stdout",
     "output_type": "stream",
     "text": [
      "Adams      520000\n",
      "Arapahoe   650000\n",
      "Boulder    330000\n",
      "Denver     710000\n",
      "Douglas    370000\n",
      "El Paso    740000\n",
      "Jefferson  580000\n",
      "Larimer    360000\n",
      "Pueblo     170000\n",
      "Weld       340000\n"
     ]
    }
   ],
   "source": [
    "for county, pop in counties_pop.items():\n",
    "    print(f'{county:10} {pop}')"
   ]
  },
  {
   "cell_type": "markdown",
   "metadata": {},
   "source": [
    "### Great Expectations\n",
    "**Read in the file** `'great-expectations-ch1.txt'` which contains chapter 1 of *Great Expectations* by Charles Dickens (from gutenberg.org). \n",
    "\n",
    "**Save the following quantities in the variables named below**:\n",
    "\n",
    "* **`great_char_ct`**: the number of characters in the file (including punctuation and newline characters)\n",
    "* **`great_letter_ct`**: the number of letters in the file (Use `.isalpha()`.)\n",
    "* **`great_upper_ct`**: the number of uppercase letters in the file (Use `.isupper()`.)\n",
    "* **`great_lower_ct`**: the number of lowercase letters in the file (Use `.islower()`.)\n",
    "* **`great_digit_ct`**: the number of numeric digits in the file (Use `.isdigit()`.)\n",
    "* **`great_punc_ct`**: the number of punctuation marks in the file (If you `import string`, then `string.punctuation` is a string containing all punctuation marks.)\n",
    "* **`great_quotation_ct`**: the number of quotations in the file (Extract the quotations by splitting at the `\"` character. Note that the line \n",
    " `\n",
    " \"Show us where you live,\" said the man. \"Pint out the place!\"\n",
    " `\n",
    " contains 2 quotations.)"
   ]
  },
  {
   "cell_type": "code",
   "execution_count": 25,
   "metadata": {},
   "outputs": [],
   "source": [
    "with open('great-expectations-ch1.txt') as fp:\n",
    "    data = fp.read()"
   ]
  },
  {
   "cell_type": "code",
   "execution_count": 31,
   "metadata": {},
   "outputs": [],
   "source": [
    "great_char_ct = len(data)"
   ]
  },
  {
   "cell_type": "code",
   "execution_count": 56,
   "metadata": {},
   "outputs": [],
   "source": [
    "great_letter_ct = sum(1 for n in range(len(data)) if data[n].isalpha())"
   ]
  },
  {
   "cell_type": "code",
   "execution_count": 64,
   "metadata": {},
   "outputs": [],
   "source": [
    "great_upper_ct = len([n for n in range(len(data)) if data[n].isupper()])"
   ]
  },
  {
   "cell_type": "code",
   "execution_count": 66,
   "metadata": {},
   "outputs": [],
   "source": [
    "great_lower_ct = sum(1 for n in range(len(data)) if data[n].islower())"
   ]
  },
  {
   "cell_type": "code",
   "execution_count": 68,
   "metadata": {},
   "outputs": [],
   "source": [
    "great_digit_ct = sum(1 for n in range(len(data)) if data[n].isdigit())"
   ]
  },
  {
   "cell_type": "code",
   "execution_count": 125,
   "metadata": {},
   "outputs": [],
   "source": [
    "great_punc_ct = sum(1 for n in range(len(data)) for i in range(len(string.punctuation)) if data[n] == string.punctuation[i])"
   ]
  },
  {
   "cell_type": "code",
   "execution_count": 127,
   "metadata": {},
   "outputs": [],
   "source": [
    "great_quotations_ct = len(data.split('\"'))//2"
   ]
  },
  {
   "cell_type": "markdown",
   "metadata": {},
   "source": [
    "___\n",
    "\n",
    "# Extra Problems\n",
    "Work on these problems after completing the previous exercises."
   ]
  },
  {
   "cell_type": "markdown",
   "metadata": {},
   "source": [
    "### Duplicate Numbers\n",
    "Write a function **`dup_nums(nums)`** that returns `True` if a list of numbers `nums` contains any duplicates. **Use `set()`.**\n",
    "\n",
    "Examples:  \n",
    "`dup_nums([9, 2, 8, 2])` returns `True`.\\\n",
    "`dup_nums([9, 2, 8])` returns `False`."
   ]
  },
  {
   "cell_type": "code",
   "execution_count": null,
   "metadata": {},
   "outputs": [],
   "source": []
  },
  {
   "cell_type": "code",
   "execution_count": null,
   "metadata": {},
   "outputs": [],
   "source": []
  },
  {
   "cell_type": "markdown",
   "metadata": {},
   "source": [
    "### Last Letter Frequencies\n",
    "Consider the letters that appear at the end of a word. For example, 'y' and 'e' are the last letters of 'my' and 'name', respectively. Which letter appears most frequently at the end of a word?\n",
    "\n",
    "Extract the words from the file `'great-expectations-ch1.txt'`. (*Hint:* First remove the punctuation marks.) Convert all letters to lowercase using `.lower()`. Count the number of times each letter of the alphabet appears at the end of a word. Use a dictionary to store the frequencies. Initialize the dictionary to `{'a': 0, 'b': 0, ..., 'z': 0}` and increment appropriately. \n",
    "\n",
    "* **`great_word_ct`**: number of words in the file.\n",
    "* **`great_last_letter_max_freq`**: (last letter) frequency of the letter that appears most often at the end of a word. \n",
    "* **Make a bar chart** showing the frequencies.\n"
   ]
  },
  {
   "cell_type": "code",
   "execution_count": 15,
   "metadata": {},
   "outputs": [],
   "source": [
    "alphabet = 'abcdefghijklmnopqrstuvwxyz'"
   ]
  },
  {
   "cell_type": "code",
   "execution_count": 16,
   "metadata": {},
   "outputs": [],
   "source": [
    "# great_word_ct =\n",
    "# great_last_letter_max_freq ="
   ]
  },
  {
   "cell_type": "code",
   "execution_count": null,
   "metadata": {},
   "outputs": [],
   "source": []
  }
 ],
 "metadata": {
  "kernelspec": {
   "display_name": "Python 3 (ipykernel)",
   "language": "python",
   "name": "python3"
  },
  "language_info": {
   "codemirror_mode": {
    "name": "ipython",
    "version": 3
   },
   "file_extension": ".py",
   "mimetype": "text/x-python",
   "name": "python",
   "nbconvert_exporter": "python",
   "pygments_lexer": "ipython3",
   "version": "3.12.4"
  }
 },
 "nbformat": 4,
 "nbformat_minor": 4
}
