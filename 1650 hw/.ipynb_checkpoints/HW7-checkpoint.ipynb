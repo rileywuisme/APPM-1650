{
 "cells": [
  {
   "cell_type": "markdown",
   "metadata": {},
   "source": [
    "# HW 7\n",
    "\n",
    "**Upload 2 files** to Gradescope:\n",
    "* **HW7.py** (for the autograder)\n",
    "* **HW7.ipynb** (for manual grading)\n",
    "___"
   ]
  },
  {
   "cell_type": "code",
   "execution_count": 786,
   "metadata": {},
   "outputs": [],
   "source": [
    "import math\n",
    "import random\n",
    "import numpy as np\n",
    "import matplotlib.pyplot as plt"
   ]
  },
  {
   "cell_type": "markdown",
   "metadata": {},
   "source": [
    "### Simple Encryption\n",
    "\n",
    "Write a function **`encrypt(string)`** that takes a string and returns an encrypted string, using this scheme:\n",
    "* Convert each character to unicode using the `ord()` function.\n",
    "* Add 10 to each code.\n",
    "* Convert each new code into a character using the `chr()` function.\n",
    "* Concatenate the new characters and return the resulting string.\n",
    "\n",
    "*Note:* The letters of the alphabet, numbers, and usual punctuation symbols all have relatively small unicode values, so adding 10 will produce a unicode value corresponding to another character.\n",
    "      \n",
    "Example:<br>\n",
    "`encrypt('A Tale of 2 Cities')` returns `'K*^kvo*yp*<*Ms~so}'`."
   ]
  },
  {
   "cell_type": "code",
   "execution_count": 788,
   "metadata": {},
   "outputs": [],
   "source": [
    "def encrypt(string):\n",
    "    uni = [ord(string[n]) for n in range(len(string))]\n",
    "    new_uni = [uni[n] + 10 for n in range(len(string))]\n",
    "    word = [chr(new_uni[n]) for n in range(len(string))]\n",
    "    return ''.join(word)"
   ]
  },
  {
   "cell_type": "code",
   "execution_count": 789,
   "metadata": {},
   "outputs": [
    {
     "data": {
      "text/plain": [
       "'K*^kvo*yp*<*Ms~so}'"
      ]
     },
     "execution_count": 789,
     "metadata": {},
     "output_type": "execute_result"
    }
   ],
   "source": [
    "encrypt('A Tale of 2 Cities')"
   ]
  },
  {
   "cell_type": "markdown",
   "metadata": {},
   "source": [
    "Write a function **`decrypt(string)`** that reverses the `encrypt()` operation.\n",
    "      \n",
    "Example:<br>\n",
    "`decrypt('K*^kvo*yp*<*Ms~so}')` returns `'A Tale of 2 Cities'`."
   ]
  },
  {
   "cell_type": "code",
   "execution_count": 791,
   "metadata": {},
   "outputs": [],
   "source": [
    "def decrypt(string):\n",
    "    uni = [ord(string[n]) for n in range(len(string))]\n",
    "    old_uni = [uni[n] - 10 for n in range(len(string))]\n",
    "    word = [chr(old_uni[n]) for n in range(len(string))]\n",
    "    return ''.join(word)"
   ]
  },
  {
   "cell_type": "code",
   "execution_count": 792,
   "metadata": {},
   "outputs": [
    {
     "data": {
      "text/plain": [
       "'A Tale of 2 Cities'"
      ]
     },
     "execution_count": 792,
     "metadata": {},
     "output_type": "execute_result"
    }
   ],
   "source": [
    "decrypt('K*^kvo*yp*<*Ms~so}')"
   ]
  },
  {
   "cell_type": "markdown",
   "metadata": {},
   "source": [
    "### Strings to Numbers\n",
    "\n",
    "Write a function **`eval_arith(str_expr)`** that takes an arithmetic expression of the form\n",
    "```\n",
    "<integer> <op> <integer>\n",
    "```\n",
    "in string format and returns the value of the expression as an `int`. The operator `op` can be one of `'+'`, `'-'`, `'*'`, or `'**'`. Assume that the integers are positive. There may be whitespace characters in the expression.\n",
    "\n",
    "Examples:<br>\n",
    "`eval_arith('4+91')` returns `95`.<br>\n",
    "`eval_arith('   12  *5   ')` returns `60`.<br>\n",
    "`eval_arith('2** 3') + eval_arith('2 - 3')` returns `7`.<br>"
   ]
  },
  {
   "cell_type": "code",
   "execution_count": 794,
   "metadata": {},
   "outputs": [],
   "source": [
    "def eval_arith(str_expr):\n",
    "    stripped = str_expr.strip()\n",
    "    if '**' in stripped:\n",
    "        nums = stripped.split('**')\n",
    "        operator = '**'\n",
    "    elif '+' in stripped:\n",
    "        nums = stripped.split('+')\n",
    "        operator = '+'\n",
    "    elif '-' in stripped:\n",
    "        nums = stripped.split('-')\n",
    "        operator = '-'\n",
    "    elif '*' in stripped:\n",
    "        nums = stripped.split('*')\n",
    "        operator = '*'\n",
    "    int_1 = int(nums[0].strip())\n",
    "    int_2 = int(nums[1].strip())\n",
    "    if operator == '+':\n",
    "        return int_1 + int_2\n",
    "    elif operator == '-':\n",
    "        return int_1 - int_2\n",
    "    elif operator == '*':\n",
    "        return int_1 * int_2\n",
    "    elif operator == '**':\n",
    "        return int_1 ** int_2"
   ]
  },
  {
   "cell_type": "code",
   "execution_count": 795,
   "metadata": {},
   "outputs": [
    {
     "data": {
      "text/plain": [
       "95"
      ]
     },
     "execution_count": 795,
     "metadata": {},
     "output_type": "execute_result"
    }
   ],
   "source": [
    "eval_arith('4+91')"
   ]
  },
  {
   "cell_type": "code",
   "execution_count": 796,
   "metadata": {},
   "outputs": [
    {
     "data": {
      "text/plain": [
       "60"
      ]
     },
     "execution_count": 796,
     "metadata": {},
     "output_type": "execute_result"
    }
   ],
   "source": [
    "eval_arith('   12   *5   ')"
   ]
  },
  {
   "cell_type": "code",
   "execution_count": 797,
   "metadata": {},
   "outputs": [
    {
     "data": {
      "text/plain": [
       "7"
      ]
     },
     "execution_count": 797,
     "metadata": {},
     "output_type": "execute_result"
    }
   ],
   "source": [
    "eval_arith('2**3') + eval_arith('2 - 3')"
   ]
  },
  {
   "cell_type": "markdown",
   "metadata": {},
   "source": [
    "Write a function **`eval_arith_file(filename)`** that reads in a file named `filename` that contains one arithmetic expression on each line and returns a list containing the value of each expression. The function should call `eval_arith()`.\n",
    "\n",
    "Example: If a file named `'arith.txt'` contains\n",
    "```\n",
    "4+91\n",
    "   12  *5   \n",
    "2** 3\n",
    " 2- 3 \n",
    "```\n",
    "then `eval_arith_file('arith.txt')` returns `[95, 60, 8, -1]`."
   ]
  },
  {
   "cell_type": "code",
   "execution_count": 799,
   "metadata": {},
   "outputs": [],
   "source": [
    "def eval_arith_file(filename):\n",
    "    with open(filename) as fp:\n",
    "        data = fp.read()\n",
    "    expr = data.split('\\n')\n",
    "    l = []\n",
    "    for n in range(len(expr)):\n",
    "        l.append(eval_arith(expr[n]))\n",
    "\n",
    "    return l"
   ]
  },
  {
   "cell_type": "code",
   "execution_count": 800,
   "metadata": {},
   "outputs": [
    {
     "data": {
      "text/plain": [
       "[95, 60, 8, -1]"
      ]
     },
     "execution_count": 800,
     "metadata": {},
     "output_type": "execute_result"
    }
   ],
   "source": [
    "eval_arith_file('arith.txt')"
   ]
  },
  {
   "cell_type": "markdown",
   "metadata": {},
   "source": [
    "### Plotting Functions\n",
    "\n",
    "Write a function **`plot_funcs(funcs, interval=(-3,3))`** that displays the list of functions in `funcs`. If `funcs` is a single function, only that function is displayed. The default $x$ interval, passed as a tuple, is $[-3,3]$. Set the aspect ratio with `plt.axis('equal')`.\n",
    "\n",
    "Examples:<br>\n",
    "`plot_funcs(math.sin)` displays\n",
    "\n",
    "<img src=\"http://www.coloradomath.org/python/plot-sin.png\" />\n",
    "\n",
    "`plot_funcs([math.sin, math.cos], (0, 4*math.pi))` displays\n",
    "\n",
    "<img src=\"http://www.coloradomath.org/python/plot-sin-cos.png\" />\n"
   ]
  },
  {
   "cell_type": "code",
   "execution_count": 802,
   "metadata": {},
   "outputs": [],
   "source": [
    "def plot_funcs(funcs, interval=(-3, 3)):\n",
    "    xvals = np.linspace(interval[0], interval[1], 100)\n",
    "    if not isinstance(funcs, list):\n",
    "        funcs = [funcs]\n",
    "    for func in funcs:\n",
    "        yvals = [func(x) for x in xvals] # REMEMBER THIS\n",
    "        plt.plot(xvals, yvals)\n",
    "    plt.axis('equal')"
   ]
  },
  {
   "cell_type": "code",
   "execution_count": 803,
   "metadata": {},
   "outputs": [
    {
     "data": {
      "image/png": "[encoded data removed]",
      "text/plain": [
       "<Figure size 640x480 with 1 Axes>"
      ]
     },
     "metadata": {},
     "output_type": "display_data"
    }
   ],
   "source": [
    "plot_funcs(math.sin)"
   ]
  },
  {
   "cell_type": "code",
   "execution_count": 804,
   "metadata": {},
   "outputs": [
    {
     "data": {
      "image/png": "[encoded data removed]",
      "text/plain": [
       "<Figure size 640x480 with 1 Axes>"
      ]
     },
     "metadata": {},
     "output_type": "display_data"
    }
   ],
   "source": [
    "plot_funcs([math.sin, math.cos], (0, 4*math.pi))"
   ]
  },
  {
   "cell_type": "markdown",
   "metadata": {},
   "source": [
    "### Tangent Line\n",
    "\n",
    "Write a function **`tangent_line(func, funcd, xcoord, interval=(-3,3))`** that displays a function `func` and the tangent line at a given $x$ coordinate given the derivative function `funcd`. The default $x$ interval for `func`, passed as a tuple, is $[-3,3]$. The $x$ interval for the tangent line is $1/3$ the length of the interval. Assume that the tangent slope is not infinite. The function should call `plot_funcs()`.\n",
    "\n",
    "Examples:<br>\n",
    "```\n",
    "tangent_line(math.sin, math.cos, 1.2)\n",
    "``` \n",
    "<img src=\"http://www.coloradomath.org/python/sin-tangent.png\" />\n",
    "\n",
    "```\n",
    "def sinfunc(x):\n",
    "    return x * math.sin(x)\n",
    "\n",
    "def sinfuncd(x):\n",
    "    return x*math.cos(x) + math.sin(x)\n",
    "\n",
    "tangent_line(sinfunc, sinfuncd, -.5, (-6, 6))\n",
    "```\n",
    "\n",
    "<img src=\"http://www.coloradomath.org/python/xsinx-tangent.png\" />\n"
   ]
  },
  {
   "cell_type": "code",
   "execution_count": 806,
   "metadata": {},
   "outputs": [],
   "source": [
    "def tangent_line(func, funcd, xcoord, interval=(-3, 3)):\n",
    "    # Plot the original function\n",
    "    plot_funcs(func, interval)\n",
    "    # Plot the point\n",
    "    plt.plot(xcoord, func(xcoord), 'o', c='k')\n",
    "    # Plot the tangent line\n",
    "    f_prime = funcd(xcoord)\n",
    "    xvals = np.linspace(xcoord - ((interval[1]-interval[0])/6), xcoord + ((interval[1]-interval[0])/6), 100)\n",
    "    yval = f_prime*xvals - f_prime*xcoord + func(xcoord)\n",
    "    plt.plot(xvals, yval)"
   ]
  },
  {
   "cell_type": "code",
   "execution_count": 807,
   "metadata": {},
   "outputs": [
    {
     "data": {
      "image/png": "[encoded data removed]",
      "text/plain": [
       "<Figure size 640x480 with 1 Axes>"
      ]
     },
     "metadata": {},
     "output_type": "display_data"
    }
   ],
   "source": [
    "tangent_line(math.sin, math.cos, 1.2)"
   ]
  },
  {
   "cell_type": "code",
   "execution_count": 808,
   "metadata": {},
   "outputs": [
    {
     "data": {
      "image/png": "[encoded data removed]",
      "text/plain": [
       "<Figure size 640x480 with 1 Axes>"
      ]
     },
     "metadata": {},
     "output_type": "display_data"
    }
   ],
   "source": [
    "def sinfunc(x):\n",
    "    return x * math.sin(x)\n",
    "\n",
    "def sinfuncd(x):\n",
    "    return x*math.cos(x) + math.sin(x)\n",
    "\n",
    "tangent_line(sinfunc, sinfuncd, -.5, (-6, 6))"
   ]
  },
  {
   "cell_type": "markdown",
   "metadata": {},
   "source": [
    "### A Square\n",
    "Write a function **`square(pos, sidelen, color)`** that draws a filled square given the $(x, y)$ position of the lower left corner, the side length, and the fill color. The default position is $(0, 0)$, the default side length is 1, and the default color is `cugold`.\n",
    "\n",
    "`cugold = '#D0B97C'`\n",
    "\n",
    "Example:<br>\n",
    "```\n",
    "square()\n",
    "square((1,0), 0.5, 'Brown')\n",
    "```\n",
    "<img src=\"http://www.coloradomath.org/python/squares2.png\" />\n"
   ]
  },
  {
   "cell_type": "code",
   "execution_count": 810,
   "metadata": {},
   "outputs": [],
   "source": [
    "def square(pos=(0, 0), sidelen=1, color='#D0B97C'):\n",
    "    xvals = [pos[0], pos[0] + sidelen, pos[0] + sidelen, pos[0], pos[0]]\n",
    "    yvals = [pos[1], pos[1], pos[1] + sidelen, pos[1] + sidelen, pos[1]]\n",
    "    plt.fill(xvals, yvals, color=color)\n",
    "    plt.axis('equal')\n",
    "    plt.axis('off')"
   ]
  },
  {
   "cell_type": "code",
   "execution_count": 811,
   "metadata": {},
   "outputs": [
    {
     "data": {
      "image/png": "[encoded data removed]",
      "text/plain": [
       "<Figure size 640x480 with 1 Axes>"
      ]
     },
     "metadata": {},
     "output_type": "display_data"
    }
   ],
   "source": [
    "square()\n",
    "square((1,0), 0.5, 'Brown')"
   ]
  },
  {
   "cell_type": "markdown",
   "metadata": {},
   "source": [
    "### Row of Squares"
   ]
  },
  {
   "cell_type": "markdown",
   "metadata": {},
   "source": [
    "Write a function **`squares_row(nsquares, pos, sidelen, colors)`** that draws `nsquares` filled squares given the position of the lower left corner of the first square, the side length of each square, and the fill colors to cycle through. The default position is $(0, 0)$, the default side length is 1, and the default colors are `cugold` and `cugray`. The function should call `square()`.\n",
    "\n",
    "`cugold = '#D0B97C'`<br>\n",
    "`cugray = '#424242'`\n",
    "\n",
    "```\n",
    "squares_row(6)\n",
    "```\n",
    "<img src=\"http://www.coloradomath.org/python/squares-row-cu.png\" />\n",
    "\n",
    "```\n",
    "squares_row(6, colors=['b', 'm', 'g'])\n",
    "```\n",
    "<img src=\"http://www.coloradomath.org/python/squares-row-colors.png\" />\n"
   ]
  },
  {
   "cell_type": "code",
   "execution_count": 814,
   "metadata": {},
   "outputs": [],
   "source": [
    "def squares_row(nsquares, pos=(0, 0), sidelen=1, colors=['#D0B97C', '#424242']):\n",
    "    for n in range(nsquares):\n",
    "        square((pos[0]+n*sidelen, pos[1]), sidelen, colors[n % len(colors)])"
   ]
  },
  {
   "cell_type": "code",
   "execution_count": 815,
   "metadata": {},
   "outputs": [
    {
     "data": {
      "image/png": "[encoded data removed]",
      "text/plain": [
       "<Figure size 640x480 with 1 Axes>"
      ]
     },
     "metadata": {},
     "output_type": "display_data"
    }
   ],
   "source": [
    "squares_row(6)"
   ]
  },
  {
   "cell_type": "code",
   "execution_count": 816,
   "metadata": {},
   "outputs": [
    {
     "data": {
      "image/png": "[encoded data removed]",
      "text/plain": [
       "<Figure size 640x480 with 1 Axes>"
      ]
     },
     "metadata": {},
     "output_type": "display_data"
    }
   ],
   "source": [
    "squares_row(6, colors=['b', 'm', 'g'])"
   ]
  },
  {
   "cell_type": "markdown",
   "metadata": {},
   "source": [
    "### Checkerboard"
   ]
  },
  {
   "cell_type": "markdown",
   "metadata": {},
   "source": [
    "Write a function **`board(size, colors)`** that draws a checkerboard of `size` by `size` squares given the fill colors to cycle through. The function should call `squares_row()`.\n",
    "\n",
    "```\n",
    "board(8)\n",
    "```\n",
    "<img src=\"http://www.coloradomath.org/python/board-cu.png\" />\n",
    "\n",
    "```\n",
    "board(8, ['b', 'm', 'g'])\n",
    "```\n",
    "<img src=\"http://www.coloradomath.org/python/board-colors.png\" />\n"
   ]
  },
  {
   "cell_type": "code",
   "execution_count": 819,
   "metadata": {},
   "outputs": [],
   "source": [
    "def board(size, colors=['#D0B97C', '#424242']):\n",
    "    for n in range(size):\n",
    "        new = colors[n%len(colors):] + colors[:n%len(colors)]\n",
    "        squares_row(size, (0, 0+n), 1, new)"
   ]
  },
  {
   "cell_type": "code",
   "execution_count": 820,
   "metadata": {},
   "outputs": [
    {
     "data": {
      "image/png": "[encoded data removed]",
      "text/plain": [
       "<Figure size 640x480 with 1 Axes>"
      ]
     },
     "metadata": {},
     "output_type": "display_data"
    }
   ],
   "source": [
    "board(8)"
   ]
  },
  {
   "cell_type": "code",
   "execution_count": 821,
   "metadata": {},
   "outputs": [
    {
     "data": {
      "image/png": "[encoded data removed]",
      "text/plain": [
       "<Figure size 640x480 with 1 Axes>"
      ]
     },
     "metadata": {},
     "output_type": "display_data"
    }
   ],
   "source": [
    "board(8, ['b', 'm', 'g'])"
   ]
  }
 ],
 "metadata": {
  "kernelspec": {
   "display_name": "Python 3 (ipykernel)",
   "language": "python",
   "name": "python3"
  },
  "language_info": {
   "codemirror_mode": {
    "name": "ipython",
    "version": 3
   },
   "file_extension": ".py",
   "mimetype": "text/x-python",
   "name": "python",
   "nbconvert_exporter": "python",
   "pygments_lexer": "ipython3",
   "version": "3.12.4"
  }
 },
 "nbformat": 4,
 "nbformat_minor": 4
}
