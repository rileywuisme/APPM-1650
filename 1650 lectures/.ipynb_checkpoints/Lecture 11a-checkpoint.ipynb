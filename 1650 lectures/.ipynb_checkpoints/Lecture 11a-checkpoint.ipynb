{
 "cells": [
  {
   "cell_type": "markdown",
   "id": "f8689a5b-a1a5-4297-a6c3-a6b0091a969c",
   "metadata": {},
   "source": [
    "### Lecture 11a Numpy"
   ]
  },
  {
   "cell_type": "code",
   "execution_count": 3,
   "id": "f4b6477b-f0e8-4e76-a04b-91746f9967a2",
   "metadata": {},
   "outputs": [],
   "source": [
    "import numpy as np\n",
    "import matplotlib.pyplot as plt"
   ]
  },
  {
   "cell_type": "markdown",
   "id": "a51532b4-873d-465a-b8dd-b6677ce8781c",
   "metadata": {},
   "source": [
    "### Arrays  \n",
    "All elements have the same data type: int, float, bool, str..."
   ]
  },
  {
   "cell_type": "code",
   "execution_count": 6,
   "id": "dc4d7827-deab-4cd8-95bb-692e9602d5d7",
   "metadata": {},
   "outputs": [
    {
     "data": {
      "text/plain": [
       "array([0. , 0.5, 1. , 1.5, 2. ])"
      ]
     },
     "execution_count": 6,
     "metadata": {},
     "output_type": "execute_result"
    }
   ],
   "source": [
    "pts = np.linspace(0, 2, 5)\n",
    "pts"
   ]
  },
  {
   "cell_type": "code",
   "execution_count": 8,
   "id": "b24337b2-9dd9-451e-84e2-ee263a086463",
   "metadata": {},
   "outputs": [
    {
     "data": {
      "text/plain": [
       "numpy.ndarray"
      ]
     },
     "execution_count": 8,
     "metadata": {},
     "output_type": "execute_result"
    }
   ],
   "source": [
    "type(pts)"
   ]
  },
  {
   "cell_type": "markdown",
   "id": "fcd8a6f4-feb3-4ac8-8c81-03b26c2e4002",
   "metadata": {},
   "source": [
    "### Basic functions"
   ]
  },
  {
   "cell_type": "code",
   "execution_count": 12,
   "id": "ccaa1f64-9131-4819-8f71-75b28064ec12",
   "metadata": {},
   "outputs": [
    {
     "data": {
      "text/plain": [
       "array([ 3,  4, 10])"
      ]
     },
     "execution_count": 12,
     "metadata": {},
     "output_type": "execute_result"
    }
   ],
   "source": [
    "np.array([3, 4, 10])"
   ]
  },
  {
   "cell_type": "code",
   "execution_count": 20,
   "id": "cf8bff58-7f2f-494a-89c8-44129161092f",
   "metadata": {},
   "outputs": [
    {
     "data": {
      "text/plain": [
       "array([0., 1., 2., 3., 4., 5.])"
      ]
     },
     "execution_count": 20,
     "metadata": {},
     "output_type": "execute_result"
    }
   ],
   "source": [
    "np.arange(6, dtype=float) # can choose data type"
   ]
  },
  {
   "cell_type": "code",
   "execution_count": 18,
   "id": "2add8c39-949f-40f7-84c1-d182fb016eb7",
   "metadata": {},
   "outputs": [
    {
     "data": {
      "text/plain": [
       "array([0. , 0.5, 1. , 1.5, 2. ])"
      ]
     },
     "execution_count": 18,
     "metadata": {},
     "output_type": "execute_result"
    }
   ],
   "source": [
    "np.arange(0, 2.5, 0.5) # (start, stop +, step)"
   ]
  },
  {
   "cell_type": "code",
   "execution_count": 24,
   "id": "c397ed6b-6b7d-4cf6-8ea8-6973f184700d",
   "metadata": {},
   "outputs": [
    {
     "data": {
      "text/plain": [
       "array([0, 1, 2, 3, 4, 5])"
      ]
     },
     "execution_count": 24,
     "metadata": {},
     "output_type": "execute_result"
    }
   ],
   "source": [
    "arr6 = np.arange(6)\n",
    "arr6"
   ]
  },
  {
   "cell_type": "code",
   "execution_count": 28,
   "id": "b0fb78f6-ee9b-4c8f-92a3-eb0059103422",
   "metadata": {},
   "outputs": [
    {
     "data": {
      "text/plain": [
       "array([[0, 1, 2],\n",
       "       [3, 4, 5]])"
      ]
     },
     "execution_count": 28,
     "metadata": {},
     "output_type": "execute_result"
    }
   ],
   "source": [
    "arr6.reshape(2, 3)  #makes a copy"
   ]
  },
  {
   "cell_type": "code",
   "execution_count": 30,
   "id": "d09b3b6e-9cae-4e97-ae09-89f699074cc3",
   "metadata": {},
   "outputs": [
    {
     "data": {
      "text/plain": [
       "array([0, 1, 2, 3, 4, 5])"
      ]
     },
     "execution_count": 30,
     "metadata": {},
     "output_type": "execute_result"
    }
   ],
   "source": [
    "arr6"
   ]
  },
  {
   "cell_type": "code",
   "execution_count": 32,
   "id": "3192d3f8-3b65-4b4b-84d2-5cb7ebdb0b47",
   "metadata": {},
   "outputs": [],
   "source": [
    "arr6 = arr6.reshape(2, 3)"
   ]
  },
  {
   "cell_type": "markdown",
   "id": "3ae784db-eec6-43fa-9cf5-a20f1f8e4fc9",
   "metadata": {},
   "source": [
    "### Array attributes"
   ]
  },
  {
   "cell_type": "code",
   "execution_count": 35,
   "id": "93aae78e-c9a3-406b-958a-401a875ef2e7",
   "metadata": {},
   "outputs": [
    {
     "data": {
      "text/plain": [
       "2"
      ]
     },
     "execution_count": 35,
     "metadata": {},
     "output_type": "execute_result"
    }
   ],
   "source": [
    "arr6.ndim"
   ]
  },
  {
   "cell_type": "code",
   "execution_count": 37,
   "id": "8f061478-e1a3-44d0-8c9e-8c7a1e4d971c",
   "metadata": {},
   "outputs": [
    {
     "data": {
      "text/plain": [
       "(2, 3)"
      ]
     },
     "execution_count": 37,
     "metadata": {},
     "output_type": "execute_result"
    }
   ],
   "source": [
    "arr6.shape"
   ]
  },
  {
   "cell_type": "code",
   "execution_count": 39,
   "id": "f933be38-2fba-4400-a1dc-ea0d717302a3",
   "metadata": {},
   "outputs": [
    {
     "data": {
      "text/plain": [
       "6"
      ]
     },
     "execution_count": 39,
     "metadata": {},
     "output_type": "execute_result"
    }
   ],
   "source": [
    "arr6.size # number of elements"
   ]
  },
  {
   "cell_type": "code",
   "execution_count": 41,
   "id": "6177cdab-e73b-457c-9764-438852199ad3",
   "metadata": {},
   "outputs": [
    {
     "data": {
      "text/plain": [
       "dtype('int64')"
      ]
     },
     "execution_count": 41,
     "metadata": {},
     "output_type": "execute_result"
    }
   ],
   "source": [
    "arr6.dtype"
   ]
  },
  {
   "cell_type": "code",
   "execution_count": 43,
   "id": "2c732b91-5f18-46c3-8257-faaf2b49d458",
   "metadata": {},
   "outputs": [
    {
     "data": {
      "text/plain": [
       "array([[0., 1., 2.],\n",
       "       [3., 4., 5.]])"
      ]
     },
     "execution_count": 43,
     "metadata": {},
     "output_type": "execute_result"
    }
   ],
   "source": [
    "arr6.astype(float)"
   ]
  },
  {
   "cell_type": "markdown",
   "id": "51c1b90b-91af-496d-9cf9-9a4f9175a683",
   "metadata": {},
   "source": [
    "### Vectorization  \n",
    "Perform arithmetic operations on an entire array without looping"
   ]
  },
  {
   "cell_type": "code",
   "execution_count": 47,
   "id": "2411a052-53de-4809-9eb6-4ee2ef2aad74",
   "metadata": {},
   "outputs": [
    {
     "data": {
      "text/plain": [
       "array([[0, 1, 2],\n",
       "       [3, 4, 5]])"
      ]
     },
     "execution_count": 47,
     "metadata": {},
     "output_type": "execute_result"
    }
   ],
   "source": [
    "arr6"
   ]
  },
  {
   "cell_type": "code",
   "execution_count": 55,
   "id": "fa9c6e7a-194e-416f-aa76-9728dcaed1bc",
   "metadata": {},
   "outputs": [
    {
     "data": {
      "text/plain": [
       "array([[10, 11, 12],\n",
       "       [13, 14, 15]])"
      ]
     },
     "execution_count": 55,
     "metadata": {},
     "output_type": "execute_result"
    }
   ],
   "source": [
    "arr6 + 10 # each element + 10 without looping"
   ]
  },
  {
   "cell_type": "code",
   "execution_count": 51,
   "id": "27a07690-5fae-473a-860c-9f830abe7a83",
   "metadata": {},
   "outputs": [
    {
     "data": {
      "text/plain": [
       "array([[ 0,  2,  4],\n",
       "       [ 6,  8, 10]])"
      ]
     },
     "execution_count": 51,
     "metadata": {},
     "output_type": "execute_result"
    }
   ],
   "source": [
    "arr6 * 2"
   ]
  },
  {
   "cell_type": "code",
   "execution_count": 53,
   "id": "b0625f5d-a37d-4a60-8ce4-5d3028d3b2d3",
   "metadata": {},
   "outputs": [
    {
     "data": {
      "text/plain": [
       "array([[ 0,  1,  4],\n",
       "       [ 9, 16, 25]])"
      ]
     },
     "execution_count": 53,
     "metadata": {},
     "output_type": "execute_result"
    }
   ],
   "source": [
    "arr6 ** 2"
   ]
  },
  {
   "cell_type": "code",
   "execution_count": 57,
   "id": "cc548359-adf2-4cd9-8d68-e27da6e1bc2d",
   "metadata": {},
   "outputs": [
    {
     "data": {
      "text/plain": [
       "array([[0.        , 1.        , 1.41421356],\n",
       "       [1.73205081, 2.        , 2.23606798]])"
      ]
     },
     "execution_count": 57,
     "metadata": {},
     "output_type": "execute_result"
    }
   ],
   "source": [
    "np.sqrt(arr6)"
   ]
  },
  {
   "cell_type": "code",
   "execution_count": 59,
   "id": "2b5865fd-2cd2-40e1-bd88-b02762b513c4",
   "metadata": {},
   "outputs": [
    {
     "data": {
      "text/plain": [
       "array([[0.        , 1.        , 1.41421356],\n",
       "       [1.73205081, 2.        , 2.23606798]])"
      ]
     },
     "execution_count": 59,
     "metadata": {},
     "output_type": "execute_result"
    }
   ],
   "source": [
    "arr6 ** 0.5"
   ]
  },
  {
   "cell_type": "code",
   "execution_count": 61,
   "id": "c99086fc-e4c8-47a8-a424-f5bfa597c448",
   "metadata": {},
   "outputs": [
    {
     "data": {
      "text/plain": [
       "array([[ 0.        ,  0.84147098,  0.90929743],\n",
       "       [ 0.14112001, -0.7568025 , -0.95892427]])"
      ]
     },
     "execution_count": 61,
     "metadata": {},
     "output_type": "execute_result"
    }
   ],
   "source": [
    "np.sin(arr6)"
   ]
  },
  {
   "cell_type": "code",
   "execution_count": 63,
   "id": "15cf8cd9-bf1b-4b2e-8afa-c1b984dde638",
   "metadata": {},
   "outputs": [],
   "source": [
    "# f(x) = x^2 + 1\n",
    "def func1(x):\n",
    "    return x ** 2 + 1"
   ]
  },
  {
   "cell_type": "code",
   "execution_count": 65,
   "id": "b9845aa8-7202-4fea-a45b-09d0b449308a",
   "metadata": {},
   "outputs": [
    {
     "data": {
      "text/plain": [
       "array([[ 1,  2,  5],\n",
       "       [10, 17, 26]])"
      ]
     },
     "execution_count": 65,
     "metadata": {},
     "output_type": "execute_result"
    }
   ],
   "source": [
    "func1(arr6)"
   ]
  },
  {
   "cell_type": "code",
   "execution_count": 69,
   "id": "7eed301e-b784-4a51-9480-e73d8c70482e",
   "metadata": {},
   "outputs": [],
   "source": [
    "# g(theta) = sin((pi/2) * theta)\n",
    "def func2(theta):\n",
    "    return np.sin((np.pi/2) * theta)"
   ]
  },
  {
   "cell_type": "code",
   "execution_count": 71,
   "id": "ca2df256-ed9f-4a22-bb72-9d3e70f592c2",
   "metadata": {},
   "outputs": [
    {
     "data": {
      "text/plain": [
       "array([[ 0.,  1.,  0.],\n",
       "       [-1., -0.,  1.]])"
      ]
     },
     "execution_count": 71,
     "metadata": {},
     "output_type": "execute_result"
    }
   ],
   "source": [
    "np.round(func2(arr6))"
   ]
  },
  {
   "cell_type": "markdown",
   "id": "d3ba422c-cf6b-45af-84a9-bf2112d07039",
   "metadata": {},
   "source": [
    "### Plotting Functions Using Vectorization\n",
    "Plot $y = x \\cos(x^2)$ on $[0, \\pi]$"
   ]
  },
  {
   "cell_type": "code",
   "execution_count": 75,
   "id": "70f33339-d93a-4a90-a2ff-1fcafac9aeab",
   "metadata": {},
   "outputs": [],
   "source": [
    "xvals = np.linspace(0, np.pi, 100)\n",
    "yvals = xvals * np.cos(xvals**2) # Use vectorization, not a list comprehension"
   ]
  },
  {
   "cell_type": "code",
   "execution_count": 77,
   "id": "c2cd7043-2c26-486e-b7e7-3b9eed250601",
   "metadata": {},
   "outputs": [
    {
     "data": {
      "image/png": "[encoded data removed]",
      "text/plain": [
       "<Figure size 640x480 with 1 Axes>"
      ]
     },
     "metadata": {},
     "output_type": "display_data"
    }
   ],
   "source": [
    "plt.plot(xvals, yvals)\n",
    "plt.show()"
   ]
  },
  {
   "cell_type": "markdown",
   "id": "2261703a-1eea-4896-90ae-febc1266a35c",
   "metadata": {},
   "source": [
    "### Numpy Axes\n",
    "axis = 0 (column direction)  \n",
    "axis = 1 (row direction)"
   ]
  },
  {
   "cell_type": "code",
   "execution_count": 82,
   "id": "4600f83f-e10b-46c4-9c02-0dde8f4f6faf",
   "metadata": {},
   "outputs": [
    {
     "data": {
      "text/plain": [
       "array([[0, 1, 2],\n",
       "       [3, 4, 5]])"
      ]
     },
     "execution_count": 82,
     "metadata": {},
     "output_type": "execute_result"
    }
   ],
   "source": [
    "arr6"
   ]
  },
  {
   "cell_type": "code",
   "execution_count": 86,
   "id": "fdf83502-0678-4f6b-81e6-dce668f3e526",
   "metadata": {},
   "outputs": [
    {
     "data": {
      "text/plain": [
       "15"
      ]
     },
     "execution_count": 86,
     "metadata": {},
     "output_type": "execute_result"
    }
   ],
   "source": [
    "arr6.sum() #add all the elements in the operation"
   ]
  },
  {
   "cell_type": "code",
   "execution_count": 88,
   "id": "1024aa2c-e4e5-458f-b5cd-9810f7ac8741",
   "metadata": {},
   "outputs": [
    {
     "data": {
      "text/plain": [
       "array([3, 5, 7])"
      ]
     },
     "execution_count": 88,
     "metadata": {},
     "output_type": "execute_result"
    }
   ],
   "source": [
    "arr6.sum(axis=0)"
   ]
  },
  {
   "cell_type": "code",
   "execution_count": 90,
   "id": "bf42397f-6411-4af3-b7f6-1b3989c7914c",
   "metadata": {},
   "outputs": [
    {
     "data": {
      "text/plain": [
       "array([ 3, 12])"
      ]
     },
     "execution_count": 90,
     "metadata": {},
     "output_type": "execute_result"
    }
   ],
   "source": [
    "arr6.sum(axis=1)"
   ]
  },
  {
   "cell_type": "code",
   "execution_count": 92,
   "id": "b184468c-c92d-4e33-abc9-78692407ab09",
   "metadata": {},
   "outputs": [
    {
     "data": {
      "text/plain": [
       "0"
      ]
     },
     "execution_count": 92,
     "metadata": {},
     "output_type": "execute_result"
    }
   ],
   "source": [
    "arr6.prod()"
   ]
  },
  {
   "cell_type": "code",
   "execution_count": 94,
   "id": "9b8f4f27-7acf-4879-b610-8464e5902811",
   "metadata": {},
   "outputs": [
    {
     "data": {
      "text/plain": [
       "array([ 0,  4, 10])"
      ]
     },
     "execution_count": 94,
     "metadata": {},
     "output_type": "execute_result"
    }
   ],
   "source": [
    "arr6.prod(axis=0)"
   ]
  },
  {
   "cell_type": "code",
   "execution_count": 96,
   "id": "dac045b4-202a-4100-87f1-8fcb179b19f4",
   "metadata": {},
   "outputs": [
    {
     "data": {
      "text/plain": [
       "array([ 0, 60])"
      ]
     },
     "execution_count": 96,
     "metadata": {},
     "output_type": "execute_result"
    }
   ],
   "source": [
    "arr6.prod(axis=1)"
   ]
  },
  {
   "cell_type": "markdown",
   "id": "61d76103-0215-4b8c-8c5e-a85f2549f55d",
   "metadata": {},
   "source": [
    "### Operations on Two Arrays  \n",
    "Assume arrays have the same shape"
   ]
  },
  {
   "cell_type": "code",
   "execution_count": 100,
   "id": "48ee35b8-1df4-49d9-a902-0b53197b670a",
   "metadata": {},
   "outputs": [
    {
     "data": {
      "text/plain": [
       "array([[ 0, 10, 20],\n",
       "       [30, 40, 50]])"
      ]
     },
     "execution_count": 100,
     "metadata": {},
     "output_type": "execute_result"
    }
   ],
   "source": [
    "arr60 = arr6 * 10\n",
    "arr60"
   ]
  },
  {
   "cell_type": "code",
   "execution_count": 104,
   "id": "cd22a448-34f3-409d-86d9-9e74fb55fa43",
   "metadata": {},
   "outputs": [
    {
     "data": {
      "text/plain": [
       "array([[ 0, 11, 22],\n",
       "       [33, 44, 55]])"
      ]
     },
     "execution_count": 104,
     "metadata": {},
     "output_type": "execute_result"
    }
   ],
   "source": [
    "arr6 + arr60 #elementwise addition"
   ]
  },
  {
   "cell_type": "code",
   "execution_count": 106,
   "id": "389be476-a931-45bc-914e-db20972977fb",
   "metadata": {},
   "outputs": [
    {
     "data": {
      "text/plain": [
       "array([[  0,  10,  40],\n",
       "       [ 90, 160, 250]])"
      ]
     },
     "execution_count": 106,
     "metadata": {},
     "output_type": "execute_result"
    }
   ],
   "source": [
    "arr6 * arr60"
   ]
  },
  {
   "cell_type": "markdown",
   "id": "b78ca177-524a-45cd-abac-e06340880892",
   "metadata": {},
   "source": [
    "### Indexing an Array\n",
    "indexing does not return a copy, it results in a **view** of the array. "
   ]
  },
  {
   "cell_type": "code",
   "execution_count": 109,
   "id": "e4b889b2-b964-4820-bec7-406bf83645aa",
   "metadata": {},
   "outputs": [
    {
     "data": {
      "text/plain": [
       "array([[ 0,  1,  2,  3],\n",
       "       [ 4,  5,  6,  7],\n",
       "       [ 8,  9, 10, 11]])"
      ]
     },
     "execution_count": 109,
     "metadata": {},
     "output_type": "execute_result"
    }
   ],
   "source": [
    "arr12 = np.arange(12).reshape(3, 4)\n",
    "arr12"
   ]
  },
  {
   "cell_type": "code",
   "execution_count": 111,
   "id": "19571917-4626-4a22-a7b1-2696ab64772d",
   "metadata": {},
   "outputs": [
    {
     "data": {
      "text/plain": [
       "array([4, 5, 6, 7])"
      ]
     },
     "execution_count": 111,
     "metadata": {},
     "output_type": "execute_result"
    }
   ],
   "source": [
    "arr12[1]"
   ]
  },
  {
   "cell_type": "code",
   "execution_count": 113,
   "id": "3f165f5e-1038-41ee-a2f2-de2c7490263a",
   "metadata": {},
   "outputs": [
    {
     "data": {
      "text/plain": [
       "6"
      ]
     },
     "execution_count": 113,
     "metadata": {},
     "output_type": "execute_result"
    }
   ],
   "source": [
    "arr12[1][2]"
   ]
  },
  {
   "cell_type": "code",
   "execution_count": 115,
   "id": "e2091314-69d0-41b2-a2e4-06ca40727c71",
   "metadata": {},
   "outputs": [
    {
     "data": {
      "text/plain": [
       "6"
      ]
     },
     "execution_count": 115,
     "metadata": {},
     "output_type": "execute_result"
    }
   ],
   "source": [
    "#same\n",
    "arr12[1, 2]"
   ]
  },
  {
   "cell_type": "code",
   "execution_count": 119,
   "id": "1df6ab0a-d869-41e5-9cb4-1f334f9e2f02",
   "metadata": {},
   "outputs": [
    {
     "data": {
      "text/plain": [
       "array([ 2,  6, 10])"
      ]
     },
     "execution_count": 119,
     "metadata": {},
     "output_type": "execute_result"
    }
   ],
   "source": [
    "arr12[:, 2] #3rd column"
   ]
  },
  {
   "cell_type": "code",
   "execution_count": 121,
   "id": "7e5eed1c-1e5b-4bcf-82e7-8ffdc9fdbd41",
   "metadata": {},
   "outputs": [
    {
     "data": {
      "text/plain": [
       "array([[4, 5],\n",
       "       [8, 9]])"
      ]
     },
     "execution_count": 121,
     "metadata": {},
     "output_type": "execute_result"
    }
   ],
   "source": [
    "arr12[1:, :2] # row with index 1 'til the end, first 2 columns"
   ]
  },
  {
   "cell_type": "markdown",
   "id": "ee98a27f-167a-4f58-a216-4974af776b87",
   "metadata": {},
   "source": [
    "### Iteration"
   ]
  },
  {
   "cell_type": "code",
   "execution_count": 124,
   "id": "4e6ed304-e9e1-47b6-bc9f-ab042ae58d69",
   "metadata": {},
   "outputs": [
    {
     "name": "stdout",
     "output_type": "stream",
     "text": [
      "[0 1 2 3]\n",
      "[4 5 6 7]\n",
      "[ 8  9 10 11]\n"
     ]
    }
   ],
   "source": [
    "for x in arr12:\n",
    "    print(x)"
   ]
  },
  {
   "cell_type": "markdown",
   "id": "1896ade0-2b18-4683-a734-43d588652586",
   "metadata": {},
   "source": [
    "using the homework weighted average problem  \n",
    "weighted average = revenue / numsold"
   ]
  },
  {
   "cell_type": "code",
   "execution_count": 129,
   "id": "6fa10afd-a868-48cb-8817-a955acf6d6da",
   "metadata": {},
   "outputs": [],
   "source": [
    "price = np.array([84, 78, 46])\n",
    "nsold = np.array([14050, 13500, 63360])"
   ]
  },
  {
   "cell_type": "code",
   "execution_count": 132,
   "id": "a11e82e0-3e5d-4abf-9787-4f6308d37c01",
   "metadata": {},
   "outputs": [
    {
     "data": {
      "text/plain": [
       "array([1180200, 1053000, 2914560])"
      ]
     },
     "execution_count": 132,
     "metadata": {},
     "output_type": "execute_result"
    }
   ],
   "source": [
    "rev = price * nsold\n",
    "rev"
   ]
  },
  {
   "cell_type": "code",
   "execution_count": 134,
   "id": "c545ac6c-bce0-4c80-aee0-b310010d3d3e",
   "metadata": {},
   "outputs": [],
   "source": [
    "weighted_avg = rev.sum() / nsold.sum()"
   ]
  },
  {
   "cell_type": "code",
   "execution_count": 136,
   "id": "0faabf19-b74d-4d89-838f-15d16e124a3e",
   "metadata": {},
   "outputs": [
    {
     "data": {
      "text/plain": [
       "56.62479375206248"
      ]
     },
     "execution_count": 136,
     "metadata": {},
     "output_type": "execute_result"
    }
   ],
   "source": [
    "weighted_avg"
   ]
  },
  {
   "cell_type": "code",
   "execution_count": 144,
   "id": "9fe537e1-8d29-4e8e-b6e9-1b98c43236ec",
   "metadata": {},
   "outputs": [
    {
     "data": {
      "text/plain": [
       "56.62479375206248"
      ]
     },
     "execution_count": 144,
     "metadata": {},
     "output_type": "execute_result"
    }
   ],
   "source": [
    "# dot product\n",
    "np.dot(price, nsold) / nsold.sum()"
   ]
  },
  {
   "cell_type": "markdown",
   "id": "53ae86d4-6e6a-494e-8332-39e8df48b452",
   "metadata": {},
   "source": [
    "Flattening an Array"
   ]
  },
  {
   "cell_type": "code",
   "execution_count": 151,
   "id": "d9775ad5-16bd-442a-b964-9f34813f247e",
   "metadata": {},
   "outputs": [
    {
     "data": {
      "text/plain": [
       "array([0, 1, 2, 3, 4, 5])"
      ]
     },
     "execution_count": 151,
     "metadata": {},
     "output_type": "execute_result"
    }
   ],
   "source": [
    "arr6.flatten() # undo reshape, return a one-dimensional array (copy)"
   ]
  },
  {
   "cell_type": "code",
   "execution_count": 153,
   "id": "ff2d6eea-fccc-428c-85ff-1bcae3d67890",
   "metadata": {},
   "outputs": [
    {
     "data": {
      "text/plain": [
       "array([[0, 1, 2],\n",
       "       [3, 4, 5]])"
      ]
     },
     "execution_count": 153,
     "metadata": {},
     "output_type": "execute_result"
    }
   ],
   "source": [
    "arr6"
   ]
  },
  {
   "cell_type": "markdown",
   "id": "4593e70c-df79-4cc1-a383-422b2ce2fccd",
   "metadata": {},
   "source": [
    "Transpose an array"
   ]
  },
  {
   "cell_type": "code",
   "execution_count": 156,
   "id": "2a30e22a-da00-45ba-9faf-6cb219144db6",
   "metadata": {},
   "outputs": [
    {
     "data": {
      "text/plain": [
       "array([[0, 3],\n",
       "       [1, 4],\n",
       "       [2, 5]])"
      ]
     },
     "execution_count": 156,
     "metadata": {},
     "output_type": "execute_result"
    }
   ],
   "source": [
    "arr6.T"
   ]
  },
  {
   "cell_type": "code",
   "execution_count": 158,
   "id": "0b55810e-0b3d-4668-bdbe-f690b5acaadf",
   "metadata": {},
   "outputs": [
    {
     "data": {
      "text/plain": [
       "array([[0, 3],\n",
       "       [1, 4],\n",
       "       [2, 5]])"
      ]
     },
     "execution_count": 158,
     "metadata": {},
     "output_type": "execute_result"
    }
   ],
   "source": [
    "np.transpose(arr6)"
   ]
  },
  {
   "cell_type": "markdown",
   "id": "6a723f10-5fcf-4531-9811-7ac949051a14",
   "metadata": {},
   "source": [
    "Concatenating Arrays"
   ]
  },
  {
   "cell_type": "code",
   "execution_count": 161,
   "id": "5a235dce-a7ee-4788-98bd-9a99cccd73e3",
   "metadata": {},
   "outputs": [
    {
     "data": {
      "text/plain": [
       "(array([[0, 1, 2],\n",
       "        [3, 4, 5]]),\n",
       " array([[ 0, 10, 20],\n",
       "        [30, 40, 50]]))"
      ]
     },
     "execution_count": 161,
     "metadata": {},
     "output_type": "execute_result"
    }
   ],
   "source": [
    "arr6, arr60"
   ]
  },
  {
   "cell_type": "code",
   "execution_count": 163,
   "id": "7cdcd18a-f1fc-41d3-977b-ca22a24d8d09",
   "metadata": {},
   "outputs": [
    {
     "data": {
      "text/plain": [
       "array([[ 0,  1,  2],\n",
       "       [ 3,  4,  5],\n",
       "       [ 0, 10, 20],\n",
       "       [30, 40, 50]])"
      ]
     },
     "execution_count": 163,
     "metadata": {},
     "output_type": "execute_result"
    }
   ],
   "source": [
    "np.vstack([arr6, arr60]) #vertical stack"
   ]
  },
  {
   "cell_type": "code",
   "execution_count": 169,
   "id": "06905b44-eab7-4df9-878c-0cfa90d97913",
   "metadata": {},
   "outputs": [
    {
     "data": {
      "text/plain": [
       "array([[ 0,  1,  2,  0, 10, 20],\n",
       "       [ 3,  4,  5, 30, 40, 50]])"
      ]
     },
     "execution_count": 169,
     "metadata": {},
     "output_type": "execute_result"
    }
   ],
   "source": [
    "np.hstack([arr6, arr60]) #horizontal stack"
   ]
  },
  {
   "cell_type": "markdown",
   "id": "044f42e3-96bd-4bb3-99d7-124458a51cc5",
   "metadata": {},
   "source": [
    "The `.concatenate()` method is more general"
   ]
  },
  {
   "cell_type": "code",
   "execution_count": 174,
   "id": "25627754-b9e8-4c13-836d-f1f73d9f7849",
   "metadata": {},
   "outputs": [
    {
     "data": {
      "text/plain": [
       "array([[ 0,  1,  2],\n",
       "       [ 3,  4,  5],\n",
       "       [ 0, 10, 20],\n",
       "       [30, 40, 50]])"
      ]
     },
     "execution_count": 174,
     "metadata": {},
     "output_type": "execute_result"
    }
   ],
   "source": [
    "np.concatenate([arr6, arr60], axis=0)"
   ]
  },
  {
   "cell_type": "code",
   "execution_count": 176,
   "id": "9748e7da-599a-431d-b85b-b099c3a92310",
   "metadata": {},
   "outputs": [
    {
     "data": {
      "text/plain": [
       "array([[ 0,  1,  2,  0, 10, 20],\n",
       "       [ 3,  4,  5, 30, 40, 50]])"
      ]
     },
     "execution_count": 176,
     "metadata": {},
     "output_type": "execute_result"
    }
   ],
   "source": [
    "np.concatenate([arr6, arr60], axis=1)"
   ]
  },
  {
   "cell_type": "code",
   "execution_count": null,
   "id": "26acc038-cc84-454e-95a2-c4eb99da161c",
   "metadata": {},
   "outputs": [],
   "source": []
  }
 ],
 "metadata": {
  "kernelspec": {
   "display_name": "Python 3 (ipykernel)",
   "language": "python",
   "name": "python3"
  },
  "language_info": {
   "codemirror_mode": {
    "name": "ipython",
    "version": 3
   },
   "file_extension": ".py",
   "mimetype": "text/x-python",
   "name": "python",
   "nbconvert_exporter": "python",
   "pygments_lexer": "ipython3",
   "version": "3.12.4"
  }
 },
 "nbformat": 4,
 "nbformat_minor": 5
}
