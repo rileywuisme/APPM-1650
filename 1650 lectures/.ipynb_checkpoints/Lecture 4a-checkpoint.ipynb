{
 "cells": [
  {
   "cell_type": "markdown",
   "id": "40f58245-8143-4fbd-9832-20e296508dd1",
   "metadata": {},
   "source": [
    "### Lecture 4a"
   ]
  },
  {
   "cell_type": "markdown",
   "id": "81b27fac-6c25-4eb0-b1b8-0817a81f4b32",
   "metadata": {},
   "source": [
    "warm-up"
   ]
  },
  {
   "cell_type": "code",
   "execution_count": 20,
   "id": "97f35f3f-7d69-4fdd-929d-8da78d0ea37c",
   "metadata": {},
   "outputs": [],
   "source": [
    "nums = []\n",
    "\n",
    "for num in range(7, 208, 10):\n",
    "    nums.append(num/100)"
   ]
  },
  {
   "cell_type": "code",
   "execution_count": 24,
   "id": "274ea915-0b65-4d59-98f4-6c58c17b079e",
   "metadata": {},
   "outputs": [
    {
     "data": {
      "text/plain": [
       "[0.07,\n",
       " 0.17,\n",
       " 0.27,\n",
       " 0.37,\n",
       " 0.47,\n",
       " 0.57,\n",
       " 0.67,\n",
       " 0.77,\n",
       " 0.87,\n",
       " 0.97,\n",
       " 1.07,\n",
       " 1.17,\n",
       " 1.27,\n",
       " 1.37,\n",
       " 1.47,\n",
       " 1.57,\n",
       " 1.67,\n",
       " 1.77,\n",
       " 1.87,\n",
       " 1.97,\n",
       " 2.07]"
      ]
     },
     "execution_count": 24,
     "metadata": {},
     "output_type": "execute_result"
    }
   ],
   "source": [
    "nums"
   ]
  },
  {
   "cell_type": "code",
   "execution_count": 28,
   "id": "1a9d25b5-8e2a-49fa-9194-a6ae3e5c46e6",
   "metadata": {},
   "outputs": [],
   "source": [
    "# Solution 1\n",
    "nums = []\n",
    "\n",
    "for n in range(0, 210, 10):\n",
    "    nums.append((n + 7)/100)"
   ]
  },
  {
   "cell_type": "code",
   "execution_count": 30,
   "id": "32234b32-98e7-4d24-905e-20cb3653075a",
   "metadata": {},
   "outputs": [],
   "source": [
    "# Solution 2\n",
    "nums = []\n",
    "\n",
    "for num in range (0, 21):\n",
    "    nums.append((0.1 * num) + 0.7)"
   ]
  },
  {
   "cell_type": "code",
   "execution_count": 32,
   "id": "a6ce032f-ec79-4789-8707-33be8c030d28",
   "metadata": {},
   "outputs": [
    {
     "data": {
      "text/plain": [
       "[0.07,\n",
       " 0.17,\n",
       " 0.27,\n",
       " 0.37,\n",
       " 0.47,\n",
       " 0.57,\n",
       " 0.6699999999999999,\n",
       " 0.7699999999999999,\n",
       " 0.8699999999999999,\n",
       " 0.9699999999999999,\n",
       " 1.0699999999999998,\n",
       " 1.17,\n",
       " 1.27,\n",
       " 1.37,\n",
       " 1.4700000000000002,\n",
       " 1.5700000000000003,\n",
       " 1.6700000000000004,\n",
       " 1.7700000000000005,\n",
       " 1.8700000000000006,\n",
       " 1.9700000000000006,\n",
       " 2.0700000000000007]"
      ]
     },
     "execution_count": 32,
     "metadata": {},
     "output_type": "execute_result"
    }
   ],
   "source": [
    "# Solution 3\n",
    "nums = []\n",
    "curr = 0.07\n",
    "\n",
    "for n in range(21):\n",
    "    nums.append(curr)\n",
    "    curr += 0.1\n",
    "\n",
    "nums"
   ]
  },
  {
   "cell_type": "markdown",
   "id": "eca00378-59e0-4215-922b-d964be455bcc",
   "metadata": {},
   "source": [
    "### List Membership\n",
    "The in operator"
   ]
  },
  {
   "cell_type": "code",
   "execution_count": 35,
   "id": "9c1d8714-849d-40cf-a170-5ec09992e7bf",
   "metadata": {},
   "outputs": [],
   "source": [
    "nums = [6, 8, 10]"
   ]
  },
  {
   "cell_type": "code",
   "execution_count": 37,
   "id": "0b2197c5-fd87-4dc2-9e6d-3c266df76917",
   "metadata": {},
   "outputs": [
    {
     "data": {
      "text/plain": [
       "True"
      ]
     },
     "execution_count": 37,
     "metadata": {},
     "output_type": "execute_result"
    }
   ],
   "source": [
    "6 in nums"
   ]
  },
  {
   "cell_type": "code",
   "execution_count": 39,
   "id": "d96f52ed-c433-4069-af26-0190c5eb3ebd",
   "metadata": {},
   "outputs": [
    {
     "data": {
      "text/plain": [
       "False"
      ]
     },
     "execution_count": 39,
     "metadata": {},
     "output_type": "execute_result"
    }
   ],
   "source": [
    "3 in nums"
   ]
  },
  {
   "cell_type": "code",
   "execution_count": 41,
   "id": "949078c3-d333-44ec-bc7c-9cc258620884",
   "metadata": {},
   "outputs": [
    {
     "data": {
      "text/plain": [
       "True"
      ]
     },
     "execution_count": 41,
     "metadata": {},
     "output_type": "execute_result"
    }
   ],
   "source": [
    "3 not in nums #preferred expression"
   ]
  },
  {
   "cell_type": "code",
   "execution_count": 43,
   "id": "8729a677-04a8-449c-9891-39b81c1b702c",
   "metadata": {},
   "outputs": [
    {
     "data": {
      "text/plain": [
       "True"
      ]
     },
     "execution_count": 43,
     "metadata": {},
     "output_type": "execute_result"
    }
   ],
   "source": [
    "not 2 in nums"
   ]
  },
  {
   "cell_type": "markdown",
   "id": "60830324-0422-4bb0-ad87-7974d8865188",
   "metadata": {},
   "source": [
    "### Counting Instances of an Element in a List"
   ]
  },
  {
   "cell_type": "code",
   "execution_count": 46,
   "id": "03db7286-a8db-49f7-9db3-5c827e71329a",
   "metadata": {},
   "outputs": [],
   "source": [
    "tens = [10, 20, 10, 20, 20]"
   ]
  },
  {
   "cell_type": "code",
   "execution_count": 48,
   "id": "ec146544-73de-45ef-b1d4-1b73c729cf51",
   "metadata": {},
   "outputs": [
    {
     "data": {
      "text/plain": [
       "3"
      ]
     },
     "execution_count": 48,
     "metadata": {},
     "output_type": "execute_result"
    }
   ],
   "source": [
    "tens.count(20)"
   ]
  },
  {
   "cell_type": "code",
   "execution_count": 50,
   "id": "17fe25ba-33c3-4b66-af61-516bc3bdf7ae",
   "metadata": {},
   "outputs": [
    {
     "data": {
      "text/plain": [
       "0"
      ]
     },
     "execution_count": 50,
     "metadata": {},
     "output_type": "execute_result"
    }
   ],
   "source": [
    "tens.count(25)"
   ]
  },
  {
   "cell_type": "markdown",
   "id": "b90c311a-a6cc-4ce7-85c4-209502605786",
   "metadata": {},
   "source": [
    "### Looping over Strings"
   ]
  },
  {
   "cell_type": "code",
   "execution_count": 53,
   "id": "be877778-a926-4962-a386-f98c51ba20a5",
   "metadata": {},
   "outputs": [],
   "source": [
    "word = 'frog'"
   ]
  },
  {
   "cell_type": "code",
   "execution_count": 55,
   "id": "77c008cc-286b-4b09-9d15-a9e1ca3fcfa0",
   "metadata": {},
   "outputs": [
    {
     "data": {
      "text/plain": [
       "'r'"
      ]
     },
     "execution_count": 55,
     "metadata": {},
     "output_type": "execute_result"
    }
   ],
   "source": [
    "word[1]"
   ]
  },
  {
   "cell_type": "code",
   "execution_count": 57,
   "id": "ce7d2188-4a8f-43e6-a167-3d795c7aa51e",
   "metadata": {},
   "outputs": [
    {
     "data": {
      "text/plain": [
       "'fr'"
      ]
     },
     "execution_count": 57,
     "metadata": {},
     "output_type": "execute_result"
    }
   ],
   "source": [
    "word[:2]"
   ]
  },
  {
   "cell_type": "code",
   "execution_count": 61,
   "id": "d8e4fde6-e2e6-4c5f-b29f-09f061cff3ee",
   "metadata": {},
   "outputs": [
    {
     "name": "stdout",
     "output_type": "stream",
     "text": [
      "frog"
     ]
    }
   ],
   "source": [
    "for ch in word: \n",
    "    print(ch, end = '')"
   ]
  },
  {
   "cell_type": "markdown",
   "id": "f7c3f309-9584-449b-8b58-039c7b532889",
   "metadata": {},
   "source": [
    "### Acumulating a Product\n",
    "Calculate the product of the numbers in a list."
   ]
  },
  {
   "cell_type": "code",
   "execution_count": 67,
   "id": "1f3c611d-9b4a-4fe0-b719-c33d6864d027",
   "metadata": {},
   "outputs": [],
   "source": [
    "def product(nums):\n",
    "    '''Return the product of the elements of nums. \n",
    "        Assume nums is a non-empty list of numbers.'''\n",
    "\n",
    "    prod = 1\n",
    "\n",
    "    for n in nums:\n",
    "        prod *= n\n",
    "\n",
    "    return prod"
   ]
  },
  {
   "cell_type": "code",
   "execution_count": 72,
   "id": "df49aef7-0c7e-41ea-ba6d-05fc85996365",
   "metadata": {},
   "outputs": [
    {
     "data": {
      "text/plain": [
       "[6, 8, 10]"
      ]
     },
     "execution_count": 72,
     "metadata": {},
     "output_type": "execute_result"
    }
   ],
   "source": [
    "nums"
   ]
  },
  {
   "cell_type": "code",
   "execution_count": 74,
   "id": "3373990f-8043-4996-b072-b0ba577f9215",
   "metadata": {},
   "outputs": [
    {
     "data": {
      "text/plain": [
       "480"
      ]
     },
     "execution_count": 74,
     "metadata": {},
     "output_type": "execute_result"
    }
   ],
   "source": [
    "product(nums)"
   ]
  },
  {
   "cell_type": "code",
   "execution_count": 84,
   "id": "bf31bc18-7fda-4279-aaf3-e5ca649eb4bd",
   "metadata": {},
   "outputs": [],
   "source": [
    "def product(nums):\n",
    "    '''Return the product of the elements of nums. \n",
    "        Assume nums is a non-empty list of numbers.'''\n",
    "\n",
    "    prod = 1\n",
    "\n",
    "    for i in range(len(nums)):\n",
    "        prod *= nums[i]\n",
    "\n",
    "    return prod"
   ]
  },
  {
   "cell_type": "code",
   "execution_count": 86,
   "id": "630c549e-cb15-4ac1-94bd-bbd67ad0313f",
   "metadata": {},
   "outputs": [
    {
     "data": {
      "text/plain": [
       "480"
      ]
     },
     "execution_count": 86,
     "metadata": {},
     "output_type": "execute_result"
    }
   ],
   "source": [
    "product(nums)"
   ]
  },
  {
   "cell_type": "markdown",
   "id": "6ab7da00-27fe-4de7-adea-cc2f7841b2aa",
   "metadata": {},
   "source": [
    "### Return a list of boolean values"
   ]
  },
  {
   "cell_type": "markdown",
   "id": "c19bd533-8c4d-4e72-849e-a96899678358",
   "metadata": {},
   "source": [
    "'is_mult_ten(nums)' takes a list of 'int's and returns a list containing 'True' for each element divisible by 10, and 'False' otherwise. "
   ]
  },
  {
   "cell_type": "code",
   "execution_count": null,
   "id": "a5b8ea0c-3320-44ce-9fe1-435869f28e64",
   "metadata": {},
   "outputs": [],
   "source": [
    "def is_mult_ten(nums):\n",
    "\n",
    "    by_ten = []\n",
    "\n",
    "    for i in nums:\n",
    "        by_ten.append(i % 10 == 0)\n",
    "\n",
    "    return by_ten"
   ]
  },
  {
   "cell_type": "code",
   "execution_count": 98,
   "id": "07228284-1ecc-4f69-a211-1814258ec4fc",
   "metadata": {},
   "outputs": [
    {
     "data": {
      "text/plain": [
       "[False, False, True]"
      ]
     },
     "execution_count": 98,
     "metadata": {},
     "output_type": "execute_result"
    }
   ],
   "source": [
    "is_mult_ten(nums)"
   ]
  },
  {
   "cell_type": "code",
   "execution_count": 100,
   "id": "3f032e7a-1107-4347-bbf4-153b2acd248a",
   "metadata": {},
   "outputs": [
    {
     "data": {
      "text/plain": [
       "[True, True, True, True, True]"
      ]
     },
     "execution_count": 100,
     "metadata": {},
     "output_type": "execute_result"
    }
   ],
   "source": [
    "is_mult_ten(tens)"
   ]
  },
  {
   "cell_type": "markdown",
   "id": "7e6ac9aa-f22a-4e44-b648-587ba02eb5f9",
   "metadata": {},
   "source": [
    "all_mult_ten(nums) returns 'True' if all integers in nums are divisible by 10 and returns 'False' otherwise."
   ]
  },
  {
   "cell_type": "code",
   "execution_count": 109,
   "id": "311eec32-bf2a-45a7-af77-0648b4b227d9",
   "metadata": {},
   "outputs": [],
   "source": [
    "def all_mult_ten(nums):\n",
    "    for n in nums:\n",
    "        if n % 10 != 0:\n",
    "            return False\n",
    "            \n",
    "    return True"
   ]
  },
  {
   "cell_type": "code",
   "execution_count": 111,
   "id": "42954d78-006f-4c8d-bada-c9c0955aa73e",
   "metadata": {},
   "outputs": [
    {
     "data": {
      "text/plain": [
       "False"
      ]
     },
     "execution_count": 111,
     "metadata": {},
     "output_type": "execute_result"
    }
   ],
   "source": [
    "all_mult_ten(nums)"
   ]
  },
  {
   "cell_type": "code",
   "execution_count": 113,
   "id": "b653af20-83eb-454b-a4ec-7f6ba0c03747",
   "metadata": {},
   "outputs": [
    {
     "data": {
      "text/plain": [
       "True"
      ]
     },
     "execution_count": 113,
     "metadata": {},
     "output_type": "execute_result"
    }
   ],
   "source": [
    "all_mult_ten(tens)"
   ]
  },
  {
   "cell_type": "markdown",
   "id": "115fb83a-05bf-4d55-b56b-1bc1bccfc222",
   "metadata": {},
   "source": [
    "### Finding a Max Value in a List"
   ]
  },
  {
   "cell_type": "code",
   "execution_count": 118,
   "id": "85144654-b286-469f-ae89-8e7b5716c53d",
   "metadata": {},
   "outputs": [],
   "source": [
    "def max_strlen(strings):\n",
    "    '''Return the length of the longest string in strings.\n",
    "        Assume that strings is a non-empty list of strings.'''\n",
    "\n",
    "    maxlen = 0\n",
    "\n",
    "    for s in strings:\n",
    "        if len(s) > maxlen:\n",
    "            maxlen = len(s)\n",
    "\n",
    "    return maxlen"
   ]
  },
  {
   "cell_type": "code",
   "execution_count": 128,
   "id": "a19e837d-6765-44c2-aded-e3dddcedf482",
   "metadata": {},
   "outputs": [],
   "source": [
    "words = ['frog', 'pig', 'horse', 'kangaroo']"
   ]
  },
  {
   "cell_type": "code",
   "execution_count": 122,
   "id": "dfaff55d-6cb6-4424-b283-6890d05f2268",
   "metadata": {},
   "outputs": [
    {
     "data": {
      "text/plain": [
       "8"
      ]
     },
     "execution_count": 122,
     "metadata": {},
     "output_type": "execute_result"
    }
   ],
   "source": [
    "max_strlen(words)"
   ]
  },
  {
   "cell_type": "code",
   "execution_count": 132,
   "id": "bc5429d0-9611-48ab-b94b-5693f059f717",
   "metadata": {},
   "outputs": [],
   "source": [
    "def max_str(strings):\n",
    "    '''Return the longest string in strings.\n",
    "        If there are 2 or more strings with the same max length,\n",
    "        return the first.'''\n",
    "    max_string = ''\n",
    "\n",
    "    for s in strings:\n",
    "        if len(s) > len(max_string):\n",
    "            max_string = s\n",
    "\n",
    "    return max_string"
   ]
  },
  {
   "cell_type": "code",
   "execution_count": 134,
   "id": "f2f8487a-5fa7-43c9-a02e-4dce9b1c4659",
   "metadata": {},
   "outputs": [
    {
     "data": {
      "text/plain": [
       "'kangaroo'"
      ]
     },
     "execution_count": 134,
     "metadata": {},
     "output_type": "execute_result"
    }
   ],
   "source": [
    "max_str(words)"
   ]
  },
  {
   "cell_type": "code",
   "execution_count": null,
   "id": "2445ac01-b63d-41b9-901c-e319a250aac9",
   "metadata": {},
   "outputs": [],
   "source": []
  }
 ],
 "metadata": {
  "kernelspec": {
   "display_name": "Python 3 (ipykernel)",
   "language": "python",
   "name": "python3"
  },
  "language_info": {
   "codemirror_mode": {
    "name": "ipython",
    "version": 3
   },
   "file_extension": ".py",
   "mimetype": "text/x-python",
   "name": "python",
   "nbconvert_exporter": "python",
   "pygments_lexer": "ipython3",
   "version": "3.12.4"
  }
 },
 "nbformat": 4,
 "nbformat_minor": 5
}
