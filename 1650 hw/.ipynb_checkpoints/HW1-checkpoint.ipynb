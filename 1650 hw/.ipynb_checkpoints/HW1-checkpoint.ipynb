{
 "cells": [
  {
   "cell_type": "markdown",
   "metadata": {
    "tags": []
   },
   "source": [
    "# Homework 1\n",
    "\n",
    "**Name your notebook** `HW1.ipynb`. When done with the assignment, you must export this notebook to `.py` format and upload to Gradescope for autograding. See below for instructions.\n",
    "\n",
    "---\n",
    "\n",
    "*Answers shown are rounded to 6 decimal digits. Unless specified it is not necessary for you to round your answers.*\n"
   ]
  },
  {
   "cell_type": "markdown",
   "metadata": {},
   "source": [
    "### Sum the numbers from 1 to $n$\n",
    "\n",
    "Write a function **`sum_n(n)`** that takes a positive integer `n` and returns the sum of the numbers from 1 to `n` using the formula\n",
    "$$ S = \\frac{n(n+1)}{2}.$$\n",
    "\n",
    "The return value should be an `int`, not a `float`.\n",
    "\n",
    " Examples:  \n",
    " `sum_n(3)` returns `6`.<br>\n",
    " `sum_n(100)` returns `5050`."
   ]
  },
  {
   "cell_type": "code",
   "execution_count": 366,
   "metadata": {},
   "outputs": [],
   "source": [
    "def sum_n(n):\n",
    "    return int((n * (n+1))/2)"
   ]
  },
  {
   "cell_type": "code",
   "execution_count": 367,
   "metadata": {},
   "outputs": [
    {
     "data": {
      "text/plain": [
       "6"
      ]
     },
     "execution_count": 367,
     "metadata": {},
     "output_type": "execute_result"
    }
   ],
   "source": [
    "sum_n(3)"
   ]
  },
  {
   "cell_type": "code",
   "execution_count": 368,
   "metadata": {},
   "outputs": [
    {
     "data": {
      "text/plain": [
       "5050"
      ]
     },
     "execution_count": 368,
     "metadata": {},
     "output_type": "execute_result"
    }
   ],
   "source": [
    "sum_n(100)"
   ]
  },
  {
   "cell_type": "markdown",
   "metadata": {},
   "source": [
    "### Sum the first $n$ cubes\n",
    "\n",
    "Write a function **`sum_cubes(n)`** that takes a positive integer `n` and returns the sum of the first `n` cubes using the formula\n",
    "$$ S = \\left(\\frac{n(n+1)}{2}\\right)^2.$$\n",
    "\n",
    "The return value should be an `int`, not a `float`. The function should call the `sum_n()` function. \n",
    "\n",
    " Example:  \n",
    " `sum_cubes(25)` returns `105625`."
   ]
  },
  {
   "cell_type": "code",
   "execution_count": 370,
   "metadata": {},
   "outputs": [],
   "source": [
    "def sum_cubes(n):\n",
    "    return int(((n * (n+1))/2) ** 2)"
   ]
  },
  {
   "cell_type": "code",
   "execution_count": 371,
   "metadata": {},
   "outputs": [
    {
     "data": {
      "text/plain": [
       "105625"
      ]
     },
     "execution_count": 371,
     "metadata": {},
     "output_type": "execute_result"
    }
   ],
   "source": [
    "sum_cubes(25)"
   ]
  },
  {
   "cell_type": "markdown",
   "metadata": {},
   "source": [
    "### Ending Digits of a Number\n",
    "\n",
    "Write a function **`end_digits(num, ndigits)`** that returns the last `ndigits` digits of a non-negative integer `num`. Use the `%` operator. Assume that `ndigits` is a positive integer.\n",
    "\n",
    "Examples:  \n",
    "`end_digits(2468, 3)` returns `468`, an `int`.<br>\n",
    "`end_digits(2468, 5)` returns `2468`, an `int`."
   ]
  },
  {
   "cell_type": "code",
   "execution_count": 373,
   "metadata": {},
   "outputs": [],
   "source": [
    "def end_digits(num, ndigits):\n",
    "    return num % (10 ** (ndigits))"
   ]
  },
  {
   "cell_type": "code",
   "execution_count": 374,
   "metadata": {},
   "outputs": [
    {
     "data": {
      "text/plain": [
       "468"
      ]
     },
     "execution_count": 374,
     "metadata": {},
     "output_type": "execute_result"
    }
   ],
   "source": [
    "end_digits(2468, 3)"
   ]
  },
  {
   "cell_type": "code",
   "execution_count": 375,
   "metadata": {},
   "outputs": [
    {
     "data": {
      "text/plain": [
       "2468"
      ]
     },
     "execution_count": 375,
     "metadata": {},
     "output_type": "execute_result"
    }
   ],
   "source": [
    "end_digits(2468, 5)"
   ]
  },
  {
   "cell_type": "markdown",
   "metadata": {},
   "source": [
    "### Golden Ratio\n",
    "\n",
    "The **golden ratio** $\\phi$ (called *phi*) equals the positive root of $x^2 - x - 1=0$. Write a function **`phi()`** that returns the golden ratio. (*Hint:* First use the quadratic formula to determine (by hand) the exact value of $\\phi$. The function should return this exact value.)"
   ]
  },
  {
   "cell_type": "code",
   "execution_count": 377,
   "metadata": {},
   "outputs": [],
   "source": [
    "import math"
   ]
  },
  {
   "cell_type": "code",
   "execution_count": 378,
   "metadata": {},
   "outputs": [],
   "source": [
    "def phi():\n",
    "    return (1 + math.sqrt(5))/2"
   ]
  },
  {
   "cell_type": "code",
   "execution_count": 379,
   "metadata": {},
   "outputs": [
    {
     "data": {
      "text/plain": [
       "1.618033988749895"
      ]
     },
     "execution_count": 379,
     "metadata": {},
     "output_type": "execute_result"
    }
   ],
   "source": [
    "phi()"
   ]
  },
  {
   "cell_type": "markdown",
   "metadata": {},
   "source": [
    "### Binet's Formula\n",
    "\n",
    "In the *Fibonacci sequence* $1,1,2,3,5,8,\\ldots$, each term is the sum of the previous two terms. For example the next term in the sequence is $13=5+8$.\n",
    "The $n$th Fibonacci number can be computed directly using *Binet's Formula* :\n",
    "$$ F_n = \\dfrac{\\phi^n - \\left(-\\phi\\right)^{-n}}{\\sqrt 5}.$$<br>\n",
    "Write a function **`binet(n)`** that returns the `n`th Fibonacci number as an `int`. The function should call `phi()`.\n",
    "\n",
    "Example:  \n",
    "`binet(6)` returns `8`."
   ]
  },
  {
   "cell_type": "code",
   "execution_count": 381,
   "metadata": {},
   "outputs": [],
   "source": [
    "def binet(n):\n",
    "    return int(((phi()**n - ( - phi())** (-n)))/math.sqrt(5))"
   ]
  },
  {
   "cell_type": "code",
   "execution_count": 382,
   "metadata": {},
   "outputs": [
    {
     "data": {
      "text/plain": [
       "8"
      ]
     },
     "execution_count": 382,
     "metadata": {},
     "output_type": "execute_result"
    }
   ],
   "source": [
    "binet(6)"
   ]
  },
  {
   "cell_type": "markdown",
   "metadata": {},
   "source": [
    "### Heron's Formula\n",
    "\n",
    "* Write a function **`tri_semi(a, b, c)`** that takes the side lengths of a triangle and returns the semiperimeter (half of the perimeter) of the triangle. Assume that $a, b, c > 0$ and that the triangle inequality is satisfied (that the side lengths form a (possibly degenerate) triangle).\n",
    "\n",
    "  Example:  \n",
    "  `tri_semi(5, 29, 30)` returns `32.0`."
   ]
  },
  {
   "cell_type": "code",
   "execution_count": 384,
   "metadata": {},
   "outputs": [],
   "source": [
    "def tri_semi(a, b, c):\n",
    "    a + b == c or a + c == b or b + c == a\n",
    "    return (a + b + c)/2"
   ]
  },
  {
   "cell_type": "code",
   "execution_count": 385,
   "metadata": {},
   "outputs": [
    {
     "data": {
      "text/plain": [
       "32.0"
      ]
     },
     "execution_count": 385,
     "metadata": {},
     "output_type": "execute_result"
    }
   ],
   "source": [
    "tri_semi(5, 29, 30)"
   ]
  },
  {
   "cell_type": "markdown",
   "metadata": {},
   "source": [
    "* Write a function **`heron(a, b, c)`** that takes the side lengths of a triangle and returns the area of the triangle using *Heron's Formula*:\n",
    "\n",
    "  $$ A = \\sqrt{s(s-a)(s-b)(s-c)},$$\n",
    "\n",
    "  where $s$ equals the semiperimeter. Assume that $a, b, c > 0$. The function should call `tri_semi()`. \n",
    "\n",
    "  Example:  \n",
    "  `heron(5, 29, 30)` returns `72.0`."
   ]
  },
  {
   "cell_type": "code",
   "execution_count": 387,
   "metadata": {},
   "outputs": [],
   "source": [
    "def heron(a, b, c):\n",
    "    s = (a + b + c)/2\n",
    "    return math.sqrt(s*(s - a)*(s - b)*(s - c))"
   ]
  },
  {
   "cell_type": "code",
   "execution_count": 388,
   "metadata": {},
   "outputs": [
    {
     "data": {
      "text/plain": [
       "72.0"
      ]
     },
     "execution_count": 388,
     "metadata": {},
     "output_type": "execute_result"
    }
   ],
   "source": [
    "heron(5, 29, 30)"
   ]
  },
  {
   "cell_type": "markdown",
   "metadata": {},
   "source": [
    "### Sine Formula for Triangle Area\n",
    "\n",
    "This formula computes the area of a triangle given any two side lengths $a, b$ and the angle $\\theta$ between them:\n",
    "\n",
    "$$ A = \\tfrac 12 ab\\sin \\theta. $$\n",
    "\n",
    "Write a function **`sine_area(a, b, theta)`** that calculates this area. Assume that $a, b > 0$ and $0 \\le \\theta \\le \\pi$.\n",
    "\n",
    "Example:  \n",
    "`sine_area(14, 15, math.acos(0.6))` returns `84.0`."
   ]
  },
  {
   "cell_type": "code",
   "execution_count": 390,
   "metadata": {},
   "outputs": [],
   "source": [
    "def sine_area(a, b, theta):\n",
    "    return (1/2)*a*b*math.sin(theta)"
   ]
  },
  {
   "cell_type": "code",
   "execution_count": 391,
   "metadata": {},
   "outputs": [
    {
     "data": {
      "text/plain": [
       "84.0"
      ]
     },
     "execution_count": 391,
     "metadata": {},
     "output_type": "execute_result"
    }
   ],
   "source": [
    "sine_area(14, 15, math.acos(0.6))"
   ]
  },
  {
   "cell_type": "markdown",
   "metadata": {},
   "source": [
    "### Extract a Digit\n",
    "\n",
    "Write a function **`digit(num, k)`** that returns the `k`th digit of `num`, counting from the right. Use the `%` operator. Assume that `num` and `k` are positive integers. (*Hint:* Shift the desired digit to the units digit position.)\n",
    "\n",
    "Examples:  \n",
    "`digit(2468, 1)` returns `8`, the units digit.  \n",
    "`digit(2468, 2)` returns `6`, the tens digit.  \n",
    "`digit(2468, 5)` returns `0`."
   ]
  },
  {
   "cell_type": "code",
   "execution_count": 393,
   "metadata": {},
   "outputs": [],
   "source": [
    "def digit(num, k):\n",
    "    return (num // 10 ** (k - 1)) % 10"
   ]
  },
  {
   "cell_type": "code",
   "execution_count": 394,
   "metadata": {},
   "outputs": [
    {
     "data": {
      "text/plain": [
       "8"
      ]
     },
     "execution_count": 394,
     "metadata": {},
     "output_type": "execute_result"
    }
   ],
   "source": [
    "digit(2468, 1)"
   ]
  },
  {
   "cell_type": "code",
   "execution_count": 395,
   "metadata": {},
   "outputs": [
    {
     "data": {
      "text/plain": [
       "6"
      ]
     },
     "execution_count": 395,
     "metadata": {},
     "output_type": "execute_result"
    }
   ],
   "source": [
    "digit(2468, 2)"
   ]
  },
  {
   "cell_type": "code",
   "execution_count": 396,
   "metadata": {},
   "outputs": [
    {
     "data": {
      "text/plain": [
       "0"
      ]
     },
     "execution_count": 396,
     "metadata": {},
     "output_type": "execute_result"
    }
   ],
   "source": [
    "digit(2468, 5)"
   ]
  },
  {
   "cell_type": "markdown",
   "metadata": {},
   "source": [
    "### Upload Your Work to Gradescope\n",
    "\n",
    "For each homework assignment, you will export your notebook to **.py** format to create an executable file for autograding. For some assignments, you also will upload your **.ipynb** file (see the HW schedule).\n",
    "\n",
    "* Make sure that **your name** is written at the top of this file.\n",
    "* In Jupyter, select `File` $\\to$ `Export Notebook as` $\\to$ `Executable Script`. This will create an executable `.py` version of your notebook. (On some computers, you will `Download` to `.py` format.)\n",
    "* **The file must be named `HW1.py`**.\n",
    "* In Gradescope, select the `HW1.py` assignment and upload your `HW1.py` file.\n",
    "* Your solutions will be autograded. Some of the test cases will be hidden.\n",
    "* **Important: Your file must be in the correct format**. If the autograder is unable to grade your work, a score of zero will be given to the assignment.\n"
   ]
  }
 ],
 "metadata": {
  "kernelspec": {
   "display_name": "Python 3 (ipykernel)",
   "language": "python",
   "name": "python3"
  },
  "language_info": {
   "codemirror_mode": {
    "name": "ipython",
    "version": 3
   },
   "file_extension": ".py",
   "mimetype": "text/x-python",
   "name": "python",
   "nbconvert_exporter": "python",
   "pygments_lexer": "ipython3",
   "version": "3.12.4"
  }
 },
 "nbformat": 4,
 "nbformat_minor": 4
}
