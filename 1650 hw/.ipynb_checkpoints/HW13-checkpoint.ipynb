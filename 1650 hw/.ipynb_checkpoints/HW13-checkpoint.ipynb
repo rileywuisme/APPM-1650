{
 "cells": [
  {
   "cell_type": "markdown",
   "metadata": {
    "tags": []
   },
   "source": [
    "# HW 13\n",
    "\n",
    "### **CHOOSE ONE** of the following 2 options:\n",
    "* ### Flavors of Cacao\n",
    "* ### NBA Stats"
   ]
  },
  {
   "cell_type": "code",
   "execution_count": 427,
   "metadata": {},
   "outputs": [],
   "source": [
    "import numpy as np\n",
    "import matplotlib.pyplot as plt\n",
    "import pandas as pd"
   ]
  },
  {
   "cell_type": "markdown",
   "metadata": {},
   "source": [
    "# Option 1: Flavors of Cacao\n",
    "**Upload 2 files** to Gradescope:\n",
    "* `HW13choc.py`\n",
    "* `HW13choc.ipynb`"
   ]
  },
  {
   "cell_type": "markdown",
   "metadata": {},
   "source": [
    "**Read in the file** `'chocolate.csv'` as a pandas dataframe called `dfchoc`. The file, downloaded from flavorsofcacao.com, contains information and ratings for 2400+ dark chocolate bars, 2006 to July 2021.\n",
    "\n",
    "* **REF**: Reference number\n",
    "* **Company**: Manufacturer\n",
    "* **Location**: Manufacturer Location\n",
    "* **Review_Date**: Year\n",
    "* **Country_of_Bean_Origin** \n",
    "* **Specific_Bean_Origin** or Bar Name\n",
    "* **Cocoa_Pct** \n",
    "* **Ingredients**: Number of ingredients followed by B = Beans, S = Sugar, S* = Other Sweetener, C = Cocoa Butter, V = Vanilla, L = Lecithin, Sa = Salt\n",
    "* **Characteristics**: A comma-delimited list of adjectives such as \"cocoa, blackberry, full body\".\n",
    "* **Rating:** Scale of 1 (lowest) to 4 (highest)"
   ]
  },
  {
   "cell_type": "code",
   "execution_count": 430,
   "metadata": {},
   "outputs": [],
   "source": [
    "dfchoc = pd.read_csv('chocolate.csv')"
   ]
  },
  {
   "cell_type": "markdown",
   "metadata": {},
   "source": [
    "### Identifying Missing Data\n",
    "There is one entry in the dataframe that is blank. It is in the `Bean_Origin` column. **Drop the row with the missing entry** from `dfchoc`."
   ]
  },
  {
   "cell_type": "code",
   "execution_count": 432,
   "metadata": {},
   "outputs": [],
   "source": [
    "dfchoc = dfchoc."
   ]
  },
  {
   "cell_type": "markdown",
   "metadata": {},
   "source": [
    "### Which Countries' Beans Are Used Most Often?"
   ]
  },
  {
   "cell_type": "markdown",
   "metadata": {},
   "source": [
    "Write a function **origin_most_bars(dfchoc, nmost)** that returns a list of the `nmost` countries in the `Bean_Origin` column with the most number of bars, ordered from the most bars to the least. If `nmost` is omitted, the default value is 5.\n",
    "\n",
    "Example:  `country_most(dfchoc, 3)` returns `['Venezuela', 'Peru', 'Dominican Republic']`."
   ]
  },
  {
   "cell_type": "code",
   "execution_count": 435,
   "metadata": {},
   "outputs": [],
   "source": [
    "def origin_most_bars(dfchoc, nmost=5):\n",
    "    return dfchoc.Bean_Origin.value_counts().nlargest(nmost).index.tolist()"
   ]
  },
  {
   "cell_type": "code",
   "execution_count": 436,
   "metadata": {},
   "outputs": [
    {
     "ename": "AttributeError",
     "evalue": "'Series' object has no attribute 'Bean_Origin'",
     "output_type": "error",
     "traceback": [
      "\u001b[0;31m---------------------------------------------------------------------------\u001b[0m",
      "\u001b[0;31mAttributeError\u001b[0m                            Traceback (most recent call last)",
      "\u001b[0;32m/var/folders/2m/ffpxvj6x6y9_869rd2330sl00000gn/T/ipykernel_97001/1218310016.py\u001b[0m in \u001b[0;36m?\u001b[0;34m()\u001b[0m\n\u001b[0;32m----> 1\u001b[0;31m \u001b[0morigin_most_bars\u001b[0m\u001b[0;34m(\u001b[0m\u001b[0mdfchoc\u001b[0m\u001b[0;34m,\u001b[0m \u001b[0;36m3\u001b[0m\u001b[0;34m)\u001b[0m\u001b[0;34m\u001b[0m\u001b[0;34m\u001b[0m\u001b[0m\n\u001b[0m",
      "\u001b[0;32m/var/folders/2m/ffpxvj6x6y9_869rd2330sl00000gn/T/ipykernel_97001/1746508039.py\u001b[0m in \u001b[0;36m?\u001b[0;34m(dfchoc, nmost)\u001b[0m\n\u001b[1;32m      1\u001b[0m \u001b[0;32mdef\u001b[0m \u001b[0morigin_most_bars\u001b[0m\u001b[0;34m(\u001b[0m\u001b[0mdfchoc\u001b[0m\u001b[0;34m,\u001b[0m \u001b[0mnmost\u001b[0m\u001b[0;34m=\u001b[0m\u001b[0;36m5\u001b[0m\u001b[0;34m)\u001b[0m\u001b[0;34m:\u001b[0m\u001b[0;34m\u001b[0m\u001b[0;34m\u001b[0m\u001b[0m\n\u001b[0;32m----> 2\u001b[0;31m     \u001b[0;32mreturn\u001b[0m \u001b[0mdfchoc\u001b[0m\u001b[0;34m.\u001b[0m\u001b[0mBean_Origin\u001b[0m\u001b[0;34m.\u001b[0m\u001b[0mvalue_counts\u001b[0m\u001b[0;34m(\u001b[0m\u001b[0;34m)\u001b[0m\u001b[0;34m.\u001b[0m\u001b[0mnlargest\u001b[0m\u001b[0;34m(\u001b[0m\u001b[0mnmost\u001b[0m\u001b[0;34m)\u001b[0m\u001b[0;34m.\u001b[0m\u001b[0mindex\u001b[0m\u001b[0;34m.\u001b[0m\u001b[0mtolist\u001b[0m\u001b[0;34m(\u001b[0m\u001b[0;34m)\u001b[0m\u001b[0;34m\u001b[0m\u001b[0;34m\u001b[0m\u001b[0m\n\u001b[0m",
      "\u001b[0;32m/opt/anaconda3/lib/python3.12/site-packages/pandas/core/generic.py\u001b[0m in \u001b[0;36m?\u001b[0;34m(self, name)\u001b[0m\n\u001b[1;32m   6295\u001b[0m             \u001b[0;32mand\u001b[0m \u001b[0mname\u001b[0m \u001b[0;32mnot\u001b[0m \u001b[0;32min\u001b[0m \u001b[0mself\u001b[0m\u001b[0;34m.\u001b[0m\u001b[0m_accessors\u001b[0m\u001b[0;34m\u001b[0m\u001b[0;34m\u001b[0m\u001b[0m\n\u001b[1;32m   6296\u001b[0m             \u001b[0;32mand\u001b[0m \u001b[0mself\u001b[0m\u001b[0;34m.\u001b[0m\u001b[0m_info_axis\u001b[0m\u001b[0;34m.\u001b[0m\u001b[0m_can_hold_identifiers_and_holds_name\u001b[0m\u001b[0;34m(\u001b[0m\u001b[0mname\u001b[0m\u001b[0;34m)\u001b[0m\u001b[0;34m\u001b[0m\u001b[0;34m\u001b[0m\u001b[0m\n\u001b[1;32m   6297\u001b[0m         \u001b[0;34m)\u001b[0m\u001b[0;34m:\u001b[0m\u001b[0;34m\u001b[0m\u001b[0;34m\u001b[0m\u001b[0m\n\u001b[1;32m   6298\u001b[0m             \u001b[0;32mreturn\u001b[0m \u001b[0mself\u001b[0m\u001b[0;34m[\u001b[0m\u001b[0mname\u001b[0m\u001b[0;34m]\u001b[0m\u001b[0;34m\u001b[0m\u001b[0;34m\u001b[0m\u001b[0m\n\u001b[0;32m-> 6299\u001b[0;31m         \u001b[0;32mreturn\u001b[0m \u001b[0mobject\u001b[0m\u001b[0;34m.\u001b[0m\u001b[0m__getattribute__\u001b[0m\u001b[0;34m(\u001b[0m\u001b[0mself\u001b[0m\u001b[0;34m,\u001b[0m \u001b[0mname\u001b[0m\u001b[0;34m)\u001b[0m\u001b[0;34m\u001b[0m\u001b[0;34m\u001b[0m\u001b[0m\n\u001b[0m",
      "\u001b[0;31mAttributeError\u001b[0m: 'Series' object has no attribute 'Bean_Origin'"
     ]
    }
   ],
   "source": [
    "origin_most_bars(dfchoc, 3)"
   ]
  },
  {
   "cell_type": "markdown",
   "metadata": {},
   "source": [
    "### Bar Descriptions\n",
    "\n",
    "Write a function **`description_ct(df, words)`** that returns the number of chocolate bars that match the given list of words in the `Characteristics` column. \n",
    "\n",
    "*Hint:* `.str.contains()` can match a single word or match multiple words if separated by `|`. For example, `.str.contains('strawberry|aroma')` will return `True` if either `strawberry` or `aroma` appears in a string.\n",
    "\n",
    "Example:<br>\n",
    "`description_ct(dfchoc, ['strawberry'])` returns `31`.<br>\n",
    "`description_ct(dfchoc, ['strawberry', 'aroma'])` returns `36`."
   ]
  },
  {
   "cell_type": "code",
   "execution_count": null,
   "metadata": {},
   "outputs": [],
   "source": [
    "def description_ct(df, words):\n",
    "    return df[df.Characteristics.str.contains(words[0])].index.size"
   ]
  },
  {
   "cell_type": "code",
   "execution_count": null,
   "metadata": {},
   "outputs": [],
   "source": [
    "description_ct(dfchoc, ['strawberry', 'aroma'])"
   ]
  },
  {
   "cell_type": "markdown",
   "metadata": {},
   "source": [
    "### How Many Ingredients Are in a Bar?\n",
    "\n",
    "Each entry in the `Ingredients` column contains the number of ingredients in a chocolate bar, followed by `'-'`, then a comma-delimited list of abbreviations representing the 7 possible ingredients: B = Beans, S = Sugar, S* = Other Sweetener, C = Cocoa Butter, V = Vanilla, L = Lecithin, and Sa = Salt.\n",
    "\n",
    "Write a function **`ingred_num(entry)`** that takes an entry from the `Ingredients` column and returns the number of ingredients as an `int`. Note that some `Ingredients` entries contain only a single space character `' '`. Return `0` for those entries.\n",
    "\n",
    "Examples:<br>\n",
    "`ingred_num('3-B,C,Sa')` returns `3`.<br>\n",
    "`ingred_num(' ')` returns `0`.\n"
   ]
  },
  {
   "cell_type": "code",
   "execution_count": null,
   "metadata": {},
   "outputs": [],
   "source": [
    "def ingred_num(entry):\n",
    "    if entry == ' ':\n",
    "        return 0\n",
    "    else:\n",
    "        return int(entry.split('-')[0])"
   ]
  },
  {
   "cell_type": "code",
   "execution_count": null,
   "metadata": {},
   "outputs": [],
   "source": [
    "ingred_num('3-B,C,Sa')"
   ]
  },
  {
   "cell_type": "code",
   "execution_count": null,
   "metadata": {},
   "outputs": [],
   "source": [
    "ingred_num(' ')"
   ]
  },
  {
   "cell_type": "markdown",
   "metadata": {},
   "source": [
    "**Add a new column `Ingred_Num`** to `dfchoc`, corresponding to the values returned by `ingred_num()`. Use `.apply()` on the `Ingredients` column."
   ]
  },
  {
   "cell_type": "code",
   "execution_count": null,
   "metadata": {},
   "outputs": [],
   "source": [
    "dfchoc['Ingred_Num'] = dfchoc['Ingredients'].apply(ingred_num)"
   ]
  },
  {
   "cell_type": "markdown",
   "metadata": {},
   "source": [
    "**Create a bar plot** showing the frequencies for the number of ingredients in each bar. Use the `Ingred_Num` column.\n",
    "\n",
    "**Important:** You may call `plt.bar_label()` to display the counts above the bars. The Gradescope autograder, however, does not recognize `bar_label`, so the `.py` file submitted to the autograder must have `bar_label` calls commented out.\n",
    "\n",
    "<img src=\"http://www.coloradomath.org/python/ingredients-num.jpg\" width=\"420\" height=\"307\" />"
   ]
  },
  {
   "cell_type": "code",
   "execution_count": null,
   "metadata": {},
   "outputs": [],
   "source": [
    "ingred_count = dfchoc['Ingred_Num'].value_counts().sort_index()\n",
    "bar = plt.bar(ingred_count.index, ingred_count.values)\n",
    "plt.title('Number of Ingredients in a Chocolate Bar')\n",
    "plt.xlabel('Ingred_Num')\n",
    "#plt.bar_label(bar, ingred_count.values)\n",
    "plt.show()"
   ]
  },
  {
   "cell_type": "markdown",
   "metadata": {},
   "source": [
    "### Which Ingredients Are Used Most Often?"
   ]
  },
  {
   "cell_type": "markdown",
   "metadata": {},
   "source": [
    "Write a function **`ingred_in_bar(entry, ingred)`** that takes an entry from the `Ingredients` column and returns `True` if `ingred` is in the entry and returns `False` otherwise. Assume that in each entry, the number of ingredients is followed by `'-'`, then a comma-delimited list of ingredients.\n",
    "\n",
    "Examples:<br>\n",
    "`ingred_in_bar('3-B,C,Sa', 'S')` returns `False`.<br>\n",
    "`ingred_in_bar('3-B,C,Sa', 'Sa')` returns `True`.<br>\n",
    "`ingred_in_bar(' ', 'Sa')` returns `False`."
   ]
  },
  {
   "cell_type": "code",
   "execution_count": null,
   "metadata": {},
   "outputs": [],
   "source": [
    "def ingred_in_bar(entry, ingred):\n",
    "    if entry == ' ':\n",
    "        return False\n",
    "    ing = entry.split('-')[1].split(',')\n",
    "    return ingred in ing"
   ]
  },
  {
   "cell_type": "code",
   "execution_count": null,
   "metadata": {},
   "outputs": [],
   "source": [
    "ingred_in_bar('3-B,C,Sa', 'S')"
   ]
  },
  {
   "cell_type": "code",
   "execution_count": null,
   "metadata": {},
   "outputs": [],
   "source": [
    "ingred_in_bar('3-B,C,Sa', 'Sa')"
   ]
  },
  {
   "cell_type": "code",
   "execution_count": null,
   "metadata": {},
   "outputs": [],
   "source": [
    "ingred_in_bar(' ', 'Sa')"
   ]
  },
  {
   "cell_type": "markdown",
   "metadata": {},
   "source": [
    "**Calculate the frequency of each ingredient and display the results in a bar chart.** Use `plt.text()` to display the counts above the bars. \n",
    "\n",
    "*Hint:* You can use `.apply(ingred_in_bar, ingred='B')` on `Ingredients` to determine which bars contain `B` as an ingredient.\n",
    "\n",
    "<img src=\"http://www.coloradomath.org/python/ingredients.jpg\" width=\"610\" height=\"265\" />"
   ]
  },
  {
   "cell_type": "code",
   "execution_count": 437,
   "metadata": {},
   "outputs": [
    {
     "ename": "KeyError",
     "evalue": "'Ingredients'",
     "output_type": "error",
     "traceback": [
      "\u001b[0;31m---------------------------------------------------------------------------\u001b[0m",
      "\u001b[0;31mKeyError\u001b[0m                                  Traceback (most recent call last)",
      "File \u001b[0;32m/opt/anaconda3/lib/python3.12/site-packages/pandas/core/indexes/base.py:3805\u001b[0m, in \u001b[0;36mIndex.get_loc\u001b[0;34m(self, key)\u001b[0m\n\u001b[1;32m   3804\u001b[0m \u001b[38;5;28;01mtry\u001b[39;00m:\n\u001b[0;32m-> 3805\u001b[0m     \u001b[38;5;28;01mreturn\u001b[39;00m \u001b[38;5;28mself\u001b[39m\u001b[38;5;241m.\u001b[39m_engine\u001b[38;5;241m.\u001b[39mget_loc(casted_key)\n\u001b[1;32m   3806\u001b[0m \u001b[38;5;28;01mexcept\u001b[39;00m \u001b[38;5;167;01mKeyError\u001b[39;00m \u001b[38;5;28;01mas\u001b[39;00m err:\n",
      "File \u001b[0;32mindex.pyx:167\u001b[0m, in \u001b[0;36mpandas._libs.index.IndexEngine.get_loc\u001b[0;34m()\u001b[0m\n",
      "File \u001b[0;32mindex.pyx:175\u001b[0m, in \u001b[0;36mpandas._libs.index.IndexEngine.get_loc\u001b[0;34m()\u001b[0m\n",
      "File \u001b[0;32mpandas/_libs/index_class_helper.pxi:70\u001b[0m, in \u001b[0;36mpandas._libs.index.Int64Engine._check_type\u001b[0;34m()\u001b[0m\n",
      "\u001b[0;31mKeyError\u001b[0m: 'Ingredients'",
      "\nThe above exception was the direct cause of the following exception:\n",
      "\u001b[0;31mKeyError\u001b[0m                                  Traceback (most recent call last)",
      "Cell \u001b[0;32mIn[437], line 4\u001b[0m\n\u001b[1;32m      1\u001b[0m ingredients_list \u001b[38;5;241m=\u001b[39m [\u001b[38;5;124m'\u001b[39m\u001b[38;5;124mB\u001b[39m\u001b[38;5;124m'\u001b[39m, \u001b[38;5;124m'\u001b[39m\u001b[38;5;124mS\u001b[39m\u001b[38;5;124m'\u001b[39m, \u001b[38;5;124m'\u001b[39m\u001b[38;5;124mS*\u001b[39m\u001b[38;5;124m'\u001b[39m, \u001b[38;5;124m'\u001b[39m\u001b[38;5;124mC\u001b[39m\u001b[38;5;124m'\u001b[39m, \u001b[38;5;124m'\u001b[39m\u001b[38;5;124mV\u001b[39m\u001b[38;5;124m'\u001b[39m, \u001b[38;5;124m'\u001b[39m\u001b[38;5;124mL\u001b[39m\u001b[38;5;124m'\u001b[39m, \u001b[38;5;124m'\u001b[39m\u001b[38;5;124mSa\u001b[39m\u001b[38;5;124m'\u001b[39m]\n\u001b[1;32m      3\u001b[0m plt\u001b[38;5;241m.\u001b[39mfigure(figsize\u001b[38;5;241m=\u001b[39m(\u001b[38;5;241m7\u001b[39m, \u001b[38;5;241m3\u001b[39m))\n\u001b[0;32m----> 4\u001b[0m ingredient_counts \u001b[38;5;241m=\u001b[39m {ingred: dfchoc[\u001b[38;5;124m'\u001b[39m\u001b[38;5;124mIngredients\u001b[39m\u001b[38;5;124m'\u001b[39m]\u001b[38;5;241m.\u001b[39mapply(ingred_in_bar, ingred\u001b[38;5;241m=\u001b[39mingred)\u001b[38;5;241m.\u001b[39msum() \u001b[38;5;28;01mfor\u001b[39;00m ingred \u001b[38;5;129;01min\u001b[39;00m ingredients_list}\n\u001b[1;32m      5\u001b[0m plt\u001b[38;5;241m.\u001b[39mbar(ingredient_counts\u001b[38;5;241m.\u001b[39mkeys(), ingredient_counts\u001b[38;5;241m.\u001b[39mvalues())\n\u001b[1;32m      7\u001b[0m \u001b[38;5;28;01mfor\u001b[39;00m i, count \u001b[38;5;129;01min\u001b[39;00m \u001b[38;5;28menumerate\u001b[39m(ingredient_counts\u001b[38;5;241m.\u001b[39mvalues()):\n",
      "File \u001b[0;32m/opt/anaconda3/lib/python3.12/site-packages/pandas/core/series.py:1121\u001b[0m, in \u001b[0;36mSeries.__getitem__\u001b[0;34m(self, key)\u001b[0m\n\u001b[1;32m   1118\u001b[0m     \u001b[38;5;28;01mreturn\u001b[39;00m \u001b[38;5;28mself\u001b[39m\u001b[38;5;241m.\u001b[39m_values[key]\n\u001b[1;32m   1120\u001b[0m \u001b[38;5;28;01melif\u001b[39;00m key_is_scalar:\n\u001b[0;32m-> 1121\u001b[0m     \u001b[38;5;28;01mreturn\u001b[39;00m \u001b[38;5;28mself\u001b[39m\u001b[38;5;241m.\u001b[39m_get_value(key)\n\u001b[1;32m   1123\u001b[0m \u001b[38;5;66;03m# Convert generator to list before going through hashable part\u001b[39;00m\n\u001b[1;32m   1124\u001b[0m \u001b[38;5;66;03m# (We will iterate through the generator there to check for slices)\u001b[39;00m\n\u001b[1;32m   1125\u001b[0m \u001b[38;5;28;01mif\u001b[39;00m is_iterator(key):\n",
      "File \u001b[0;32m/opt/anaconda3/lib/python3.12/site-packages/pandas/core/series.py:1237\u001b[0m, in \u001b[0;36mSeries._get_value\u001b[0;34m(self, label, takeable)\u001b[0m\n\u001b[1;32m   1234\u001b[0m     \u001b[38;5;28;01mreturn\u001b[39;00m \u001b[38;5;28mself\u001b[39m\u001b[38;5;241m.\u001b[39m_values[label]\n\u001b[1;32m   1236\u001b[0m \u001b[38;5;66;03m# Similar to Index.get_value, but we do not fall back to positional\u001b[39;00m\n\u001b[0;32m-> 1237\u001b[0m loc \u001b[38;5;241m=\u001b[39m \u001b[38;5;28mself\u001b[39m\u001b[38;5;241m.\u001b[39mindex\u001b[38;5;241m.\u001b[39mget_loc(label)\n\u001b[1;32m   1239\u001b[0m \u001b[38;5;28;01mif\u001b[39;00m is_integer(loc):\n\u001b[1;32m   1240\u001b[0m     \u001b[38;5;28;01mreturn\u001b[39;00m \u001b[38;5;28mself\u001b[39m\u001b[38;5;241m.\u001b[39m_values[loc]\n",
      "File \u001b[0;32m/opt/anaconda3/lib/python3.12/site-packages/pandas/core/indexes/base.py:3812\u001b[0m, in \u001b[0;36mIndex.get_loc\u001b[0;34m(self, key)\u001b[0m\n\u001b[1;32m   3807\u001b[0m     \u001b[38;5;28;01mif\u001b[39;00m \u001b[38;5;28misinstance\u001b[39m(casted_key, \u001b[38;5;28mslice\u001b[39m) \u001b[38;5;129;01mor\u001b[39;00m (\n\u001b[1;32m   3808\u001b[0m         \u001b[38;5;28misinstance\u001b[39m(casted_key, abc\u001b[38;5;241m.\u001b[39mIterable)\n\u001b[1;32m   3809\u001b[0m         \u001b[38;5;129;01mand\u001b[39;00m \u001b[38;5;28many\u001b[39m(\u001b[38;5;28misinstance\u001b[39m(x, \u001b[38;5;28mslice\u001b[39m) \u001b[38;5;28;01mfor\u001b[39;00m x \u001b[38;5;129;01min\u001b[39;00m casted_key)\n\u001b[1;32m   3810\u001b[0m     ):\n\u001b[1;32m   3811\u001b[0m         \u001b[38;5;28;01mraise\u001b[39;00m InvalidIndexError(key)\n\u001b[0;32m-> 3812\u001b[0m     \u001b[38;5;28;01mraise\u001b[39;00m \u001b[38;5;167;01mKeyError\u001b[39;00m(key) \u001b[38;5;28;01mfrom\u001b[39;00m \u001b[38;5;21;01merr\u001b[39;00m\n\u001b[1;32m   3813\u001b[0m \u001b[38;5;28;01mexcept\u001b[39;00m \u001b[38;5;167;01mTypeError\u001b[39;00m:\n\u001b[1;32m   3814\u001b[0m     \u001b[38;5;66;03m# If we have a listlike key, _check_indexing_error will raise\u001b[39;00m\n\u001b[1;32m   3815\u001b[0m     \u001b[38;5;66;03m#  InvalidIndexError. Otherwise we fall through and re-raise\u001b[39;00m\n\u001b[1;32m   3816\u001b[0m     \u001b[38;5;66;03m#  the TypeError.\u001b[39;00m\n\u001b[1;32m   3817\u001b[0m     \u001b[38;5;28mself\u001b[39m\u001b[38;5;241m.\u001b[39m_check_indexing_error(key)\n",
      "\u001b[0;31mKeyError\u001b[0m: 'Ingredients'"
     ]
    },
    {
     "data": {
      "text/plain": [
       "<Figure size 700x300 with 0 Axes>"
      ]
     },
     "metadata": {},
     "output_type": "display_data"
    }
   ],
   "source": [
    "ingredients_list = ['B', 'S', 'S*', 'C', 'V', 'L', 'Sa']\n",
    "\n",
    "plt.figure(figsize=(7, 3))\n",
    "ingredient_counts = {ingred: dfchoc['Ingredients'].apply(ingred_in_bar, ingred=ingred).sum() for ingred in ingredients_list}\n",
    "plt.bar(ingredient_counts.keys(), ingredient_counts.values())\n",
    "\n",
    "for i, count in enumerate(ingredient_counts.values()):\n",
    "    plt.text(i, count, str(count), ha='center')\n",
    "\n",
    "plt.title('Ingredients in a Chocolate Bar')\n",
    "plt.xticks(ingredients_list, ['Beans', 'Sugar', 'Sweetener', 'Cocoa Butter', 'Vanilla', 'Lecithin', 'Salt'])\n",
    "plt.show()"
   ]
  },
  {
   "cell_type": "markdown",
   "metadata": {},
   "source": [
    "### Cocoa Percentage\n",
    "\n",
    "**Create a box plot** showing the distribution of `Cocoa_Pct` among all bars."
   ]
  },
  {
   "cell_type": "code",
   "execution_count": null,
   "metadata": {},
   "outputs": [],
   "source": [
    "plt.boxplot(dfchoc.Cocoa_Pct)\n",
    "plt.show()"
   ]
  },
  {
   "cell_type": "markdown",
   "metadata": {},
   "source": [
    "**Create a box plot** showing the average `Cocoa_Pct`, grouped by manufacturer `Location`. Note the outliers."
   ]
  },
  {
   "cell_type": "code",
   "execution_count": null,
   "metadata": {},
   "outputs": [],
   "source": [
    "dfchoc.groupby('Location').Cocoa_Pct.mean().plot(kind = 'box')\n",
    "plt.show()"
   ]
  },
  {
   "cell_type": "markdown",
   "metadata": {},
   "source": [
    "Write code to find these values and store in the following variables:\n",
    "* **`min_cocoa_location`**: the name of the country in `Location` with the lowest average cocoa percentage\n",
    "* **`max_rating_location`**: the name of the country in `Location` with the highest average rating"
   ]
  },
  {
   "cell_type": "code",
   "execution_count": null,
   "metadata": {
    "tags": []
   },
   "outputs": [],
   "source": [
    "min_cocoa_location = dfchoc.groupby('Location').Cocoa_Pct.mean().idxmin()\n",
    "max_rating_location = dfchoc.groupby('Location').Rating.mean().idxmax()"
   ]
  },
  {
   "cell_type": "markdown",
   "metadata": {},
   "source": [
    "### Darkness Category\n",
    "**Create a new column called `Dark_Cat`** that indicates how dark each bar is: `not dark`, `dark`, `darker`, or `darkest` based on `Cocoa_Pct`:\n",
    "\n",
    "|Darkness|Cocoa_Pct|  \n",
    "|:--:|:--:|  \n",
    "|`not dark` | `pct` $\\le 50$|  \n",
    "|`dark` | $50<$ `pct` $\\le 70$|  \n",
    "|`darker` | $70<$ `pct` $\\le 80$|  \n",
    "|`darkest` | $80<$ `pct` $\\le 100$|  \n",
    "\n",
    "*Hint:* You may use `pd.cut(data, bins, labels)` or `.apply()`."
   ]
  },
  {
   "cell_type": "code",
   "execution_count": null,
   "metadata": {},
   "outputs": [],
   "source": [
    "def dark(pct):\n",
    "    if pct <= 50:\n",
    "        return 'not dark'\n",
    "    if 50 < pct <= 70:\n",
    "        return 'dark'\n",
    "    if 70 < pct <= 80:\n",
    "        return 'darker'\n",
    "    elif 80 < pct <= 100:\n",
    "        return 'darkest'\n",
    "\n",
    "dfchoc['Dark_Cat'] = dfchoc.Cocoa_Pct.apply(dark)"
   ]
  },
  {
   "cell_type": "markdown",
   "metadata": {},
   "source": [
    "### Rating Bins\n",
    "**Create a new column called `Rating_Bin`** that assigns each bar to a bin: 1.5, 2.0, 2.5, 3.0, 3.5, 4.0 based on its `Rating`:\n",
    "\n",
    "|Rating_Bin|Rating|  \n",
    "|:--:|:--:|  \n",
    "|1.5 | `Rating` $\\le 1.5$|  \n",
    "|2.0 | $1.5<$ `Rating` $\\le 2.0$|  \n",
    "|2.5 | $2.0<$ `Rating` $\\le 2.5$|  \n",
    "|... | ...|  \n",
    "|4.0 | $3.5<$ `Rating` $\\le 4.0$|  \n",
    "\n",
    "etc.\n",
    "\n",
    "*Hint:* You may use `pd.cut(data, bins, labels)` or `.apply()`."
   ]
  },
  {
   "cell_type": "code",
   "execution_count": null,
   "metadata": {},
   "outputs": [],
   "source": [
    "def rating(rate):\n",
    "    if rate <= 1.5:\n",
    "        return 1.5\n",
    "    if 1.5 < rate <= 2.0:\n",
    "        return 2.0\n",
    "    if 2.0 < rate <= 2.5:\n",
    "        return 2.5\n",
    "    if 2.5 < rate <= 3.0:\n",
    "        return 3.0\n",
    "    if 3.0 < rate <= 3.5:\n",
    "        return 3.5\n",
    "    if 3.5 < rate <= 4.0:\n",
    "        return 4.0\n",
    "\n",
    "dfchoc['Rating_Bin'] = dfchoc.Rating.apply(rating)"
   ]
  },
  {
   "cell_type": "markdown",
   "metadata": {},
   "source": [
    "### Chocolate Bar Count by Rating and Darkness Category\n",
    "We can count the number of chocolate bars in each rating bin and separate by darkness category. **Create a bar chart** that shows these counts, omitting the `not dark` bars. Each darkness category should be displayed in a different color. Your plot should include a title and a legend. Otherwise it is not necessary to exactly match the appearance of the sample plot shown. \n",
    "\n",
    "Note: The chart below shows the counts only for the `darker` bars. Your plot should display all the counts.\n",
    "\n",
    "**Important:** You may call `plt.bar_label()` to display the counts, however the`.py` file submitted to the autograder must have `bar_label` calls commented out.\n",
    "\n",
    "<img src=\"http://www.coloradomath.org/python/darkness_bar_cts.jpg\" />"
   ]
  },
  {
   "cell_type": "code",
   "execution_count": null,
   "metadata": {},
   "outputs": [],
   "source": [
    "dfchoc[dfchoc.Dark_Cat == 'darkest'].Rating_Bin.value_counts().sort_index()"
   ]
  },
  {
   "cell_type": "code",
   "execution_count": null,
   "metadata": {},
   "outputs": [],
   "source": [
    "# dfchoc = dfchoc[dfchoc['Dark_Cat'] != 'not dark']\n",
    "\n",
    "# rating_bin = np.linspace(1.5, 4, 6)\n",
    "# colors = ['peru', 'sienna', 'saddlebrown']\n",
    "\n",
    "# for index, cat in enumerate(['dark','darker','darkest']):\n",
    "#     bar = plt.bar(rating_bin + (index-1)*0.1, dfchoc[dfchoc.Dark_Cat == cat].Rating_Bin.value_counts().sort_index(), width = 0.1, \n",
    "#                   color = colors[index], label = cat)\n",
    "#     plt.bar_label(bar)\n",
    "\n",
    "# plt.title('Bar Count for Each Rating Binby Darkness Category')\n",
    "# plt.ylim(0, 700)\n",
    "# plt.legend()\n",
    "# plt.show()"
   ]
  },
  {
   "cell_type": "markdown",
   "metadata": {
    "tags": []
   },
   "source": [
    "---\n",
    "\n",
    "# Option 2: NBA Stats\n",
    "**Upload two files** to Gradescope:\n",
    "* `HW13nba.py`\n",
    "* `HW13nba.ipynb`"
   ]
  },
  {
   "cell_type": "markdown",
   "metadata": {},
   "source": [
    "* **Read in the file** `'nba-stats-2008-2017.csv'` as a pandas dataframe called **`dfnba`**. This file from [Kaggle](https://www.kaggle.com/drgilermo/nba-players-stats) contains statistics for NBA players in the 2007-08 to 2016-17 seasons. An explanation of the column headings can be found at [basketball-reference.com](https://www.basketball-reference.com/about/glossary.html).\n",
    "\n",
    "* There are two blank columns in the file. **Remove the blank columns** by calling \n",
    "```\n",
    "dfnba.dropna(axis='columns', how='all', inplace=True)\n",
    "```\n",
    "\n",
    "* **Change the data type** of the `Year` column to `'category'`."
   ]
  },
  {
   "cell_type": "code",
   "execution_count": null,
   "metadata": {},
   "outputs": [],
   "source": []
  },
  {
   "cell_type": "markdown",
   "metadata": {},
   "source": [
    "Write a function called **`nba_leader_by_year(df, cat, maxmin)`** that returns the names of the players who were at the top (or bottom) of a category in each year. The arguments are\n",
    "* `df` is a dataframe (`dfnba` or a subset of it).\n",
    "* `cat` is one of the column headings of `dfnba`.\n",
    "* `maxmin` is an optional argument that equals `'max'` or `'min'`, corresponding to the top or bottom of the category, respectively. By default the argument equals `'max'`. \n",
    "\n",
    "Consider only players who played **at least 40 games in a year**. The return value is **a list of 3-element tuples `(year, value, players)`** corresponding to\n",
    "* each `year` in 2008-2017\n",
    "* the max or min category `value`\n",
    "* a sorted list of `players` who attained the max or min value. \n",
    "\n",
    "Examples: (The category values need not appear exactly as shown below.)\n",
    "* `nba_leader_by_year(dfnba, 'TOV')` returns the players who made the most turnovers in each year.\n",
    "```\n",
    "[(2008, 295, ['Steve Nash']),\n",
    " (2009, 274, ['Russell Westbrook']),\n",
    " (2010, 295, ['Steve Nash']),\n",
    " (2011, 316, ['Russell Westbrook']),\n",
    " (2012, 255, ['John Wall']),\n",
    " (2013, 295, ['James Harden']),\n",
    " (2014, 295, ['John Wall']),\n",
    " (2015, 321, ['James Harden']),\n",
    " (2016, 374, ['James Harden']),\n",
    " (2017, 464, ['James Harden'])]\n",
    " ```\n",
    "\n",
    "* `nba_leader_by_year(dfnba[dfnba.Tm == 'DEN'], 'Age', 'min')` returns the youngest Denver Nuggets in each year.\n",
    "```\n",
    "[(2008, 22, ['J.R. Smith']),\n",
    " (2009, 23, ['J.R. Smith']),\n",
    " (2010, 22, ['Ty Lawson']),\n",
    " (2011, 23, ['Ty Lawson']),\n",
    " (2012, 22, ['Kenneth Faried', 'Kosta Koufos']),\n",
    " (2013, 22, ['Jordan Hamilton']),\n",
    " (2014, 21, ['Evan Fournier', 'Quincy Miller']),\n",
    " (2015, 20, ['Gary Harris', 'Jusuf Nurkic']),\n",
    " (2016, 19, ['Emmanuel Mudiay']),\n",
    " (2017, 19, ['Jamal Murray'])]\n",
    "```"
   ]
  },
  {
   "cell_type": "code",
   "execution_count": null,
   "metadata": {},
   "outputs": [],
   "source": []
  },
  {
   "cell_type": "markdown",
   "metadata": {},
   "source": [
    "### Which division is better: West or East?\n",
    "\n",
    "* First **remove** from `dfnba` the players who played for more than one team in a single year. Their `Tm` is listed as `TOT`. (*Hint:* After removing, if you wish to access the row index numbers, call `dfnba.reset_index(inplace=True)` to renumber the rows.)\n",
    "* Next **add a column** `DIV` that indicates whether each team is `'West'` or `'East'`. The Western division teams are\n",
    "```\n",
    "['DAL', 'DEN', 'GSW', 'HOU', 'LAC', 'LAL', 'MEM', 'MIN', 'NOP', 'OKC', 'PHX', 'POR', 'SAC', 'SAS', 'UTA']\n",
    "```\n",
    "The rest are Eastern division teams. (Note: A few teams have changed names over the years. Old team names have been replaced by the current name.)\n",
    "\n",
    "* Write a function **`east_west_top_team(df, cat, maxmin)`** that identifies the team in each division (East and West) that had the most (or least) total sum in a category. The function returns a list of two two-element tuples `(team, cat_sum)`, corresponding to the East and West results, respectively, where\n",
    "  * `team` is the team name in the division that had the max or min category sum. (If more than one team matches, return any of the names.)\n",
    "  * `cat_sum` equals the max (or min) category sum.\n",
    "\n",
    "Examples:<br>\n",
    "`east_west_top_team(dfnba, '3P')` returns \n",
    "```\n",
    "[('NYK', 6862), ('HOU', 7643)]\n",
    "```\n",
    "\n",
    "`east_west_top_team(dfnba[dfnba.Year == 2017], 'PTS', 'min')` returns\n",
    "```\n",
    "[('ORL', 8288), ('DAL', 8029)]\n",
    "```"
   ]
  },
  {
   "cell_type": "code",
   "execution_count": null,
   "metadata": {},
   "outputs": [],
   "source": []
  },
  {
   "cell_type": "markdown",
   "metadata": {},
   "source": [
    "* Write a function **`east_west_top_players(df, cat)`** that returns a list containing two sublists (one for each division) of the top player in a given category for each year in `df`. (If more than one player matches, return any of the top player names.) Consider only players who played at least 40 games in a year.\n",
    "\n",
    "Examples:<br>\n",
    "`east_west_top_players(dfnba, 'PTS')` returns\n",
    "```\n",
    "[[('LeBron James', 2250),\n",
    "  ('Dwyane Wade', 2386),\n",
    "  ('LeBron James', 2258),\n",
    "  ('LeBron James', 2111),\n",
    "  ('LeBron James', 1683),\n",
    "  ('LeBron James', 2036),\n",
    "  ('Carmelo Anthony', 2112),\n",
    "  ('LeBron James', 1743),\n",
    "  ('LeBron James', 1920),\n",
    "  ('Isaiah Thomas', 2199)],\n",
    " [('Kobe Bryant', 2323),\n",
    "  ('Kobe Bryant', 2201),\n",
    "  ('Kevin Durant', 2472),\n",
    "  ('Kevin Durant', 2161),\n",
    "  ('Kevin Durant', 1850),\n",
    "  ('Kevin Durant', 2280),\n",
    "  ('Kevin Durant', 2593),\n",
    "  ('James Harden', 2217),\n",
    "  ('James Harden', 2376),\n",
    "  ('Russell Westbrook', 2558)]]\n",
    "```\n",
    "\n",
    "`east_west_top_players(dfnba[dfnba.Year == 2016], '3P')` returns\n",
    "```\n",
    "[[('Kyle Lowry', 212)], [('Stephen Curry', 402)]]\n",
    "```"
   ]
  },
  {
   "cell_type": "code",
   "execution_count": null,
   "metadata": {},
   "outputs": [],
   "source": []
  },
  {
   "cell_type": "markdown",
   "metadata": {},
   "source": [
    "Write a function **`east_west_top_players_plot(df, cat)`** that calls `east_west_top_players()` for a given category and plots the results, including the player names. "
   ]
  },
  {
   "cell_type": "code",
   "execution_count": null,
   "metadata": {},
   "outputs": [],
   "source": []
  },
  {
   "cell_type": "markdown",
   "metadata": {},
   "source": [
    "Call `east_west_top_players_plot(dfnba, 'PTS')`. The result should look similar to the following plot. It need not exactly match in appearance.\n",
    "\n",
    "<img src=\"http://www.coloradomath.org/python/east-west-pts.png\" />"
   ]
  },
  {
   "cell_type": "code",
   "execution_count": null,
   "metadata": {},
   "outputs": [],
   "source": []
  },
  {
   "cell_type": "markdown",
   "metadata": {},
   "source": [
    "Call `east_west_top_players_plot(dfnba, 'BLK')`.\n",
    "\n",
    "<img src=\"http://www.coloradomath.org/python/east-west-blk.png\" />"
   ]
  },
  {
   "cell_type": "code",
   "execution_count": null,
   "metadata": {},
   "outputs": [],
   "source": []
  }
 ],
 "metadata": {
  "kernelspec": {
   "display_name": "Python 3 (ipykernel)",
   "language": "python",
   "name": "python3"
  },
  "language_info": {
   "codemirror_mode": {
    "name": "ipython",
    "version": 3
   },
   "file_extension": ".py",
   "mimetype": "text/x-python",
   "name": "python",
   "nbconvert_exporter": "python",
   "pygments_lexer": "ipython3",
   "version": "3.12.4"
  }
 },
 "nbformat": 4,
 "nbformat_minor": 4
}
