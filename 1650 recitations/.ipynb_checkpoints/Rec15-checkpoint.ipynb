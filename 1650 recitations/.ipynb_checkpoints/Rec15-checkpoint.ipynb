{
 "cells": [
  {
   "cell_type": "markdown",
   "metadata": {
    "tags": []
   },
   "source": [
    "# Recitation 15"
   ]
  },
  {
   "cell_type": "markdown",
   "metadata": {},
   "source": [
    "___"
   ]
  },
  {
   "cell_type": "code",
   "execution_count": 6,
   "metadata": {},
   "outputs": [],
   "source": [
    "import math\n",
    "import random\n",
    "import numpy as np\n",
    "import matplotlib.pyplot as plt"
   ]
  },
  {
   "cell_type": "markdown",
   "metadata": {},
   "source": [
    "### Evaluating a Function\n",
    "\n",
    "Suppose you evaluate the function $f(x) = x^2 - 5x$ for each integer from 1 to 10. Generate the list result **fvals** in three different ways:\n",
    "\n",
    "* Use a list comprehension to create the result.\n",
    "* Use numpy vectorization to create the result as an array.\n",
    "* Use a `lambda` function to create the result (without defining a named function).\n"
   ]
  },
  {
   "cell_type": "code",
   "execution_count": 29,
   "metadata": {},
   "outputs": [],
   "source": [
    "fvals = [x**2 -5*x for x in range(1, 11)]"
   ]
  },
  {
   "cell_type": "code",
   "execution_count": 31,
   "metadata": {},
   "outputs": [],
   "source": [
    "x = np.arange(1, 11)\n",
    "fvals = x**2 - 5*x"
   ]
  },
  {
   "cell_type": "code",
   "execution_count": 33,
   "metadata": {},
   "outputs": [],
   "source": [
    "fvals = (lambda x: x**2 - 5*x)(x)"
   ]
  },
  {
   "cell_type": "markdown",
   "metadata": {},
   "source": [
    "### U.S. States\n",
    "**Read in the file `'us_states.csv'`** (data from https://www.factmonster.com/us/us-history/states-order-entry-union). Each of the 50 rows contains the name of a U.S. state, its 2-letter abbreviation, the order in which it joined the U.S., and the year it was settled. For example, the row corresponding to Colorado, which was the 38th state to join the union, contains\n",
    "```\n",
    "Colorado,CO,38,1858\n",
    "```\n",
    "**Create a dictionary called `states_dict`** with keys corresponding to the names of the states (ex: `'Colorado'`) and values corresponding to the remaining information in a tuple (ex: `('CO', 38, 1858)`)."
   ]
  },
  {
   "cell_type": "code",
   "execution_count": 296,
   "metadata": {},
   "outputs": [],
   "source": [
    "with open('us_states.csv') as pf:\n",
    "    data = pf.readlines()"
   ]
  },
  {
   "cell_type": "code",
   "execution_count": 298,
   "metadata": {},
   "outputs": [
    {
     "data": {
      "text/plain": [
       "['Alabama,AL,22,1702\\n',\n",
       " 'Alaska,AK,49,1784\\n',\n",
       " 'Arizona,AZ,48,1776\\n',\n",
       " 'Arkansas,AR,25,1686\\n',\n",
       " 'California,CA,31,1769\\n']"
      ]
     },
     "execution_count": 298,
     "metadata": {},
     "output_type": "execute_result"
    }
   ],
   "source": [
    "data[:5]"
   ]
  },
  {
   "cell_type": "code",
   "execution_count": 300,
   "metadata": {},
   "outputs": [
    {
     "data": {
      "text/plain": [
       "[['Alabama', 'AL', '22', '1702'],\n",
       " ['Alaska', 'AK', '49', '1784'],\n",
       " ['Arizona', 'AZ', '48', '1776'],\n",
       " ['Arkansas', 'AR', '25', '1686'],\n",
       " ['California', 'CA', '31', '1769']]"
      ]
     },
     "execution_count": 300,
     "metadata": {},
     "output_type": "execute_result"
    }
   ],
   "source": [
    "data = [data[n].strip().split(',') for n in range(len(data))]\n",
    "data[:5]"
   ]
  },
  {
   "cell_type": "code",
   "execution_count": 242,
   "metadata": {},
   "outputs": [],
   "source": [
    "states_dict = {data[n][0]: data[n][1:] for n in range(len(data))}"
   ]
  },
  {
   "cell_type": "markdown",
   "metadata": {},
   "source": [
    "Write a function **`state_abbrev(states_dict, state)`** that returns the abbreviation for a state.\n",
    "\n",
    "Example: `state_abbrev(states_dict, 'Colorado')` returns `'CO'`."
   ]
  },
  {
   "cell_type": "code",
   "execution_count": 256,
   "metadata": {},
   "outputs": [],
   "source": [
    "def state_abbrev(states_dict, state):\n",
    "    return states_dict[state][0]"
   ]
  },
  {
   "cell_type": "code",
   "execution_count": 258,
   "metadata": {},
   "outputs": [
    {
     "data": {
      "text/plain": [
       "'CO'"
      ]
     },
     "execution_count": 258,
     "metadata": {},
     "output_type": "execute_result"
    }
   ],
   "source": [
    "state_abbrev(states_dict, 'Colorado')"
   ]
  },
  {
   "cell_type": "markdown",
   "metadata": {},
   "source": [
    "Write a function **`state_join(states_dict, state)`** that returns a 2-element tuple containing the order and year a state joined the union.\n",
    "\n",
    "Example: `state_join(states_dict, 'Colorado')` returns `(38, 1858)`."
   ]
  },
  {
   "cell_type": "code",
   "execution_count": 292,
   "metadata": {},
   "outputs": [],
   "source": [
    "def state_join(states_dict, state):\n",
    "    order = int(states_dict[state][1])\n",
    "    year = int(states_dict[state][2])\n",
    "    return (order, year)"
   ]
  },
  {
   "cell_type": "code",
   "execution_count": 294,
   "metadata": {},
   "outputs": [
    {
     "data": {
      "text/plain": [
       "(38, 1858)"
      ]
     },
     "execution_count": 294,
     "metadata": {},
     "output_type": "execute_result"
    }
   ],
   "source": [
    "state_join(states_dict, 'Colorado')"
   ]
  },
  {
   "cell_type": "markdown",
   "metadata": {},
   "source": [
    "### Spinning a Penny\n",
    "\n",
    "<img src=\"http://www.coloradomath.org/python/penny.jpg\" width=\"150\"/>\n",
    "\n",
    "If you spin a **Lincoln Memorial penny** (minted in the years 1959 to 2018), the probability $p$ that it will land heads is surprisingly low, about 20%. This is because the side with Lincoln's head is slightly heavier, so it is more likely that the coin will land with the Memorial side facing up.\n",
    "\n",
    "Write a function **`spin_penny(prob_H)`** that returns `'H'` with probability `prob_H` and returns `'T'` otherwise. For example, `spin_penny(0.2)` would simulate the Lincoln Memorial penny."
   ]
  },
  {
   "cell_type": "code",
   "execution_count": 134,
   "metadata": {},
   "outputs": [],
   "source": [
    "def spin_penny(prob_H):\n",
    "    prob = round(random.random(), 2)\n",
    "    if prob < prob_H:\n",
    "        return 'H'\n",
    "    return 'T'"
   ]
  },
  {
   "cell_type": "code",
   "execution_count": 136,
   "metadata": {},
   "outputs": [
    {
     "data": {
      "text/plain": [
       "'T'"
      ]
     },
     "execution_count": 136,
     "metadata": {},
     "output_type": "execute_result"
    }
   ],
   "source": [
    "spin_penny(0.2)"
   ]
  },
  {
   "cell_type": "markdown",
   "metadata": {},
   "source": [
    "### Counting Heads\n",
    "If the penny is spun multiple times, how many times will heads appear? Write a function **`spin_penny_results(prob_H, nspins)`** that performs `nspins` spins of a penny with probability `prob_H` of landing heads.  It returns the number of heads. The function should call `spin_penny()`. \n",
    "\n",
    "What answer do you expect for `spin_penny_results(0.2, 500)`?"
   ]
  },
  {
   "cell_type": "code",
   "execution_count": 162,
   "metadata": {},
   "outputs": [],
   "source": [
    "def spin_penny_results(prob_H, nspins):\n",
    "    head_count = 0\n",
    "    for n in range(nspins):\n",
    "        spin = spin_penny(prob_H)\n",
    "        if spin == 'H':\n",
    "            head_count += 1\n",
    "    return head_count"
   ]
  },
  {
   "cell_type": "code",
   "execution_count": 164,
   "metadata": {},
   "outputs": [
    {
     "data": {
      "text/plain": [
       "90"
      ]
     },
     "execution_count": 164,
     "metadata": {},
     "output_type": "execute_result"
    }
   ],
   "source": [
    "spin_penny_results(0.2, 500)"
   ]
  },
  {
   "cell_type": "markdown",
   "metadata": {},
   "source": [
    "### Simulating the Probability of $k$ Heads\n",
    "Write a function **`spin_penny_prob_sim(prob_H, nspins, nheads, nsim)`** that calls `spin_penny_results` `nsim` times and returns the fraction of calls that return exactly `nheads` heads. \n",
    "\n",
    "What is the probability that exactly 100 heads appear in 500 spins? Run 1000 simulations."
   ]
  },
  {
   "cell_type": "code",
   "execution_count": 218,
   "metadata": {},
   "outputs": [],
   "source": [
    "def spin_penny_prob_sim(prob_H, nspins, nheads, nsim):\n",
    "    exact = 0\n",
    "    for n in range(nsim):\n",
    "        spin_head = spin_penny_results(prob_H, nspins)\n",
    "        if spin_head == nheads:\n",
    "            exact += 1\n",
    "    return exact / spin_head"
   ]
  },
  {
   "cell_type": "code",
   "execution_count": 220,
   "metadata": {},
   "outputs": [
    {
     "data": {
      "text/plain": [
       "0.42574257425742573"
      ]
     },
     "execution_count": 220,
     "metadata": {},
     "output_type": "execute_result"
    }
   ],
   "source": [
    "spin_penny_prob_sim(0.2, 500, 100, 1000)"
   ]
  },
  {
   "cell_type": "markdown",
   "metadata": {},
   "source": [
    "___\n",
    "\n",
    "# Extra Problems\n",
    "Work on these problems after completing the previous exercises."
   ]
  },
  {
   "cell_type": "markdown",
   "metadata": {
    "tags": []
   },
   "source": [
    "### Calculating the Exact Probability of $k$ Heads\n",
    "Given a coin with probability $p$ of landing heads, the exact probability of seeing $k$ heads in $n$ spins is $$ \\binom nk p^k (1-p)^{n-k}.$$ Recall that the binomial coefficient formula is $$\\binom nk = \\frac{n!}{k!(n-k)!}.$$\n",
    "\n",
    "Write a function **`spin_penny_prob(prob_H, nspins, nheads)`** that calculates this probability. Was your previous answer close to this result?"
   ]
  },
  {
   "cell_type": "code",
   "execution_count": null,
   "metadata": {},
   "outputs": [],
   "source": []
  },
  {
   "cell_type": "markdown",
   "metadata": {},
   "source": [
    "### Calculating Probabilities for All $k$\n",
    "Write a function **`spin_penny_prob_all(prob_H, nspins)`** that calculates the exact probability of seeing $k$ heads in `nspins` spins for all $k$ from $0$ to `nspins`. It returns a list of the probabilities.\n",
    "\n",
    "Example: <br>\n",
    "`spin_penny_prob_all(0.2, 6)` returns `[0.262144, 0.393216, 0.245760, 0.081920, 0.015360, 0.001536, .000064]`."
   ]
  },
  {
   "cell_type": "code",
   "execution_count": null,
   "metadata": {
    "tags": []
   },
   "outputs": [],
   "source": []
  },
  {
   "cell_type": "markdown",
   "metadata": {},
   "source": [
    "**Plot a line graph** showing the probabilities for all possible number of heads given `nspins=500` and `p=0.2`.\n",
    "\n",
    "<img src=\"http://www.coloradomath.org/python/spin-penny-dist.jpg\" width=\"449\" height=\"260\" />"
   ]
  },
  {
   "cell_type": "code",
   "execution_count": null,
   "metadata": {},
   "outputs": [],
   "source": []
  },
  {
   "cell_type": "markdown",
   "metadata": {},
   "source": [
    "**Plot the probability distributions for 500 spins with `p` ranging from 0.1 to 0.9**.\n",
    "\n",
    "<img src=\"http://www.coloradomath.org/python/spin-penny-dists.png\" width=\"506\" height=\"355\" />"
   ]
  },
  {
   "cell_type": "code",
   "execution_count": null,
   "metadata": {},
   "outputs": [],
   "source": []
  }
 ],
 "metadata": {
  "kernelspec": {
   "display_name": "Python 3 (ipykernel)",
   "language": "python",
   "name": "python3"
  },
  "language_info": {
   "codemirror_mode": {
    "name": "ipython",
    "version": 3
   },
   "file_extension": ".py",
   "mimetype": "text/x-python",
   "name": "python",
   "nbconvert_exporter": "python",
   "pygments_lexer": "ipython3",
   "version": "3.12.4"
  }
 },
 "nbformat": 4,
 "nbformat_minor": 4
}
