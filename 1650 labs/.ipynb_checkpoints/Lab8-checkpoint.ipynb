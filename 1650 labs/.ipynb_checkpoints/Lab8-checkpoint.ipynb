{
 "cells": [
  {
   "cell_type": "markdown",
   "metadata": {
    "tags": []
   },
   "source": [
    "# Lab 8"
   ]
  },
  {
   "cell_type": "markdown",
   "metadata": {
    "tags": []
   },
   "source": [
    "### Enter the Lab8 password as a string"
   ]
  },
  {
   "cell_type": "code",
   "execution_count": 1,
   "metadata": {},
   "outputs": [],
   "source": [
    "password = 'pumpkin'"
   ]
  },
  {
   "cell_type": "markdown",
   "metadata": {},
   "source": [
    "**IMPORTANT**: Comment out any calls to `input()`, `guess()`, and `guess_hi_lo()` before uploading your work as **`Lab8.py`** for autograding.\n",
    "___"
   ]
  },
  {
   "cell_type": "code",
   "execution_count": 3,
   "metadata": {},
   "outputs": [],
   "source": [
    "import math\n",
    "import random\n",
    "import numpy as np\n",
    "import matplotlib.pyplot as plt"
   ]
  },
  {
   "cell_type": "markdown",
   "metadata": {},
   "source": [
    "### A Sequence\n",
    "\n",
    "Consider the sequence $a_1 = 1$, $a_n = \\sqrt{1+a_{n-1}}$ for $n\\ge 2$.\n",
    "\n",
    "$$\\left\\{1, \\sqrt{1+1}, \\sqrt{1+\\sqrt{1+1}}, \\sqrt{1+\\sqrt{1+\\sqrt{1+1}}}, \\ldots\\right\\}$$\n",
    "\n",
    "Write a **non-recursive function `seq(n)`** that returns the $n$th term of this sequence.\n",
    "\n",
    "Example:<br>\n",
    "`seq(3)` returns `1.553774`.\n"
   ]
  },
  {
   "cell_type": "code",
   "execution_count": 31,
   "metadata": {},
   "outputs": [],
   "source": [
    "def seq(n):\n",
    "    nlist = [1]\n",
    "    prev = 1\n",
    "    curr = None\n",
    "    for i in range(n):\n",
    "        curr = math.sqrt(1 + prev)\n",
    "        nlist.append(curr)\n",
    "        prev = curr\n",
    "    return nlist[i]"
   ]
  },
  {
   "cell_type": "code",
   "execution_count": 33,
   "metadata": {},
   "outputs": [
    {
     "data": {
      "text/plain": [
       "1.5537739740300374"
      ]
     },
     "execution_count": 33,
     "metadata": {},
     "output_type": "execute_result"
    }
   ],
   "source": [
    "seq(3)"
   ]
  },
  {
   "cell_type": "markdown",
   "metadata": {},
   "source": [
    "Now write a **recursive function `seq_recur(n)`** that returns the $n$th term of the same sequence."
   ]
  },
  {
   "cell_type": "code",
   "execution_count": 5,
   "metadata": {},
   "outputs": [],
   "source": [
    "def seq_recur(n):\n",
    "    if n == 1:\n",
    "        return 1\n",
    "\n",
    "    return math.sqrt(1+seq_recur(n-1))"
   ]
  },
  {
   "cell_type": "markdown",
   "metadata": {},
   "source": [
    "Confirm that the sequence approaches the golden ratio $\\dfrac{1+\\sqrt 5}{2}$ as $n\\to\\infty$ by examining the $100$th term of the sequence."
   ]
  },
  {
   "cell_type": "code",
   "execution_count": 13,
   "metadata": {},
   "outputs": [
    {
     "name": "stdout",
     "output_type": "stream",
     "text": [
      "1.618033988749895 1.618033988749895\n"
     ]
    }
   ],
   "source": [
    "print(seq_recur(100), (1 + math.sqrt(5))/2)"
   ]
  },
  {
   "cell_type": "markdown",
   "metadata": {},
   "source": [
    "### Simulating probabilities\n",
    "\n",
    "Suppose the probability of rain on any given day is 7%.\n",
    "\n",
    "Write a function **`predict_rain()`** to simulate this result, returning `'Rain'` 7% of the time and `'No Rain'` 93% of the time. Use one of these random functions:\n",
    "* `random.random()`\n",
    "* `random.uniform()` on $[0, 100]$\n",
    "* `random.randint()`"
   ]
  },
  {
   "cell_type": "code",
   "execution_count": 43,
   "metadata": {},
   "outputs": [],
   "source": [
    "def predict_rain():\n",
    "    if random.randint(0, 100) < 7:\n",
    "        return 'Rain'\n",
    "    else:\n",
    "        return 'No Rain'"
   ]
  },
  {
   "cell_type": "markdown",
   "metadata": {},
   "source": [
    "**Test your function** by creating a list comprehension called **`predictions`** that calls `predict_rain()` 1000 times."
   ]
  },
  {
   "cell_type": "code",
   "execution_count": 88,
   "metadata": {},
   "outputs": [],
   "source": [
    "predictions = [predict_rain() for n in range(1000)]"
   ]
  },
  {
   "cell_type": "markdown",
   "metadata": {},
   "source": [
    "### Multiplication Table Triangle\n",
    "Write a function **`mults_triangle(nrows)`** that displays the upper triangle of a multiplication table (including and above the main diagonal) for `nrows` rows, as shown below for `nrows = 5`. The function does not return a value. **Use a nested `for` loop.** You may assume `nrows` is less than 10.\n",
    "```\n",
    "  1  2  3  4  5\n",
    "     4  6  8 10\n",
    "        9 12 15\n",
    "          16 20\n",
    "             25            \n",
    "```"
   ]
  },
  {
   "cell_type": "code",
   "execution_count": 171,
   "metadata": {},
   "outputs": [
    {
     "data": {
      "text/plain": [
       "[5, 4, 3, 2, 1]"
      ]
     },
     "execution_count": 171,
     "metadata": {},
     "output_type": "execute_result"
    }
   ],
   "source": [
    "list(range(6))[6:0:-1]"
   ]
  },
  {
   "cell_type": "code",
   "execution_count": 221,
   "metadata": {},
   "outputs": [],
   "source": [
    "def mults_triangle(nrows):\n",
    "    for row in range(1, nrows+1):\n",
    "        for col in range(1, nrows+1):\n",
    "            if col < row:\n",
    "                print ('  ', end=' ')\n",
    "            else:\n",
    "                print(f'{row*col:2}', end=' ')\n",
    "        print()"
   ]
  },
  {
   "cell_type": "code",
   "execution_count": 227,
   "metadata": {},
   "outputs": [
    {
     "name": "stdout",
     "output_type": "stream",
     "text": [
      " 1  2  3  4  5 \n",
      "    4  6  8 10 \n",
      "       9 12 15 \n",
      "         16 20 \n",
      "            25 \n"
     ]
    }
   ],
   "source": [
    "mults_triangle(5)"
   ]
  },
  {
   "cell_type": "markdown",
   "metadata": {},
   "source": [
    "### Guess a Number\n",
    "Write a number-guessing game called **`guess(maxnum, ntries)`** that randomly selects a secret number from 1 to `maxnum`, then repeatedly prompts a user to guess the secret number. The game proceeds until either the user correctly guesses the number or the maximum number of tries is reached. Assume that `maxnum` and `ntries` are positive integers and that the user input is a valid integer.\n",
    "\n",
    "Here is sample output for `guess(5, 3)`:\n",
    " ```\n",
    " Guess a number from 1 to 5: 3  \n",
    " Guess a number from 1 to 5: 4  \n",
    " Correct!\n",
    " ```\n",
    " and for `guess(6, 2)`:\n",
    " \n",
    " ```\n",
    "Guess a number from 1 to 6:  2\n",
    "Guess a number from 1 to 6:  4\n",
    "Sorry, the number was 5.\n",
    " ```\n",
    " "
   ]
  },
  {
   "cell_type": "code",
   "execution_count": 320,
   "metadata": {},
   "outputs": [],
   "source": [
    "def guess(maxnum, ntries):\n",
    "    radnum = random.randint(1, maxnum)\n",
    "    tries = 0\n",
    "    while tries <= ntries:\n",
    "        guess = int(input(f'Guess a number from 1 to {maxnum}'))\n",
    "        tries += 1\n",
    "        if guess == radnum:\n",
    "            print('Correct!')\n",
    "            return\n",
    "        elif tries == ntries:\n",
    "            print(f'Sorry, the number was {radnum}.')\n",
    "            return"
   ]
  },
  {
   "cell_type": "code",
   "execution_count": 328,
   "metadata": {},
   "outputs": [],
   "source": [
    "#guess(5, 3)"
   ]
  },
  {
   "cell_type": "markdown",
   "metadata": {
    "tags": []
   },
   "source": [
    "### High or Low\n",
    "Write a variation of the guessing game called **`guess_hi_lo(maxnum, ntries)`**. This version helps the user by indicating whether an incorrect guess is too high or low. \n",
    "\n",
    "Here is sample output for `guess_hi_lo(10, 3)`:\n",
    "\n",
    " ```\n",
    " Guess a number from 1 to 10: 5  \n",
    " Too low. \n",
    " Guess a number from 1 to 10: 8  \n",
    " Too high. \n",
    " Guess a number from 1 to 10: 6  \n",
    " Correct!\n",
    " ```"
   ]
  },
  {
   "cell_type": "code",
   "execution_count": 338,
   "metadata": {},
   "outputs": [],
   "source": [
    "def guess_hi_lo(maxnum, ntries):\n",
    "    radnum = random.randint(1, maxnum)\n",
    "    tries = 0\n",
    "    while tries <= ntries:\n",
    "        guess = int(input(f'Guess a number from 1 to {maxnum}'))\n",
    "        tries += 1\n",
    "        if guess > radnum:\n",
    "            print('Too high.')\n",
    "        if guess < radnum:\n",
    "            print('Too low.')\n",
    "        if guess == radnum:\n",
    "            print('Correct!')\n",
    "            return\n",
    "        elif tries == ntries:\n",
    "            print(f'Sorry, the number was {radnum}.')\n",
    "            return"
   ]
  },
  {
   "cell_type": "code",
   "execution_count": 342,
   "metadata": {},
   "outputs": [],
   "source": [
    "#guess_hi_lo(10, 3)"
   ]
  },
  {
   "cell_type": "markdown",
   "metadata": {},
   "source": [
    "### Comment out all calls to `input()`, `guess()` and `guess_hi_lo()`\n",
    "before uploading your `Lab8.py` file\n"
   ]
  },
  {
   "cell_type": "markdown",
   "metadata": {},
   "source": [
    "___\n",
    "\n",
    "# Extra Problems\n",
    "Work on these problems after you complete the previous problems."
   ]
  },
  {
   "cell_type": "markdown",
   "metadata": {},
   "source": [
    "### Rolling a Die\n",
    "Write a function **`roll_die_all()`** that simulates the rolling of a fair six-sided die until all 6 numbers appear. The function prints the rolls in a row and returns the total number of rolls.\n",
    "\n",
    "Example:  \n",
    "`roll_die_all()` might display \n",
    "```\n",
    "5 5 1 1 3 6 1 2 4\n",
    "9\n",
    "```"
   ]
  },
  {
   "cell_type": "code",
   "execution_count": null,
   "metadata": {},
   "outputs": [],
   "source": []
  },
  {
   "cell_type": "markdown",
   "metadata": {},
   "source": [
    "### Weighted Dice\n",
    "In a typical die, the opposite faces are (1,6), (2,5), and (3,4), with each pair summing to 7. When a fair die is rolled, each number is equally likely to appear. Suppose a die is weighted so that it is $k$ times as likely to roll 3 than to roll 4, and the probability of rolling each of the other numbers remains as $\\frac 16$. How does this affect the outcomes when two weighted dice are rolled?\n",
    "\n",
    "* Write a function **`weighted_dice(ratio34)`** that simulates the rolling of 2 weighted dice 10,000 times. It returns an 11-element list of the probabilities of rolling each of the sums from 2 to 12, where `ratio34` corresponds to the value $k$.\n",
    "\n",
    "* **Plot the outcomes** for $k=1$ and $k=2.5$ as bar charts.\n",
    "\n",
    "Example:<br />\n",
    "`weighted_dice(1)[:6]` might return<br />\n",
    "     `[0.0262, 0.0542, 0.0856, 0.1161, 0.1394, 0.1655]`.\n",
    "     \n",
    "`weighted_dice(2.5)[:6]` might return<br />\n",
    "     `[0.0272, 0.0575, 0.0995, 0.1127, 0.1428, 0.1542]`.\n",
    "     \n",
    "<img src=\"http://www.coloradomath.org/python/weighted_dice.jpg\" width=\"518\" height=\"346\" />"
   ]
  },
  {
   "cell_type": "code",
   "execution_count": null,
   "metadata": {},
   "outputs": [],
   "source": []
  }
 ],
 "metadata": {
  "kernelspec": {
   "display_name": "Python 3 (ipykernel)",
   "language": "python",
   "name": "python3"
  },
  "language_info": {
   "codemirror_mode": {
    "name": "ipython",
    "version": 3
   },
   "file_extension": ".py",
   "mimetype": "text/x-python",
   "name": "python",
   "nbconvert_exporter": "python",
   "pygments_lexer": "ipython3",
   "version": "3.12.4"
  }
 },
 "nbformat": 4,
 "nbformat_minor": 4
}
