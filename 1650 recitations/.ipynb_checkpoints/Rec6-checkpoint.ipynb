{
 "cells": [
  {
   "cell_type": "markdown",
   "metadata": {
    "tags": []
   },
   "source": [
    "# Recitation 6\n",
    "___"
   ]
  },
  {
   "cell_type": "code",
   "execution_count": 206,
   "metadata": {},
   "outputs": [],
   "source": [
    "import math\n",
    "import random"
   ]
  },
  {
   "cell_type": "markdown",
   "metadata": {},
   "source": [
    "### Modifying and Copying Lists\n",
    "\n",
    "Write a function **`replace_3(nums)`** that **modifies** the list argument, replacing every integer that ends in 3 or is divisible by 3 with 0. It does not return a value. (Note: Whenever a function does not explicitly return a value, the default value is `None`.)\n",
    "\n",
    "Example:\n",
    "```\n",
    "alist = list(range(11, 21))\n",
    "replace_3(alist)\n",
    "```\n",
    "does not display anything. The variable `alist` now contains\n",
    "```\n",
    "[11, 0, 0, 14, 0, 16, 17, 0, 19, 20]\n",
    "```"
   ]
  },
  {
   "cell_type": "code",
   "execution_count": 208,
   "metadata": {},
   "outputs": [],
   "source": [
    "def replace_3(nums):\n",
    "    for l in range(len(nums)):\n",
    "        if nums[l] % 3 == 0 or nums[l] % 10 == 3:\n",
    "            nums[l] = 0"
   ]
  },
  {
   "cell_type": "code",
   "execution_count": 209,
   "metadata": {},
   "outputs": [],
   "source": [
    "alist = list(range(11, 21))\n",
    "replace_3(alist)"
   ]
  },
  {
   "cell_type": "code",
   "execution_count": 210,
   "metadata": {},
   "outputs": [
    {
     "data": {
      "text/plain": [
       "[11, 0, 0, 14, 0, 16, 17, 0, 19, 20]"
      ]
     },
     "execution_count": 210,
     "metadata": {},
     "output_type": "execute_result"
    }
   ],
   "source": [
    "alist"
   ]
  },
  {
   "cell_type": "markdown",
   "metadata": {},
   "source": [
    "Write a function **`replace_3_new(nums)`** that returns a new list containing the integers in `nums`, except that every integer that ends in 3 or is divisible by 3 is replaced with 0.\n",
    "\n",
    "Example:\n",
    "```\n",
    "alist = list(range(11, 21))\n",
    "replace_3_new(alist)\n",
    "```\n",
    "returns \n",
    "```\n",
    "[11, 0, 0, 14, 0, 16, 17, 0, 19, 20]\n",
    "```\n",
    "leaving `alist` the same."
   ]
  },
  {
   "cell_type": "code",
   "execution_count": 212,
   "metadata": {},
   "outputs": [],
   "source": [
    "def replace_3_new(nums):\n",
    "    new_list = []\n",
    "    for l in range(len(nums)):\n",
    "        if nums[l] % 3 == 0 or nums[l] % 10 == 3:\n",
    "            new_list.append(0)\n",
    "        else:\n",
    "            new_list.append(nums[l])\n",
    "\n",
    "    return new_list"
   ]
  },
  {
   "cell_type": "code",
   "execution_count": 213,
   "metadata": {},
   "outputs": [
    {
     "data": {
      "text/plain": [
       "[11, 0, 0, 14, 0, 16, 17, 0, 19, 20]"
      ]
     },
     "execution_count": 213,
     "metadata": {},
     "output_type": "execute_result"
    }
   ],
   "source": [
    "alist = list(range(11, 21))\n",
    "replace_3_new(alist)"
   ]
  },
  {
   "cell_type": "markdown",
   "metadata": {},
   "source": [
    "### Random Numbers"
   ]
  },
  {
   "cell_type": "markdown",
   "metadata": {},
   "source": [
    "**Use list comprehensions** and the `random` module to create the following lists. Store the results in the variables named below:\n",
    "* **`rand1`**: A list of 10 real numbers randomly drawn from the interval $ [0, 1) $.\n",
    "* **`rand2`**: A list of 10 real numbers randomly drawn from the interval $ [1, 4] $.\n",
    "* **`rand3`**: A list of 10 integers randomly selected from the range 1 to 50, inclusive.\n",
    "* **`rand4`**: A list of 10 randomly chosen votes, each `'Aye'` or `'Nay'`.\n",
    "* **`rand5`**: A random reordering of the letters in `'ABCDEFGHIJ'`.  \n",
    "(*Hint:* To concatenate a list of strings, use `join()`. For example, `''.join(['c', 'u', 'buff'])` returns `'cubuff'`.)"
   ]
  },
  {
   "cell_type": "code",
   "execution_count": 216,
   "metadata": {},
   "outputs": [],
   "source": [
    "rand1 = [random.random() for i in range(10)]"
   ]
  },
  {
   "cell_type": "code",
   "execution_count": 217,
   "metadata": {},
   "outputs": [],
   "source": [
    "rand2 = [random.uniform(1, 4) for i in range(10)]"
   ]
  },
  {
   "cell_type": "code",
   "execution_count": 218,
   "metadata": {},
   "outputs": [],
   "source": [
    "rand3 = [random.randint(1, 50) for i in range(10)]"
   ]
  },
  {
   "cell_type": "code",
   "execution_count": 219,
   "metadata": {},
   "outputs": [],
   "source": [
    "rand4 = [random.choice(['Aye', 'Nay']) for i in range(10)]"
   ]
  },
  {
   "cell_type": "code",
   "execution_count": 287,
   "metadata": {},
   "outputs": [],
   "source": [
    "letters = list('ABCDEFGHIJ')\n",
    "random.shuffle(letters)\n",
    "rand5 = ''.join(letters)"
   ]
  },
  {
   "cell_type": "markdown",
   "metadata": {},
   "source": [
    "### Coin Flips\n",
    "Write a function **`flip_coin(nflips)`** that uses `random.choice()` to simulate the flipping of a coin `nflips` times. Let `'H'` represent heads and `'T'` represent tails. The function prints the flips in a row, then returns a two-element tuple containing the fraction of heads and tails, respectively. (*Hint:* You may use `count()`.)\n",
    "\n",
    "`flip_coin(10)` might display\n",
    "```\n",
    "T T H T T H H H H H \n",
    "```\n",
    "and return the value `(0.6, 0.4)`."
   ]
  },
  {
   "cell_type": "code",
   "execution_count": 267,
   "metadata": {},
   "outputs": [],
   "source": [
    "def flip_coin(nflips):\n",
    "    flips = [random.choice('HT') for n in range(nflips)]\n",
    "    print(' '.join(flips))\n",
    "    return (flips.count('H') / nflips, flips.count('T') / nflips)"
   ]
  },
  {
   "cell_type": "code",
   "execution_count": 275,
   "metadata": {},
   "outputs": [
    {
     "name": "stdout",
     "output_type": "stream",
     "text": [
      "H H H T H T H T H H\n"
     ]
    },
    {
     "data": {
      "text/plain": [
       "(0.7, 0.3)"
      ]
     },
     "execution_count": 275,
     "metadata": {},
     "output_type": "execute_result"
    }
   ],
   "source": [
    "flip_coin(10)"
   ]
  },
  {
   "cell_type": "markdown",
   "metadata": {},
   "source": [
    "___\n",
    "\n",
    "### Markdown Typesetting Exercise\n",
    "\n",
    "A brief introduction to Markdown can be found here:\n",
    "https://www.markdownguide.org/cheat-sheet/.\n",
    "\n",
    "Below is a sample paragraph that includes bold and italic fonts, an itemized list, table, code block, and image. The image can be inserted from https://www.python.org/static/community_logos/python-logo-master-v3-TM.png.\n"
   ]
  },
  {
   "cell_type": "markdown",
   "metadata": {},
   "source": [
    "**Use Markdown to duplicate the information shown below.**\n",
    "\n",
    "![Python logo](http://www.coloradomath.org/python/Rec6markdown.jpg)\n",
    "\n",
    "___"
   ]
  },
  {
   "cell_type": "markdown",
   "metadata": {},
   "source": [
    "# Probability"
   ]
  },
  {
   "cell_type": "markdown",
   "metadata": {},
   "source": [
    "The **probability** of an event occurring is calculated as the number of the desired outcomes divided by the total number of outcomes. For one flip of a coin:  \n",
    "* P(0 heads) = 1/2\n",
    "* P(1 heads) = 1/2\n",
    "\n",
    "|Number of heads|Probability|\n",
    "|:--:|:--:|\n",
    "|0|1/2|\n",
    "|1|1/2|\n",
    "\n",
    "Code for calculating the number of ways to produce `nheads` heads in `nflips` flips:  \n",
    "\n",
    "    nflips = 4\n",
    "    nheads = 2\n",
    "    binom(nflips, nheads)\n",
    "\n",
    "![Python logo](https://upload.wikimedia.org/wikipedia/commons/f/f8/Python_logo_and_wordmark.svg)\n",
    "\n",
    "___"
   ]
  },
  {
   "cell_type": "markdown",
   "metadata": {},
   "source": [
    "# Extra Problems\n",
    "Work on these problems after completing the previous exercises."
   ]
  },
  {
   "cell_type": "markdown",
   "metadata": {
    "tags": []
   },
   "source": [
    "### Dice Rolls\n",
    "Create a function **`roll_die_freq(nrolls)`** that simulates the roll of a 6-sided die `nrolls` times. The function prints the rolls in a row, then returns a list containing the frequency of each roll. (It is inefficient to call `count()` six times. Find another way to calculate the frequencies.)\n",
    "\n",
    "\n",
    "  Sample output:<br>\n",
    "  `roll_die_freq(12)` might return\n",
    "```\n",
    "5 2 6 6 5 4 3 5 2 5 4 2 \n",
    "[0, 3, 1, 2, 4, 2]\n",
    "```\n",
    "corresponding to no 1s, three 2s, one 3, ..., and two 6s."
   ]
  },
  {
   "cell_type": "code",
   "execution_count": null,
   "metadata": {},
   "outputs": [],
   "source": []
  },
  {
   "cell_type": "markdown",
   "metadata": {},
   "source": [
    "### Random Number Frequency\n",
    "Write a function **`random_freq(n)`** that generates `n` random numbers from the interval $[0, 1)$ and returns the frequency distribution of the numbers in the 10 equal subintervals $[0, 0.1), [0.1, 0.2), \\ldots, [0.9, 1.0)$. Use a loop to calculate the frequencies. (*Hint:* Avoid writing a long `if` statement.)\n",
    "\n",
    "Sample output:<br>\n",
    "`random_freq(10)` might return `[0, 2, 0, 3, 1, 4, 0, 0, 0, 0]`<br>\n",
    "corresponding to the random numbers\n",
    "```\n",
    "[0.529880, 0.306731, 0.457731, 0.139694, 0.552234, 0.555196, 0.386445, 0.501698, 0.391520, 0.140578]\n",
    "```"
   ]
  },
  {
   "cell_type": "code",
   "execution_count": null,
   "metadata": {},
   "outputs": [],
   "source": []
  },
  {
   "cell_type": "markdown",
   "metadata": {},
   "source": [
    "### Counting Heads\n",
    "\n",
    "If $n$ fair coins are tossed, the probability $p$ that $k$ heads appear ($0 \\le k \\le n$) is\n",
    "$$ p = \\dfrac{\\binom{n}{k}}{2^n} \\qquad\n",
    "\\text{ where }\\binom nk = \\frac{n!}{k!(n-k)!}. $$\n",
    "\n",
    "Write a function **`prob_heads_sim(ncoins, nheads, nsim)`** that simulates the tossing of `ncoins` coins `nsim` times. It returns a tuple containing the fraction of times `nheads` heads appear among the coins, followed by the expected probability.\n",
    "\n",
    "Sample output:<br>\n",
    "`prob_heads_sim(10, 4, 1000)` might return `(0.19, 0.205078)`\n",
    "\n",
    "which corresponds to tossing 10 coins 1000 times and observing exactly 4 heads in 190 of the tosses. The expected probability is $0.205078$."
   ]
  },
  {
   "cell_type": "code",
   "execution_count": null,
   "metadata": {},
   "outputs": [],
   "source": []
  },
  {
   "cell_type": "markdown",
   "metadata": {},
   "source": [
    "Write a function **`prob_heads_all_sim(ncoins, nsim)`** that simulates the tossing of `ncoins` coins `nsim` times and compares the number of heads observed to the expected number. For each toss the number of heads is recorded. The function returns a list of 3-element tuples `(nheads, frac, prob)` where `nheads` equals the number of heads (ranging from 0 to `ncoins`), `frac` equals the fraction of times `nheads` heads appear, and `prob` is the expected probability. The sum of the `frac`s should equal 1. (This function *should not* call `prob_head_sim()` multiple times. That would be inefficient. )\n",
    "\n",
    "Sample output:<br>\n",
    "`prob_heads_all_sim(4, 1000)` might return\n",
    "```\n",
    "[(0, 0.07, 0.0625),\n",
    " (1, 0.259, 0.25),\n",
    " (2, 0.356, 0.375),\n",
    " (3, 0.247, 0.25),\n",
    " (4, 0.068, 0.0625)]\n",
    "```"
   ]
  },
  {
   "cell_type": "code",
   "execution_count": null,
   "metadata": {},
   "outputs": [],
   "source": []
  },
  {
   "cell_type": "markdown",
   "metadata": {},
   "source": [
    "### Challenge: Bit Strings\n",
    "What is the probability that a randomly generated 8-bit number has either three consecutive `0`s or four consecutive `1`s in binary representation? These two base-2 numbers meet the criteria: `11000101` and `00011110` but this number does not: `00111001`. Estimate the probability by generating 10,000 random 8-bit numbers. (You may use `bin(n)` which converts an integer `n` into a base-2 string.)"
   ]
  },
  {
   "cell_type": "code",
   "execution_count": 234,
   "metadata": {
    "tags": []
   },
   "outputs": [],
   "source": [
    "# prob_8bit ="
   ]
  }
 ],
 "metadata": {
  "kernelspec": {
   "display_name": "Python 3 (ipykernel)",
   "language": "python",
   "name": "python3"
  },
  "language_info": {
   "codemirror_mode": {
    "name": "ipython",
    "version": 3
   },
   "file_extension": ".py",
   "mimetype": "text/x-python",
   "name": "python",
   "nbconvert_exporter": "python",
   "pygments_lexer": "ipython3",
   "version": "3.12.4"
  }
 },
 "nbformat": 4,
 "nbformat_minor": 4
}
