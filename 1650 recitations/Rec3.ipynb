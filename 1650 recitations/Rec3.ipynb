{
 "cells": [
  {
   "cell_type": "markdown",
   "metadata": {
    "tags": []
   },
   "source": [
    "# Recitation 3\n",
    "**Name your notebook `Rec3.ipynb`.**\n",
    "\n",
    "___"
   ]
  },
  {
   "cell_type": "code",
   "execution_count": 1,
   "metadata": {},
   "outputs": [],
   "source": [
    "import math"
   ]
  },
  {
   "cell_type": "markdown",
   "metadata": {},
   "source": [
    "### Basic List Operations\n",
    "Consider the list **`nums = [900, 850, 800, 750, 700, 650, 600, 550]`**.\n",
    "\n",
    "Write commands to do the following:\n",
    "* Create the list `nums` using `range`.\n",
    "* Find the number of elements in `nums`.\n",
    "* Sum the elements in `nums`.\n",
    "* Sort `nums`.\n",
    "* Select the second element in `nums`.\n",
    "* Select the last element in `nums`. (Use a negative index.)\n",
    "* Change `nums` by inserting the number `2` to the end of the list to make<br>\n",
    "`[900, 850, 800, 750, 700, 650, 600, 550, 2]`."
   ]
  },
  {
   "cell_type": "code",
   "execution_count": 3,
   "metadata": {},
   "outputs": [],
   "source": [
    "nums = [900, 850, 800, 750, 700, 650, 600, 550]"
   ]
  },
  {
   "cell_type": "code",
   "execution_count": 12,
   "metadata": {},
   "outputs": [
    {
     "data": {
      "text/plain": [
       "[900, 850, 800, 750, 700, 650, 600, 550]"
      ]
     },
     "execution_count": 12,
     "metadata": {},
     "output_type": "execute_result"
    }
   ],
   "source": [
    "list(range(900, 500, -50))"
   ]
  },
  {
   "cell_type": "code",
   "execution_count": 14,
   "metadata": {},
   "outputs": [
    {
     "data": {
      "text/plain": [
       "8"
      ]
     },
     "execution_count": 14,
     "metadata": {},
     "output_type": "execute_result"
    }
   ],
   "source": [
    "len(nums)"
   ]
  },
  {
   "cell_type": "code",
   "execution_count": 17,
   "metadata": {},
   "outputs": [
    {
     "data": {
      "text/plain": [
       "5800"
      ]
     },
     "execution_count": 17,
     "metadata": {},
     "output_type": "execute_result"
    }
   ],
   "source": [
    "sum(nums)"
   ]
  },
  {
   "cell_type": "code",
   "execution_count": 22,
   "metadata": {},
   "outputs": [
    {
     "data": {
      "text/plain": [
       "850"
      ]
     },
     "execution_count": 22,
     "metadata": {},
     "output_type": "execute_result"
    }
   ],
   "source": [
    "nums[1]"
   ]
  },
  {
   "cell_type": "code",
   "execution_count": 24,
   "metadata": {},
   "outputs": [
    {
     "data": {
      "text/plain": [
       "550"
      ]
     },
     "execution_count": 24,
     "metadata": {},
     "output_type": "execute_result"
    }
   ],
   "source": [
    "nums[-1]"
   ]
  },
  {
   "cell_type": "code",
   "execution_count": 55,
   "metadata": {},
   "outputs": [
    {
     "data": {
      "text/plain": [
       "[900, 850, 800, 750, 700, 650, 600, 550, 2]"
      ]
     },
     "execution_count": 55,
     "metadata": {},
     "output_type": "execute_result"
    }
   ],
   "source": [
    "nums + [2]"
   ]
  },
  {
   "cell_type": "markdown",
   "metadata": {},
   "source": [
    "### Tuple Selection and Slicing\n",
    "The syntax for selecting list elements or slicing a list (using `:`) can be used for tuples also. Select these elements from \n",
    "\n",
    "`tup = ('Ralph', 123456789, 'Folsom', 80309, 'buff')`\n",
    "* Every other element starting with the first element: `('Ralph', 'Folsom', 'buff')`\n",
    "* All of the elements except the first two elements: `('Folsom', 80309, 'buff')`\n",
    "* All of the elements except the last two elements (using a negative index): `[('Ralph', 123456789, 'Folsom')` \n",
    "* Select the next to last element (using a negative index): `80309`"
   ]
  },
  {
   "cell_type": "code",
   "execution_count": 34,
   "metadata": {},
   "outputs": [],
   "source": [
    "tup = ('Ralph', 123456789, 'Folsom', 80309, 'buff')"
   ]
  },
  {
   "cell_type": "code",
   "execution_count": 40,
   "metadata": {},
   "outputs": [
    {
     "data": {
      "text/plain": [
       "('Ralph', 'Folsom', 'buff')"
      ]
     },
     "execution_count": 40,
     "metadata": {},
     "output_type": "execute_result"
    }
   ],
   "source": [
    "tup[0:5:2]"
   ]
  },
  {
   "cell_type": "code",
   "execution_count": 46,
   "metadata": {},
   "outputs": [
    {
     "data": {
      "text/plain": [
       "('Folsom', 80309, 'buff')"
      ]
     },
     "execution_count": 46,
     "metadata": {},
     "output_type": "execute_result"
    }
   ],
   "source": [
    "tup[2:5]"
   ]
  },
  {
   "cell_type": "code",
   "execution_count": 50,
   "metadata": {},
   "outputs": [
    {
     "data": {
      "text/plain": [
       "('Ralph', 123456789, 'Folsom')"
      ]
     },
     "execution_count": 50,
     "metadata": {},
     "output_type": "execute_result"
    }
   ],
   "source": [
    "tup[-5:-2]"
   ]
  },
  {
   "cell_type": "code",
   "execution_count": 59,
   "metadata": {},
   "outputs": [
    {
     "data": {
      "text/plain": [
       "80309"
      ]
     },
     "execution_count": 59,
     "metadata": {},
     "output_type": "execute_result"
    }
   ],
   "source": [
    "tup[-2]"
   ]
  },
  {
   "cell_type": "markdown",
   "metadata": {},
   "source": [
    "### Unpacking a Tuple\n",
    "Multiple assignment can be used to assign each element of a tuple to a different variable. For example, given the tuple\n",
    "```\n",
    "student = ('Ralph', 123456789)\n",
    "```\n",
    "the assignment\n",
    "```\n",
    "name, sid = student\n",
    "```\n",
    "is equivalent to\n",
    "```\n",
    "name = student[0]\n",
    "sid = student[1]\n",
    "```\n",
    "Try it."
   ]
  },
  {
   "cell_type": "code",
   "execution_count": 67,
   "metadata": {},
   "outputs": [],
   "source": [
    "student = ('Ralph', 123456789)"
   ]
  },
  {
   "cell_type": "code",
   "execution_count": 71,
   "metadata": {
    "tags": []
   },
   "outputs": [],
   "source": [
    "name, sid = student"
   ]
  },
  {
   "cell_type": "markdown",
   "metadata": {
    "tags": []
   },
   "source": [
    "### Name to String\n",
    "Write a function **`name_to_str(name_tup)`** that takes a name in the form of a tuple `(first, middle, last)` consisting of three strings, and returns a string representation `last, first m` where `m` is the middle initial. If `middle` is an empty string `''`, the output string will be `last, first`. \n",
    "\n",
    "**Use the multiple assignment unpacking** shown above  (*not* indexing with 0 and 1) to extract the names from the tuple. Note the double sets of parentheses in the function calls below.\n",
    "\n",
    "Examples:<br />\n",
    "`name_to_str(('Louisa', 'May', 'Alcott'))` returns `'Alcott, Louisa M'`<br />\n",
    "`name_to_str(('Louisa', '', 'Alcott'))` returns `'Alcott, Louisa'`"
   ]
  },
  {
   "cell_type": "code",
   "execution_count": 118,
   "metadata": {},
   "outputs": [],
   "source": [
    "def name_to_str(name_tup):\n",
    "    first, middle, last = name_tup\n",
    "    if middle == '':\n",
    "        return (last + ', ' + first)\n",
    "    else: \n",
    "        return (last + ', ' + first + ' ' + middle[0])"
   ]
  },
  {
   "cell_type": "code",
   "execution_count": 105,
   "metadata": {},
   "outputs": [
    {
     "data": {
      "text/plain": [
       "'Alcott, Louisa M'"
      ]
     },
     "execution_count": 105,
     "metadata": {},
     "output_type": "execute_result"
    }
   ],
   "source": [
    "name_to_str(('Louisa', 'May', 'Alcott'))"
   ]
  },
  {
   "cell_type": "code",
   "execution_count": 120,
   "metadata": {},
   "outputs": [
    {
     "data": {
      "text/plain": [
       "'Alcott, Louisa'"
      ]
     },
     "execution_count": 120,
     "metadata": {},
     "output_type": "execute_result"
    }
   ],
   "source": [
    "name_to_str(('Louisa', '', 'Alcott'))"
   ]
  },
  {
   "cell_type": "markdown",
   "metadata": {},
   "source": [
    "### Optional Arguments\n",
    "When defining a function, one can specify that some arguments are optional by assigning default values to them. For example,\n",
    "```\n",
    "def incr_num(num, incr=1):\n",
    "    return num + incr\n",
    "```\n",
    "will increment `num` by `incr` if specified. Otherwise it will assign a default value of 1 to the argument `incr`. Note that optional arguments must be placed at the end of the list of arguments. For this function, the argument `incr` must follow `num` in the `def` statement. \n",
    "\n",
    "Examples:<br>\n",
    "`incr_num(25, 10)` returns `35`.<br>\n",
    "`incr_num(25)` returns `26`.\n",
    "\n",
    "Try calling this function with 1 or 2 arguments."
   ]
  },
  {
   "cell_type": "code",
   "execution_count": 122,
   "metadata": {},
   "outputs": [],
   "source": [
    "def incr_num(num, incr=1):\n",
    "    return num + incr"
   ]
  },
  {
   "cell_type": "code",
   "execution_count": 124,
   "metadata": {},
   "outputs": [
    {
     "data": {
      "text/plain": [
       "35"
      ]
     },
     "execution_count": 124,
     "metadata": {},
     "output_type": "execute_result"
    }
   ],
   "source": [
    "incr_num(25, 10)"
   ]
  },
  {
   "cell_type": "code",
   "execution_count": 126,
   "metadata": {},
   "outputs": [
    {
     "data": {
      "text/plain": [
       "26"
      ]
     },
     "execution_count": 126,
     "metadata": {},
     "output_type": "execute_result"
    }
   ],
   "source": [
    "incr_num(25)"
   ]
  },
  {
   "cell_type": "markdown",
   "metadata": {},
   "source": [
    "### First and Last Elements of a List\n",
    "Write a function **`first_last(alist)`** that takes a list and returns the first and last elements in a new list. Assume that `alist` is a non-empty `list`.\n",
    "\n",
    "Example:  \n",
    "`first_last([3, 5, 10, 14])` returns `[3, 14]`.<br>\n",
    "`first_last(['bon'])` returns `['bon', 'bon']`."
   ]
  },
  {
   "cell_type": "code",
   "execution_count": 136,
   "metadata": {},
   "outputs": [],
   "source": [
    "def first_last(alist):\n",
    "    return [alist[0], alist[-1]]"
   ]
  },
  {
   "cell_type": "code",
   "execution_count": 138,
   "metadata": {},
   "outputs": [
    {
     "data": {
      "text/plain": [
       "[3, 14]"
      ]
     },
     "execution_count": 138,
     "metadata": {},
     "output_type": "execute_result"
    }
   ],
   "source": [
    "first_last([3, 5, 10, 14])"
   ]
  },
  {
   "cell_type": "code",
   "execution_count": 142,
   "metadata": {},
   "outputs": [
    {
     "data": {
      "text/plain": [
       "['bon', 'bon']"
      ]
     },
     "execution_count": 142,
     "metadata": {},
     "output_type": "execute_result"
    }
   ],
   "source": [
    "first_last(['bon'])"
   ]
  },
  {
   "cell_type": "markdown",
   "metadata": {},
   "source": [
    "Write a function **`first_last_eq(alist)`** that returns `True` if the first and last elements of `alist` are equal. Assume that `alist` is a non-empty`list`."
   ]
  },
  {
   "cell_type": "code",
   "execution_count": 144,
   "metadata": {},
   "outputs": [],
   "source": [
    "def first_last_eq(alist):\n",
    "    return alist[0] == alist[-1]"
   ]
  },
  {
   "cell_type": "code",
   "execution_count": 148,
   "metadata": {},
   "outputs": [
    {
     "data": {
      "text/plain": [
       "True"
      ]
     },
     "execution_count": 148,
     "metadata": {},
     "output_type": "execute_result"
    }
   ],
   "source": [
    "first_last_eq([1, 2, 1])"
   ]
  },
  {
   "cell_type": "code",
   "execution_count": 151,
   "metadata": {},
   "outputs": [
    {
     "data": {
      "text/plain": [
       "False"
      ]
     },
     "execution_count": 151,
     "metadata": {},
     "output_type": "execute_result"
    }
   ],
   "source": [
    "first_last_eq([1, 2, 3])"
   ]
  },
  {
   "cell_type": "markdown",
   "metadata": {},
   "source": [
    "### Shrink a List\n",
    "Write a function **shrink(alist)** that takes a list and returns a new list with the first and last elements removed. Assume that `alist` is a `list`. If `alist` has two or fewer elements, the function returns an empty list. \n",
    "\n",
    "Example:  \n",
    "`shrink([1, 2, 3, 4, 5])` returns `[2, 3, 4]`.<br>\n",
    "`shrink([5])` returns `[]`."
   ]
  },
  {
   "cell_type": "code",
   "execution_count": 154,
   "metadata": {},
   "outputs": [],
   "source": [
    "def shrink(alist):\n",
    "    Last_2 = len(alist) - 1\n",
    "    return alist[1:Last_2]"
   ]
  },
  {
   "cell_type": "code",
   "execution_count": 156,
   "metadata": {},
   "outputs": [
    {
     "data": {
      "text/plain": [
       "[2, 3, 4]"
      ]
     },
     "execution_count": 156,
     "metadata": {},
     "output_type": "execute_result"
    }
   ],
   "source": [
    "shrink ([1, 2, 3, 4, 5])"
   ]
  },
  {
   "cell_type": "code",
   "execution_count": 158,
   "metadata": {},
   "outputs": [
    {
     "data": {
      "text/plain": [
       "[]"
      ]
     },
     "execution_count": 158,
     "metadata": {},
     "output_type": "execute_result"
    }
   ],
   "source": [
    "shrink ([5])"
   ]
  },
  {
   "cell_type": "markdown",
   "metadata": {},
   "source": [
    "### Duplicate a List Element\n",
    "\n",
    "Write a function **`dup_elt(alist, pos=0)`** that takes a list and expands it by duplicating the element in position `pos`, returning a new list. Assume that `alist` is a non-empty `list` and `pos` is a non-negative `int`. If `alist[pos]` does not exist, return `alist` unchanged.\n",
    "\n",
    "**Optional argument**: The argument specification `pos=0` assigns the default value of `0` to `pos` if omitted from the function call.\n",
    "\n",
    "Example:  \n",
    "`dup_elt([1, 2, 100, 8])` returns `[1, 1, 2, 100, 8]`.<br>\n",
    "`dup_elt([1, 2, 100, 8], 2)` returns `[1, 2, 100, 100, 8]`.<br>\n",
    "`dup_elt([1, 2, 100, 8], 10)` returns `[1, 2, 100, 8]`."
   ]
  },
  {
   "cell_type": "code",
   "execution_count": 318,
   "metadata": {},
   "outputs": [],
   "source": [
    "def dup_elt (alist, pos=0):\n",
    "    if pos < len(alist):\n",
    "        alist = alist[:pos] + [alist[pos]] + alist[pos:]\n",
    "        return alist\n",
    "    else:\n",
    "        return alist"
   ]
  },
  {
   "cell_type": "code",
   "execution_count": 320,
   "metadata": {},
   "outputs": [
    {
     "data": {
      "text/plain": [
       "[1, 1, 2, 100, 8]"
      ]
     },
     "execution_count": 320,
     "metadata": {},
     "output_type": "execute_result"
    }
   ],
   "source": [
    "dup_elt([1, 2, 100, 8])"
   ]
  },
  {
   "cell_type": "code",
   "execution_count": 322,
   "metadata": {},
   "outputs": [
    {
     "data": {
      "text/plain": [
       "[1, 2, 100, 100, 8]"
      ]
     },
     "execution_count": 322,
     "metadata": {},
     "output_type": "execute_result"
    }
   ],
   "source": [
    "dup_elt([1, 2, 100, 8], 2)"
   ]
  },
  {
   "cell_type": "code",
   "execution_count": 324,
   "metadata": {},
   "outputs": [
    {
     "data": {
      "text/plain": [
       "[1, 2, 100, 8]"
      ]
     },
     "execution_count": 324,
     "metadata": {},
     "output_type": "execute_result"
    }
   ],
   "source": [
    "dup_elt([1, 2, 100, 8], 10)"
   ]
  },
  {
   "cell_type": "markdown",
   "metadata": {},
   "source": [
    "---\n",
    "\n",
    "## Extra Problems\n",
    "Work on these problems after completing the previous exercises."
   ]
  },
  {
   "cell_type": "markdown",
   "metadata": {},
   "source": [
    "### Number of Digits\n",
    "Write a function **`num_digits(num)`** that returns the number of digits in `num` **using string operations**. (Do *not* use `math.log10`.) Assume that `num` is a positive `int`. \n",
    "(*Hint:* What do `str(2021)` and `int(str(2021))` produce?)"
   ]
  },
  {
   "cell_type": "code",
   "execution_count": null,
   "metadata": {},
   "outputs": [],
   "source": []
  },
  {
   "cell_type": "code",
   "execution_count": null,
   "metadata": {},
   "outputs": [],
   "source": []
  },
  {
   "cell_type": "code",
   "execution_count": null,
   "metadata": {},
   "outputs": [],
   "source": []
  },
  {
   "cell_type": "markdown",
   "metadata": {},
   "source": [
    "### Rotate digits of a number\n",
    "Write a function **`rotate(num)`** that shifts the digits of a number by one position to the left with wraparound. **Use string operations.** You may assume that `num` is an `int`.\n",
    "\n",
    "Example:  \n",
    "`rotate(12345)` returns `23451`.<br>\n",
    "`rotate(6)` returns `6`."
   ]
  },
  {
   "cell_type": "code",
   "execution_count": null,
   "metadata": {},
   "outputs": [],
   "source": []
  },
  {
   "cell_type": "code",
   "execution_count": null,
   "metadata": {},
   "outputs": [],
   "source": []
  },
  {
   "cell_type": "code",
   "execution_count": null,
   "metadata": {},
   "outputs": [],
   "source": []
  },
  {
   "cell_type": "markdown",
   "metadata": {},
   "source": [
    "Write another version of `rotate` called **`rotate2(num)`**, this time using arithmetic operations."
   ]
  },
  {
   "cell_type": "code",
   "execution_count": null,
   "metadata": {},
   "outputs": [],
   "source": []
  },
  {
   "cell_type": "code",
   "execution_count": null,
   "metadata": {},
   "outputs": [],
   "source": []
  },
  {
   "cell_type": "code",
   "execution_count": null,
   "metadata": {},
   "outputs": [],
   "source": []
  },
  {
   "cell_type": "markdown",
   "metadata": {},
   "source": [
    "### Rotate digits of a number\n",
    "Write a function **`rotate_LR(num, npos, dir)`** that rotates the digits of a number by `npos` positions with wraparound. The direction of rotation is either left or right: `dir='L'` (the default) or `'R'`. You may assume that `num` and `npos` are positive `int`s. Use either string or arithmetic operations.\n",
    "\n",
    "Example:  \n",
    "`rotate_LR(654321, 2)` returns `432165`.<br>\n",
    "`rotate_LR(654321, 2, 'R')` returns `216543`.<br>\n",
    "`rotate_LR(6, 4)` returns `6`."
   ]
  },
  {
   "cell_type": "code",
   "execution_count": null,
   "metadata": {},
   "outputs": [],
   "source": []
  },
  {
   "cell_type": "code",
   "execution_count": null,
   "metadata": {},
   "outputs": [],
   "source": []
  },
  {
   "cell_type": "code",
   "execution_count": null,
   "metadata": {},
   "outputs": [],
   "source": []
  },
  {
   "cell_type": "code",
   "execution_count": null,
   "metadata": {},
   "outputs": [],
   "source": []
  },
  {
   "cell_type": "markdown",
   "metadata": {},
   "source": [
    "### Approximating Pi\n",
    "\n",
    "In ancient times Archimedes approximated the value of $\\pi$ by calculating the areas of inscribed and circumscribed regular polygons in a unit circle. Note that an inscribed polygon will underestimate the value of $\\pi$, providing a lower bound, and a circumscribed polygon will overestimate the value of $\\pi$, providing an upper bound.\n",
    "\n",
    "Write a function **`inscribed_ngon_area(n)`** that returns the area of a regular $n$-sided polygon inscribed in a unit circle. Assume that `n` is an `int` greater than or equal to 3. (*Hint:* Note that a regular $n$-gon can be divided into $n$ congruent isosceles triangles. See the example below for $n=8$. Do not look up the formula on the internet.)\n",
    "\n",
    "Example:  \n",
    "`inscribed_ngon_area(8)` returns `2.828427`.\n",
    "\n",
    "<img src=\"http://www.coloradomath.org/python/inscribed-polygon.png\" width=231 />"
   ]
  },
  {
   "cell_type": "code",
   "execution_count": null,
   "metadata": {},
   "outputs": [],
   "source": []
  },
  {
   "cell_type": "code",
   "execution_count": null,
   "metadata": {},
   "outputs": [],
   "source": []
  },
  {
   "cell_type": "code",
   "execution_count": null,
   "metadata": {},
   "outputs": [],
   "source": []
  },
  {
   "cell_type": "markdown",
   "metadata": {},
   "source": [
    "Write a function **`circumscribed_ngon_area(n)`** that returns the area of a regular $n$-sided polygon inscribed in a unit circle. Assume that `n` is an `int` greater than or equal to 3. Do not look up the formula on the internet.\n",
    "\n",
    "Example:  \n",
    "`circumscribed_ngon_area(8)` returns `3.313708`.\n",
    "\n",
    "<img src=\"http://www.coloradomath.org/python/circumscribed-polygon.png\" width=275 />\n",
    "\n",
    "\n"
   ]
  },
  {
   "cell_type": "code",
   "execution_count": null,
   "metadata": {},
   "outputs": [],
   "source": []
  },
  {
   "cell_type": "code",
   "execution_count": null,
   "metadata": {},
   "outputs": [],
   "source": []
  },
  {
   "cell_type": "code",
   "execution_count": null,
   "metadata": {},
   "outputs": [],
   "source": []
  }
 ],
 "metadata": {
  "kernelspec": {
   "display_name": "Python 3 (ipykernel)",
   "language": "python",
   "name": "python3"
  },
  "language_info": {
   "codemirror_mode": {
    "name": "ipython",
    "version": 3
   },
   "file_extension": ".py",
   "mimetype": "text/x-python",
   "name": "python",
   "nbconvert_exporter": "python",
   "pygments_lexer": "ipython3",
   "version": "3.12.4"
  }
 },
 "nbformat": 4,
 "nbformat_minor": 4
}
