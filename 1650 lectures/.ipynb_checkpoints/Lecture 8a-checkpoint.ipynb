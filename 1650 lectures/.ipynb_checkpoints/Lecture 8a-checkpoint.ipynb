{
 "cells": [
  {
   "cell_type": "markdown",
   "id": "3b0428a9-0496-4039-a212-3afd23bddcf6",
   "metadata": {},
   "source": [
    "### Lecture 8a"
   ]
  },
  {
   "cell_type": "code",
   "execution_count": 234,
   "id": "091776c3-c60d-416b-8bde-550c55873b7b",
   "metadata": {},
   "outputs": [],
   "source": [
    "import random"
   ]
  },
  {
   "cell_type": "markdown",
   "id": "31987736-4b13-4cd6-9d67-49a27fec49f4",
   "metadata": {},
   "source": [
    "### Zip, Unzip"
   ]
  },
  {
   "cell_type": "code",
   "execution_count": 11,
   "id": "9d07f814-4f2c-4aa5-8d2a-03a1201f2e32",
   "metadata": {},
   "outputs": [
    {
     "data": {
      "text/plain": [
       "[('Mon', 1), ('Wed', 3), ('Fri', 5)]"
      ]
     },
     "execution_count": 11,
     "metadata": {},
     "output_type": "execute_result"
    }
   ],
   "source": [
    "days = ['Mon', 'Wed', 'Fri']\n",
    "day_nums = [1, 3, 5]\n",
    "day_tuples = list(zip(days, day_nums))\n",
    "day_tuples"
   ]
  },
  {
   "cell_type": "code",
   "execution_count": 19,
   "id": "33792089-b215-4143-b674-32b21cecdf0a",
   "metadata": {},
   "outputs": [
    {
     "data": {
      "text/plain": [
       "[('Mon', 'Wed', 'Fri'), (1, 3, 5)]"
      ]
     },
     "execution_count": 19,
     "metadata": {},
     "output_type": "execute_result"
    }
   ],
   "source": [
    "list(zip(*day_tuples)) #zip with asterisks to unzip"
   ]
  },
  {
   "cell_type": "code",
   "execution_count": 21,
   "id": "a5b63000-6063-48d2-8132-cac9aefc36fb",
   "metadata": {},
   "outputs": [
    {
     "data": {
      "text/plain": [
       "[(0, 2, 2), (0, 0, 1)]"
      ]
     },
     "execution_count": 21,
     "metadata": {},
     "output_type": "execute_result"
    }
   ],
   "source": [
    "coords = [(0, 0), (2, 0), (2, 1)]\n",
    "list(zip(*coords))"
   ]
  },
  {
   "cell_type": "markdown",
   "id": "fe7f7f72-3be3-4b32-8672-829f9847f390",
   "metadata": {},
   "source": [
    "### Tuples"
   ]
  },
  {
   "cell_type": "code",
   "execution_count": 24,
   "id": "1c8089ed-9d83-4e97-ba37-575b4ce477d8",
   "metadata": {},
   "outputs": [
    {
     "data": {
      "text/plain": [
       "(1, 2, 3)"
      ]
     },
     "execution_count": 24,
     "metadata": {},
     "output_type": "execute_result"
    }
   ],
   "source": [
    "tuple([1, 2, 3]) #convert list to tuples"
   ]
  },
  {
   "cell_type": "code",
   "execution_count": 26,
   "id": "61c18c0b-fd1c-4635-a7d1-c7050db09c9d",
   "metadata": {},
   "outputs": [
    {
     "data": {
      "text/plain": [
       "[1, 2, 3]"
      ]
     },
     "execution_count": 26,
     "metadata": {},
     "output_type": "execute_result"
    }
   ],
   "source": [
    "list((1, 2, 3)) #convert tuple to list"
   ]
  },
  {
   "cell_type": "code",
   "execution_count": 28,
   "id": "10fa39da-f082-4b5e-8aea-1ce445dfd862",
   "metadata": {},
   "outputs": [
    {
     "data": {
      "text/plain": [
       "()"
      ]
     },
     "execution_count": 28,
     "metadata": {},
     "output_type": "execute_result"
    }
   ],
   "source": [
    "() #empty tuple"
   ]
  },
  {
   "cell_type": "code",
   "execution_count": 32,
   "id": "d5d8c47a-1e12-4ece-a909-1257bacb37a4",
   "metadata": {},
   "outputs": [
    {
     "data": {
      "text/plain": [
       "(2024,)"
      ]
     },
     "execution_count": 32,
     "metadata": {},
     "output_type": "execute_result"
    }
   ],
   "source": [
    "(2024,) #singleton tuple: needs common (distinguish between tuple and a mathematical expression)"
   ]
  },
  {
   "cell_type": "markdown",
   "id": "f24890bb-0ea5-46de-84d9-5728df8138b9",
   "metadata": {},
   "source": [
    "### Sets\n",
    "Sets are unordered collection of (immutable, no list in sets) objects with no duplicate elements.  \n",
    "\n",
    "Very fast when looking up an element"
   ]
  },
  {
   "cell_type": "code",
   "execution_count": 55,
   "id": "7f215317-e234-45f5-a4c6-178b594eef16",
   "metadata": {},
   "outputs": [
    {
     "data": {
      "text/plain": [
       "{2, 3, 5, 7}"
      ]
     },
     "execution_count": 55,
     "metadata": {},
     "output_type": "execute_result"
    }
   ],
   "source": [
    "primes = {3, 5, 7, 2} # unordered set\n",
    "primes"
   ]
  },
  {
   "cell_type": "code",
   "execution_count": 42,
   "id": "7babafb5-c350-498b-93d0-59366c04a7ea",
   "metadata": {},
   "outputs": [
    {
     "data": {
      "text/plain": [
       "set"
      ]
     },
     "execution_count": 42,
     "metadata": {},
     "output_type": "execute_result"
    }
   ],
   "source": [
    "type(primes)"
   ]
  },
  {
   "cell_type": "code",
   "execution_count": 47,
   "id": "2f999156-255d-45a0-a443-e9ec437f6122",
   "metadata": {},
   "outputs": [
    {
     "data": {
      "text/plain": [
       "{2, 3, 5}"
      ]
     },
     "execution_count": 47,
     "metadata": {},
     "output_type": "execute_result"
    }
   ],
   "source": [
    "set([2, 3, 5, 3, 2]) #removes duplicates"
   ]
  },
  {
   "cell_type": "code",
   "execution_count": 49,
   "id": "37c57d8b-f8bb-4679-9164-71c74cd5f2f1",
   "metadata": {},
   "outputs": [
    {
     "data": {
      "text/plain": [
       "set()"
      ]
     },
     "execution_count": 49,
     "metadata": {},
     "output_type": "execute_result"
    }
   ],
   "source": [
    "set() # empty set"
   ]
  },
  {
   "cell_type": "code",
   "execution_count": 57,
   "id": "98a24a4a-872c-43f2-9391-2f527df79b6f",
   "metadata": {},
   "outputs": [
    {
     "data": {
      "text/plain": [
       "{2, 3, 5, 7, 13}"
      ]
     },
     "execution_count": 57,
     "metadata": {},
     "output_type": "execute_result"
    }
   ],
   "source": [
    "primes.add(13) # add = append\n",
    "primes"
   ]
  },
  {
   "cell_type": "markdown",
   "id": "3d1bcc06-a871-4fc0-9e56-6e1b44b4151a",
   "metadata": {},
   "source": [
    "#### Set Operations: Union, Intersection, Difference"
   ]
  },
  {
   "cell_type": "code",
   "execution_count": 61,
   "id": "c55c8d5b-4667-4477-aee1-09e9a39b4192",
   "metadata": {},
   "outputs": [],
   "source": [
    "odds = {2*n + 1 for n in range(7)} #set comprehension"
   ]
  },
  {
   "cell_type": "code",
   "execution_count": 63,
   "id": "610fb65c-8e40-4ec9-b2d5-5d84dd0ebb1c",
   "metadata": {},
   "outputs": [
    {
     "data": {
      "text/plain": [
       "{1, 3, 5, 7, 9, 11, 13}"
      ]
     },
     "execution_count": 63,
     "metadata": {},
     "output_type": "execute_result"
    }
   ],
   "source": [
    "odds"
   ]
  },
  {
   "cell_type": "code",
   "execution_count": 67,
   "id": "c63ab988-917e-4b4b-ac20-1ee7277ae9bd",
   "metadata": {},
   "outputs": [
    {
     "data": {
      "text/plain": [
       "{1, 2, 3, 5, 7, 9, 11, 13}"
      ]
     },
     "execution_count": 67,
     "metadata": {},
     "output_type": "execute_result"
    }
   ],
   "source": [
    "primes | odds # Union, 'or' operation"
   ]
  },
  {
   "cell_type": "code",
   "execution_count": 71,
   "id": "03dc667a-f7a8-4a30-b594-a4ce008ce82e",
   "metadata": {},
   "outputs": [
    {
     "data": {
      "text/plain": [
       "{3, 5, 7, 13}"
      ]
     },
     "execution_count": 71,
     "metadata": {},
     "output_type": "execute_result"
    }
   ],
   "source": [
    "primes & odds # Intersection, 'and' operation "
   ]
  },
  {
   "cell_type": "code",
   "execution_count": 77,
   "id": "dd6124f0-9b32-433d-b82d-48a13885b130",
   "metadata": {},
   "outputs": [
    {
     "data": {
      "text/plain": [
       "{1, 9, 11}"
      ]
     },
     "execution_count": 77,
     "metadata": {},
     "output_type": "execute_result"
    }
   ],
   "source": [
    "odds - primes # Difference"
   ]
  },
  {
   "cell_type": "code",
   "execution_count": 79,
   "id": "e2558fab-3b3d-48c3-a2ea-901762a363f9",
   "metadata": {},
   "outputs": [
    {
     "data": {
      "text/plain": [
       "True"
      ]
     },
     "execution_count": 79,
     "metadata": {},
     "output_type": "execute_result"
    }
   ],
   "source": [
    "{2, 3} < primes # is subset of?"
   ]
  },
  {
   "cell_type": "markdown",
   "id": "d8f57812-4f17-4bac-86f4-ac3214db9f7b",
   "metadata": {},
   "source": [
    "### Dictionaries\n",
    "A Dictionary is a set containing `key: value` pairs. Lookup is fast. \n",
    "\n",
    "The keys must be immutable. Values can be numbers, strings, list, and other objects. "
   ]
  },
  {
   "cell_type": "code",
   "execution_count": 141,
   "id": "1af75289-53e1-45c3-80e2-cc9e1c67ad8f",
   "metadata": {},
   "outputs": [
    {
     "data": {
      "text/plain": [
       "{'Mon': 1, 'Wed': 3, 'Thu': 4}"
      ]
     },
     "execution_count": 141,
     "metadata": {},
     "output_type": "execute_result"
    }
   ],
   "source": [
    "daydict = {'Mon': 1, 'Wed': 3, 'Thu': 4}\n",
    "daydict"
   ]
  },
  {
   "cell_type": "code",
   "execution_count": 86,
   "id": "cf8ac2c9-1a5a-4b59-92b8-544df312a5d9",
   "metadata": {},
   "outputs": [
    {
     "data": {
      "text/plain": [
       "dict"
      ]
     },
     "execution_count": 86,
     "metadata": {},
     "output_type": "execute_result"
    }
   ],
   "source": [
    "type(daydict)"
   ]
  },
  {
   "cell_type": "code",
   "execution_count": 90,
   "id": "455a814a-488f-43c6-8862-21b613618054",
   "metadata": {},
   "outputs": [
    {
     "data": {
      "text/plain": [
       "3"
      ]
     },
     "execution_count": 90,
     "metadata": {},
     "output_type": "execute_result"
    }
   ],
   "source": [
    "daydict['Wed'] # Lookup"
   ]
  },
  {
   "cell_type": "code",
   "execution_count": 94,
   "id": "c2305ea7-9a32-42ff-bbfd-5c6a11918863",
   "metadata": {},
   "outputs": [
    {
     "data": {
      "text/plain": [
       "{}"
      ]
     },
     "execution_count": 94,
     "metadata": {},
     "output_type": "execute_result"
    }
   ],
   "source": [
    "{} # empty dictionary "
   ]
  },
  {
   "cell_type": "code",
   "execution_count": 96,
   "id": "69397c3f-2360-4184-bcf6-2ef9c8d62f38",
   "metadata": {},
   "outputs": [
    {
     "data": {
      "text/plain": [
       "{}"
      ]
     },
     "execution_count": 96,
     "metadata": {},
     "output_type": "execute_result"
    }
   ],
   "source": [
    "dict() # empty dictionary"
   ]
  },
  {
   "cell_type": "code",
   "execution_count": 149,
   "id": "5af36cee-a784-451c-a464-9a42f45f4e1e",
   "metadata": {},
   "outputs": [],
   "source": [
    "# Add a key: value pair, basically append\n",
    "daydict['Fri'] = 5"
   ]
  },
  {
   "cell_type": "code",
   "execution_count": 106,
   "id": "3f9757c9-8d46-4133-922f-9d6d4fd74d47",
   "metadata": {},
   "outputs": [
    {
     "data": {
      "text/plain": [
       "{'Mon': 1, 'Wed': 3, 'Thu': 4, 'Fri': 5}"
      ]
     },
     "execution_count": 106,
     "metadata": {},
     "output_type": "execute_result"
    }
   ],
   "source": [
    "daydict"
   ]
  },
  {
   "cell_type": "code",
   "execution_count": 110,
   "id": "1d74816b-af55-457f-b0ca-53127f71f712",
   "metadata": {},
   "outputs": [
    {
     "data": {
      "text/plain": [
       "['Mon', 'Wed', 'Thu', 'Fri']"
      ]
     },
     "execution_count": 110,
     "metadata": {},
     "output_type": "execute_result"
    }
   ],
   "source": [
    "list(daydict) # converting to a list returns only the keys"
   ]
  },
  {
   "cell_type": "code",
   "execution_count": 112,
   "id": "2156fbb0-9bfd-4154-8714-0dacaaf8186b",
   "metadata": {},
   "outputs": [
    {
     "data": {
      "text/plain": [
       "dict_keys(['Mon', 'Wed', 'Thu', 'Fri'])"
      ]
     },
     "execution_count": 112,
     "metadata": {},
     "output_type": "execute_result"
    }
   ],
   "source": [
    "daydict.keys()"
   ]
  },
  {
   "cell_type": "code",
   "execution_count": 116,
   "id": "47fcdf84-519b-4bc4-a5e3-ced4546cfb17",
   "metadata": {},
   "outputs": [
    {
     "data": {
      "text/plain": [
       "dict_values([1, 3, 4, 5])"
      ]
     },
     "execution_count": 116,
     "metadata": {},
     "output_type": "execute_result"
    }
   ],
   "source": [
    "daydict.values()"
   ]
  },
  {
   "cell_type": "code",
   "execution_count": 143,
   "id": "7dfe4bf0-066b-4393-b5ac-3abe8ec1dd26",
   "metadata": {},
   "outputs": [
    {
     "data": {
      "text/plain": [
       "{'Wed': 3, 'Thu': 4}"
      ]
     },
     "execution_count": 143,
     "metadata": {},
     "output_type": "execute_result"
    }
   ],
   "source": [
    "del daydict['Mon'] # remove/delete commant\n",
    "daydict"
   ]
  },
  {
   "cell_type": "markdown",
   "id": "5c4ed6cf-5296-4033-816b-694d33727a01",
   "metadata": {},
   "source": [
    "Creating a dictionary comprehension"
   ]
  },
  {
   "cell_type": "code",
   "execution_count": 127,
   "id": "ae3a9b8f-00f6-4681-9e0f-cc3ea9429409",
   "metadata": {},
   "outputs": [],
   "source": [
    "days = ['Mon', 'Tue', 'Wed']"
   ]
  },
  {
   "cell_type": "code",
   "execution_count": 139,
   "id": "bac76a70-e096-4365-8f09-ad36c38ab388",
   "metadata": {},
   "outputs": [
    {
     "data": {
      "text/plain": [
       "{'Mon': 1, 'Tue': 2, 'Wed': 3}"
      ]
     },
     "execution_count": 139,
     "metadata": {},
     "output_type": "execute_result"
    }
   ],
   "source": [
    "{days[n] : n + 1 for n in range(3)}"
   ]
  },
  {
   "cell_type": "markdown",
   "id": "b40a6ce4-94e9-46af-852b-b781bef19e66",
   "metadata": {},
   "source": [
    "Result: {'Mon': 1, 'Tue': 2, 'Wed': 3}"
   ]
  },
  {
   "cell_type": "markdown",
   "id": "87c4db58-ba10-480f-a3da-96982cb9f248",
   "metadata": {},
   "source": [
    "Iterating over a **small** dictionary"
   ]
  },
  {
   "cell_type": "code",
   "execution_count": 151,
   "id": "3dcb5b63-47d4-4640-8d13-3f80aecb0f7a",
   "metadata": {},
   "outputs": [
    {
     "data": {
      "text/plain": [
       "{'Wed': 3, 'Thu': 4, 'Fri': 5}"
      ]
     },
     "execution_count": 151,
     "metadata": {},
     "output_type": "execute_result"
    }
   ],
   "source": [
    "daydict"
   ]
  },
  {
   "cell_type": "code",
   "execution_count": 153,
   "id": "da006b4c-6c38-4d4e-a2f2-6618bf8eadef",
   "metadata": {},
   "outputs": [
    {
     "name": "stdout",
     "output_type": "stream",
     "text": [
      "Wed\n",
      "Thu\n",
      "Fri\n"
     ]
    }
   ],
   "source": [
    "for x in daydict: # only give keys\n",
    "    print(x)"
   ]
  },
  {
   "cell_type": "code",
   "execution_count": 157,
   "id": "14bd7230-b9d4-481d-ac84-9b303e442460",
   "metadata": {},
   "outputs": [
    {
     "name": "stdout",
     "output_type": "stream",
     "text": [
      "('Wed', 3)\n",
      "('Thu', 4)\n",
      "('Fri', 5)\n"
     ]
    }
   ],
   "source": [
    "for x in daydict.items(): # give both keys and values\n",
    "    print(x)"
   ]
  },
  {
   "cell_type": "code",
   "execution_count": 159,
   "id": "bae4e5e3-96a4-441a-8686-d499ceadbb09",
   "metadata": {},
   "outputs": [
    {
     "name": "stdout",
     "output_type": "stream",
     "text": [
      "Wed 3\n",
      "Thu 4\n",
      "Fri 5\n"
     ]
    }
   ],
   "source": [
    "for day, daynum in daydict.items():\n",
    "    print(day, daynum)"
   ]
  },
  {
   "cell_type": "markdown",
   "id": "e3291292-0f24-446a-ba98-a1fe80e0a045",
   "metadata": {},
   "source": [
    "### Magic Commands\n",
    "\n",
    "**CAUTION** All magic commands must be commented out before submitting to Autograder. \n",
    "\n",
    "Measure execution time"
   ]
  },
  {
   "cell_type": "markdown",
   "id": "223c6cd0-20fc-4191-a7a3-393617d72547",
   "metadata": {},
   "source": [
    "Compare `i**2` to `i*i`"
   ]
  },
  {
   "cell_type": "code",
   "execution_count": 169,
   "id": "d4f16dc9-a1d0-449a-a9b4-fd36846d622b",
   "metadata": {},
   "outputs": [
    {
     "name": "stdout",
     "output_type": "stream",
     "text": [
      "CPU times: user 3.92 ms, sys: 339 μs, total: 4.26 ms\n",
      "Wall time: 4.27 ms\n"
     ]
    }
   ],
   "source": [
    "%%time\n",
    "xvals = [i**2 for i in range(50000)]"
   ]
  },
  {
   "cell_type": "code",
   "execution_count": 171,
   "id": "3eebaef1-c799-49f1-8733-48a158defd31",
   "metadata": {},
   "outputs": [
    {
     "name": "stdout",
     "output_type": "stream",
     "text": [
      "CPU times: user 3.88 ms, sys: 1.02 ms, total: 4.9 ms\n",
      "Wall time: 4.75 ms\n"
     ]
    }
   ],
   "source": [
    "%%time\n",
    "xvals = [i*i for i in range(50000)]"
   ]
  },
  {
   "cell_type": "markdown",
   "id": "971ac034-33b4-4c11-a511-f15d799c6f2e",
   "metadata": {},
   "source": [
    "#### Loop/append vs list comprehension"
   ]
  },
  {
   "cell_type": "code",
   "execution_count": 193,
   "id": "142b865e-5f6b-455f-bedf-0c5c7e4d7b49",
   "metadata": {},
   "outputs": [
    {
     "name": "stdout",
     "output_type": "stream",
     "text": [
      "CPU times: user 4.85 ms, sys: 198 μs, total: 5.05 ms\n",
      "Wall time: 5.04 ms\n"
     ]
    }
   ],
   "source": [
    "%%time\n",
    "xvals = []\n",
    "for i in range(50000):\n",
    "    xvals.append(i)"
   ]
  },
  {
   "cell_type": "code",
   "execution_count": 201,
   "id": "60380cdf-2c2e-4e83-9f83-ae56f80f0f4a",
   "metadata": {},
   "outputs": [
    {
     "name": "stdout",
     "output_type": "stream",
     "text": [
      "CPU times: user 1.92 ms, sys: 12 μs, total: 1.94 ms\n",
      "Wall time: 1.95 ms\n"
     ]
    }
   ],
   "source": [
    "%%time\n",
    "xvals = [i for i in range(50000)]"
   ]
  },
  {
   "cell_type": "markdown",
   "id": "39623066-1615-4ae4-829b-3fd8ec6bbcbe",
   "metadata": {},
   "source": [
    "#### Set lookup vs list lookup"
   ]
  },
  {
   "cell_type": "code",
   "execution_count": 205,
   "id": "a6ffa50b-bd06-4c81-b1d3-6f7463c130d7",
   "metadata": {},
   "outputs": [],
   "source": [
    "L = list(range(10000))\n",
    "S = set(L)"
   ]
  },
  {
   "cell_type": "code",
   "execution_count": 221,
   "id": "291982e9-51a6-47d1-af41-287cd3d1ef82",
   "metadata": {},
   "outputs": [
    {
     "name": "stdout",
     "output_type": "stream",
     "text": [
      "CPU times: user 186 ms, sys: 2.46 ms, total: 189 ms\n",
      "Wall time: 188 ms\n"
     ]
    }
   ],
   "source": [
    "%%time\n",
    "for x in L: \n",
    "    in_list = x in L"
   ]
  },
  {
   "cell_type": "code",
   "execution_count": 231,
   "id": "8d4f5f19-8ccd-4539-980b-9611812c595a",
   "metadata": {},
   "outputs": [
    {
     "name": "stdout",
     "output_type": "stream",
     "text": [
      "CPU times: user 787 μs, sys: 1 μs, total: 788 μs\n",
      "Wall time: 797 μs\n"
     ]
    }
   ],
   "source": [
    "%%time\n",
    "for x in S: \n",
    "    in_set = x in S # a thousand times fast!"
   ]
  },
  {
   "cell_type": "markdown",
   "id": "857a4f32-4cbb-47b7-9159-7ecbd98510cb",
   "metadata": {},
   "source": [
    "#### Compare looping over list elements vs looping over indices"
   ]
  },
  {
   "cell_type": "code",
   "execution_count": 236,
   "id": "f01f077f-932a-4683-b3f7-33ff0f96e46a",
   "metadata": {},
   "outputs": [],
   "source": [
    "nums = [random.random() for n in range(50000)]"
   ]
  },
  {
   "cell_type": "code",
   "execution_count": 252,
   "id": "07bdfc2b-4fb1-4f68-acd3-93c4cd4db5bf",
   "metadata": {},
   "outputs": [
    {
     "name": "stdout",
     "output_type": "stream",
     "text": [
      "CPU times: user 1.12 ms, sys: 0 ns, total: 1.12 ms\n",
      "Wall time: 1.12 ms\n"
     ]
    }
   ],
   "source": [
    "%%time\n",
    "total = 0\n",
    "for n in nums:\n",
    "    total += n"
   ]
  },
  {
   "cell_type": "code",
   "execution_count": 256,
   "id": "f1b79f67-7e71-4d59-93a2-9cf1a0472cbd",
   "metadata": {},
   "outputs": [
    {
     "name": "stdout",
     "output_type": "stream",
     "text": [
      "CPU times: user 9.23 ms, sys: 1.07 ms, total: 10.3 ms\n",
      "Wall time: 9.74 ms\n"
     ]
    }
   ],
   "source": [
    "%%time\n",
    "total = 0\n",
    "for i in range(len(nums)):\n",
    "    total += nums[i]"
   ]
  },
  {
   "cell_type": "code",
   "execution_count": 258,
   "id": "90e9a9c8-9f79-49e0-82c6-97d7748e3af2",
   "metadata": {},
   "outputs": [
    {
     "name": "stdout",
     "output_type": "stream",
     "text": [
      "CPU times: user 314 μs, sys: 1e+03 ns, total: 315 μs\n",
      "Wall time: 326 μs\n"
     ]
    },
    {
     "data": {
      "text/plain": [
       "24977.667634833277"
      ]
     },
     "execution_count": 258,
     "metadata": {},
     "output_type": "execute_result"
    }
   ],
   "source": [
    "%%time\n",
    "sum(nums)"
   ]
  },
  {
   "cell_type": "code",
   "execution_count": 260,
   "id": "4316de69-d055-44d3-8327-196730bce725",
   "metadata": {},
   "outputs": [
    {
     "name": "stdout",
     "output_type": "stream",
     "text": [
      "CPU times: user 3.02 ms, sys: 56 μs, total: 3.08 ms\n",
      "Wall time: 3.16 ms\n"
     ]
    },
    {
     "data": {
      "text/plain": [
       "24977.667634833277"
      ]
     },
     "execution_count": 260,
     "metadata": {},
     "output_type": "execute_result"
    }
   ],
   "source": [
    "%%time\n",
    "sum(n for n in nums)"
   ]
  }
 ],
 "metadata": {
  "kernelspec": {
   "display_name": "Python 3 (ipykernel)",
   "language": "python",
   "name": "python3"
  },
  "language_info": {
   "codemirror_mode": {
    "name": "ipython",
    "version": 3
   },
   "file_extension": ".py",
   "mimetype": "text/x-python",
   "name": "python",
   "nbconvert_exporter": "python",
   "pygments_lexer": "ipython3",
   "version": "3.12.4"
  }
 },
 "nbformat": 4,
 "nbformat_minor": 5
}
