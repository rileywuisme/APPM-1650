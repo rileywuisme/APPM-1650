{
 "cells": [
  {
   "cell_type": "markdown",
   "id": "31812004-1fe5-48db-b712-160c68393d13",
   "metadata": {},
   "source": [
    "### Lecture 11b"
   ]
  },
  {
   "cell_type": "code",
   "execution_count": 5,
   "id": "bc6ec30f-9e15-4b6f-b354-89a1dc9452a7",
   "metadata": {},
   "outputs": [],
   "source": [
    "import numpy as np\n",
    "from numpy import linalg as LA"
   ]
  },
  {
   "cell_type": "code",
   "execution_count": 7,
   "id": "b92841e2-1597-467b-bc8a-6146c60db426",
   "metadata": {},
   "outputs": [
    {
     "data": {
      "text/plain": [
       "array([[ 1,  2,  3,  4],\n",
       "       [ 5,  6,  7,  8],\n",
       "       [ 9, 10, 11, 12]])"
      ]
     },
     "execution_count": 7,
     "metadata": {},
     "output_type": "execute_result"
    }
   ],
   "source": [
    "mat = np.arange(1, 13).reshape(3, 4)\n",
    "mat"
   ]
  },
  {
   "cell_type": "code",
   "execution_count": 10,
   "id": "bae58891-7aef-4393-bf38-bf06d6081456",
   "metadata": {},
   "outputs": [
    {
     "data": {
      "text/plain": [
       "array([11, 12])"
      ]
     },
     "execution_count": 10,
     "metadata": {},
     "output_type": "execute_result"
    }
   ],
   "source": [
    "mat[2, 2:]"
   ]
  },
  {
   "cell_type": "code",
   "execution_count": 12,
   "id": "c9fb471d-8f3b-4a74-b276-8dfaa1877818",
   "metadata": {},
   "outputs": [
    {
     "data": {
      "text/plain": [
       "array([[2, 3],\n",
       "       [6, 7]])"
      ]
     },
     "execution_count": 12,
     "metadata": {},
     "output_type": "execute_result"
    }
   ],
   "source": [
    "mat[:2, [1, 2]]"
   ]
  },
  {
   "cell_type": "code",
   "execution_count": 16,
   "id": "b8bebfcf-7daf-4ca4-8bb5-0169e3087172",
   "metadata": {},
   "outputs": [
    {
     "data": {
      "text/plain": [
       "array([[ 8,  6],\n",
       "       [12, 10]])"
      ]
     },
     "execution_count": 16,
     "metadata": {},
     "output_type": "execute_result"
    }
   ],
   "source": [
    "mat[1:, ::-2]"
   ]
  },
  {
   "cell_type": "code",
   "execution_count": 20,
   "id": "8284ab8a-8a68-4abc-aa5f-814d117bfb1e",
   "metadata": {},
   "outputs": [
    {
     "data": {
      "text/plain": [
       "array([ 0, 10, 20, 30, 40, 50, 60, 70, 80, 90])"
      ]
     },
     "execution_count": 20,
     "metadata": {},
     "output_type": "execute_result"
    }
   ],
   "source": [
    "arr = np.arange(0, 100, 10)\n",
    "arr"
   ]
  },
  {
   "cell_type": "code",
   "execution_count": 22,
   "id": "982ed761-f959-402f-974c-13831680609c",
   "metadata": {},
   "outputs": [
    {
     "data": {
      "text/plain": [
       "array([40, 10, 80])"
      ]
     },
     "execution_count": 22,
     "metadata": {},
     "output_type": "execute_result"
    }
   ],
   "source": [
    "arr[[4, 1, 8]] # indicate which indeces you want"
   ]
  },
  {
   "cell_type": "code",
   "execution_count": 24,
   "id": "3d8dd711-640d-4ebb-84cd-dfb084cdd7a2",
   "metadata": {},
   "outputs": [
    {
     "data": {
      "text/plain": [
       "array([[ 8,  6],\n",
       "       [12, 10]])"
      ]
     },
     "execution_count": 24,
     "metadata": {},
     "output_type": "execute_result"
    }
   ],
   "source": [
    "mat[1:, [3, 1]]"
   ]
  },
  {
   "cell_type": "markdown",
   "id": "758f4cf2-2150-4107-a837-bc3b6a20db05",
   "metadata": {},
   "source": [
    "### Special Matrices"
   ]
  },
  {
   "cell_type": "code",
   "execution_count": 27,
   "id": "edde753f-9722-43b6-8ee3-d42696b4065c",
   "metadata": {},
   "outputs": [
    {
     "data": {
      "text/plain": [
       "array([0., 0., 0., 0., 0., 0.])"
      ]
     },
     "execution_count": 27,
     "metadata": {},
     "output_type": "execute_result"
    }
   ],
   "source": [
    "np.zeros(6)"
   ]
  },
  {
   "cell_type": "code",
   "execution_count": 31,
   "id": "102ff370-8696-4fef-abe5-94560584d670",
   "metadata": {},
   "outputs": [
    {
     "data": {
      "text/plain": [
       "array([[0, 0, 0, 0],\n",
       "       [0, 0, 0, 0]])"
      ]
     },
     "execution_count": 31,
     "metadata": {},
     "output_type": "execute_result"
    }
   ],
   "source": [
    "np.zeros([2, 4], dtype=int)"
   ]
  },
  {
   "cell_type": "code",
   "execution_count": 33,
   "id": "95eb8514-8561-4b69-b800-772fa34ec757",
   "metadata": {},
   "outputs": [
    {
     "data": {
      "text/plain": [
       "array([[1., 1., 1., 1.],\n",
       "       [1., 1., 1., 1.]])"
      ]
     },
     "execution_count": 33,
     "metadata": {},
     "output_type": "execute_result"
    }
   ],
   "source": [
    "np.ones([2, 4])"
   ]
  },
  {
   "cell_type": "code",
   "execution_count": 35,
   "id": "f1d86966-07b0-4f7f-932f-400339ad2f91",
   "metadata": {},
   "outputs": [
    {
     "data": {
      "text/plain": [
       "array([[23., 23., 23., 23.],\n",
       "       [23., 23., 23., 23.]])"
      ]
     },
     "execution_count": 35,
     "metadata": {},
     "output_type": "execute_result"
    }
   ],
   "source": [
    "23 * np.ones([2, 4])"
   ]
  },
  {
   "cell_type": "code",
   "execution_count": 37,
   "id": "1deb532e-cc71-4ad3-9535-f9191d67ea79",
   "metadata": {},
   "outputs": [
    {
     "data": {
      "text/plain": [
       "array([[23., 23., 23., 23.],\n",
       "       [23., 23., 23., 23.]])"
      ]
     },
     "execution_count": 37,
     "metadata": {},
     "output_type": "execute_result"
    }
   ],
   "source": [
    "23 + np.zeros([2, 4])"
   ]
  },
  {
   "cell_type": "code",
   "execution_count": 39,
   "id": "dfb98b74-ca9e-4d77-a35e-fbf59d2217cc",
   "metadata": {},
   "outputs": [
    {
     "data": {
      "text/plain": [
       "array([[23, 23, 23, 23],\n",
       "       [23, 23, 23, 23]])"
      ]
     },
     "execution_count": 39,
     "metadata": {},
     "output_type": "execute_result"
    }
   ],
   "source": [
    "np.full([2, 4], 23)"
   ]
  },
  {
   "cell_type": "code",
   "execution_count": 43,
   "id": "2d0f0658-f906-446d-b2bb-8e098352c5a7",
   "metadata": {},
   "outputs": [
    {
     "data": {
      "text/plain": [
       "array([[1., 0., 0., 0.],\n",
       "       [0., 1., 0., 0.],\n",
       "       [0., 0., 1., 0.],\n",
       "       [0., 0., 0., 1.]])"
      ]
     },
     "execution_count": 43,
     "metadata": {},
     "output_type": "execute_result"
    }
   ],
   "source": [
    "np.eye(4) # Identity matrix"
   ]
  },
  {
   "cell_type": "markdown",
   "id": "39e250c8-94f3-441e-b0f5-6bc78b46f5bc",
   "metadata": {},
   "source": [
    "### Sorting Arrays"
   ]
  },
  {
   "cell_type": "code",
   "execution_count": 48,
   "id": "2ff5a99c-67f4-4f50-8ad0-322d98cc0ed8",
   "metadata": {},
   "outputs": [
    {
     "data": {
      "text/plain": [
       "array([[0, 1, 2],\n",
       "       [3, 4, 5]])"
      ]
     },
     "execution_count": 48,
     "metadata": {},
     "output_type": "execute_result"
    }
   ],
   "source": [
    "arr6 = np.arange(6).reshape(2, 3)\n",
    "arr6"
   ]
  },
  {
   "cell_type": "code",
   "execution_count": 52,
   "id": "f20ed9e2-6cc0-4d57-921d-586c29f31b74",
   "metadata": {},
   "outputs": [
    {
     "data": {
      "text/plain": [
       "array([[10,  9,  8],\n",
       "       [ 7,  6,  5]])"
      ]
     },
     "execution_count": 52,
     "metadata": {},
     "output_type": "execute_result"
    }
   ],
   "source": [
    "arr10 = 10 - arr6 # vectorized subtraction\n",
    "arr10"
   ]
  },
  {
   "cell_type": "code",
   "execution_count": 56,
   "id": "4c25c92c-a62d-4596-852b-969142b0046d",
   "metadata": {},
   "outputs": [],
   "source": [
    "arr10.sort() #destructive operation, it will modity the array"
   ]
  },
  {
   "cell_type": "code",
   "execution_count": 58,
   "id": "d54160cb-548f-4141-9ba2-0fbef3685ba4",
   "metadata": {},
   "outputs": [
    {
     "data": {
      "text/plain": [
       "array([[ 8,  9, 10],\n",
       "       [ 5,  6,  7]])"
      ]
     },
     "execution_count": 58,
     "metadata": {},
     "output_type": "execute_result"
    }
   ],
   "source": [
    "arr10 # default sort by row"
   ]
  },
  {
   "cell_type": "code",
   "execution_count": 62,
   "id": "e1db4782-3efa-4161-8e56-782a4a437c11",
   "metadata": {},
   "outputs": [
    {
     "data": {
      "text/plain": [
       "array([[ 5,  6,  7],\n",
       "       [ 8,  9, 10]])"
      ]
     },
     "execution_count": 62,
     "metadata": {},
     "output_type": "execute_result"
    }
   ],
   "source": [
    "arr10.sort(axis=0) # sorted by column\n",
    "arr10"
   ]
  },
  {
   "cell_type": "markdown",
   "id": "526ff101-1e02-41e9-a5ba-96852c6f38da",
   "metadata": {},
   "source": [
    "### Random Numbers"
   ]
  },
  {
   "cell_type": "code",
   "execution_count": 65,
   "id": "26f499c4-b530-4827-a0ff-8152716e59f6",
   "metadata": {},
   "outputs": [
    {
     "data": {
      "text/plain": [
       "0.4105814988646088"
      ]
     },
     "execution_count": 65,
     "metadata": {},
     "output_type": "execute_result"
    }
   ],
   "source": [
    "np.random.random()"
   ]
  },
  {
   "cell_type": "code",
   "execution_count": 71,
   "id": "db3d1212-31b6-4f36-9a76-c503f0e41140",
   "metadata": {},
   "outputs": [
    {
     "data": {
      "text/plain": [
       "array([0.7878607 , 0.65061502, 0.05667341, 0.33839812])"
      ]
     },
     "execution_count": 71,
     "metadata": {},
     "output_type": "execute_result"
    }
   ],
   "source": [
    "np.random.random(4) # you can add number and dimension to it "
   ]
  },
  {
   "cell_type": "code",
   "execution_count": 69,
   "id": "f70086b6-67ff-4d44-b803-7ea1a34043d6",
   "metadata": {},
   "outputs": [
    {
     "data": {
      "text/plain": [
       "array([[0.95180618, 0.22656746, 0.45911349, 0.72374347],\n",
       "       [0.8224728 , 0.61582224, 0.28845008, 0.76206795]])"
      ]
     },
     "execution_count": 69,
     "metadata": {},
     "output_type": "execute_result"
    }
   ],
   "source": [
    "np.random.random([2, 4])"
   ]
  },
  {
   "cell_type": "markdown",
   "id": "1a8fb851-fe4e-4982-b137-d8cbfa3c3e27",
   "metadata": {},
   "source": [
    "Numpy `randint` does not include the right endpoint (use half-open intervals)"
   ]
  },
  {
   "cell_type": "code",
   "execution_count": 84,
   "id": "482c4fb0-e3d4-4e8b-b451-f36b5169c8e4",
   "metadata": {},
   "outputs": [
    {
     "data": {
      "text/plain": [
       "array([[2, 4, 5, 2],\n",
       "       [4, 1, 3, 4]])"
      ]
     },
     "execution_count": 84,
     "metadata": {},
     "output_type": "execute_result"
    }
   ],
   "source": [
    "np.random.randint(1, 6, [2, 4]) # excludes 6 at the right endpoint"
   ]
  },
  {
   "cell_type": "code",
   "execution_count": 94,
   "id": "3053110b-c6e5-491e-a598-270721eef5cd",
   "metadata": {},
   "outputs": [
    {
     "data": {
      "text/plain": [
       "array([7, 5, 5, 6])"
      ]
     },
     "execution_count": 94,
     "metadata": {},
     "output_type": "execute_result"
    }
   ],
   "source": [
    "np.random.choice([5, 6, 7], 4)"
   ]
  },
  {
   "cell_type": "markdown",
   "id": "aefe1fe3-98bd-4300-a8c4-8b57da061ad4",
   "metadata": {},
   "source": [
    "### Boolean Indexing"
   ]
  },
  {
   "cell_type": "code",
   "execution_count": 133,
   "id": "22b70f29-e033-49af-95ed-6e3dbdc671fd",
   "metadata": {},
   "outputs": [],
   "source": [
    "np.random.seed(23)"
   ]
  },
  {
   "cell_type": "code",
   "execution_count": 135,
   "id": "b1f991ac-a2dd-47e5-ab05-15ee10f2dc3a",
   "metadata": {},
   "outputs": [
    {
     "data": {
      "text/plain": [
       "array([[ 8, 11, 13, 14],\n",
       "       [11, 13, 18, 17]])"
      ]
     },
     "execution_count": 135,
     "metadata": {},
     "output_type": "execute_result"
    }
   ],
   "source": [
    "arr_rand = np.random.randint(5, 20, [2, 4])\n",
    "arr_rand"
   ]
  },
  {
   "cell_type": "code",
   "execution_count": 137,
   "id": "10336a69-1625-405a-abd9-04ff81bea7b6",
   "metadata": {},
   "outputs": [
    {
     "data": {
      "text/plain": [
       "array([[False, False, False, False],\n",
       "       [False, False,  True,  True]])"
      ]
     },
     "execution_count": 137,
     "metadata": {},
     "output_type": "execute_result"
    }
   ],
   "source": [
    "arr_rand > 15"
   ]
  },
  {
   "cell_type": "code",
   "execution_count": 139,
   "id": "60403272-78ae-400d-9534-6a565b587040",
   "metadata": {},
   "outputs": [
    {
     "data": {
      "text/plain": [
       "array([18, 17])"
      ]
     },
     "execution_count": 139,
     "metadata": {},
     "output_type": "execute_result"
    }
   ],
   "source": [
    "arr_rand[arr_rand > 15] #pull out elements that return true"
   ]
  },
  {
   "cell_type": "code",
   "execution_count": 141,
   "id": "47234976-7e81-4ff0-8608-9cb897ca0641",
   "metadata": {},
   "outputs": [
    {
     "data": {
      "text/plain": [
       "array([[False,  True,  True, False],\n",
       "       [ True,  True, False,  True]])"
      ]
     },
     "execution_count": 141,
     "metadata": {},
     "output_type": "execute_result"
    }
   ],
   "source": [
    "arr_rand % 2 == 1"
   ]
  },
  {
   "cell_type": "code",
   "execution_count": 143,
   "id": "e68f8ef1-0d09-47bc-b198-da34704fdcd8",
   "metadata": {},
   "outputs": [
    {
     "data": {
      "text/plain": [
       "array([11, 13, 11, 13, 17])"
      ]
     },
     "execution_count": 143,
     "metadata": {},
     "output_type": "execute_result"
    }
   ],
   "source": [
    "arr_rand[arr_rand % 2 == 1] # select all odd elements of array, return 1D array"
   ]
  },
  {
   "cell_type": "markdown",
   "id": "b25590d6-9cd4-4154-bd02-ac15ebe13ec2",
   "metadata": {},
   "source": [
    "### Boolean operators\n",
    "Combining boolean expressions:  \n",
    "* Enclose each expression in parentheses\n",
    "* Use ~ & | ^ instead of `not`, `and`, `or`"
   ]
  },
  {
   "cell_type": "code",
   "execution_count": 149,
   "id": "fe433263-ebc7-4ac7-a6db-852277c96876",
   "metadata": {},
   "outputs": [
    {
     "data": {
      "text/plain": [
       "array([[ 1,  2,  3,  4],\n",
       "       [ 5,  6,  7,  8],\n",
       "       [ 9, 10, 11, 12]])"
      ]
     },
     "execution_count": 149,
     "metadata": {},
     "output_type": "execute_result"
    }
   ],
   "source": [
    "mat"
   ]
  },
  {
   "cell_type": "code",
   "execution_count": 151,
   "id": "46fbfd3c-f47d-42ab-ad48-f32393182405",
   "metadata": {},
   "outputs": [
    {
     "data": {
      "text/plain": [
       "array([[ 5, 10, 15, 20],\n",
       "       [25, 30, 35, 40],\n",
       "       [45, 50, 55, 60]])"
      ]
     },
     "execution_count": 151,
     "metadata": {},
     "output_type": "execute_result"
    }
   ],
   "source": [
    "mat = 5 * mat\n",
    "mat"
   ]
  },
  {
   "cell_type": "code",
   "execution_count": 153,
   "id": "a9ab4ee5-0cb8-4409-8306-b5923d418e77",
   "metadata": {},
   "outputs": [
    {
     "data": {
      "text/plain": [
       "array([[ True,  True,  True,  True],\n",
       "       [ True,  True, False, False],\n",
       "       [False, False, False, False]])"
      ]
     },
     "execution_count": 153,
     "metadata": {},
     "output_type": "execute_result"
    }
   ],
   "source": [
    "mat <= 30"
   ]
  },
  {
   "cell_type": "code",
   "execution_count": 157,
   "id": "ca919d87-0c74-451d-8b5c-51bd2f13cc4d",
   "metadata": {},
   "outputs": [
    {
     "data": {
      "text/plain": [
       "array([[ True,  True,  True,  True],\n",
       "       [ True,  True, False, False],\n",
       "       [False, False, False, False]])"
      ]
     },
     "execution_count": 157,
     "metadata": {},
     "output_type": "execute_result"
    }
   ],
   "source": [
    "~(mat > 30) # same as above"
   ]
  },
  {
   "cell_type": "markdown",
   "id": "79904c08-362f-49ef-b893-9bd94542cbfa",
   "metadata": {},
   "source": [
    "Elements that are <= 30 and end in digit 5"
   ]
  },
  {
   "cell_type": "code",
   "execution_count": 162,
   "id": "dd1fd040-f65f-4cab-80cf-aefe6543ca1c",
   "metadata": {},
   "outputs": [
    {
     "data": {
      "text/plain": [
       "array([ 5, 15, 25])"
      ]
     },
     "execution_count": 162,
     "metadata": {},
     "output_type": "execute_result"
    }
   ],
   "source": [
    "mat[(mat <= 30) & (mat % 10 == 5)]"
   ]
  },
  {
   "cell_type": "markdown",
   "id": "46e9fa8b-3db1-4a22-8c92-a27aa093e9a9",
   "metadata": {},
   "source": [
    "### Views vs Copies of Arrays"
   ]
  },
  {
   "cell_type": "code",
   "execution_count": 165,
   "id": "a7040ff8-48b6-480d-9048-96d6c1267bdb",
   "metadata": {},
   "outputs": [
    {
     "data": {
      "text/plain": [
       "array([ 0, 10, 20, 30, 40, 50, 60, 70, 80, 90])"
      ]
     },
     "execution_count": 165,
     "metadata": {},
     "output_type": "execute_result"
    }
   ],
   "source": [
    "arr = np.arange(0, 100, 10)\n",
    "arr"
   ]
  },
  {
   "cell_type": "code",
   "execution_count": 169,
   "id": "f69839cd-eabf-431c-b99f-59eeade072b9",
   "metadata": {},
   "outputs": [
    {
     "data": {
      "text/plain": [
       "array([10, 20, 30])"
      ]
     },
     "execution_count": 169,
     "metadata": {},
     "output_type": "execute_result"
    }
   ],
   "source": [
    "arr2 = arr[1:4]\n",
    "arr2"
   ]
  },
  {
   "cell_type": "code",
   "execution_count": 171,
   "id": "f06f32a4-bbfa-46fa-8d3d-b77dbe621beb",
   "metadata": {},
   "outputs": [
    {
     "data": {
      "text/plain": [
       "array([100, 200, 300])"
      ]
     },
     "execution_count": 171,
     "metadata": {},
     "output_type": "execute_result"
    }
   ],
   "source": [
    "arr2 *= 10\n",
    "arr2"
   ]
  },
  {
   "cell_type": "code",
   "execution_count": 173,
   "id": "cd91ad4b-2316-4a03-ade8-4b367532493b",
   "metadata": {},
   "outputs": [
    {
     "data": {
      "text/plain": [
       "array([  0, 100, 200, 300,  40,  50,  60,  70,  80,  90])"
      ]
     },
     "execution_count": 173,
     "metadata": {},
     "output_type": "execute_result"
    }
   ],
   "source": [
    "arr"
   ]
  },
  {
   "cell_type": "code",
   "execution_count": 177,
   "id": "633efec8-452c-48f7-84d8-8b61677a573b",
   "metadata": {},
   "outputs": [
    {
     "data": {
      "text/plain": [
       "array([70, 80, 90])"
      ]
     },
     "execution_count": 177,
     "metadata": {},
     "output_type": "execute_result"
    }
   ],
   "source": [
    "arr3 = arr[-3:].copy()\n",
    "arr3"
   ]
  },
  {
   "cell_type": "code",
   "execution_count": 179,
   "id": "6ef2e6da-b4ad-4bcf-b8ce-cb331c42c778",
   "metadata": {},
   "outputs": [],
   "source": [
    "arr3 += 5"
   ]
  },
  {
   "cell_type": "code",
   "execution_count": 181,
   "id": "921434d1-bd8c-41a1-801e-11b1b4d4ee02",
   "metadata": {},
   "outputs": [
    {
     "data": {
      "text/plain": [
       "array([75, 85, 95])"
      ]
     },
     "execution_count": 181,
     "metadata": {},
     "output_type": "execute_result"
    }
   ],
   "source": [
    "arr3"
   ]
  },
  {
   "cell_type": "code",
   "execution_count": 183,
   "id": "fda08519-e4b8-4d50-a1ca-331631fd5225",
   "metadata": {},
   "outputs": [
    {
     "data": {
      "text/plain": [
       "array([  0, 100, 200, 300,  40,  50,  60,  70,  80,  90])"
      ]
     },
     "execution_count": 183,
     "metadata": {},
     "output_type": "execute_result"
    }
   ],
   "source": [
    "arr"
   ]
  },
  {
   "cell_type": "markdown",
   "id": "55665242-1ec1-4777-9b62-886b492d8405",
   "metadata": {},
   "source": [
    "### Linear Systems of Equations"
   ]
  },
  {
   "cell_type": "markdown",
   "id": "d54fd30c-8494-481f-99b4-1aef314e3576",
   "metadata": {},
   "source": [
    "Suppose you have $p$ pigs, $c$ chickens, and $g$ goats. Set up equations to calculate the total number of heads $H$, legs $L$, and weight $W$. \n",
    "\n",
    "```\n",
    "p + c + g = H\n",
    "4p + 2c + 4g = L\n",
    "400p + 5c + 160g = W\n",
    "```\n",
    "\n",
    "Let $p = 12$, $c = 23$, and $g = 5$. Calculate H, L W"
   ]
  },
  {
   "cell_type": "code",
   "execution_count": 189,
   "id": "fd3fda02-9edc-49b3-9701-55b8a247177a",
   "metadata": {},
   "outputs": [
    {
     "data": {
      "text/plain": [
       "array([12, 23,  5])"
      ]
     },
     "execution_count": 189,
     "metadata": {},
     "output_type": "execute_result"
    }
   ],
   "source": [
    "anim = np.array([12, 23, 5])\n",
    "anim"
   ]
  },
  {
   "cell_type": "code",
   "execution_count": 195,
   "id": "97993d01-f25e-4d9b-a2a6-9f9dab7fba82",
   "metadata": {},
   "outputs": [],
   "source": [
    "coefH = np.ones(3)\n",
    "coefL = np.array([4, 2, 4])\n",
    "coefW = np.array([400, 5, 160])"
   ]
  },
  {
   "cell_type": "code",
   "execution_count": 207,
   "id": "cf1dbcd1-688c-43c5-946f-0be6453d9eb1",
   "metadata": {},
   "outputs": [
    {
     "data": {
      "text/plain": [
       "40"
      ]
     },
     "execution_count": 207,
     "metadata": {},
     "output_type": "execute_result"
    }
   ],
   "source": [
    "H = anim.sum()\n",
    "H"
   ]
  },
  {
   "cell_type": "code",
   "execution_count": 209,
   "id": "fffd9ae0-9e36-42e8-8b19-4a4f6ed48f43",
   "metadata": {},
   "outputs": [
    {
     "data": {
      "text/plain": [
       "114"
      ]
     },
     "execution_count": 209,
     "metadata": {},
     "output_type": "execute_result"
    }
   ],
   "source": [
    "L = (coefL * anim).sum()\n",
    "L"
   ]
  },
  {
   "cell_type": "code",
   "execution_count": 211,
   "id": "6fb4e4a1-4530-4045-bc9d-b87ee5476ca8",
   "metadata": {},
   "outputs": [
    {
     "data": {
      "text/plain": [
       "114"
      ]
     },
     "execution_count": 211,
     "metadata": {},
     "output_type": "execute_result"
    }
   ],
   "source": [
    "np.dot(coefL, anim)"
   ]
  },
  {
   "cell_type": "code",
   "execution_count": 221,
   "id": "ddf0fd53-cd5e-459c-9f3d-8c94946bf53b",
   "metadata": {},
   "outputs": [
    {
     "data": {
      "text/plain": [
       "5715"
      ]
     },
     "execution_count": 221,
     "metadata": {},
     "output_type": "execute_result"
    }
   ],
   "source": [
    "W = (coefW * anim).sum()\n",
    "W"
   ]
  },
  {
   "cell_type": "markdown",
   "id": "c4cfd5fa-ec96-4379-83b9-3788880e0eb4",
   "metadata": {},
   "source": [
    "Create a matrix of coefH, coefL, coefW. "
   ]
  },
  {
   "cell_type": "code",
   "execution_count": 235,
   "id": "58a8af6c-5b49-483f-989b-9b6b68121164",
   "metadata": {},
   "outputs": [
    {
     "data": {
      "text/plain": [
       "array([[  1.,   1.,   1.],\n",
       "       [  4.,   2.,   4.],\n",
       "       [400.,   5., 160.]])"
      ]
     },
     "execution_count": 235,
     "metadata": {},
     "output_type": "execute_result"
    }
   ],
   "source": [
    "anim_mat = np.vstack([coefH, coefL, coefW])\n",
    "anim_mat"
   ]
  },
  {
   "cell_type": "code",
   "execution_count": 239,
   "id": "b859b525-fcc9-465e-81d9-2fe9bb132791",
   "metadata": {},
   "outputs": [
    {
     "data": {
      "text/plain": [
       "array([  40.,  114., 5715.])"
      ]
     },
     "execution_count": 239,
     "metadata": {},
     "output_type": "execute_result"
    }
   ],
   "source": [
    "HLW = anim_mat @ anim\n",
    "HLW"
   ]
  },
  {
   "cell_type": "code",
   "execution_count": 242,
   "id": "6f6e3ec9-f4c6-43c9-a2fe-41ff6a7e505c",
   "metadata": {},
   "outputs": [
    {
     "data": {
      "text/plain": [
       "array([12., 23.,  5.])"
      ]
     },
     "execution_count": 242,
     "metadata": {},
     "output_type": "execute_result"
    }
   ],
   "source": [
    "LA.solve(anim_mat, HLW)"
   ]
  },
  {
   "cell_type": "code",
   "execution_count": 244,
   "id": "b61bcbd6-c777-438c-a96b-b4c161ee30d9",
   "metadata": {},
   "outputs": [
    {
     "data": {
      "text/plain": [
       "array([12., 23.,  5.])"
      ]
     },
     "execution_count": 244,
     "metadata": {},
     "output_type": "execute_result"
    }
   ],
   "source": [
    "LA.inv(anim_mat) @ HLW"
   ]
  },
  {
   "cell_type": "markdown",
   "id": "61f78156-841a-4da7-8f97-367244fde627",
   "metadata": {},
   "source": [
    "### Example\n",
    "A Farmer owns 52 pigs, chickens, goats in total. There are 3 times as many pigs as chickens and goats combined. There are 194 leg in all. How many of each animal are there?"
   ]
  },
  {
   "cell_type": "markdown",
   "id": "e6918954-8b2c-4d3f-9d60-ee753fbc3a9e",
   "metadata": {},
   "source": [
    "```\n",
    "p +  c  +  g = 52\n",
    "p -  3c - 3g = 0\n",
    "4p + 2c + 4g = 194\n",
    "```"
   ]
  },
  {
   "cell_type": "code",
   "execution_count": 251,
   "id": "587bf981-ca39-4d13-b5bd-786c620f972c",
   "metadata": {},
   "outputs": [
    {
     "data": {
      "text/plain": [
       "array([[ 1,  1,  1],\n",
       "       [ 1, -3, -3],\n",
       "       [ 4,  2,  4]])"
      ]
     },
     "execution_count": 251,
     "metadata": {},
     "output_type": "execute_result"
    }
   ],
   "source": [
    "coeffs = np.array([ [1, 1, 1], [1, -3, -3], [4, 2, 4]])\n",
    "coeffs"
   ]
  },
  {
   "cell_type": "code",
   "execution_count": 253,
   "id": "5fca6a45-dc57-4211-afff-1d507b7bf320",
   "metadata": {},
   "outputs": [],
   "source": [
    "total = np.array([52, 0, 194])"
   ]
  },
  {
   "cell_type": "code",
   "execution_count": 257,
   "id": "fd733202-411f-4cda-8649-a5d94741277b",
   "metadata": {},
   "outputs": [
    {
     "data": {
      "text/plain": [
       "array([39.,  7.,  6.])"
      ]
     },
     "execution_count": 257,
     "metadata": {},
     "output_type": "execute_result"
    }
   ],
   "source": [
    "LA.solve(coeffs, total)"
   ]
  },
  {
   "cell_type": "code",
   "execution_count": 261,
   "id": "9f6d98e4-d643-4469-815d-8b7f56e043a7",
   "metadata": {},
   "outputs": [
    {
     "data": {
      "text/plain": [
       "array([39.,  7.,  6.])"
      ]
     },
     "execution_count": 261,
     "metadata": {},
     "output_type": "execute_result"
    }
   ],
   "source": [
    "LA.inv(coeffs) @ total"
   ]
  },
  {
   "cell_type": "code",
   "execution_count": null,
   "id": "d67cd1b1-1f42-4f5d-a633-5cddd80ebe9c",
   "metadata": {},
   "outputs": [],
   "source": []
  }
 ],
 "metadata": {
  "kernelspec": {
   "display_name": "Python 3 (ipykernel)",
   "language": "python",
   "name": "python3"
  },
  "language_info": {
   "codemirror_mode": {
    "name": "ipython",
    "version": 3
   },
   "file_extension": ".py",
   "mimetype": "text/x-python",
   "name": "python",
   "nbconvert_exporter": "python",
   "pygments_lexer": "ipython3",
   "version": "3.12.4"
  }
 },
 "nbformat": 4,
 "nbformat_minor": 5
}
