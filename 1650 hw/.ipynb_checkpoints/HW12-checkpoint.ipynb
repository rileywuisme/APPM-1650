{
 "cells": [
  {
   "cell_type": "markdown",
   "metadata": {},
   "source": [
    "# HW 12\n",
    "\n",
    "**Upload 2 files** to Gradescope:\n",
    "* **HW12.py** (for the autograder)\n",
    "* **HW12.ipynb** (for manual grading)\n",
    "\n",
    "___"
   ]
  },
  {
   "cell_type": "markdown",
   "metadata": {},
   "source": [
    "### IMDB Movie Database\n",
    "From [Kaggle](https://www.kaggle.com/PromptCloudHQ/imdb-data): 500 highest rated movies on IMDB from 2006 to 2016, sorted by revenue.\n",
    "\n",
    "**Read in the file** `'imdb-movie.csv'` with `Title` as the index column. Store the dataframe in `dfmovie`. Make the following changes:\n",
    "\n",
    "* **Rename** the column 'Runtime (Minutes)' as 'Runtime_min'. (*Hint:* The `.rename(columns={...}, inplace=True)` method takes as input a dictionary containing `old_name:new_name` pairs.)\n",
    "* **Rename** the column 'Revenue (Millions)' as 'Revenue_mil'."
   ]
  },
  {
   "cell_type": "code",
   "execution_count": 150,
   "metadata": {},
   "outputs": [],
   "source": [
    "import pandas as pd\n",
    "import matplotlib.pyplot as plt"
   ]
  },
  {
   "cell_type": "code",
   "execution_count": 9,
   "metadata": {},
   "outputs": [
    {
     "data": {
      "text/html": [
       "<div>\n",
       "<style scoped>\n",
       "    .dataframe tbody tr th:only-of-type {\n",
       "        vertical-align: middle;\n",
       "    }\n",
       "\n",
       "    .dataframe tbody tr th {\n",
       "        vertical-align: top;\n",
       "    }\n",
       "\n",
       "    .dataframe thead th {\n",
       "        text-align: right;\n",
       "    }\n",
       "</style>\n",
       "<table border=\"1\" class=\"dataframe\">\n",
       "  <thead>\n",
       "    <tr style=\"text-align: right;\">\n",
       "      <th></th>\n",
       "      <th>Genre</th>\n",
       "      <th>Description</th>\n",
       "      <th>Director</th>\n",
       "      <th>Actors</th>\n",
       "      <th>Year</th>\n",
       "      <th>Runtime (Minutes)</th>\n",
       "      <th>Rating</th>\n",
       "      <th>Votes</th>\n",
       "      <th>Revenue (Millions)</th>\n",
       "      <th>Metascore</th>\n",
       "    </tr>\n",
       "    <tr>\n",
       "      <th>Title</th>\n",
       "      <th></th>\n",
       "      <th></th>\n",
       "      <th></th>\n",
       "      <th></th>\n",
       "      <th></th>\n",
       "      <th></th>\n",
       "      <th></th>\n",
       "      <th></th>\n",
       "      <th></th>\n",
       "      <th></th>\n",
       "    </tr>\n",
       "  </thead>\n",
       "  <tbody>\n",
       "    <tr>\n",
       "      <th>Star Wars: Episode VII - The Force Awakens</th>\n",
       "      <td>Action,Adventure,Fantasy</td>\n",
       "      <td>Three decades after the defeat of the Galactic...</td>\n",
       "      <td>J.J. Abrams</td>\n",
       "      <td>Daisy Ridley, John Boyega, Oscar Isaac, Domhna...</td>\n",
       "      <td>2015</td>\n",
       "      <td>136</td>\n",
       "      <td>8.1</td>\n",
       "      <td>661608</td>\n",
       "      <td>936.63</td>\n",
       "      <td>81.0</td>\n",
       "    </tr>\n",
       "    <tr>\n",
       "      <th>Avatar</th>\n",
       "      <td>Action,Adventure,Fantasy</td>\n",
       "      <td>A paraplegic marine dispatched to the moon Pan...</td>\n",
       "      <td>James Cameron</td>\n",
       "      <td>Sam Worthington, Zoe Saldana, Sigourney Weaver...</td>\n",
       "      <td>2009</td>\n",
       "      <td>162</td>\n",
       "      <td>7.8</td>\n",
       "      <td>935408</td>\n",
       "      <td>760.51</td>\n",
       "      <td>83.0</td>\n",
       "    </tr>\n",
       "    <tr>\n",
       "      <th>Jurassic World</th>\n",
       "      <td>Action,Adventure,Sci-Fi</td>\n",
       "      <td>A new theme park, built on the original site o...</td>\n",
       "      <td>Colin Trevorrow</td>\n",
       "      <td>Chris Pratt, Bryce Dallas Howard, Ty Simpkins,...</td>\n",
       "      <td>2015</td>\n",
       "      <td>124</td>\n",
       "      <td>7.0</td>\n",
       "      <td>455169</td>\n",
       "      <td>652.18</td>\n",
       "      <td>59.0</td>\n",
       "    </tr>\n",
       "    <tr>\n",
       "      <th>The Avengers</th>\n",
       "      <td>Action,Sci-Fi</td>\n",
       "      <td>Earth's mightiest heroes must come together an...</td>\n",
       "      <td>Joss Whedon</td>\n",
       "      <td>Robert Downey Jr., Chris Evans, Scarlett Johan...</td>\n",
       "      <td>2012</td>\n",
       "      <td>143</td>\n",
       "      <td>8.1</td>\n",
       "      <td>1045588</td>\n",
       "      <td>623.28</td>\n",
       "      <td>69.0</td>\n",
       "    </tr>\n",
       "    <tr>\n",
       "      <th>The Dark Knight</th>\n",
       "      <td>Action,Crime,Drama</td>\n",
       "      <td>When the menace known as the Joker wreaks havo...</td>\n",
       "      <td>Christopher Nolan</td>\n",
       "      <td>Christian Bale, Heath Ledger, Aaron Eckhart,Mi...</td>\n",
       "      <td>2008</td>\n",
       "      <td>152</td>\n",
       "      <td>9.0</td>\n",
       "      <td>1791916</td>\n",
       "      <td>533.32</td>\n",
       "      <td>82.0</td>\n",
       "    </tr>\n",
       "  </tbody>\n",
       "</table>\n",
       "</div>"
      ],
      "text/plain": [
       "                                                               Genre  \\\n",
       "Title                                                                  \n",
       "Star Wars: Episode VII - The Force Awakens  Action,Adventure,Fantasy   \n",
       "Avatar                                      Action,Adventure,Fantasy   \n",
       "Jurassic World                               Action,Adventure,Sci-Fi   \n",
       "The Avengers                                           Action,Sci-Fi   \n",
       "The Dark Knight                                   Action,Crime,Drama   \n",
       "\n",
       "                                                                                  Description  \\\n",
       "Title                                                                                           \n",
       "Star Wars: Episode VII - The Force Awakens  Three decades after the defeat of the Galactic...   \n",
       "Avatar                                      A paraplegic marine dispatched to the moon Pan...   \n",
       "Jurassic World                              A new theme park, built on the original site o...   \n",
       "The Avengers                                Earth's mightiest heroes must come together an...   \n",
       "The Dark Knight                             When the menace known as the Joker wreaks havo...   \n",
       "\n",
       "                                                     Director  \\\n",
       "Title                                                           \n",
       "Star Wars: Episode VII - The Force Awakens        J.J. Abrams   \n",
       "Avatar                                          James Cameron   \n",
       "Jurassic World                                Colin Trevorrow   \n",
       "The Avengers                                      Joss Whedon   \n",
       "The Dark Knight                             Christopher Nolan   \n",
       "\n",
       "                                                                                       Actors  \\\n",
       "Title                                                                                           \n",
       "Star Wars: Episode VII - The Force Awakens  Daisy Ridley, John Boyega, Oscar Isaac, Domhna...   \n",
       "Avatar                                      Sam Worthington, Zoe Saldana, Sigourney Weaver...   \n",
       "Jurassic World                              Chris Pratt, Bryce Dallas Howard, Ty Simpkins,...   \n",
       "The Avengers                                Robert Downey Jr., Chris Evans, Scarlett Johan...   \n",
       "The Dark Knight                             Christian Bale, Heath Ledger, Aaron Eckhart,Mi...   \n",
       "\n",
       "                                            Year  Runtime (Minutes)  Rating  \\\n",
       "Title                                                                         \n",
       "Star Wars: Episode VII - The Force Awakens  2015                136     8.1   \n",
       "Avatar                                      2009                162     7.8   \n",
       "Jurassic World                              2015                124     7.0   \n",
       "The Avengers                                2012                143     8.1   \n",
       "The Dark Knight                             2008                152     9.0   \n",
       "\n",
       "                                              Votes  Revenue (Millions)  \\\n",
       "Title                                                                     \n",
       "Star Wars: Episode VII - The Force Awakens   661608              936.63   \n",
       "Avatar                                       935408              760.51   \n",
       "Jurassic World                               455169              652.18   \n",
       "The Avengers                                1045588              623.28   \n",
       "The Dark Knight                             1791916              533.32   \n",
       "\n",
       "                                            Metascore  \n",
       "Title                                                  \n",
       "Star Wars: Episode VII - The Force Awakens       81.0  \n",
       "Avatar                                           83.0  \n",
       "Jurassic World                                   59.0  \n",
       "The Avengers                                     69.0  \n",
       "The Dark Knight                                  82.0  "
      ]
     },
     "execution_count": 9,
     "metadata": {},
     "output_type": "execute_result"
    }
   ],
   "source": [
    "dfmovie = pd.read_csv('imdb-movie.csv', index_col = 'Title')\n",
    "dfmovie.head()"
   ]
  },
  {
   "cell_type": "markdown",
   "metadata": {},
   "source": [
    "### Movie Descriptions\n",
    "Write a function **`movie_keyword(word, dfmovie)`** that returns a list of the movies with `Description`s that contain a given word, in alphabetical order. If there are no matches, the function should return an empty list. (*Hint:* Use `.str.contains()`.)\n",
    "\n",
    "Example:  \n",
    "`movie_keyword('math', dfmovie)` returns \n",
    "```\n",
    "['Frantz',\n",
    " 'Hidden Figures',\n",
    " 'Patriots Day',\n",
    " 'The Accountant',\n",
    " 'The Imitation Game',\n",
    " 'The Man Who Knew Infinity',\n",
    " 'The imposible']\n",
    "```"
   ]
  },
  {
   "cell_type": "code",
   "execution_count": 11,
   "metadata": {},
   "outputs": [],
   "source": [
    "def movie_keyword(word, dfmovie):\n",
    "    return sorted(dfmovie.Description[dfmovie.Description.str.contains(word)].index)"
   ]
  },
  {
   "cell_type": "code",
   "execution_count": 12,
   "metadata": {},
   "outputs": [
    {
     "data": {
      "text/plain": [
       "['Frantz',\n",
       " 'Hidden Figures',\n",
       " 'Patriots Day',\n",
       " 'The Accountant',\n",
       " 'The Imitation Game',\n",
       " 'The Man Who Knew Infinity',\n",
       " 'The imposible']"
      ]
     },
     "execution_count": 12,
     "metadata": {},
     "output_type": "execute_result"
    }
   ],
   "source": [
    "movie_keyword('math', dfmovie)"
   ]
  },
  {
   "cell_type": "markdown",
   "metadata": {},
   "source": [
    "### Actors and Actresses\n",
    "Write a function **`actor_movies(name, dfmovie)`** that returns a list of the movies that an actor or actress has appeared in. The list should be in alphabetical order.\n",
    "\n",
    "Example:  \n",
    "`actor_movies('Amy Adams', dfmovie[dfmovie.Year == 2013])` returns\n",
    "```\n",
    "['American Hustle', 'Her', 'Man of Steel']\n",
    "```"
   ]
  },
  {
   "cell_type": "code",
   "execution_count": 14,
   "metadata": {},
   "outputs": [],
   "source": [
    "def actor_movies(name, dfmovie):\n",
    "    return sorted(dfmovie.Actors[dfmovie.Actors.str.contains(name)].index)"
   ]
  },
  {
   "cell_type": "code",
   "execution_count": 15,
   "metadata": {},
   "outputs": [
    {
     "data": {
      "text/plain": [
       "['American Hustle', 'Her', 'Man of Steel']"
      ]
     },
     "execution_count": 15,
     "metadata": {},
     "output_type": "execute_result"
    }
   ],
   "source": [
    "actor_movies('Amy Adams', dfmovie[dfmovie.Year == 2013])"
   ]
  },
  {
   "cell_type": "markdown",
   "metadata": {},
   "source": [
    "### Directors\n",
    "Write a function **`director_movies(name, dfmovie)`** that returns a list of the movies that a director has made. The list should be in alphabetical order.\n",
    "\n",
    "  Example:  \n",
    "`director_movies('Christopher Nolan', dfmovie)` returns\n",
    "```\n",
    "['Inception',\n",
    " 'Interstellar',\n",
    " 'The Dark Knight',\n",
    " 'The Dark Knight Rises',\n",
    " 'The Prestige']\n",
    "```"
   ]
  },
  {
   "cell_type": "code",
   "execution_count": 17,
   "metadata": {},
   "outputs": [],
   "source": [
    "def director_movies(name, dfmovie):\n",
    "    return sorted(dfmovie.Director[dfmovie.Director.str.contains(name)].index)"
   ]
  },
  {
   "cell_type": "code",
   "execution_count": 18,
   "metadata": {},
   "outputs": [
    {
     "data": {
      "text/plain": [
       "['Inception',\n",
       " 'Interstellar',\n",
       " 'The Dark Knight',\n",
       " 'The Dark Knight Rises',\n",
       " 'The Prestige']"
      ]
     },
     "execution_count": 18,
     "metadata": {},
     "output_type": "execute_result"
    }
   ],
   "source": [
    "director_movies('Christopher Nolan', dfmovie)"
   ]
  },
  {
   "cell_type": "markdown",
   "metadata": {},
   "source": [
    "Write a function **`director_most_movies(dfmovie)`** that returns a list of the director(s) with the most films. If several directors have the same max number of films, return their names in alphabetical order by first name. (*Hint:* Use `.value_counts()`.)\n",
    "\n",
    "  Examples:<br>\n",
    "  `director_most_movies(dfmovie[dfmovie.Year == 2008])` returns\n",
    "```\n",
    "['Clint Eastwood']  \n",
    "```\n",
    "  <br>\n",
    "\n",
    "  `director_most_movies(dfmovie[dfmovie.Year < 2011])` returns\n",
    "```\n",
    " ['Christopher Nolan',\n",
    "   'Danny Boyle',\n",
    "   'David Fincher',\n",
    "   'David Yates',\n",
    "   'Ridley Scott']\n",
    "```"
   ]
  },
  {
   "cell_type": "code",
   "execution_count": 28,
   "metadata": {},
   "outputs": [],
   "source": [
    "def director_most_movies(dfmovie):\n",
    "    director_counts = dfmovie['Director'].value_counts()\n",
    "    max_movies = director_counts.max()\n",
    "    top_directors = director_counts[director_counts == max_movies].index.tolist()\n",
    "    return sorted(top_directors) "
   ]
  },
  {
   "cell_type": "code",
   "execution_count": 30,
   "metadata": {},
   "outputs": [
    {
     "data": {
      "text/plain": [
       "['Clint Eastwood']"
      ]
     },
     "execution_count": 30,
     "metadata": {},
     "output_type": "execute_result"
    }
   ],
   "source": [
    "director_most_movies(dfmovie[dfmovie.Year == 2008])"
   ]
  },
  {
   "cell_type": "code",
   "execution_count": 32,
   "metadata": {},
   "outputs": [
    {
     "data": {
      "text/plain": [
       "['Christopher Nolan',\n",
       " 'Danny Boyle',\n",
       " 'David Fincher',\n",
       " 'David Yates',\n",
       " 'Ridley Scott']"
      ]
     },
     "execution_count": 32,
     "metadata": {},
     "output_type": "execute_result"
    }
   ],
   "source": [
    "director_most_movies(dfmovie[dfmovie.Year < 2011])"
   ]
  },
  {
   "cell_type": "markdown",
   "metadata": {},
   "source": [
    "Write a function **`director_most_revenue(dfmovie)`** that determines the  name of the director with the highest total revenue. Assume that there is a single director. (*Hint:* You may wish to use `groupby`.)\n",
    "\n",
    "Example:<br>\n",
    "`director_most_revenue(dfmovie[dfmovie.Year == 2012])`<br>\n",
    "returns `'Joss Whedon'`."
   ]
  },
  {
   "cell_type": "code",
   "execution_count": 64,
   "metadata": {},
   "outputs": [],
   "source": [
    "def director_most_revenue(dfmovie):\n",
    "    return dfmovie.groupby('Director')['Revenue (Millions)'].sum().idxmax()"
   ]
  },
  {
   "cell_type": "code",
   "execution_count": 66,
   "metadata": {},
   "outputs": [
    {
     "data": {
      "text/plain": [
       "'Joss Whedon'"
      ]
     },
     "execution_count": 66,
     "metadata": {},
     "output_type": "execute_result"
    }
   ],
   "source": [
    "director_most_revenue(dfmovie[dfmovie.Year == 2012])"
   ]
  },
  {
   "cell_type": "markdown",
   "metadata": {},
   "source": [
    "**Create a bar chart** showing the top 10 revenue-generating directors from 2006 to 2012 with the director names on the horizontal axis and the total revenue on the vertical axis.\n",
    "\n",
    "  <img src=\"http://www.coloradomath.org/python/movie-dirs-rev.jpg\" width=\"420\" height=\"396\" />"
   ]
  },
  {
   "cell_type": "code",
   "execution_count": null,
   "metadata": {},
   "outputs": [],
   "source": []
  },
  {
   "cell_type": "markdown",
   "metadata": {},
   "source": [
    "### Genres\n",
    "Each entry in the `'Genre'` column corresponds to a comma-separated list of genres. \n",
    "\n",
    "Write a function **`genres_all(dfmovie)`** that returns an alphabetical list of the possible genres in `dfmovie`. Only include the names that appear between the commas. For example, `'Action, Sci-Fi'` should be split into two genres: `'Action'` and `'Sci-Fi'`.\n",
    "\n",
    "Example:<br>\n",
    "`genres_all(dfmovie.head())` returns<br>\n",
    "`['Action', 'Adventure', 'Crime', 'Drama', 'Fantasy', 'Sci-Fi']`."
   ]
  },
  {
   "cell_type": "code",
   "execution_count": 82,
   "metadata": {},
   "outputs": [
    {
     "data": {
      "text/html": [
       "<div>\n",
       "<style scoped>\n",
       "    .dataframe tbody tr th:only-of-type {\n",
       "        vertical-align: middle;\n",
       "    }\n",
       "\n",
       "    .dataframe tbody tr th {\n",
       "        vertical-align: top;\n",
       "    }\n",
       "\n",
       "    .dataframe thead th {\n",
       "        text-align: right;\n",
       "    }\n",
       "</style>\n",
       "<table border=\"1\" class=\"dataframe\">\n",
       "  <thead>\n",
       "    <tr style=\"text-align: right;\">\n",
       "      <th></th>\n",
       "      <th>Genre</th>\n",
       "      <th>Description</th>\n",
       "      <th>Director</th>\n",
       "      <th>Actors</th>\n",
       "      <th>Year</th>\n",
       "      <th>Runtime (Minutes)</th>\n",
       "      <th>Rating</th>\n",
       "      <th>Votes</th>\n",
       "      <th>Revenue (Millions)</th>\n",
       "      <th>Metascore</th>\n",
       "    </tr>\n",
       "    <tr>\n",
       "      <th>Title</th>\n",
       "      <th></th>\n",
       "      <th></th>\n",
       "      <th></th>\n",
       "      <th></th>\n",
       "      <th></th>\n",
       "      <th></th>\n",
       "      <th></th>\n",
       "      <th></th>\n",
       "      <th></th>\n",
       "      <th></th>\n",
       "    </tr>\n",
       "  </thead>\n",
       "  <tbody>\n",
       "    <tr>\n",
       "      <th>Star Wars: Episode VII - The Force Awakens</th>\n",
       "      <td>Action,Adventure,Fantasy</td>\n",
       "      <td>Three decades after the defeat of the Galactic...</td>\n",
       "      <td>J.J. Abrams</td>\n",
       "      <td>Daisy Ridley, John Boyega, Oscar Isaac, Domhna...</td>\n",
       "      <td>2015</td>\n",
       "      <td>136</td>\n",
       "      <td>8.1</td>\n",
       "      <td>661608</td>\n",
       "      <td>936.63</td>\n",
       "      <td>81.0</td>\n",
       "    </tr>\n",
       "    <tr>\n",
       "      <th>Avatar</th>\n",
       "      <td>Action,Adventure,Fantasy</td>\n",
       "      <td>A paraplegic marine dispatched to the moon Pan...</td>\n",
       "      <td>James Cameron</td>\n",
       "      <td>Sam Worthington, Zoe Saldana, Sigourney Weaver...</td>\n",
       "      <td>2009</td>\n",
       "      <td>162</td>\n",
       "      <td>7.8</td>\n",
       "      <td>935408</td>\n",
       "      <td>760.51</td>\n",
       "      <td>83.0</td>\n",
       "    </tr>\n",
       "    <tr>\n",
       "      <th>Jurassic World</th>\n",
       "      <td>Action,Adventure,Sci-Fi</td>\n",
       "      <td>A new theme park, built on the original site o...</td>\n",
       "      <td>Colin Trevorrow</td>\n",
       "      <td>Chris Pratt, Bryce Dallas Howard, Ty Simpkins,...</td>\n",
       "      <td>2015</td>\n",
       "      <td>124</td>\n",
       "      <td>7.0</td>\n",
       "      <td>455169</td>\n",
       "      <td>652.18</td>\n",
       "      <td>59.0</td>\n",
       "    </tr>\n",
       "    <tr>\n",
       "      <th>The Avengers</th>\n",
       "      <td>Action,Sci-Fi</td>\n",
       "      <td>Earth's mightiest heroes must come together an...</td>\n",
       "      <td>Joss Whedon</td>\n",
       "      <td>Robert Downey Jr., Chris Evans, Scarlett Johan...</td>\n",
       "      <td>2012</td>\n",
       "      <td>143</td>\n",
       "      <td>8.1</td>\n",
       "      <td>1045588</td>\n",
       "      <td>623.28</td>\n",
       "      <td>69.0</td>\n",
       "    </tr>\n",
       "    <tr>\n",
       "      <th>The Dark Knight</th>\n",
       "      <td>Action,Crime,Drama</td>\n",
       "      <td>When the menace known as the Joker wreaks havo...</td>\n",
       "      <td>Christopher Nolan</td>\n",
       "      <td>Christian Bale, Heath Ledger, Aaron Eckhart,Mi...</td>\n",
       "      <td>2008</td>\n",
       "      <td>152</td>\n",
       "      <td>9.0</td>\n",
       "      <td>1791916</td>\n",
       "      <td>533.32</td>\n",
       "      <td>82.0</td>\n",
       "    </tr>\n",
       "  </tbody>\n",
       "</table>\n",
       "</div>"
      ],
      "text/plain": [
       "                                                               Genre  \\\n",
       "Title                                                                  \n",
       "Star Wars: Episode VII - The Force Awakens  Action,Adventure,Fantasy   \n",
       "Avatar                                      Action,Adventure,Fantasy   \n",
       "Jurassic World                               Action,Adventure,Sci-Fi   \n",
       "The Avengers                                           Action,Sci-Fi   \n",
       "The Dark Knight                                   Action,Crime,Drama   \n",
       "\n",
       "                                                                                  Description  \\\n",
       "Title                                                                                           \n",
       "Star Wars: Episode VII - The Force Awakens  Three decades after the defeat of the Galactic...   \n",
       "Avatar                                      A paraplegic marine dispatched to the moon Pan...   \n",
       "Jurassic World                              A new theme park, built on the original site o...   \n",
       "The Avengers                                Earth's mightiest heroes must come together an...   \n",
       "The Dark Knight                             When the menace known as the Joker wreaks havo...   \n",
       "\n",
       "                                                     Director  \\\n",
       "Title                                                           \n",
       "Star Wars: Episode VII - The Force Awakens        J.J. Abrams   \n",
       "Avatar                                          James Cameron   \n",
       "Jurassic World                                Colin Trevorrow   \n",
       "The Avengers                                      Joss Whedon   \n",
       "The Dark Knight                             Christopher Nolan   \n",
       "\n",
       "                                                                                       Actors  \\\n",
       "Title                                                                                           \n",
       "Star Wars: Episode VII - The Force Awakens  Daisy Ridley, John Boyega, Oscar Isaac, Domhna...   \n",
       "Avatar                                      Sam Worthington, Zoe Saldana, Sigourney Weaver...   \n",
       "Jurassic World                              Chris Pratt, Bryce Dallas Howard, Ty Simpkins,...   \n",
       "The Avengers                                Robert Downey Jr., Chris Evans, Scarlett Johan...   \n",
       "The Dark Knight                             Christian Bale, Heath Ledger, Aaron Eckhart,Mi...   \n",
       "\n",
       "                                            Year  Runtime (Minutes)  Rating  \\\n",
       "Title                                                                         \n",
       "Star Wars: Episode VII - The Force Awakens  2015                136     8.1   \n",
       "Avatar                                      2009                162     7.8   \n",
       "Jurassic World                              2015                124     7.0   \n",
       "The Avengers                                2012                143     8.1   \n",
       "The Dark Knight                             2008                152     9.0   \n",
       "\n",
       "                                              Votes  Revenue (Millions)  \\\n",
       "Title                                                                     \n",
       "Star Wars: Episode VII - The Force Awakens   661608              936.63   \n",
       "Avatar                                       935408              760.51   \n",
       "Jurassic World                               455169              652.18   \n",
       "The Avengers                                1045588              623.28   \n",
       "The Dark Knight                             1791916              533.32   \n",
       "\n",
       "                                            Metascore  \n",
       "Title                                                  \n",
       "Star Wars: Episode VII - The Force Awakens       81.0  \n",
       "Avatar                                           83.0  \n",
       "Jurassic World                                   59.0  \n",
       "The Avengers                                     69.0  \n",
       "The Dark Knight                                  82.0  "
      ]
     },
     "execution_count": 82,
     "metadata": {},
     "output_type": "execute_result"
    }
   ],
   "source": [
    "dfmovie.head()"
   ]
  },
  {
   "cell_type": "code",
   "execution_count": 115,
   "metadata": {},
   "outputs": [],
   "source": [
    "def genres_all(dfmovie):\n",
    "    genre_list = dfmovie.Genre.values.tolist()\n",
    "    unique = set()\n",
    "    for genres in genre_list:\n",
    "        unique.update(genre.strip() for genre in genres.split(','))\n",
    "    \n",
    "    return sorted(unique)"
   ]
  },
  {
   "cell_type": "code",
   "execution_count": 117,
   "metadata": {},
   "outputs": [
    {
     "data": {
      "text/plain": [
       "['Action', 'Adventure', 'Crime', 'Drama', 'Fantasy', 'Sci-Fi']"
      ]
     },
     "execution_count": 117,
     "metadata": {},
     "output_type": "execute_result"
    }
   ],
   "source": [
    "genres_all(dfmovie.head())"
   ]
  },
  {
   "cell_type": "markdown",
   "metadata": {},
   "source": [
    "Write a function **`genres_summary(dfmovie)`** that returns a dataframe with index labels corresponding to the genres in `dfmovie`, and columns corresponding to the genre `Counts`, average `Runtime_min`, average `Rating`, and average `Revenue_mil`. It should call `genres_all()`.\n",
    "\n",
    "  Example:<br>\n",
    "  `genres_summary(dfmovie.head())` returns the dataframe\n",
    "  \n",
    "|              | Counts | Runtime_min | Rating   | Revenue_mil | \n",
    "| :--          | --:    | --:         | --:      | --:         | \n",
    "| **Action**   | 5      | 143.400000  | 8.000000 | 701.184000  | \n",
    "| **Adventure**| 3      | 140.666667  | 7.633333 | 783.106667  | \n",
    "| **Crime**    | 1      | 152.000000  | 9.000000 | 533.320000  | \n",
    "| **Drama**    | 1      | 152.000000  | 9.000000 | 533.320000  | \n",
    "| **Fantasy**  | 2      | 149.000000  | 7.950000 | 848.570000  | \n",
    "| **Sci-Fi**   | 2      | 133.500000  | 7.550000 | 637.730000  |  \n"
   ]
  },
  {
   "cell_type": "code",
   "execution_count": 140,
   "metadata": {},
   "outputs": [],
   "source": [
    "def genres_summary(dfmovie):\n",
    "    unique_genres = genres_all(dfmovie)\n",
    "\n",
    "    summary = {\n",
    "        \"Counts\": [],\n",
    "        \"average Runtime_min\": [],\n",
    "        \"average Rating\": [],\n",
    "        \"average Revenue_mil\": []\n",
    "    }\n",
    "    \n",
    "    for genre in unique_genres:\n",
    "        # Filter the rows containing the current genre\n",
    "        genre_rows = dfmovie[dfmovie['Genre'].str.contains(genre, na=False)]\n",
    "        \n",
    "        # Calculate statistics\n",
    "        count = len(genre_rows)\n",
    "        avg_runtime = genre_rows['Runtime (Minutes)'].mean()\n",
    "        avg_rating = genre_rows['Rating'].mean()\n",
    "        avg_revenue = genre_rows['Revenue (Millions)'].mean()\n",
    "        \n",
    "        # Append the results\n",
    "        summary[\"Counts\"].append(count)\n",
    "        summary[\"average Runtime_min\"].append(avg_runtime)\n",
    "        summary[\"average Rating\"].append(avg_rating)\n",
    "        summary[\"average Revenue_mil\"].append(avg_revenue)\n",
    "    \n",
    "    # Create the summary DataFrame\n",
    "    summary_df = pd.DataFrame(summary, index=unique_genres)\n",
    "    \n",
    "    return summary_df"
   ]
  },
  {
   "cell_type": "code",
   "execution_count": 142,
   "metadata": {},
   "outputs": [
    {
     "data": {
      "text/html": [
       "<div>\n",
       "<style scoped>\n",
       "    .dataframe tbody tr th:only-of-type {\n",
       "        vertical-align: middle;\n",
       "    }\n",
       "\n",
       "    .dataframe tbody tr th {\n",
       "        vertical-align: top;\n",
       "    }\n",
       "\n",
       "    .dataframe thead th {\n",
       "        text-align: right;\n",
       "    }\n",
       "</style>\n",
       "<table border=\"1\" class=\"dataframe\">\n",
       "  <thead>\n",
       "    <tr style=\"text-align: right;\">\n",
       "      <th></th>\n",
       "      <th>Counts</th>\n",
       "      <th>average Runtime_min</th>\n",
       "      <th>average Rating</th>\n",
       "      <th>average Revenue_mil</th>\n",
       "    </tr>\n",
       "  </thead>\n",
       "  <tbody>\n",
       "    <tr>\n",
       "      <th>Action</th>\n",
       "      <td>5</td>\n",
       "      <td>143.400000</td>\n",
       "      <td>8.000000</td>\n",
       "      <td>701.184000</td>\n",
       "    </tr>\n",
       "    <tr>\n",
       "      <th>Adventure</th>\n",
       "      <td>3</td>\n",
       "      <td>140.666667</td>\n",
       "      <td>7.633333</td>\n",
       "      <td>783.106667</td>\n",
       "    </tr>\n",
       "    <tr>\n",
       "      <th>Crime</th>\n",
       "      <td>1</td>\n",
       "      <td>152.000000</td>\n",
       "      <td>9.000000</td>\n",
       "      <td>533.320000</td>\n",
       "    </tr>\n",
       "    <tr>\n",
       "      <th>Drama</th>\n",
       "      <td>1</td>\n",
       "      <td>152.000000</td>\n",
       "      <td>9.000000</td>\n",
       "      <td>533.320000</td>\n",
       "    </tr>\n",
       "    <tr>\n",
       "      <th>Fantasy</th>\n",
       "      <td>2</td>\n",
       "      <td>149.000000</td>\n",
       "      <td>7.950000</td>\n",
       "      <td>848.570000</td>\n",
       "    </tr>\n",
       "    <tr>\n",
       "      <th>Sci-Fi</th>\n",
       "      <td>2</td>\n",
       "      <td>133.500000</td>\n",
       "      <td>7.550000</td>\n",
       "      <td>637.730000</td>\n",
       "    </tr>\n",
       "  </tbody>\n",
       "</table>\n",
       "</div>"
      ],
      "text/plain": [
       "           Counts  average Runtime_min  average Rating  average Revenue_mil\n",
       "Action          5           143.400000        8.000000           701.184000\n",
       "Adventure       3           140.666667        7.633333           783.106667\n",
       "Crime           1           152.000000        9.000000           533.320000\n",
       "Drama           1           152.000000        9.000000           533.320000\n",
       "Fantasy         2           149.000000        7.950000           848.570000\n",
       "Sci-Fi          2           133.500000        7.550000           637.730000"
      ]
     },
     "execution_count": 142,
     "metadata": {},
     "output_type": "execute_result"
    }
   ],
   "source": [
    "genres_summary(dfmovie.head())"
   ]
  },
  {
   "cell_type": "markdown",
   "metadata": {},
   "source": [
    "### Ratings and Metascores"
   ]
  },
  {
   "cell_type": "markdown",
   "metadata": {},
   "source": [
    "Sort the `Rating`s in the database in increasing order and plot them as a line graph."
   ]
  },
  {
   "cell_type": "code",
   "execution_count": 146,
   "metadata": {},
   "outputs": [],
   "source": [
    "sorted_rating = sorted(dfmovie.Rating)"
   ]
  },
  {
   "cell_type": "code",
   "execution_count": 154,
   "metadata": {},
   "outputs": [
    {
     "data": {
      "image/png": "[encoded data removed]",
      "text/plain": [
       "<Figure size 640x480 with 1 Axes>"
      ]
     },
     "metadata": {},
     "output_type": "display_data"
    }
   ],
   "source": [
    "plt.plot(sorted_rating)\n",
    "plt.show()"
   ]
  },
  {
   "cell_type": "markdown",
   "metadata": {},
   "source": [
    "Sort the `Metascore`s in the database in increasing order and plot them as a line graph."
   ]
  },
  {
   "cell_type": "code",
   "execution_count": 172,
   "metadata": {},
   "outputs": [],
   "source": [
    "sorted_metascore = dfmovie.Metascore.sort_values(axis=0, ascending=True)"
   ]
  },
  {
   "cell_type": "code",
   "execution_count": 184,
   "metadata": {},
   "outputs": [
    {
     "data": {
      "image/png": "[encoded data removed]",
      "text/plain": [
       "<Figure size 640x480 with 1 Axes>"
      ]
     },
     "metadata": {},
     "output_type": "display_data"
    }
   ],
   "source": [
    "plt.plot(sorted_metascore)\n",
    "plt.show()"
   ]
  },
  {
   "cell_type": "markdown",
   "metadata": {},
   "source": [
    "There should be a strong relationship between the `Rating` and `Metascore` columns. \n",
    "\n",
    "**Create a scatter plot** with `Rating` on the horizontal axis and `Metascore` on the vertical axis."
   ]
  },
  {
   "cell_type": "code",
   "execution_count": 197,
   "metadata": {},
   "outputs": [
    {
     "data": {
      "image/png": "[encoded data removed]",
      "text/plain": [
       "<Figure size 640x480 with 1 Axes>"
      ]
     },
     "metadata": {},
     "output_type": "display_data"
    }
   ],
   "source": [
    "plt.plot(sorted_metascore, sorted_rating, 'o', ms = 1)\n",
    "plt.show()"
   ]
  }
 ],
 "metadata": {
  "kernelspec": {
   "display_name": "Python 3 (ipykernel)",
   "language": "python",
   "name": "python3"
  },
  "language_info": {
   "codemirror_mode": {
    "name": "ipython",
    "version": 3
   },
   "file_extension": ".py",
   "mimetype": "text/x-python",
   "name": "python",
   "nbconvert_exporter": "python",
   "pygments_lexer": "ipython3",
   "version": "3.12.4"
  }
 },
 "nbformat": 4,
 "nbformat_minor": 4
}
