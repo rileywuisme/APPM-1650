{
 "cells": [
  {
   "cell_type": "markdown",
   "id": "155a85a8-0ffa-44bb-866e-70ebc324ee9d",
   "metadata": {},
   "source": [
    "### Lecture 9b"
   ]
  },
  {
   "cell_type": "code",
   "execution_count": 43,
   "id": "cff57d60-a66d-4fa0-b749-e322bd22c6ae",
   "metadata": {},
   "outputs": [],
   "source": [
    "import random"
   ]
  },
  {
   "cell_type": "markdown",
   "id": "1cf3d5c4-a662-464e-a1bd-4f8f0ca7f8a0",
   "metadata": {},
   "source": [
    "### Recurisve Functions  \n",
    "* Function calls itself with a smaller input size\n",
    "* Repeats until the base case is reached (with smallest size)\n",
    "* A type of loop\n",
    "  "
   ]
  },
  {
   "cell_type": "markdown",
   "id": "420cbc8f-37bb-4b91-a0db-36949d71ecb7",
   "metadata": {},
   "source": [
    "Write a recursive function `recips(n)` that returns a list of the reciprocals of the first n positive integers. "
   ]
  },
  {
   "cell_type": "code",
   "execution_count": 38,
   "id": "6b28a5a4-145d-415c-a16f-53359017bd47",
   "metadata": {},
   "outputs": [],
   "source": [
    "def recips(n):\n",
    "    # base case\n",
    "    if n == 1:\n",
    "        return [1]\n",
    "\n",
    "    return recips(n-1) + [1/n]"
   ]
  },
  {
   "cell_type": "code",
   "execution_count": 40,
   "id": "9c39d397-8ece-440b-88c2-0294f0f4da60",
   "metadata": {},
   "outputs": [
    {
     "data": {
      "text/plain": [
       "[1, 0.5, 0.3333333333333333]"
      ]
     },
     "execution_count": 40,
     "metadata": {},
     "output_type": "execute_result"
    }
   ],
   "source": [
    "recips(3)"
   ]
  },
  {
   "cell_type": "markdown",
   "id": "c0bb60df-085a-48c5-bcfa-dfd2ed5d2fee",
   "metadata": {},
   "source": [
    "Write a recursive function `roll_num(num)` that simulates the roll of a die, printing the results in a row until `num` appears. Assume `num` is an integer from 1 to 6. "
   ]
  },
  {
   "cell_type": "markdown",
   "id": "9ea1ca6f-f345-4af3-980a-82899e4f264a",
   "metadata": {},
   "source": [
    "my try:"
   ]
  },
  {
   "cell_type": "code",
   "execution_count": 70,
   "id": "072c1be9-be57-4271-9bd3-a1677aa3688d",
   "metadata": {},
   "outputs": [],
   "source": [
    "def roll_num(num):\n",
    "    # base case \n",
    "    roll = random.randint(1, 6)\n",
    "    if roll == num:\n",
    "        return None\n",
    "\n",
    "    print(roll)"
   ]
  },
  {
   "cell_type": "code",
   "execution_count": 72,
   "id": "462fc470-f5bc-4c4c-a472-19cfe0d7fd40",
   "metadata": {},
   "outputs": [
    {
     "name": "stdout",
     "output_type": "stream",
     "text": [
      "1\n"
     ]
    }
   ],
   "source": [
    "roll_num(5)"
   ]
  },
  {
   "cell_type": "markdown",
   "id": "315ba4c7-8c68-40fc-b9fd-c76b8b885748",
   "metadata": {},
   "source": [
    "Prof. answer"
   ]
  },
  {
   "cell_type": "code",
   "execution_count": 93,
   "id": "9689101e-5cfe-414c-b52b-a26ffd28d1da",
   "metadata": {},
   "outputs": [],
   "source": [
    "def roll_num(num):\n",
    "    roll = random.randint(1, 6)\n",
    "    print(roll, end=' ')\n",
    "\n",
    "    if roll != num:\n",
    "        roll_num(num)\n",
    "\n",
    "# key: function calls itself"
   ]
  },
  {
   "cell_type": "code",
   "execution_count": 89,
   "id": "1b32c2ab-6744-4bf3-87bb-44001d0bbb2c",
   "metadata": {},
   "outputs": [
    {
     "name": "stdout",
     "output_type": "stream",
     "text": [
      "6 5 3 1 5 1 1 6 3 5 4 1 2 "
     ]
    }
   ],
   "source": [
    "roll_num(2)"
   ]
  },
  {
   "cell_type": "markdown",
   "id": "a37e1425-aed3-4a61-86f9-deb288709d3a",
   "metadata": {},
   "source": [
    "### Loops  \n",
    "Loops in loops"
   ]
  },
  {
   "cell_type": "markdown",
   "id": "48ec2d98-4889-451d-86b3-18c9f7348a8c",
   "metadata": {},
   "source": [
    "Multiplication Table"
   ]
  },
  {
   "cell_type": "code",
   "execution_count": 113,
   "id": "a6c24b3b-eea2-48c3-8a2b-dbabcf361e6b",
   "metadata": {},
   "outputs": [
    {
     "name": "stdout",
     "output_type": "stream",
     "text": [
      " 1  2  3  4  5 \n",
      " 2  4  6  8 10 \n",
      " 3  6  9 12 15 \n",
      " 4  8 12 16 20 \n",
      " 5 10 15 20 25 \n"
     ]
    }
   ],
   "source": [
    "for row in range(1, 6):\n",
    "    for col in range(1, 6):\n",
    "        print(f'{row * col:2}', end=' ')\n",
    "    print()"
   ]
  },
  {
   "cell_type": "markdown",
   "id": "2e99406a-3b06-4fa6-bc61-62fd31749adf",
   "metadata": {},
   "source": [
    "### Triangle of Numbers  \n",
    "```\n",
    "\n",
    "1\n",
    "2 3\n",
    "3 4 5\n",
    "4 5 6 7\n",
    "5 6 7 8 9\n",
    "\n",
    "```"
   ]
  },
  {
   "cell_type": "code",
   "execution_count": 128,
   "id": "e558779d-799d-40a7-8182-70522d5fd3c0",
   "metadata": {},
   "outputs": [
    {
     "name": "stdout",
     "output_type": "stream",
     "text": [
      "1 \n",
      "2 3 \n",
      "3 4 5 \n",
      "4 5 6 7 \n",
      "5 6 7 8 9 \n"
     ]
    }
   ],
   "source": [
    "for row in range(1, 6):\n",
    "    for col in range(row):\n",
    "        print(row + col, end=' ')\n",
    "    print()"
   ]
  },
  {
   "cell_type": "code",
   "execution_count": 130,
   "id": "694c6ddb-c596-4f49-9a66-1a3353a4fc2e",
   "metadata": {},
   "outputs": [
    {
     "name": "stdout",
     "output_type": "stream",
     "text": [
      "1 \n",
      "2 3 \n",
      "3 4 5 \n",
      "4 5 6 7 \n",
      "5 6 7 8 9 \n"
     ]
    }
   ],
   "source": [
    "for row in range(1, 6):\n",
    "    for col in range(row, 2*row):\n",
    "        print(col, end=' ')\n",
    "    print()"
   ]
  },
  {
   "cell_type": "markdown",
   "id": "b9c27d4b-d9c4-4ff7-957a-c7312f518cb2",
   "metadata": {},
   "source": [
    "### Another Triangle  \n",
    "```\n",
    "1\n",
    "2 3\n",
    "4 5 6\n",
    "7 8 9 10\n",
    "```"
   ]
  },
  {
   "cell_type": "code",
   "execution_count": 141,
   "id": "ff434865-c118-4738-8aae-88a0d270dad8",
   "metadata": {},
   "outputs": [
    {
     "name": "stdout",
     "output_type": "stream",
     "text": [
      "1 \n",
      "2 3 \n",
      "4 5 6 \n",
      "7 8 9 10 \n"
     ]
    }
   ],
   "source": [
    "i = 1\n",
    "for row in range(1, 5):\n",
    "    for col in range(row):\n",
    "        print(i, end=' ')\n",
    "        i += 1\n",
    "    print()"
   ]
  },
  {
   "cell_type": "markdown",
   "id": "c8a8fb2e-8ca8-4017-b35f-9866089abedb",
   "metadata": {},
   "source": [
    "### Representing Matrices"
   ]
  },
  {
   "cell_type": "code",
   "execution_count": 145,
   "id": "ae2bf870-1997-4665-b8ec-855ba5b793e1",
   "metadata": {},
   "outputs": [
    {
     "name": "stdout",
     "output_type": "stream",
     "text": [
      "1 2 3 4 \n",
      "2 4 6 8 \n",
      "3 6 9 12 \n"
     ]
    }
   ],
   "source": [
    "for row in range(1, 4):\n",
    "    for col in range(1, 5):\n",
    "        print(row*col, end=' ')\n",
    "    print()"
   ]
  },
  {
   "cell_type": "code",
   "execution_count": 149,
   "id": "ebb933d4-b3e1-45f4-b9c4-8c08aa507af3",
   "metadata": {},
   "outputs": [
    {
     "name": "stdout",
     "output_type": "stream",
     "text": [
      "[1, 2, 3, 4]\n",
      "[2, 4, 6, 8]\n",
      "[3, 6, 9, 12]\n"
     ]
    }
   ],
   "source": [
    "for row in range(1, 4):\n",
    "    rownums = [row*col for col in range(1, 5)]\n",
    "    print(rownums)"
   ]
  },
  {
   "cell_type": "code",
   "execution_count": 153,
   "id": "4938734c-9d5d-4517-ac7f-c8ad9aad6e10",
   "metadata": {},
   "outputs": [
    {
     "data": {
      "text/plain": [
       "[[1, 2, 3, 4], [2, 4, 6, 8], [3, 6, 9, 12]]"
      ]
     },
     "execution_count": 153,
     "metadata": {},
     "output_type": "execute_result"
    }
   ],
   "source": [
    "mat = []\n",
    "for row in range(1, 4):\n",
    "    mat.append([row*col for col in range(1, 5)])\n",
    "mat"
   ]
  },
  {
   "cell_type": "code",
   "execution_count": 155,
   "id": "923f7a95-b1e5-4e93-b0c6-021cdfcc9f21",
   "metadata": {},
   "outputs": [
    {
     "data": {
      "text/plain": [
       "3"
      ]
     },
     "execution_count": 155,
     "metadata": {},
     "output_type": "execute_result"
    }
   ],
   "source": [
    "len(mat)"
   ]
  },
  {
   "cell_type": "code",
   "execution_count": 157,
   "id": "4ea2cd87-018b-457a-8f8b-32a8c8f96664",
   "metadata": {},
   "outputs": [
    {
     "data": {
      "text/plain": [
       "[3, 6, 9, 12]"
      ]
     },
     "execution_count": 157,
     "metadata": {},
     "output_type": "execute_result"
    }
   ],
   "source": [
    "mat[2]"
   ]
  },
  {
   "cell_type": "code",
   "execution_count": 161,
   "id": "b6c4d796-636d-4955-9723-b5ded178b849",
   "metadata": {},
   "outputs": [
    {
     "data": {
      "text/plain": [
       "12"
      ]
     },
     "execution_count": 161,
     "metadata": {},
     "output_type": "execute_result"
    }
   ],
   "source": [
    "mat[2][3]"
   ]
  },
  {
   "cell_type": "code",
   "execution_count": 172,
   "id": "70407ade-e75d-4876-a002-490134b9ac78",
   "metadata": {},
   "outputs": [
    {
     "data": {
      "text/plain": [
       "[[1, 2, 3, 4], [2, 4, 6, 8], [3, 6, 9, 12]]"
      ]
     },
     "execution_count": 172,
     "metadata": {},
     "output_type": "execute_result"
    }
   ],
   "source": [
    "[[row*col for col in range(1, 5)] for row in range(1, 4)] # list comprehension within a list comprehension"
   ]
  },
  {
   "cell_type": "code",
   "execution_count": 174,
   "id": "2c7dbbb2-bcf5-4a01-9b98-7d89f42edc18",
   "metadata": {},
   "outputs": [
    {
     "data": {
      "text/plain": [
       "[[1, 2, 3, 4], [2, 4, 6, 8], [3, 6, 9, 12]]"
      ]
     },
     "execution_count": 174,
     "metadata": {},
     "output_type": "execute_result"
    }
   ],
   "source": [
    "mat"
   ]
  },
  {
   "cell_type": "code",
   "execution_count": 176,
   "id": "098e9a18-506c-4a7a-81de-8a02b0d9e88e",
   "metadata": {},
   "outputs": [
    {
     "name": "stdout",
     "output_type": "stream",
     "text": [
      "1 2 3 4 2 4 6 8 3 6 9 12 "
     ]
    }
   ],
   "source": [
    "for row in mat:\n",
    "    for num in row:\n",
    "        print(num, end=' ')"
   ]
  },
  {
   "cell_type": "code",
   "execution_count": 182,
   "id": "209930a5-4e90-48d9-8f9b-3813b1edb0b3",
   "metadata": {},
   "outputs": [
    {
     "data": {
      "text/plain": [
       "[1, 2, 3, 4, 2, 4, 6, 8, 3, 6, 9, 12]"
      ]
     },
     "execution_count": 182,
     "metadata": {},
     "output_type": "execute_result"
    }
   ],
   "source": [
    "[num for row in mat for num in row] #list comprehension version of the one before"
   ]
  },
  {
   "cell_type": "markdown",
   "id": "e77a3d9b-1282-4b60-9e29-bb33d725e0fc",
   "metadata": {},
   "source": [
    "### Non-recursive Fibonacci"
   ]
  },
  {
   "cell_type": "code",
   "execution_count": 189,
   "id": "30082a42-bc67-44dd-84b1-cc2830e84309",
   "metadata": {},
   "outputs": [],
   "source": [
    "def fib(n):\n",
    "    '''Return the nth Fibonacci number'''\n",
    "    prev, curr = 1, 1\n",
    "\n",
    "    for i in range(n-2):\n",
    "        prev, curr = curr, prev + curr\n",
    "\n",
    "    return curr"
   ]
  },
  {
   "cell_type": "code",
   "execution_count": 197,
   "id": "42b795f1-bf9a-4b30-8e75-ea7aa7797fed",
   "metadata": {},
   "outputs": [
    {
     "data": {
      "text/plain": [
       "6254449428820551641549772190170184190608177514674331726439961915653414425"
      ]
     },
     "execution_count": 197,
     "metadata": {},
     "output_type": "execute_result"
    }
   ],
   "source": [
    "fib(350)"
   ]
  },
  {
   "cell_type": "code",
   "execution_count": null,
   "id": "5c2275b7-770f-4232-adcd-e6e54e771343",
   "metadata": {},
   "outputs": [],
   "source": []
  }
 ],
 "metadata": {
  "kernelspec": {
   "display_name": "Python 3 (ipykernel)",
   "language": "python",
   "name": "python3"
  },
  "language_info": {
   "codemirror_mode": {
    "name": "ipython",
    "version": 3
   },
   "file_extension": ".py",
   "mimetype": "text/x-python",
   "name": "python",
   "nbconvert_exporter": "python",
   "pygments_lexer": "ipython3",
   "version": "3.12.4"
  }
 },
 "nbformat": 4,
 "nbformat_minor": 5
}
