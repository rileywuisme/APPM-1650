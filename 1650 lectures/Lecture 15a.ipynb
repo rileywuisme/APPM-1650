{
 "cells": [
  {
   "cell_type": "markdown",
   "id": "187f953a-315b-4270-9d3a-297e52d59dbc",
   "metadata": {},
   "source": [
    "### Lecture 15a"
   ]
  },
  {
   "cell_type": "code",
   "execution_count": 3,
   "id": "f67c2eeb-0296-4a67-a334-0c067884d235",
   "metadata": {},
   "outputs": [],
   "source": [
    "import random\n",
    "import numpy as np\n",
    "import pandas as pd"
   ]
  },
  {
   "cell_type": "code",
   "execution_count": 7,
   "id": "b600f5e4-88b0-4c81-8efc-833da51d8601",
   "metadata": {},
   "outputs": [
    {
     "data": {
      "text/plain": [
       "[4, 5, -10, 15, -16, -18, 15, -5]"
      ]
     },
     "execution_count": 7,
     "metadata": {},
     "output_type": "execute_result"
    }
   ],
   "source": [
    "random.seed(250)\n",
    "nums = [random.randint(-20, 20) for _ in range(8)]\n",
    "nums"
   ]
  },
  {
   "cell_type": "markdown",
   "id": "fa55325e-2c51-44a6-abd0-9488817c0998",
   "metadata": {},
   "source": [
    "### Identify Outliers\n",
    "An *outlier* will be outside the interval `[-thresh, thresh]` for a given threshold"
   ]
  },
  {
   "cell_type": "markdown",
   "id": "d5a3065c-29ac-4af9-a180-2e0d6b9a0dd9",
   "metadata": {},
   "source": [
    "Write a function `has_outliers(nums, thresh)` that will return `True` if `nums` has any outliers.   \n",
    "* Write a loop and exit the loop as soon as the answer is known.\n",
    "* Write a list comprehension that returns the answer. (Hint: Use`any()`.)\n",
    "* Write a recursive verision.\n",
    "* Write a numpy version."
   ]
  },
  {
   "cell_type": "code",
   "execution_count": 16,
   "id": "1c5d0910-659e-4cae-b038-57aede61d81c",
   "metadata": {},
   "outputs": [],
   "source": [
    "# Solution 1\n",
    "def has_outliers_loop(nums, thresh):\n",
    "    for num in nums:\n",
    "        if num < -thresh or num > thresh:\n",
    "            return True\n",
    "    return False"
   ]
  },
  {
   "cell_type": "code",
   "execution_count": 18,
   "id": "a6577157-1788-4b97-a709-21b36514d15f",
   "metadata": {},
   "outputs": [
    {
     "data": {
      "text/plain": [
       "[4, 5, -10, 15, -16, -18, 15, -5]"
      ]
     },
     "execution_count": 18,
     "metadata": {},
     "output_type": "execute_result"
    }
   ],
   "source": [
    "random.seed(250)\n",
    "nums = [random.randint(-20, 20) for _ in range(8)]\n",
    "nums"
   ]
  },
  {
   "cell_type": "code",
   "execution_count": 22,
   "id": "b2d7635b-aed8-4612-acad-412252ad2e3b",
   "metadata": {},
   "outputs": [
    {
     "data": {
      "text/plain": [
       "False"
      ]
     },
     "execution_count": 22,
     "metadata": {},
     "output_type": "execute_result"
    }
   ],
   "source": [
    "has_outliers_loop(nums, 18)"
   ]
  },
  {
   "cell_type": "code",
   "execution_count": 48,
   "id": "8b6b45f7-5f76-4f2e-b7f5-9011936ffe65",
   "metadata": {},
   "outputs": [],
   "source": [
    "# Solution 2\n",
    "def has_outlier_compr(nums, thresh):\n",
    "    return any([num > thresh or num < -thresh for num in nums])"
   ]
  },
  {
   "cell_type": "code",
   "execution_count": 52,
   "id": "95eaecdb-c9a9-4344-9bac-d1217084846e",
   "metadata": {},
   "outputs": [
    {
     "data": {
      "text/plain": [
       "True"
      ]
     },
     "execution_count": 52,
     "metadata": {},
     "output_type": "execute_result"
    }
   ],
   "source": [
    "has_outlier_compr(nums, 17)"
   ]
  },
  {
   "cell_type": "code",
   "execution_count": 82,
   "id": "eb2b5dfc-7857-4a51-ac93-8c943cf7093d",
   "metadata": {},
   "outputs": [],
   "source": [
    "# Solution 3\n",
    "def has_outlier_recur(nums, thresh):\n",
    "    if len(nums) == 0:\n",
    "        return False\n",
    "    elif nums[0] > thresh or nums[0] < -thresh:\n",
    "        return True\n",
    "    else:\n",
    "        return has_outlier_recur(nums[1:], thresh)"
   ]
  },
  {
   "cell_type": "code",
   "execution_count": 92,
   "id": "a3060d92-2e08-47e3-892a-666a8f56d9dc",
   "metadata": {},
   "outputs": [
    {
     "data": {
      "text/plain": [
       "True"
      ]
     },
     "execution_count": 92,
     "metadata": {},
     "output_type": "execute_result"
    }
   ],
   "source": [
    "has_outlier_recur(nums, 17)"
   ]
  },
  {
   "cell_type": "code",
   "execution_count": 100,
   "id": "2ab63c88-13d6-44b1-81f6-528400b5cd36",
   "metadata": {},
   "outputs": [],
   "source": [
    "# Solution 4\n",
    "def arr_has_outliers(nums, thresh):\n",
    "    '''Assume nums is an array'''\n",
    "    return np.any((nums < -thresh) | (nums > thresh))"
   ]
  },
  {
   "cell_type": "code",
   "execution_count": 102,
   "id": "afb560fa-fbf8-4ea0-83f4-55eceba97c1d",
   "metadata": {},
   "outputs": [
    {
     "data": {
      "text/plain": [
       "False"
      ]
     },
     "execution_count": 102,
     "metadata": {},
     "output_type": "execute_result"
    }
   ],
   "source": [
    "arr = np.array(nums)\n",
    "arr_has_outliers(arr, 18)"
   ]
  },
  {
   "cell_type": "code",
   "execution_count": 104,
   "id": "845f90f7-d01f-4dc5-b845-981c96e6b4f1",
   "metadata": {},
   "outputs": [],
   "source": [
    "class Bank:\n",
    "\n",
    "    def __init__(self):\n",
    "        self.register = pd.DataFrame(columns = ['Date', 'Transact', 'Amt', 'Balance'])"
   ]
  },
  {
   "cell_type": "code",
   "execution_count": 106,
   "id": "efe7b46c-1847-473e-b002-6749c1118a98",
   "metadata": {},
   "outputs": [
    {
     "data": {
      "text/html": [
       "<div>\n",
       "<style scoped>\n",
       "    .dataframe tbody tr th:only-of-type {\n",
       "        vertical-align: middle;\n",
       "    }\n",
       "\n",
       "    .dataframe tbody tr th {\n",
       "        vertical-align: top;\n",
       "    }\n",
       "\n",
       "    .dataframe thead th {\n",
       "        text-align: right;\n",
       "    }\n",
       "</style>\n",
       "<table border=\"1\" class=\"dataframe\">\n",
       "  <thead>\n",
       "    <tr style=\"text-align: right;\">\n",
       "      <th></th>\n",
       "      <th>Date</th>\n",
       "      <th>Transact</th>\n",
       "      <th>Amt</th>\n",
       "      <th>Balance</th>\n",
       "    </tr>\n",
       "  </thead>\n",
       "  <tbody>\n",
       "  </tbody>\n",
       "</table>\n",
       "</div>"
      ],
      "text/plain": [
       "Empty DataFrame\n",
       "Columns: [Date, Transact, Amt, Balance]\n",
       "Index: []"
      ]
     },
     "execution_count": 106,
     "metadata": {},
     "output_type": "execute_result"
    }
   ],
   "source": [
    "accnt = Bank()\n",
    "accnt.register"
   ]
  },
  {
   "cell_type": "markdown",
   "id": "91fdb732-81b3-4d94-95b0-d90330295921",
   "metadata": {},
   "source": [
    "Add methods:\n",
    "* `.balance()` return the current balance or return 0 if no transactions.\n",
    "* `.deposit(date, amt)`: record a deposit by adding a row to `register` and updating the balance.\n",
    "* `.withdraw(date, amt)`: record a withdrawal, updating the balance. If `amt` > balance, withdraw the balance and print an error message. "
   ]
  },
  {
   "cell_type": "code",
   "execution_count": 178,
   "id": "4974a809-9d69-4e8d-ba0b-6e46b1107026",
   "metadata": {},
   "outputs": [],
   "source": [
    "class Bank(Bank):\n",
    "\n",
    "    def balance(self):\n",
    "        nentries = len(self.register)\n",
    "        if nentries == 0:\n",
    "            return 0\n",
    "        else:\n",
    "            return self.register.loc[nentries].Balance\n",
    "\n",
    "    def deposit(self, date, amt):\n",
    "        df = self.register\n",
    "        nentries = len(df)\n",
    "        curr_balance = self.balance()\n",
    "        df.loc[nentries + 1] = [date, 'Deposite', amt, curr_balance + amt]\n",
    "\n",
    "    def withdraw(self, date, amt):\n",
    "        df = self.register\n",
    "        nentries = len(df)\n",
    "        curr_balance = self.balance()\n",
    "        if curr_balance > amt:\n",
    "            df.loc[nentries + 1] = [date, 'Withdrawal', amt, curr_balance - amt]\n",
    "        else:\n",
    "            print('ERROR: Amount greater than account balance')\n",
    "            df.loc[nentries + 1] = [date, 'Withdrawal', curr_balance, 0]"
   ]
  },
  {
   "cell_type": "code",
   "execution_count": 180,
   "id": "2b77eaeb-e570-41df-a4d0-7fff2e22dbe9",
   "metadata": {},
   "outputs": [],
   "source": [
    "accnt = Bank()\n",
    "accnt.deposit('12-09-24', 150)"
   ]
  },
  {
   "cell_type": "code",
   "execution_count": 182,
   "id": "fe54200a-3fa8-4e93-a6be-d58c058f95ac",
   "metadata": {},
   "outputs": [
    {
     "data": {
      "text/html": [
       "<div>\n",
       "<style scoped>\n",
       "    .dataframe tbody tr th:only-of-type {\n",
       "        vertical-align: middle;\n",
       "    }\n",
       "\n",
       "    .dataframe tbody tr th {\n",
       "        vertical-align: top;\n",
       "    }\n",
       "\n",
       "    .dataframe thead th {\n",
       "        text-align: right;\n",
       "    }\n",
       "</style>\n",
       "<table border=\"1\" class=\"dataframe\">\n",
       "  <thead>\n",
       "    <tr style=\"text-align: right;\">\n",
       "      <th></th>\n",
       "      <th>Date</th>\n",
       "      <th>Transact</th>\n",
       "      <th>Amt</th>\n",
       "      <th>Balance</th>\n",
       "    </tr>\n",
       "  </thead>\n",
       "  <tbody>\n",
       "    <tr>\n",
       "      <th>1</th>\n",
       "      <td>12-09-24</td>\n",
       "      <td>Deposite</td>\n",
       "      <td>150</td>\n",
       "      <td>150</td>\n",
       "    </tr>\n",
       "  </tbody>\n",
       "</table>\n",
       "</div>"
      ],
      "text/plain": [
       "       Date  Transact  Amt  Balance\n",
       "1  12-09-24  Deposite  150      150"
      ]
     },
     "execution_count": 182,
     "metadata": {},
     "output_type": "execute_result"
    }
   ],
   "source": [
    "accnt.register"
   ]
  },
  {
   "cell_type": "code",
   "execution_count": 184,
   "id": "fefa8d3a-0178-4f53-8860-6ee16a322a8e",
   "metadata": {},
   "outputs": [],
   "source": [
    "accnt.deposit('12-10-24', 80)"
   ]
  },
  {
   "cell_type": "code",
   "execution_count": 186,
   "id": "9ac7e20f-d9bc-4d24-8302-296e3cae99e2",
   "metadata": {},
   "outputs": [
    {
     "data": {
      "text/html": [
       "<div>\n",
       "<style scoped>\n",
       "    .dataframe tbody tr th:only-of-type {\n",
       "        vertical-align: middle;\n",
       "    }\n",
       "\n",
       "    .dataframe tbody tr th {\n",
       "        vertical-align: top;\n",
       "    }\n",
       "\n",
       "    .dataframe thead th {\n",
       "        text-align: right;\n",
       "    }\n",
       "</style>\n",
       "<table border=\"1\" class=\"dataframe\">\n",
       "  <thead>\n",
       "    <tr style=\"text-align: right;\">\n",
       "      <th></th>\n",
       "      <th>Date</th>\n",
       "      <th>Transact</th>\n",
       "      <th>Amt</th>\n",
       "      <th>Balance</th>\n",
       "    </tr>\n",
       "  </thead>\n",
       "  <tbody>\n",
       "    <tr>\n",
       "      <th>1</th>\n",
       "      <td>12-09-24</td>\n",
       "      <td>Deposite</td>\n",
       "      <td>150</td>\n",
       "      <td>150</td>\n",
       "    </tr>\n",
       "    <tr>\n",
       "      <th>2</th>\n",
       "      <td>12-10-24</td>\n",
       "      <td>Deposite</td>\n",
       "      <td>80</td>\n",
       "      <td>230</td>\n",
       "    </tr>\n",
       "  </tbody>\n",
       "</table>\n",
       "</div>"
      ],
      "text/plain": [
       "       Date  Transact  Amt  Balance\n",
       "1  12-09-24  Deposite  150      150\n",
       "2  12-10-24  Deposite   80      230"
      ]
     },
     "execution_count": 186,
     "metadata": {},
     "output_type": "execute_result"
    }
   ],
   "source": [
    "accnt.register"
   ]
  },
  {
   "cell_type": "code",
   "execution_count": 188,
   "id": "5caa111c-9489-499f-b1a3-d57b7aa5fff3",
   "metadata": {},
   "outputs": [],
   "source": [
    "accnt.withdraw('12-11-24', 100)"
   ]
  },
  {
   "cell_type": "code",
   "execution_count": 190,
   "id": "3a12fbe4-1990-4458-b251-966e63f3fd52",
   "metadata": {},
   "outputs": [
    {
     "data": {
      "text/html": [
       "<div>\n",
       "<style scoped>\n",
       "    .dataframe tbody tr th:only-of-type {\n",
       "        vertical-align: middle;\n",
       "    }\n",
       "\n",
       "    .dataframe tbody tr th {\n",
       "        vertical-align: top;\n",
       "    }\n",
       "\n",
       "    .dataframe thead th {\n",
       "        text-align: right;\n",
       "    }\n",
       "</style>\n",
       "<table border=\"1\" class=\"dataframe\">\n",
       "  <thead>\n",
       "    <tr style=\"text-align: right;\">\n",
       "      <th></th>\n",
       "      <th>Date</th>\n",
       "      <th>Transact</th>\n",
       "      <th>Amt</th>\n",
       "      <th>Balance</th>\n",
       "    </tr>\n",
       "  </thead>\n",
       "  <tbody>\n",
       "    <tr>\n",
       "      <th>1</th>\n",
       "      <td>12-09-24</td>\n",
       "      <td>Deposite</td>\n",
       "      <td>150</td>\n",
       "      <td>150</td>\n",
       "    </tr>\n",
       "    <tr>\n",
       "      <th>2</th>\n",
       "      <td>12-10-24</td>\n",
       "      <td>Deposite</td>\n",
       "      <td>80</td>\n",
       "      <td>230</td>\n",
       "    </tr>\n",
       "    <tr>\n",
       "      <th>3</th>\n",
       "      <td>12-11-24</td>\n",
       "      <td>Withdrawal</td>\n",
       "      <td>100</td>\n",
       "      <td>130</td>\n",
       "    </tr>\n",
       "  </tbody>\n",
       "</table>\n",
       "</div>"
      ],
      "text/plain": [
       "       Date    Transact  Amt  Balance\n",
       "1  12-09-24    Deposite  150      150\n",
       "2  12-10-24    Deposite   80      230\n",
       "3  12-11-24  Withdrawal  100      130"
      ]
     },
     "execution_count": 190,
     "metadata": {},
     "output_type": "execute_result"
    }
   ],
   "source": [
    "accnt.register"
   ]
  },
  {
   "cell_type": "code",
   "execution_count": 192,
   "id": "9520f556-eb0c-4f13-9109-6c7f84373ee0",
   "metadata": {},
   "outputs": [
    {
     "name": "stdout",
     "output_type": "stream",
     "text": [
      "ERROR: Amount greater than account balance\n"
     ]
    }
   ],
   "source": [
    "accnt.withdraw('12-12-24', 200)"
   ]
  },
  {
   "cell_type": "code",
   "execution_count": 194,
   "id": "be2183c4-7ae9-4021-8457-f7c3dea774aa",
   "metadata": {},
   "outputs": [
    {
     "data": {
      "text/html": [
       "<div>\n",
       "<style scoped>\n",
       "    .dataframe tbody tr th:only-of-type {\n",
       "        vertical-align: middle;\n",
       "    }\n",
       "\n",
       "    .dataframe tbody tr th {\n",
       "        vertical-align: top;\n",
       "    }\n",
       "\n",
       "    .dataframe thead th {\n",
       "        text-align: right;\n",
       "    }\n",
       "</style>\n",
       "<table border=\"1\" class=\"dataframe\">\n",
       "  <thead>\n",
       "    <tr style=\"text-align: right;\">\n",
       "      <th></th>\n",
       "      <th>Date</th>\n",
       "      <th>Transact</th>\n",
       "      <th>Amt</th>\n",
       "      <th>Balance</th>\n",
       "    </tr>\n",
       "  </thead>\n",
       "  <tbody>\n",
       "    <tr>\n",
       "      <th>1</th>\n",
       "      <td>12-09-24</td>\n",
       "      <td>Deposite</td>\n",
       "      <td>150</td>\n",
       "      <td>150</td>\n",
       "    </tr>\n",
       "    <tr>\n",
       "      <th>2</th>\n",
       "      <td>12-10-24</td>\n",
       "      <td>Deposite</td>\n",
       "      <td>80</td>\n",
       "      <td>230</td>\n",
       "    </tr>\n",
       "    <tr>\n",
       "      <th>3</th>\n",
       "      <td>12-11-24</td>\n",
       "      <td>Withdrawal</td>\n",
       "      <td>100</td>\n",
       "      <td>130</td>\n",
       "    </tr>\n",
       "    <tr>\n",
       "      <th>4</th>\n",
       "      <td>12-12-24</td>\n",
       "      <td>Withdrawal</td>\n",
       "      <td>130</td>\n",
       "      <td>0</td>\n",
       "    </tr>\n",
       "  </tbody>\n",
       "</table>\n",
       "</div>"
      ],
      "text/plain": [
       "       Date    Transact  Amt  Balance\n",
       "1  12-09-24    Deposite  150      150\n",
       "2  12-10-24    Deposite   80      230\n",
       "3  12-11-24  Withdrawal  100      130\n",
       "4  12-12-24  Withdrawal  130        0"
      ]
     },
     "execution_count": 194,
     "metadata": {},
     "output_type": "execute_result"
    }
   ],
   "source": [
    "accnt.register"
   ]
  },
  {
   "cell_type": "code",
   "execution_count": null,
   "id": "2ae530fe-08a6-4cb0-bc53-4b8b6b5b455b",
   "metadata": {},
   "outputs": [],
   "source": []
  }
 ],
 "metadata": {
  "kernelspec": {
   "display_name": "Python 3 (ipykernel)",
   "language": "python",
   "name": "python3"
  },
  "language_info": {
   "codemirror_mode": {
    "name": "ipython",
    "version": 3
   },
   "file_extension": ".py",
   "mimetype": "text/x-python",
   "name": "python",
   "nbconvert_exporter": "python",
   "pygments_lexer": "ipython3",
   "version": "3.12.4"
  }
 },
 "nbformat": 4,
 "nbformat_minor": 5
}
