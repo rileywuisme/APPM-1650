{
 "cells": [
  {
   "cell_type": "markdown",
   "id": "55e0f337-16fd-4ef5-b285-835479f50f9a",
   "metadata": {},
   "source": [
    "### Lecture 10b"
   ]
  },
  {
   "cell_type": "markdown",
   "id": "23316f01-8061-48aa-840a-275350794e4a",
   "metadata": {},
   "source": [
    "code tracing"
   ]
  },
  {
   "cell_type": "code",
   "execution_count": 3,
   "id": "09528809-fa55-4397-8878-1efc6d080df2",
   "metadata": {},
   "outputs": [
    {
     "name": "stdout",
     "output_type": "stream",
     "text": [
      "1 3 5 "
     ]
    },
    {
     "data": {
      "text/plain": [
       "9"
      ]
     },
     "execution_count": 3,
     "metadata": {},
     "output_type": "execute_result"
    }
   ],
   "source": [
    "x = 1\n",
    "y = 0\n",
    "while y <9:\n",
    "    print(x, end=' ')\n",
    "    y+=x\n",
    "    x+=2\n",
    "y"
   ]
  },
  {
   "cell_type": "code",
   "execution_count": 5,
   "id": "4cb84c0b-9156-4757-951f-4ac7d41cd9fc",
   "metadata": {},
   "outputs": [
    {
     "data": {
      "text/plain": [
       "{'Alice': 5, 'Bob': 8, 'Carol': 12}"
      ]
     },
     "execution_count": 5,
     "metadata": {},
     "output_type": "execute_result"
    }
   ],
   "source": [
    "names = ['Alice', 'Bob', 'Carol']\n",
    "ages = [5, 8, 12]\n",
    "data = {}\n",
    "\n",
    "for x, y in zip(names, ages):\n",
    "    data[x]=y\n",
    "\n",
    "data"
   ]
  },
  {
   "cell_type": "code",
   "execution_count": 9,
   "id": "112aea13-aabd-4667-b0a2-c398e7992fb7",
   "metadata": {},
   "outputs": [
    {
     "data": {
      "text/plain": [
       "{'Alice': 5, 'Bob': 8, 'Carol': 12}"
      ]
     },
     "execution_count": 9,
     "metadata": {},
     "output_type": "execute_result"
    }
   ],
   "source": [
    "{names[n]: ages[n] for n in range(3)}"
   ]
  },
  {
   "cell_type": "code",
   "execution_count": 11,
   "id": "5115510a-7a9d-4e36-99bd-43fdcea1bb5f",
   "metadata": {},
   "outputs": [
    {
     "data": {
      "text/plain": [
       "{'Alice': 5, 'Bob': 8, 'Carol': 12}"
      ]
     },
     "execution_count": 11,
     "metadata": {},
     "output_type": "execute_result"
    }
   ],
   "source": [
    "{name: age for name, age in zip(names, ages)}"
   ]
  },
  {
   "cell_type": "markdown",
   "id": "68a55343-f2cd-48a5-8de0-d6c9aa5ce88b",
   "metadata": {},
   "source": [
    "```\n",
    "1   4   9   16\n",
    "4   9   16  25\n",
    "9   16  25  49\n",
    "16  25  36  49\n",
    "```"
   ]
  },
  {
   "cell_type": "code",
   "execution_count": 43,
   "id": "6202268f-04ac-429a-9c7b-6c53011a8a17",
   "metadata": {},
   "outputs": [
    {
     "name": "stdout",
     "output_type": "stream",
     "text": [
      "  1   4   9  16 \n",
      "  4   9  16  25 \n",
      "  9  16  25  36 \n",
      " 16  25  36  49 \n"
     ]
    }
   ],
   "source": [
    "for row in range(1, 5):\n",
    "    for col in range(row, row+4):\n",
    "        print(f'{col ** 2:3}', end=' ')\n",
    "    print()"
   ]
  },
  {
   "cell_type": "markdown",
   "id": "707654f3-2981-4e22-b8cd-b2f8a2434de3",
   "metadata": {},
   "source": [
    "### Double Factorial"
   ]
  },
  {
   "cell_type": "code",
   "execution_count": 56,
   "id": "112b9dde-6332-4ccc-aeaf-9e7caca01877",
   "metadata": {},
   "outputs": [],
   "source": [
    "# non-recursive function\n",
    "def double_fact(n):\n",
    "    prod = 1\n",
    "    curr = n\n",
    "    \n",
    "    while curr > 1:\n",
    "        prod *= curr\n",
    "        curr -= 2\n",
    "\n",
    "    return prod"
   ]
  },
  {
   "cell_type": "code",
   "execution_count": 60,
   "id": "1b9f85d7-a250-4192-9f07-ce5ab108a3c3",
   "metadata": {},
   "outputs": [
    {
     "data": {
      "text/plain": [
       "48"
      ]
     },
     "execution_count": 60,
     "metadata": {},
     "output_type": "execute_result"
    }
   ],
   "source": [
    "double_fact(6)"
   ]
  },
  {
   "cell_type": "code",
   "execution_count": 80,
   "id": "5213bc9b-26b4-4252-beae-e6067e5990e9",
   "metadata": {},
   "outputs": [],
   "source": [
    "# recursive version\n",
    "def double_fact(n):\n",
    "    if n <= 2:\n",
    "        return n\n",
    "        \n",
    "    return double_fact(n-2) * n"
   ]
  },
  {
   "cell_type": "code",
   "execution_count": 82,
   "id": "03541a52-154d-41db-98cb-1cbe0d9864d1",
   "metadata": {},
   "outputs": [
    {
     "data": {
      "text/plain": [
       "48"
      ]
     },
     "execution_count": 82,
     "metadata": {},
     "output_type": "execute_result"
    }
   ],
   "source": [
    "double_fact(6)"
   ]
  },
  {
   "cell_type": "markdown",
   "id": "09ef938c-2e4c-40e7-8459-226c29e1a6de",
   "metadata": {},
   "source": [
    "### Benford's Law"
   ]
  },
  {
   "cell_type": "code",
   "execution_count": 105,
   "id": "6bf5dcd6-103a-4f57-a1a0-a5d20073e2b1",
   "metadata": {},
   "outputs": [],
   "source": [
    "with open('counties-2018-tab.txt') as fp:\n",
    "    data = fp.read()\n",
    "\n",
    "pop = data.split('\\t')\n",
    "first_num = [int(p[0]) for p in pop]"
   ]
  },
  {
   "cell_type": "code",
   "execution_count": 107,
   "id": "018bbd54-01d7-48e8-b913-6d351fa876e3",
   "metadata": {},
   "outputs": [
    {
     "data": {
      "text/plain": [
       "{1: 0, 2: 0, 3: 0, 4: 0, 5: 0, 6: 0, 7: 0, 8: 0, 9: 0}"
      ]
     },
     "execution_count": 107,
     "metadata": {},
     "output_type": "execute_result"
    }
   ],
   "source": [
    "freq = {d: 0 for d in range(1, 10)} #dictionary to count the frequencies\n",
    "freq"
   ]
  },
  {
   "cell_type": "code",
   "execution_count": 109,
   "id": "cd2c1300-6ea5-4c2e-a8c1-c85ccc8826f3",
   "metadata": {},
   "outputs": [],
   "source": [
    "for d in first_num:\n",
    "    freq[d] += 1"
   ]
  },
  {
   "cell_type": "code",
   "execution_count": 111,
   "id": "58497710-66bb-46e6-9c1b-41c2b3027583",
   "metadata": {},
   "outputs": [
    {
     "data": {
      "text/plain": [
       "{1: 974, 2: 594, 3: 385, 4: 304, 5: 236, 6: 214, 7: 169, 8: 174, 9: 143}"
      ]
     },
     "execution_count": 111,
     "metadata": {},
     "output_type": "execute_result"
    }
   ],
   "source": [
    "freq"
   ]
  },
  {
   "cell_type": "code",
   "execution_count": 117,
   "id": "9705a006-281d-4dcc-85f9-fa38364c359e",
   "metadata": {},
   "outputs": [],
   "source": [
    "import matplotlib.pyplot as plt"
   ]
  },
  {
   "cell_type": "code",
   "execution_count": 121,
   "id": "b135d73c-3a29-4a86-ace7-77896e540c89",
   "metadata": {},
   "outputs": [
    {
     "data": {
      "image/png": "[encoded data removed]",
      "text/plain": [
       "<Figure size 640x480 with 1 Axes>"
      ]
     },
     "metadata": {},
     "output_type": "display_data"
    }
   ],
   "source": [
    "plt.bar(range(1, 10), freq.values())\n",
    "plt.show()"
   ]
  },
  {
   "cell_type": "code",
   "execution_count": null,
   "id": "e3845201-ba91-4c2c-a810-2de29af44f4b",
   "metadata": {},
   "outputs": [],
   "source": []
  }
 ],
 "metadata": {
  "kernelspec": {
   "display_name": "Python 3 (ipykernel)",
   "language": "python",
   "name": "python3"
  },
  "language_info": {
   "codemirror_mode": {
    "name": "ipython",
    "version": 3
   },
   "file_extension": ".py",
   "mimetype": "text/x-python",
   "name": "python",
   "nbconvert_exporter": "python",
   "pygments_lexer": "ipython3",
   "version": "3.12.4"
  }
 },
 "nbformat": 4,
 "nbformat_minor": 5
}
