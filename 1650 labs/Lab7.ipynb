{
 "cells": [
  {
   "cell_type": "markdown",
   "metadata": {},
   "source": [
    "# Lab 7"
   ]
  },
  {
   "cell_type": "markdown",
   "metadata": {
    "tags": []
   },
   "source": [
    "### Enter the Lab7 password as a string"
   ]
  },
  {
   "cell_type": "code",
   "execution_count": 3,
   "metadata": {},
   "outputs": [],
   "source": [
    "password = 'flatiron'"
   ]
  },
  {
   "cell_type": "markdown",
   "metadata": {},
   "source": [
    "For this assignment, **upload Lab7.py** to Gradescope for autograding.\n",
    "\n",
    "___"
   ]
  },
  {
   "cell_type": "code",
   "execution_count": 6,
   "metadata": {},
   "outputs": [],
   "source": [
    "import random"
   ]
  },
  {
   "cell_type": "markdown",
   "metadata": {},
   "source": [
    "### Alphabet\n",
    "\n",
    "\n",
    "**Write code to create a dictionary** called **`alphadict`** that matches each letter of the alphabet with its position. You may use the string \n",
    "`'ABCDEFGHIJKLMNOPQRSTUVWXYZ'`.\n",
    "\n",
    "```\n",
    "{'A': 1, 'B': 2, 'C': 3, ..., 'Z': 26}\n",
    "```"
   ]
  },
  {
   "cell_type": "code",
   "execution_count": 9,
   "metadata": {},
   "outputs": [],
   "source": [
    "alphabet = 'ABCDEFGHIJKLMNOPQRSTUVWXYZ'"
   ]
  },
  {
   "cell_type": "code",
   "execution_count": 11,
   "metadata": {},
   "outputs": [],
   "source": [
    "alphadict = { alphabet[n]: n+1 for n in range(len(alphabet))}"
   ]
  },
  {
   "cell_type": "markdown",
   "metadata": {},
   "source": [
    "### Scrabble\n",
    "<img src=\"http://www.coloradomath.org/python/zen.jpg\" width=\"135\" height=\"58\" />\n",
    "\n",
    "In the game of Scrabble, each letter of the alphabet is given a different point value based on the frequency of the letter in the English language. For example the word ZEN is worth 10+1+1 = 12 points.\n",
    "\n",
    "The dictionary called **`scrabble_pts`** listed below contains the point values for all the letters that have point values exceeding one. It is missing the most commonly used letters (A, E, etc.) which are worth 1 point each.\n",
    "\n",
    "```\n",
    "scrabble_pts = {'B': 3, 'C': 3, 'D': 2, 'F': 4, 'G': 2, 'H': 4, 'J': 8, 'K': 5, 'M': 3, 'P': 3, 'Q': 10, 'V': 4, 'W': 4, 'X': 8, 'Y': 4, 'Z': 10}\n",
    "```\n",
    "\n",
    "* Write code to **loop through `alphabet`**, identify the missing letters, and add them to the dictionary. (Do not manually add each letter to the dictionary.)\n",
    "\n",
    "* Write a function **`scrabble(word, pt_values)`** that returns the total point value for a given word using the `pt_values` dictionary. You may assume that `word` is in string format and contains only letters but not necessarily in upper case.\n",
    "\n",
    "  Examples:  \n",
    "  `scrabble('zen', scrabble_pts)` returns 12.  \n",
    "  `scrabble('CUBoulder', scrabble_pts)` returns 14."
   ]
  },
  {
   "cell_type": "code",
   "execution_count": 14,
   "metadata": {},
   "outputs": [],
   "source": [
    "scrabble_pts = {'B': 3, 'C': 3, 'D': 2, 'F': 4, 'G': 2, 'H': 4, 'J': 8, 'K': 5, 'M': 3, 'P': 3, 'Q': 10, 'V': 4, 'W': 4, 'X': 8, 'Y': 4, 'Z': 10}"
   ]
  },
  {
   "cell_type": "code",
   "execution_count": 16,
   "metadata": {},
   "outputs": [],
   "source": [
    "for n in range(len(alphabet)):\n",
    "    if alphabet[n] not in list(scrabble_pts):\n",
    "        scrabble_pts[alphabet[n]] = 1\n",
    "        \n",
    "def scrabble(word, pt_values):\n",
    "    words = word.upper()\n",
    "    letters = []\n",
    "    for n in words:\n",
    "        letters.append(pt_values[n])\n",
    "    return sum(letters)"
   ]
  },
  {
   "cell_type": "code",
   "execution_count": 18,
   "metadata": {},
   "outputs": [
    {
     "data": {
      "text/plain": [
       "12"
      ]
     },
     "execution_count": 18,
     "metadata": {},
     "output_type": "execute_result"
    }
   ],
   "source": [
    "scrabble('zen', scrabble_pts)"
   ]
  },
  {
   "cell_type": "code",
   "execution_count": 20,
   "metadata": {},
   "outputs": [
    {
     "data": {
      "text/plain": [
       "14"
      ]
     },
     "execution_count": 20,
     "metadata": {},
     "output_type": "execute_result"
    }
   ],
   "source": [
    "scrabble('CUBoulder', scrabble_pts)"
   ]
  },
  {
   "cell_type": "markdown",
   "metadata": {},
   "source": [
    "### Roll 6\n",
    "Use a **`while` loop** to write a function **`roll_6()`** that simulates the roll of a die, printing the results in a row until a 6 appears. It returns the number of rolls.\n",
    "\n",
    "Example:  \n",
    "`roll_6()` might display `4 6` and return `2`.<br>\n",
    "`roll_6()` might display `2 2 3 5 5 1 4 2 6` and return `9`."
   ]
  },
  {
   "cell_type": "code",
   "execution_count": 23,
   "metadata": {},
   "outputs": [],
   "source": [
    "def roll_6():\n",
    "    nrolls = 0\n",
    "    roll = random.randint(1, 6)\n",
    "    while roll != 6:\n",
    "        roll = random.randint(1, 6)\n",
    "        nrolls += 1\n",
    "        print(roll)\n",
    "\n",
    "    return nrolls"
   ]
  },
  {
   "cell_type": "code",
   "execution_count": 25,
   "metadata": {},
   "outputs": [
    {
     "name": "stdout",
     "output_type": "stream",
     "text": [
      "4\n",
      "6\n"
     ]
    },
    {
     "data": {
      "text/plain": [
       "2"
      ]
     },
     "execution_count": 25,
     "metadata": {},
     "output_type": "execute_result"
    }
   ],
   "source": [
    "roll_6()"
   ]
  },
  {
   "cell_type": "code",
   "execution_count": 27,
   "metadata": {},
   "outputs": [
    {
     "name": "stdout",
     "output_type": "stream",
     "text": [
      "1\n",
      "3\n",
      "5\n",
      "6\n"
     ]
    },
    {
     "data": {
      "text/plain": [
       "4"
      ]
     },
     "execution_count": 27,
     "metadata": {},
     "output_type": "execute_result"
    }
   ],
   "source": [
    "roll_6()"
   ]
  },
  {
   "cell_type": "markdown",
   "metadata": {},
   "source": [
    "### Roll a Double\n",
    "Use a **`while` loop** to write a function **`roll_double()`** that simulates the roll of a die, printing the results in a row until the same number appears twice in a row. It returns the number of rolls.\n",
    "\n",
    "Example:  \n",
    "`roll_double()` might display `1 3 6 4 1 3 3 ` and return `7`."
   ]
  },
  {
   "cell_type": "code",
   "execution_count": 30,
   "metadata": {},
   "outputs": [],
   "source": [
    "def roll_double():\n",
    "    nrolls = 0\n",
    "    roll = 0\n",
    "    current = 1\n",
    "    previous = 2\n",
    "    while previous != current:\n",
    "        roll = random.randint(1, 6)\n",
    "        print(roll, end=' ')\n",
    "        previous = current\n",
    "        current = roll\n",
    "        nrolls += 1\n",
    "\n",
    "    return nrolls"
   ]
  },
  {
   "cell_type": "code",
   "execution_count": 32,
   "metadata": {},
   "outputs": [
    {
     "name": "stdout",
     "output_type": "stream",
     "text": [
      "2 2 "
     ]
    },
    {
     "data": {
      "text/plain": [
       "2"
      ]
     },
     "execution_count": 32,
     "metadata": {},
     "output_type": "execute_result"
    }
   ],
   "source": [
    "roll_double()"
   ]
  },
  {
   "cell_type": "markdown",
   "metadata": {},
   "source": [
    "On average, how many rolls are needed to produce a double? Write a non-printing version called `roll_double2()`, then call the function 1000 times. **Calculate the average number of rolls** and store in the variable **`roll_double_avg`**."
   ]
  },
  {
   "cell_type": "code",
   "execution_count": 35,
   "metadata": {},
   "outputs": [
    {
     "data": {
      "text/plain": [
       "7.124"
      ]
     },
     "execution_count": 35,
     "metadata": {},
     "output_type": "execute_result"
    }
   ],
   "source": [
    "def roll_double2():\n",
    "    nrolls = 0\n",
    "    roll = 0\n",
    "    current = 0\n",
    "    previous = -1\n",
    "    while previous != current:\n",
    "        roll = random.randint(1, 6)\n",
    "        previous = current\n",
    "        current = roll\n",
    "        nrolls += 1\n",
    "\n",
    "    return nrolls\n",
    "\n",
    "roll_double_avg = sum(roll_double2() for n in range(1000) ) / 1000\n",
    "roll_double_avg"
   ]
  },
  {
   "cell_type": "markdown",
   "metadata": {
    "tags": []
   },
   "source": [
    "### Word Length\n",
    "\n",
    "* **Read in the file `'wordlist.txt'`** and form a list of the words.\n",
    "* **Create a dictionary of word length frequencies called `worddict`.** Each key is a word length and its associated value is the number of words of that length. For example, the key-value pairs in `{3: 82, 4: 467}` indicate that there are 82 three-letter words and 467 four-letter words.\n",
    "* Check that the frequencies add up to the total number of words.\n",
    "* Make a bar chart showing the frequencies. \n",
    "\n",
    "<img src=\"http://www.coloradomath.org/python/wordlen-bar.png\" />"
   ]
  },
  {
   "cell_type": "code",
   "execution_count": 53,
   "metadata": {},
   "outputs": [],
   "source": [
    "with open('wordlist.txt') as fp:\n",
    "    data = fp.read()\n",
    "\n",
    "item = [len(data[n]) for n in range(len(data))]\n",
    "worddict = {n: item for n in range(len(item))}"
   ]
  },
  {
   "cell_type": "code",
   "execution_count": 55,
   "metadata": {},
   "outputs": [
    {
     "name": "stderr",
     "output_type": "stream",
     "text": [
      "\n",
      "KeyboardInterrupt\n",
      "\n"
     ]
    }
   ],
   "source": [
    "import matplotlib.pyplot as plt\n",
    "\n",
    "plt.bar(worddict.key(), worddict.value())"
   ]
  },
  {
   "cell_type": "markdown",
   "metadata": {
    "tags": []
   },
   "source": [
    "### Remainder Sum\n",
    "When integer $N=12$ is divided by the numbers $1, 2, \\ldots, 8$, the sum of the remainders is \n",
    "\n",
    "$$ 0+0+0+0+2+0+5+4 = 11. $$\n",
    "\n",
    "Write a function **`remainder_sum(num, max_divisor)`** that returns the sum of the remainders when `num` is divided by the numbers from $1$ to `max_divisor`. Assume that the input values are positive integers.\n",
    "\n",
    "Examples:  \n",
    "`remainder_sum(12, 8)` returns `11`."
   ]
  },
  {
   "cell_type": "code",
   "execution_count": 43,
   "metadata": {},
   "outputs": [],
   "source": [
    "def remainder_sum(num, max_divisor):\n",
    "    remainder = 0\n",
    "    for n in range(1, max_divisor+1):\n",
    "        remainder += num % n\n",
    "\n",
    "    return remainder"
   ]
  },
  {
   "cell_type": "code",
   "execution_count": 45,
   "metadata": {},
   "outputs": [
    {
     "data": {
      "text/plain": [
       "11"
      ]
     },
     "execution_count": 45,
     "metadata": {},
     "output_type": "execute_result"
    }
   ],
   "source": [
    "remainder_sum(12, 8)"
   ]
  },
  {
   "cell_type": "markdown",
   "metadata": {},
   "source": [
    "Let **`remainder_sum_10_4`** equal the smallest positive integer that has a remainder sum of $4$ when divided by the numbers from $1$ to $10$. **Use a `while` loop** to find the integer."
   ]
  },
  {
   "cell_type": "code",
   "execution_count": 48,
   "metadata": {
    "tags": []
   },
   "outputs": [],
   "source": [
    "nums = 1\n",
    "while remainder_sum(nums, 10) != 4:\n",
    "    nums += 1\n",
    "\n",
    "remainder_sum_10_4 = nums"
   ]
  },
  {
   "cell_type": "code",
   "execution_count": 50,
   "metadata": {},
   "outputs": [
    {
     "data": {
      "text/plain": [
       "120"
      ]
     },
     "execution_count": 50,
     "metadata": {},
     "output_type": "execute_result"
    }
   ],
   "source": [
    "remainder_sum_10_4"
   ]
  },
  {
   "cell_type": "markdown",
   "metadata": {},
   "source": [
    "___\n",
    "\n",
    "# Extra Problems\n",
    "\n",
    "Work on these problems after you complete the previous problems."
   ]
  },
  {
   "cell_type": "markdown",
   "metadata": {},
   "source": [
    "A **Caesar cipher** is a simple encryption technique that replaces each letter in the alphabet by another letter *shifted* a fixed number of positions down the alphabet. For example if we shift the alphabet by 3 positions, 'A' would be replaced by 'D', 'B' would be replaced by 'E', 'Z' would be replaced by 'C', etc., as shown below:\n",
    "\n",
    "| | |  \n",
    "|:---|---|  \n",
    "|Alphabet|`ABCDEFGHIJKLMNOPQRSTUVWXYZ`|  \n",
    "|Cipher|`DEFGHIJKLMNOPQRSTUVWXYZABC`|\n",
    "\n",
    "Write a function **`caesar(text, shift)`** that takes an upper case string argument, encodes it using the given shift, and returns the encrypted text string. Punctuation marks and spaces remain unchanged. (*Hint:*  You may wish to use the `ord` and `chr` functions but it's not necessary.)\n",
    "\n",
    "Write another function **`uncaesar(text, shift)`** that takes encoded text and decodes it. (*Hint:* Call the `caesar()` function.)\n",
    "\n",
    "Examples:  \n",
    "`caesar('DONT DRINK AND DERIVE.', 15)` returns  \n",
    "```\n",
    "'SDCI SGXCZ PCS STGXKT.'\n",
    "```\n",
    "\n",
    "`uncaesar('SDCI SGXCZ PCS STGXKT.', 15)` returns  \n",
    "```\n",
    "'DONT DRINK AND DERIVE.'\n",
    "```\n",
    "___\n",
    "\n",
    "The following quotes by famous mathematicians have been encoded using a Caesar cipher. Decode them by printing out all possible shifts. Then visually pick out the correct translation. (You need not write code for this last step, however if you wish, you can match the output for each shift to words in `'wordlist.txt'`, which is an incomplete dictionary.)\n",
    "\n",
    "* Plato: \n",
    "```\n",
    "V UNIR UNEQYL RIRE XABJA N ZNGURZNGVPVNA JUB JNF PNCNOYR BS ERNFBAVAT\n",
    "```\n",
    "* Descartes: \n",
    "```\n",
    "GVIWVTK ELDSVIJ CZBV GVIWVTK DVE RIV MVIP IRIV\n",
    "```\n",
    "* Pascal: \n",
    "```\n",
    "GR GQ LMR ACPRYGL RFYR CTCPWRFGLE GQ SLACPRYGL\n",
    "```\n",
    "* Riemann: \n",
    "```\n",
    "WT CBZM W VOR HVS HVSCFSAG! HVSB W GVCIZR TWBR HVS DFCCTG SOGWZM SBCIUV\n",
    "```\n"
   ]
  },
  {
   "cell_type": "code",
   "execution_count": null,
   "metadata": {},
   "outputs": [],
   "source": []
  }
 ],
 "metadata": {
  "kernelspec": {
   "display_name": "Python 3 (ipykernel)",
   "language": "python",
   "name": "python3"
  },
  "language_info": {
   "codemirror_mode": {
    "name": "ipython",
    "version": 3
   },
   "file_extension": ".py",
   "mimetype": "text/x-python",
   "name": "python",
   "nbconvert_exporter": "python",
   "pygments_lexer": "ipython3",
   "version": "3.12.4"
  }
 },
 "nbformat": 4,
 "nbformat_minor": 4
}
