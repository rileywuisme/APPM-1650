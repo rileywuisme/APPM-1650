{
 "cells": [
  {
   "cell_type": "markdown",
   "id": "df3202f5-de95-4ad4-9672-455720987f0c",
   "metadata": {},
   "source": [
    "Division gives float number. "
   ]
  },
  {
   "cell_type": "markdown",
   "id": "684f451f-621d-403c-8f01-1581b455e874",
   "metadata": {},
   "source": [
    "### Math Functions and operators"
   ]
  },
  {
   "cell_type": "code",
   "execution_count": 5,
   "id": "1e6b32c3-3951-423b-84e5-a89e6bf3e9ce",
   "metadata": {},
   "outputs": [
    {
     "data": {
      "text/plain": [
       "3"
      ]
     },
     "execution_count": 5,
     "metadata": {},
     "output_type": "execute_result"
    }
   ],
   "source": [
    "abs(-3)"
   ]
  },
  {
   "cell_type": "code",
   "execution_count": 6,
   "id": "59c58cb8-588b-4865-886f-a331253cbdd3",
   "metadata": {},
   "outputs": [
    {
     "data": {
      "text/plain": [
       "2"
      ]
     },
     "execution_count": 6,
     "metadata": {},
     "output_type": "execute_result"
    }
   ],
   "source": [
    "round(5/3) #rounds to nearest integer"
   ]
  },
  {
   "cell_type": "code",
   "execution_count": 7,
   "id": "ea52224a-fded-43e3-8ba2-ef9411b9e37b",
   "metadata": {},
   "outputs": [
    {
     "data": {
      "text/plain": [
       "1.67"
      ]
     },
     "execution_count": 7,
     "metadata": {},
     "output_type": "execute_result"
    }
   ],
   "source": [
    "round(5/3, 2) #second argument"
   ]
  },
  {
   "cell_type": "code",
   "execution_count": 8,
   "id": "a47fe994-d83c-4a00-b741-820bc4520891",
   "metadata": {},
   "outputs": [
    {
     "data": {
      "text/plain": [
       "builtin_function_or_method"
      ]
     },
     "execution_count": 8,
     "metadata": {},
     "output_type": "execute_result"
    }
   ],
   "source": [
    "type(round) #what type of function is round"
   ]
  },
  {
   "cell_type": "markdown",
   "id": "a8d9b66d-2a3f-4a5d-ac18-14e5620f2c9d",
   "metadata": {},
   "source": [
    "### Two special operatros\n",
    "// and %"
   ]
  },
  {
   "cell_type": "markdown",
   "id": "81561fd6-1708-45fa-af32-8fc190d8dc52",
   "metadata": {},
   "source": [
    "// divid then round to the nearest integer"
   ]
  },
  {
   "cell_type": "markdown",
   "id": "c7d1fb4b-993c-4c54-8507-f9c68267c23e",
   "metadata": {},
   "source": [
    "% is the modulus "
   ]
  },
  {
   "cell_type": "markdown",
   "id": "24d61214-9e34-4efc-90b2-0ed33aae363f",
   "metadata": {},
   "source": [
    "### Strings"
   ]
  },
  {
   "cell_type": "markdown",
   "id": "42d62334-c35d-4c09-b7b1-7688c359c5a6",
   "metadata": {},
   "source": [
    "single quote works the same as the double quote. "
   ]
  },
  {
   "cell_type": "code",
   "execution_count": 11,
   "id": "d4ef8e51-41fe-4579-824f-70b403406f3a",
   "metadata": {},
   "outputs": [
    {
     "data": {
      "text/plain": [
       "str"
      ]
     },
     "execution_count": 11,
     "metadata": {},
     "output_type": "execute_result"
    }
   ],
   "source": [
    "type('hello')"
   ]
  },
  {
   "cell_type": "code",
   "execution_count": 13,
   "id": "47bcd780-557d-485b-9228-f42cfed21c3e",
   "metadata": {},
   "outputs": [
    {
     "data": {
      "text/plain": [
       "'kangaroo'"
      ]
     },
     "execution_count": 13,
     "metadata": {},
     "output_type": "execute_result"
    }
   ],
   "source": [
    "'kanga' + 'roo' #join two strings together"
   ]
  },
  {
   "cell_type": "code",
   "execution_count": 14,
   "id": "023eba68-be3b-448c-9936-ea0e4ef187af",
   "metadata": {},
   "outputs": [
    {
     "data": {
      "text/plain": [
       "'lollollollollollollollollollol'"
      ]
     },
     "execution_count": 14,
     "metadata": {},
     "output_type": "execute_result"
    }
   ],
   "source": [
    "10 * 'lol' #lol"
   ]
  },
  {
   "cell_type": "markdown",
   "id": "46dca12e-20a0-417c-ba6d-7ba258702a57",
   "metadata": {},
   "source": [
    "3 and '3' is not the same. One is a numerical quantity, the other is a string. "
   ]
  },
  {
   "cell_type": "markdown",
   "id": "aacb9c29-ce36-4668-a8e8-b7b922298582",
   "metadata": {},
   "source": [
    "### Variables and the assignment operator"
   ]
  },
  {
   "cell_type": "code",
   "execution_count": 15,
   "id": "4ade57f0-81cc-4f57-8ea1-ea889a8e2bea",
   "metadata": {},
   "outputs": [],
   "source": [
    "a = 3\n",
    "b = 4 \n",
    "# LET a equal 3. \n",
    "# return a null value"
   ]
  },
  {
   "cell_type": "code",
   "execution_count": 16,
   "id": "e1c0d064-8441-42e9-9a3b-2c9b2b162e97",
   "metadata": {},
   "outputs": [
    {
     "data": {
      "text/plain": [
       "3"
      ]
     },
     "execution_count": 16,
     "metadata": {},
     "output_type": "execute_result"
    }
   ],
   "source": [
    "a"
   ]
  },
  {
   "cell_type": "code",
   "execution_count": 17,
   "id": "0aaf6b75-0b69-43f2-8e5d-ed8dc581064c",
   "metadata": {},
   "outputs": [
    {
     "data": {
      "text/plain": [
       "4"
      ]
     },
     "execution_count": 17,
     "metadata": {},
     "output_type": "execute_result"
    }
   ],
   "source": [
    "b"
   ]
  },
  {
   "cell_type": "code",
   "execution_count": 18,
   "id": "878d0688-2096-4e9e-bc26-d8dece0b3a96",
   "metadata": {},
   "outputs": [
    {
     "data": {
      "text/plain": [
       "81"
      ]
     },
     "execution_count": 18,
     "metadata": {},
     "output_type": "execute_result"
    }
   ],
   "source": [
    "a ** b"
   ]
  },
  {
   "cell_type": "code",
   "execution_count": 19,
   "id": "09d3250d-1666-4e55-bba5-6215aecf6b74",
   "metadata": {},
   "outputs": [],
   "source": [
    "c, d = 9, 10"
   ]
  },
  {
   "cell_type": "markdown",
   "id": "8fbe7df4-f61e-4c29-81e7-69f2d17bb2ff",
   "metadata": {},
   "source": [
    "### Printing"
   ]
  },
  {
   "cell_type": "code",
   "execution_count": 21,
   "id": "0de1f9d3-0258-4e7b-be86-a1bf7af95b4c",
   "metadata": {},
   "outputs": [
    {
     "name": "stdout",
     "output_type": "stream",
     "text": [
      "3 4 9 10\n"
     ]
    }
   ],
   "source": [
    "print (a, b, c, d)"
   ]
  },
  {
   "cell_type": "code",
   "execution_count": 22,
   "id": "d9e736bf-bd15-413b-a9a7-52a9345ccdc0",
   "metadata": {},
   "outputs": [
    {
     "name": "stdout",
     "output_type": "stream",
     "text": [
      "The number is 3\n"
     ]
    }
   ],
   "source": [
    "print ('The number is', a)"
   ]
  },
  {
   "cell_type": "code",
   "execution_count": 24,
   "id": "acee8e75-1c47-4728-a23c-328d25de4385",
   "metadata": {},
   "outputs": [
    {
     "name": "stdout",
     "output_type": "stream",
     "text": [
      "Variable          Type             Data/Info\n",
      "--------------------------------------------\n",
      "NamespaceMagics   MetaHasTraits    <class 'IPython.core.magi<...>mespace.NamespaceMagics'>\n",
      "a                 int              3\n",
      "b                 int              4\n",
      "c                 int              9\n",
      "d                 int              10\n",
      "get_ipython       function         <function get_ipython at 0x1040b6480>\n",
      "json              module           <module 'json' from '/opt<...>on3.12/json/__init__.py'>\n",
      "sys               module           <module 'sys' (built-in)>\n"
     ]
    }
   ],
   "source": [
    "%whos"
   ]
  },
  {
   "cell_type": "code",
   "execution_count": 25,
   "id": "2edf62a7-7b56-4fad-8283-f09d61b7e48a",
   "metadata": {},
   "outputs": [
    {
     "data": {
      "text/plain": [
       "4"
      ]
     },
     "execution_count": 25,
     "metadata": {},
     "output_type": "execute_result"
    }
   ],
   "source": [
    "max (a, b)"
   ]
  },
  {
   "cell_type": "code",
   "execution_count": 26,
   "id": "02f4f48e-f9b1-4062-9a4a-603b899fa8a7",
   "metadata": {},
   "outputs": [
    {
     "data": {
      "text/plain": [
       "9"
      ]
     },
     "execution_count": 26,
     "metadata": {},
     "output_type": "execute_result"
    }
   ],
   "source": [
    "min (c, d)"
   ]
  },
  {
   "cell_type": "code",
   "execution_count": null,
   "id": "936590d4-b6c6-413d-b171-ef1cc671212c",
   "metadata": {},
   "outputs": [],
   "source": []
  }
 ],
 "metadata": {
  "kernelspec": {
   "display_name": "Python 3 (ipykernel)",
   "language": "python",
   "name": "python3"
  },
  "language_info": {
   "codemirror_mode": {
    "name": "ipython",
    "version": 3
   },
   "file_extension": ".py",
   "mimetype": "text/x-python",
   "name": "python",
   "nbconvert_exporter": "python",
   "pygments_lexer": "ipython3",
   "version": "3.12.4"
  }
 },
 "nbformat": 4,
 "nbformat_minor": 5
}
