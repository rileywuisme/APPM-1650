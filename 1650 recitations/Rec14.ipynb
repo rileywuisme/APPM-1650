{
 "cells": [
  {
   "cell_type": "markdown",
   "metadata": {},
   "source": [
    "# Recitation 14"
   ]
  },
  {
   "cell_type": "code",
   "execution_count": 7,
   "metadata": {},
   "outputs": [],
   "source": [
    "import numpy as np"
   ]
  },
  {
   "cell_type": "markdown",
   "metadata": {},
   "source": [
    "For this assignment, **use numpy vectorization for all exercises**. Do not use loops or list comprehensions unless instructed to do so."
   ]
  },
  {
   "cell_type": "markdown",
   "metadata": {},
   "source": [
    "### Useful Numpy Functions\n",
    "\n",
    "* `np.sum(arr)` or `arr.sum()` returns the sum of the elements in `arr`.\n",
    "* `np.prod(arr)` or `arr.prod()` returns the product of the elements in `arr`.\n",
    "  \n",
    "* `np.any(arr)` or `arr.any()` returns `True` if any element in `arr` is `True`.\n",
    "* `np.all(arr)` or `arr.all()` returns `True` if all elements in `arr` are `True`.\n",
    "  \n",
    "* `np.argmin(arr)` or `arr.argmin()` returns the index or indices of the smallest element.\n",
    "* `np.argmax(arr)` or `arr.argmax()` returns the index or indices of the largest element.\n",
    "\n",
    "* `np.repeat(arr, ct)` duplicates each element of the array `ct` times. Example: `np.repeat(np.arange(1, 3), 3)` returns `array([1, 1, 1, 2, 2, 2])`.\n",
    "\n",
    "* `np.where(condition, a, b)` returns `a` if `condition` is `True` and returns `b` otherwise (similar to the one-line `if` statement).\n",
    "* `np.select(conditions, choices, default=0)` is similar to `np.where` except it allows for a list of `conditions` and a corresponding list of `choices`. The function returns the element in `choices` that matches the first condition that is `True`. If all conditions are `False`, the `default` value is returned."
   ]
  },
  {
   "cell_type": "markdown",
   "metadata": {},
   "source": [
    "### Odd Elements\n",
    "Write a function **`is_odd_elts(arr)`** that takes a numpy array (of any shape) of integers and returns a new array of the same shape with True for each odd element and False for each even element.\n",
    "\n",
    "Example: \n",
    "```\n",
    "is_odd_elts(np.array([[2, 5], [-1, 3]]))\n",
    "```\n",
    "returns\n",
    "```\n",
    "array([[False,  True],\n",
    "       [ True,  True]])\n",
    "```"
   ]
  },
  {
   "cell_type": "code",
   "execution_count": 11,
   "metadata": {},
   "outputs": [],
   "source": [
    "def is_odd_elts(arr):\n",
    "    return arr % 2 == 1"
   ]
  },
  {
   "cell_type": "code",
   "execution_count": 12,
   "metadata": {},
   "outputs": [
    {
     "data": {
      "text/plain": [
       "array([[False,  True],\n",
       "       [ True,  True]])"
      ]
     },
     "execution_count": 12,
     "metadata": {},
     "output_type": "execute_result"
    }
   ],
   "source": [
    "is_odd_elts(np.array([[2, 5], [-1, 3]]))"
   ]
  },
  {
   "cell_type": "markdown",
   "metadata": {},
   "source": [
    "Write a function **`odd_elts(arr)`** that takes a numpy array (of any shape) of integers and returns a 1-D array containing only the numbers that are odd.\n",
    "\n",
    "Example: \n",
    "```\n",
    "odd_elts(np.array([[2, 5], [-1, 3]]))\n",
    "```\n",
    "returns\n",
    "```\n",
    "array([ 5, -1,  3])\n",
    "```"
   ]
  },
  {
   "cell_type": "code",
   "execution_count": 14,
   "metadata": {},
   "outputs": [],
   "source": [
    "def odd_elts(arr):\n",
    "    return arr[is_odd_elts(arr)]"
   ]
  },
  {
   "cell_type": "code",
   "execution_count": 15,
   "metadata": {},
   "outputs": [
    {
     "data": {
      "text/plain": [
       "array([ 5, -1,  3])"
      ]
     },
     "execution_count": 15,
     "metadata": {},
     "output_type": "execute_result"
    }
   ],
   "source": [
    "odd_elts(np.array([[2, 5], [-1, 3]]))"
   ]
  },
  {
   "cell_type": "markdown",
   "metadata": {},
   "source": [
    "### Add Index to Array Elements\n",
    "Write a function **`add_index(arr)`** that takes a 1-D array of numbers and returns a new array, adding 1 to the first element of nums, 2 to the second element, 3 to the third element, etc.\n",
    "\n",
    "Example:\n",
    "```\n",
    "add_index(np.array([-3, 10.5, 100]))\n",
    "```\n",
    "returns\n",
    "```\n",
    "array([ -2. ,  12.5, 103. ])\n",
    "```"
   ]
  },
  {
   "cell_type": "code",
   "execution_count": 17,
   "metadata": {},
   "outputs": [],
   "source": [
    "def add_index(arr):\n",
    "    add_num = np.arange(1, arr.size +1)\n",
    "    return arr + add_num"
   ]
  },
  {
   "cell_type": "code",
   "execution_count": 18,
   "metadata": {},
   "outputs": [
    {
     "data": {
      "text/plain": [
       "array([ -2. ,  12.5, 103. ])"
      ]
     },
     "execution_count": 18,
     "metadata": {},
     "output_type": "execute_result"
    }
   ],
   "source": [
    "add_index(np.array([-3, 10.5, 100]))"
   ]
  },
  {
   "cell_type": "markdown",
   "metadata": {},
   "source": [
    "### Remainder Sum\n",
    "When the integer $12$ is divided by the numbers $1, 2, \\ldots, 8$, the sum of the remainders is \n",
    "\n",
    "$$ 0+0+0+0+2+0+5+4 = 11. $$\n",
    "\n",
    "Write a function **`remainder_sum(num, max_divisor)`** that returns the sum of the remainders when `num` is divided by the numbers from $1$ to `max_divisor`. Assume that the input values are positive integers.\n",
    "\n",
    "Example:  \n",
    "`remainder_sum(12, 8)` returns `11`."
   ]
  },
  {
   "cell_type": "code",
   "execution_count": 20,
   "metadata": {},
   "outputs": [],
   "source": [
    "def remainder_sum(num, max_divisor):\n",
    "    divisor = np.arange(1, max_divisor+1)\n",
    "    return np.sum(num%divisor)"
   ]
  },
  {
   "cell_type": "code",
   "execution_count": 21,
   "metadata": {},
   "outputs": [
    {
     "data": {
      "text/plain": [
       "11"
      ]
     },
     "execution_count": 21,
     "metadata": {},
     "output_type": "execute_result"
    }
   ],
   "source": [
    "remainder_sum(12, 8)"
   ]
  },
  {
   "cell_type": "markdown",
   "metadata": {},
   "source": [
    "### Half Pi\n",
    "\n",
    "$$\\frac{\\pi}{2} = \\frac 21\\cdot \\frac 23\\cdot \\frac 43\\cdot \\frac 45\\cdot \\frac 65\\cdot \\frac 67 \\cdots$$\n",
    "\n",
    "Write a function **`half_pi(n)`** that returns the product of the first `n` fractions in this pattern."
   ]
  },
  {
   "cell_type": "code",
   "execution_count": 23,
   "metadata": {},
   "outputs": [],
   "source": [
    "def half_pi(n):\n",
    "    even = np.arange(2, 2 * n + 1, 2)\n",
    "    odd = np.arange(3, 2 * n + 2, 2)\n",
    "    top = np.repeat(even, 2)[:n]\n",
    "    bottom = np.concatenate(([1], np.repeat(odd, 2)))[:n]\n",
    "    return np.prod(top / bottom)"
   ]
  },
  {
   "cell_type": "code",
   "execution_count": 24,
   "metadata": {},
   "outputs": [
    {
     "data": {
      "text/plain": [
       "1.6511967750062986"
      ]
     },
     "execution_count": 24,
     "metadata": {},
     "output_type": "execute_result"
    }
   ],
   "source": [
    "half_pi(9)"
   ]
  },
  {
   "cell_type": "markdown",
   "metadata": {},
   "source": [
    "### Copying an Array with Conditions\n",
    "Write a function **`copy_3s(arr)`** that takes an array of integers and returns a new array copying the numbers that end in 3 or are divisible by 3. All other numbers are replaced with 0. (*Hint:* Recall that the numpy logical operators `&` and `|` are used in place of `and` and `or`.)\n",
    "\n",
    "Example:\n",
    "```\n",
    "copy_3s(np.arange(11, 21))\n",
    "```\n",
    "returns \n",
    "```\n",
    "array([ 0, 12, 13,  0, 15,  0,  0, 18,  0,  0])\n",
    "```"
   ]
  },
  {
   "cell_type": "code",
   "execution_count": 59,
   "metadata": {},
   "outputs": [],
   "source": [
    "def copy_3s(arr):\n",
    "    result = np.where((arr % 10 == 3) | (arr % 3 == 0), arr, 0)\n",
    "    return result"
   ]
  },
  {
   "cell_type": "code",
   "execution_count": 61,
   "metadata": {},
   "outputs": [
    {
     "data": {
      "text/plain": [
       "array([ 0, 12, 13,  0, 15,  0,  0, 18,  0,  0])"
      ]
     },
     "execution_count": 61,
     "metadata": {},
     "output_type": "execute_result"
    }
   ],
   "source": [
    "copy_3s(np.arange(11, 21))"
   ]
  },
  {
   "cell_type": "markdown",
   "metadata": {},
   "source": [
    "### Moo Oink\n",
    "*Moo Oink* is a counting game where players take turns counting starting with $1, 2, \\ldots$. For any number divisible by 3, the player says 'moo' instead of the number. For any number divisible by 4, the player says 'oink'. For any number divisible by 3 and 4, the player says 'moo oink'. \n",
    "\n",
    "Numpy does not allow the mixing of string and numerical data types in an array. For this exercise, **replace the 3 strings with these numerical codes**:\n",
    "\n",
    "|String|Code|  \n",
    "|:--|:--:|  \n",
    "|'moo'|-3|  \n",
    "|'oink'|-4|  \n",
    "|'moo oink'|-12|\n",
    "\n",
    "Write a function **`moo_oink(n)`** that returns an array of the responses counting from 1 to `n`. You may assume that `n` is a positive integer.\n",
    "\n",
    "Example:\n",
    "```\n",
    "moo_oink(13)\n",
    "```\n",
    "returns\n",
    "```\n",
    "array([  1,   2,  -3,  -4,   5,  -3,   7,  -4,  -3,  10,  11, -12,  13])\n",
    "```"
   ]
  },
  {
   "cell_type": "code",
   "execution_count": 69,
   "metadata": {},
   "outputs": [],
   "source": [
    "def moo_oink(n):\n",
    "    arr = np.arange(1, n + 1)\n",
    "    \n",
    "    result = np.where((arr % 3 == 0) & (arr % 4 == 0), -12,\n",
    "             np.where(arr % 3 == 0, -3,\n",
    "             np.where(arr % 4 == 0, -4, arr)))\n",
    "    \n",
    "    return result"
   ]
  },
  {
   "cell_type": "code",
   "execution_count": 71,
   "metadata": {},
   "outputs": [
    {
     "data": {
      "text/plain": [
       "array([  1,   2,  -3,  -4,   5,  -3,   7,  -4,  -3,  10,  11, -12,  13])"
      ]
     },
     "execution_count": 71,
     "metadata": {},
     "output_type": "execute_result"
    }
   ],
   "source": [
    "moo_oink(13)"
   ]
  },
  {
   "cell_type": "markdown",
   "metadata": {},
   "source": [
    "### A Sequence\n",
    "\n",
    "Consider the function \n",
    "  $$ f(a) = \\begin{cases}\n",
    "      1 & \\text{if }a=1,\\\\\n",
    "      1 + 3a & \\text{if }a\\text{ is odd}\\text{ and }a> 1\\\\\n",
    "      a/ 2 & \\text{if }a\\text{ is even}.\n",
    "  \\end{cases} $$ \n",
    "Write a function **`afunc(a)`** that returns the value of $f$ for positive integer $a$. \n",
    "\n",
    "Starting with $a$, if we apply $f$ repeatedly, using each output value as the next input value, the sequence produced will eventually reach the number $1$. For example starting $a=5$, the sequence produced is $5, 16, 8, 4, 2, 1$, with a sequence length of $6$.\n",
    "\n",
    "Write a function **`afunc_seqlen(n)`** that returns an array containing the sequence length for each number from $1$ to $n$. The function should begin with an array containing the numbers from $1$ to $n$, then use a single loop to apply `afunc()` to each number in the array repeatedly until all starting values have reached $1$. (Do not use nested or multiple loops.) For each number, the function keeps track of the iteration count before $1$ is reached.\n",
    "\n",
    "For example, for `n=5`, the return value is\n",
    "```\n",
    "array([1, 2, 8, 3, 6])\n",
    "```\n",
    "because the function begins with an array of the numbers from $1$ to $5$, then repeatedly applies `afunc()` to each number until all sequences reach $1$. The process looks like\n",
    "```\n",
    " 1  2  3  4  5\n",
    " 1  1 10  2 16\n",
    " 1  1  5  1  8\n",
    " 1  1 16  1  4\n",
    " 1  1  8  1  2\n",
    " 1  1  4  1  1\n",
    " 1  1  2  1  1\n",
    " 1  1  1  1  1\n",
    "```"
   ]
  },
  {
   "cell_type": "code",
   "execution_count": null,
   "metadata": {},
   "outputs": [],
   "source": [
    "def afunc(a):\n",
    "    if a == 1:\n",
    "        return 1\n",
    "    elif a % 2 ==1:\n",
    "        return 1 + 3*a\n",
    "    else:\n",
    "        return a / 2"
   ]
  },
  {
   "cell_type": "code",
   "execution_count": 80,
   "metadata": {},
   "outputs": [],
   "source": [
    "def afunc_seqlen(n):\n",
    "    arr = np.arange(1, n + 1)\n",
    "    lengths = np.ones_like(arr)\n",
    "    \n",
    "    while np.any(arr != 1):\n",
    "        lengths[arr != 1] += 1\n",
    "        arr = np.where(arr != 1, np.where(arr % 2 == 0, arr // 2, 3 * arr + 1), arr)\n",
    "    \n",
    "    return lengths"
   ]
  },
  {
   "cell_type": "code",
   "execution_count": 82,
   "metadata": {},
   "outputs": [
    {
     "data": {
      "text/plain": [
       "array([1, 2, 8, 3, 6])"
      ]
     },
     "execution_count": 82,
     "metadata": {},
     "output_type": "execute_result"
    }
   ],
   "source": [
    "afunc_seqlen(5)"
   ]
  },
  {
   "cell_type": "markdown",
   "metadata": {},
   "source": [
    "___\n",
    "\n",
    "# Extra Problems\n",
    "Work on these problems after completing the previous exercises."
   ]
  },
  {
   "cell_type": "markdown",
   "metadata": {},
   "source": [
    "### Closest Point\n",
    "Write a function **`closest(pt, pts)`** that identifies the point in a set of `pts` that is closest to a given `pt`. Assume that `pt` contains the coordinates of a point in $n$-D space and `pts` is a 2-D array of $k$ points with shape $(k,n)$. Each row of `pts` contains the $n$-D coordinates of a point in the set. To measure closeness, use the square of the distance between two points: $ (\\Delta x_1)^2 + (\\Delta x_2)^2 + \\cdots + (\\Delta x_3)^2$.\n",
    "\n",
    "You may wish to use the `np.apply_along_axis(func, axis, arr, *args)` function which applies a function to `arr` along the given `axis`, where `*args` represents extra arguments to pass to `func`.\n",
    "\n",
    "Example: \n",
    "```\n",
    "pt = np.array([6, 1])\n",
    "pts = np.array([ [-4, -5], [-3, 3], [-1, 0], [ 2, 4], [ 4, -5] ])\n",
    "closest(pt, pts)\n",
    "```\n",
    "returns\n",
    "```\n",
    "array([2, 4])\n",
    "```\n",
    "and\n",
    "```\n",
    "pt = np.array([3, -5, 1])\n",
    "pts = np.array([ [-4, -5, 2], [-2, -3, 0], [1, 0, -2] ])\n",
    "closest(pt, pts)\n",
    "```\n",
    "returns\n",
    "```\n",
    "array([-2, -3,  0])\n",
    "```\n"
   ]
  },
  {
   "cell_type": "code",
   "execution_count": null,
   "metadata": {},
   "outputs": [],
   "source": []
  },
  {
   "cell_type": "markdown",
   "metadata": {},
   "source": [
    "### Prime Spiral\n",
    "\n",
    "The *prime spiral*, also known as *Ulam's spiral*, shows the distribution of prime numbers when the positive integers are arranged in a spiral pattern such as the one below:\n",
    "```\n",
    "[[37 36 35 34 33 32 31]\n",
    " [38 17 16 15 14 13 30]\n",
    " [39 18  5  4  3 12 29]\n",
    " [40 19  6  1  2 11 28]\n",
    " [41 20  7  8  9 10 27]\n",
    " [42 21 22 23 24 25 26]\n",
    " [43 44 45 46 47 48 49]]\n",
    "```\n",
    "There are many instances where prime numbers appear on a diagonal. For example the 4 primes 19, 7, 23, and 47 lie on a diagonal.\n",
    "\n",
    "Write a function **`prime_spiral(spiral_file)`** that reads in a number spiral from a file, and returns an array with the number `1` marking the prime numbers and the number `0` marking the non-primes. You may call `np.loadtxt(spiral_file, dtype=int)` and use the `is_prime(num)` function defined below.\n",
    "\n",
    "The files `spiral7.txt` and `spiral30.txt` are available for testing. For example: `print(prime_spiral('spiral7.txt'))` displays\n",
    "```\n",
    "[[1 0 0 0 0 0 1]\n",
    " [0 1 0 0 0 1 0]\n",
    " [0 0 1 0 1 0 1]\n",
    " [0 1 0 0 1 1 0]\n",
    " [1 0 1 0 0 0 0]\n",
    " [0 0 0 1 0 0 0]\n",
    " [1 0 0 0 1 0 0]]\n",
    "```\n"
   ]
  },
  {
   "cell_type": "code",
   "execution_count": 122,
   "metadata": {},
   "outputs": [],
   "source": [
    "def is_prime(num):\n",
    "    if num == 1:\n",
    "        return False\n",
    "    for i in range(2, int(np.sqrt(num)) + 1):\n",
    "        if num % i == 0:\n",
    "            return False   \n",
    "    return True"
   ]
  },
  {
   "cell_type": "code",
   "execution_count": null,
   "metadata": {},
   "outputs": [],
   "source": []
  },
  {
   "cell_type": "markdown",
   "metadata": {},
   "source": [
    "### Moo Oink Variation\n",
    "A variation of the *Moo Oink* counting game assigns 'moo' to any number divisible by 3 *or* contains the digit 3. It assigns 'oink' to any number divisible by 4 *or* contains the digit 4. It assigns 'moo oink' to any number satisfying both of the previous conditions.\n",
    "\n",
    "Write a function **`moo_oink_var(n)`** that returns an array of the responses counting from 1 to `n`. You may assume that `n` is a positive integer. Again replace the 3 strings with these numerical codes:\n",
    "\n",
    "|String|Code|  \n",
    "|:--|:--:|  \n",
    "|'moo'|-3|  \n",
    "|'oink'|-4|  \n",
    "|'moo oink'|-12|\n",
    "\n",
    "Example:\n",
    "```\n",
    "moo_oink_var(15)\n",
    "```\n",
    "returns\n",
    "```\n",
    "array([  1,   2,  -3,  -4,   5,  -3,   7,  -4,  -3,  10,  11, -12,  -3, -4, -3])"
   ]
  },
  {
   "cell_type": "code",
   "execution_count": null,
   "metadata": {},
   "outputs": [],
   "source": []
  }
 ],
 "metadata": {
  "kernelspec": {
   "display_name": "Python 3 (ipykernel)",
   "language": "python",
   "name": "python3"
  },
  "language_info": {
   "codemirror_mode": {
    "name": "ipython",
    "version": 3
   },
   "file_extension": ".py",
   "mimetype": "text/x-python",
   "name": "python",
   "nbconvert_exporter": "python",
   "pygments_lexer": "ipython3",
   "version": "3.12.4"
  }
 },
 "nbformat": 4,
 "nbformat_minor": 4
}
