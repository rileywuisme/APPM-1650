{
 "cells": [
  {
   "cell_type": "markdown",
   "metadata": {},
   "source": [
    "# Lab 12"
   ]
  },
  {
   "cell_type": "markdown",
   "metadata": {
    "tags": []
   },
   "source": [
    "### Enter the Lab12 password as a string"
   ]
  },
  {
   "cell_type": "code",
   "execution_count": 321,
   "metadata": {},
   "outputs": [],
   "source": [
    "password = 'marbles'"
   ]
  },
  {
   "cell_type": "markdown",
   "metadata": {},
   "source": [
    "___"
   ]
  },
  {
   "cell_type": "code",
   "execution_count": 323,
   "metadata": {},
   "outputs": [],
   "source": [
    "import math\n",
    "import random\n",
    "import numpy as np\n",
    "import matplotlib.pyplot as plt"
   ]
  },
  {
   "cell_type": "markdown",
   "metadata": {},
   "source": [
    "### Superhuman or Mere Mortal\n",
    "\n",
    "Suppose every person is either Superhuman or Mere Mortal. Create a class called **`Person`** that takes a string name and a person type: `'Super'` or `'Mortal'` (the default value). It stores the information in these attributes:\n",
    "* `name` (a string, possibly empty)\n",
    "* `is_super` which equals `True` if the person type is `'Super'`, or equals `False` if the person type is `'Mortal'`\n",
    "\n",
    "Example:<br>\n",
    "```\n",
    "diana = Person('Wonder Woman', 'Super')\n",
    "vars(diana)\n",
    "```\n",
    "returns\n",
    "```\n",
    "{'name': 'Wonder Woman', 'is_super': True}\n",
    "\n",
    "```\n",
    "and\n",
    "```\n",
    "Person('Bart Simpson').is_super\n",
    "```\n",
    "returns\n",
    "```\n",
    "False\n",
    "```\n"
   ]
  },
  {
   "cell_type": "code",
   "execution_count": 325,
   "metadata": {},
   "outputs": [],
   "source": [
    "class Person: \n",
    "\n",
    "    def __init__(self, name, is_super='Mortal'):\n",
    "        self.name = ''\n",
    "        self.is_super = (is_super == 'Super')"
   ]
  },
  {
   "cell_type": "code",
   "execution_count": 326,
   "metadata": {},
   "outputs": [
    {
     "data": {
      "text/plain": [
       "{'name': '', 'is_super': True}"
      ]
     },
     "execution_count": 326,
     "metadata": {},
     "output_type": "execute_result"
    }
   ],
   "source": [
    "diana = Person('Wonder Woman', 'Super')\n",
    "vars(diana)"
   ]
  },
  {
   "cell_type": "code",
   "execution_count": 327,
   "metadata": {},
   "outputs": [
    {
     "data": {
      "text/plain": [
       "False"
      ]
     },
     "execution_count": 327,
     "metadata": {},
     "output_type": "execute_result"
    }
   ],
   "source": [
    "Person('Bart Simpson').is_super"
   ]
  },
  {
   "cell_type": "markdown",
   "metadata": {},
   "source": [
    "### Identifying Superhumans\n",
    "A test has been developed that is 95% accurate in determining whether a person is Superhuman or Mere Mortal. Add a method called **`test()`** that returns `'Super'` or '`Mortal`' with 95% accuracy. The result will depend on whether the Person is Superhuman or Mere Mortal. Multiple tests may return different results.\n",
    "\n",
    "Example:<br>\n",
    "`Person('Wonder Woman', 'Super').test()` will return `'Super'` 95% of the time."
   ]
  },
  {
   "cell_type": "code",
   "execution_count": 331,
   "metadata": {},
   "outputs": [],
   "source": [
    "class Person(Person):\n",
    "\n",
    "    def test(self):\n",
    "        perc = random.randint(1, 101)\n",
    "        if (perc <= 95) and (self.is_super == True):\n",
    "            return 'Super'\n",
    "        if (perc > 95) and (self.is_super == True):\n",
    "            return 'Mortal'\n",
    "        if (perc <= 95) and (self.is_super == False):\n",
    "            return 'Mortal'\n",
    "        if (perc > 95) and (self.is_super == False):\n",
    "            return 'Super'"
   ]
  },
  {
   "cell_type": "code",
   "execution_count": 333,
   "metadata": {},
   "outputs": [
    {
     "data": {
      "text/plain": [
       "'Super'"
      ]
     },
     "execution_count": 333,
     "metadata": {},
     "output_type": "execute_result"
    }
   ],
   "source": [
    "Person('Wonder Woman', 'Super').test()"
   ]
  },
  {
   "cell_type": "markdown",
   "metadata": {},
   "source": [
    "### Is Your Classmate Really Superhuman?\n",
    "All CU incoming students must be tested upon arrival to campus. Any student identified as Superhuman must undergo extra supervision, especially during exams. **Your classmate, Peter Parker, has been identified by the test as Superhuman.** How likely is it that Peter is actually a Mere Mortal? \n",
    "\n",
    "Use a simulation to calculate the probability **`prob_test_super_is_mortal`**. Assume that 0.1% of the world's population are Superhuman and 99.9% are Mere Mortal. \n",
    "\n",
    "**Strategy**<br>\n",
    "* Create 10,000 Persons with the appropriate proportion of Superhumans and Mere Mortals.\n",
    "* Test them and select the ones with `'Super'` test results.\n",
    "* Calculate the fraction that are actually `'Mortal'`."
   ]
  },
  {
   "cell_type": "code",
   "execution_count": null,
   "metadata": {},
   "outputs": [],
   "source": [
    "# pers = random.choice(['Super'] + ['Mortal']*999)\n",
    "# pop = [Person('', pers)) for n in range(10000)]\n",
    "# Tested = [pop1.test() == 'Super' for pop1 in pop].count(True)\n",
    "pop = [Person('', random.choice(['Super'] + ['Mortal']*999)) for n in range(10000)]\n",
    "\n",
    "tested_super = [person for person in pop if person.test() == 'Super']  # People tested as 'Super'\n",
    "false_super_mortal_count = sum(1 for person in tested_super if not person.is_super)  # Mortals in 'Super' test group\n",
    "\n",
    "prob_test_super_is_mortal = false_super_mortal_count / len(tested_super) if tested_super else 0\n",
    "prob_test_super_is_mortal"
   ]
  },
  {
   "cell_type": "markdown",
   "metadata": {},
   "source": [
    "### Sequence Class\n",
    "\n",
    "Create a class called **`Sequence`** to represent a sequence of numbers \n",
    "\n",
    "$$\\{ a_1, a_2, a_3, \\ldots \\}.$$\n",
    "\n",
    "The class will have a single attribute:\n",
    "* **`func`** which is a `lambda` function that can be used to compute the $n$th term $a_n$. \n",
    "\n",
    "Add this method:\n",
    "* **`__call__(n)`** which returns the `n`th term of the sequence using the `seq(n)` notation\n",
    "\n",
    "Example: Let `seq1` be the sequence\n",
    "$$\\left\\{1, \\frac 12, \\frac 13, \\frac 14, \\ldots \\right\\}$$\n",
    "\n",
    "The $n$th term of this sequence is $a_n = \\dfrac 1n$. Represent this sequence by creating an instance of the `Sequence` class:\n",
    "```\n",
    "seq1 = Sequence(lambda n: 1/n)\n",
    "```\n",
    "Then `seq1(4)` returns `0.25`."
   ]
  },
  {
   "cell_type": "code",
   "execution_count": null,
   "metadata": {},
   "outputs": [],
   "source": [
    "class Sequence:\n",
    "    def __init__(self, func):\n",
    "        self.func = func\n",
    "    \n",
    "    def __call__(self, n):\n",
    "        return self.func(n)\n",
    "\n",
    "seq1 = Sequence(lambda n: 1 / n)"
   ]
  },
  {
   "cell_type": "code",
   "execution_count": null,
   "metadata": {},
   "outputs": [],
   "source": [
    "seq1(4)"
   ]
  },
  {
   "cell_type": "markdown",
   "metadata": {},
   "source": [
    "**Create instances of the `Sequence` class** corresponding to these sequences:\n",
    "* `seq2`: $\\displaystyle \\left\\{1, \\frac {1}{2}, \\frac {1}{4}, \\frac {1}{8}, \\ldots \\right\\}$ (reciprocals of the powers of 2)\n",
    "* `seq3`: $\\displaystyle \\left\\{1, -\\frac {1}{3}, \\frac {1}{5}, -\\frac {1}{7}, \\ldots \\right\\}$ (reciprocals of the odd integers with alternating signs)"
   ]
  },
  {
   "cell_type": "code",
   "execution_count": null,
   "metadata": {},
   "outputs": [],
   "source": [
    "seq2 = Sequence(lambda n: 1/2**n)"
   ]
  },
  {
   "cell_type": "code",
   "execution_count": null,
   "metadata": {},
   "outputs": [],
   "source": [
    "seq3 = Sequence(lambda n: (-1)**(n+1) / 2**(n-1))"
   ]
  },
  {
   "cell_type": "markdown",
   "metadata": {},
   "source": [
    "**Create the following `Sequence` methods**:\n",
    "* `terms(n)` returns a list of the first `n` terms of the sequence\n",
    "* `sum(n)` returns the sum of the first `n` terms of the sequence. It should call `terms()`.\n",
    "* `min_terms(total)` returns the minimum number of terms $n$ needed to sum to `total` with $n\\ge 1$.\n",
    "\n",
    "Examples:<br>\n",
    "```\n",
    "seq1.terms(4)\n",
    "```\n",
    "returns `[1.0, 0.5, 0.333333, 0.25]`.\n",
    "\n",
    "```\n",
    "seq1.sum(4)\n",
    "```\n",
    "returns `2.083333`.\n",
    "\n",
    "```\n",
    "seq1.min_terms(1.6)\n",
    "```\n",
    "returns `3`."
   ]
  },
  {
   "cell_type": "code",
   "execution_count": null,
   "metadata": {},
   "outputs": [],
   "source": [
    "class Sequence(Sequence):\n",
    "\n",
    "    def terms(self, n):\n",
    "        return [self.func(i) for i in range(1, n+1)]\n",
    "\n",
    "    def sum(self, n):\n",
    "        return sum(self.func(i) for i in range(1, n+1))\n",
    "\n",
    "    def min_terms(self, total):\n",
    "        terms = 1\n",
    "        i=1\n",
    "        while self.sum(i) < total:\n",
    "            i = i+1\n",
    "            terms += 1\n",
    "        return terms"
   ]
  },
  {
   "cell_type": "code",
   "execution_count": null,
   "metadata": {},
   "outputs": [],
   "source": [
    "seq1 = Sequence(lambda n: 1 / n)\n",
    "seq1.terms(4)"
   ]
  },
  {
   "cell_type": "code",
   "execution_count": null,
   "metadata": {},
   "outputs": [],
   "source": [
    "seq1.sum(4)"
   ]
  },
  {
   "cell_type": "code",
   "execution_count": null,
   "metadata": {},
   "outputs": [],
   "source": [
    "seq1.min_terms(1.6)"
   ]
  },
  {
   "cell_type": "markdown",
   "metadata": {},
   "source": [
    "### Exception Handling\n",
    "\n",
    "Write a function **`email_CU(account)`** that takes an email account name in string format and appends `'@colorado.edu'`. The function uses `try except` to catch non-string arguments, displaying an `ERROR` message and returning an empty string.\n",
    "\n",
    "Examples:<br>\n",
    "`email_CU('ralph')` returns `'ralph@colorado.edu'`.<br>\n",
    "`email_CU(3)` displays `ERROR` and returns  `''`."
   ]
  },
  {
   "cell_type": "code",
   "execution_count": null,
   "metadata": {},
   "outputs": [],
   "source": [
    "def email_CU(account):\n",
    "    try:\n",
    "        if not isinstance(account, str):\n",
    "            raise ValueError(\"The account name must be a string.\")\n",
    "        \n",
    "        return account + '@colorado.edu'\n",
    "    \n",
    "    except ValueError as e:\n",
    "        print(\"ERROR\")\n",
    "        return ''"
   ]
  },
  {
   "cell_type": "code",
   "execution_count": null,
   "metadata": {},
   "outputs": [],
   "source": [
    "email_CU('ralph')"
   ]
  },
  {
   "cell_type": "code",
   "execution_count": null,
   "metadata": {},
   "outputs": [],
   "source": [
    "email_CU(3)"
   ]
  },
  {
   "cell_type": "markdown",
   "metadata": {},
   "source": [
    "### Variable Number of Arguments\n",
    "Write another version of the function called **`emails_CU(*accounts)`** that takes a variable number of string account names and returns a list with `'@colorado.edu'` appended to each account name. Exception handling is not necessary for this function.\n",
    "\n",
    "Examples:<br>\n",
    "`emails_CU('aden')` returns `['aden@colorado.edu']`.<br>\n",
    "`emails_CU('aden', 'baker', 'libby')` returns `['aden@colorado.edu', 'baker@colorado.edu', 'libby@colorado.edu']`."
   ]
  },
  {
   "cell_type": "code",
   "execution_count": null,
   "metadata": {},
   "outputs": [],
   "source": [
    "def emails_CU(*accounts):\n",
    "    return [account + '@colorado.edu' for account in accounts]"
   ]
  },
  {
   "cell_type": "code",
   "execution_count": null,
   "metadata": {},
   "outputs": [],
   "source": [
    "emails_CU('aden')"
   ]
  },
  {
   "cell_type": "code",
   "execution_count": null,
   "metadata": {},
   "outputs": [],
   "source": [
    "emails_CU('aden', 'baker', 'libby')"
   ]
  },
  {
   "cell_type": "markdown",
   "metadata": {},
   "source": [
    "___\n",
    "# Extra Problems"
   ]
  },
  {
   "cell_type": "markdown",
   "metadata": {},
   "source": [
    "**Create the following `Sequence` method**:\n",
    "* **`__repr__()`** returns a string representation of a `Sequence`. The string should enclose in curly braces the first 3 terms of the sequence (rounded to 4 decimal digits), followed by an ellipsis. (*Hint:* To display a curly brace using an f-string, you will need to double the character. For example, `f'{{3}}'` returns the string `'{3}'`.\n",
    "\n",
    "Example:<br>\n",
    "`Sequence(lambda n: 1/n)` displays `{1.0, 0.5, 0.3333, ...}`."
   ]
  },
  {
   "cell_type": "code",
   "execution_count": null,
   "metadata": {},
   "outputs": [],
   "source": []
  },
  {
   "cell_type": "markdown",
   "metadata": {},
   "source": [
    "**Create the following `Sequence` methods**:\n",
    "\n",
    "* `plot(n)` displays a scatter plot and line graph of the first `n` terms.\n",
    "* `plot_bar(n)` displays a multi-colored bar chart of the first `n` terms.\n",
    "\n",
    "For example, here are sample `plot()` and `plot_bar()` results for the sequence $a_n = 5 + n \\sin(n)$ with $n=30$:\n",
    "\n",
    "<img src=\"http://www.coloradomath.org/python/seq-plot.png\" />\n",
    "<img src=\"http://www.coloradomath.org/python/seq-plot-bar.png\" />"
   ]
  },
  {
   "cell_type": "code",
   "execution_count": null,
   "metadata": {},
   "outputs": [],
   "source": []
  },
  {
   "cell_type": "markdown",
   "metadata": {},
   "source": [
    "**Create the following `Sequence` methods**:\n",
    "\n",
    "* `plot_sums(n)` displays a scatter plot and  line graph of the first `n` partial sums (cumulative sums).\n",
    "* `plot_sums_bar(n)` displays a multi-colored bar chart of the first `n` partial sums (cumulative sums).\n",
    "\n",
    "For example, here are sample `plot_sums()` and `plot_sums_bar()` results for the sequence $a_n = 5 + n \\sin(n)$ with $n=30$:\n",
    "\n",
    "<img src=\"http://www.coloradomath.org/python/seq-plot-sums.png\" />\n",
    "<img src=\"http://www.coloradomath.org/python/seq-plot-sums-bar.png\" />"
   ]
  },
  {
   "cell_type": "code",
   "execution_count": null,
   "metadata": {},
   "outputs": [],
   "source": []
  }
 ],
 "metadata": {
  "kernelspec": {
   "display_name": "Python 3 (ipykernel)",
   "language": "python",
   "name": "python3"
  },
  "language_info": {
   "codemirror_mode": {
    "name": "ipython",
    "version": 3
   },
   "file_extension": ".py",
   "mimetype": "text/x-python",
   "name": "python",
   "nbconvert_exporter": "python",
   "pygments_lexer": "ipython3",
   "version": "3.12.4"
  }
 },
 "nbformat": 4,
 "nbformat_minor": 4
}
