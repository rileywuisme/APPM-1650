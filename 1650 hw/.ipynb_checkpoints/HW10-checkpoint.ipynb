{
 "cells": [
  {
   "cell_type": "markdown",
   "id": "98526ec3-9ca7-4eff-bfca-1963068a5445",
   "metadata": {},
   "source": [
    "# HW 10\n",
    "___"
   ]
  },
  {
   "cell_type": "code",
   "execution_count": 78,
   "id": "a60c74a1-8e95-4e06-96fa-802a227b39f9",
   "metadata": {
    "tags": []
   },
   "outputs": [],
   "source": [
    "import math\n",
    "import random\n",
    "import numpy as np"
   ]
  },
  {
   "cell_type": "markdown",
   "id": "65e3f72c-7134-448b-9f4b-7b030cab11e4",
   "metadata": {
    "tags": []
   },
   "source": [
    "### Triples\n",
    "Write a function called **`triples(n)`** that returns a list of 3-element tuples:\n",
    "$$[\\ (1, 2, 3),\\ \\ (4, 5, 6),\\ \\ \\ldots,\\ \\ (n-2, n-1, n)\\ ].$$\n",
    "Assume that `n` is a positive multiple of 3.\n",
    "\n",
    "Example:<br>\n",
    "`triples(9)` returns `[(1, 2, 3), (4, 5, 6), (7, 8, 9)]`.<br>\n",
    "`triples(12)` returns `[(1, 2, 3), (4, 5, 6), (7, 8, 9), (10, 11, 12)]`."
   ]
  },
  {
   "cell_type": "code",
   "execution_count": 26,
   "id": "7b86b7a0-212f-4c83-ac00-e7db90b8035d",
   "metadata": {},
   "outputs": [],
   "source": [
    "def triples(n):\n",
    "    if n == 3:\n",
    "        return [(1, 2, 3)]\n",
    "    else:\n",
    "        return triples(n-3) + [(n-2, n-1, n)]"
   ]
  },
  {
   "cell_type": "code",
   "execution_count": 28,
   "id": "95417403-09a3-43f1-a90a-6054d88776db",
   "metadata": {},
   "outputs": [
    {
     "data": {
      "text/plain": [
       "[(1, 2, 3), (4, 5, 6), (7, 8, 9)]"
      ]
     },
     "execution_count": 28,
     "metadata": {},
     "output_type": "execute_result"
    }
   ],
   "source": [
    "triples(9)"
   ]
  },
  {
   "cell_type": "code",
   "execution_count": 30,
   "id": "7233a7f3-6496-499d-8ebe-6b9427be9b9d",
   "metadata": {},
   "outputs": [
    {
     "data": {
      "text/plain": [
       "[(1, 2, 3), (4, 5, 6), (7, 8, 9), (10, 11, 12)]"
      ]
     },
     "execution_count": 30,
     "metadata": {},
     "output_type": "execute_result"
    }
   ],
   "source": [
    "triples(12)"
   ]
  },
  {
   "cell_type": "markdown",
   "id": "3282800c-cb27-42a3-9964-7a59a1c907b9",
   "metadata": {
    "tags": []
   },
   "source": [
    "### k-Tuples\n",
    "Write a function called **`ktuples(n, k)`** that returns a list of k-element tuples beginning with `(1, 2, ..., k)` and ending with `n`. Assume that `n` is a positive multiple of `k`.\n",
    "\n",
    "Example:  \n",
    "`ktuples(12, 4)` returns `[(1, 2, 3, 4), (5, 6, 7, 8), (9, 10, 11, 12)]`.<br>\n",
    "`ktuples(8, 2)` returns `[(1, 2), (3, 4), (5, 6), (7, 8)]`."
   ]
  },
  {
   "cell_type": "code",
   "execution_count": 104,
   "id": "c5951fc0-b7f4-415d-be00-ab7e838ea675",
   "metadata": {},
   "outputs": [],
   "source": [
    "def ktuples(n, k):\n",
    "    result = []\n",
    "    \n",
    "    for i in range(1, n + 1, k):\n",
    "        tuple_k = tuple(range(i, i + k))\n",
    "        result.append(tuple_k)\n",
    "    \n",
    "    return result"
   ]
  },
  {
   "cell_type": "code",
   "execution_count": 106,
   "id": "01a4fa70-4c38-4865-91ee-41e1ecaffc5b",
   "metadata": {},
   "outputs": [
    {
     "data": {
      "text/plain": [
       "[(1, 2, 3, 4), (5, 6, 7, 8), (9, 10, 11, 12)]"
      ]
     },
     "execution_count": 106,
     "metadata": {},
     "output_type": "execute_result"
    }
   ],
   "source": [
    "ktuples(12, 4)"
   ]
  },
  {
   "cell_type": "markdown",
   "id": "14f9c263-59ad-40b7-95ae-3b767a950417",
   "metadata": {
    "tags": []
   },
   "source": [
    "### Recursive Pi Estimate\n",
    "This infinite series sums to $\\pi$:\n",
    "$$\\pi = 4\\left(1 - \\frac 13 + \\frac 15 - \\frac 17 + \\cdots \\right).$$\n",
    "\n",
    "Write a **recursive** function **`pi_series(nterms)`** that estimates the value of $\\pi$ by summing the first `nterms` terms of the series. You may assume that `nterms` is a non-negative integer. \n",
    "\n",
    "*Hint:* Use the expression $ (-1)^n $ to produce alternating plus and minus signs.\n",
    "\n",
    "Example:  \n",
    "`pi_series(3)` returns `3.466667` which equals $\\displaystyle 4\\left(1 - \\frac 13 + \\frac 15\\right)$.<br>\n",
    "`pi_series(0)` returns `0`.\n",
    "\n"
   ]
  },
  {
   "cell_type": "code",
   "execution_count": 159,
   "id": "80d574bf-279e-4071-a31b-326a875fd538",
   "metadata": {},
   "outputs": [],
   "source": [
    "def pi_series(nterms):\n",
    "    if nterms == 0:\n",
    "        return 0\n",
    "    current_term = 4 * (-1) ** (nterms - 1) / (2 * (nterms - 1) + 1)\n",
    "    return current_term + pi_series(nterms - 1)"
   ]
  },
  {
   "cell_type": "code",
   "execution_count": 161,
   "id": "e9cc4bbd-7dca-4ce3-ad8f-7993a49db8f1",
   "metadata": {},
   "outputs": [
    {
     "data": {
      "text/plain": [
       "3.466666666666667"
      ]
     },
     "execution_count": 161,
     "metadata": {},
     "output_type": "execute_result"
    }
   ],
   "source": [
    "pi_series(3)"
   ]
  },
  {
   "cell_type": "markdown",
   "id": "20a9f3b2-8d53-4ad1-b065-52e088496450",
   "metadata": {},
   "source": [
    "### Pi Reciprocal\n",
    "$$ \\frac{2}{\\pi} = \\frac{\\sqrt 2}{2}\\cdot \\frac{\\sqrt{2+\\sqrt 2}}{2}\\cdot \\frac{\\sqrt{2+\\sqrt{2+\\sqrt 2}}}{2}\\cdots $$\n",
    "\n",
    "Write a function **`pi_recip(n)`** that returns the product of the first `n` fractions in this pattern.\n",
    "\n",
    "Example: `pi_recip(1)` returns `0.707107`."
   ]
  },
  {
   "cell_type": "code",
   "execution_count": 204,
   "id": "4e8faefb-4fa7-49da-b09b-06fb4c67db02",
   "metadata": {},
   "outputs": [],
   "source": [
    "def pi_recip(n):\n",
    "    product = math.sqrt(2) / 2\n",
    "    term = math.sqrt(2)\n",
    "    for i in range(1, n):\n",
    "        term = math.sqrt(2 + term)\n",
    "        product *= term / 2\n",
    "    return product"
   ]
  },
  {
   "cell_type": "code",
   "execution_count": 208,
   "id": "e574f510-91df-4605-80b8-d1c45784c42a",
   "metadata": {},
   "outputs": [
    {
     "data": {
      "text/plain": [
       "0.6366200220390021"
      ]
     },
     "execution_count": 208,
     "metadata": {},
     "output_type": "execute_result"
    }
   ],
   "source": [
    "pi_recip(10)"
   ]
  },
  {
   "cell_type": "markdown",
   "id": "07417cc8-af86-4b8c-be94-9751ebe3ef4f",
   "metadata": {},
   "source": [
    "### Flip Pattern\n",
    "Write a function **`flip_pattern(pattern)`** that simulates the flipping of a coin, printing the results in a row, until the given `pattern` appears. Return the number of flips. Assume that `pattern` consists of a combination of `H`s and `T`s.\n",
    "\n",
    "Here is sample output for `flip_pattern('TTH')`:\n",
    "```\n",
    "HTTTTTTH\n",
    "8\n",
    "```"
   ]
  },
  {
   "cell_type": "code",
   "execution_count": 163,
   "id": "2d74746f-1570-4f55-b5b1-7847c84be825",
   "metadata": {},
   "outputs": [],
   "source": [
    "def flip_pattern(pattern):\n",
    "    nflips = 0\n",
    "    flipped = []\n",
    "    while ''.join(flipped[-(len(pattern)):]) != pattern:\n",
    "        flip = random.choice('HT')\n",
    "        flipped.append(flip)\n",
    "        nflips += 1\n",
    "        print(flip, end='')\n",
    "    return nflips"
   ]
  },
  {
   "cell_type": "code",
   "execution_count": 167,
   "id": "1eca7da9-8cf8-4f83-8069-0b00a7459dfd",
   "metadata": {},
   "outputs": [
    {
     "name": "stdout",
     "output_type": "stream",
     "text": [
      "HTHHTHTTTTH"
     ]
    },
    {
     "data": {
      "text/plain": [
       "11"
      ]
     },
     "execution_count": 167,
     "metadata": {},
     "output_type": "execute_result"
    }
   ],
   "source": [
    "flip_pattern('TTH')"
   ]
  },
  {
   "cell_type": "markdown",
   "id": "3c482f7f-48ca-490f-aea1-5f172abd29a5",
   "metadata": {
    "tags": []
   },
   "source": [
    "### Prime Spiral\n",
    "The *prime spiral*, also known as *Ulam's spiral*, shows the distribution of prime numbers when the positive integers are arranged in a spiral pattern such as the one below:\n",
    "```\n",
    "37  36  35  34  33  32  31\n",
    "38  17  16  15  14  13  30\n",
    "39  18   5   4   3  12  29\n",
    "40  19   6   1   2  11  28\n",
    "41  20   7   8   9  10  27\n",
    "42  21  22  23  24  25  26\n",
    "43  44  45  46  47  48  49\n",
    "```\n",
    "\n",
    "Surprisingly, there are many instances where prime numbers appear on a diagonal. The diagonal patterns are visible when all primes are replaced with asterisks and non-primes with blanks. For example the 4 primes 19, 7, 23, and 47 lie on a diagonal.\n",
    "```\n",
    "*           * \n",
    "  *       *   \n",
    "    *   *   * \n",
    "  *     * *   \n",
    "*   *         \n",
    "      *       \n",
    "*       *     \n",
    "```\n",
    "\n",
    "Write a function **`prime_spiral(spiral_file)`** that reads in a number spiral, such as the 7-by-7 example above and prints out the prime spiral version, replacing all primes with asterisks and non-primes with blanks. The files `spiral7.txt` and `spiral30.txt` are available for testing. You may call the `is_prime(num)` function defined below.\n",
    "\n",
    "Note: The spiral is named after Polish-American mathematician Stanislaw Ulam, who was a Professor of Mathematics at CU Boulder in the 1960s and 1970s."
   ]
  },
  {
   "cell_type": "code",
   "execution_count": 40,
   "id": "aafe75ed-b024-4d09-90b3-997b3714668e",
   "metadata": {
    "tags": []
   },
   "outputs": [],
   "source": [
    "def is_prime(num):\n",
    "    if num == 1:\n",
    "        return False\n",
    "    for i in range(2, int(math.sqrt(num)) + 1):\n",
    "        if num % i == 0:\n",
    "            return False   \n",
    "    return True"
   ]
  },
  {
   "cell_type": "code",
   "execution_count": 124,
   "id": "da43973a-8b18-4354-8186-fc6df654b6b3",
   "metadata": {},
   "outputs": [],
   "source": [
    "def prime_spiral(spiral_file):\n",
    "    with open(spiral_file) as fp:\n",
    "        data = [line.split() for line in fp.read().splitlines()]\n",
    "\n",
    "    data = [[int(num) for num in row] for row in data]\n",
    "    prime_spiral = [['*' if is_prime(num) else ' ' for num in row] for row in data]\n",
    "    \n",
    "    for row in prime_spiral:\n",
    "        print(\"  \".join(row)) "
   ]
  },
  {
   "cell_type": "code",
   "execution_count": 120,
   "id": "b8167d16-4557-43c1-a43f-a3bdaefdc718",
   "metadata": {},
   "outputs": [
    {
     "name": "stdout",
     "output_type": "stream",
     "text": [
      "*                 *\n",
      "   *           *   \n",
      "      *     *     *\n",
      "   *        *  *   \n",
      "*     *            \n",
      "         *         \n",
      "*           *      \n"
     ]
    }
   ],
   "source": [
    "prime_spiral('spiral7.txt')"
   ]
  },
  {
   "cell_type": "code",
   "execution_count": 122,
   "id": "0e454c79-7583-4e41-bc66-5019ea8d9b50",
   "metadata": {},
   "outputs": [
    {
     "name": "stdout",
     "output_type": "stream",
     "text": [
      "                                       *           *     *           *                  \n",
      "                                    *           *                       *           *   \n",
      "   *           *                                   *     *                 *            \n",
      "*     *                 *     *                 *                 *                     \n",
      "                           *                                   *           *            \n",
      "            *           *                       *                 *                     \n",
      "         *                             *           *     *           *     *     *      \n",
      "                  *                 *                             *     *           *   \n",
      "   *                 *           *     *                                               *\n",
      "                                          *     *                 *           *         \n",
      "         *           *     *           *                       *           *     *      \n",
      "                                          *     *           *                           \n",
      "               *           *     *                 *     *     *                 *     *\n",
      "*     *     *     *     *     *     *           *                       *               \n",
      "                                       *     *     *                                   *\n",
      "                        *           *        *  *     *     *     *           *     *   \n",
      "   *                       *     *     *                                                \n",
      "                              *           *                                             \n",
      "         *     *           *     *           *           *     *           *           *\n",
      "      *           *           *                 *                 *     *           *   \n",
      "                                 *                                   *                  \n",
      "                  *     *                 *           *           *                     \n",
      "         *           *                                   *                       *      \n",
      "            *                 *           *     *                                       \n",
      "                           *     *           *                 *           *            \n",
      "*     *     *                             *     *                 *                 *   \n",
      "   *           *                                   *     *                              \n",
      "*     *                 *                 *           *     *                           \n",
      "                     *                             *                       *            \n",
      "                        *     *           *     *                             *         \n"
     ]
    }
   ],
   "source": [
    "prime_spiral('spiral30.txt')"
   ]
  }
 ],
 "metadata": {
  "kernelspec": {
   "display_name": "Python 3 (ipykernel)",
   "language": "python",
   "name": "python3"
  },
  "language_info": {
   "codemirror_mode": {
    "name": "ipython",
    "version": 3
   },
   "file_extension": ".py",
   "mimetype": "text/x-python",
   "name": "python",
   "nbconvert_exporter": "python",
   "pygments_lexer": "ipython3",
   "version": "3.12.4"
  }
 },
 "nbformat": 4,
 "nbformat_minor": 5
}
