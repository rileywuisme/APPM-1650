{
 "cells": [
  {
   "cell_type": "markdown",
   "metadata": {},
   "source": [
    "# HW 4\n"
   ]
  },
  {
   "cell_type": "code",
   "execution_count": 137,
   "metadata": {},
   "outputs": [],
   "source": [
    "import math"
   ]
  },
  {
   "cell_type": "markdown",
   "metadata": {},
   "source": [
    "### Telescoping Sum\n",
    "\n",
    "Write a function **`tele_sum(n)`** that sums the first `n` terms of the telescoping series \n",
    " $$\\dfrac{1}{1\\cdot 2} + \\dfrac{1}{2\\cdot 3} + \\dfrac{1}{3\\cdot 4} + \\cdots + \\dfrac{1}{n\\cdot (n+1)}.$$ \n",
    "**Use a list comprehension.**\n",
    "\n",
    "Example:  \n",
    "`tele_sum(4)` returns `0.8`.<br>\n",
    "`tele_sum(90)` returns `0.989011`."
   ]
  },
  {
   "cell_type": "code",
   "execution_count": 139,
   "metadata": {},
   "outputs": [],
   "source": [
    "def tele_sum(n):\n",
    "    return sum(1 / (k * (k + 1)) for k in range(1, n + 1))"
   ]
  },
  {
   "cell_type": "code",
   "execution_count": 140,
   "metadata": {},
   "outputs": [
    {
     "data": {
      "text/plain": [
       "0.8"
      ]
     },
     "execution_count": 140,
     "metadata": {},
     "output_type": "execute_result"
    }
   ],
   "source": [
    "tele_sum(4)"
   ]
  },
  {
   "cell_type": "code",
   "execution_count": 141,
   "metadata": {},
   "outputs": [
    {
     "data": {
      "text/plain": [
       "0.989010989010989"
      ]
     },
     "execution_count": 141,
     "metadata": {},
     "output_type": "execute_result"
    }
   ],
   "source": [
    "tele_sum(90)"
   ]
  },
  {
   "cell_type": "markdown",
   "metadata": {},
   "source": [
    "### Cosine series\n",
    "This infinite series sums to $\\cos x$:\n",
    "$$\\cos x = 1 - \\dfrac{x^2}{2!} + \\dfrac{x^4}{4!} - \\dfrac{x^6}{6!} + \\cdots.$$\n",
    "\n",
    "Write a function **`cos_series(x, nterms)`** that estimates the value of $\\cos x$ by summing the first `nterms` terms of the series. **Use a list comprehension**. You may assume that `nterms` is a positive integer. (*Hint:* $0! = 1$)\n",
    "\n",
    "Example:  \n",
    "`cos_series(math.pi/3, 3)` returns `0.501796`.<br>\n",
    "`cos_series(3, 1)` returns `1`."
   ]
  },
  {
   "cell_type": "code",
   "execution_count": 143,
   "metadata": {},
   "outputs": [],
   "source": [
    "def cos_series(x, nterms):\n",
    "    return sum([(-1)**n * x **(2*n)/ (math.factorial(2*n)) for n in range(nterms)])"
   ]
  },
  {
   "cell_type": "code",
   "execution_count": 144,
   "metadata": {},
   "outputs": [
    {
     "data": {
      "text/plain": [
       "0.501796201500181"
      ]
     },
     "execution_count": 144,
     "metadata": {},
     "output_type": "execute_result"
    }
   ],
   "source": [
    "cos_series(math.pi/3, 3)"
   ]
  },
  {
   "cell_type": "code",
   "execution_count": 145,
   "metadata": {},
   "outputs": [
    {
     "data": {
      "text/plain": [
       "1.0"
      ]
     },
     "execution_count": 145,
     "metadata": {},
     "output_type": "execute_result"
    }
   ],
   "source": [
    "cos_series(3, 1)"
   ]
  },
  {
   "cell_type": "markdown",
   "metadata": {},
   "source": [
    "### Weighted Average\n",
    "The table below shows the number of Tesla cars sold in 2018 Q4 for each of three models along with their sale prices:\n",
    "\n",
    "|Model|Price|# Sold|Revenue (mil)|\n",
    "|:---|:---:|:---:|:--:|\n",
    "|Model X|84000|14050|1180.20|\n",
    "|Model S|78000|13500|1053.00|\n",
    "|Model 3|46000|63360|2914.56|\n",
    "|**Total**||**90910**|**5147.76**|\n",
    "\n",
    "If we average the sale prices in the second column, the mean is $69,333, however that number is not an accurate measure of the typical sale price because more Model 3 cars were sold than the other two models combined. To calculate the overall average sale price, we can compute the *weighted average*:\n",
    "\n",
    "$$\\text{weighted average} = \\dfrac{\\text{total sales revenue}}{\\text{number of cars sold}}$$\n",
    "\n",
    "$$\\text{average sale price} = \\dfrac{5147.76\\times 10^{6}}{90910} = 56624.79$$\n",
    "\n",
    "where the \"weights\" correspond to the number of cars sold for each model.\n",
    "\n",
    "Write a function **`weighted_avg(vals, wgts)`** that takes a list of values and a list of corresponding weights and returns the weighted average by multiplying each value by its weight, summing the results, then dividing by the sum of the weights. \n",
    "\n",
    "Assume that `vals` and `wgts` are lists of equal size and that their elements are all numbers. Your function should not modify the input lists. (*Hint:* You may wish to use `zip`.)\n",
    "\n",
    "Example:  \n",
    "```\n",
    "prices = [84000, 78000, 46000]\n",
    "sold = [14050, 13500, 63360]\n",
    "weighted_avg(prices, sold)\n",
    "```\n",
    "returns `56624.793752`."
   ]
  },
  {
   "cell_type": "code",
   "execution_count": 147,
   "metadata": {},
   "outputs": [],
   "source": [
    "def weighted_avg(vals, wgts):\n",
    "    weighted_sum = sum( v * w for v, w in zip(vals, wgts))\n",
    "    total_weight = sum (wgts)\n",
    "    return weighted_sum / total_weight"
   ]
  },
  {
   "cell_type": "code",
   "execution_count": 148,
   "metadata": {},
   "outputs": [
    {
     "data": {
      "text/plain": [
       "56624.79375206248"
      ]
     },
     "execution_count": 148,
     "metadata": {},
     "output_type": "execute_result"
    }
   ],
   "source": [
    "prices = [84000, 78000, 46000]\n",
    "sold = [14050, 13500, 63360]\n",
    "weighted_avg(prices, sold)"
   ]
  },
  {
   "cell_type": "markdown",
   "metadata": {},
   "source": [
    "### Partition Points\n",
    "\n",
    "Write a function **`partition_pts(a, b, n)`** that divides an interval $ [a,b] $ into $n$ equal subintervals and returns the coordinates of the $n+1$ partition points. **Use a list comprehension**. You may assume the following: $a, b$ are numbers, $a<b$, and $n$ is a positive integer.\n",
    "\n",
    "Example:  \n",
    "```\n",
    "partition_pts(-1, 2, 6)\n",
    "```\n",
    "returns \n",
    "```\n",
    "[-1.0 , -0.5,  0.0 ,  0.5,  1.0 ,  1.5,  2.0]\n",
    "``` \n",
    "which corresponds to the seven coordinates that result from dividing the interval $[-1,2]$ into $6$ equal subintervals.\n",
    "\n",
    "<img src=\"http://www.coloradomath.org/python/partition.png\" />"
   ]
  },
  {
   "cell_type": "code",
   "execution_count": 150,
   "metadata": {},
   "outputs": [],
   "source": [
    "def partition_pts(a, b, n):\n",
    "    return [ a + x * (b - a)/n for x in range(n+1)]"
   ]
  },
  {
   "cell_type": "code",
   "execution_count": 151,
   "metadata": {},
   "outputs": [
    {
     "data": {
      "text/plain": [
       "[-1.0, -0.5, 0.0, 0.5, 1.0, 1.5, 2.0]"
      ]
     },
     "execution_count": 151,
     "metadata": {},
     "output_type": "execute_result"
    }
   ],
   "source": [
    "partition_pts(-1, 2, 6)"
   ]
  },
  {
   "cell_type": "markdown",
   "metadata": {},
   "source": [
    "### Apply a Function to a List\n",
    "Write a function **`func_apply(func, pts)`** that evaluates a function at the given points and returns the function values in a list. **Use a list comprehension**.\n",
    "\n",
    "Examples:\n",
    "```\n",
    "func_apply(math.sqrt, [4, 9, 13])\n",
    "```\n",
    "returns `[2.0, 3.0, 3.605551]`.\n",
    "\n",
    "```\n",
    "xvals = partition_pts(0, math.pi/2, 5)\n",
    "func_apply(math.sin, xvals)\n",
    "```\n",
    "returns `[0.0, 0.309017, 0.587785, 0.809017, 0.951057, 1.0]` which corresponds to the sine function evaluated at 6 evenly spaced points in the interval $[0, \\pi/2]$."
   ]
  },
  {
   "cell_type": "code",
   "execution_count": 153,
   "metadata": {},
   "outputs": [],
   "source": [
    "def func_apply(func, pts):\n",
    "    return [ func(n) for n in pts]"
   ]
  },
  {
   "cell_type": "code",
   "execution_count": 154,
   "metadata": {},
   "outputs": [
    {
     "data": {
      "text/plain": [
       "[2.0, 3.0, 3.605551275463989]"
      ]
     },
     "execution_count": 154,
     "metadata": {},
     "output_type": "execute_result"
    }
   ],
   "source": [
    "func_apply(math.sqrt, [4, 9, 13])"
   ]
  },
  {
   "cell_type": "code",
   "execution_count": 155,
   "metadata": {},
   "outputs": [
    {
     "data": {
      "text/plain": [
       "[0.0,\n",
       " 0.3090169943749474,\n",
       " 0.5877852522924731,\n",
       " 0.8090169943749475,\n",
       " 0.9510565162951535,\n",
       " 1.0]"
      ]
     },
     "execution_count": 155,
     "metadata": {},
     "output_type": "execute_result"
    }
   ],
   "source": [
    "xvals = partition_pts(0, math.pi/2, 5)\n",
    "func_apply(math.sin, xvals)"
   ]
  },
  {
   "cell_type": "markdown",
   "metadata": {
    "tags": []
   },
   "source": [
    "### Add Index to List Elements\n",
    "Write a function **`add_index(nums)`** that takes a list of numbers and returns a new list, adding 1 to the first element of `nums`, adding 2 to the second element, adding 3 to the third element, etc. **Use enumerate().** You may assume that the list elements are all numbers. The function should not modify the argument `nums`.\n",
    "\n",
    "Examples:   \n",
    "`add_index([])` returns `[]`.\n",
    "\n",
    "`alist = [-3, 10.5, 100]`<br>\n",
    "`add_index(alist)` returns `[-2, 12.5, 103]`.<br>\n",
    "`print(alist)` displays `[-3, 10.5, 100]`.  \n"
   ]
  },
  {
   "cell_type": "code",
   "execution_count": 157,
   "metadata": {},
   "outputs": [],
   "source": [
    "def add_index(nums):\n",
    "    return [ (index + 1) + num for index, num in enumerate(nums)]"
   ]
  },
  {
   "cell_type": "code",
   "execution_count": 158,
   "metadata": {},
   "outputs": [
    {
     "data": {
      "text/plain": [
       "[]"
      ]
     },
     "execution_count": 158,
     "metadata": {},
     "output_type": "execute_result"
    }
   ],
   "source": [
    "add_index([])"
   ]
  },
  {
   "cell_type": "code",
   "execution_count": 159,
   "metadata": {},
   "outputs": [
    {
     "data": {
      "text/plain": [
       "[-2, 12.5, 103]"
      ]
     },
     "execution_count": 159,
     "metadata": {},
     "output_type": "execute_result"
    }
   ],
   "source": [
    "alist = [-3, 10.5, 100]\n",
    "add_index(alist)"
   ]
  },
  {
   "cell_type": "code",
   "execution_count": 160,
   "metadata": {},
   "outputs": [
    {
     "name": "stdout",
     "output_type": "stream",
     "text": [
      "[-3, 10.5, 100]\n"
     ]
    }
   ],
   "source": [
    "print (alist)"
   ]
  },
  {
   "cell_type": "markdown",
   "metadata": {},
   "source": [
    "### Moo Oink\n",
    "\n",
    "*Moo Oink* is a counting game where players take turns counting starting with $1, 2, \\ldots$. For any number divisible by $3$ the player says 'moo' instead of the number. For any number divisible by $4$ the player says 'oink'. For any number divisible by $3$ and $4$ the player says 'moo oink'. Write a function **`moo_oink(n)`** that returns a list of the responses for `n` rounds. You may assume that `n` is a positive integer.\n",
    "\n",
    "*Hint:* You may wish to write a helper function that returns the response for a single number.\n",
    "\n",
    " Example:  \n",
    " ```\n",
    " moo_oink(13)\n",
    " ```\n",
    " returns \n",
    " ```\n",
    " [1, 2, 'moo', 'oink', 5, 'moo', 7, 'oink', 'moo', 10, 11, 'moo oink', 13]\n",
    " ```"
   ]
  },
  {
   "cell_type": "code",
   "execution_count": 192,
   "metadata": {},
   "outputs": [],
   "source": [
    "def moo_oink(n):\n",
    "    num_list = list(range(1, n+1))\n",
    "    for n in range(n):\n",
    "        if num_list[n] % 3 == 0 and num_list[n] % 4 == 0:\n",
    "            num_list[n] = 'moo oink'\n",
    "        elif num_list[n] % 4 == 0:\n",
    "            num_list[n] = 'oink'\n",
    "        elif num_list[n] % 3 == 0:\n",
    "            num_list[n] = 'moo'\n",
    "\n",
    "    return num_list"
   ]
  },
  {
   "cell_type": "code",
   "execution_count": 194,
   "metadata": {},
   "outputs": [
    {
     "data": {
      "text/plain": [
       "[1, 2, 'moo', 'oink', 5, 'moo', 7, 'oink', 'moo', 10, 11, 'moo oink', 13]"
      ]
     },
     "execution_count": 194,
     "metadata": {},
     "output_type": "execute_result"
    }
   ],
   "source": [
    "moo_oink(13)"
   ]
  },
  {
   "cell_type": "code",
   "execution_count": null,
   "metadata": {},
   "outputs": [],
   "source": []
  }
 ],
 "metadata": {
  "kernelspec": {
   "display_name": "Python 3 (ipykernel)",
   "language": "python",
   "name": "python3"
  },
  "language_info": {
   "codemirror_mode": {
    "name": "ipython",
    "version": 3
   },
   "file_extension": ".py",
   "mimetype": "text/x-python",
   "name": "python",
   "nbconvert_exporter": "python",
   "pygments_lexer": "ipython3",
   "version": "3.12.4"
  }
 },
 "nbformat": 4,
 "nbformat_minor": 4
}
