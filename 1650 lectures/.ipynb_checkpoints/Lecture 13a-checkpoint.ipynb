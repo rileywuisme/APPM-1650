{
 "cells": [
  {
   "cell_type": "markdown",
   "id": "02427d10-036a-4c26-abc3-62571c6ded32",
   "metadata": {},
   "source": [
    "### Lecture 13a Object-Oriented Programing"
   ]
  },
  {
   "cell_type": "code",
   "execution_count": 5,
   "id": "8a648dc1-bfef-43a3-a2af-5e286641ad6a",
   "metadata": {},
   "outputs": [],
   "source": [
    "import math\n",
    "import random\n",
    "import numpy as np\n"
   ]
  },
  {
   "cell_type": "markdown",
   "id": "f3cdf777-d5e2-4d8b-bb7f-1fe71d89f46b",
   "metadata": {},
   "source": [
    "### Classes and Objects\n",
    "\n",
    "an Object is a data structure with values and functions and objects that are similar are grouped into a class"
   ]
  },
  {
   "cell_type": "markdown",
   "id": "52d81150-9a2c-4c17-983c-0dec465ce90b",
   "metadata": {},
   "source": [
    "E.x\n",
    "\n",
    "python list: nums.append()\n",
    "\n",
    "prython string: words.split()\n",
    "\n",
    "numpy array: arr.size, arr.reshape()"
   ]
  },
  {
   "cell_type": "markdown",
   "id": "ca7fc0cd-9279-4b51-a038-12e6169d70f5",
   "metadata": {},
   "source": [
    "### Creating a new class\n",
    "\n",
    "`CUStudent` attributes\n",
    "* `name`\n",
    "* `ID`\n",
    "* `year` default = 1"
   ]
  },
  {
   "cell_type": "code",
   "execution_count": 21,
   "id": "3c3e3ca5-ca1c-42c9-b41b-1b8dda65aa60",
   "metadata": {},
   "outputs": [],
   "source": [
    "class CUStudent:\n",
    "    '''Each object will correspond to an indivigual student record'''\n",
    "    def __init__(self, student, identikey, year=1):# constructor \n",
    "        ''' Create a new student record'''\n",
    "        self.name = student\n",
    "        self.ID = identikey\n",
    "        self.year = year"
   ]
  },
  {
   "cell_type": "code",
   "execution_count": 27,
   "id": "76a3cfe7-fa92-4dc3-86fa-c355e8dc8588",
   "metadata": {},
   "outputs": [
    {
     "data": {
      "text/plain": [
       "<__main__.CUStudent at 0x28161170800>"
      ]
     },
     "execution_count": 27,
     "metadata": {},
     "output_type": "execute_result"
    }
   ],
   "source": [
    "ralph = CUStudent('Ralphie Buff','rabu1212') # new student record\n",
    "ralph"
   ]
  },
  {
   "cell_type": "code",
   "execution_count": 29,
   "id": "1a598b46-238b-400f-8065-9a4344510b8e",
   "metadata": {},
   "outputs": [
    {
     "data": {
      "text/plain": [
       "'Ralphie Buff'"
      ]
     },
     "execution_count": 29,
     "metadata": {},
     "output_type": "execute_result"
    }
   ],
   "source": [
    "ralph.name"
   ]
  },
  {
   "cell_type": "code",
   "execution_count": 33,
   "id": "00bb9abc-84d9-4b83-bf85-ffc1e2ac6303",
   "metadata": {},
   "outputs": [
    {
     "data": {
      "text/plain": [
       "'rabu1212'"
      ]
     },
     "execution_count": 33,
     "metadata": {},
     "output_type": "execute_result"
    }
   ],
   "source": [
    "ralph.ID"
   ]
  },
  {
   "cell_type": "code",
   "execution_count": 35,
   "id": "872bac1f-cebb-490b-95f9-d1b351b4d4a4",
   "metadata": {},
   "outputs": [
    {
     "data": {
      "text/plain": [
       "1"
      ]
     },
     "execution_count": 35,
     "metadata": {},
     "output_type": "execute_result"
    }
   ],
   "source": [
    "ralph.year"
   ]
  },
  {
   "cell_type": "markdown",
   "id": "70e4de4e-dd01-4c4c-b3d6-1af8e64d40b4",
   "metadata": {},
   "source": [
    "Add a class atributte shared by all instances "
   ]
  },
  {
   "cell_type": "code",
   "execution_count": 38,
   "id": "e24f05b3-9e20-4cce-a147-c3850f42679e",
   "metadata": {},
   "outputs": [],
   "source": [
    "class CUStudent:\n",
    "    '''Each object will correspond to an indivigual student record'''\n",
    "\n",
    "    college = 'CU Boulder'\n",
    "\n",
    "    def __init__(self, student, identikey, year=1):# constructor \n",
    "        ''' Create a new student record'''\n",
    "        self.name = student\n",
    "        self.ID = identikey\n",
    "        self.year = year"
   ]
  },
  {
   "cell_type": "code",
   "execution_count": 46,
   "id": "697b0035-fd53-4b53-beb0-b0c20e0b9078",
   "metadata": {},
   "outputs": [
    {
     "data": {
      "text/plain": [
       "<__main__.CUStudent at 0x28160e86e70>"
      ]
     },
     "execution_count": 46,
     "metadata": {},
     "output_type": "execute_result"
    }
   ],
   "source": [
    "# Recreate the record for Ralphie\n",
    "ralph = CUStudent('Ralphie Buff','rabu1212') # new student record\n",
    "ralph"
   ]
  },
  {
   "cell_type": "code",
   "execution_count": 48,
   "id": "05c5e812-bb41-4f7f-b94d-aae2f2249265",
   "metadata": {},
   "outputs": [
    {
     "data": {
      "text/plain": [
       "'CU Boulder'"
      ]
     },
     "execution_count": 48,
     "metadata": {},
     "output_type": "execute_result"
    }
   ],
   "source": [
    "ralph.college"
   ]
  },
  {
   "cell_type": "code",
   "execution_count": 50,
   "id": "62f57148-f07b-4dde-9019-6899de24275f",
   "metadata": {},
   "outputs": [
    {
     "data": {
      "text/plain": [
       "{'name': 'Ralphie Buff', 'ID': 'rabu1212', 'year': 1}"
      ]
     },
     "execution_count": 50,
     "metadata": {},
     "output_type": "execute_result"
    }
   ],
   "source": [
    "vars(ralph)"
   ]
  },
  {
   "cell_type": "code",
   "execution_count": 52,
   "id": "d0089cb7-52a6-4f7d-91c1-c57c62d10419",
   "metadata": {},
   "outputs": [
    {
     "data": {
      "text/plain": [
       "{'name': 'Marie Curie', 'ID': 'macu2357', 'year': 4}"
      ]
     },
     "execution_count": 52,
     "metadata": {},
     "output_type": "execute_result"
    }
   ],
   "source": [
    "marie = CUStudent('Marie Curie', 'macu2357', 4)\n",
    "vars(marie)"
   ]
  },
  {
   "cell_type": "code",
   "execution_count": 54,
   "id": "65f2fa18-4193-4790-8893-255d6bacad13",
   "metadata": {},
   "outputs": [
    {
     "data": {
      "text/plain": [
       "'CU Boulder'"
      ]
     },
     "execution_count": 54,
     "metadata": {},
     "output_type": "execute_result"
    }
   ],
   "source": [
    "marie.college"
   ]
  },
  {
   "cell_type": "code",
   "execution_count": 56,
   "id": "b27a7636-9fe7-45f7-a383-e5762fb014a1",
   "metadata": {},
   "outputs": [],
   "source": [
    "marie.college = 'University of Colorado'"
   ]
  },
  {
   "cell_type": "code",
   "execution_count": 58,
   "id": "e55b127a-ceab-447e-87cc-2d756d3c35da",
   "metadata": {},
   "outputs": [
    {
     "data": {
      "text/plain": [
       "'University of Colorado'"
      ]
     },
     "execution_count": 58,
     "metadata": {},
     "output_type": "execute_result"
    }
   ],
   "source": [
    "marie.college"
   ]
  },
  {
   "cell_type": "code",
   "execution_count": 62,
   "id": "7e2a702c-6579-4dd7-aba7-b0cacfd8d6e5",
   "metadata": {},
   "outputs": [
    {
     "data": {
      "text/plain": [
       "'CU Boulder'"
      ]
     },
     "execution_count": 62,
     "metadata": {},
     "output_type": "execute_result"
    }
   ],
   "source": [
    "ralph.college"
   ]
  },
  {
   "cell_type": "markdown",
   "id": "1df5598d-e326-46fd-850c-27ba7051c2eb",
   "metadata": {},
   "source": [
    "### Write a function that takes a student name and generates an identikey using a random 4 digit integer"
   ]
  },
  {
   "cell_type": "code",
   "execution_count": 115,
   "id": "b09708bb-9ebb-4de2-87c7-25e4cdfbda08",
   "metadata": {},
   "outputs": [],
   "source": [
    "def create_id(name):\n",
    "    '''Take a name in the form 'First Last' and generate an identikey'''\n",
    "    ending = random.randint(1000,9999)\n",
    "    first, last = name.lower().split( )\n",
    "    return first[:2]+last[:2]+str(ending)"
   ]
  },
  {
   "cell_type": "code",
   "execution_count": 125,
   "id": "37c5e2e2-ca71-4257-b63c-b245133d5fde",
   "metadata": {},
   "outputs": [
    {
     "data": {
      "text/plain": [
       "'macu8928'"
      ]
     },
     "execution_count": 125,
     "metadata": {},
     "output_type": "execute_result"
    }
   ],
   "source": [
    "create_id('Marie Curie')"
   ]
  },
  {
   "cell_type": "code",
   "execution_count": 143,
   "id": "7f256605-24b0-43b2-b3e5-63bbc0f05b96",
   "metadata": {},
   "outputs": [],
   "source": [
    "class CUStudent:\n",
    "    '''Each object will correspond to an indivigual student record'''\n",
    "\n",
    "    college = 'CU Boulder'\n",
    "\n",
    "    def create_id(self,name):\n",
    "        '''Take a name in the form 'First Last' and generate an identikey'''\n",
    "        ending = random.randint(1000,9999)\n",
    "        first, last = name.lower().split( )\n",
    "        return first[:2]+last[:2]+str(ending)\n",
    "    \n",
    "    def __init__(self, student, identikey = '', year=1):# constructor \n",
    "        ''' Create a new student record'''\n",
    "        self.name = student\n",
    "        self.year = year\n",
    "        # if identikey is '', generate a new Identikey, else use the given ID\n",
    "        if identikey !='':\n",
    "            self.ID = identikey\n",
    "        else:\n",
    "            self.ID = self.create_id(student)"
   ]
  },
  {
   "cell_type": "code",
   "execution_count": 145,
   "id": "55fa45df-d6dc-4355-ab3a-a9c31079be1d",
   "metadata": {},
   "outputs": [
    {
     "data": {
      "text/plain": [
       "{'name': 'Marie Curie', 'year': 4, 'ID': 'macu4492'}"
      ]
     },
     "execution_count": 145,
     "metadata": {},
     "output_type": "execute_result"
    }
   ],
   "source": [
    "marie = CUStudent('Marie Curie', year = 4)\n",
    "vars(marie)"
   ]
  },
  {
   "cell_type": "markdown",
   "id": "fd151788-85ae-4657-91a3-0f10155aed2d",
   "metadata": {},
   "source": [
    "Add a method that welcomes a student by printing 'Welcome XXX'"
   ]
  },
  {
   "cell_type": "code",
   "execution_count": 148,
   "id": "e804332c-df90-471e-b7ae-19ffdf2cff4b",
   "metadata": {},
   "outputs": [],
   "source": [
    "class CUStudent(CUStudent):\n",
    "    def welcome(self):\n",
    "        print('Welcome '+ self.name +'!')\n",
    "    "
   ]
  },
  {
   "cell_type": "code",
   "execution_count": 156,
   "id": "7a4aa254-118a-43ac-b946-77f01ac71850",
   "metadata": {},
   "outputs": [
    {
     "name": "stdout",
     "output_type": "stream",
     "text": [
      "Welcome Marie Curie!\n"
     ]
    }
   ],
   "source": [
    "marie = CUStudent('Marie Curie', year = 4)\n",
    "marie.welcome()"
   ]
  },
  {
   "cell_type": "markdown",
   "id": "5fa9e860-1fd0-442c-b669-7d188237055e",
   "metadata": {},
   "source": [
    "### Parabola class\n",
    "\n",
    "for $y=ax^2+bx+c$"
   ]
  },
  {
   "cell_type": "code",
   "execution_count": 161,
   "id": "c9a080b1-c849-44f5-a731-88d1f4467bc3",
   "metadata": {},
   "outputs": [],
   "source": [
    "class Parabola:\n",
    "    '''Create a class for parabolas ax^2+bx+c'''\n",
    "\n",
    "    def __init__(self, a, b, c):\n",
    "        self.a = a\n",
    "        self.b = b\n",
    "        self.c = c\n",
    "    "
   ]
  },
  {
   "cell_type": "code",
   "execution_count": 163,
   "id": "0938ea75-1cf1-4a17-bb52-d591c52e6278",
   "metadata": {},
   "outputs": [
    {
     "data": {
      "text/plain": [
       "{'a': 1, 'b': -4, 'c': 5}"
      ]
     },
     "execution_count": 163,
     "metadata": {},
     "output_type": "execute_result"
    }
   ],
   "source": [
    "parab = Parabola(1,-4,5)\n",
    "vars(parab)"
   ]
  },
  {
   "cell_type": "markdown",
   "id": "23a2fe64-ff46-487e-8b6e-c51b53eab2d5",
   "metadata": {},
   "source": [
    "Add methods:\n",
    "* `.dir()` returns 'up' or 'down' for the direction of the parabola opening\n",
    "* `.eval(x)` returns the y value for a parabola given x"
   ]
  },
  {
   "cell_type": "code",
   "execution_count": 200,
   "id": "13ed7649-2714-4f7d-a728-ade826a8c41d",
   "metadata": {},
   "outputs": [],
   "source": [
    "class Parabola(Parabola):\n",
    "\n",
    "    def dir(self):\n",
    "        '''Return 'up' or 'down' for parabola direction'''\n",
    "        return 'up' if self.a>0 else 'down'\n",
    "    def eval(self,x):\n",
    "        return self.a*x*x+self.b*x+self.c\n",
    "\n",
    "\n",
    "    def __call__(self, x): #shorthand for the previous function\n",
    "        return self.eval(x)"
   ]
  },
  {
   "cell_type": "code",
   "execution_count": 202,
   "id": "b03c58f2-6f70-4291-b007-e334993de607",
   "metadata": {},
   "outputs": [
    {
     "data": {
      "text/plain": [
       "'down'"
      ]
     },
     "execution_count": 202,
     "metadata": {},
     "output_type": "execute_result"
    }
   ],
   "source": [
    "parab = Parabola(-1,-4,5)\n",
    "parab.dir()"
   ]
  },
  {
   "cell_type": "code",
   "execution_count": 204,
   "id": "e24053a0-5684-479d-9da3-bb81f8273f2b",
   "metadata": {},
   "outputs": [
    {
     "data": {
      "text/plain": [
       "8"
      ]
     },
     "execution_count": 204,
     "metadata": {},
     "output_type": "execute_result"
    }
   ],
   "source": [
    "parab.eval(-3)"
   ]
  },
  {
   "cell_type": "code",
   "execution_count": 206,
   "id": "cc45dffd-a8b9-49aa-a264-1413042f8130",
   "metadata": {},
   "outputs": [
    {
     "data": {
      "text/plain": [
       "8"
      ]
     },
     "execution_count": 206,
     "metadata": {},
     "output_type": "execute_result"
    }
   ],
   "source": [
    "parab(-3)"
   ]
  },
  {
   "cell_type": "markdown",
   "id": "393ac42a-5b9d-4b71-b2f3-96a0f2b3e894",
   "metadata": {},
   "source": [
    "Add the methods:\n",
    "* `.axis()` returns the x-coordinate of the axis of symmetry\n",
    "* `.vertex()` returns the (x,y) coordinates of the vertex\n",
    "* `.roots()` returns the roots as (root1,root2) or returns np.nan if no roots"
   ]
  },
  {
   "cell_type": "code",
   "execution_count": 227,
   "id": "2d181283-ea0a-459a-b9f0-676df94369ef",
   "metadata": {},
   "outputs": [],
   "source": [
    "class Parabola(Parabola):\n",
    "    \n",
    "    def axis(self):\n",
    "        return -self.b/(2*self.a)\n",
    "\n",
    "    def vertex(self):\n",
    "        x = self.axis()\n",
    "        return (x, self.eval(x))\n",
    "\n",
    "    def roots(self):\n",
    "        discrim = self.b**2 -4*self.a*self.c\n",
    "        if discrim <0:\n",
    "            return np.nan\n",
    "        else:\n",
    "            dsqrt = discrim **0.5\n",
    "            root1 = (-self.b-dsqrt)/(2*self.a)\n",
    "            root2= (-self.b+dsqrt)/(2*self.a)\n",
    "        return (root1,root2)"
   ]
  },
  {
   "cell_type": "code",
   "execution_count": 235,
   "id": "6aebed51-0bd6-4218-bd4d-d80d1e2705fc",
   "metadata": {},
   "outputs": [
    {
     "data": {
      "text/plain": [
       "-2.0"
      ]
     },
     "execution_count": 235,
     "metadata": {},
     "output_type": "execute_result"
    }
   ],
   "source": [
    "parab = Parabola(-1,-4,5)\n",
    "parab.axis()"
   ]
  },
  {
   "cell_type": "code",
   "execution_count": 237,
   "id": "6e7d23f0-4ceb-4c4c-baa8-728e25e22feb",
   "metadata": {},
   "outputs": [
    {
     "data": {
      "text/plain": [
       "(-2.0, 9.0)"
      ]
     },
     "execution_count": 237,
     "metadata": {},
     "output_type": "execute_result"
    }
   ],
   "source": [
    "parab.vertex()"
   ]
  },
  {
   "cell_type": "code",
   "execution_count": 239,
   "id": "9abe705d-bde4-4d50-9a87-4daa3c043198",
   "metadata": {},
   "outputs": [
    {
     "data": {
      "text/plain": [
       "(1.0, -5.0)"
      ]
     },
     "execution_count": 239,
     "metadata": {},
     "output_type": "execute_result"
    }
   ],
   "source": [
    "parab.roots()"
   ]
  },
  {
   "cell_type": "code",
   "execution_count": null,
   "id": "ac65c4a3-185d-45ac-ad41-34f9bdb64f76",
   "metadata": {},
   "outputs": [],
   "source": []
  }
 ],
 "metadata": {
  "kernelspec": {
   "display_name": "Python 3 (ipykernel)",
   "language": "python",
   "name": "python3"
  },
  "language_info": {
   "codemirror_mode": {
    "name": "ipython",
    "version": 3
   },
   "file_extension": ".py",
   "mimetype": "text/x-python",
   "name": "python",
   "nbconvert_exporter": "python",
   "pygments_lexer": "ipython3",
   "version": "3.12.4"
  }
 },
 "nbformat": 4,
 "nbformat_minor": 5
}
