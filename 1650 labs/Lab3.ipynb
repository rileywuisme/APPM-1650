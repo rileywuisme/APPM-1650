{
 "cells": [
  {
   "cell_type": "markdown",
   "metadata": {},
   "source": [
    "# Lab 3\n",
    "\n",
    "___"
   ]
  },
  {
   "cell_type": "markdown",
   "metadata": {
    "tags": []
   },
   "source": [
    "### Enter the Lab3 password as a string"
   ]
  },
  {
   "cell_type": "code",
   "execution_count": 461,
   "metadata": {},
   "outputs": [],
   "source": [
    "password = 'eggplant'"
   ]
  },
  {
   "cell_type": "code",
   "execution_count": 462,
   "metadata": {},
   "outputs": [],
   "source": [
    "import math"
   ]
  },
  {
   "cell_type": "markdown",
   "metadata": {},
   "source": [
    "### Creating Lists\n",
    "\n",
    "Use the `range` generator and the `list` function to **create the following lists**. (*Do not* write out all the elements.) Assign the lists to the variables `list1`, `list2`, etc.\n",
    "\n",
    " ```\n",
    "list1: [21, 22, 23, 24, 25]  \n",
    "list2: [7, 14, 21, 28, ..., 70]\n",
    "list3: [-65, -55, -45, ..., -5]  \n",
    "list4: [19, 17, 15, ..., 1]\n",
    " ```"
   ]
  },
  {
   "cell_type": "code",
   "execution_count": 464,
   "metadata": {},
   "outputs": [
    {
     "data": {
      "text/plain": [
       "[21, 22, 23, 24, 25]"
      ]
     },
     "execution_count": 464,
     "metadata": {},
     "output_type": "execute_result"
    }
   ],
   "source": [
    "list1 = list(range(21, 26))\n",
    "list1"
   ]
  },
  {
   "cell_type": "code",
   "execution_count": 465,
   "metadata": {},
   "outputs": [
    {
     "data": {
      "text/plain": [
       "[7, 14, 21, 28, 35, 42, 49, 56, 63, 70]"
      ]
     },
     "execution_count": 465,
     "metadata": {},
     "output_type": "execute_result"
    }
   ],
   "source": [
    "list2 = list(range(7, 71, 7))\n",
    "list2"
   ]
  },
  {
   "cell_type": "code",
   "execution_count": 466,
   "metadata": {},
   "outputs": [
    {
     "data": {
      "text/plain": [
       "[-65, -55, -45, -35, -25, -15, -5]"
      ]
     },
     "execution_count": 466,
     "metadata": {},
     "output_type": "execute_result"
    }
   ],
   "source": [
    "list3 = list(range(-65, -4, 10))\n",
    "list3"
   ]
  },
  {
   "cell_type": "code",
   "execution_count": 467,
   "metadata": {},
   "outputs": [
    {
     "data": {
      "text/plain": [
       "[19, 17, 15, 13, 11, 9, 7, 5, 3, 1]"
      ]
     },
     "execution_count": 467,
     "metadata": {},
     "output_type": "execute_result"
    }
   ],
   "source": [
    "list4 = list(range(19, 0, -2))\n",
    "list4"
   ]
  },
  {
   "cell_type": "markdown",
   "metadata": {},
   "source": [
    "**Create the 12-element list** (without writing out all the elements).\n",
    "\n",
    "```\n",
    "list5: [7, 11, 7, 11, ..., 7, 11]\n",
    "``` \n"
   ]
  },
  {
   "cell_type": "code",
   "execution_count": 469,
   "metadata": {},
   "outputs": [
    {
     "data": {
      "text/plain": [
       "[7, 11, 7, 11, 7, 11, 7, 11, 7, 11, 7, 11]"
      ]
     },
     "execution_count": 469,
     "metadata": {},
     "output_type": "execute_result"
    }
   ],
   "source": [
    "list5 = list(6 * (7, 11))\n",
    "list5"
   ]
  },
  {
   "cell_type": "markdown",
   "metadata": {},
   "source": [
    "### List Slicing\n",
    "\n",
    "Let `alist = list(range(11, 100, 11))`. (Can you predict what the list elements will be?)\n",
    "\n",
    "**Use list slicing** to select the following elements from `alist`.\n",
    "\n",
    "* [11, 22, 33, 44, 55]\n",
    "* [55, 66, 77, 88, 99]\n",
    "* 99\n",
    "* [33, 55, 77, 99]\n",
    "* [77, 66, 55, 44]"
   ]
  },
  {
   "cell_type": "code",
   "execution_count": 471,
   "metadata": {},
   "outputs": [],
   "source": [
    "alist = list(range(11, 100, 11))"
   ]
  },
  {
   "cell_type": "code",
   "execution_count": 472,
   "metadata": {},
   "outputs": [
    {
     "data": {
      "text/plain": [
       "[11, 22, 33, 44, 55]"
      ]
     },
     "execution_count": 472,
     "metadata": {},
     "output_type": "execute_result"
    }
   ],
   "source": [
    "alist[0:5]"
   ]
  },
  {
   "cell_type": "code",
   "execution_count": 473,
   "metadata": {},
   "outputs": [
    {
     "data": {
      "text/plain": [
       "[55, 66, 77, 88, 99]"
      ]
     },
     "execution_count": 473,
     "metadata": {},
     "output_type": "execute_result"
    }
   ],
   "source": [
    "alist[4:9]"
   ]
  },
  {
   "cell_type": "code",
   "execution_count": 474,
   "metadata": {},
   "outputs": [
    {
     "data": {
      "text/plain": [
       "99"
      ]
     },
     "execution_count": 474,
     "metadata": {},
     "output_type": "execute_result"
    }
   ],
   "source": [
    "alist[8]"
   ]
  },
  {
   "cell_type": "code",
   "execution_count": 475,
   "metadata": {},
   "outputs": [
    {
     "data": {
      "text/plain": [
       "[33, 55, 77, 99]"
      ]
     },
     "execution_count": 475,
     "metadata": {},
     "output_type": "execute_result"
    }
   ],
   "source": [
    "alist[2:9:2]"
   ]
  },
  {
   "cell_type": "code",
   "execution_count": 476,
   "metadata": {},
   "outputs": [
    {
     "data": {
      "text/plain": [
       "[77, 66, 55, 44]"
      ]
     },
     "execution_count": 476,
     "metadata": {},
     "output_type": "execute_result"
    }
   ],
   "source": [
    "alist[6:2:-1]"
   ]
  },
  {
   "cell_type": "markdown",
   "metadata": {},
   "source": [
    "### Generating Non-Integer Lists\n",
    "\n",
    "The `range` generator works for integer values only. **Create the following lists** using a `for` loop. (For each list there is more than one solution.)\n",
    "\n",
    "```\n",
    "list6: [0.5, 1.5, 2.5, ..., 20.5]\n",
    "\n",
    "list7: [0.06, 0.08, 0.1, ..., 0.4]\n",
    "```"
   ]
  },
  {
   "cell_type": "code",
   "execution_count": 478,
   "metadata": {},
   "outputs": [
    {
     "data": {
      "text/plain": [
       "[0.5,\n",
       " 1.5,\n",
       " 2.5,\n",
       " 3.5,\n",
       " 4.5,\n",
       " 5.5,\n",
       " 6.5,\n",
       " 7.5,\n",
       " 8.5,\n",
       " 9.5,\n",
       " 10.5,\n",
       " 11.5,\n",
       " 12.5,\n",
       " 13.5,\n",
       " 14.5,\n",
       " 15.5,\n",
       " 16.5,\n",
       " 17.5,\n",
       " 18.5,\n",
       " 19.5,\n",
       " 20.5]"
      ]
     },
     "execution_count": 478,
     "metadata": {},
     "output_type": "execute_result"
    }
   ],
   "source": [
    "list6 = []\n",
    "\n",
    "for nums in range(1,43,2):\n",
    "    list6.append (nums/2)\n",
    "\n",
    "list6"
   ]
  },
  {
   "cell_type": "code",
   "execution_count": 479,
   "metadata": {},
   "outputs": [
    {
     "data": {
      "text/plain": [
       "[0.06,\n",
       " 0.08,\n",
       " 0.1,\n",
       " 0.12,\n",
       " 0.14,\n",
       " 0.16,\n",
       " 0.18,\n",
       " 0.2,\n",
       " 0.22,\n",
       " 0.24,\n",
       " 0.26,\n",
       " 0.28,\n",
       " 0.3,\n",
       " 0.32,\n",
       " 0.34,\n",
       " 0.36,\n",
       " 0.38,\n",
       " 0.4]"
      ]
     },
     "execution_count": 479,
     "metadata": {},
     "output_type": "execute_result"
    }
   ],
   "source": [
    "list7 = []\n",
    "\n",
    "for nums in range(6, 41, 2):\n",
    "    list7.append (nums/100)\n",
    "\n",
    "list7"
   ]
  },
  {
   "cell_type": "markdown",
   "metadata": {},
   "source": [
    "### Duplicate a List\n",
    "Write a function **`dup_list(alist, n)`** that duplicates the elements in a list `n` times. If `alist` is not an object of type `list` or if `n` is not a positive `int`, return the empty list.\n",
    "\n",
    "Examples:  \n",
    "`dup_list([20, 'cu'], 3)` returns `[20, 'cu', 20, 'cu', 20, 'cu']`.<br>\n",
    "`dup_list([5, 6], 'cu')` returns `[]`.<br>\n",
    "`dup_list('cu', 3)` returns `[]`.<br>"
   ]
  },
  {
   "cell_type": "code",
   "execution_count": 481,
   "metadata": {},
   "outputs": [],
   "source": [
    "def dup_list(alist, n):\n",
    "    if type(alist) != list or type(n) != int or n <= 0:\n",
    "        return []\n",
    "    else:\n",
    "        return alist * n"
   ]
  },
  {
   "cell_type": "code",
   "execution_count": 482,
   "metadata": {},
   "outputs": [
    {
     "data": {
      "text/plain": [
       "[20, 'cu', 20, 'cu', 20, 'cu']"
      ]
     },
     "execution_count": 482,
     "metadata": {},
     "output_type": "execute_result"
    }
   ],
   "source": [
    "dup_list([20, 'cu'], 3)"
   ]
  },
  {
   "cell_type": "code",
   "execution_count": 483,
   "metadata": {},
   "outputs": [
    {
     "data": {
      "text/plain": [
       "[]"
      ]
     },
     "execution_count": 483,
     "metadata": {},
     "output_type": "execute_result"
    }
   ],
   "source": [
    "dup_list([5, 6], 'cu')"
   ]
  },
  {
   "cell_type": "code",
   "execution_count": 484,
   "metadata": {},
   "outputs": [
    {
     "data": {
      "text/plain": [
       "[]"
      ]
     },
     "execution_count": 484,
     "metadata": {},
     "output_type": "execute_result"
    }
   ],
   "source": [
    "dup_list('cu', 3)"
   ]
  },
  {
   "cell_type": "markdown",
   "metadata": {},
   "source": [
    "### Plurals\n",
    "Write a function **`plurals(words)`** that takes a list of strings and **prints** each string on a separate line, adding `'s'` to the end of each string.\n",
    "\n",
    "Example:<br>\n",
    "`plurals(['cow', 'pig', 'frog'])` displays\n",
    "```\n",
    "cows\n",
    "pigs\n",
    "frogs\n",
    "```"
   ]
  },
  {
   "cell_type": "code",
   "execution_count": 486,
   "metadata": {},
   "outputs": [],
   "source": [
    "def plurals(words):\n",
    "    for word in words: \n",
    "        print (word + 's')"
   ]
  },
  {
   "cell_type": "code",
   "execution_count": 487,
   "metadata": {},
   "outputs": [
    {
     "name": "stdout",
     "output_type": "stream",
     "text": [
      "cows\n",
      "pigs\n",
      "frogs\n"
     ]
    }
   ],
   "source": [
    "plurals(['cow', 'pig', 'frog'])"
   ]
  },
  {
   "cell_type": "markdown",
   "metadata": {},
   "source": [
    "### Counting Negative Numbers\n",
    "Write a function **`neg_ct(nums)`** that takes a list of numbers and returns the number of elements that are negative. Use a `for` loop.\n",
    "\n",
    "Examples:  \n",
    "`neg_ct([3, -5, 6, -8.2])` returns `2`.<br>\n",
    "`neg_ct([3, 5, 6])` returns `0`."
   ]
  },
  {
   "cell_type": "code",
   "execution_count": 489,
   "metadata": {},
   "outputs": [],
   "source": [
    "def neg_ct(nums):\n",
    "    count = 0\n",
    "    for num in nums:\n",
    "        if num < 0:\n",
    "            count += 1\n",
    "\n",
    "    return count"
   ]
  },
  {
   "cell_type": "code",
   "execution_count": 490,
   "metadata": {},
   "outputs": [
    {
     "data": {
      "text/plain": [
       "2"
      ]
     },
     "execution_count": 490,
     "metadata": {},
     "output_type": "execute_result"
    }
   ],
   "source": [
    "neg_ct([3, -5, 6, -8.2])"
   ]
  },
  {
   "cell_type": "code",
   "execution_count": 491,
   "metadata": {},
   "outputs": [
    {
     "data": {
      "text/plain": [
       "0"
      ]
     },
     "execution_count": 491,
     "metadata": {},
     "output_type": "execute_result"
    }
   ],
   "source": [
    "neg_ct([3, 5, 6])"
   ]
  },
  {
   "cell_type": "markdown",
   "metadata": {},
   "source": [
    "### Summing Negative Numbers\n",
    "Write a function **`neg_sum(nums)`** that takes a list of numbers and returns the sum of the negative elements. Use a `for` loop.\n",
    "\n",
    "Examples:  \n",
    "`neg_sum([3, -5, 6, -8.2])` returns `-13.2`.<br>\n",
    "`neg_sum([3, 5, 6])` returns `0`."
   ]
  },
  {
   "cell_type": "code",
   "execution_count": 493,
   "metadata": {},
   "outputs": [],
   "source": [
    "def neg_sum(nums):\n",
    "    sum = 0\n",
    "    for num in nums:\n",
    "        if num < 0: \n",
    "            sum = sum + num\n",
    "\n",
    "    return sum"
   ]
  },
  {
   "cell_type": "code",
   "execution_count": 494,
   "metadata": {},
   "outputs": [
    {
     "data": {
      "text/plain": [
       "-13.2"
      ]
     },
     "execution_count": 494,
     "metadata": {},
     "output_type": "execute_result"
    }
   ],
   "source": [
    "neg_sum([3, -5, 6, -8.2])"
   ]
  },
  {
   "cell_type": "code",
   "execution_count": 495,
   "metadata": {},
   "outputs": [
    {
     "data": {
      "text/plain": [
       "0"
      ]
     },
     "execution_count": 495,
     "metadata": {},
     "output_type": "execute_result"
    }
   ],
   "source": [
    "neg_sum([3, 5, 6])"
   ]
  },
  {
   "cell_type": "markdown",
   "metadata": {},
   "source": [
    "### Replacing Negative Numbers\n",
    "Write a function **`neg_replace(nums)`** that takes a list of numbers and returns a new list with any negative elements replaced by 0. Use a `for` loop.\n",
    "\n",
    "Examples:  \n",
    "`neg_replace([3, -5, 6, -8.2])` returns `[3, 0, 6, 0]`.<br>\n",
    "`neg_replace([3, 5, 6])` returns `[3, 5, 6]`."
   ]
  },
  {
   "cell_type": "code",
   "execution_count": 497,
   "metadata": {},
   "outputs": [],
   "source": [
    "def neg_replace(nums):\n",
    "    list = []\n",
    "    for num in nums: \n",
    "        if num > 0:\n",
    "            list = list + [num]\n",
    "        elif num <= 0:\n",
    "            list += [0]\n",
    "    return list"
   ]
  },
  {
   "cell_type": "code",
   "execution_count": 498,
   "metadata": {},
   "outputs": [
    {
     "data": {
      "text/plain": [
       "[3, 0, 6, 0]"
      ]
     },
     "execution_count": 498,
     "metadata": {},
     "output_type": "execute_result"
    }
   ],
   "source": [
    "neg_replace([3, -5, 6, -8.2])"
   ]
  },
  {
   "cell_type": "code",
   "execution_count": 499,
   "metadata": {},
   "outputs": [
    {
     "data": {
      "text/plain": [
       "[3, 5, 6]"
      ]
     },
     "execution_count": 499,
     "metadata": {},
     "output_type": "execute_result"
    }
   ],
   "source": [
    "neg_replace([3, 5, 6])"
   ]
  },
  {
   "cell_type": "markdown",
   "metadata": {},
   "source": [
    "### Extracting Negative Numbers\n",
    "Write a function **`neg_extract(nums)`** that takes a list of numbers and returns a list of the elements that are negative. If none, the function returns an empty list. Use a `for` loop.\n",
    "\n",
    "Examples:  \n",
    "`neg_extract([3, -5, 6, -8.2])` returns `[-5, -8.2]`.<br>\n",
    "`neg_extract([3, 5, 6])` returns `[]`."
   ]
  },
  {
   "cell_type": "code",
   "execution_count": 501,
   "metadata": {},
   "outputs": [],
   "source": [
    "def neg_extract(nums):\n",
    "    list = []\n",
    "    for num in nums:\n",
    "        if num < 0:\n",
    "            list += [num]\n",
    "    return list"
   ]
  },
  {
   "cell_type": "code",
   "execution_count": 502,
   "metadata": {},
   "outputs": [
    {
     "data": {
      "text/plain": [
       "[-5, -8.2]"
      ]
     },
     "execution_count": 502,
     "metadata": {},
     "output_type": "execute_result"
    }
   ],
   "source": [
    "neg_extract([3, -5, 6, -8.2])"
   ]
  },
  {
   "cell_type": "code",
   "execution_count": 503,
   "metadata": {},
   "outputs": [
    {
     "data": {
      "text/plain": [
       "[]"
      ]
     },
     "execution_count": 503,
     "metadata": {},
     "output_type": "execute_result"
    }
   ],
   "source": [
    "neg_extract([3, 5, 6])"
   ]
  },
  {
   "cell_type": "markdown",
   "metadata": {},
   "source": [
    "---\n",
    "\n",
    "# Extra Problems\n",
    "Work on these problems after completing the previous exercises."
   ]
  },
  {
   "cell_type": "markdown",
   "metadata": {
    "tags": []
   },
   "source": [
    "### Divisibility Rules\n",
    "\n",
    "To determine (without a calculator) whether a number $n$ is divisible by another number $d$, there are shortcuts for some values of $d$. For example, if $d=2, 5,$ or $10$, examining the units digit of $n$ is sufficient. If $d=4$ one can check whether the rightmost two digits of $n$ are divisible by $4$ and if so, then $n$ also is divisible by $4$. *(Why does that work?)*"
   ]
  },
  {
   "cell_type": "markdown",
   "metadata": {
    "tags": []
   },
   "source": [
    "#### Divisibility by 13\n",
    "To check whether a 4-digit, 5-digit, or 6-digit number $n$ is divisible by $13$, one can take the rightmost 3 digits and subtract the remaining digits to the left. If the result is divisible by $13$, then so is $n$. For example, let $n=85475$. Because $475 - 85 = 390$ is divisible by $13$, then $n$ also is divisible by $13$. This method reduces a 5-digit division problem into a simpler 3-digit one. *(Why does this method work?)*\n",
    "\n",
    "Write a function **`div_by_13(n)`** that **uses this method** to determine if `n` is divisible by $13$, returning `True` or `False`. Assume that `n` is a 4-digit, 5-digit, or 6-digit `int`."
   ]
  },
  {
   "cell_type": "code",
   "execution_count": null,
   "metadata": {},
   "outputs": [],
   "source": []
  },
  {
   "cell_type": "code",
   "execution_count": null,
   "metadata": {},
   "outputs": [],
   "source": []
  },
  {
   "cell_type": "markdown",
   "metadata": {},
   "source": [
    "Use a `for` loop to **check that `div_by_13` returns the correct answer** for all 4-digit, 5-digit, or 6-digit integers by comparing to `n % 13`."
   ]
  },
  {
   "cell_type": "code",
   "execution_count": null,
   "metadata": {},
   "outputs": [],
   "source": []
  },
  {
   "cell_type": "markdown",
   "metadata": {
    "tags": []
   },
   "source": [
    "### Intersection of Two Lines\n",
    "Write a function **`intersect(line1, line2)`** that returns the `(x,y)` coordinates of the intersection point of two lines. If none, the function returns `None`. Assume that each line $y=mx+b$ is represented by a tuple `(m, b)`.\n",
    "\n",
    "Examples:<br>\n",
    "`intersect((2, 3), (-3, 4))` returns `(0.2, 3.4)`.<br>\n",
    "`intersect((2, 3), (2, 4))` displays nothing and returns `None`.\n"
   ]
  },
  {
   "cell_type": "markdown",
   "metadata": {},
   "source": [
    "*Solution:* Given $y = m_1 x + b_1$ and $y = m_2 x + b_2$, the intersection point, if any, will occur where the two equations are equal at $x = (b_2-b_1) / (m_1 - m_2)$."
   ]
  },
  {
   "cell_type": "code",
   "execution_count": null,
   "metadata": {},
   "outputs": [],
   "source": []
  },
  {
   "cell_type": "code",
   "execution_count": null,
   "metadata": {},
   "outputs": [],
   "source": []
  },
  {
   "cell_type": "markdown",
   "metadata": {
    "tags": []
   },
   "source": [
    "### Triangle Angles\n",
    "\n",
    "Write a function **`triangle_angles(a, b, c)`** that takes the positive side lengths of a triangle and returns a tuple `(A, B, C)` containing the radian measures of angles $A$ (opposite side $a$), $B$ (opposite side $b$), and $C$ (opposite side $c$). \n",
    "\n",
    "*Hint:* Use the *Law of Cosines* $c^2 = a^2 + b^2 - 2ab\\cos C$.\n",
    "\n",
    "Example:  \n",
    "`triangle_angles(3, 4, 5)` returns `(0.643501, 0.927295, 1.570796)`."
   ]
  },
  {
   "cell_type": "code",
   "execution_count": null,
   "metadata": {},
   "outputs": [],
   "source": []
  },
  {
   "cell_type": "code",
   "execution_count": null,
   "metadata": {},
   "outputs": [],
   "source": []
  }
 ],
 "metadata": {
  "kernelspec": {
   "display_name": "Python 3 (ipykernel)",
   "language": "python",
   "name": "python3"
  },
  "language_info": {
   "codemirror_mode": {
    "name": "ipython",
    "version": 3
   },
   "file_extension": ".py",
   "mimetype": "text/x-python",
   "name": "python",
   "nbconvert_exporter": "python",
   "pygments_lexer": "ipython3",
   "version": "3.12.4"
  }
 },
 "nbformat": 4,
 "nbformat_minor": 4
}
