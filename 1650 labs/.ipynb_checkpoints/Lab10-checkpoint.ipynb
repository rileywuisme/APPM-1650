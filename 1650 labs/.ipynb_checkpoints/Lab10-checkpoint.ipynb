{
 "cells": [
  {
   "cell_type": "markdown",
   "metadata": {},
   "source": [
    "# Lab 10"
   ]
  },
  {
   "cell_type": "markdown",
   "metadata": {
    "tags": []
   },
   "source": [
    "### Enter the Lab10 password as a string"
   ]
  },
  {
   "cell_type": "code",
   "execution_count": 2,
   "metadata": {},
   "outputs": [],
   "source": [
    "password = 'avatar'"
   ]
  },
  {
   "cell_type": "markdown",
   "metadata": {},
   "source": [
    "___"
   ]
  },
  {
   "cell_type": "code",
   "execution_count": 4,
   "metadata": {},
   "outputs": [],
   "source": [
    "import numpy as np\n",
    "import pandas as pd\n",
    "import matplotlib.pyplot as plt"
   ]
  },
  {
   "cell_type": "markdown",
   "metadata": {},
   "source": [
    "### College Majors\n",
    "\n",
    "The file `'college-majors.csv'` is a [fivethirtyeight.com dataset](https://github.com/fivethirtyeight/data/tree/master/college-majors) based on the American Community Survey 2010-2012. It lists the college majors, salaries, and employment status for respondents under the age of 28. \n",
    "\n",
    "* **Major_code:** Major code\n",
    "* **Major:** Major description\n",
    "* **Major_category:** Category of major\n",
    "* **Men:** Male graduates\n",
    "* **Women:** Female graduates\n",
    "* **Sample_size:** Sample size of full-time, year-round only (for earnings)\n",
    "* **Employed:** Number employed\n",
    "* **Full_time:** Employed 35 hours or more\n",
    "* **Part_time:** Employed less than 35 hours\n",
    "* **Unemployed:** Number unemployed\n",
    "* **Median:** Median earnings of full-time, year-round workers\n",
    "* **P25th:** 25th percentile of earnings\n",
    "* **P75th:** 75th percentile of earnings\n",
    "\n",
    "___\n",
    "\n",
    "**Read in the file** `'college-majors.csv'` as a pandas dataframe `df`. Use `pd.read_csv()` with `Major` as the `index_col`. "
   ]
  },
  {
   "cell_type": "code",
   "execution_count": 58,
   "metadata": {},
   "outputs": [
    {
     "data": {
      "text/html": [
       "<div>\n",
       "<style scoped>\n",
       "    .dataframe tbody tr th:only-of-type {\n",
       "        vertical-align: middle;\n",
       "    }\n",
       "\n",
       "    .dataframe tbody tr th {\n",
       "        vertical-align: top;\n",
       "    }\n",
       "\n",
       "    .dataframe thead th {\n",
       "        text-align: right;\n",
       "    }\n",
       "</style>\n",
       "<table border=\"1\" class=\"dataframe\">\n",
       "  <thead>\n",
       "    <tr style=\"text-align: right;\">\n",
       "      <th></th>\n",
       "      <th>Major_code</th>\n",
       "      <th>Major_category</th>\n",
       "      <th>Men</th>\n",
       "      <th>Women</th>\n",
       "      <th>Sample_size</th>\n",
       "      <th>Employed</th>\n",
       "      <th>Full_time</th>\n",
       "      <th>Part_time</th>\n",
       "      <th>Unemployed</th>\n",
       "      <th>Median</th>\n",
       "      <th>P25th</th>\n",
       "      <th>P75th</th>\n",
       "      <th>College_jobs</th>\n",
       "      <th>Non_college_jobs</th>\n",
       "      <th>Low_wage_jobs</th>\n",
       "    </tr>\n",
       "    <tr>\n",
       "      <th>Major</th>\n",
       "      <th></th>\n",
       "      <th></th>\n",
       "      <th></th>\n",
       "      <th></th>\n",
       "      <th></th>\n",
       "      <th></th>\n",
       "      <th></th>\n",
       "      <th></th>\n",
       "      <th></th>\n",
       "      <th></th>\n",
       "      <th></th>\n",
       "      <th></th>\n",
       "      <th></th>\n",
       "      <th></th>\n",
       "      <th></th>\n",
       "    </tr>\n",
       "  </thead>\n",
       "  <tbody>\n",
       "    <tr>\n",
       "      <th>ACCOUNTING</th>\n",
       "      <td>6201</td>\n",
       "      <td>Business</td>\n",
       "      <td>94519.0</td>\n",
       "      <td>104114.0</td>\n",
       "      <td>2042</td>\n",
       "      <td>165527</td>\n",
       "      <td>151967</td>\n",
       "      <td>27693</td>\n",
       "      <td>12411</td>\n",
       "      <td>45000</td>\n",
       "      <td>34000</td>\n",
       "      <td>56000</td>\n",
       "      <td>11417</td>\n",
       "      <td>39323</td>\n",
       "      <td>10886</td>\n",
       "    </tr>\n",
       "    <tr>\n",
       "      <th>ACTUARIAL SCIENCE</th>\n",
       "      <td>6202</td>\n",
       "      <td>Business</td>\n",
       "      <td>2110.0</td>\n",
       "      <td>1667.0</td>\n",
       "      <td>51</td>\n",
       "      <td>2912</td>\n",
       "      <td>2924</td>\n",
       "      <td>296</td>\n",
       "      <td>308</td>\n",
       "      <td>62000</td>\n",
       "      <td>53000</td>\n",
       "      <td>72000</td>\n",
       "      <td>1768</td>\n",
       "      <td>314</td>\n",
       "      <td>259</td>\n",
       "    </tr>\n",
       "    <tr>\n",
       "      <th>ADVERTISING AND PUBLIC RELATIONS</th>\n",
       "      <td>1904</td>\n",
       "      <td>Communications &amp; Journalism</td>\n",
       "      <td>12862.0</td>\n",
       "      <td>40300.0</td>\n",
       "      <td>681</td>\n",
       "      <td>45326</td>\n",
       "      <td>38815</td>\n",
       "      <td>10948</td>\n",
       "      <td>3305</td>\n",
       "      <td>35000</td>\n",
       "      <td>27000</td>\n",
       "      <td>47000</td>\n",
       "      <td>9659</td>\n",
       "      <td>23059</td>\n",
       "      <td>7214</td>\n",
       "    </tr>\n",
       "    <tr>\n",
       "      <th>AEROSPACE ENGINEERING</th>\n",
       "      <td>2401</td>\n",
       "      <td>Engineering</td>\n",
       "      <td>12953.0</td>\n",
       "      <td>2105.0</td>\n",
       "      <td>147</td>\n",
       "      <td>11391</td>\n",
       "      <td>11106</td>\n",
       "      <td>2724</td>\n",
       "      <td>794</td>\n",
       "      <td>60000</td>\n",
       "      <td>42000</td>\n",
       "      <td>70000</td>\n",
       "      <td>8184</td>\n",
       "      <td>2425</td>\n",
       "      <td>372</td>\n",
       "    </tr>\n",
       "    <tr>\n",
       "      <th>AGRICULTURAL ECONOMICS</th>\n",
       "      <td>1102</td>\n",
       "      <td>Agriculture &amp; Natural Resources</td>\n",
       "      <td>1749.0</td>\n",
       "      <td>690.0</td>\n",
       "      <td>44</td>\n",
       "      <td>2174</td>\n",
       "      <td>1819</td>\n",
       "      <td>620</td>\n",
       "      <td>182</td>\n",
       "      <td>40000</td>\n",
       "      <td>27000</td>\n",
       "      <td>54000</td>\n",
       "      <td>535</td>\n",
       "      <td>893</td>\n",
       "      <td>94</td>\n",
       "    </tr>\n",
       "    <tr>\n",
       "      <th>...</th>\n",
       "      <td>...</td>\n",
       "      <td>...</td>\n",
       "      <td>...</td>\n",
       "      <td>...</td>\n",
       "      <td>...</td>\n",
       "      <td>...</td>\n",
       "      <td>...</td>\n",
       "      <td>...</td>\n",
       "      <td>...</td>\n",
       "      <td>...</td>\n",
       "      <td>...</td>\n",
       "      <td>...</td>\n",
       "      <td>...</td>\n",
       "      <td>...</td>\n",
       "      <td>...</td>\n",
       "    </tr>\n",
       "    <tr>\n",
       "      <th>TRANSPORTATION SCIENCES AND TECHNOLOGIES</th>\n",
       "      <td>5901</td>\n",
       "      <td>Industrial Arts &amp; Consumer Services</td>\n",
       "      <td>13257.0</td>\n",
       "      <td>1893.0</td>\n",
       "      <td>180</td>\n",
       "      <td>12266</td>\n",
       "      <td>11688</td>\n",
       "      <td>2633</td>\n",
       "      <td>962</td>\n",
       "      <td>35000</td>\n",
       "      <td>22000</td>\n",
       "      <td>52000</td>\n",
       "      <td>4575</td>\n",
       "      <td>6147</td>\n",
       "      <td>557</td>\n",
       "    </tr>\n",
       "    <tr>\n",
       "      <th>TREATMENT THERAPY PROFESSIONS</th>\n",
       "      <td>6109</td>\n",
       "      <td>Health</td>\n",
       "      <td>13487.0</td>\n",
       "      <td>35004.0</td>\n",
       "      <td>224</td>\n",
       "      <td>37861</td>\n",
       "      <td>30020</td>\n",
       "      <td>12346</td>\n",
       "      <td>2409</td>\n",
       "      <td>33000</td>\n",
       "      <td>24000</td>\n",
       "      <td>41000</td>\n",
       "      <td>22215</td>\n",
       "      <td>14616</td>\n",
       "      <td>4468</td>\n",
       "    </tr>\n",
       "    <tr>\n",
       "      <th>UNITED STATES HISTORY</th>\n",
       "      <td>6403</td>\n",
       "      <td>Humanities &amp; Liberal Arts</td>\n",
       "      <td>1756.0</td>\n",
       "      <td>1323.0</td>\n",
       "      <td>22</td>\n",
       "      <td>2787</td>\n",
       "      <td>2103</td>\n",
       "      <td>839</td>\n",
       "      <td>138</td>\n",
       "      <td>40000</td>\n",
       "      <td>30000</td>\n",
       "      <td>42000</td>\n",
       "      <td>801</td>\n",
       "      <td>1591</td>\n",
       "      <td>302</td>\n",
       "    </tr>\n",
       "    <tr>\n",
       "      <th>VISUAL AND PERFORMING ARTS</th>\n",
       "      <td>6003</td>\n",
       "      <td>Arts</td>\n",
       "      <td>4133.0</td>\n",
       "      <td>12117.0</td>\n",
       "      <td>132</td>\n",
       "      <td>12870</td>\n",
       "      <td>8447</td>\n",
       "      <td>6253</td>\n",
       "      <td>1465</td>\n",
       "      <td>30000</td>\n",
       "      <td>22000</td>\n",
       "      <td>40000</td>\n",
       "      <td>3849</td>\n",
       "      <td>7635</td>\n",
       "      <td>2840</td>\n",
       "    </tr>\n",
       "    <tr>\n",
       "      <th>ZOOLOGY</th>\n",
       "      <td>3609</td>\n",
       "      <td>Biology &amp; Life Science</td>\n",
       "      <td>3050.0</td>\n",
       "      <td>5359.0</td>\n",
       "      <td>47</td>\n",
       "      <td>6259</td>\n",
       "      <td>5043</td>\n",
       "      <td>2190</td>\n",
       "      <td>304</td>\n",
       "      <td>26000</td>\n",
       "      <td>20000</td>\n",
       "      <td>39000</td>\n",
       "      <td>2771</td>\n",
       "      <td>2947</td>\n",
       "      <td>743</td>\n",
       "    </tr>\n",
       "  </tbody>\n",
       "</table>\n",
       "<p>173 rows × 15 columns</p>\n",
       "</div>"
      ],
      "text/plain": [
       "                                          Major_code  \\\n",
       "Major                                                  \n",
       "ACCOUNTING                                      6201   \n",
       "ACTUARIAL SCIENCE                               6202   \n",
       "ADVERTISING AND PUBLIC RELATIONS                1904   \n",
       "AEROSPACE ENGINEERING                           2401   \n",
       "AGRICULTURAL ECONOMICS                          1102   \n",
       "...                                              ...   \n",
       "TRANSPORTATION SCIENCES AND TECHNOLOGIES        5901   \n",
       "TREATMENT THERAPY PROFESSIONS                   6109   \n",
       "UNITED STATES HISTORY                           6403   \n",
       "VISUAL AND PERFORMING ARTS                      6003   \n",
       "ZOOLOGY                                         3609   \n",
       "\n",
       "                                                               Major_category  \\\n",
       "Major                                                                           \n",
       "ACCOUNTING                                                           Business   \n",
       "ACTUARIAL SCIENCE                                                    Business   \n",
       "ADVERTISING AND PUBLIC RELATIONS                  Communications & Journalism   \n",
       "AEROSPACE ENGINEERING                                             Engineering   \n",
       "AGRICULTURAL ECONOMICS                        Agriculture & Natural Resources   \n",
       "...                                                                       ...   \n",
       "TRANSPORTATION SCIENCES AND TECHNOLOGIES  Industrial Arts & Consumer Services   \n",
       "TREATMENT THERAPY PROFESSIONS                                          Health   \n",
       "UNITED STATES HISTORY                               Humanities & Liberal Arts   \n",
       "VISUAL AND PERFORMING ARTS                                               Arts   \n",
       "ZOOLOGY                                                Biology & Life Science   \n",
       "\n",
       "                                              Men     Women  Sample_size  \\\n",
       "Major                                                                      \n",
       "ACCOUNTING                                94519.0  104114.0         2042   \n",
       "ACTUARIAL SCIENCE                          2110.0    1667.0           51   \n",
       "ADVERTISING AND PUBLIC RELATIONS          12862.0   40300.0          681   \n",
       "AEROSPACE ENGINEERING                     12953.0    2105.0          147   \n",
       "AGRICULTURAL ECONOMICS                     1749.0     690.0           44   \n",
       "...                                           ...       ...          ...   \n",
       "TRANSPORTATION SCIENCES AND TECHNOLOGIES  13257.0    1893.0          180   \n",
       "TREATMENT THERAPY PROFESSIONS             13487.0   35004.0          224   \n",
       "UNITED STATES HISTORY                      1756.0    1323.0           22   \n",
       "VISUAL AND PERFORMING ARTS                 4133.0   12117.0          132   \n",
       "ZOOLOGY                                    3050.0    5359.0           47   \n",
       "\n",
       "                                          Employed  Full_time  Part_time  \\\n",
       "Major                                                                      \n",
       "ACCOUNTING                                  165527     151967      27693   \n",
       "ACTUARIAL SCIENCE                             2912       2924        296   \n",
       "ADVERTISING AND PUBLIC RELATIONS             45326      38815      10948   \n",
       "AEROSPACE ENGINEERING                        11391      11106       2724   \n",
       "AGRICULTURAL ECONOMICS                        2174       1819        620   \n",
       "...                                            ...        ...        ...   \n",
       "TRANSPORTATION SCIENCES AND TECHNOLOGIES     12266      11688       2633   \n",
       "TREATMENT THERAPY PROFESSIONS                37861      30020      12346   \n",
       "UNITED STATES HISTORY                         2787       2103        839   \n",
       "VISUAL AND PERFORMING ARTS                   12870       8447       6253   \n",
       "ZOOLOGY                                       6259       5043       2190   \n",
       "\n",
       "                                          Unemployed  Median  P25th  P75th  \\\n",
       "Major                                                                        \n",
       "ACCOUNTING                                     12411   45000  34000  56000   \n",
       "ACTUARIAL SCIENCE                                308   62000  53000  72000   \n",
       "ADVERTISING AND PUBLIC RELATIONS                3305   35000  27000  47000   \n",
       "AEROSPACE ENGINEERING                            794   60000  42000  70000   \n",
       "AGRICULTURAL ECONOMICS                           182   40000  27000  54000   \n",
       "...                                              ...     ...    ...    ...   \n",
       "TRANSPORTATION SCIENCES AND TECHNOLOGIES         962   35000  22000  52000   \n",
       "TREATMENT THERAPY PROFESSIONS                   2409   33000  24000  41000   \n",
       "UNITED STATES HISTORY                            138   40000  30000  42000   \n",
       "VISUAL AND PERFORMING ARTS                      1465   30000  22000  40000   \n",
       "ZOOLOGY                                          304   26000  20000  39000   \n",
       "\n",
       "                                          College_jobs  Non_college_jobs  \\\n",
       "Major                                                                      \n",
       "ACCOUNTING                                       11417             39323   \n",
       "ACTUARIAL SCIENCE                                 1768               314   \n",
       "ADVERTISING AND PUBLIC RELATIONS                  9659             23059   \n",
       "AEROSPACE ENGINEERING                             8184              2425   \n",
       "AGRICULTURAL ECONOMICS                             535               893   \n",
       "...                                                ...               ...   \n",
       "TRANSPORTATION SCIENCES AND TECHNOLOGIES          4575              6147   \n",
       "TREATMENT THERAPY PROFESSIONS                    22215             14616   \n",
       "UNITED STATES HISTORY                              801              1591   \n",
       "VISUAL AND PERFORMING ARTS                        3849              7635   \n",
       "ZOOLOGY                                           2771              2947   \n",
       "\n",
       "                                          Low_wage_jobs  \n",
       "Major                                                    \n",
       "ACCOUNTING                                        10886  \n",
       "ACTUARIAL SCIENCE                                   259  \n",
       "ADVERTISING AND PUBLIC RELATIONS                   7214  \n",
       "AEROSPACE ENGINEERING                               372  \n",
       "AGRICULTURAL ECONOMICS                               94  \n",
       "...                                                 ...  \n",
       "TRANSPORTATION SCIENCES AND TECHNOLOGIES            557  \n",
       "TREATMENT THERAPY PROFESSIONS                      4468  \n",
       "UNITED STATES HISTORY                               302  \n",
       "VISUAL AND PERFORMING ARTS                         2840  \n",
       "ZOOLOGY                                             743  \n",
       "\n",
       "[173 rows x 15 columns]"
      ]
     },
     "execution_count": 58,
     "metadata": {},
     "output_type": "execute_result"
    }
   ],
   "source": [
    "df = pd.read_csv('college-majors.csv', index_col = 'Major')\n",
    "df"
   ]
  },
  {
   "cell_type": "markdown",
   "metadata": {},
   "source": [
    "**Add a column** called `Total` that equals the sum of the `Men` and `Women` columns."
   ]
  },
  {
   "cell_type": "code",
   "execution_count": 66,
   "metadata": {},
   "outputs": [],
   "source": [
    "df['Total'] = df.Men + df.Women"
   ]
  },
  {
   "cell_type": "markdown",
   "metadata": {},
   "source": [
    "### Information about Majors"
   ]
  },
  {
   "cell_type": "markdown",
   "metadata": {},
   "source": [
    "Write a function **major_info(df, major)** that returns a series corresponding to the row for that major. \n",
    "\n",
    "Example: `major_info(df, 'APPLIED MATHEMATICS')` returns\n",
    "```\n",
    "Major_code                             3701\n",
    "Major_category      Computers & Mathematics\n",
    "Men                                  2794.0\n",
    "Women                                2145.0\n",
    "Sample_size                              45\n",
    "Employed                               3854\n",
    "Full_time                              3465\n",
    "Part_time                              1176\n",
    "Unemployed                              385\n",
    "Median                                45000\n",
    "P25th                                 34000\n",
    "P75th                                 63000\n",
    "College_jobs                           2437\n",
    "Non_college_jobs                        803\n",
    "Low_wage_jobs                           357\n",
    "Name: APPLIED MATHEMATICS, dtype: object\n",
    "```"
   ]
  },
  {
   "cell_type": "code",
   "execution_count": 77,
   "metadata": {},
   "outputs": [],
   "source": [
    "def major_info(df, major):\n",
    "    return df.loc[major]"
   ]
  },
  {
   "cell_type": "code",
   "execution_count": 79,
   "metadata": {},
   "outputs": [
    {
     "data": {
      "text/plain": [
       "Major_code                             3701\n",
       "Major_category      Computers & Mathematics\n",
       "Men                                  2794.0\n",
       "Women                                2145.0\n",
       "Sample_size                              45\n",
       "Employed                               3854\n",
       "Full_time                              3465\n",
       "Part_time                              1176\n",
       "Unemployed                              385\n",
       "Median                                45000\n",
       "P25th                                 34000\n",
       "P75th                                 63000\n",
       "College_jobs                           2437\n",
       "Non_college_jobs                        803\n",
       "Low_wage_jobs                           357\n",
       "Total                                4939.0\n",
       "Name: APPLIED MATHEMATICS, dtype: object"
      ]
     },
     "execution_count": 79,
     "metadata": {},
     "output_type": "execute_result"
    }
   ],
   "source": [
    "major_info(df, 'APPLIED MATHEMATICS')"
   ]
  },
  {
   "cell_type": "markdown",
   "metadata": {},
   "source": [
    "### Number of Students in Each Major\n",
    "\n",
    "Write a function **major_count(df, major)** that returns the `Total` number of students in that major.\n",
    "\n",
    "Example:  `major_count(df, 'APPLIED MATHEMATICS')` returns `4939`."
   ]
  },
  {
   "cell_type": "code",
   "execution_count": 85,
   "metadata": {},
   "outputs": [],
   "source": [
    "def major_count(df, major):\n",
    "    return df.Total[major]"
   ]
  },
  {
   "cell_type": "code",
   "execution_count": 87,
   "metadata": {},
   "outputs": [
    {
     "data": {
      "text/plain": [
       "4939.0"
      ]
     },
     "execution_count": 87,
     "metadata": {},
     "output_type": "execute_result"
    }
   ],
   "source": [
    "major_count(df, 'APPLIED MATHEMATICS')"
   ]
  },
  {
   "cell_type": "markdown",
   "metadata": {},
   "source": [
    "### Popularity of Majors\n",
    "\n",
    "Write a function **`most_popular_majors(df, nmajors)`** that returns a list of the `nmajors` most popular majors, ordered from most popular to least popular, based on `Total`. If `nmajors` is omitted, the default value is `5`.\n",
    "\n",
    "Example:  \n",
    "```\n",
    "df_biz = df[df.Major_category == 'Business']\n",
    "most_popular_majors(df_biz, 2)\n",
    "``` \n",
    "returns\n",
    "```\n",
    "['BUSINESS MANAGEMENT AND ADMINISTRATION', 'GENERAL BUSINESS']\n",
    "```"
   ]
  },
  {
   "cell_type": "code",
   "execution_count": 151,
   "metadata": {},
   "outputs": [],
   "source": [
    "def most_popular_majors(df, nmajors=5):\n",
    "    return df.Total.nlargest(nmajors).index.tolist()"
   ]
  },
  {
   "cell_type": "code",
   "execution_count": 153,
   "metadata": {},
   "outputs": [
    {
     "data": {
      "text/plain": [
       "['BUSINESS MANAGEMENT AND ADMINISTRATION', 'GENERAL BUSINESS']"
      ]
     },
     "execution_count": 153,
     "metadata": {},
     "output_type": "execute_result"
    }
   ],
   "source": [
    "df_biz = df[df.Major_category =='Business']\n",
    "most_popular_majors(df_biz, 2)"
   ]
  },
  {
   "cell_type": "markdown",
   "metadata": {},
   "source": [
    "Write a function **`least_popular_majors(df, nmajors)`** that returns a list of the `nmajors` least popular majors, ordered from least popular to most popular. If `nmajors` is omitted, the default value is `5`."
   ]
  },
  {
   "cell_type": "code",
   "execution_count": 164,
   "metadata": {},
   "outputs": [],
   "source": [
    "def least_popular_majors(df, nmajors=5):\n",
    "    return df.Total.nsmallest(nmajors).index.tolist()"
   ]
  },
  {
   "cell_type": "code",
   "execution_count": 162,
   "metadata": {},
   "outputs": [
    {
     "data": {
      "text/plain": [
       "['ACTUARIAL SCIENCE', 'OPERATIONS LOGISTICS AND E-COMMERCE']"
      ]
     },
     "execution_count": 162,
     "metadata": {},
     "output_type": "execute_result"
    }
   ],
   "source": [
    "df_biz = df[df.Major_category == 'Business']\n",
    "least_popular_majors(df_biz, 2)"
   ]
  },
  {
   "cell_type": "markdown",
   "metadata": {},
   "source": [
    "### Major Categories\n",
    "\n",
    "Write a function **category_majors(df, category)** that returns a list of the majors in that category (in any order).\n",
    "\n",
    "Example: `category_majors(df, 'Communications & Journalism')` returns \n",
    "```\n",
    "['ADVERTISING AND PUBLIC RELATIONS', 'COMMUNICATIONS', 'JOURNALISM', 'MASS MEDIA']\n",
    "```"
   ]
  },
  {
   "cell_type": "code",
   "execution_count": 193,
   "metadata": {},
   "outputs": [],
   "source": [
    "def category_majors(df, category):\n",
    "    return df[df.Major_category == category].index.tolist()"
   ]
  },
  {
   "cell_type": "code",
   "execution_count": 195,
   "metadata": {},
   "outputs": [
    {
     "data": {
      "text/plain": [
       "['ADVERTISING AND PUBLIC RELATIONS',\n",
       " 'COMMUNICATIONS',\n",
       " 'JOURNALISM',\n",
       " 'MASS MEDIA']"
      ]
     },
     "execution_count": 195,
     "metadata": {},
     "output_type": "execute_result"
    }
   ],
   "source": [
    "category_majors(df, 'Communications & Journalism')"
   ]
  },
  {
   "cell_type": "markdown",
   "metadata": {},
   "source": [
    "Write a function **`categories_num_majors(df)`** that returns a series listing the number of majors in each major category. (*Hint:* Use `groupby` and `.size()`.)\n",
    "\n",
    "Example: \n",
    "```\n",
    "df_arts = df[df.Major_category.str.contains('Arts')]\n",
    "categories_num_majors(df_arts)\n",
    "```\n",
    "returns\n",
    "```\n",
    "Major_category\n",
    "Arts                                    8\n",
    "Humanities & Liberal Arts              15\n",
    "Industrial Arts & Consumer Services     7\n",
    "dtype: int64\n",
    "```"
   ]
  },
  {
   "cell_type": "code",
   "execution_count": 203,
   "metadata": {},
   "outputs": [],
   "source": [
    "def categories_num_majors(df):\n",
    "    return df.groupby('Major_category').size()"
   ]
  },
  {
   "cell_type": "code",
   "execution_count": 205,
   "metadata": {},
   "outputs": [
    {
     "data": {
      "text/plain": [
       "Major_category\n",
       "Arts                                    8\n",
       "Humanities & Liberal Arts              15\n",
       "Industrial Arts & Consumer Services     7\n",
       "dtype: int64"
      ]
     },
     "execution_count": 205,
     "metadata": {},
     "output_type": "execute_result"
    }
   ],
   "source": [
    "df_arts = df[df.Major_category.str.contains('Arts')]\n",
    "categories_num_majors(df_arts)"
   ]
  },
  {
   "cell_type": "markdown",
   "metadata": {},
   "source": [
    "Write a function **`most_popular_category(df, ncats)`** that returns a list of the `ncats` most popular major categories, ordered from most popular to least popular. If `ncats` is omitted, the default value is `5`. (*Hint:* Use `groupby` and the `Total` column.)"
   ]
  },
  {
   "cell_type": "code",
   "execution_count": 237,
   "metadata": {},
   "outputs": [],
   "source": [
    "def most_popular_category(df, ncats=5):\n",
    "    return df.groupby('Major_category')"
   ]
  },
  {
   "cell_type": "code",
   "execution_count": 239,
   "metadata": {},
   "outputs": [
    {
     "data": {
      "text/plain": [
       "<pandas.core.groupby.generic.DataFrameGroupBy object at 0x168d9a450>"
      ]
     },
     "execution_count": 239,
     "metadata": {},
     "output_type": "execute_result"
    }
   ],
   "source": [
    "df.groupby('Major_category')"
   ]
  },
  {
   "cell_type": "code",
   "execution_count": 242,
   "metadata": {},
   "outputs": [
    {
     "data": {
      "text/plain": [
       "<pandas.core.groupby.generic.DataFrameGroupBy object at 0x16a6cc8f0>"
      ]
     },
     "execution_count": 242,
     "metadata": {},
     "output_type": "execute_result"
    }
   ],
   "source": [
    "most_popular_category(df, 5)"
   ]
  },
  {
   "cell_type": "markdown",
   "metadata": {},
   "source": [
    "### Percent Employed\n",
    "\n",
    "Add a column **Pct_Employed** that equals the number `Employed` divided by the `Total` number of students in each major, multiplied by 100.\n",
    "\n",
    "Example: `df.Pct_Employed['ZOOLOGY']` returns `74.432156`."
   ]
  },
  {
   "cell_type": "code",
   "execution_count": 245,
   "metadata": {},
   "outputs": [],
   "source": [
    "df['Pct_Employed'] = (df.Employed / df.Total) * 100"
   ]
  },
  {
   "cell_type": "code",
   "execution_count": 247,
   "metadata": {},
   "outputs": [
    {
     "data": {
      "text/plain": [
       "74.43215602330837"
      ]
     },
     "execution_count": 247,
     "metadata": {},
     "output_type": "execute_result"
    }
   ],
   "source": [
    "df.Pct_Employed['ZOOLOGY']"
   ]
  },
  {
   "cell_type": "markdown",
   "metadata": {},
   "source": [
    "Write a function **`categories_pct_employed(df)`** returns a series containing the percentage employed in each major category, averaged over the majors in each category."
   ]
  },
  {
   "cell_type": "code",
   "execution_count": 249,
   "metadata": {},
   "outputs": [],
   "source": [
    "def categories_pct_employed(df):\n",
    "    return df.groupby('Major_category')['Pct_Employed'].mean()"
   ]
  },
  {
   "cell_type": "markdown",
   "metadata": {},
   "source": [
    "Write code to **identify the categories with the largest and smallest `Pct_Employed`**."
   ]
  },
  {
   "cell_type": "code",
   "execution_count": 265,
   "metadata": {},
   "outputs": [],
   "source": [
    "category_max_pct_employed = categories_pct_employed(df).idxmax()"
   ]
  },
  {
   "cell_type": "code",
   "execution_count": 253,
   "metadata": {},
   "outputs": [],
   "source": [
    "category_min_pct_employed = categories_pct_employed(df).idxmin()"
   ]
  },
  {
   "cell_type": "markdown",
   "metadata": {},
   "source": [
    "Write code to **identify the majors with the largest and smallest `Pct_Employed`**. (In each case, there is just one matching major.)"
   ]
  },
  {
   "cell_type": "code",
   "execution_count": 269,
   "metadata": {},
   "outputs": [],
   "source": [
    "major_max_pct_employed = df.Pct_Employed.idxmax()"
   ]
  },
  {
   "cell_type": "code",
   "execution_count": 273,
   "metadata": {},
   "outputs": [],
   "source": [
    "major_min_pct_employed = df.Pct_Employed.idxmin()"
   ]
  },
  {
   "cell_type": "markdown",
   "metadata": {},
   "source": [
    "### Median Salaries\n",
    "\n",
    "Write code to **identify the categories with the largest and smallest `Median` salary**."
   ]
  },
  {
   "cell_type": "code",
   "execution_count": 281,
   "metadata": {},
   "outputs": [],
   "source": [
    "category_max_salary = df.groupby('Major_category')['Median'].mean().idxmax()"
   ]
  },
  {
   "cell_type": "code",
   "execution_count": 285,
   "metadata": {},
   "outputs": [],
   "source": [
    "category_min_salary = df.groupby('Major_category')['Median'].mean().idxmin()"
   ]
  },
  {
   "cell_type": "markdown",
   "metadata": {},
   "source": [
    "Write code to **identify the majors with the largest and smallest `Median` salary**. (In each case, there is just one matching major.)"
   ]
  },
  {
   "cell_type": "code",
   "execution_count": 291,
   "metadata": {},
   "outputs": [],
   "source": [
    "major_max_salary = df.Median.idxmax()"
   ]
  },
  {
   "cell_type": "code",
   "execution_count": 297,
   "metadata": {},
   "outputs": [],
   "source": [
    "major_min_salary = df.Median.idxmin()"
   ]
  },
  {
   "cell_type": "markdown",
   "metadata": {},
   "source": [
    "___\n",
    "\n",
    "# Extra Problems"
   ]
  },
  {
   "cell_type": "markdown",
   "metadata": {},
   "source": [
    "### Missing Values"
   ]
  },
  {
   "cell_type": "markdown",
   "metadata": {},
   "source": [
    "Write code to **identify the major that contains `NaN`** in the `Total` column."
   ]
  },
  {
   "cell_type": "code",
   "execution_count": 36,
   "metadata": {},
   "outputs": [],
   "source": [
    "# major_missing_val = "
   ]
  },
  {
   "cell_type": "markdown",
   "metadata": {},
   "source": [
    "Use `.dropna()` with the parameter `inplace=True` to **remove all rows with missing values**. You might want to check the number of rows in the dataframe before and after dropping."
   ]
  },
  {
   "cell_type": "code",
   "execution_count": null,
   "metadata": {},
   "outputs": [],
   "source": []
  },
  {
   "cell_type": "markdown",
   "metadata": {},
   "source": [
    "Write code to identify the two majors that have a **`Total` between 30000 and 31000**."
   ]
  },
  {
   "cell_type": "code",
   "execution_count": 37,
   "metadata": {},
   "outputs": [],
   "source": [
    "# majors_total_30000 = "
   ]
  },
  {
   "cell_type": "markdown",
   "metadata": {},
   "source": [
    "### Plotting\n",
    "**Make a bar chart** showing `Total` in descending order. (*Hint:* `plt.xticks([])` will omit the labels on the horizontal axis.)"
   ]
  },
  {
   "cell_type": "code",
   "execution_count": null,
   "metadata": {},
   "outputs": [],
   "source": []
  },
  {
   "cell_type": "markdown",
   "metadata": {},
   "source": [
    "**Make another bar chart** showing the 10 most popular majors in descending order.\n",
    "\n",
    "<img src=\"http://www.coloradomath.org/python/majors-popular-10.jpg\" width=\"395\" height=\"510\" />"
   ]
  },
  {
   "cell_type": "code",
   "execution_count": null,
   "metadata": {},
   "outputs": [],
   "source": []
  },
  {
   "cell_type": "markdown",
   "metadata": {},
   "source": [
    "**Make a scatter plot** with `Pct_Employed` along the horizontal axis and `Median` along the vertical axis.\n",
    "\n",
    "<img src=\"http://www.coloradomath.org/python/majors-scatter.jpg\" width=\"432\" height=\"288\" />"
   ]
  },
  {
   "cell_type": "code",
   "execution_count": null,
   "metadata": {},
   "outputs": [],
   "source": []
  },
  {
   "cell_type": "markdown",
   "metadata": {},
   "source": [
    "### Outliers\n",
    "\n",
    "There are two outliers in the `Pct_Employed` vs `Median` scatter plot: one on the left side of the plot and one in the upper right. Write code to **identify the majors corresponding to the two outliers.**"
   ]
  },
  {
   "cell_type": "code",
   "execution_count": 38,
   "metadata": {},
   "outputs": [],
   "source": [
    "# outlier_left_major = "
   ]
  },
  {
   "cell_type": "code",
   "execution_count": 39,
   "metadata": {},
   "outputs": [],
   "source": [
    "# outlier_right_major = "
   ]
  },
  {
   "cell_type": "markdown",
   "metadata": {},
   "source": [
    "The outliers are visible in corresponding box plots. **Create the box plots.**\n",
    "\n",
    "<img src=\"http://www.coloradomath.org/python/box-pct-employed.jpg\" width=\"432\" height=\"288\" />\n",
    "\n",
    "<img src=\"http://www.coloradomath.org/python/box-median.jpg\" width=\"432\" height=\"288\" />"
   ]
  },
  {
   "cell_type": "code",
   "execution_count": null,
   "metadata": {},
   "outputs": [],
   "source": []
  }
 ],
 "metadata": {
  "kernelspec": {
   "display_name": "Python 3 (ipykernel)",
   "language": "python",
   "name": "python3"
  },
  "language_info": {
   "codemirror_mode": {
    "name": "ipython",
    "version": 3
   },
   "file_extension": ".py",
   "mimetype": "text/x-python",
   "name": "python",
   "nbconvert_exporter": "python",
   "pygments_lexer": "ipython3",
   "version": "3.12.4"
  }
 },
 "nbformat": 4,
 "nbformat_minor": 4
}
