{
 "cells": [
  {
   "cell_type": "markdown",
   "id": "40e8e2c8-2358-4097-8874-4577f13c5785",
   "metadata": {},
   "source": [
    "### Test Review  \n",
    "Code Tracing: \n",
    "* In a list comprehension, look out for boolean values. Do not mistake it for pandas dataframe. `in`, `>`, `<`, `and`, `or` are all boolean values.\n",
    "* Remember basic things like, `**` is not the same as `*`.\n",
    "* Recursive functions! Practice\n",
    "* Put `array([  ])` for anything that's an array.\n",
    "* Differentiate the different types type values. Don't mix `int` with `str`.\n",
    "* Look out for f strings."
   ]
  },
  {
   "cell_type": "markdown",
   "id": "a6b1af89-631f-42fe-959d-ea95aad42758",
   "metadata": {},
   "source": [
    "Code Writing: \n",
    "* `x, y, z = something` doens't equal to `something = x, y, z`\n",
    "* When in doubt, use a `for` loop and initiate a value. Especially when trying to count a total of something.\n",
    "* Use a while loop if for loop is too complicated. Remember `%` and `//`. `15840 // 10 = 1584` and `15840 % 10 = 0`\n",
    "* `//=` `+=` `*=` all exist.\n",
    "* Concatenation:\n",
    "  strings and integers are the same, str can use `' '.join([a list])`, and f-strings.\n",
    "  Add to a list: `.append`. Add two lists is same as integers.\n",
    "  numpy arrays can `np.concatenate([arr1, arr2], axis=0/1)` or `np.hstack([arr1, arr2])` or `np.vstack`."
   ]
  }
 ],
 "metadata": {
  "kernelspec": {
   "display_name": "Python 3 (ipykernel)",
   "language": "python",
   "name": "python3"
  },
  "language_info": {
   "codemirror_mode": {
    "name": "ipython",
    "version": 3
   },
   "file_extension": ".py",
   "mimetype": "text/x-python",
   "name": "python",
   "nbconvert_exporter": "python",
   "pygments_lexer": "ipython3",
   "version": "3.12.4"
  }
 },
 "nbformat": 4,
 "nbformat_minor": 5
}
