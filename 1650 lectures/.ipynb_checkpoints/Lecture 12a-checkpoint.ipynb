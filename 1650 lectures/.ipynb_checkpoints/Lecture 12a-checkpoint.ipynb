{
 "cells": [
  {
   "cell_type": "markdown",
   "id": "5927ca42-fe08-4afb-90b4-d725bcfd014c",
   "metadata": {},
   "source": [
    "### Lecutre 12a"
   ]
  },
  {
   "cell_type": "code",
   "execution_count": 5,
   "id": "98bb42b3-a7b6-4218-87cc-4f720563bd89",
   "metadata": {},
   "outputs": [],
   "source": [
    "import numpy as np\n",
    "import pandas as pd\n",
    "import matplotlib.pyplot as plt"
   ]
  },
  {
   "cell_type": "code",
   "execution_count": 6,
   "id": "5fc45b4d-fe73-444e-9d27-2c562de27f25",
   "metadata": {},
   "outputs": [],
   "source": [
    "sibs = ['alice', 'bob', 'carol', 'daisy']\n",
    "ages = [19, 7, 12, 3]\n",
    "foods = ['sushi', 'tacos', 'kiwi', 'skittles']\n",
    "animals = ['unicorn', 'panda', 'monkey', 'rhino']\n",
    "sib_data = list(zip(ages, foods, animals))"
   ]
  },
  {
   "cell_type": "markdown",
   "id": "bd089727-d96d-43f7-a74a-593758781297",
   "metadata": {},
   "source": [
    "Panda: data analysis  \n",
    "economic analysis  \n",
    "built on numpy"
   ]
  },
  {
   "cell_type": "code",
   "execution_count": 8,
   "id": "c6a10251-f0f5-4f00-9fc1-6051623a7cea",
   "metadata": {},
   "outputs": [
    {
     "data": {
      "text/plain": [
       "[(19, 'sushi', 'unicorn'),\n",
       " (7, 'tacos', 'panda'),\n",
       " (12, 'kiwi', 'monkey'),\n",
       " (3, 'skittles', 'rhino')]"
      ]
     },
     "execution_count": 8,
     "metadata": {},
     "output_type": "execute_result"
    }
   ],
   "source": [
    "sib_data"
   ]
  },
  {
   "cell_type": "markdown",
   "id": "2592bf95-96c3-46f6-9742-a5663ec14702",
   "metadata": {},
   "source": [
    "### Series  \n",
    "A Series is like a dictionary but it is ordered. So you can call a value by a calling the index. Dictionary items can only be called using the key. "
   ]
  },
  {
   "cell_type": "code",
   "execution_count": 10,
   "id": "cde4c714-cc2e-41b3-8792-a44a4efe921c",
   "metadata": {},
   "outputs": [
    {
     "data": {
      "text/plain": [
       "0    19\n",
       "1     7\n",
       "2    12\n",
       "3     3\n",
       "dtype: int64"
      ]
     },
     "execution_count": 10,
     "metadata": {},
     "output_type": "execute_result"
    }
   ],
   "source": [
    "pd.Series(ages) # series: kind of like array/dictionary"
   ]
  },
  {
   "cell_type": "code",
   "execution_count": 11,
   "id": "e1aeae56-14f8-4419-afd2-bf65b775c1cf",
   "metadata": {},
   "outputs": [
    {
     "data": {
      "text/plain": [
       "alice    19\n",
       "bob       7\n",
       "carol    12\n",
       "daisy     3\n",
       "dtype: int64"
      ]
     },
     "execution_count": 11,
     "metadata": {},
     "output_type": "execute_result"
    }
   ],
   "source": [
    "sib_ages = pd.Series(ages, index=sibs) # index are like keys in dictionary\n",
    "sib_ages"
   ]
  },
  {
   "cell_type": "code",
   "execution_count": 12,
   "id": "cac18cc9-06f4-49ea-9d9d-3d1e39138109",
   "metadata": {},
   "outputs": [
    {
     "data": {
      "text/plain": [
       "pandas.core.series.Series"
      ]
     },
     "execution_count": 12,
     "metadata": {},
     "output_type": "execute_result"
    }
   ],
   "source": [
    "type(sib_ages)"
   ]
  },
  {
   "cell_type": "code",
   "execution_count": 13,
   "id": "58b9ad9b-7ddd-4611-91dc-57a57dff645c",
   "metadata": {},
   "outputs": [
    {
     "data": {
      "text/plain": [
       "array([19,  7, 12,  3])"
      ]
     },
     "execution_count": 13,
     "metadata": {},
     "output_type": "execute_result"
    }
   ],
   "source": [
    "sib_ages.values #output an array"
   ]
  },
  {
   "cell_type": "code",
   "execution_count": 14,
   "id": "5d6dcf67-c3dc-44ed-ae9d-d9c9256fd2d1",
   "metadata": {},
   "outputs": [
    {
     "data": {
      "text/plain": [
       "Index(['alice', 'bob', 'carol', 'daisy'], dtype='object')"
      ]
     },
     "execution_count": 14,
     "metadata": {},
     "output_type": "execute_result"
    }
   ],
   "source": [
    "sib_ages.index"
   ]
  },
  {
   "cell_type": "code",
   "execution_count": 15,
   "id": "6b55d16d-be6e-4c03-ab6a-251f9df69dcf",
   "metadata": {},
   "outputs": [
    {
     "data": {
      "text/plain": [
       "pandas.core.indexes.base.Index"
      ]
     },
     "execution_count": 15,
     "metadata": {},
     "output_type": "execute_result"
    }
   ],
   "source": [
    "type(sib_ages.index) #type = pandas index"
   ]
  },
  {
   "cell_type": "code",
   "execution_count": 16,
   "id": "ed93fc56-ab36-4c1b-a474-987590d7d952",
   "metadata": {},
   "outputs": [
    {
     "name": "stderr",
     "output_type": "stream",
     "text": [
      "/var/folders/2m/ffpxvj6x6y9_869rd2330sl00000gn/T/ipykernel_19068/1067640998.py:1: FutureWarning: Series.__getitem__ treating keys as positions is deprecated. In a future version, integer keys will always be treated as labels (consistent with DataFrame behavior). To access a value by position, use `ser.iloc[pos]`\n",
      "  sib_ages[2]\n"
     ]
    },
    {
     "data": {
      "text/plain": [
       "12"
      ]
     },
     "execution_count": 16,
     "metadata": {},
     "output_type": "execute_result"
    }
   ],
   "source": [
    "sib_ages[2]"
   ]
  },
  {
   "cell_type": "code",
   "execution_count": 17,
   "id": "512e08f4-7ed4-446c-8303-2f26f690f6d0",
   "metadata": {},
   "outputs": [
    {
     "data": {
      "text/plain": [
       "12"
      ]
     },
     "execution_count": 17,
     "metadata": {},
     "output_type": "execute_result"
    }
   ],
   "source": [
    "sib_ages['carol']"
   ]
  },
  {
   "cell_type": "code",
   "execution_count": 18,
   "id": "6b0875e7-4cc8-4c6a-975d-b0b0506b66c5",
   "metadata": {},
   "outputs": [
    {
     "data": {
      "text/plain": [
       "alice    19\n",
       "bob       7\n",
       "dtype: int64"
      ]
     },
     "execution_count": 18,
     "metadata": {},
     "output_type": "execute_result"
    }
   ],
   "source": [
    "sib_ages[:2]"
   ]
  },
  {
   "cell_type": "code",
   "execution_count": 19,
   "id": "ab22c00a-e89f-413f-b46d-c6c35e182f8d",
   "metadata": {},
   "outputs": [
    {
     "data": {
      "text/plain": [
       "alice    19\n",
       "carol    12\n",
       "dtype: int64"
      ]
     },
     "execution_count": 19,
     "metadata": {},
     "output_type": "execute_result"
    }
   ],
   "source": [
    "sib_ages[['alice', 'carol']]"
   ]
  },
  {
   "cell_type": "code",
   "execution_count": 20,
   "id": "7d450634-fb97-48e1-a22c-7a83d338834a",
   "metadata": {},
   "outputs": [
    {
     "data": {
      "text/plain": [
       "True"
      ]
     },
     "execution_count": 20,
     "metadata": {},
     "output_type": "execute_result"
    }
   ],
   "source": [
    "'bob' in sib_ages"
   ]
  },
  {
   "cell_type": "code",
   "execution_count": 21,
   "id": "76486a1f-5c80-49cc-bbce-27de11cd1ea7",
   "metadata": {},
   "outputs": [
    {
     "data": {
      "text/plain": [
       "False"
      ]
     },
     "execution_count": 21,
     "metadata": {},
     "output_type": "execute_result"
    }
   ],
   "source": [
    "'edgar' in sib_ages"
   ]
  },
  {
   "cell_type": "code",
   "execution_count": 22,
   "id": "55f3b0df-ba2e-4d77-8f47-d73a42bd2f31",
   "metadata": {},
   "outputs": [
    {
     "data": {
      "text/plain": [
       "alice     True\n",
       "bob      False\n",
       "carol     True\n",
       "daisy    False\n",
       "dtype: bool"
      ]
     },
     "execution_count": 22,
     "metadata": {},
     "output_type": "execute_result"
    }
   ],
   "source": [
    "sib_ages > 10"
   ]
  },
  {
   "cell_type": "code",
   "execution_count": 23,
   "id": "4dabc4fb-9aae-401d-b73b-af72d36e773c",
   "metadata": {},
   "outputs": [
    {
     "data": {
      "text/plain": [
       "alice    19\n",
       "carol    12\n",
       "dtype: int64"
      ]
     },
     "execution_count": 23,
     "metadata": {},
     "output_type": "execute_result"
    }
   ],
   "source": [
    "sib_ages[sib_ages > 10]"
   ]
  },
  {
   "cell_type": "code",
   "execution_count": 24,
   "id": "65898e19-2096-490c-b8c8-663e29fea0f9",
   "metadata": {},
   "outputs": [
    {
     "data": {
      "text/plain": [
       "carol    12\n",
       "dtype: int64"
      ]
     },
     "execution_count": 24,
     "metadata": {},
     "output_type": "execute_result"
    }
   ],
   "source": [
    "sib_ages[(sib_ages > 10) & (sib_ages < 18)]"
   ]
  },
  {
   "cell_type": "code",
   "execution_count": 25,
   "id": "a730f6a2-3f25-4220-9a9e-0c5d6c38debb",
   "metadata": {},
   "outputs": [
    {
     "data": {
      "text/plain": [
       "alice    19\n",
       "carol    12\n",
       "dtype: int64"
      ]
     },
     "execution_count": 25,
     "metadata": {},
     "output_type": "execute_result"
    }
   ],
   "source": [
    "sib_ages[sib_ages.between(12, 19)] # closed interval, includes endpts"
   ]
  },
  {
   "cell_type": "code",
   "execution_count": 26,
   "id": "5b6db93d-7a30-4fcb-9daf-f247efca92e7",
   "metadata": {},
   "outputs": [
    {
     "data": {
      "text/plain": [
       "bob      7\n",
       "daisy    3\n",
       "dtype: int64"
      ]
     },
     "execution_count": 26,
     "metadata": {},
     "output_type": "execute_result"
    }
   ],
   "source": [
    "sib_ages[sib_ages.isin([3, 7])]"
   ]
  },
  {
   "cell_type": "markdown",
   "id": "76c95745-6a30-4b2e-9925-2488a42b9831",
   "metadata": {},
   "source": [
    "### DataFrames"
   ]
  },
  {
   "cell_type": "code",
   "execution_count": 28,
   "id": "b00902e9-bf90-4df2-8b93-f53f44b6f41d",
   "metadata": {},
   "outputs": [
    {
     "data": {
      "text/plain": [
       "[(19, 'sushi', 'unicorn'),\n",
       " (7, 'tacos', 'panda'),\n",
       " (12, 'kiwi', 'monkey'),\n",
       " (3, 'skittles', 'rhino')]"
      ]
     },
     "execution_count": 28,
     "metadata": {},
     "output_type": "execute_result"
    }
   ],
   "source": [
    "sib_data"
   ]
  },
  {
   "cell_type": "code",
   "execution_count": 29,
   "id": "deef5019-adcb-4b1a-af2f-aeb3c2ec3c9a",
   "metadata": {},
   "outputs": [
    {
     "data": {
      "text/html": [
       "<div>\n",
       "<style scoped>\n",
       "    .dataframe tbody tr th:only-of-type {\n",
       "        vertical-align: middle;\n",
       "    }\n",
       "\n",
       "    .dataframe tbody tr th {\n",
       "        vertical-align: top;\n",
       "    }\n",
       "\n",
       "    .dataframe thead th {\n",
       "        text-align: right;\n",
       "    }\n",
       "</style>\n",
       "<table border=\"1\" class=\"dataframe\">\n",
       "  <thead>\n",
       "    <tr style=\"text-align: right;\">\n",
       "      <th></th>\n",
       "      <th>0</th>\n",
       "      <th>1</th>\n",
       "      <th>2</th>\n",
       "    </tr>\n",
       "  </thead>\n",
       "  <tbody>\n",
       "    <tr>\n",
       "      <th>0</th>\n",
       "      <td>19</td>\n",
       "      <td>sushi</td>\n",
       "      <td>unicorn</td>\n",
       "    </tr>\n",
       "    <tr>\n",
       "      <th>1</th>\n",
       "      <td>7</td>\n",
       "      <td>tacos</td>\n",
       "      <td>panda</td>\n",
       "    </tr>\n",
       "    <tr>\n",
       "      <th>2</th>\n",
       "      <td>12</td>\n",
       "      <td>kiwi</td>\n",
       "      <td>monkey</td>\n",
       "    </tr>\n",
       "    <tr>\n",
       "      <th>3</th>\n",
       "      <td>3</td>\n",
       "      <td>skittles</td>\n",
       "      <td>rhino</td>\n",
       "    </tr>\n",
       "  </tbody>\n",
       "</table>\n",
       "</div>"
      ],
      "text/plain": [
       "    0         1        2\n",
       "0  19     sushi  unicorn\n",
       "1   7     tacos    panda\n",
       "2  12      kiwi   monkey\n",
       "3   3  skittles    rhino"
      ]
     },
     "execution_count": 29,
     "metadata": {},
     "output_type": "execute_result"
    }
   ],
   "source": [
    "pd.DataFrame(sib_data)"
   ]
  },
  {
   "cell_type": "code",
   "execution_count": 30,
   "id": "d874b73d-0442-4c0d-8e38-7c5b9a79f2b0",
   "metadata": {},
   "outputs": [
    {
     "data": {
      "text/html": [
       "<div>\n",
       "<style scoped>\n",
       "    .dataframe tbody tr th:only-of-type {\n",
       "        vertical-align: middle;\n",
       "    }\n",
       "\n",
       "    .dataframe tbody tr th {\n",
       "        vertical-align: top;\n",
       "    }\n",
       "\n",
       "    .dataframe thead th {\n",
       "        text-align: right;\n",
       "    }\n",
       "</style>\n",
       "<table border=\"1\" class=\"dataframe\">\n",
       "  <thead>\n",
       "    <tr style=\"text-align: right;\">\n",
       "      <th></th>\n",
       "      <th>age</th>\n",
       "      <th>food</th>\n",
       "      <th>animal</th>\n",
       "    </tr>\n",
       "  </thead>\n",
       "  <tbody>\n",
       "    <tr>\n",
       "      <th>alice</th>\n",
       "      <td>19</td>\n",
       "      <td>sushi</td>\n",
       "      <td>unicorn</td>\n",
       "    </tr>\n",
       "    <tr>\n",
       "      <th>bob</th>\n",
       "      <td>7</td>\n",
       "      <td>tacos</td>\n",
       "      <td>panda</td>\n",
       "    </tr>\n",
       "    <tr>\n",
       "      <th>carol</th>\n",
       "      <td>12</td>\n",
       "      <td>kiwi</td>\n",
       "      <td>monkey</td>\n",
       "    </tr>\n",
       "    <tr>\n",
       "      <th>daisy</th>\n",
       "      <td>3</td>\n",
       "      <td>skittles</td>\n",
       "      <td>rhino</td>\n",
       "    </tr>\n",
       "  </tbody>\n",
       "</table>\n",
       "</div>"
      ],
      "text/plain": [
       "       age      food   animal\n",
       "alice   19     sushi  unicorn\n",
       "bob      7     tacos    panda\n",
       "carol   12      kiwi   monkey\n",
       "daisy    3  skittles    rhino"
      ]
     },
     "execution_count": 30,
     "metadata": {},
     "output_type": "execute_result"
    }
   ],
   "source": [
    "df_sib = pd.DataFrame(sib_data, index=sibs, columns=['age', 'food', 'animal'])\n",
    "df_sib"
   ]
  },
  {
   "cell_type": "code",
   "execution_count": 31,
   "id": "8fa88e52-d223-43e1-8cbc-78183bbfaf5b",
   "metadata": {},
   "outputs": [
    {
     "data": {
      "text/plain": [
       "4"
      ]
     },
     "execution_count": 31,
     "metadata": {},
     "output_type": "execute_result"
    }
   ],
   "source": [
    "len(df_sib)"
   ]
  },
  {
   "cell_type": "code",
   "execution_count": 32,
   "id": "4f17f8f0-beee-439b-8297-92a136689b0f",
   "metadata": {},
   "outputs": [
    {
     "data": {
      "text/plain": [
       "pandas.core.frame.DataFrame"
      ]
     },
     "execution_count": 32,
     "metadata": {},
     "output_type": "execute_result"
    }
   ],
   "source": [
    "type(df_sib)"
   ]
  },
  {
   "cell_type": "code",
   "execution_count": 33,
   "id": "3e7b20e4-9743-48a2-922d-fd87f9902fd4",
   "metadata": {},
   "outputs": [
    {
     "data": {
      "text/plain": [
       "(4, 3)"
      ]
     },
     "execution_count": 33,
     "metadata": {},
     "output_type": "execute_result"
    }
   ],
   "source": [
    "df_sib.shape"
   ]
  },
  {
   "cell_type": "code",
   "execution_count": 34,
   "id": "68e91bbc-0f4d-4c97-8b7d-936e5f7e4315",
   "metadata": {},
   "outputs": [
    {
     "data": {
      "text/plain": [
       "Index(['age', 'food', 'animal'], dtype='object')"
      ]
     },
     "execution_count": 34,
     "metadata": {},
     "output_type": "execute_result"
    }
   ],
   "source": [
    "df_sib.columns"
   ]
  },
  {
   "cell_type": "code",
   "execution_count": 35,
   "id": "6ed80d25-dbb4-4e6c-a639-8764a56141be",
   "metadata": {},
   "outputs": [
    {
     "data": {
      "text/plain": [
       "Index(['alice', 'bob', 'carol', 'daisy'], dtype='object')"
      ]
     },
     "execution_count": 35,
     "metadata": {},
     "output_type": "execute_result"
    }
   ],
   "source": [
    "df_sib.index"
   ]
  },
  {
   "cell_type": "code",
   "execution_count": 36,
   "id": "3f4ffeac-371b-4667-bb2c-afa0b3eeeb6b",
   "metadata": {},
   "outputs": [
    {
     "data": {
      "text/plain": [
       "array([[19, 'sushi', 'unicorn'],\n",
       "       [7, 'tacos', 'panda'],\n",
       "       [12, 'kiwi', 'monkey'],\n",
       "       [3, 'skittles', 'rhino']], dtype=object)"
      ]
     },
     "execution_count": 36,
     "metadata": {},
     "output_type": "execute_result"
    }
   ],
   "source": [
    "df_sib.values"
   ]
  },
  {
   "cell_type": "markdown",
   "id": "bdc02b8b-adc5-4a18-b5a5-c42ce8314c7a",
   "metadata": {},
   "source": [
    "### Accessing Rows"
   ]
  },
  {
   "cell_type": "code",
   "execution_count": 38,
   "id": "3587b34b-8664-4aeb-b44f-5dd949d4d9e5",
   "metadata": {},
   "outputs": [
    {
     "data": {
      "text/plain": [
       "age           12\n",
       "food        kiwi\n",
       "animal    monkey\n",
       "Name: carol, dtype: object"
      ]
     },
     "execution_count": 38,
     "metadata": {},
     "output_type": "execute_result"
    }
   ],
   "source": [
    "df_sib.loc['carol']"
   ]
  },
  {
   "cell_type": "code",
   "execution_count": 39,
   "id": "e2eae207-955d-492d-8ed9-2f7d6d0c99b3",
   "metadata": {},
   "outputs": [
    {
     "data": {
      "text/html": [
       "<div>\n",
       "<style scoped>\n",
       "    .dataframe tbody tr th:only-of-type {\n",
       "        vertical-align: middle;\n",
       "    }\n",
       "\n",
       "    .dataframe tbody tr th {\n",
       "        vertical-align: top;\n",
       "    }\n",
       "\n",
       "    .dataframe thead th {\n",
       "        text-align: right;\n",
       "    }\n",
       "</style>\n",
       "<table border=\"1\" class=\"dataframe\">\n",
       "  <thead>\n",
       "    <tr style=\"text-align: right;\">\n",
       "      <th></th>\n",
       "      <th>age</th>\n",
       "      <th>food</th>\n",
       "      <th>animal</th>\n",
       "    </tr>\n",
       "  </thead>\n",
       "  <tbody>\n",
       "    <tr>\n",
       "      <th>alice</th>\n",
       "      <td>19</td>\n",
       "      <td>sushi</td>\n",
       "      <td>unicorn</td>\n",
       "    </tr>\n",
       "    <tr>\n",
       "      <th>bob</th>\n",
       "      <td>7</td>\n",
       "      <td>tacos</td>\n",
       "      <td>panda</td>\n",
       "    </tr>\n",
       "    <tr>\n",
       "      <th>carol</th>\n",
       "      <td>12</td>\n",
       "      <td>kiwi</td>\n",
       "      <td>monkey</td>\n",
       "    </tr>\n",
       "  </tbody>\n",
       "</table>\n",
       "</div>"
      ],
      "text/plain": [
       "       age   food   animal\n",
       "alice   19  sushi  unicorn\n",
       "bob      7  tacos    panda\n",
       "carol   12   kiwi   monkey"
      ]
     },
     "execution_count": 39,
     "metadata": {},
     "output_type": "execute_result"
    }
   ],
   "source": [
    "df_sib.loc['alice': 'carol']"
   ]
  },
  {
   "cell_type": "code",
   "execution_count": 40,
   "id": "6bc1c375-5ea7-4755-a843-83ad741eca9d",
   "metadata": {},
   "outputs": [
    {
     "data": {
      "text/html": [
       "<div>\n",
       "<style scoped>\n",
       "    .dataframe tbody tr th:only-of-type {\n",
       "        vertical-align: middle;\n",
       "    }\n",
       "\n",
       "    .dataframe tbody tr th {\n",
       "        vertical-align: top;\n",
       "    }\n",
       "\n",
       "    .dataframe thead th {\n",
       "        text-align: right;\n",
       "    }\n",
       "</style>\n",
       "<table border=\"1\" class=\"dataframe\">\n",
       "  <thead>\n",
       "    <tr style=\"text-align: right;\">\n",
       "      <th></th>\n",
       "      <th>age</th>\n",
       "      <th>food</th>\n",
       "      <th>animal</th>\n",
       "    </tr>\n",
       "  </thead>\n",
       "  <tbody>\n",
       "    <tr>\n",
       "      <th>alice</th>\n",
       "      <td>19</td>\n",
       "      <td>sushi</td>\n",
       "      <td>unicorn</td>\n",
       "    </tr>\n",
       "    <tr>\n",
       "      <th>bob</th>\n",
       "      <td>7</td>\n",
       "      <td>tacos</td>\n",
       "      <td>panda</td>\n",
       "    </tr>\n",
       "    <tr>\n",
       "      <th>carol</th>\n",
       "      <td>12</td>\n",
       "      <td>kiwi</td>\n",
       "      <td>monkey</td>\n",
       "    </tr>\n",
       "  </tbody>\n",
       "</table>\n",
       "</div>"
      ],
      "text/plain": [
       "       age   food   animal\n",
       "alice   19  sushi  unicorn\n",
       "bob      7  tacos    panda\n",
       "carol   12   kiwi   monkey"
      ]
     },
     "execution_count": 40,
     "metadata": {},
     "output_type": "execute_result"
    }
   ],
   "source": [
    "df_sib.iloc[:3]"
   ]
  },
  {
   "cell_type": "markdown",
   "id": "387e9059-3a89-4aa3-857c-e9d237489095",
   "metadata": {},
   "source": [
    "### Accessing Columns"
   ]
  },
  {
   "cell_type": "code",
   "execution_count": 42,
   "id": "c4b5e52c-16e8-4837-82fe-0214ec47e136",
   "metadata": {},
   "outputs": [
    {
     "data": {
      "text/plain": [
       "alice       sushi\n",
       "bob         tacos\n",
       "carol        kiwi\n",
       "daisy    skittles\n",
       "Name: food, dtype: object"
      ]
     },
     "execution_count": 42,
     "metadata": {},
     "output_type": "execute_result"
    }
   ],
   "source": [
    "df_sib['food'] # brackets and quotes required when creating a new column"
   ]
  },
  {
   "cell_type": "code",
   "execution_count": 43,
   "id": "b5f4e0e0-0a3c-4aa1-882f-93b6968157bc",
   "metadata": {},
   "outputs": [
    {
     "data": {
      "text/plain": [
       "alice       sushi\n",
       "bob         tacos\n",
       "carol        kiwi\n",
       "daisy    skittles\n",
       "Name: food, dtype: object"
      ]
     },
     "execution_count": 43,
     "metadata": {},
     "output_type": "execute_result"
    }
   ],
   "source": [
    "df_sib.food # shortcut, doesn't work if col name have spaces\n",
    "            # begin with numbers\n",
    "            # if math python function/keyword"
   ]
  },
  {
   "cell_type": "code",
   "execution_count": 44,
   "id": "0edef7ee-f8bb-4c1d-9ac1-331c89847bc5",
   "metadata": {},
   "outputs": [
    {
     "data": {
      "text/html": [
       "<div>\n",
       "<style scoped>\n",
       "    .dataframe tbody tr th:only-of-type {\n",
       "        vertical-align: middle;\n",
       "    }\n",
       "\n",
       "    .dataframe tbody tr th {\n",
       "        vertical-align: top;\n",
       "    }\n",
       "\n",
       "    .dataframe thead th {\n",
       "        text-align: right;\n",
       "    }\n",
       "</style>\n",
       "<table border=\"1\" class=\"dataframe\">\n",
       "  <thead>\n",
       "    <tr style=\"text-align: right;\">\n",
       "      <th></th>\n",
       "      <th>food</th>\n",
       "      <th>age</th>\n",
       "    </tr>\n",
       "  </thead>\n",
       "  <tbody>\n",
       "    <tr>\n",
       "      <th>alice</th>\n",
       "      <td>sushi</td>\n",
       "      <td>19</td>\n",
       "    </tr>\n",
       "    <tr>\n",
       "      <th>bob</th>\n",
       "      <td>tacos</td>\n",
       "      <td>7</td>\n",
       "    </tr>\n",
       "    <tr>\n",
       "      <th>carol</th>\n",
       "      <td>kiwi</td>\n",
       "      <td>12</td>\n",
       "    </tr>\n",
       "    <tr>\n",
       "      <th>daisy</th>\n",
       "      <td>skittles</td>\n",
       "      <td>3</td>\n",
       "    </tr>\n",
       "  </tbody>\n",
       "</table>\n",
       "</div>"
      ],
      "text/plain": [
       "           food  age\n",
       "alice     sushi   19\n",
       "bob       tacos    7\n",
       "carol      kiwi   12\n",
       "daisy  skittles    3"
      ]
     },
     "execution_count": 44,
     "metadata": {},
     "output_type": "execute_result"
    }
   ],
   "source": [
    "df_sib[['food', 'age']]"
   ]
  },
  {
   "cell_type": "code",
   "execution_count": 45,
   "id": "13913988-072b-4fef-b918-df9cd7282f2f",
   "metadata": {},
   "outputs": [
    {
     "data": {
      "text/html": [
       "<div>\n",
       "<style scoped>\n",
       "    .dataframe tbody tr th:only-of-type {\n",
       "        vertical-align: middle;\n",
       "    }\n",
       "\n",
       "    .dataframe tbody tr th {\n",
       "        vertical-align: top;\n",
       "    }\n",
       "\n",
       "    .dataframe thead th {\n",
       "        text-align: right;\n",
       "    }\n",
       "</style>\n",
       "<table border=\"1\" class=\"dataframe\">\n",
       "  <thead>\n",
       "    <tr style=\"text-align: right;\">\n",
       "      <th></th>\n",
       "      <th>food</th>\n",
       "      <th>age</th>\n",
       "    </tr>\n",
       "  </thead>\n",
       "  <tbody>\n",
       "    <tr>\n",
       "      <th>alice</th>\n",
       "      <td>sushi</td>\n",
       "      <td>19</td>\n",
       "    </tr>\n",
       "    <tr>\n",
       "      <th>bob</th>\n",
       "      <td>tacos</td>\n",
       "      <td>7</td>\n",
       "    </tr>\n",
       "    <tr>\n",
       "      <th>carol</th>\n",
       "      <td>kiwi</td>\n",
       "      <td>12</td>\n",
       "    </tr>\n",
       "    <tr>\n",
       "      <th>daisy</th>\n",
       "      <td>skittles</td>\n",
       "      <td>3</td>\n",
       "    </tr>\n",
       "  </tbody>\n",
       "</table>\n",
       "</div>"
      ],
      "text/plain": [
       "           food  age\n",
       "alice     sushi   19\n",
       "bob       tacos    7\n",
       "carol      kiwi   12\n",
       "daisy  skittles    3"
      ]
     },
     "execution_count": 45,
     "metadata": {},
     "output_type": "execute_result"
    }
   ],
   "source": [
    "df_sib.iloc[:, [1, 0]]"
   ]
  },
  {
   "cell_type": "code",
   "execution_count": 46,
   "id": "74952ab9-5a8a-4202-9614-1fc8f81c8738",
   "metadata": {},
   "outputs": [
    {
     "data": {
      "text/html": [
       "<div>\n",
       "<style scoped>\n",
       "    .dataframe tbody tr th:only-of-type {\n",
       "        vertical-align: middle;\n",
       "    }\n",
       "\n",
       "    .dataframe tbody tr th {\n",
       "        vertical-align: top;\n",
       "    }\n",
       "\n",
       "    .dataframe thead th {\n",
       "        text-align: right;\n",
       "    }\n",
       "</style>\n",
       "<table border=\"1\" class=\"dataframe\">\n",
       "  <thead>\n",
       "    <tr style=\"text-align: right;\">\n",
       "      <th></th>\n",
       "      <th>age</th>\n",
       "      <th>food</th>\n",
       "      <th>animal</th>\n",
       "    </tr>\n",
       "  </thead>\n",
       "  <tbody>\n",
       "    <tr>\n",
       "      <th>alice</th>\n",
       "      <td>19</td>\n",
       "      <td>sushi</td>\n",
       "      <td>unicorn</td>\n",
       "    </tr>\n",
       "    <tr>\n",
       "      <th>bob</th>\n",
       "      <td>7</td>\n",
       "      <td>tacos</td>\n",
       "      <td>panda</td>\n",
       "    </tr>\n",
       "    <tr>\n",
       "      <th>carol</th>\n",
       "      <td>12</td>\n",
       "      <td>kiwi</td>\n",
       "      <td>monkey</td>\n",
       "    </tr>\n",
       "    <tr>\n",
       "      <th>daisy</th>\n",
       "      <td>3</td>\n",
       "      <td>skittles</td>\n",
       "      <td>rhino</td>\n",
       "    </tr>\n",
       "  </tbody>\n",
       "</table>\n",
       "</div>"
      ],
      "text/plain": [
       "       age      food   animal\n",
       "alice   19     sushi  unicorn\n",
       "bob      7     tacos    panda\n",
       "carol   12      kiwi   monkey\n",
       "daisy    3  skittles    rhino"
      ]
     },
     "execution_count": 46,
     "metadata": {},
     "output_type": "execute_result"
    }
   ],
   "source": [
    "df_sib"
   ]
  },
  {
   "cell_type": "markdown",
   "id": "d8dd6dc5-2584-42cb-9ca6-6abee28be483",
   "metadata": {},
   "source": [
    "### Adding a Column"
   ]
  },
  {
   "cell_type": "code",
   "execution_count": 48,
   "id": "b1e972b6-d83d-4fcb-a112-0da5d27af636",
   "metadata": {},
   "outputs": [],
   "source": [
    "df_sib['is_child'] = df_sib.age < 18 # must use bracket notation"
   ]
  },
  {
   "cell_type": "code",
   "execution_count": 49,
   "id": "f4439400-3533-426f-a385-7ed7462c7fee",
   "metadata": {},
   "outputs": [
    {
     "data": {
      "text/html": [
       "<div>\n",
       "<style scoped>\n",
       "    .dataframe tbody tr th:only-of-type {\n",
       "        vertical-align: middle;\n",
       "    }\n",
       "\n",
       "    .dataframe tbody tr th {\n",
       "        vertical-align: top;\n",
       "    }\n",
       "\n",
       "    .dataframe thead th {\n",
       "        text-align: right;\n",
       "    }\n",
       "</style>\n",
       "<table border=\"1\" class=\"dataframe\">\n",
       "  <thead>\n",
       "    <tr style=\"text-align: right;\">\n",
       "      <th></th>\n",
       "      <th>age</th>\n",
       "      <th>food</th>\n",
       "      <th>animal</th>\n",
       "      <th>is_child</th>\n",
       "    </tr>\n",
       "  </thead>\n",
       "  <tbody>\n",
       "    <tr>\n",
       "      <th>alice</th>\n",
       "      <td>19</td>\n",
       "      <td>sushi</td>\n",
       "      <td>unicorn</td>\n",
       "      <td>False</td>\n",
       "    </tr>\n",
       "    <tr>\n",
       "      <th>bob</th>\n",
       "      <td>7</td>\n",
       "      <td>tacos</td>\n",
       "      <td>panda</td>\n",
       "      <td>True</td>\n",
       "    </tr>\n",
       "    <tr>\n",
       "      <th>carol</th>\n",
       "      <td>12</td>\n",
       "      <td>kiwi</td>\n",
       "      <td>monkey</td>\n",
       "      <td>True</td>\n",
       "    </tr>\n",
       "    <tr>\n",
       "      <th>daisy</th>\n",
       "      <td>3</td>\n",
       "      <td>skittles</td>\n",
       "      <td>rhino</td>\n",
       "      <td>True</td>\n",
       "    </tr>\n",
       "  </tbody>\n",
       "</table>\n",
       "</div>"
      ],
      "text/plain": [
       "       age      food   animal  is_child\n",
       "alice   19     sushi  unicorn     False\n",
       "bob      7     tacos    panda      True\n",
       "carol   12      kiwi   monkey      True\n",
       "daisy    3  skittles    rhino      True"
      ]
     },
     "execution_count": 49,
     "metadata": {},
     "output_type": "execute_result"
    }
   ],
   "source": [
    "df_sib"
   ]
  },
  {
   "cell_type": "markdown",
   "id": "35bd3256-d688-49af-af37-59b9bfbe0d9a",
   "metadata": {},
   "source": [
    "### Sorting a DataFrame column"
   ]
  },
  {
   "cell_type": "code",
   "execution_count": 51,
   "id": "cf4d9d22-fd90-4cf0-a74f-f394e63b426d",
   "metadata": {},
   "outputs": [
    {
     "data": {
      "text/html": [
       "<div>\n",
       "<style scoped>\n",
       "    .dataframe tbody tr th:only-of-type {\n",
       "        vertical-align: middle;\n",
       "    }\n",
       "\n",
       "    .dataframe tbody tr th {\n",
       "        vertical-align: top;\n",
       "    }\n",
       "\n",
       "    .dataframe thead th {\n",
       "        text-align: right;\n",
       "    }\n",
       "</style>\n",
       "<table border=\"1\" class=\"dataframe\">\n",
       "  <thead>\n",
       "    <tr style=\"text-align: right;\">\n",
       "      <th></th>\n",
       "      <th>age</th>\n",
       "      <th>food</th>\n",
       "      <th>animal</th>\n",
       "      <th>is_child</th>\n",
       "    </tr>\n",
       "  </thead>\n",
       "  <tbody>\n",
       "    <tr>\n",
       "      <th>daisy</th>\n",
       "      <td>3</td>\n",
       "      <td>skittles</td>\n",
       "      <td>rhino</td>\n",
       "      <td>True</td>\n",
       "    </tr>\n",
       "    <tr>\n",
       "      <th>bob</th>\n",
       "      <td>7</td>\n",
       "      <td>tacos</td>\n",
       "      <td>panda</td>\n",
       "      <td>True</td>\n",
       "    </tr>\n",
       "    <tr>\n",
       "      <th>carol</th>\n",
       "      <td>12</td>\n",
       "      <td>kiwi</td>\n",
       "      <td>monkey</td>\n",
       "      <td>True</td>\n",
       "    </tr>\n",
       "    <tr>\n",
       "      <th>alice</th>\n",
       "      <td>19</td>\n",
       "      <td>sushi</td>\n",
       "      <td>unicorn</td>\n",
       "      <td>False</td>\n",
       "    </tr>\n",
       "  </tbody>\n",
       "</table>\n",
       "</div>"
      ],
      "text/plain": [
       "       age      food   animal  is_child\n",
       "daisy    3  skittles    rhino      True\n",
       "bob      7     tacos    panda      True\n",
       "carol   12      kiwi   monkey      True\n",
       "alice   19     sushi  unicorn     False"
      ]
     },
     "execution_count": 51,
     "metadata": {},
     "output_type": "execute_result"
    }
   ],
   "source": [
    "df_sib.sort_values(by='age')"
   ]
  },
  {
   "cell_type": "code",
   "execution_count": 52,
   "id": "903c3b78-64bc-40bd-a3dd-107c5051e0d3",
   "metadata": {},
   "outputs": [
    {
     "data": {
      "text/html": [
       "<div>\n",
       "<style scoped>\n",
       "    .dataframe tbody tr th:only-of-type {\n",
       "        vertical-align: middle;\n",
       "    }\n",
       "\n",
       "    .dataframe tbody tr th {\n",
       "        vertical-align: top;\n",
       "    }\n",
       "\n",
       "    .dataframe thead th {\n",
       "        text-align: right;\n",
       "    }\n",
       "</style>\n",
       "<table border=\"1\" class=\"dataframe\">\n",
       "  <thead>\n",
       "    <tr style=\"text-align: right;\">\n",
       "      <th></th>\n",
       "      <th>age</th>\n",
       "      <th>food</th>\n",
       "      <th>animal</th>\n",
       "      <th>is_child</th>\n",
       "    </tr>\n",
       "  </thead>\n",
       "  <tbody>\n",
       "    <tr>\n",
       "      <th>alice</th>\n",
       "      <td>19</td>\n",
       "      <td>sushi</td>\n",
       "      <td>unicorn</td>\n",
       "      <td>False</td>\n",
       "    </tr>\n",
       "    <tr>\n",
       "      <th>carol</th>\n",
       "      <td>12</td>\n",
       "      <td>kiwi</td>\n",
       "      <td>monkey</td>\n",
       "      <td>True</td>\n",
       "    </tr>\n",
       "    <tr>\n",
       "      <th>bob</th>\n",
       "      <td>7</td>\n",
       "      <td>tacos</td>\n",
       "      <td>panda</td>\n",
       "      <td>True</td>\n",
       "    </tr>\n",
       "    <tr>\n",
       "      <th>daisy</th>\n",
       "      <td>3</td>\n",
       "      <td>skittles</td>\n",
       "      <td>rhino</td>\n",
       "      <td>True</td>\n",
       "    </tr>\n",
       "  </tbody>\n",
       "</table>\n",
       "</div>"
      ],
      "text/plain": [
       "       age      food   animal  is_child\n",
       "alice   19     sushi  unicorn     False\n",
       "carol   12      kiwi   monkey      True\n",
       "bob      7     tacos    panda      True\n",
       "daisy    3  skittles    rhino      True"
      ]
     },
     "execution_count": 52,
     "metadata": {},
     "output_type": "execute_result"
    }
   ],
   "source": [
    "df_sib.sort_values(by='age', ascending=False) # makes a copy"
   ]
  },
  {
   "cell_type": "code",
   "execution_count": 53,
   "id": "135ec692-c717-4f5a-8242-eaa92ef03fa1",
   "metadata": {},
   "outputs": [],
   "source": [
    "df_sib.sort_values(by='age', ascending=False, inplace=True) # modify df_sib"
   ]
  },
  {
   "cell_type": "code",
   "execution_count": 54,
   "id": "93fc03de-b7a0-44fc-8443-6e1f67e48a4f",
   "metadata": {},
   "outputs": [
    {
     "data": {
      "text/html": [
       "<div>\n",
       "<style scoped>\n",
       "    .dataframe tbody tr th:only-of-type {\n",
       "        vertical-align: middle;\n",
       "    }\n",
       "\n",
       "    .dataframe tbody tr th {\n",
       "        vertical-align: top;\n",
       "    }\n",
       "\n",
       "    .dataframe thead th {\n",
       "        text-align: right;\n",
       "    }\n",
       "</style>\n",
       "<table border=\"1\" class=\"dataframe\">\n",
       "  <thead>\n",
       "    <tr style=\"text-align: right;\">\n",
       "      <th></th>\n",
       "      <th>age</th>\n",
       "      <th>food</th>\n",
       "      <th>animal</th>\n",
       "      <th>is_child</th>\n",
       "    </tr>\n",
       "  </thead>\n",
       "  <tbody>\n",
       "    <tr>\n",
       "      <th>alice</th>\n",
       "      <td>19</td>\n",
       "      <td>sushi</td>\n",
       "      <td>unicorn</td>\n",
       "      <td>False</td>\n",
       "    </tr>\n",
       "    <tr>\n",
       "      <th>carol</th>\n",
       "      <td>12</td>\n",
       "      <td>kiwi</td>\n",
       "      <td>monkey</td>\n",
       "      <td>True</td>\n",
       "    </tr>\n",
       "    <tr>\n",
       "      <th>bob</th>\n",
       "      <td>7</td>\n",
       "      <td>tacos</td>\n",
       "      <td>panda</td>\n",
       "      <td>True</td>\n",
       "    </tr>\n",
       "    <tr>\n",
       "      <th>daisy</th>\n",
       "      <td>3</td>\n",
       "      <td>skittles</td>\n",
       "      <td>rhino</td>\n",
       "      <td>True</td>\n",
       "    </tr>\n",
       "  </tbody>\n",
       "</table>\n",
       "</div>"
      ],
      "text/plain": [
       "       age      food   animal  is_child\n",
       "alice   19     sushi  unicorn     False\n",
       "carol   12      kiwi   monkey      True\n",
       "bob      7     tacos    panda      True\n",
       "daisy    3  skittles    rhino      True"
      ]
     },
     "execution_count": 54,
     "metadata": {},
     "output_type": "execute_result"
    }
   ],
   "source": [
    "df_sib"
   ]
  },
  {
   "cell_type": "markdown",
   "id": "c5dd5808-394a-4b86-a6d9-9b0fc4422f63",
   "metadata": {},
   "source": [
    "### IMDB Reading"
   ]
  },
  {
   "cell_type": "code",
   "execution_count": 57,
   "id": "45545558-8c73-4682-826e-67685e947e69",
   "metadata": {},
   "outputs": [
    {
     "data": {
      "text/html": [
       "<div>\n",
       "<style scoped>\n",
       "    .dataframe tbody tr th:only-of-type {\n",
       "        vertical-align: middle;\n",
       "    }\n",
       "\n",
       "    .dataframe tbody tr th {\n",
       "        vertical-align: top;\n",
       "    }\n",
       "\n",
       "    .dataframe thead th {\n",
       "        text-align: right;\n",
       "    }\n",
       "</style>\n",
       "<table border=\"1\" class=\"dataframe\">\n",
       "  <thead>\n",
       "    <tr style=\"text-align: right;\">\n",
       "      <th></th>\n",
       "      <th>Genre</th>\n",
       "      <th>Description</th>\n",
       "      <th>Director</th>\n",
       "      <th>Actors</th>\n",
       "      <th>Year</th>\n",
       "      <th>Runtime (Minutes)</th>\n",
       "      <th>Rating</th>\n",
       "      <th>Votes</th>\n",
       "      <th>Revenue (Millions)</th>\n",
       "      <th>Metascore</th>\n",
       "    </tr>\n",
       "    <tr>\n",
       "      <th>Title</th>\n",
       "      <th></th>\n",
       "      <th></th>\n",
       "      <th></th>\n",
       "      <th></th>\n",
       "      <th></th>\n",
       "      <th></th>\n",
       "      <th></th>\n",
       "      <th></th>\n",
       "      <th></th>\n",
       "      <th></th>\n",
       "    </tr>\n",
       "  </thead>\n",
       "  <tbody>\n",
       "    <tr>\n",
       "      <th>Star Wars: Episode VII - The Force Awakens</th>\n",
       "      <td>Action,Adventure,Fantasy</td>\n",
       "      <td>Three decades after the defeat of the Galactic...</td>\n",
       "      <td>J.J. Abrams</td>\n",
       "      <td>Daisy Ridley, John Boyega, Oscar Isaac, Domhna...</td>\n",
       "      <td>2015</td>\n",
       "      <td>136</td>\n",
       "      <td>8.1</td>\n",
       "      <td>661608</td>\n",
       "      <td>936.63</td>\n",
       "      <td>81.0</td>\n",
       "    </tr>\n",
       "    <tr>\n",
       "      <th>Avatar</th>\n",
       "      <td>Action,Adventure,Fantasy</td>\n",
       "      <td>A paraplegic marine dispatched to the moon Pan...</td>\n",
       "      <td>James Cameron</td>\n",
       "      <td>Sam Worthington, Zoe Saldana, Sigourney Weaver...</td>\n",
       "      <td>2009</td>\n",
       "      <td>162</td>\n",
       "      <td>7.8</td>\n",
       "      <td>935408</td>\n",
       "      <td>760.51</td>\n",
       "      <td>83.0</td>\n",
       "    </tr>\n",
       "    <tr>\n",
       "      <th>Jurassic World</th>\n",
       "      <td>Action,Adventure,Sci-Fi</td>\n",
       "      <td>A new theme park, built on the original site o...</td>\n",
       "      <td>Colin Trevorrow</td>\n",
       "      <td>Chris Pratt, Bryce Dallas Howard, Ty Simpkins,...</td>\n",
       "      <td>2015</td>\n",
       "      <td>124</td>\n",
       "      <td>7.0</td>\n",
       "      <td>455169</td>\n",
       "      <td>652.18</td>\n",
       "      <td>59.0</td>\n",
       "    </tr>\n",
       "    <tr>\n",
       "      <th>The Avengers</th>\n",
       "      <td>Action,Sci-Fi</td>\n",
       "      <td>Earth's mightiest heroes must come together an...</td>\n",
       "      <td>Joss Whedon</td>\n",
       "      <td>Robert Downey Jr., Chris Evans, Scarlett Johan...</td>\n",
       "      <td>2012</td>\n",
       "      <td>143</td>\n",
       "      <td>8.1</td>\n",
       "      <td>1045588</td>\n",
       "      <td>623.28</td>\n",
       "      <td>69.0</td>\n",
       "    </tr>\n",
       "    <tr>\n",
       "      <th>The Dark Knight</th>\n",
       "      <td>Action,Crime,Drama</td>\n",
       "      <td>When the menace known as the Joker wreaks havo...</td>\n",
       "      <td>Christopher Nolan</td>\n",
       "      <td>Christian Bale, Heath Ledger, Aaron Eckhart,Mi...</td>\n",
       "      <td>2008</td>\n",
       "      <td>152</td>\n",
       "      <td>9.0</td>\n",
       "      <td>1791916</td>\n",
       "      <td>533.32</td>\n",
       "      <td>82.0</td>\n",
       "    </tr>\n",
       "    <tr>\n",
       "      <th>...</th>\n",
       "      <td>...</td>\n",
       "      <td>...</td>\n",
       "      <td>...</td>\n",
       "      <td>...</td>\n",
       "      <td>...</td>\n",
       "      <td>...</td>\n",
       "      <td>...</td>\n",
       "      <td>...</td>\n",
       "      <td>...</td>\n",
       "      <td>...</td>\n",
       "    </tr>\n",
       "    <tr>\n",
       "      <th>This Beautiful Fantastic</th>\n",
       "      <td>Comedy,Drama,Fantasy</td>\n",
       "      <td>A young woman who dreams of being a children's...</td>\n",
       "      <td>Simon Aboud</td>\n",
       "      <td>Jessica Brown Findlay, Andrew Scott, Jeremy Ir...</td>\n",
       "      <td>2016</td>\n",
       "      <td>100</td>\n",
       "      <td>6.9</td>\n",
       "      <td>688</td>\n",
       "      <td>NaN</td>\n",
       "      <td>51.0</td>\n",
       "    </tr>\n",
       "    <tr>\n",
       "      <th>Triangle</th>\n",
       "      <td>Fantasy,Mystery,Thriller</td>\n",
       "      <td>The story revolves around the passengers of a ...</td>\n",
       "      <td>Christopher Smith</td>\n",
       "      <td>Melissa George, Joshua McIvor, Jack Taylor,Mic...</td>\n",
       "      <td>2009</td>\n",
       "      <td>99</td>\n",
       "      <td>6.9</td>\n",
       "      <td>72533</td>\n",
       "      <td>NaN</td>\n",
       "      <td>66.0</td>\n",
       "    </tr>\n",
       "    <tr>\n",
       "      <th>True Crimes</th>\n",
       "      <td>Crime,Drama,Thriller</td>\n",
       "      <td>A murder investigation of a slain business man...</td>\n",
       "      <td>Alexandros Avranas</td>\n",
       "      <td>Jim Carrey, Charlotte Gainsbourg, Marton Csoka...</td>\n",
       "      <td>2016</td>\n",
       "      <td>92</td>\n",
       "      <td>7.3</td>\n",
       "      <td>198</td>\n",
       "      <td>NaN</td>\n",
       "      <td>43.0</td>\n",
       "    </tr>\n",
       "    <tr>\n",
       "      <th>Twin Peaks: The Missing Pieces</th>\n",
       "      <td>Drama,Horror,Mystery</td>\n",
       "      <td>Twin Peaks before Twin Peaks (1990) and at the...</td>\n",
       "      <td>David Lynch</td>\n",
       "      <td>Chris Isaak, Kiefer Sutherland, C.H. Evans, Sa...</td>\n",
       "      <td>2014</td>\n",
       "      <td>91</td>\n",
       "      <td>8.1</td>\n",
       "      <td>1973</td>\n",
       "      <td>NaN</td>\n",
       "      <td>NaN</td>\n",
       "    </tr>\n",
       "    <tr>\n",
       "      <th>Winter's Bone</th>\n",
       "      <td>Drama</td>\n",
       "      <td>An unflinching Ozark Mountain girl hacks throu...</td>\n",
       "      <td>Debra Granik</td>\n",
       "      <td>Jennifer Lawrence, John Hawkes, Garret Dillahu...</td>\n",
       "      <td>2010</td>\n",
       "      <td>100</td>\n",
       "      <td>7.2</td>\n",
       "      <td>116435</td>\n",
       "      <td>NaN</td>\n",
       "      <td>NaN</td>\n",
       "    </tr>\n",
       "  </tbody>\n",
       "</table>\n",
       "<p>500 rows × 10 columns</p>\n",
       "</div>"
      ],
      "text/plain": [
       "                                                               Genre  \\\n",
       "Title                                                                  \n",
       "Star Wars: Episode VII - The Force Awakens  Action,Adventure,Fantasy   \n",
       "Avatar                                      Action,Adventure,Fantasy   \n",
       "Jurassic World                               Action,Adventure,Sci-Fi   \n",
       "The Avengers                                           Action,Sci-Fi   \n",
       "The Dark Knight                                   Action,Crime,Drama   \n",
       "...                                                              ...   \n",
       "This Beautiful Fantastic                        Comedy,Drama,Fantasy   \n",
       "Triangle                                    Fantasy,Mystery,Thriller   \n",
       "True Crimes                                     Crime,Drama,Thriller   \n",
       "Twin Peaks: The Missing Pieces                  Drama,Horror,Mystery   \n",
       "Winter's Bone                                                  Drama   \n",
       "\n",
       "                                                                                  Description  \\\n",
       "Title                                                                                           \n",
       "Star Wars: Episode VII - The Force Awakens  Three decades after the defeat of the Galactic...   \n",
       "Avatar                                      A paraplegic marine dispatched to the moon Pan...   \n",
       "Jurassic World                              A new theme park, built on the original site o...   \n",
       "The Avengers                                Earth's mightiest heroes must come together an...   \n",
       "The Dark Knight                             When the menace known as the Joker wreaks havo...   \n",
       "...                                                                                       ...   \n",
       "This Beautiful Fantastic                    A young woman who dreams of being a children's...   \n",
       "Triangle                                    The story revolves around the passengers of a ...   \n",
       "True Crimes                                 A murder investigation of a slain business man...   \n",
       "Twin Peaks: The Missing Pieces              Twin Peaks before Twin Peaks (1990) and at the...   \n",
       "Winter's Bone                               An unflinching Ozark Mountain girl hacks throu...   \n",
       "\n",
       "                                                      Director  \\\n",
       "Title                                                            \n",
       "Star Wars: Episode VII - The Force Awakens         J.J. Abrams   \n",
       "Avatar                                           James Cameron   \n",
       "Jurassic World                                 Colin Trevorrow   \n",
       "The Avengers                                       Joss Whedon   \n",
       "The Dark Knight                              Christopher Nolan   \n",
       "...                                                        ...   \n",
       "This Beautiful Fantastic                           Simon Aboud   \n",
       "Triangle                                     Christopher Smith   \n",
       "True Crimes                                 Alexandros Avranas   \n",
       "Twin Peaks: The Missing Pieces                     David Lynch   \n",
       "Winter's Bone                                     Debra Granik   \n",
       "\n",
       "                                                                                       Actors  \\\n",
       "Title                                                                                           \n",
       "Star Wars: Episode VII - The Force Awakens  Daisy Ridley, John Boyega, Oscar Isaac, Domhna...   \n",
       "Avatar                                      Sam Worthington, Zoe Saldana, Sigourney Weaver...   \n",
       "Jurassic World                              Chris Pratt, Bryce Dallas Howard, Ty Simpkins,...   \n",
       "The Avengers                                Robert Downey Jr., Chris Evans, Scarlett Johan...   \n",
       "The Dark Knight                             Christian Bale, Heath Ledger, Aaron Eckhart,Mi...   \n",
       "...                                                                                       ...   \n",
       "This Beautiful Fantastic                    Jessica Brown Findlay, Andrew Scott, Jeremy Ir...   \n",
       "Triangle                                    Melissa George, Joshua McIvor, Jack Taylor,Mic...   \n",
       "True Crimes                                 Jim Carrey, Charlotte Gainsbourg, Marton Csoka...   \n",
       "Twin Peaks: The Missing Pieces              Chris Isaak, Kiefer Sutherland, C.H. Evans, Sa...   \n",
       "Winter's Bone                               Jennifer Lawrence, John Hawkes, Garret Dillahu...   \n",
       "\n",
       "                                            Year  Runtime (Minutes)  Rating  \\\n",
       "Title                                                                         \n",
       "Star Wars: Episode VII - The Force Awakens  2015                136     8.1   \n",
       "Avatar                                      2009                162     7.8   \n",
       "Jurassic World                              2015                124     7.0   \n",
       "The Avengers                                2012                143     8.1   \n",
       "The Dark Knight                             2008                152     9.0   \n",
       "...                                          ...                ...     ...   \n",
       "This Beautiful Fantastic                    2016                100     6.9   \n",
       "Triangle                                    2009                 99     6.9   \n",
       "True Crimes                                 2016                 92     7.3   \n",
       "Twin Peaks: The Missing Pieces              2014                 91     8.1   \n",
       "Winter's Bone                               2010                100     7.2   \n",
       "\n",
       "                                              Votes  Revenue (Millions)  \\\n",
       "Title                                                                     \n",
       "Star Wars: Episode VII - The Force Awakens   661608              936.63   \n",
       "Avatar                                       935408              760.51   \n",
       "Jurassic World                               455169              652.18   \n",
       "The Avengers                                1045588              623.28   \n",
       "The Dark Knight                             1791916              533.32   \n",
       "...                                             ...                 ...   \n",
       "This Beautiful Fantastic                        688                 NaN   \n",
       "Triangle                                      72533                 NaN   \n",
       "True Crimes                                     198                 NaN   \n",
       "Twin Peaks: The Missing Pieces                 1973                 NaN   \n",
       "Winter's Bone                                116435                 NaN   \n",
       "\n",
       "                                            Metascore  \n",
       "Title                                                  \n",
       "Star Wars: Episode VII - The Force Awakens       81.0  \n",
       "Avatar                                           83.0  \n",
       "Jurassic World                                   59.0  \n",
       "The Avengers                                     69.0  \n",
       "The Dark Knight                                  82.0  \n",
       "...                                               ...  \n",
       "This Beautiful Fantastic                         51.0  \n",
       "Triangle                                         66.0  \n",
       "True Crimes                                      43.0  \n",
       "Twin Peaks: The Missing Pieces                    NaN  \n",
       "Winter's Bone                                     NaN  \n",
       "\n",
       "[500 rows x 10 columns]"
      ]
     },
     "execution_count": 57,
     "metadata": {},
     "output_type": "execute_result"
    }
   ],
   "source": [
    "dfmovie = pd.read_csv('imdb-movie.csv', index_col='Title')\n",
    "dfmovie"
   ]
  },
  {
   "cell_type": "code",
   "execution_count": 59,
   "id": "7dabebba-6ebd-465a-9bc7-112108f634b0",
   "metadata": {},
   "outputs": [
    {
     "data": {
      "text/html": [
       "<div>\n",
       "<style scoped>\n",
       "    .dataframe tbody tr th:only-of-type {\n",
       "        vertical-align: middle;\n",
       "    }\n",
       "\n",
       "    .dataframe tbody tr th {\n",
       "        vertical-align: top;\n",
       "    }\n",
       "\n",
       "    .dataframe thead th {\n",
       "        text-align: right;\n",
       "    }\n",
       "</style>\n",
       "<table border=\"1\" class=\"dataframe\">\n",
       "  <thead>\n",
       "    <tr style=\"text-align: right;\">\n",
       "      <th></th>\n",
       "      <th>Genre</th>\n",
       "      <th>Description</th>\n",
       "      <th>Director</th>\n",
       "      <th>Actors</th>\n",
       "      <th>Year</th>\n",
       "      <th>Runtime (Minutes)</th>\n",
       "      <th>Rating</th>\n",
       "      <th>Votes</th>\n",
       "      <th>Revenue (Millions)</th>\n",
       "      <th>Metascore</th>\n",
       "    </tr>\n",
       "    <tr>\n",
       "      <th>Title</th>\n",
       "      <th></th>\n",
       "      <th></th>\n",
       "      <th></th>\n",
       "      <th></th>\n",
       "      <th></th>\n",
       "      <th></th>\n",
       "      <th></th>\n",
       "      <th></th>\n",
       "      <th></th>\n",
       "      <th></th>\n",
       "    </tr>\n",
       "  </thead>\n",
       "  <tbody>\n",
       "    <tr>\n",
       "      <th>Twin Peaks: The Missing Pieces</th>\n",
       "      <td>Drama,Horror,Mystery</td>\n",
       "      <td>Twin Peaks before Twin Peaks (1990) and at the...</td>\n",
       "      <td>David Lynch</td>\n",
       "      <td>Chris Isaak, Kiefer Sutherland, C.H. Evans, Sa...</td>\n",
       "      <td>2014</td>\n",
       "      <td>91</td>\n",
       "      <td>8.1</td>\n",
       "      <td>1973</td>\n",
       "      <td>NaN</td>\n",
       "      <td>NaN</td>\n",
       "    </tr>\n",
       "    <tr>\n",
       "      <th>Winter's Bone</th>\n",
       "      <td>Drama</td>\n",
       "      <td>An unflinching Ozark Mountain girl hacks throu...</td>\n",
       "      <td>Debra Granik</td>\n",
       "      <td>Jennifer Lawrence, John Hawkes, Garret Dillahu...</td>\n",
       "      <td>2010</td>\n",
       "      <td>100</td>\n",
       "      <td>7.2</td>\n",
       "      <td>116435</td>\n",
       "      <td>NaN</td>\n",
       "      <td>NaN</td>\n",
       "    </tr>\n",
       "  </tbody>\n",
       "</table>\n",
       "</div>"
      ],
      "text/plain": [
       "                                               Genre  \\\n",
       "Title                                                  \n",
       "Twin Peaks: The Missing Pieces  Drama,Horror,Mystery   \n",
       "Winter's Bone                                  Drama   \n",
       "\n",
       "                                                                      Description  \\\n",
       "Title                                                                               \n",
       "Twin Peaks: The Missing Pieces  Twin Peaks before Twin Peaks (1990) and at the...   \n",
       "Winter's Bone                   An unflinching Ozark Mountain girl hacks throu...   \n",
       "\n",
       "                                    Director  \\\n",
       "Title                                          \n",
       "Twin Peaks: The Missing Pieces   David Lynch   \n",
       "Winter's Bone                   Debra Granik   \n",
       "\n",
       "                                                                           Actors  \\\n",
       "Title                                                                               \n",
       "Twin Peaks: The Missing Pieces  Chris Isaak, Kiefer Sutherland, C.H. Evans, Sa...   \n",
       "Winter's Bone                   Jennifer Lawrence, John Hawkes, Garret Dillahu...   \n",
       "\n",
       "                                Year  Runtime (Minutes)  Rating   Votes  \\\n",
       "Title                                                                     \n",
       "Twin Peaks: The Missing Pieces  2014                 91     8.1    1973   \n",
       "Winter's Bone                   2010                100     7.2  116435   \n",
       "\n",
       "                                Revenue (Millions)  Metascore  \n",
       "Title                                                          \n",
       "Twin Peaks: The Missing Pieces                 NaN        NaN  \n",
       "Winter's Bone                                  NaN        NaN  "
      ]
     },
     "execution_count": 59,
     "metadata": {},
     "output_type": "execute_result"
    }
   ],
   "source": [
    "dfmovie.tail(2)"
   ]
  },
  {
   "cell_type": "code",
   "execution_count": 61,
   "id": "2e370cb9-e9f1-4f86-acec-9deca1353eb4",
   "metadata": {},
   "outputs": [
    {
     "name": "stdout",
     "output_type": "stream",
     "text": [
      "<class 'pandas.core.frame.DataFrame'>\n",
      "Index: 500 entries, Star Wars: Episode VII - The Force Awakens to Winter's Bone\n",
      "Data columns (total 10 columns):\n",
      " #   Column              Non-Null Count  Dtype  \n",
      "---  ------              --------------  -----  \n",
      " 0   Genre               500 non-null    object \n",
      " 1   Description         500 non-null    object \n",
      " 2   Director            500 non-null    object \n",
      " 3   Actors              500 non-null    object \n",
      " 4   Year                500 non-null    int64  \n",
      " 5   Runtime (Minutes)   500 non-null    int64  \n",
      " 6   Rating              500 non-null    float64\n",
      " 7   Votes               500 non-null    int64  \n",
      " 8   Revenue (Millions)  465 non-null    float64\n",
      " 9   Metascore           467 non-null    float64\n",
      "dtypes: float64(3), int64(3), object(4)\n",
      "memory usage: 43.0+ KB\n"
     ]
    }
   ],
   "source": [
    "dfmovie.info()"
   ]
  },
  {
   "cell_type": "code",
   "execution_count": 63,
   "id": "82b4fc29-7fcb-4005-8a91-f50a9175312d",
   "metadata": {},
   "outputs": [
    {
     "data": {
      "text/html": [
       "<div>\n",
       "<style scoped>\n",
       "    .dataframe tbody tr th:only-of-type {\n",
       "        vertical-align: middle;\n",
       "    }\n",
       "\n",
       "    .dataframe tbody tr th {\n",
       "        vertical-align: top;\n",
       "    }\n",
       "\n",
       "    .dataframe thead th {\n",
       "        text-align: right;\n",
       "    }\n",
       "</style>\n",
       "<table border=\"1\" class=\"dataframe\">\n",
       "  <thead>\n",
       "    <tr style=\"text-align: right;\">\n",
       "      <th></th>\n",
       "      <th>Year</th>\n",
       "      <th>Runtime (Minutes)</th>\n",
       "      <th>Rating</th>\n",
       "      <th>Votes</th>\n",
       "      <th>Revenue (Millions)</th>\n",
       "      <th>Metascore</th>\n",
       "    </tr>\n",
       "  </thead>\n",
       "  <tbody>\n",
       "    <tr>\n",
       "      <th>count</th>\n",
       "      <td>500.000000</td>\n",
       "      <td>500.000000</td>\n",
       "      <td>500.000000</td>\n",
       "      <td>5.000000e+02</td>\n",
       "      <td>465.000000</td>\n",
       "      <td>467.000000</td>\n",
       "    </tr>\n",
       "    <tr>\n",
       "      <th>mean</th>\n",
       "      <td>2012.166000</td>\n",
       "      <td>119.494000</td>\n",
       "      <td>7.461000</td>\n",
       "      <td>2.486979e+05</td>\n",
       "      <td>99.529118</td>\n",
       "      <td>69.051392</td>\n",
       "    </tr>\n",
       "    <tr>\n",
       "      <th>std</th>\n",
       "      <td>3.319712</td>\n",
       "      <td>19.779596</td>\n",
       "      <td>0.444042</td>\n",
       "      <td>2.246276e+05</td>\n",
       "      <td>121.446885</td>\n",
       "      <td>13.389571</td>\n",
       "    </tr>\n",
       "    <tr>\n",
       "      <th>min</th>\n",
       "      <td>2006.000000</td>\n",
       "      <td>66.000000</td>\n",
       "      <td>6.800000</td>\n",
       "      <td>6.100000e+01</td>\n",
       "      <td>0.010000</td>\n",
       "      <td>23.000000</td>\n",
       "    </tr>\n",
       "    <tr>\n",
       "      <th>25%</th>\n",
       "      <td>2009.000000</td>\n",
       "      <td>105.000000</td>\n",
       "      <td>7.100000</td>\n",
       "      <td>8.955050e+04</td>\n",
       "      <td>14.670000</td>\n",
       "      <td>60.000000</td>\n",
       "    </tr>\n",
       "    <tr>\n",
       "      <th>50%</th>\n",
       "      <td>2013.000000</td>\n",
       "      <td>117.000000</td>\n",
       "      <td>7.400000</td>\n",
       "      <td>1.998365e+05</td>\n",
       "      <td>54.120000</td>\n",
       "      <td>70.000000</td>\n",
       "    </tr>\n",
       "    <tr>\n",
       "      <th>75%</th>\n",
       "      <td>2015.000000</td>\n",
       "      <td>130.250000</td>\n",
       "      <td>7.800000</td>\n",
       "      <td>3.465072e+05</td>\n",
       "      <td>141.320000</td>\n",
       "      <td>79.000000</td>\n",
       "    </tr>\n",
       "    <tr>\n",
       "      <th>max</th>\n",
       "      <td>2016.000000</td>\n",
       "      <td>191.000000</td>\n",
       "      <td>9.000000</td>\n",
       "      <td>1.791916e+06</td>\n",
       "      <td>936.630000</td>\n",
       "      <td>100.000000</td>\n",
       "    </tr>\n",
       "  </tbody>\n",
       "</table>\n",
       "</div>"
      ],
      "text/plain": [
       "              Year  Runtime (Minutes)      Rating         Votes  \\\n",
       "count   500.000000         500.000000  500.000000  5.000000e+02   \n",
       "mean   2012.166000         119.494000    7.461000  2.486979e+05   \n",
       "std       3.319712          19.779596    0.444042  2.246276e+05   \n",
       "min    2006.000000          66.000000    6.800000  6.100000e+01   \n",
       "25%    2009.000000         105.000000    7.100000  8.955050e+04   \n",
       "50%    2013.000000         117.000000    7.400000  1.998365e+05   \n",
       "75%    2015.000000         130.250000    7.800000  3.465072e+05   \n",
       "max    2016.000000         191.000000    9.000000  1.791916e+06   \n",
       "\n",
       "       Revenue (Millions)   Metascore  \n",
       "count          465.000000  467.000000  \n",
       "mean            99.529118   69.051392  \n",
       "std            121.446885   13.389571  \n",
       "min              0.010000   23.000000  \n",
       "25%             14.670000   60.000000  \n",
       "50%             54.120000   70.000000  \n",
       "75%            141.320000   79.000000  \n",
       "max            936.630000  100.000000  "
      ]
     },
     "execution_count": 63,
     "metadata": {},
     "output_type": "execute_result"
    }
   ],
   "source": [
    "dfmovie.describe() #for numerical data"
   ]
  },
  {
   "cell_type": "code",
   "execution_count": 65,
   "id": "c9d504a2-d3f3-43fb-ba3f-9f81994f40c4",
   "metadata": {},
   "outputs": [
    {
     "data": {
      "text/plain": [
       "Genre                                          Action,Adventure,Fantasy\n",
       "Description           A paraplegic marine dispatched to the moon Pan...\n",
       "Director                                                  James Cameron\n",
       "Actors                Sam Worthington, Zoe Saldana, Sigourney Weaver...\n",
       "Year                                                               2009\n",
       "Runtime (Minutes)                                                   162\n",
       "Rating                                                              7.8\n",
       "Votes                                                            935408\n",
       "Revenue (Millions)                                               760.51\n",
       "Metascore                                                          83.0\n",
       "Name: Avatar, dtype: object"
      ]
     },
     "execution_count": 65,
     "metadata": {},
     "output_type": "execute_result"
    }
   ],
   "source": [
    "dfmovie.loc['Avatar']"
   ]
  },
  {
   "cell_type": "code",
   "execution_count": 67,
   "id": "db8a277c-867b-4cdf-a567-1887554063ff",
   "metadata": {},
   "outputs": [
    {
     "data": {
      "text/plain": [
       "count     500.000000\n",
       "mean     2012.166000\n",
       "std         3.319712\n",
       "min      2006.000000\n",
       "25%      2009.000000\n",
       "50%      2013.000000\n",
       "75%      2015.000000\n",
       "max      2016.000000\n",
       "Name: Year, dtype: float64"
      ]
     },
     "execution_count": 67,
     "metadata": {},
     "output_type": "execute_result"
    }
   ],
   "source": [
    "dfmovie.Year.describe()"
   ]
  },
  {
   "cell_type": "code",
   "execution_count": 75,
   "id": "85046f2a-3589-45b1-93b9-745c8bacbd03",
   "metadata": {},
   "outputs": [],
   "source": [
    "dfmovie.Year = dfmovie.Year.astype('category')"
   ]
  },
  {
   "cell_type": "code",
   "execution_count": 77,
   "id": "9dceeca1-f94c-4182-8822-e4b678177801",
   "metadata": {},
   "outputs": [
    {
     "data": {
      "text/plain": [
       "count      500\n",
       "unique      11\n",
       "top       2016\n",
       "freq       114\n",
       "Name: Year, dtype: int64"
      ]
     },
     "execution_count": 77,
     "metadata": {},
     "output_type": "execute_result"
    }
   ],
   "source": [
    "dfmovie.Year.describe()"
   ]
  },
  {
   "cell_type": "code",
   "execution_count": 79,
   "id": "5ae3f47b-eaf4-4df3-a2eb-4819b69b2d81",
   "metadata": {},
   "outputs": [
    {
     "data": {
      "text/plain": [
       "9.0"
      ]
     },
     "execution_count": 79,
     "metadata": {},
     "output_type": "execute_result"
    }
   ],
   "source": [
    "dfmovie.Rating.max()"
   ]
  },
  {
   "cell_type": "code",
   "execution_count": 81,
   "id": "c0bda9e6-7798-4396-be47-7226995a1f9c",
   "metadata": {},
   "outputs": [
    {
     "data": {
      "text/plain": [
       "6.8"
      ]
     },
     "execution_count": 81,
     "metadata": {},
     "output_type": "execute_result"
    }
   ],
   "source": [
    "dfmovie.Rating.min()"
   ]
  },
  {
   "cell_type": "code",
   "execution_count": 89,
   "id": "527af192-04af-4a82-92c3-c7e42ae471b5",
   "metadata": {},
   "outputs": [
    {
     "data": {
      "text/plain": [
       "Title\n",
       "The Dark Knight          9.0\n",
       "Inception                8.8\n",
       "Dangal                   8.8\n",
       "Interstellar             8.6\n",
       "The Intouchables         8.6\n",
       "Kimi no na wa            8.6\n",
       "The Dark Knight Rises    8.5\n",
       "The Departed             8.5\n",
       "The Prestige             8.5\n",
       "Whiplash                 8.5\n",
       "Name: Rating, dtype: float64"
      ]
     },
     "execution_count": 89,
     "metadata": {},
     "output_type": "execute_result"
    }
   ],
   "source": [
    "dfmovie.Rating.nlargest(10)"
   ]
  },
  {
   "cell_type": "code",
   "execution_count": 91,
   "id": "648017f1-397c-482c-b990-7bc19a9e9949",
   "metadata": {},
   "outputs": [
    {
     "data": {
      "text/plain": [
       "7.461"
      ]
     },
     "execution_count": 91,
     "metadata": {},
     "output_type": "execute_result"
    }
   ],
   "source": [
    "dfmovie.Rating.mean()"
   ]
  },
  {
   "cell_type": "code",
   "execution_count": null,
   "id": "24b4069b-6c05-41ad-baea-7c30051c1c11",
   "metadata": {},
   "outputs": [],
   "source": []
  }
 ],
 "metadata": {
  "kernelspec": {
   "display_name": "Python 3 (ipykernel)",
   "language": "python",
   "name": "python3"
  },
  "language_info": {
   "codemirror_mode": {
    "name": "ipython",
    "version": 3
   },
   "file_extension": ".py",
   "mimetype": "text/x-python",
   "name": "python",
   "nbconvert_exporter": "python",
   "pygments_lexer": "ipython3",
   "version": "3.12.4"
  }
 },
 "nbformat": 4,
 "nbformat_minor": 5
}
