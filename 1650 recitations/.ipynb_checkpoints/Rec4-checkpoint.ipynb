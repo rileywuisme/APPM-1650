{
 "cells": [
  {
   "cell_type": "markdown",
   "metadata": {
    "tags": []
   },
   "source": [
    "# Recitation 4\n",
    "___"
   ]
  },
  {
   "cell_type": "markdown",
   "metadata": {},
   "source": [
    "### Print Numbers in a Row\n",
    "By default, each call to `print()` begins a new line. You can change that by using the `print` parameter `end=`. For example, `print(n, end=' ')` will display `n` followed by a space instead of a newline character.\n",
    "  \n",
    "Use a `for` loop to do the following:\n",
    "\n",
    "**Print the even numbers from 2 to 20** in a row, separated by spaces.\n",
    "```\n",
    "2 4 6 8 10 12 14 16 18 20 \n",
    "```\n",
    "  \n",
    "\n",
    "  \n",
    "**Print the odd numbers from 1 to 19** in a row, separated by spaces.\n",
    "```\n",
    "1 3 5 7 9 11 13 15 17 19 \n",
    "```"
   ]
  },
  {
   "cell_type": "code",
   "execution_count": 1,
   "metadata": {},
   "outputs": [
    {
     "name": "stdout",
     "output_type": "stream",
     "text": [
      "2 4 6 8 10 12 14 16 18 20 "
     ]
    }
   ],
   "source": [
    "for num in range(2, 21, 2):\n",
    "    print (num, end=' ')"
   ]
  },
  {
   "cell_type": "code",
   "execution_count": 3,
   "metadata": {},
   "outputs": [
    {
     "name": "stdout",
     "output_type": "stream",
     "text": [
      "1 3 5 7 9 11 13 15 17 19 "
     ]
    }
   ],
   "source": [
    "for num in range(1, 20, 2):\n",
    "    print (num, end=' ')"
   ]
  },
  {
   "cell_type": "markdown",
   "metadata": {},
   "source": [
    "### Multiplying Squares\n",
    "\n",
    "Write a function **`mul_squares(start, end)`** that returns the product of the perfect squares from the square of `start` to the square of `end`, inclusive. Use a `for` loop. You may assume that integer `start` is less than or equal to integer `end`.\n",
    "\n",
    "Examples:  \n",
    "`mul_squares(3, 10)` returns `3292047360000` which equals $3^2 \\cdot 4^2 \\cdot \\cdots\\cdot 10^2$.<br>\n",
    "`mul_squares(3, 3)` returns `9`."
   ]
  },
  {
   "cell_type": "code",
   "execution_count": 5,
   "metadata": {},
   "outputs": [],
   "source": [
    "def mul_squares(start, end):\n",
    "    product = 1\n",
    "    for num in range(start, end + 1):\n",
    "        product *= num ** 2\n",
    "\n",
    "    return product"
   ]
  },
  {
   "cell_type": "code",
   "execution_count": 7,
   "metadata": {},
   "outputs": [
    {
     "data": {
      "text/plain": [
       "3292047360000"
      ]
     },
     "execution_count": 7,
     "metadata": {},
     "output_type": "execute_result"
    }
   ],
   "source": [
    "mul_squares(3, 10)"
   ]
  },
  {
   "cell_type": "code",
   "execution_count": 9,
   "metadata": {},
   "outputs": [
    {
     "data": {
      "text/plain": [
       "9"
      ]
     },
     "execution_count": 9,
     "metadata": {},
     "output_type": "execute_result"
    }
   ],
   "source": [
    "mul_squares(3, 3)"
   ]
  },
  {
   "cell_type": "markdown",
   "metadata": {},
   "source": [
    "### Counting Positive Numbers"
   ]
  },
  {
   "cell_type": "markdown",
   "metadata": {},
   "source": [
    "Write a function **`count_pos(nums)`** that returns the number of elements in `nums` that are positive. Use a `for` loop without using `range`. You may assume that `nums` is a list of numbers.\n",
    "\n",
    "Example:  \n",
    "`count_pos([-2.3, -7, 1.4, 0])` returns `1`."
   ]
  },
  {
   "cell_type": "code",
   "execution_count": 11,
   "metadata": {},
   "outputs": [],
   "source": [
    "def count_pos(nums):\n",
    "    pos_num = 0\n",
    "    for num in nums:\n",
    "        if num > 0:\n",
    "            pos_num += 1\n",
    "\n",
    "    return pos_num"
   ]
  },
  {
   "cell_type": "code",
   "execution_count": 13,
   "metadata": {},
   "outputs": [
    {
     "data": {
      "text/plain": [
       "1"
      ]
     },
     "execution_count": 13,
     "metadata": {},
     "output_type": "execute_result"
    }
   ],
   "source": [
    "count_pos([-2.3, -7, 1.4, 0])"
   ]
  },
  {
   "cell_type": "markdown",
   "metadata": {},
   "source": [
    "### All Positive Numbers\n",
    "Write a function **`all_pos(nums)`** that returns `True` if `nums` contains positive numbers only. You may assume that `nums` is a list of numbers.\n",
    "\n",
    "Examples:  \n",
    "`all_pos([3, 2, 5, 1.8])` returns `True`.<br>\n",
    "`all_pos([3, 2, 0, 1.8])` returns `False`."
   ]
  },
  {
   "cell_type": "code",
   "execution_count": 55,
   "metadata": {},
   "outputs": [],
   "source": [
    "def all_pos(nums):\n",
    "    for num in nums:\n",
    "        if num <= 0:\n",
    "            return False\n",
    "\n",
    "    return True"
   ]
  },
  {
   "cell_type": "code",
   "execution_count": 39,
   "metadata": {},
   "outputs": [
    {
     "data": {
      "text/plain": [
       "True"
      ]
     },
     "execution_count": 39,
     "metadata": {},
     "output_type": "execute_result"
    }
   ],
   "source": [
    "all_pos([3, 2, 5, 1.8])"
   ]
  },
  {
   "cell_type": "code",
   "execution_count": 57,
   "metadata": {},
   "outputs": [
    {
     "data": {
      "text/plain": [
       "False"
      ]
     },
     "execution_count": 57,
     "metadata": {},
     "output_type": "execute_result"
    }
   ],
   "source": [
    "all_pos([3, 2, 0, 1.8])"
   ]
  },
  {
   "cell_type": "markdown",
   "metadata": {},
   "source": [
    "### Omitting List Elements\n",
    "Write a function **`omit_mult5(nums)`** that takes a list of numbers and returns a new list, omitting all multiples of 5.\n",
    "\n",
    "Examples:  \n",
    "`omit_mult5([50, 7, -2, -10])` returns `[7, -2]`.<br>\n",
    "`omit_mult5([7, -2])` returns `[7, -2]`."
   ]
  },
  {
   "cell_type": "code",
   "execution_count": 70,
   "metadata": {},
   "outputs": [],
   "source": [
    "def omit_mult5(nums):\n",
    "    omit = []\n",
    "    for num in nums:\n",
    "        if num % 5 != 0:\n",
    "            omit.append(num)\n",
    "\n",
    "    return omit"
   ]
  },
  {
   "cell_type": "code",
   "execution_count": 72,
   "metadata": {},
   "outputs": [
    {
     "data": {
      "text/plain": [
       "[7, -2]"
      ]
     },
     "execution_count": 72,
     "metadata": {},
     "output_type": "execute_result"
    }
   ],
   "source": [
    "omit_mult5([50, 7, -2, -10])"
   ]
  },
  {
   "cell_type": "code",
   "execution_count": 74,
   "metadata": {},
   "outputs": [
    {
     "data": {
      "text/plain": [
       "[7, -2]"
      ]
     },
     "execution_count": 74,
     "metadata": {},
     "output_type": "execute_result"
    }
   ],
   "source": [
    "omit_mult5([7, -2])"
   ]
  },
  {
   "cell_type": "markdown",
   "metadata": {},
   "source": [
    "### Replacing List Elements\n",
    "Write a function **`replace_mult5(nums, val)`** that a list of numbers and returns a new list with all multiples of 5 replaced by `val`.\n",
    "\n",
    "Example:  \n",
    "`replace_mult5([50, 7, -2, -10], 'A')` returns `['A', 7, -2, 'A']`."
   ]
  },
  {
   "cell_type": "code",
   "execution_count": 82,
   "metadata": {},
   "outputs": [],
   "source": [
    "def replace_mult5(nums, val):\n",
    "    omit = []\n",
    "    for num in nums:\n",
    "        if num % 5 == 0:\n",
    "            omit.append(val)\n",
    "        else:\n",
    "            omit.append(num)\n",
    "\n",
    "    return omit"
   ]
  },
  {
   "cell_type": "code",
   "execution_count": 84,
   "metadata": {},
   "outputs": [
    {
     "data": {
      "text/plain": [
       "['A', 7, -2, 'A']"
      ]
     },
     "execution_count": 84,
     "metadata": {},
     "output_type": "execute_result"
    }
   ],
   "source": [
    "replace_mult5([50, 7, -2, -10], 'A')"
   ]
  },
  {
   "cell_type": "markdown",
   "metadata": {},
   "source": [
    "___\n",
    "\n",
    "# Extra Problems\n",
    "Work on these problems after completing the previous exercises."
   ]
  },
  {
   "cell_type": "markdown",
   "metadata": {
    "tags": []
   },
   "source": [
    "### Positive Sum and Negative Sum\n",
    "Write a function **`sum_pos_neg(nums)`** that returns a 2-element tuple. The first element equals the sum of the positive numbers in `nums` and the second element equals the sum of the negative numbers.\n",
    "\n",
    "Examples:  \n",
    "`sum_pos_neg([3, -2.2, -5, 0, 1])` returns `(4, -7.2)`."
   ]
  },
  {
   "cell_type": "code",
   "execution_count": 90,
   "metadata": {},
   "outputs": [],
   "source": [
    "def sum_pos_neg(nums):\n",
    "    pos_sum = 0\n",
    "    neg_sum = 0\n",
    "    for num in nums:\n",
    "        if num > 0:\n",
    "            pos_sum += num\n",
    "        else:\n",
    "            neg_sum += num\n",
    "\n",
    "    return (pos_sum, neg_sum)"
   ]
  },
  {
   "cell_type": "code",
   "execution_count": 92,
   "metadata": {},
   "outputs": [
    {
     "data": {
      "text/plain": [
       "(4, -7.2)"
      ]
     },
     "execution_count": 92,
     "metadata": {},
     "output_type": "execute_result"
    }
   ],
   "source": [
    "sum_pos_neg([3, -2.2, -5, 0, 1])"
   ]
  },
  {
   "cell_type": "markdown",
   "metadata": {},
   "source": [
    "### Positive or Negative\n",
    "Write a function **`pos_or_neg(nums)`** that takes a list of numbers and returns a new list of tuples, each tuple containing the number followed by the string `pos`, `neg`, or `zero`. You may assume that `nums` is a non-empty list of numbers.\n",
    "\n",
    "Examples:  \n",
    "`pos_or_neg([3, -2, 0, 1.8])` returns `[(3, 'pos'), (-2, 'neg'), (0, 'zero'), (1.8, 'pos')]`."
   ]
  },
  {
   "cell_type": "code",
   "execution_count": 100,
   "metadata": {},
   "outputs": [],
   "source": [
    "def pos_or_neg(nums):\n",
    "    tup = []\n",
    "    for num in nums:\n",
    "        if num > 0:\n",
    "            tup.append((num, 'pos'))\n",
    "        elif num < 0:\n",
    "            tup.append((num, 'neg'))\n",
    "        else:\n",
    "            tup.append((0, 'zero'))\n",
    "\n",
    "    return tup"
   ]
  },
  {
   "cell_type": "code",
   "execution_count": 102,
   "metadata": {},
   "outputs": [
    {
     "data": {
      "text/plain": [
       "[(3, 'pos'), (-2, 'neg'), (0, 'zero'), (1.8, 'pos')]"
      ]
     },
     "execution_count": 102,
     "metadata": {},
     "output_type": "execute_result"
    }
   ],
   "source": [
    "pos_or_neg([3, -2, 0, 1.8])"
   ]
  },
  {
   "cell_type": "markdown",
   "metadata": {},
   "source": [
    "### Summing an arithmetic sequence\n",
    "Consider the arithmetic sequence $3, 7, 11, 15, \\ldots, 83$ with a constant difference of 4. Let the variable **`arithsum`** equal the sum of the sequence. Use a `for` loop (*without* using the `sum()` function)."
   ]
  },
  {
   "cell_type": "code",
   "execution_count": 126,
   "metadata": {},
   "outputs": [
    {
     "data": {
      "text/plain": [
       "903"
      ]
     },
     "execution_count": 126,
     "metadata": {},
     "output_type": "execute_result"
    }
   ],
   "source": [
    "arithsum = 0\n",
    "for num in range(3, 84, 4):\n",
    "    arithsum += num\n",
    "\n",
    "arithsum"
   ]
  },
  {
   "cell_type": "markdown",
   "metadata": {},
   "source": [
    "### Arithmetic Sum\n",
    "A sequence is *arithmetic* if the difference between consecutive terms is constant. \n",
    "\n",
    "$$a,\\ \\  a+d,\\ \\  a+2d,\\ \\  \\ldots$$\n",
    "\n",
    "Write a function **`arith_sum(a, diff, nterms)`** that sums the first `nterms` terms of an arithmetic sequence with first term `a` and (possibly negative) difference `diff`. Use a `for` loop.\n",
    "\n",
    "Example:  \n",
    "`arith_sum(5, 4, 10)` returns `230`.<br>\n",
    "`arith_sum(5, -4, 10)` returns `-130`."
   ]
  },
  {
   "cell_type": "code",
   "execution_count": 132,
   "metadata": {},
   "outputs": [],
   "source": [
    "def arith_sum (a, diff, nterms):\n",
    "    asum = 0\n",
    "    for num in range(a, a+diff*nterms, diff):\n",
    "        asum += num\n",
    "\n",
    "    return asum"
   ]
  },
  {
   "cell_type": "code",
   "execution_count": 134,
   "metadata": {},
   "outputs": [
    {
     "data": {
      "text/plain": [
       "230"
      ]
     },
     "execution_count": 134,
     "metadata": {},
     "output_type": "execute_result"
    }
   ],
   "source": [
    "arith_sum(5, 4, 10)"
   ]
  },
  {
   "cell_type": "code",
   "execution_count": 140,
   "metadata": {},
   "outputs": [
    {
     "data": {
      "text/plain": [
       "-130"
      ]
     },
     "execution_count": 140,
     "metadata": {},
     "output_type": "execute_result"
    }
   ],
   "source": [
    "arith_sum(5, -4, 10)"
   ]
  },
  {
   "cell_type": "markdown",
   "metadata": {},
   "source": [
    "### Summing a geometric sequence\n",
    "Consider the 10-term geometric sequence $2, 6, 18, 54, \\ldots, 39366$ with a constant ratio of 3.\n",
    "\n",
    "Let the variable **`geomsum`** equal the sum of the sequence. Use a `for` loop to calculate the sum (*without* using the `sum()` function). "
   ]
  },
  {
   "cell_type": "code",
   "execution_count": null,
   "metadata": {},
   "outputs": [],
   "source": [
    "# geomsum = "
   ]
  },
  {
   "cell_type": "markdown",
   "metadata": {},
   "source": [
    "### Geometric Sum\n",
    "In a geometric sequence, the ratio between consecutive terms is a constant. \n",
    "\n",
    "$$a,\\ \\ ar,\\ \\ ar^2,\\ \\ \\ldots$$\n",
    "\n",
    "Write a function **`geom_sum(a, ratio, nterms)`** that sums the first `nterms` terms of a geometric sequence with first term `a` and the given ratio. Use a `for` loop.\n",
    "\n",
    "Example:  \n",
    "`geom_sum(3, 2, 10)` returns `3069`.<br>\n",
    "`geom_sum(1, 0.5, 100)` returns `2.0`."
   ]
  },
  {
   "cell_type": "code",
   "execution_count": null,
   "metadata": {},
   "outputs": [],
   "source": []
  },
  {
   "cell_type": "code",
   "execution_count": null,
   "metadata": {},
   "outputs": [],
   "source": []
  }
 ],
 "metadata": {
  "kernelspec": {
   "display_name": "Python 3 (ipykernel)",
   "language": "python",
   "name": "python3"
  },
  "language_info": {
   "codemirror_mode": {
    "name": "ipython",
    "version": 3
   },
   "file_extension": ".py",
   "mimetype": "text/x-python",
   "name": "python",
   "nbconvert_exporter": "python",
   "pygments_lexer": "ipython3",
   "version": "3.12.4"
  }
 },
 "nbformat": 4,
 "nbformat_minor": 4
}
