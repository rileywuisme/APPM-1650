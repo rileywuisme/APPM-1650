{
 "cells": [
  {
   "cell_type": "markdown",
   "metadata": {},
   "source": [
    "# Homework 2\n",
    "\n",
    "*Answers shown are rounded to 6 decimal digits. Unless specified it is not necessary for you to round your answers.*\n"
   ]
  },
  {
   "cell_type": "code",
   "execution_count": 288,
   "metadata": {},
   "outputs": [],
   "source": [
    "import math"
   ]
  },
  {
   "cell_type": "markdown",
   "metadata": {},
   "source": [
    "### Rock Paper Scissors\n",
    "\n",
    "In the rock-paper-scissors game, two people simultaneously choose one of the three items. The winner is chosen by these rules: \n",
    "* rock blunts scissors\n",
    "* scissors cut paper\n",
    "* paper covers rock\n",
    "\n",
    "Write a function **`beat(rps)`** that takes one of the three items in string format and returns the item that beats it. For any other input, return the null string `''`. Use an `if` statement.\n",
    "\n",
    "Examples:  \n",
    "`beat('rock')` returns `'paper'`.<br>\n",
    "`beat('paper') + beat('scissors')` returns `'scissorsrock'`.<br>\n",
    "`beat(19)` returns `''`."
   ]
  },
  {
   "cell_type": "code",
   "execution_count": 290,
   "metadata": {},
   "outputs": [],
   "source": [
    "def beat(rps):\n",
    "    if rps == 'rock':\n",
    "        return 'paper'\n",
    "    if rps == 'paper':\n",
    "        return 'scissors'\n",
    "    elif rps == 'scissors':\n",
    "        return 'rock'\n",
    "    else:\n",
    "        return ''"
   ]
  },
  {
   "cell_type": "code",
   "execution_count": 291,
   "metadata": {},
   "outputs": [
    {
     "data": {
      "text/plain": [
       "'paper'"
      ]
     },
     "execution_count": 291,
     "metadata": {},
     "output_type": "execute_result"
    }
   ],
   "source": [
    "beat('rock')"
   ]
  },
  {
   "cell_type": "code",
   "execution_count": 292,
   "metadata": {},
   "outputs": [
    {
     "data": {
      "text/plain": [
       "'scissorsrock'"
      ]
     },
     "execution_count": 292,
     "metadata": {},
     "output_type": "execute_result"
    }
   ],
   "source": [
    "beat('paper') + beat ('scissors')"
   ]
  },
  {
   "cell_type": "code",
   "execution_count": 293,
   "metadata": {},
   "outputs": [
    {
     "data": {
      "text/plain": [
       "''"
      ]
     },
     "execution_count": 293,
     "metadata": {},
     "output_type": "execute_result"
    }
   ],
   "source": [
    "beat(19)"
   ]
  },
  {
   "cell_type": "markdown",
   "metadata": {},
   "source": [
    "### Sinc Function\n",
    "\n",
    "The *normalized sinc function*, used in digital signal processing, is defined as\n",
    "\n",
    "$$\\text{sinc}(x) = \\begin{cases}\n",
    "\\dfrac{\\sin(\\pi x)}{\\pi x} & \\text{for }x \\ne 0\\\\[.5em]\n",
    "1 & \\text{for }x = 0\n",
    "\\end{cases}\n",
    "$$\n",
    "\n",
    "Write a function **`sinc(x)`** that returns the value of this function given a real number `x`.\n",
    "\n",
    "Examples:  \n",
    "`sinc(0.5)` returns `0.636620`.<br>\n",
    "`sinc(0)` returns `1.0`."
   ]
  },
  {
   "cell_type": "code",
   "execution_count": 295,
   "metadata": {},
   "outputs": [],
   "source": [
    "def sinc(x):\n",
    "    if x == 0:\n",
    "        return 1.0\n",
    "    else:\n",
    "        return (math.sin(math.pi * x))/(math.pi * x)"
   ]
  },
  {
   "cell_type": "code",
   "execution_count": 296,
   "metadata": {},
   "outputs": [
    {
     "data": {
      "text/plain": [
       "0.6366197723675814"
      ]
     },
     "execution_count": 296,
     "metadata": {},
     "output_type": "execute_result"
    }
   ],
   "source": [
    "sinc(0.5)"
   ]
  },
  {
   "cell_type": "code",
   "execution_count": 297,
   "metadata": {},
   "outputs": [
    {
     "data": {
      "text/plain": [
       "1.0"
      ]
     },
     "execution_count": 297,
     "metadata": {},
     "output_type": "execute_result"
    }
   ],
   "source": [
    "sinc(0)"
   ]
  },
  {
   "cell_type": "markdown",
   "metadata": {},
   "source": [
    "### Divisibility by d\n",
    "\n",
    "Write a function **`div_by_d(num, d)`** that returns `True` if `num` is divisible by `d`. The function should be written *without* an `if` statement. Assume that `num` and `d` are `int`s.\n",
    "\n",
    "Examples:  \n",
    "`div_by_d(27, 3)` returns `True`.<br>\n",
    "`div_by_d(28, 3)` returns `False`.<br>\n",
    "`not div_by_d(29, 2)` returns `True`."
   ]
  },
  {
   "cell_type": "code",
   "execution_count": 299,
   "metadata": {},
   "outputs": [],
   "source": [
    "def div_by_d(num, d):\n",
    "    return num % d == 0"
   ]
  },
  {
   "cell_type": "code",
   "execution_count": 300,
   "metadata": {},
   "outputs": [
    {
     "data": {
      "text/plain": [
       "True"
      ]
     },
     "execution_count": 300,
     "metadata": {},
     "output_type": "execute_result"
    }
   ],
   "source": [
    "div_by_d(27, 3)"
   ]
  },
  {
   "cell_type": "code",
   "execution_count": 301,
   "metadata": {},
   "outputs": [
    {
     "data": {
      "text/plain": [
       "False"
      ]
     },
     "execution_count": 301,
     "metadata": {},
     "output_type": "execute_result"
    }
   ],
   "source": [
    "div_by_d(28, 3)"
   ]
  },
  {
   "cell_type": "code",
   "execution_count": 302,
   "metadata": {},
   "outputs": [
    {
     "data": {
      "text/plain": [
       "True"
      ]
     },
     "execution_count": 302,
     "metadata": {},
     "output_type": "execute_result"
    }
   ],
   "source": [
    "not div_by_d(29, 2)"
   ]
  },
  {
   "cell_type": "markdown",
   "metadata": {},
   "source": [
    "### Dimes and Nickels\n",
    "\n",
    "Suppose you have a collection of dimes and nickels. Given the number of coins and the value of the coins in cents, you can determine the quantity of each coin. Write a function **`dimes_nickels(ncoins, cents)`** that returns a tuple of two `int`s containing the number of dimes and nickels. (*Hint:* Work out by hand the solution for a linear system of two equations.)\n",
    "\n",
    "Example:  \n",
    "`dimes_nickels(30, 215)` returns `(13, 17)` corresponding to 13 dimes and 17 nickels."
   ]
  },
  {
   "cell_type": "code",
   "execution_count": 304,
   "metadata": {},
   "outputs": [],
   "source": [
    "def dimes_nickels(ncoins, cents):\n",
    "    x = int((cents - 5*ncoins) / 5)\n",
    "    y = abs(int((cents - 5*ncoins) / 5) - ncoins)\n",
    "    return (x, y)"
   ]
  },
  {
   "cell_type": "code",
   "execution_count": 305,
   "metadata": {},
   "outputs": [
    {
     "data": {
      "text/plain": [
       "(13, 17)"
      ]
     },
     "execution_count": 305,
     "metadata": {},
     "output_type": "execute_result"
    }
   ],
   "source": [
    "dimes_nickels (30, 215)"
   ]
  },
  {
   "cell_type": "markdown",
   "metadata": {},
   "source": [
    "### Leap year\n",
    "\n",
    "Write a function **`is_leap_year(year)`** that returns `True` if the given year is a leap year. It returns `False` otherwise. Assume that `year` is a positive `int`.\n",
    "\n",
    "Here are the leap year rules: Every year that is exactly divisible by four is a leap year, except for years that are exactly divisible by 100, but these centurial years are leap years if they are exactly divisible by 400. For example, the years 1800 and 1900 are not leap years, but the years 1600 and 2000 are."
   ]
  },
  {
   "cell_type": "code",
   "execution_count": 307,
   "metadata": {},
   "outputs": [],
   "source": [
    "def is_leap_year(year):\n",
    "    if year % 400 == 0:\n",
    "        return True\n",
    "    elif year % 4 == 0 and year % 100 != 0:\n",
    "        return True\n",
    "    else:\n",
    "        return False"
   ]
  },
  {
   "cell_type": "code",
   "execution_count": 308,
   "metadata": {},
   "outputs": [
    {
     "data": {
      "text/plain": [
       "False"
      ]
     },
     "execution_count": 308,
     "metadata": {},
     "output_type": "execute_result"
    }
   ],
   "source": [
    "is_leap_year(1900)"
   ]
  },
  {
   "cell_type": "code",
   "execution_count": 309,
   "metadata": {},
   "outputs": [
    {
     "data": {
      "text/plain": [
       "False"
      ]
     },
     "execution_count": 309,
     "metadata": {},
     "output_type": "execute_result"
    }
   ],
   "source": [
    "is_leap_year(1800)"
   ]
  },
  {
   "cell_type": "code",
   "execution_count": 310,
   "metadata": {},
   "outputs": [
    {
     "data": {
      "text/plain": [
       "True"
      ]
     },
     "execution_count": 310,
     "metadata": {},
     "output_type": "execute_result"
    }
   ],
   "source": [
    "is_leap_year(2024)"
   ]
  },
  {
   "cell_type": "code",
   "execution_count": 311,
   "metadata": {},
   "outputs": [
    {
     "data": {
      "text/plain": [
       "True"
      ]
     },
     "execution_count": 311,
     "metadata": {},
     "output_type": "execute_result"
    }
   ],
   "source": [
    "is_leap_year(1600)"
   ]
  },
  {
   "cell_type": "code",
   "execution_count": 312,
   "metadata": {},
   "outputs": [
    {
     "data": {
      "text/plain": [
       "True"
      ]
     },
     "execution_count": 312,
     "metadata": {},
     "output_type": "execute_result"
    }
   ],
   "source": [
    "is_leap_year(1404)"
   ]
  },
  {
   "cell_type": "markdown",
   "metadata": {
    "tags": []
   },
   "source": [
    "### Day of Week\n",
    "\n",
    "Write a function **`day_of_week(m, d, y)`** that takes a date represented by month `m` (1-12), day `d` (1-31), and 4-digit year `y`, and returns the day of the week corresponding to that date. The answer will be an integer from 0 to 6 representing the day of week (see table below). \n",
    "\n",
    "\n",
    "|**Day**|Sat|Sun|Mon|Tue|Wed|Thu|Fri|\n",
    "|:--:|:--:|:--:|:--:|:--:|:--:|:--:|:--:|  \n",
    "|n|0|1|2|3|4|5|6|  \n",
    "\n",
    "\n",
    "The function should use this formula:\n",
    "\n",
    "$$ \\left( d + 2m + \\left\\lfloor \\frac{3(m+1)}{5}\\right\\rfloor + y + \\left \\lfloor \\frac{y}{4}\\right\\rfloor - \\left \\lfloor \\frac{y}{100}\\right\\rfloor + \\left \\lfloor \\frac{y}{400}\\right\\rfloor + 2 \\right) \\bmod 7. $$\n",
    "\n",
    "**Important:**  If month `m` equals 1 (Jan) or 2 (Feb), then before using the formula, your function must convert the month to 13 or 14, respectively, *of the previous year*.  For example, to find the day of the week for Jan 1, 2020, your function should let $m=13$, $d=1$, and $y=2019$ before substituting into the formula.\n",
    "\n",
    "Note: The notation $\\lfloor x \\rfloor$ represents the greatest integer less than or equal to $x$, also called the *floor function*. In other words, it rounds down to the closest integer. For example $\\lfloor 17.9 \\rfloor = 17$ and $\\lfloor 17 \\rfloor = 17$.\n",
    "\n",
    "Note: The notation $n$ mod 7 represents the remainder when $n$ is divided by 7. For example $17$ mod 7 equals 3. To compute $n$ mod 7 use the `% 7` operation.\n",
    "\n",
    "Examples involving famous dates:<br>\n",
    "`day_of_week(7, 4, 1776)` returns `5` (Thu).<br> \n",
    "`day_of_week(1, 15, 1929)` returns `3` (Tue).<br> \n",
    "`day_of_week(7, 20, 1969)` returns `1` (Sun).  \n"
   ]
  },
  {
   "cell_type": "code",
   "execution_count": 314,
   "metadata": {},
   "outputs": [],
   "source": [
    "def day_of_week(m, d, y):\n",
    "    \n",
    "    if m == 1 or m == 2:\n",
    "        floor1 = d + 2*(m+12) + math.floor( (3*(m+13))/5 ) + (y-1) + math.floor( (y-1)/4 ) - math.floor( (y-1)/100 ) + math.floor( (y-1)/400 ) + 2\n",
    "        return floor1 % 7\n",
    "\n",
    "    else:\n",
    "        floor = d + 2*m + math.floor( (3*(m+1))/5 ) + y + math.floor( y/4 ) - math.floor( y/100 ) + math.floor( y/400 ) + 2\n",
    "        return floor % 7"
   ]
  },
  {
   "cell_type": "code",
   "execution_count": 315,
   "metadata": {},
   "outputs": [
    {
     "data": {
      "text/plain": [
       "5"
      ]
     },
     "execution_count": 315,
     "metadata": {},
     "output_type": "execute_result"
    }
   ],
   "source": [
    "day_of_week(7, 4, 1776)"
   ]
  },
  {
   "cell_type": "code",
   "execution_count": 316,
   "metadata": {},
   "outputs": [
    {
     "data": {
      "text/plain": [
       "3"
      ]
     },
     "execution_count": 316,
     "metadata": {},
     "output_type": "execute_result"
    }
   ],
   "source": [
    "day_of_week(1, 15, 1929)"
   ]
  },
  {
   "cell_type": "code",
   "execution_count": 317,
   "metadata": {},
   "outputs": [
    {
     "data": {
      "text/plain": [
       "1"
      ]
     },
     "execution_count": 317,
     "metadata": {},
     "output_type": "execute_result"
    }
   ],
   "source": [
    "day_of_week(7, 20, 1969)"
   ]
  }
 ],
 "metadata": {
  "kernelspec": {
   "display_name": "Python 3 (ipykernel)",
   "language": "python",
   "name": "python3"
  },
  "language_info": {
   "codemirror_mode": {
    "name": "ipython",
    "version": 3
   },
   "file_extension": ".py",
   "mimetype": "text/x-python",
   "name": "python",
   "nbconvert_exporter": "python",
   "pygments_lexer": "ipython3",
   "version": "3.12.4"
  }
 },
 "nbformat": 4,
 "nbformat_minor": 4
}
