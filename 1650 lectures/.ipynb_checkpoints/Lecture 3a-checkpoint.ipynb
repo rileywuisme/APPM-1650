{
 "cells": [
  {
   "cell_type": "markdown",
   "id": "b9311862-1c13-4fef-8f68-1aeea68a7d17",
   "metadata": {},
   "source": [
    "### Lecture 3a list"
   ]
  },
  {
   "cell_type": "code",
   "execution_count": 2,
   "id": "3aa7db79-89e5-45cf-a851-837e2aae4f1b",
   "metadata": {},
   "outputs": [],
   "source": [
    "import math"
   ]
  },
  {
   "cell_type": "markdown",
   "id": "fa6fddc0-3098-492f-9163-04ec0d0708cf",
   "metadata": {},
   "source": [
    "# List\n",
    "ordered arrangement of objects"
   ]
  },
  {
   "cell_type": "code",
   "execution_count": 5,
   "id": "b7beed21-66b8-4ca5-8be0-65847ad59c3a",
   "metadata": {},
   "outputs": [
    {
     "data": {
      "text/plain": [
       "[2, 4, 6, 8]"
      ]
     },
     "execution_count": 5,
     "metadata": {},
     "output_type": "execute_result"
    }
   ],
   "source": [
    "[2, 4, 6, 8]"
   ]
  },
  {
   "cell_type": "code",
   "execution_count": 7,
   "id": "179880ab-0481-4fc6-956d-9feeff185809",
   "metadata": {},
   "outputs": [
    {
     "data": {
      "text/plain": [
       "['see', 'hear', 'speak']"
      ]
     },
     "execution_count": 7,
     "metadata": {},
     "output_type": "execute_result"
    }
   ],
   "source": [
    "['see', 'hear', 'speak']"
   ]
  },
  {
   "cell_type": "code",
   "execution_count": 9,
   "id": "9c5c1fc4-e46b-4f1b-8cc1-6b1646b95fee",
   "metadata": {},
   "outputs": [
    {
     "data": {
      "text/plain": [
       "[3, 'blind', 'mice']"
      ]
     },
     "execution_count": 9,
     "metadata": {},
     "output_type": "execute_result"
    }
   ],
   "source": [
    "[3, 'blind', 'mice']"
   ]
  },
  {
   "cell_type": "code",
   "execution_count": 11,
   "id": "46882cd2-f871-4d55-bbb9-723884e779c8",
   "metadata": {},
   "outputs": [],
   "source": [
    "nums = [8, 6, 4, 2]"
   ]
  },
  {
   "cell_type": "code",
   "execution_count": 13,
   "id": "94a927a3-fac2-4aff-adac-65240eb96ee0",
   "metadata": {},
   "outputs": [
    {
     "data": {
      "text/plain": [
       "[8, 6, 4, 2]"
      ]
     },
     "execution_count": 13,
     "metadata": {},
     "output_type": "execute_result"
    }
   ],
   "source": [
    "nums"
   ]
  },
  {
   "cell_type": "code",
   "execution_count": 15,
   "id": "4287507b-8c05-4819-9e62-874339715c17",
   "metadata": {},
   "outputs": [
    {
     "data": {
      "text/plain": [
       "[]"
      ]
     },
     "execution_count": 15,
     "metadata": {},
     "output_type": "execute_result"
    }
   ],
   "source": [
    "[]"
   ]
  },
  {
   "cell_type": "code",
   "execution_count": 17,
   "id": "1681a95b-6bd1-4b14-8454-d047da698409",
   "metadata": {},
   "outputs": [
    {
     "data": {
      "text/plain": [
       "4"
      ]
     },
     "execution_count": 17,
     "metadata": {},
     "output_type": "execute_result"
    }
   ],
   "source": [
    "len(nums)"
   ]
  },
  {
   "cell_type": "code",
   "execution_count": 19,
   "id": "77f5160b-3d3e-4cca-883b-7bea394d11e1",
   "metadata": {},
   "outputs": [
    {
     "data": {
      "text/plain": [
       "0"
      ]
     },
     "execution_count": 19,
     "metadata": {},
     "output_type": "execute_result"
    }
   ],
   "source": [
    "len ([])"
   ]
  },
  {
   "cell_type": "code",
   "execution_count": 21,
   "id": "4a34e5a7-06d5-4dc5-86e2-9b33709ea620",
   "metadata": {},
   "outputs": [
    {
     "data": {
      "text/plain": [
       "20"
      ]
     },
     "execution_count": 21,
     "metadata": {},
     "output_type": "execute_result"
    }
   ],
   "source": [
    "sum(nums)"
   ]
  },
  {
   "cell_type": "markdown",
   "id": "ef0cf863-d4bd-4849-8560-63361f66af5b",
   "metadata": {},
   "source": [
    "sorted() is a non-destructive operation. Returns a new sorted list. "
   ]
  },
  {
   "cell_type": "code",
   "execution_count": 23,
   "id": "ce568f37-104c-43be-a2a4-7cf47f343d7c",
   "metadata": {},
   "outputs": [
    {
     "data": {
      "text/plain": [
       "[2, 4, 6, 8]"
      ]
     },
     "execution_count": 23,
     "metadata": {},
     "output_type": "execute_result"
    }
   ],
   "source": [
    "sorted(nums)"
   ]
  },
  {
   "cell_type": "code",
   "execution_count": 25,
   "id": "fbf839f1-7533-4a19-bb88-4d5d77f40b9a",
   "metadata": {},
   "outputs": [
    {
     "data": {
      "text/plain": [
       "['aardvark', 'cat', 'dog']"
      ]
     },
     "execution_count": 25,
     "metadata": {},
     "output_type": "execute_result"
    }
   ],
   "source": [
    "sorted(['cat', 'aardvark', 'dog']) #stores alphabitically"
   ]
  },
  {
   "cell_type": "markdown",
   "id": "c6327529-be56-43eb-8e22-99978b4d9852",
   "metadata": {},
   "source": [
    "### indexes"
   ]
  },
  {
   "cell_type": "code",
   "execution_count": 28,
   "id": "0348b67a-bcaa-44ec-b5f0-6bb290aa1c0a",
   "metadata": {},
   "outputs": [
    {
     "data": {
      "text/plain": [
       "8"
      ]
     },
     "execution_count": 28,
     "metadata": {},
     "output_type": "execute_result"
    }
   ],
   "source": [
    "nums [0]"
   ]
  },
  {
   "cell_type": "code",
   "execution_count": 30,
   "id": "905626f0-2c85-4ab7-8bc7-28992e53670a",
   "metadata": {},
   "outputs": [],
   "source": [
    "#start counting at 0, 1, 2, 3..."
   ]
  },
  {
   "cell_type": "code",
   "execution_count": 32,
   "id": "4f1ea3da-ac31-4e7d-a7c2-ff335c233fee",
   "metadata": {},
   "outputs": [
    {
     "data": {
      "text/plain": [
       "6"
      ]
     },
     "execution_count": 32,
     "metadata": {},
     "output_type": "execute_result"
    }
   ],
   "source": [
    "nums[1]"
   ]
  },
  {
   "cell_type": "code",
   "execution_count": 34,
   "id": "8370d968-6624-40d9-909a-33894924380b",
   "metadata": {},
   "outputs": [
    {
     "data": {
      "text/plain": [
       "4"
      ]
     },
     "execution_count": 34,
     "metadata": {},
     "output_type": "execute_result"
    }
   ],
   "source": [
    "nums[2]"
   ]
  },
  {
   "cell_type": "code",
   "execution_count": 38,
   "id": "62fd8e58-a7c2-4a35-9c32-274f63c4014e",
   "metadata": {},
   "outputs": [
    {
     "data": {
      "text/plain": [
       "2"
      ]
     },
     "execution_count": 38,
     "metadata": {},
     "output_type": "execute_result"
    }
   ],
   "source": [
    "nums[3]"
   ]
  },
  {
   "cell_type": "code",
   "execution_count": 40,
   "id": "eef93198-4834-41df-bd7e-6c1f91a7ac52",
   "metadata": {},
   "outputs": [
    {
     "data": {
      "text/plain": [
       "4"
      ]
     },
     "execution_count": 40,
     "metadata": {},
     "output_type": "execute_result"
    }
   ],
   "source": [
    "numsct = len(nums)\n",
    "numsct"
   ]
  },
  {
   "cell_type": "code",
   "execution_count": 42,
   "id": "720f22f8-d6a1-4e95-a700-2d71c7194071",
   "metadata": {},
   "outputs": [
    {
     "data": {
      "text/plain": [
       "2"
      ]
     },
     "execution_count": 42,
     "metadata": {},
     "output_type": "execute_result"
    }
   ],
   "source": [
    "nums [numsct - 1]"
   ]
  },
  {
   "cell_type": "code",
   "execution_count": 46,
   "id": "ba94b94d-9cab-4662-8c95-fae0190cedfe",
   "metadata": {},
   "outputs": [
    {
     "data": {
      "text/plain": [
       "2"
      ]
     },
     "execution_count": 46,
     "metadata": {},
     "output_type": "execute_result"
    }
   ],
   "source": [
    "nums [-1] #gives the last item"
   ]
  },
  {
   "cell_type": "markdown",
   "id": "c17ee63d-e4b0-44ad-a138-076d70ab0138",
   "metadata": {},
   "source": [
    "Lists are mutable, can change the value in it"
   ]
  },
  {
   "cell_type": "code",
   "execution_count": 49,
   "id": "90a70a6c-e0fa-45a5-bdca-888bfc4e34c1",
   "metadata": {},
   "outputs": [],
   "source": [
    "nums [0] = 999"
   ]
  },
  {
   "cell_type": "code",
   "execution_count": 51,
   "id": "5ce5d8e1-de1b-46c8-a705-74cbfb35c8e3",
   "metadata": {},
   "outputs": [
    {
     "data": {
      "text/plain": [
       "[999, 6, 4, 2]"
      ]
     },
     "execution_count": 51,
     "metadata": {},
     "output_type": "execute_result"
    }
   ],
   "source": [
    "nums"
   ]
  },
  {
   "cell_type": "markdown",
   "id": "7c8a297b-8b91-4cf8-88c2-94381da849b4",
   "metadata": {},
   "source": [
    "Tuples are similar to lists but they are immutable."
   ]
  },
  {
   "cell_type": "code",
   "execution_count": 57,
   "id": "24687392-b962-447e-bf94-d060314bb5a9",
   "metadata": {},
   "outputs": [],
   "source": [
    "tup = (9, 6, 4, 2)"
   ]
  },
  {
   "cell_type": "code",
   "execution_count": 59,
   "id": "02d76df6-00e9-4eac-bc22-10ba57028b9e",
   "metadata": {},
   "outputs": [
    {
     "ename": "TypeError",
     "evalue": "'tuple' object does not support item assignment",
     "output_type": "error",
     "traceback": [
      "\u001b[0;31m---------------------------------------------------------------------------\u001b[0m",
      "\u001b[0;31mTypeError\u001b[0m                                 Traceback (most recent call last)",
      "Cell \u001b[0;32mIn[59], line 1\u001b[0m\n\u001b[0;32m----> 1\u001b[0m tup [\u001b[38;5;241m0\u001b[39m] \u001b[38;5;241m=\u001b[39m \u001b[38;5;241m999\u001b[39m\n",
      "\u001b[0;31mTypeError\u001b[0m: 'tuple' object does not support item assignment"
     ]
    }
   ],
   "source": [
    "tup [0] = 999"
   ]
  },
  {
   "cell_type": "markdown",
   "id": "0446c2c6-16ae-4f7c-a008-3c099fae9d80",
   "metadata": {},
   "source": [
    "### Concatenation of List\n",
    "non-descructive operator"
   ]
  },
  {
   "cell_type": "code",
   "execution_count": 62,
   "id": "f9886ecb-e809-4689-814b-72970a1110b5",
   "metadata": {},
   "outputs": [
    {
     "data": {
      "text/plain": [
       "[999, 6, 4, 2, 100, 200]"
      ]
     },
     "execution_count": 62,
     "metadata": {},
     "output_type": "execute_result"
    }
   ],
   "source": [
    "nums + [100, 200]"
   ]
  },
  {
   "cell_type": "code",
   "execution_count": 65,
   "id": "3a68e461-73e2-4c9d-afc4-ecd621dc3f5e",
   "metadata": {},
   "outputs": [
    {
     "data": {
      "text/plain": [
       "[999, 6, 4, 2, 999, 6, 4, 2, 999, 6, 4, 2]"
      ]
     },
     "execution_count": 65,
     "metadata": {},
     "output_type": "execute_result"
    }
   ],
   "source": [
    "3 * nums"
   ]
  },
  {
   "cell_type": "code",
   "execution_count": 67,
   "id": "1576750f-05d3-4829-92ef-95be78a95499",
   "metadata": {},
   "outputs": [
    {
     "data": {
      "text/plain": [
       "[0, 0, 0, 0, 0]"
      ]
     },
     "execution_count": 67,
     "metadata": {},
     "output_type": "execute_result"
    }
   ],
   "source": [
    "5 * [0]"
   ]
  },
  {
   "cell_type": "markdown",
   "id": "fc1c50ad-7cde-40f0-91f0-ddfb3d653ffb",
   "metadata": {},
   "source": [
    "### Strings are list of characters"
   ]
  },
  {
   "cell_type": "code",
   "execution_count": 70,
   "id": "c5771df0-2359-4cca-8851-5aad656256c9",
   "metadata": {},
   "outputs": [
    {
     "data": {
      "text/plain": [
       "['a', 'b', 'c']"
      ]
     },
     "execution_count": 70,
     "metadata": {},
     "output_type": "execute_result"
    }
   ],
   "source": [
    "list('abc')"
   ]
  },
  {
   "cell_type": "code",
   "execution_count": 72,
   "id": "46a5f770-a779-42cf-bb7f-2731bf20bfc0",
   "metadata": {},
   "outputs": [],
   "source": [
    "chars = 'CUBoulder'"
   ]
  },
  {
   "cell_type": "code",
   "execution_count": 74,
   "id": "52ab8ae1-7f9e-451b-8d03-f870804ce826",
   "metadata": {},
   "outputs": [
    {
     "data": {
      "text/plain": [
       "9"
      ]
     },
     "execution_count": 74,
     "metadata": {},
     "output_type": "execute_result"
    }
   ],
   "source": [
    "len(chars)"
   ]
  },
  {
   "cell_type": "code",
   "execution_count": 76,
   "id": "9bfb14af-c39c-4e37-bdf4-842a34110f89",
   "metadata": {},
   "outputs": [
    {
     "data": {
      "text/plain": [
       "['B', 'C', 'U', 'd', 'e', 'l', 'o', 'r', 'u']"
      ]
     },
     "execution_count": 76,
     "metadata": {},
     "output_type": "execute_result"
    }
   ],
   "source": [
    "sorted(chars)"
   ]
  },
  {
   "cell_type": "code",
   "execution_count": 78,
   "id": "8f66ff31-a2f8-43a7-b9d7-7631cbfd7d93",
   "metadata": {},
   "outputs": [
    {
     "data": {
      "text/plain": [
       "'C'"
      ]
     },
     "execution_count": 78,
     "metadata": {},
     "output_type": "execute_result"
    }
   ],
   "source": [
    "chars[0]"
   ]
  },
  {
   "cell_type": "code",
   "execution_count": 80,
   "id": "f9e59ff0-6093-4ff2-81b4-898d39dc8eff",
   "metadata": {},
   "outputs": [
    {
     "data": {
      "text/plain": [
       "'r'"
      ]
     },
     "execution_count": 80,
     "metadata": {},
     "output_type": "execute_result"
    }
   ],
   "source": [
    "chars[-1]"
   ]
  },
  {
   "cell_type": "markdown",
   "id": "5e5c03cc-046f-4b65-af33-c2c4b7325694",
   "metadata": {},
   "source": [
    "### Creating List using range\n",
    "range(start, stop) creates a list of numbers from start up to but not including stop."
   ]
  },
  {
   "cell_type": "code",
   "execution_count": 85,
   "id": "841c4b0c-5cae-464b-ac02-a8418406abb1",
   "metadata": {},
   "outputs": [
    {
     "data": {
      "text/plain": [
       "range(1, 5)"
      ]
     },
     "execution_count": 85,
     "metadata": {},
     "output_type": "execute_result"
    }
   ],
   "source": [
    "range(1, 5)"
   ]
  },
  {
   "cell_type": "code",
   "execution_count": 87,
   "id": "6e949477-4059-4d9d-a541-002f87a57204",
   "metadata": {},
   "outputs": [
    {
     "data": {
      "text/plain": [
       "[1, 2, 3, 4]"
      ]
     },
     "execution_count": 87,
     "metadata": {},
     "output_type": "execute_result"
    }
   ],
   "source": [
    "list(range(1, 5))"
   ]
  },
  {
   "cell_type": "code",
   "execution_count": 97,
   "id": "835244e5-6d65-4bcd-baae-ae8934031f6e",
   "metadata": {},
   "outputs": [
    {
     "data": {
      "text/plain": [
       "[0, 1, 2, 3, 4]"
      ]
     },
     "execution_count": 97,
     "metadata": {},
     "output_type": "execute_result"
    }
   ],
   "source": [
    "list(range(5)) #default starting value is 0"
   ]
  },
  {
   "cell_type": "code",
   "execution_count": 99,
   "id": "4f663535-a2eb-46b4-a09f-8d8eae67a5af",
   "metadata": {},
   "outputs": [
    {
     "data": {
      "text/plain": [
       "[5, 6, 7, 8, 9, 10]"
      ]
     },
     "execution_count": 99,
     "metadata": {},
     "output_type": "execute_result"
    }
   ],
   "source": [
    "list(range(5, 11))"
   ]
  },
  {
   "cell_type": "code",
   "execution_count": 101,
   "id": "fbe96986-0724-4434-ab0f-c5738bc633f7",
   "metadata": {},
   "outputs": [
    {
     "data": {
      "text/plain": [
       "[5, 7, 9]"
      ]
     },
     "execution_count": 101,
     "metadata": {},
     "output_type": "execute_result"
    }
   ],
   "source": [
    "list(range(5, 11, 2)) #third argument is step size"
   ]
  },
  {
   "cell_type": "code",
   "execution_count": 107,
   "id": "41e7261c-b209-4203-8f2a-94701c56e989",
   "metadata": {},
   "outputs": [
    {
     "data": {
      "text/plain": [
       "[50, 60, 70, 80, 90]"
      ]
     },
     "execution_count": 107,
     "metadata": {},
     "output_type": "execute_result"
    }
   ],
   "source": [
    "list(range(50, 91, 10))"
   ]
  },
  {
   "cell_type": "code",
   "execution_count": 109,
   "id": "4f6901f5-3400-409f-b6eb-e225133b6082",
   "metadata": {},
   "outputs": [
    {
     "data": {
      "text/plain": [
       "[100, 90, 80, 70, 60]"
      ]
     },
     "execution_count": 109,
     "metadata": {},
     "output_type": "execute_result"
    }
   ],
   "source": [
    "list(range(100, 50, -10))"
   ]
  },
  {
   "cell_type": "markdown",
   "id": "afddd58b-8964-4ad1-9539-b9fafdc738b2",
   "metadata": {},
   "source": [
    "### Slicing List\n",
    "[start:stop:step]"
   ]
  },
  {
   "cell_type": "code",
   "execution_count": 115,
   "id": "31d7512f-2790-44d6-9b4d-7b24bb8c78c1",
   "metadata": {},
   "outputs": [
    {
     "data": {
      "text/plain": [
       "[50, 60, 70, 80, 90]"
      ]
     },
     "execution_count": 115,
     "metadata": {},
     "output_type": "execute_result"
    }
   ],
   "source": [
    "tens = list(range(50, 100, 10))\n",
    "tens"
   ]
  },
  {
   "cell_type": "code",
   "execution_count": 117,
   "id": "255e4c52-2948-4ff0-8285-36fdd2c6fc91",
   "metadata": {},
   "outputs": [
    {
     "data": {
      "text/plain": [
       "[50, 60, 70]"
      ]
     },
     "execution_count": 117,
     "metadata": {},
     "output_type": "execute_result"
    }
   ],
   "source": [
    "tens[0:3]"
   ]
  },
  {
   "cell_type": "code",
   "execution_count": 119,
   "id": "c0c8f18f-f791-4f81-ad35-d03b43f6bed0",
   "metadata": {},
   "outputs": [
    {
     "data": {
      "text/plain": [
       "'CUBoulder'"
      ]
     },
     "execution_count": 119,
     "metadata": {},
     "output_type": "execute_result"
    }
   ],
   "source": [
    "chars"
   ]
  },
  {
   "cell_type": "code",
   "execution_count": 121,
   "id": "4da47057-c905-4932-a66b-11b041e0474f",
   "metadata": {},
   "outputs": [
    {
     "data": {
      "text/plain": [
       "'CUB'"
      ]
     },
     "execution_count": 121,
     "metadata": {},
     "output_type": "execute_result"
    }
   ],
   "source": [
    "chars[0:3]"
   ]
  },
  {
   "cell_type": "code",
   "execution_count": 127,
   "id": "b16d8082-c728-49ea-970d-720c49a1c227",
   "metadata": {},
   "outputs": [
    {
     "data": {
      "text/plain": [
       "'CUB'"
      ]
     },
     "execution_count": 127,
     "metadata": {},
     "output_type": "execute_result"
    }
   ],
   "source": [
    "chars[:3]"
   ]
  },
  {
   "cell_type": "code",
   "execution_count": 129,
   "id": "4dd396f7-84bd-40b5-ad6a-d6707430aab1",
   "metadata": {},
   "outputs": [
    {
     "data": {
      "text/plain": [
       "'Boulder'"
      ]
     },
     "execution_count": 129,
     "metadata": {},
     "output_type": "execute_result"
    }
   ],
   "source": [
    "chars[2:]"
   ]
  },
  {
   "cell_type": "code",
   "execution_count": 131,
   "id": "68ebc403-8e9f-4ae3-8686-bf323b89360f",
   "metadata": {},
   "outputs": [
    {
     "data": {
      "text/plain": [
       "'Uo'"
      ]
     },
     "execution_count": 131,
     "metadata": {},
     "output_type": "execute_result"
    }
   ],
   "source": [
    "chars[1:5:2]"
   ]
  },
  {
   "cell_type": "code",
   "execution_count": 133,
   "id": "bc6b2ecb-b535-4e43-babb-e36c629dfb37",
   "metadata": {},
   "outputs": [
    {
     "data": {
      "text/plain": [
       "'CBudr'"
      ]
     },
     "execution_count": 133,
     "metadata": {},
     "output_type": "execute_result"
    }
   ],
   "source": [
    "chars[::2]"
   ]
  },
  {
   "cell_type": "code",
   "execution_count": 139,
   "id": "d81304e1-68ec-45b4-9cc2-6c23582ed67e",
   "metadata": {},
   "outputs": [
    {
     "data": {
      "text/plain": [
       "'Uue'"
      ]
     },
     "execution_count": 139,
     "metadata": {},
     "output_type": "execute_result"
    }
   ],
   "source": [
    "chars[1::3]"
   ]
  },
  {
   "cell_type": "code",
   "execution_count": 141,
   "id": "5d910799-cbe8-4620-b76b-e49f4349cf28",
   "metadata": {},
   "outputs": [
    {
     "data": {
      "text/plain": [
       "'redluoBUC'"
      ]
     },
     "execution_count": 141,
     "metadata": {},
     "output_type": "execute_result"
    }
   ],
   "source": [
    "chars[::-1] #reverse order"
   ]
  },
  {
   "cell_type": "code",
   "execution_count": 143,
   "id": "3de69029-b7c2-4071-bf9d-87e15f90ce27",
   "metadata": {},
   "outputs": [
    {
     "data": {
      "text/plain": [
       "'rduBC'"
      ]
     },
     "execution_count": 143,
     "metadata": {},
     "output_type": "execute_result"
    }
   ],
   "source": [
    "chars[::-2]"
   ]
  },
  {
   "cell_type": "code",
   "execution_count": 145,
   "id": "d145d2ac-edd3-4512-b091-4248e0d7491c",
   "metadata": {},
   "outputs": [
    {
     "data": {
      "text/plain": [
       "'CUBoulder'"
      ]
     },
     "execution_count": 145,
     "metadata": {},
     "output_type": "execute_result"
    }
   ],
   "source": [
    "chars"
   ]
  },
  {
   "cell_type": "markdown",
   "id": "6b17d3c9-ecf8-451d-af0f-70b52959cde0",
   "metadata": {},
   "source": [
    "### Use list slicing of 'chars' to extract these strings\n",
    "* oul\n",
    "* luo\n",
    "* Bud"
   ]
  },
  {
   "cell_type": "code",
   "execution_count": 150,
   "id": "24455068-f258-4fec-acfd-8528a163c925",
   "metadata": {},
   "outputs": [
    {
     "data": {
      "text/plain": [
       "'oul'"
      ]
     },
     "execution_count": 150,
     "metadata": {},
     "output_type": "execute_result"
    }
   ],
   "source": [
    "chars[3:6]"
   ]
  },
  {
   "cell_type": "code",
   "execution_count": 154,
   "id": "83876426-2a0a-4af9-8c5c-3065d302b7ba",
   "metadata": {},
   "outputs": [
    {
     "data": {
      "text/plain": [
       "'luo'"
      ]
     },
     "execution_count": 154,
     "metadata": {},
     "output_type": "execute_result"
    }
   ],
   "source": [
    "chars[5:2:-1]"
   ]
  },
  {
   "cell_type": "code",
   "execution_count": 158,
   "id": "02587cd4-29ad-4a94-927e-338f7c2bfc61",
   "metadata": {},
   "outputs": [
    {
     "data": {
      "text/plain": [
       "'Bud'"
      ]
     },
     "execution_count": 158,
     "metadata": {},
     "output_type": "execute_result"
    }
   ],
   "source": [
    "chars[2:7:2]"
   ]
  }
 ],
 "metadata": {
  "kernelspec": {
   "display_name": "Python 3 (ipykernel)",
   "language": "python",
   "name": "python3"
  },
  "language_info": {
   "codemirror_mode": {
    "name": "ipython",
    "version": 3
   },
   "file_extension": ".py",
   "mimetype": "text/x-python",
   "name": "python",
   "nbconvert_exporter": "python",
   "pygments_lexer": "ipython3",
   "version": "3.12.4"
  }
 },
 "nbformat": 4,
 "nbformat_minor": 5
}
