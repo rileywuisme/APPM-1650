{
 "cells": [
  {
   "cell_type": "markdown",
   "metadata": {
    "tags": []
   },
   "source": [
    "# Recitation 5\n",
    "___"
   ]
  },
  {
   "cell_type": "code",
   "execution_count": 252,
   "metadata": {},
   "outputs": [],
   "source": [
    "import math"
   ]
  },
  {
   "cell_type": "markdown",
   "metadata": {},
   "source": [
    "### List Comprehensions\n",
    "\n",
    "**Write a one-line list comprehension** to find the following sums:\n",
    "\n",
    "* **`sum1`**: $$ \\frac{1}{2} + \\frac{1}{4} + \\frac{1}{8} + \\frac{1}{16} + \\cdots + \\frac{1}{2^{8}} $$\n",
    "    \n",
    "* **`sum2`**: $$1 -\\frac{1}{2} + \\frac{1}{3} -\\frac{1}{4} + \\cdots -\\frac{1}{20}$$  \n",
    "  *Hint:* $(-1)^n$ equals $1$ for even $n$, and equals $-1$ for odd $n$\n",
    "    \n",
    "    \n",
    "* **`sum3`**: $$3+7+11+15+\\cdots+43$$\n",
    "\n",
    "* **`sum4`**: $$1^2 + 3^2 + 5^2 + \\cdots + 99^2$$\n",
    "    \n",
    "* **`sum5`**: Sum of the integers less than 1000 that are multiples of 7 and end in the digit 3\n",
    "        "
   ]
  },
  {
   "cell_type": "code",
   "execution_count": 254,
   "metadata": {},
   "outputs": [
    {
     "data": {
      "text/plain": [
       "0.99609375"
      ]
     },
     "execution_count": 254,
     "metadata": {},
     "output_type": "execute_result"
    }
   ],
   "source": [
    "sum1 = sum(1 / (2**n) for n in range(1, 9))\n",
    "sum1"
   ]
  },
  {
   "cell_type": "code",
   "execution_count": 330,
   "metadata": {},
   "outputs": [
    {
     "data": {
      "text/plain": [
       "0.6687714031754279"
      ]
     },
     "execution_count": 330,
     "metadata": {},
     "output_type": "execute_result"
    }
   ],
   "source": [
    "sum2 = sum((-1)**(n+1) / n for n in range(1, 21))\n",
    "sum2"
   ]
  },
  {
   "cell_type": "code",
   "execution_count": 324,
   "metadata": {},
   "outputs": [
    {
     "data": {
      "text/plain": [
       "[3, 7, 11, 15, 19, 23, 27, 31, 35, 39, 43]"
      ]
     },
     "execution_count": 324,
     "metadata": {},
     "output_type": "execute_result"
    }
   ],
   "source": [
    "sum3 = sum( n for n in range(3, 44, 4))\n",
    "sum3"
   ]
  },
  {
   "cell_type": "code",
   "execution_count": 312,
   "metadata": {},
   "outputs": [
    {
     "data": {
      "text/plain": [
       "166650"
      ]
     },
     "execution_count": 312,
     "metadata": {},
     "output_type": "execute_result"
    }
   ],
   "source": [
    "sum4 = sum( n **2 for n in range(1, 100, 2))\n",
    "sum4"
   ]
  },
  {
   "cell_type": "code",
   "execution_count": 17,
   "metadata": {},
   "outputs": [
    {
     "data": {
      "text/plain": [
       "7252"
      ]
     },
     "execution_count": 17,
     "metadata": {},
     "output_type": "execute_result"
    }
   ],
   "source": [
    "sum5 = sum( [n for n in range(1, 1000) if n % 7 == 0 and str(n)[-1] == '3'])\n",
    "sum5"
   ]
  },
  {
   "cell_type": "markdown",
   "metadata": {},
   "source": [
    "### Month Numbers\n",
    "Assign to the variable **`month_nums`** a list of tuples containing each month of the year followed by its number. \n",
    "```\n",
    "[('Jan', 1),\n",
    " ('Feb', 2),\n",
    " ('Mar', 3),\n",
    " ...,\n",
    " ('Dec', 12)]\n",
    "```\n",
    "\n",
    "**Use `enumerate()` and a list comprehension.** Begin with this list \n"
   ]
  },
  {
   "cell_type": "code",
   "execution_count": null,
   "metadata": {},
   "outputs": [],
   "source": [
    "months = ['Jan', 'Feb', 'Mar', 'Apr', 'May', 'Jun', 'Jul', 'Aug', 'Sep', 'Oct', 'Nov', 'Dec']"
   ]
  },
  {
   "cell_type": "code",
   "execution_count": null,
   "metadata": {},
   "outputs": [],
   "source": [
    "month_nums = [(month, index +1) for index, month in enumerate(months)]\n",
    "month_nums"
   ]
  },
  {
   "cell_type": "markdown",
   "metadata": {},
   "source": [
    "### Alphabet positions\n",
    "Assign to the variable **`alphabet_pos`** a list of tuples containing each letter of the alphabet (in lower case) followed by its position. \n",
    "```\n",
    "[('a', 1),\n",
    " ('b', 2),\n",
    " ('c', 3),\n",
    " ... \n",
    " ('z', 26)]\n",
    "```\n",
    "**Use `enumerate()` and a list comprehension.** Use this string "
   ]
  },
  {
   "cell_type": "code",
   "execution_count": null,
   "metadata": {},
   "outputs": [],
   "source": [
    "alphabet = 'abcdefghijklmnopqrstuvwxyz'"
   ]
  },
  {
   "cell_type": "code",
   "execution_count": null,
   "metadata": {},
   "outputs": [],
   "source": [
    "alphabet_pos = [(alph, ind +1) for ind, alph in enumerate(alphabet)]\n",
    "alphabet_pos"
   ]
  },
  {
   "cell_type": "markdown",
   "metadata": {},
   "source": [
    "### Adding List Elements\n",
    "Write a function **`add_nums(nums1, nums2)`** that returns a new list containing the sum of the corresponding numbers in two lists. Assume that the two lists have the same number of elements. **Write the function in two different ways**:\n",
    "* without `zip()`\n",
    "* with `zip()`\n",
    "\n",
    "Examples:  \n",
    "```\n",
    "alist = [1, 2, 3]\n",
    "blist = [55, 66, 77]\n",
    "add_nums(alist, blist)\n",
    "``` \n",
    "returns `[56, 68, 80]`.\n"
   ]
  },
  {
   "cell_type": "code",
   "execution_count": null,
   "metadata": {
    "tags": []
   },
   "outputs": [],
   "source": [
    "def add_nums(nums1, nums2):\n",
    "    sum12 = []\n",
    "    for n in range(len(nums1)):\n",
    "        sum12.append(nums1[n] + nums2[n])\n",
    "    return sum12"
   ]
  },
  {
   "cell_type": "code",
   "execution_count": null,
   "metadata": {},
   "outputs": [],
   "source": [
    "alist = [1, 2, 3]\n",
    "blist = [55, 66, 77]\n",
    "add_nums(alist, blist)"
   ]
  },
  {
   "cell_type": "code",
   "execution_count": 269,
   "metadata": {},
   "outputs": [],
   "source": [
    "def add_nums(nums1, nums2):\n",
    "    return [a + b for a, b in zip(nums1, nums2)]"
   ]
  },
  {
   "cell_type": "code",
   "execution_count": 271,
   "metadata": {},
   "outputs": [
    {
     "data": {
      "text/plain": [
       "[56, 68, 80]"
      ]
     },
     "execution_count": 271,
     "metadata": {},
     "output_type": "execute_result"
    }
   ],
   "source": [
    "alist = [1, 2, 3]\n",
    "blist = [55, 66, 77]\n",
    "add_nums(alist, blist)"
   ]
  },
  {
   "cell_type": "code",
   "execution_count": 274,
   "metadata": {},
   "outputs": [],
   "source": [
    "nums = [1, 2, 3, 4]"
   ]
  },
  {
   "cell_type": "markdown",
   "metadata": {},
   "source": [
    "### A Recursively Defined Sequence\n",
    "Consider the sequence $a_1, a_2, a_3, \\ldots$, recursively defined as $a_{n} = 1+3a_{n-1}$. In other words, each term is one more than 3 times the previous term. For example, if the first term is $a_1 = 2$, then the sequence is $2, 7, 22, 67, \\ldots$.\n",
    "\n",
    "\n",
    "Write a function **`seq(a1, n)`** that returns a list containing the first `n` terms of the sequence given that the first term is `a1`. Assume that `n` is a positive `int`.\n",
    "\n",
    "  Example:  \n",
    "  `seq(2, 4)` returns `[2, 7, 22, 67]`.\n",
    " "
   ]
  },
  {
   "cell_type": "code",
   "execution_count": 306,
   "metadata": {
    "tags": []
   },
   "outputs": [],
   "source": [
    "def seq(a1, n):\n",
    "    alist = [a1]\n",
    "    for n in range(1, n):\n",
    "        alist.append(1 + 3 * alist[-1])\n",
    "\n",
    "    return alist"
   ]
  },
  {
   "cell_type": "code",
   "execution_count": 308,
   "metadata": {},
   "outputs": [
    {
     "data": {
      "text/plain": [
       "[2, 7, 22, 67]"
      ]
     },
     "execution_count": 308,
     "metadata": {},
     "output_type": "execute_result"
    }
   ],
   "source": [
    "seq(2, 4)"
   ]
  },
  {
   "cell_type": "markdown",
   "metadata": {},
   "source": [
    "___\n",
    "\n",
    "# Extra Problems\n",
    "Work on these problems after completing the previous exercises."
   ]
  },
  {
   "cell_type": "markdown",
   "metadata": {},
   "source": [
    "### Zero Digit\n",
    "Write a function **`zero_digit(nums)`** that takes a list of `int`s and returns a list of the elements that contain at least one digit 0. **Use a list comprehension.**\n",
    "\n",
    "  Examples:  \n",
    "  `zero_digit([102, 340, 56, 7008])` returns `[102, 340, 7008]`."
   ]
  },
  {
   "cell_type": "code",
   "execution_count": null,
   "metadata": {},
   "outputs": [],
   "source": []
  },
  {
   "cell_type": "markdown",
   "metadata": {},
   "source": [
    "### Consecutive Numbers\n",
    "Write a function **`consec_nums(lst)`** that returns `True` if a list of numbers contains consecutive elements that are equal.\n",
    "\n",
    "Examples:  \n",
    "`consec_nums([1, 6, 3, 2, 2])` returns `True`.<br>\n",
    "`consec_nums([1, 2, 3, 2])` returns `False`."
   ]
  },
  {
   "cell_type": "code",
   "execution_count": null,
   "metadata": {},
   "outputs": [],
   "source": []
  },
  {
   "cell_type": "markdown",
   "metadata": {},
   "source": [
    "### Matching List Elements\n",
    "**Use a list comprehension** to write a function **`match_lists(lst1, lst2)`** that returns a list containing the indices of the elements in `lst1` and `lst2` that are identical. Assume that the two lists have the same number of elements. \n",
    "\n",
    "Examples:  \n",
    "```\n",
    "alist = [5, 7, 10, 11, 23]\n",
    "blist = [7, 5, 10, 11, 86]\n",
    "match_lists(alist, blist)\n",
    "``` \n",
    "returns `[2, 3]` because the lists have identical elements in positions 2 and 3.\n",
    "\n",
    "```\n",
    "alist = [5, 7]\n",
    "blist = [7, 5]\n",
    "match_lists(alist, blist)\n",
    "``` \n",
    "returns `[]`.\n"
   ]
  },
  {
   "cell_type": "code",
   "execution_count": null,
   "metadata": {},
   "outputs": [],
   "source": []
  },
  {
   "cell_type": "markdown",
   "metadata": {},
   "source": [
    "### Divisibility\n",
    "Let the variable **`div_ct`** equal the number of three-digit integers that are divisible by their units digit. For example, 101 and 786 are two such numbers, but 103 and 780 are not."
   ]
  },
  {
   "cell_type": "code",
   "execution_count": null,
   "metadata": {},
   "outputs": [],
   "source": [
    "# div_ct = "
   ]
  },
  {
   "cell_type": "markdown",
   "metadata": {},
   "source": [
    "### Max Value\n",
    "Two distinct integers, $m$ and $n$, are chosen from the set $\\{1, 2, 3, 4, \\ldots , 2009\\}$. Let the variable **`maxval`** equal the maximum possible value of $(2m+n)\\div(m−2n)$."
   ]
  },
  {
   "cell_type": "code",
   "execution_count": null,
   "metadata": {},
   "outputs": [],
   "source": [
    "# maxval ="
   ]
  },
  {
   "cell_type": "markdown",
   "metadata": {},
   "source": [
    "### Challenge: Divisible by All\n",
    "Let the variable **`div_all`** equal the smallest positive number that is evenly divisible by all integers from $1$ to $20$."
   ]
  },
  {
   "cell_type": "code",
   "execution_count": null,
   "metadata": {},
   "outputs": [],
   "source": [
    "# div_all = "
   ]
  }
 ],
 "metadata": {
  "kernelspec": {
   "display_name": "Python 3 (ipykernel)",
   "language": "python",
   "name": "python3"
  },
  "language_info": {
   "codemirror_mode": {
    "name": "ipython",
    "version": 3
   },
   "file_extension": ".py",
   "mimetype": "text/x-python",
   "name": "python",
   "nbconvert_exporter": "python",
   "pygments_lexer": "ipython3",
   "version": "3.12.4"
  }
 },
 "nbformat": 4,
 "nbformat_minor": 4
}
