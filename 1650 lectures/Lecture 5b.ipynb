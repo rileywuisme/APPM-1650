{
 "cells": [
  {
   "cell_type": "markdown",
   "id": "c35cf73c-7147-4665-a51a-401a41076df2",
   "metadata": {},
   "source": [
    "### Lecture 5b"
   ]
  },
  {
   "cell_type": "code",
   "execution_count": null,
   "id": "330dc02a-b3a7-4eec-9dd3-d6687430b141",
   "metadata": {},
   "outputs": [],
   "source": [
    "[10, 8, 6, 4, 2, 0]\n",
    "([10, 8, 6], [8, 6, 4, 2, 0], [0], [6, 4, 2], [])"
   ]
  },
  {
   "cell_type": "code",
   "execution_count": 9,
   "id": "0eb3edcc-4c3e-4c56-b0a4-55f5d8adcfca",
   "metadata": {},
   "outputs": [
    {
     "data": {
      "text/plain": [
       "[10, 8, 6, 4, 2, 0]"
      ]
     },
     "execution_count": 9,
     "metadata": {},
     "output_type": "execute_result"
    }
   ],
   "source": [
    "nums = list(range(10, -2, -2))\n",
    "nums"
   ]
  },
  {
   "cell_type": "code",
   "execution_count": 11,
   "id": "8b9bd0a0-159c-424c-87eb-60532104d2f8",
   "metadata": {},
   "outputs": [
    {
     "data": {
      "text/plain": [
       "[10, 8, 6]"
      ]
     },
     "execution_count": 11,
     "metadata": {},
     "output_type": "execute_result"
    }
   ],
   "source": [
    "nums[:3]"
   ]
  },
  {
   "cell_type": "code",
   "execution_count": 13,
   "id": "708c4af5-0558-488d-90ee-1f2e7619e4d9",
   "metadata": {},
   "outputs": [
    {
     "data": {
      "text/plain": [
       "[8, 6, 4, 2, 0]"
      ]
     },
     "execution_count": 13,
     "metadata": {},
     "output_type": "execute_result"
    }
   ],
   "source": [
    "nums[1:]"
   ]
  },
  {
   "cell_type": "code",
   "execution_count": 15,
   "id": "41f4f4ef-da61-48be-ba35-709cceecc4b3",
   "metadata": {},
   "outputs": [
    {
     "data": {
      "text/plain": [
       "0"
      ]
     },
     "execution_count": 15,
     "metadata": {},
     "output_type": "execute_result"
    }
   ],
   "source": [
    "nums[-1]"
   ]
  },
  {
   "cell_type": "code",
   "execution_count": 21,
   "id": "1cf4e8a9-e95f-4f0e-a885-7c1b9e40ebba",
   "metadata": {},
   "outputs": [
    {
     "data": {
      "text/plain": [
       "[6, 4, 2]"
      ]
     },
     "execution_count": 21,
     "metadata": {},
     "output_type": "execute_result"
    }
   ],
   "source": [
    "nums[2:-1] #I got it wrong"
   ]
  },
  {
   "cell_type": "code",
   "execution_count": 23,
   "id": "4133e2d1-a77a-4ea2-ba01-673fd12bfb4f",
   "metadata": {},
   "outputs": [
    {
     "data": {
      "text/plain": [
       "[0, 2, 4, 6, 8, 10]"
      ]
     },
     "execution_count": 23,
     "metadata": {},
     "output_type": "execute_result"
    }
   ],
   "source": [
    "nums[::-1] #I got it wrong"
   ]
  },
  {
   "cell_type": "code",
   "execution_count": 25,
   "id": "6dd67d4d-3bfb-414a-8467-6de3a921f4fc",
   "metadata": {},
   "outputs": [
    {
     "data": {
      "text/plain": [
       "12"
      ]
     },
     "execution_count": 25,
     "metadata": {},
     "output_type": "execute_result"
    }
   ],
   "source": [
    "[1, 4, 7]\n",
    "(1, 0) #got the y wrong\n",
    "(4, 1)\n",
    "(7, 5)\n",
    "12"
   ]
  },
  {
   "cell_type": "code",
   "execution_count": 27,
   "id": "1f33472a-a09c-44e5-97df-6d59dd57a01f",
   "metadata": {},
   "outputs": [
    {
     "name": "stdout",
     "output_type": "stream",
     "text": [
      "1 0\n",
      "4 1\n",
      "7 5\n"
     ]
    },
    {
     "data": {
      "text/plain": [
       "12"
      ]
     },
     "execution_count": 27,
     "metadata": {},
     "output_type": "execute_result"
    }
   ],
   "source": [
    "#check\n",
    "y = 0\n",
    "for n in range(1, 10, 3):\n",
    "    print(n, y)\n",
    "    y += n\n",
    "\n",
    "y"
   ]
  },
  {
   "cell_type": "code",
   "execution_count": 31,
   "id": "7c8cb2af-2cc5-44a1-a969-9c60b4a6b0a2",
   "metadata": {},
   "outputs": [
    {
     "data": {
      "text/plain": [
       "(3, 5.7)"
      ]
     },
     "execution_count": 31,
     "metadata": {},
     "output_type": "execute_result"
    }
   ],
   "source": [
    "[0, 1, 2, 3]\n",
    "0, 25\n",
    "1, -3\n",
    "2, 2\n",
    "3, 5.7\n",
    "# sum of all elements in floats"
   ]
  },
  {
   "cell_type": "code",
   "execution_count": null,
   "id": "fd956f94-8239-4f30-a01a-1a3593362de3",
   "metadata": {},
   "outputs": [],
   "source": [
    "[25, -3, 5] #-3 counts too"
   ]
  },
  {
   "cell_type": "code",
   "execution_count": 37,
   "id": "300fc5dc-22f3-4879-9c65-6fef9957b223",
   "metadata": {},
   "outputs": [
    {
     "data": {
      "text/plain": [
       "[1, 3]"
      ]
     },
     "execution_count": 37,
     "metadata": {},
     "output_type": "execute_result"
    }
   ],
   "source": [
    "return = [ i for i in ints if i % 2 == 1]"
   ]
  },
  {
   "cell_type": "markdown",
   "id": "d9792549-d495-450b-8fa5-4740648e22e1",
   "metadata": {},
   "source": [
    "### Write a list comprehension that takes a list of strings and returns a list of the last 2 chars in each string. "
   ]
  },
  {
   "cell_type": "code",
   "execution_count": 61,
   "id": "777b347b-689a-437b-b9e7-9442ded5c5e8",
   "metadata": {},
   "outputs": [
    {
     "data": {
      "text/plain": [
       "['og', 'at', 'na']"
      ]
     },
     "execution_count": 61,
     "metadata": {},
     "output_type": "execute_result"
    }
   ],
   "source": [
    "pets  = ['dog', 'cat', 'b', 'iguana']\n",
    "[ word[-2] + word[-1] for word in pets if len(word) >= 2]"
   ]
  },
  {
   "cell_type": "markdown",
   "id": "124cbfa5-7710-4fe6-8428-60401e05d035",
   "metadata": {},
   "source": [
    "Birthday Probability"
   ]
  },
  {
   "cell_type": "code",
   "execution_count": 108,
   "id": "f3bf2f08-7d2a-4384-85d6-07a79ce44463",
   "metadata": {},
   "outputs": [],
   "source": [
    "def bday_prob(n):\n",
    "    prod = 1\n",
    "    for d in range(364, 365 - n, -1):\n",
    "        prod *= d /365\n",
    "\n",
    "    return 1 - (prod)"
   ]
  },
  {
   "cell_type": "code",
   "execution_count": 110,
   "id": "cdb40271-5f52-437d-8ca4-fbd8afe24fb7",
   "metadata": {},
   "outputs": [
    {
     "data": {
      "text/plain": [
       "0.5072972343239857"
      ]
     },
     "execution_count": 110,
     "metadata": {},
     "output_type": "execute_result"
    }
   ],
   "source": [
    "bday_prob(23)"
   ]
  },
  {
   "cell_type": "code",
   "execution_count": 114,
   "id": "11ee548a-c072-462d-9bd2-93464ca25f78",
   "metadata": {},
   "outputs": [],
   "source": [
    "def bday_prob(n):\n",
    "    prod = 1\n",
    "    for d in range(364, 365 - n, -1):\n",
    "        prod *= d \n",
    "\n",
    "    return 1 - (prod /365)"
   ]
  },
  {
   "cell_type": "code",
   "execution_count": 116,
   "id": "7ff82219-3a96-49b9-b31f-d1334cdcb8a7",
   "metadata": {},
   "outputs": [
    {
     "data": {
      "text/plain": [
       "-3.167635151217291e+53"
      ]
     },
     "execution_count": 116,
     "metadata": {},
     "output_type": "execute_result"
    }
   ],
   "source": [
    "bday_prob(23)"
   ]
  },
  {
   "cell_type": "code",
   "execution_count": null,
   "id": "d9101071-646e-4ee7-b1f7-51f82205b16d",
   "metadata": {},
   "outputs": [],
   "source": []
  }
 ],
 "metadata": {
  "kernelspec": {
   "display_name": "Python 3 (ipykernel)",
   "language": "python",
   "name": "python3"
  },
  "language_info": {
   "codemirror_mode": {
    "name": "ipython",
    "version": 3
   },
   "file_extension": ".py",
   "mimetype": "text/x-python",
   "name": "python",
   "nbconvert_exporter": "python",
   "pygments_lexer": "ipython3",
   "version": "3.12.4"
  }
 },
 "nbformat": 4,
 "nbformat_minor": 5
}
