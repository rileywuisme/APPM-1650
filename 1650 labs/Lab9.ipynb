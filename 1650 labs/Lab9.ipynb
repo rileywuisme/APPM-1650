{
 "cells": [
  {
   "cell_type": "markdown",
   "metadata": {},
   "source": [
    "# Lab 9"
   ]
  },
  {
   "cell_type": "markdown",
   "metadata": {
    "tags": []
   },
   "source": [
    "### Enter the Lab9 password as a string"
   ]
  },
  {
   "cell_type": "code",
   "execution_count": 366,
   "metadata": {},
   "outputs": [],
   "source": [
    "password = 'prime'"
   ]
  },
  {
   "cell_type": "markdown",
   "metadata": {},
   "source": [
    "**Upload 2 files** to Gradescope:\n",
    "* **Lab9.py** (for the autograder)\n",
    "* **Lab9.ipynb** (for manual grading)\n",
    "\n",
    "**Download 2 files** from Canvas:\n",
    "* sudoku1.txt\n",
    "* sudoku2.txt\n",
    "___"
   ]
  },
  {
   "cell_type": "code",
   "execution_count": 368,
   "metadata": {},
   "outputs": [],
   "source": [
    "import math\n",
    "import random\n",
    "import numpy as np\n",
    "from numpy import linalg as LA\n",
    "import matplotlib.pyplot as plt"
   ]
  },
  {
   "cell_type": "markdown",
   "metadata": {},
   "source": [
    "### Array Statistics\n",
    "Write a function **`array_stats(arr)`** that takes an array of numbers and returns the following information in an array:\n",
    "* mean of the numbers\n",
    "* median of the numbers\n",
    "* variance of the numbers\n",
    "* standard deviation of the numbers\n",
    "\n",
    "**Use numpy functions** `.mean()`, `np.median()`, `np.var()`, and `np.std()`.)\n",
    "\n",
    "Example: \n",
    "```\n",
    "arr = np.arange(1, 6, 0.5).reshape(2, 5)\n",
    "array_stats(arr)\n",
    "```\n",
    "returns \n",
    "```\n",
    "array([3.25      , 3.25      , 2.0625    , 1.436141])\n",
    "```"
   ]
  },
  {
   "cell_type": "code",
   "execution_count": 370,
   "metadata": {
    "tags": []
   },
   "outputs": [],
   "source": [
    "def array_stats(arr):\n",
    "    mean = arr.mean()\n",
    "    median = np.median(arr)\n",
    "    var = np.var(arr)\n",
    "    std = np.std(arr)\n",
    "    return np.array([mean, median, var, std])"
   ]
  },
  {
   "cell_type": "code",
   "execution_count": 371,
   "metadata": {},
   "outputs": [
    {
     "data": {
      "text/plain": [
       "array([3.25      , 3.25      , 2.0625    , 1.43614066])"
      ]
     },
     "execution_count": 371,
     "metadata": {},
     "output_type": "execute_result"
    }
   ],
   "source": [
    "arr = np.arange(1, 6, 0.5).reshape(2, 5)\n",
    "array_stats(arr)"
   ]
  },
  {
   "cell_type": "markdown",
   "metadata": {
    "tags": []
   },
   "source": [
    "### Dimes and Nickels\n",
    "\n",
    "Suppose you have a collection of dimes and nickels. Given the number of coins and the total value in dollars, you can determine the quantity of each coin. Write a function **`dimes_nickels(ncoins, value)`** that returns a numpy array of two `int`s corresponding to the number of dimes and nickels, respectively. The function should use numpy functions as follows:\n",
    "\n",
    "* Method 1 (if you don't know what a matrix inverse is): Your function should use the numpy **`LA.solve()`** function.\n",
    "* Method 2 (if you know what a matrix inverse is): Your function should use **`LA.inv()`** to calculate the matrix inverse, then apply the `@` operator to multiply the inverse by the appropriate vector.\n",
    "\n",
    "*Hint:* These numpy routines will return floating point values. Use `np.round()` to round the result and `.astype()` to convert to ints.\n",
    "\n",
    "Example:  \n",
    "`dimes_nickels(30, 2.15)` returns `array([13, 17])` corresponding to 13 dimes and 17 nickels."
   ]
  },
  {
   "cell_type": "code",
   "execution_count": 373,
   "metadata": {},
   "outputs": [],
   "source": [
    "def dimes_nickels(ncoins, value):\n",
    "    coef1 = np.ones(2)\n",
    "    coef2 = np.array([0.1, 0.05])\n",
    "    mat = np.vstack([coef1, coef2])\n",
    "    DN = np.array([ncoins, value])\n",
    "    coins = LA.inv(mat) @ DN\n",
    "    return np.round(coins).astype(int)"
   ]
  },
  {
   "cell_type": "code",
   "execution_count": 374,
   "metadata": {},
   "outputs": [
    {
     "data": {
      "text/plain": [
       "array([13, 17])"
      ]
     },
     "execution_count": 374,
     "metadata": {},
     "output_type": "execute_result"
    }
   ],
   "source": [
    "dimes_nickels(30, 2.15)"
   ]
  },
  {
   "cell_type": "markdown",
   "metadata": {},
   "source": [
    "### Normal Distribution\n",
    "The *normal distribution* (or *Gaussian distribution*) with mean $\\mu$ (mu) and standard deviation $\\sigma$ (sigma) can be represented by the function \n",
    "$$ f(x) = \\frac{1}{\\sigma \\sqrt{2\\pi}}e^{-(x-\\mu)^2/(2\\sigma^2)}.$$\n",
    "\n",
    "Write a function **`normal(x, mu, sigma)`** that returns the value of this function for a given value of $x$, mean $\\mu$, and standard deviation $\\sigma$.\n",
    "\n",
    "Example: `normal(90, 100, 30)` returns `0.012579`."
   ]
  },
  {
   "cell_type": "code",
   "execution_count": 376,
   "metadata": {},
   "outputs": [],
   "source": [
    "def normal(x, mu, sigma):\n",
    "    coef = 1 / (sigma * np.sqrt(2*np.pi))\n",
    "    e = np.e**(-(x-mu)**2 / (2*sigma**2))\n",
    "    return coef*e"
   ]
  },
  {
   "cell_type": "code",
   "execution_count": 377,
   "metadata": {},
   "outputs": [
    {
     "data": {
      "text/plain": [
       "0.012579440923099774"
      ]
     },
     "execution_count": 377,
     "metadata": {},
     "output_type": "execute_result"
    }
   ],
   "source": [
    "normal(90, 100, 30)"
   ]
  },
  {
   "cell_type": "markdown",
   "metadata": {},
   "source": [
    "### Plotting with Vectorization\n",
    "**IMPORTANT:** For the rest of the semester, when plotting, **use numpy vectorization** to calculate function values, *not* a loop or list comprehension.\n",
    "\n",
    "**Plot the normal distribution** with $\\mu=100$ and $\\sigma=30$ on the interval $[0, 200]$. Call the `normal()` function."
   ]
  },
  {
   "cell_type": "code",
   "execution_count": 426,
   "metadata": {},
   "outputs": [
    {
     "data": {
      "image/png": "[encoded data removed]",
      "text/plain": [
       "<Figure size 640x480 with 1 Axes>"
      ]
     },
     "metadata": {},
     "output_type": "display_data"
    }
   ],
   "source": [
    "xvals = np.linspace(0, 200, 100)\n",
    "yvals = normal(xvals, 100, 30)\n",
    "plt.plot(xvals, yvals)\n",
    "plt.show()"
   ]
  },
  {
   "cell_type": "markdown",
   "metadata": {},
   "source": [
    "### Standard Deviations\n",
    "The function **`plt.fill_between(xvals, yvals)`** adds color to the region between a curve defined by `xvals, yvals` and the $x$-axis. Use this function to show the regions within 1, 2, and 3 standard deviations from the mean (approximately 68%, 95%, and 99.7% of the total area, respectively). Label the $x$-axis using `plt.xticks()`. It is not necessary to match the colors shown. \n",
    "\n",
    "You may wish to use the transparency parameter `alpha` which takes a value from 0 to 1 (larger values produce darker colors).\n",
    "\n",
    "<img src=\"http://www.coloradomath.org/python/normal-std.jpg\" width=\"432\" height=\"288\" />"
   ]
  },
  {
   "cell_type": "code",
   "execution_count": 428,
   "metadata": {},
   "outputs": [
    {
     "data": {
      "image/png": "[encoded data removed]",
      "text/plain": [
       "<Figure size 640x480 with 1 Axes>"
      ]
     },
     "metadata": {},
     "output_type": "display_data"
    }
   ],
   "source": [
    "xvals = np.linspace(0, 200, 200)\n",
    "yvals = normal(xvals, 100, 30)\n",
    "plt.plot(xvals, yvals, c='orange')\n",
    "plt.fill_between(xvals[70:131], yvals[70:131])\n",
    "plt.fill_between(xvals[0:41], yvals[0:41], color='C0', alpha=0.25)\n",
    "plt.fill_between(xvals[40:71], yvals[40:71], color='C0', alpha=0.5)\n",
    "plt.fill_between(xvals[130:161], yvals[130:161], color='C0', alpha=0.5)\n",
    "plt.fill_between(xvals[160:200], yvals[160:200], color='C0', alpha=0.25)\n",
    "plt.plot([100, 100], [0, max(yvals)], c='orange')\n",
    "plt.xticks([10, 40, 70, 100, 130, 160, 190])\n",
    "plt.show()"
   ]
  },
  {
   "cell_type": "markdown",
   "metadata": {
    "tags": []
   },
   "source": [
    "### Sudoku 3x3\n",
    "In a $9\\times 9$ Sudoku square, each of the nine $3\\times 3$ subgrids contain all of the digits from 1 to 9. \n",
    "\n",
    "$$\\begin{array}{|c|c|c|}\n",
    "\\hline\n",
    "9&3&4\\\\\n",
    "\\hline\n",
    "5&1&7\\\\\n",
    "\\hline\n",
    "6&8&2\\\\\n",
    "\\hline\n",
    "\\end{array}\n",
    "$$\n",
    "\n",
    "Write a function **`sudoku_3x3(grid)`** that returns `True` if a $3\\times 3$ array is a valid Sudoku subgrid. \n",
    "\n",
    "Check to see if these squares are valid.\n",
    "```\n",
    "grid1 = np.array([[9, 3, 4], [5, 1, 7], [6, 8, 2]])\n",
    "grid2 = np.array([[9, 3, 4], [5, 1, 7], [4, 8, 2]])\n",
    "grid3 = np.array([[9, 3, 4], [5, 1, 7], [14, 8, 2]])\n",
    "``` \n"
   ]
  },
  {
   "cell_type": "code",
   "execution_count": 383,
   "metadata": {},
   "outputs": [],
   "source": [
    "def sudoku_3x3(grid):\n",
    "    return sorted(grid.flatten()) == list(range(1, 10))"
   ]
  },
  {
   "cell_type": "code",
   "execution_count": 384,
   "metadata": {},
   "outputs": [],
   "source": [
    "grid1 = np.array([[9, 3, 4], [5, 1, 7], [6, 8, 2]])\n",
    "grid2 = np.array([[9, 3, 4], [5, 1, 7], [4, 8, 2]])\n",
    "grid3 = np.array([[9, 3, 4], [5, 1, 7], [14, 8, 2]])"
   ]
  },
  {
   "cell_type": "code",
   "execution_count": 385,
   "metadata": {},
   "outputs": [
    {
     "data": {
      "text/plain": [
       "True"
      ]
     },
     "execution_count": 385,
     "metadata": {},
     "output_type": "execute_result"
    }
   ],
   "source": [
    "sudoku_3x3(grid1)"
   ]
  },
  {
   "cell_type": "code",
   "execution_count": 386,
   "metadata": {},
   "outputs": [
    {
     "data": {
      "text/plain": [
       "False"
      ]
     },
     "execution_count": 386,
     "metadata": {},
     "output_type": "execute_result"
    }
   ],
   "source": [
    "sudoku_3x3(grid2)"
   ]
  },
  {
   "cell_type": "code",
   "execution_count": 387,
   "metadata": {},
   "outputs": [
    {
     "data": {
      "text/plain": [
       "False"
      ]
     },
     "execution_count": 387,
     "metadata": {},
     "output_type": "execute_result"
    }
   ],
   "source": [
    "sudoku_3x3(grid3)"
   ]
  },
  {
   "cell_type": "markdown",
   "metadata": {},
   "source": [
    "### Sudoku 9x9\n",
    "In a Sudoku square, each row, column, and each of the nine $3\\times 3$ subgrids contain all of the digits from 1 to 9. \n",
    "\n",
    " <img src=\"http://www.coloradomath.org/python/sudoku.png\" width=\"200\" />\n",
    "\n",
    "Write a function **`sudoku(square)`** that returns `True` if a $9\\times 9$ array `square` is a valid Sudoku square. The function should call `sudoku_3x3()`.\n",
    "\n",
    "Test your code on these three $9\\times 9$ squares:\n",
    "```\n",
    "sudoku1 = np.loadtxt('sudoku1.txt', dtype=int)\n",
    "sudoku2 = np.loadtxt('sudoku2.txt', dtype=int)\n",
    "sudoku3 = [[random.randint(1, 9) for col in range(9)] \n",
    "           for row in range(9)]\n",
    "```"
   ]
  },
  {
   "cell_type": "code",
   "execution_count": 389,
   "metadata": {},
   "outputs": [],
   "source": [
    "sudoku1 = np.loadtxt('sudoku1.txt', dtype=int)\n",
    "sudoku2 = np.loadtxt('sudoku2.txt', dtype=int)\n",
    "sudoku3 = [[random.randint(1, 9) for col in range(9)] \n",
    "           for row in range(9)]"
   ]
  },
  {
   "cell_type": "code",
   "execution_count": 390,
   "metadata": {},
   "outputs": [],
   "source": [
    "def sudoku(square):\n",
    "    for row in square:\n",
    "        if sorted(row) != list(range(1, 10)):\n",
    "            return False\n",
    "\n",
    "    for col in square.T:\n",
    "        if sorted(col) != list(range(1, 10)):\n",
    "            return False\n",
    "    \n",
    "    for row in range(0, 9, 3):\n",
    "        for col in range(0, 9, 3):\n",
    "            if not sudoku_3x3(square[row:row+3, col:col+3]):\n",
    "                return False\n",
    "    \n",
    "    return True"
   ]
  },
  {
   "cell_type": "code",
   "execution_count": 391,
   "metadata": {},
   "outputs": [
    {
     "data": {
      "text/plain": [
       "True"
      ]
     },
     "execution_count": 391,
     "metadata": {},
     "output_type": "execute_result"
    }
   ],
   "source": [
    "sudoku(sudoku1)"
   ]
  },
  {
   "cell_type": "code",
   "execution_count": 392,
   "metadata": {},
   "outputs": [
    {
     "data": {
      "text/plain": [
       "False"
      ]
     },
     "execution_count": 392,
     "metadata": {},
     "output_type": "execute_result"
    }
   ],
   "source": [
    "sudoku(sudoku2)"
   ]
  },
  {
   "cell_type": "code",
   "execution_count": 393,
   "metadata": {},
   "outputs": [
    {
     "data": {
      "text/plain": [
       "False"
      ]
     },
     "execution_count": 393,
     "metadata": {},
     "output_type": "execute_result"
    }
   ],
   "source": [
    "sudoku(sudoku3)"
   ]
  },
  {
   "cell_type": "markdown",
   "metadata": {},
   "source": [
    "___\n",
    "\n",
    "# Extra Problems\n",
    "Work on these problems after completing the previous exercises."
   ]
  },
  {
   "cell_type": "markdown",
   "metadata": {},
   "source": [
    "# Z-Score\n",
    "A *z-score* or *standard score* is the number of standard deviations a data value is located, above or below the mean. For example, in the above exercise, the value 160 has a z-score of 2 because it is 2 standard deviations above the mean, and the value 70 has a z-score of -1 because it is 1 standard deviation below the mean.\n",
    "\n",
    "Write a function **`z_score(x, mu, sigma)`** that calculates the z-score for a value `x` in a distribution with mean $\\mu$ and standard deviation $\\sigma$. The formula is \n",
    "$$ z = \\frac{x-\\mu}{\\sigma}.$$\n",
    "\n",
    "Example:\n",
    "```\n",
    "xvals = np.array([70, 80, 190])\n",
    "z_score(xvals, 100, 30)\n",
    "```\n",
    "returns\n",
    "```\n",
    "array([-1.        , -0.66666667,  3.        ])\n",
    "```"
   ]
  },
  {
   "cell_type": "code",
   "execution_count": null,
   "metadata": {},
   "outputs": [],
   "source": []
  },
  {
   "cell_type": "markdown",
   "metadata": {
    "tags": []
   },
   "source": [
    "### Random Normal Distribution\n",
    "The **`np.random.normal(mu, sigma, size)`** function returns `size` random values from a normal distribution with mean `mu` and standard deviation `sigma`. \n",
    "Call `np.random.normal()` with $\\mu=100$, $\\sigma=30$, and `size=1000`. Store the resulting 1000 values in **`normal_randnums`**."
   ]
  },
  {
   "cell_type": "code",
   "execution_count": 397,
   "metadata": {},
   "outputs": [],
   "source": [
    "# normal_randnums = "
   ]
  },
  {
   "cell_type": "markdown",
   "metadata": {},
   "source": [
    "Call **`plt.hist(normal_randnums, 20, density=True)`** to display the distribution of `normal_randnums` using 20 bins. The `density` parameter scales the area under the curve to 1. Superimpose the corresponding normal curve.\n",
    "\n",
    "Here is a sample plot:\n",
    "\n",
    "<img src=\"http://www.coloradomath.org/python/normal-random.jpg\" width=\"432\" height=\"288\" />"
   ]
  },
  {
   "cell_type": "code",
   "execution_count": null,
   "metadata": {},
   "outputs": [],
   "source": []
  },
  {
   "cell_type": "markdown",
   "metadata": {},
   "source": [
    "### Flipping Pennies\n",
    "\n",
    "Imagine $n$ pennies lined up in a row, all facing down and showing Tail. Suppose there are $n$ students. \n",
    "* Student 1 flips over every penny so that now all are showing Head.  \n",
    "* Student 2 flips over every other penny beginning with the second one.  \n",
    "* Student 3 flips over every third penny beginning with the third one. \n",
    "* Student $k$ flips over every $k$th penny beginning with the $k$th one.\n",
    "\n",
    "For example if $n = 5$ the process looks like this:\n",
    "\n",
    "|Stage|Coins|\n",
    "|:---:|:---:|\n",
    "|Initial|`TTTTT`|\n",
    "|After Student 1|`HHHHH`|\n",
    "|After Student 2|`HTHTH`|\n",
    "|After Student 3|`HTTTH`|\n",
    "|After Student 4|`HTTHH`|\n",
    "|After Student 5|`HTTHT`|\n",
    "\n",
    "After all 5 students are done, the coins in positions 1 and 4 are showing Head.\n",
    "\n",
    "Write a function **`flip_pennies(n)`** that **models the above process** for `n` pennies and `n` students, and returns a list of the final positions that show Head. (*Hint:* Let `True` represent Head and `False` represent Tail. Then the `not` operation can be used to flip the coins.)\n",
    "\n",
    "Example: `flip_pennies(5)` returns `[1, 4]`."
   ]
  },
  {
   "cell_type": "code",
   "execution_count": null,
   "metadata": {},
   "outputs": [],
   "source": []
  }
 ],
 "metadata": {
  "kernelspec": {
   "display_name": "Python 3 (ipykernel)",
   "language": "python",
   "name": "python3"
  },
  "language_info": {
   "codemirror_mode": {
    "name": "ipython",
    "version": 3
   },
   "file_extension": ".py",
   "mimetype": "text/x-python",
   "name": "python",
   "nbconvert_exporter": "python",
   "pygments_lexer": "ipython3",
   "version": "3.12.4"
  }
 },
 "nbformat": 4,
 "nbformat_minor": 4
}
