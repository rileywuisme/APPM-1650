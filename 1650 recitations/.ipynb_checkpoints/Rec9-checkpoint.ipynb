{
 "cells": [
  {
   "cell_type": "markdown",
   "metadata": {
    "tags": []
   },
   "source": [
    "# Recitation 9\n",
    "\n",
    "**IMPORTANT**: Comment out any **calls** to `input()`, `hello()`, `double_num()`, and `double_nums()` before uploading your work as a Python file **`Rec9.py`** for autograding. The function **definitions** should be included (not commented out).\n",
    "\n",
    "___"
   ]
  },
  {
   "cell_type": "code",
   "execution_count": 2,
   "metadata": {},
   "outputs": [],
   "source": [
    "import math\n",
    "import random"
   ]
  },
  {
   "cell_type": "markdown",
   "metadata": {},
   "source": [
    "### Code Tracing\n",
    "\n",
    "Predict the output of these code snippets, then execute to check your answer.\n",
    "\n",
    "```\n",
    "num = 2021\n",
    "f'The number is {num}.'\n",
    "```\n",
    "and\n",
    "```\n",
    "student = 'Matilda'\n",
    "f\"{student}'s number is {num}.\"\n",
    "```"
   ]
  },
  {
   "cell_type": "code",
   "execution_count": 6,
   "metadata": {},
   "outputs": [
    {
     "data": {
      "text/plain": [
       "'The number is 2021'"
      ]
     },
     "execution_count": 6,
     "metadata": {},
     "output_type": "execute_result"
    }
   ],
   "source": [
    "num = 2021\n",
    "f'The number is {num}'"
   ]
  },
  {
   "cell_type": "code",
   "execution_count": 8,
   "metadata": {},
   "outputs": [
    {
     "data": {
      "text/plain": [
       "\"Matilda's number is 2021\""
      ]
     },
     "execution_count": 8,
     "metadata": {},
     "output_type": "execute_result"
    }
   ],
   "source": [
    "student = 'Matilda'\n",
    "f\"{student}'s number is {num}\""
   ]
  },
  {
   "cell_type": "markdown",
   "metadata": {},
   "source": [
    "Another option for inserting a single quote inside a single-quoted string is to enter `\\'`.\n",
    "```\n",
    "f'{student}\\'s number'\n",
    "```"
   ]
  },
  {
   "cell_type": "code",
   "execution_count": 10,
   "metadata": {},
   "outputs": [
    {
     "data": {
      "text/plain": [
       "\"Matilda's number\""
      ]
     },
     "execution_count": 10,
     "metadata": {},
     "output_type": "execute_result"
    }
   ],
   "source": [
    "f'{student}\\'s number'"
   ]
  },
  {
   "cell_type": "markdown",
   "metadata": {},
   "source": [
    "### Inputting from the terminal"
   ]
  },
  {
   "cell_type": "markdown",
   "metadata": {},
   "source": [
    "Write a function **`hello()`** that uses `input()` to prompt for a user's name, then prints `Hi` followed by the name and `!`. **Use an f-string.** The function does not return a value. (Note: Be sure to use `input()` to both display the prompt and accept the user response.)\n",
    " \n",
    " Example:  \n",
    " If your function displays `What is your name?` and the user types `Harry`, your function will display\n",
    " ```\n",
    " Hi Harry!\n",
    " ``` "
   ]
  },
  {
   "cell_type": "code",
   "execution_count": 17,
   "metadata": {},
   "outputs": [],
   "source": [
    "def hello():\n",
    "    name = input('What is your name?')\n",
    "    return (f'Hi {name}!')"
   ]
  },
  {
   "cell_type": "code",
   "execution_count": 21,
   "metadata": {},
   "outputs": [],
   "source": [
    "# hello()"
   ]
  },
  {
   "cell_type": "markdown",
   "metadata": {},
   "source": [
    "### IMPORTANT: Comment out all calls \n",
    "to `input()` and `hello()`\n",
    "before uploading your `Rec9.py` file. Leave the `def hello` function definition.\n",
    "\n",
    "___"
   ]
  },
  {
   "cell_type": "markdown",
   "metadata": {},
   "source": [
    "### Square Root Sequence\n",
    "Write a **recursive function `seq_sqrt(n)`** that returns the $n$th term of this sequence:\n",
    "$$\\left\\{\\sqrt 2, \\sqrt{2\\sqrt 2}, \\sqrt{2\\sqrt{2\\sqrt 2}}, \\ldots\\right\\}$$\n",
    "\n",
    "Example:  \n",
    "`seq_sqrt(3)` returns `1.834008`.<br>\n",
    "`seq_sqrt(100)` returns `2.000000`."
   ]
  },
  {
   "cell_type": "code",
   "execution_count": 30,
   "metadata": {},
   "outputs": [],
   "source": [
    "def seq_sqrt(n):\n",
    "    if n == 1:\n",
    "        return math.sqrt(2)\n",
    "    else:\n",
    "        return math.sqrt(2 * seq_sqrt(n-1))"
   ]
  },
  {
   "cell_type": "code",
   "execution_count": 32,
   "metadata": {},
   "outputs": [
    {
     "data": {
      "text/plain": [
       "1.8340080864093424"
      ]
     },
     "execution_count": 32,
     "metadata": {},
     "output_type": "execute_result"
    }
   ],
   "source": [
    "seq_sqrt(3)"
   ]
  },
  {
   "cell_type": "code",
   "execution_count": 34,
   "metadata": {},
   "outputs": [
    {
     "data": {
      "text/plain": [
       "1.9999999999999998"
      ]
     },
     "execution_count": 34,
     "metadata": {},
     "output_type": "execute_result"
    }
   ],
   "source": [
    "seq_sqrt(100)"
   ]
  },
  {
   "cell_type": "markdown",
   "metadata": {},
   "source": [
    "### Dice Sum 10"
   ]
  },
  {
   "cell_type": "markdown",
   "metadata": {},
   "source": [
    "Simulate the tossing of two six-sided dice. Print the rolls in a row, separated by commas, until the sum of the rolls is 10 or greater. Here is sample output:\n",
    "```\n",
    "(4, 2) (4, 1) (4, 5) (2, 3) (1, 1) (1, 5) (6, 2) (2, 4) (6, 4) \n",
    "```"
   ]
  },
  {
   "cell_type": "code",
   "execution_count": 169,
   "metadata": {},
   "outputs": [
    {
     "name": "stdout",
     "output_type": "stream",
     "text": [
      "(1, 2) (3, 1) (3, 6) (3, 1) (6, 3) (6, 5) "
     ]
    }
   ],
   "source": [
    "toss = (0, 0)\n",
    "\n",
    "while toss[0] + toss[1] < 10:\n",
    "    toss = (random.randint(1, 6), random.randint(1, 6))\n",
    "    print(toss, end=' ')"
   ]
  },
  {
   "cell_type": "markdown",
   "metadata": {},
   "source": [
    "### Double a Number\n",
    "Write a function **`double_num()`** that asks the user to input an integer, then displays an equation of the form `2 * ___ = ___`, showing twice the number. **Use an f-string.** The function does not return a value. \n",
    "\n",
    "Sample output:\n",
    "```\n",
    "Enter an integer:  23\n",
    "2 * 23 = 46\n",
    "```"
   ]
  },
  {
   "cell_type": "code",
   "execution_count": 163,
   "metadata": {},
   "outputs": [],
   "source": [
    "def double_num():\n",
    "    inte = input('Please provide an integer')\n",
    "    print(f'2 * {inte} = {2 * int(inte)}')"
   ]
  },
  {
   "cell_type": "code",
   "execution_count": 66,
   "metadata": {},
   "outputs": [],
   "source": [
    "#double_num()"
   ]
  },
  {
   "cell_type": "markdown",
   "metadata": {},
   "source": [
    "Write a variation of the previous function called **`double_nums()`** that prompts the user repeatedly until the user types `'q'`. It does not return a value.\n",
    "\n",
    "Sample output:\n",
    "```\n",
    "Enter an integer: 23\n",
    "2 * 23 = 46\n",
    "Enter an integer: 2021\n",
    "2 * 2021 = 4042\n",
    "Enter an integer: q\n",
    "```"
   ]
  },
  {
   "cell_type": "code",
   "execution_count": 161,
   "metadata": {},
   "outputs": [],
   "source": [
    "def double_nums():\n",
    "    inte = input('Enter an integer')\n",
    "    while inte != 'q':\n",
    "        print(f'2 * {inte} = {2 * int(inte)}')\n",
    "        inte = input('Enter an integer')"
   ]
  },
  {
   "cell_type": "code",
   "execution_count": 159,
   "metadata": {},
   "outputs": [],
   "source": [
    "# double_nums()"
   ]
  },
  {
   "cell_type": "markdown",
   "metadata": {
    "tags": []
   },
   "source": [
    "### IMPORTANT: Comment out all calls \n",
    "to `double_num()`, and `double_nums()` before uploading your `Rec9.py` file. Leave the `def double_num` and `def double_nums` function definitions.\n",
    "\n",
    "___"
   ]
  },
  {
   "cell_type": "markdown",
   "metadata": {
    "tags": []
   },
   "source": [
    "# Extra Problems\n",
    "Work on these problems after completing the previous exercises."
   ]
  },
  {
   "cell_type": "markdown",
   "metadata": {},
   "source": [
    "### Repeated Roll\n",
    "Write a function **`roll_repeat(repeat_ct)`** that simulates the roll of a fair six-sided die, printing the results in a row, until the last `repeat_ct` rolls are the same. Return the total number of rolls. Assume that `count` is a positive integer.\n",
    "\n",
    "Here is sample output for `roll_repeat(3)`:\n",
    "```\n",
    "3 3 6 2 3 1 3 4 1 2 1 2 6 5 1 5 4 6 4 2 3 2 6 5 3 2 1 1 1 \n",
    "29\n",
    "```\n"
   ]
  },
  {
   "cell_type": "code",
   "execution_count": 23,
   "metadata": {},
   "outputs": [],
   "source": []
  },
  {
   "cell_type": "code",
   "execution_count": null,
   "metadata": {},
   "outputs": [],
   "source": []
  },
  {
   "cell_type": "markdown",
   "metadata": {},
   "source": [
    "### Anagrams\n",
    "\n",
    "Two words are anagrams if they contain exactly the same letters but in a different order. \n",
    "Write a function **`anagrams(word1, word2)`** that returns `True` if the given words are anagrams. Assume that the arguments are words in lower case.\n",
    "\n",
    "  Examples:  \n",
    "  `anagrams('dear', 'dare')` returns `True`.<br>\n",
    "  `anagrams('deer', 'red')` returns `False`.<br>\n",
    "  `anagrams('deer', 'deer')` returns `False`.  "
   ]
  },
  {
   "cell_type": "code",
   "execution_count": null,
   "metadata": {},
   "outputs": [],
   "source": []
  },
  {
   "cell_type": "markdown",
   "metadata": {},
   "source": [
    "Write a function **`find_anagrams(wordlist, word)`** that searches a list of words and returns the ones that are anagrams of a given word. It should call `anagrams()`. Assume that the words are in lower case.\n",
    "\n",
    "  Example:\n",
    "```\n",
    "words = ['dear', 'red', 'deer', 'reed',  'read', 'dare']\n",
    "find_anagrams(words, 'read')\n",
    "```\n",
    "\n",
    "  returns\n",
    "  \n",
    "```\n",
    "\n",
    "['dear', 'dare']\n",
    "\n",
    "```"
   ]
  },
  {
   "cell_type": "code",
   "execution_count": null,
   "metadata": {},
   "outputs": [],
   "source": []
  },
  {
   "cell_type": "markdown",
   "metadata": {},
   "source": [
    "The file `'anagramlist.txt'` contains a list of words, one per line. Use your code should find all anagrams of `'staple'` in the list."
   ]
  },
  {
   "cell_type": "code",
   "execution_count": null,
   "metadata": {},
   "outputs": [],
   "source": []
  },
  {
   "cell_type": "markdown",
   "metadata": {},
   "source": [
    "### 2020 Sequence\n",
    "Write a **recursive function `seq20(n)`** that returns the `n`th term of this sequence:\n",
    "```\n",
    "20, 2020, 202020, 20202020, ...\n",
    "```"
   ]
  },
  {
   "cell_type": "code",
   "execution_count": null,
   "metadata": {},
   "outputs": [],
   "source": []
  },
  {
   "cell_type": "markdown",
   "metadata": {},
   "source": [
    "### Sequence 144\n",
    "Write a **recursive function `seq144(n)`** that returns the `n`th term of this  sequence:\n",
    "```\n",
    "144, 108, 81, ...\n",
    "```\n",
    "*Hint:* This is a geometric sequence."
   ]
  },
  {
   "cell_type": "code",
   "execution_count": null,
   "metadata": {},
   "outputs": [],
   "source": []
  }
 ],
 "metadata": {
  "kernelspec": {
   "display_name": "Python 3 (ipykernel)",
   "language": "python",
   "name": "python3"
  },
  "language_info": {
   "codemirror_mode": {
    "name": "ipython",
    "version": 3
   },
   "file_extension": ".py",
   "mimetype": "text/x-python",
   "name": "python",
   "nbconvert_exporter": "python",
   "pygments_lexer": "ipython3",
   "version": "3.12.4"
  }
 },
 "nbformat": 4,
 "nbformat_minor": 4
}
