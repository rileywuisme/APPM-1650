{
 "cells": [
  {
   "cell_type": "markdown",
   "metadata": {},
   "source": [
    "# HW 11"
   ]
  },
  {
   "cell_type": "code",
   "execution_count": 359,
   "metadata": {},
   "outputs": [],
   "source": [
    "import math\n",
    "import random\n",
    "import numpy as np\n",
    "import matplotlib.pyplot as plt"
   ]
  },
  {
   "cell_type": "markdown",
   "metadata": {
    "tags": []
   },
   "source": [
    "### Array Multiples\n",
    "Write a function **`array_multiples(arr, num)`** that selects from an integer array the multiples of integer `num`. **Use numpy boolean indexing.** Do not use a loop.\n",
    "\n",
    "Example:<br>\n",
    "```\n",
    "arr = np.array([[19, 14, 11], [20, 27, 16]])\n",
    "array_multiples(arr, 4)\n",
    "```\n",
    "returns `array([20, 16])`."
   ]
  },
  {
   "cell_type": "code",
   "execution_count": 431,
   "metadata": {},
   "outputs": [],
   "source": [
    "def array_multiples(arr, num):\n",
    "    return arr[arr % num == 0]"
   ]
  },
  {
   "cell_type": "code",
   "execution_count": 437,
   "metadata": {},
   "outputs": [
    {
     "data": {
      "text/plain": [
       "array([20, 16])"
      ]
     },
     "execution_count": 437,
     "metadata": {},
     "output_type": "execute_result"
    }
   ],
   "source": [
    "arr = np.array([[19, 14, 11], [20, 27, 16]])\n",
    "array_multiples(arr, 4)"
   ]
  },
  {
   "cell_type": "markdown",
   "metadata": {
    "tags": []
   },
   "source": [
    "### Array Large Numbers\n",
    "Write a function **`array_large(arr, ndigits)`** that selects from an array of positive integers the numbers that have at least `ndigits` digits. Assume that `ndigits` is a positive integer. **Use numpy boolean indexing.** Do not use a loop. Do not convert the numbers to strings.\n",
    "\n",
    "Example:<br>\n",
    "```\n",
    "arr = np.array([[536, 21, 3105], [17086, 1419,  673]])\n",
    "array_large(arr, 4)\n",
    "```\n",
    "returns\n",
    "```\n",
    "array([ 3105, 17086,  1419])\n",
    "```"
   ]
  },
  {
   "cell_type": "code",
   "execution_count": 364,
   "metadata": {},
   "outputs": [],
   "source": [
    "def array_large(arr, ndigits):\n",
    "    return arr[arr // 10**(ndigits-1) != 0]"
   ]
  },
  {
   "cell_type": "code",
   "execution_count": 365,
   "metadata": {},
   "outputs": [
    {
     "data": {
      "text/plain": [
       "array([ 3105, 17086,  1419])"
      ]
     },
     "execution_count": 365,
     "metadata": {},
     "output_type": "execute_result"
    }
   ],
   "source": [
    "arr = np.array([[536, 21, 3105], [17086, 1419,  673]])\n",
    "array_large(arr, 4)"
   ]
  },
  {
   "cell_type": "markdown",
   "metadata": {},
   "source": [
    "### Square Root of Array Elements\n",
    "If the `math.sqrt()` function is applied to a negative number, it generates an error. If the `np.sqrt()` function is applied to a negative number, it returns `nan` (which stands for \"not a number\").\n",
    "\n",
    "Write a function called **`sqrt_new(num)`** that returns `0.0` if `num` is negative and otherwise returns the square root of `num`.\n",
    "\n",
    "Examples:<br>\n",
    "`sqrt_new(49)` returns `7.0`.<br>\n",
    "`sqrt_new(-5)` returns `0.0`."
   ]
  },
  {
   "cell_type": "code",
   "execution_count": 367,
   "metadata": {},
   "outputs": [],
   "source": [
    "def sqrt_new(num):\n",
    "    if num < 0:\n",
    "        return 0.0\n",
    "    else:\n",
    "        return np.sqrt(num)"
   ]
  },
  {
   "cell_type": "markdown",
   "metadata": {},
   "source": [
    "Write a function **`array_sqrt(arr)`** that applies `sqrt_new()` to each element of `arr` using vectorization. Do not use a loop. (*Hint:* You will need to vectorize `sqrt_new()`.) \n",
    "\n",
    "Example:<br>\n",
    "`array_sqrt(np.arange(-1, 5).reshape(2, 3))` returns\n",
    "```\n",
    "array([[0.        , 0.        , 1.        ],\n",
    "       [1.41421356, 1.73205081, 2.        ]])\n",
    "```"
   ]
  },
  {
   "cell_type": "code",
   "execution_count": 369,
   "metadata": {},
   "outputs": [],
   "source": [
    "def array_sqrt(arr):\n",
    "    vect = np.vectorize(sqrt_new)\n",
    "    return vect(arr)"
   ]
  },
  {
   "cell_type": "code",
   "execution_count": 370,
   "metadata": {},
   "outputs": [
    {
     "data": {
      "text/plain": [
       "array([[0.        , 0.        , 1.        ],\n",
       "       [1.41421356, 1.73205081, 2.        ]])"
      ]
     },
     "execution_count": 370,
     "metadata": {},
     "output_type": "execute_result"
    }
   ],
   "source": [
    "array_sqrt(np.arange(-1, 5).reshape(2, 3))"
   ]
  },
  {
   "cell_type": "markdown",
   "metadata": {},
   "source": [
    "### Polygon Area\n",
    "Here is an algorithm for calculating the area of an $n$-sided polygon given the coordinates of its vertices. First write the $(x,y)$ coordinates in a column in order (either clockwise or counterclockwise), repeating the first vertex. Then multiply each $x$-coordinate in the first $n$ rows by the $y$-coordinate in the next row down and calculate the sum $S_1 = x_1y_2 + x_2y_3 + \\cdots + x_ny_1$. Next multiply each $y$-coordinate in the first $n$ rows by the $x$-coordinate in the next row down and calculate the sum $S_2 = x_2y_1 + x_3y_2 + \\cdots + x_1y_n$. The area then equals $\\frac 12 \\left|S_1 - S_2\\right|$.\n",
    "\n",
    " <img src=\"http://www.coloradomath.org/python/shoelace.png\" width=\"120\" />\n",
    " "
   ]
  },
  {
   "cell_type": "markdown",
   "metadata": {},
   "source": [
    "For example, consider the triangle with vertices at $(2, 4)$, $(3, -8)$, and $(1, 2)$. The coordinates written in a column, repeating the first pair, are\n",
    " \n",
    "```\n",
    "   2   4\n",
    "   3  -8\n",
    "   1   2\n",
    "   2   4\n",
    "```\n",
    "\n",
    " Then \n",
    " \n",
    " $S_1 = 2(-8) + 3(2) + 1(4) = -6$<br>\n",
    " $S_2 = 3(4) + 1(-8) + 2(2) = 8$\n",
    " \n",
    " and the area is $A = \\frac 12 \\lvert S_1 - S_2 \\rvert = \\frac 12 \\lvert -6 - 8 \\rvert = 7$."
   ]
  },
  {
   "cell_type": "markdown",
   "metadata": {},
   "source": [
    "Write a function **`polygon_area(vertices)`** that takes an $n\\times 2$ array of vertices and returns the area of the corresponding polygon. **Use numpy operations.** Do not use a loop.\n",
    " \n",
    " Example:<br>\n",
    "```\n",
    "triangle = np.array([(2, 4), (3, -8), (1, 2)])\n",
    "polygon_area(triangle)\n",
    "```\n",
    " returns `7.0` "
   ]
  },
  {
   "cell_type": "code",
   "execution_count": 464,
   "metadata": {},
   "outputs": [],
   "source": [
    "import numpy as np\n",
    "\n",
    "def polygon_area(vertices):\n",
    "    # Append the first vertex to the end of the array\n",
    "    vertices = np.vstack([vertices, vertices[0]])\n",
    "    \n",
    "    # Calculate the two dot products\n",
    "    col11 = vertices[:-1, 0] \n",
    "    col12 = vertices[1:, 1]\n",
    "    dot1 = col11.dot(col12)\n",
    "    \n",
    "    col21 = vertices[1:, 0]\n",
    "    col22 = vertices[:-1, 1]\n",
    "    dot2 = col21.dot(col22)\n",
    "    return abs(dot1 - dot2) / 2"
   ]
  },
  {
   "cell_type": "code",
   "execution_count": 466,
   "metadata": {},
   "outputs": [
    {
     "data": {
      "text/plain": [
       "7.0"
      ]
     },
     "execution_count": 466,
     "metadata": {},
     "output_type": "execute_result"
    }
   ],
   "source": [
    "triangle = np.array([(2, 4), (3, -8), (1, 2)])\n",
    "polygon_area(triangle)"
   ]
  },
  {
   "cell_type": "markdown",
   "metadata": {},
   "source": [
    "Verify that the function correctly calculates the area of this polygon.\n",
    "\n",
    " <img src=\"http://www.coloradomath.org/python/polygon-area.png\" />"
   ]
  },
  {
   "cell_type": "code",
   "execution_count": 449,
   "metadata": {},
   "outputs": [],
   "source": [
    "weird = np.array([(0, 4), (3, 4), (3, 2), (2, 3), (2, 1), (1, 0), (1, 3)])"
   ]
  },
  {
   "cell_type": "code",
   "execution_count": 458,
   "metadata": {},
   "outputs": [
    {
     "data": {
      "text/plain": [
       "5.5"
      ]
     },
     "execution_count": 458,
     "metadata": {},
     "output_type": "execute_result"
    }
   ],
   "source": [
    "polygon_area(weird)"
   ]
  },
  {
   "cell_type": "markdown",
   "metadata": {},
   "source": [
    "___\n",
    "\n",
    "For the following problems, you may use numpy operations but it is not necessary."
   ]
  },
  {
   "cell_type": "markdown",
   "metadata": {},
   "source": [
    "### Robot\n",
    "Suppose a robot begins in the center square `e` of the $3\\times 3$ grid shown below and moves one square at a time according to the instructions `'U'`, `'D'`, `'L'`, or `'R'`, which correspond to up, down, left, or right, respectively.\n",
    "\n",
    " <img src=\"http://www.coloradomath.org/python/grid-abc.jpg\" width=\"300\" height=\"300\" />\n",
    " \n",
    "\n",
    "Write a function **`robot3x3(moves)`** that takes a string of moves and returns the final position of the robot. A move that would take the robot off the board would instead wrap around to the other side of the board. (*Hint:* Use the `%` operator.)\n",
    " \n",
    " Examples:  \n",
    " `robot3x3('DD')` returns `'b'`.  \n",
    " `robot3x3('RULLD')` returns `'d'`.  \n",
    " `robot3x3('RUURUL')` returns `'f'`."
   ]
  },
  {
   "cell_type": "code",
   "execution_count": 381,
   "metadata": {},
   "outputs": [],
   "source": [
    "def robot3x3(moves):\n",
    "    board = np.array([\n",
    "        ['a', 'b', 'c'],\n",
    "        ['d', 'e', 'f'],\n",
    "        ['g', 'h', 'i']\n",
    "    ])\n",
    "    \n",
    "    x, y = 1, 1 \n",
    "\n",
    "    for move in moves:\n",
    "        if move == 'U':\n",
    "            x = (x - 1) % 3\n",
    "        elif move == 'D':\n",
    "            x = (x + 1) % 3\n",
    "        elif move == 'L':\n",
    "            y = (y - 1) % 3\n",
    "        elif move == 'R':\n",
    "            y = (y + 1) % 3\n",
    "\n",
    "    return board[x, y]"
   ]
  },
  {
   "cell_type": "code",
   "execution_count": 382,
   "metadata": {},
   "outputs": [
    {
     "data": {
      "text/plain": [
       "'b'"
      ]
     },
     "execution_count": 382,
     "metadata": {},
     "output_type": "execute_result"
    }
   ],
   "source": [
    "robot3x3('DD')"
   ]
  },
  {
   "cell_type": "code",
   "execution_count": 383,
   "metadata": {},
   "outputs": [
    {
     "data": {
      "text/plain": [
       "'d'"
      ]
     },
     "execution_count": 383,
     "metadata": {},
     "output_type": "execute_result"
    }
   ],
   "source": [
    "robot3x3('RULLD')"
   ]
  },
  {
   "cell_type": "markdown",
   "metadata": {},
   "source": [
    "Write a function **`robot3x3_sim(nmoves, nsim)`** that approximates the probability that after a given number of moves, the robot is back in the center square. It should call `robot3x3()`. Assume that the robot moves up, down, left, or right with equal probability.\n",
    "\n",
    "Example:<br>\n",
    "`robot3x3_sim(4, 1000)` might return `0.1454`."
   ]
  },
  {
   "cell_type": "code",
   "execution_count": 472,
   "metadata": {},
   "outputs": [],
   "source": [
    "def robot3x3_sim(nmoves, nsim):\n",
    "    moves = ['U', 'D', 'L', 'R']\n",
    "    center_count = 0\n",
    "\n",
    "    for i in range(nsim):\n",
    "        random_move = ''.join(random.choice(moves) for i in range(nmoves))\n",
    "        if robot3x3(random_move) == 'e':\n",
    "            center_count += 1\n",
    "    return center_count / nsim"
   ]
  },
  {
   "cell_type": "code",
   "execution_count": 474,
   "metadata": {},
   "outputs": [
    {
     "data": {
      "text/plain": [
       "0.134"
      ]
     },
     "execution_count": 474,
     "metadata": {},
     "output_type": "execute_result"
    }
   ],
   "source": [
    "robot3x3_sim(4, 1000)"
   ]
  },
  {
   "cell_type": "markdown",
   "metadata": {},
   "source": [
    "### Central Limit Theorem\n",
    "\n",
    "Suppose you have a large set of numbers. Next draw samples from the set and calculate the mean of each sample. Now examine the distribution of the sample means. The *Central Limit Theorem* states that if the sample size is large enough (at least 30), the distribution of sample means will approach a normal distribution, even if the original distribution is not normally distributed. Let's test this.\n",
    "\n",
    "Create a list called **`randnums`** consisting of 2500 random real numbers drawn from the interval $[0, 10]$ and 1000 random real numbers drawn from the interval $[15, 25]$. "
   ]
  },
  {
   "cell_type": "code",
   "execution_count": 387,
   "metadata": {},
   "outputs": [],
   "source": [
    "randnums = [random.uniform(0, 10) for n in range(2500)] + [random.uniform(15, 25) for n in range(1000)]"
   ]
  },
  {
   "cell_type": "markdown",
   "metadata": {},
   "source": [
    "Use `plt.hist(randnums, 15)` to **make a histogram** with 15 bins showing the frequency counts for the numbers. Here is one possible result. Note that the distribution is not normal.\n",
    "\n",
    "  <img src=\"http://www.coloradomath.org/python/random-nums-dist-15bins.jpg\" width=\"432\" height=\"288\" />"
   ]
  },
  {
   "cell_type": "code",
   "execution_count": 389,
   "metadata": {},
   "outputs": [
    {
     "data": {
      "image/png": "[encoded data removed]",
      "text/plain": [
       "<Figure size 640x480 with 1 Axes>"
      ]
     },
     "metadata": {},
     "output_type": "display_data"
    }
   ],
   "source": [
    "plt.hist(randnums, 15)\n",
    "plt.show()"
   ]
  },
  {
   "cell_type": "markdown",
   "metadata": {},
   "source": [
    "Write a function **`sample_mean(nums, size)`** that takes a list of numbers called `nums` and calls `random.sample()` to select a sample of the given `size`. The function returns the mean of the sample. You may wish to use `np.mean()`."
   ]
  },
  {
   "cell_type": "code",
   "execution_count": 391,
   "metadata": {},
   "outputs": [],
   "source": [
    "def sample_mean(nums, size):\n",
    "    rand = random.sample(nums, size)\n",
    "    return np.mean(rand)"
   ]
  },
  {
   "cell_type": "markdown",
   "metadata": {},
   "source": [
    "Write a function **`sample_means(nums, size, nsamples)`** that calls `sample_mean()` `nsamples` times and returns the results in a list. You may assume that `size` is smaller than the length of `nums`."
   ]
  },
  {
   "cell_type": "code",
   "execution_count": 393,
   "metadata": {},
   "outputs": [],
   "source": [
    "def sample_means(nums, size, nsamples):\n",
    "    return [sample_mean(nums, size) for n in range(nsamples)]"
   ]
  },
  {
   "cell_type": "code",
   "execution_count": null,
   "metadata": {},
   "outputs": [],
   "source": []
  },
  {
   "cell_type": "markdown",
   "metadata": {},
   "source": [
    "**Create a histogram** with 15 bins for `sample_means(randnums, 50, 200)`. Add a vertical line showing where the actual mean is located. (*Hint:*Use `plt.axvline()`.) The histogram should look approximately normal, unlike the original distribution. Here is one possible result.\n",
    "\n",
    "  <img src=\"http://www.coloradomath.org/python/central-limit-15bins.jpg\"  width=\"432\" height=\"288\" />"
   ]
  },
  {
   "cell_type": "code",
   "execution_count": 395,
   "metadata": {},
   "outputs": [
    {
     "data": {
      "image/png": "[encoded data removed]",
      "text/plain": [
       "<Figure size 640x480 with 1 Axes>"
      ]
     },
     "metadata": {},
     "output_type": "display_data"
    }
   ],
   "source": [
    "plt.hist(sample_means(randnums, 50, 200))\n",
    "plt.title('Central Limit Theorem Example')\n",
    "plt.axvline(np.array(sample_means(randnums, 50, 200)).mean(), c='orange')\n",
    "plt.show()"
   ]
  }
 ],
 "metadata": {
  "kernelspec": {
   "display_name": "Python 3 (ipykernel)",
   "language": "python",
   "name": "python3"
  },
  "language_info": {
   "codemirror_mode": {
    "name": "ipython",
    "version": 3
   },
   "file_extension": ".py",
   "mimetype": "text/x-python",
   "name": "python",
   "nbconvert_exporter": "python",
   "pygments_lexer": "ipython3",
   "version": "3.12.4"
  }
 },
 "nbformat": 4,
 "nbformat_minor": 4
}
