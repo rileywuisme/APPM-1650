{
 "cells": [
  {
   "cell_type": "markdown",
   "id": "288204bf-5ee7-4445-80de-dca7a7727b01",
   "metadata": {
    "panel-layout": {
     "height": 44.0859375,
     "visible": true,
     "width": 100
    }
   },
   "source": [
    "### Lecture 8b"
   ]
  },
  {
   "cell_type": "code",
   "execution_count": 64,
   "id": "00a31d18-1c48-476e-8400-35994df37735",
   "metadata": {},
   "outputs": [],
   "source": [
    "import math\n",
    "import random\n",
    "import matplotlib.pyplot as plt"
   ]
  },
  {
   "cell_type": "code",
   "execution_count": 66,
   "id": "85990798-7786-4801-8db1-5395b8489f9d",
   "metadata": {},
   "outputs": [],
   "source": [
    "def is_pal(num):\n",
    "    strnum = str(num)\n",
    "    return strnum == strnum[::-1]"
   ]
  },
  {
   "cell_type": "code",
   "execution_count": 68,
   "id": "860e4167-7d3c-4add-af20-b413584e31b9",
   "metadata": {
    "panel-layout": {
     "height": 27.140625,
     "visible": true,
     "width": 100
    }
   },
   "outputs": [
    {
     "data": {
      "text/plain": [
       "True"
      ]
     },
     "execution_count": 68,
     "metadata": {},
     "output_type": "execute_result"
    }
   ],
   "source": [
    "is_pal(2345432)"
   ]
  },
  {
   "cell_type": "markdown",
   "id": "6f8879d1-04a5-40ee-a00f-249ba6fd5341",
   "metadata": {
    "panel-layout": {
     "height": 233.0546875,
     "visible": true,
     "width": 100
    }
   },
   "source": [
    "### While loop\n",
    "\n",
    "Very easy to write infinite loops! (asterisks on the left)  \n",
    "The condition need to be eventually not true. \n",
    "\n",
    "```\n",
    "initialization\n",
    "\n",
    "while condition is True:\n",
    "    XXX\n",
    "    update\n",
    "```"
   ]
  },
  {
   "cell_type": "markdown",
   "id": "e468aff3-71ad-4f3b-9592-1ef9511620e0",
   "metadata": {
    "panel-layout": {
     "height": 51.140625,
     "visible": true,
     "width": 100
    }
   },
   "source": [
    "Find the smallest n such that $n! > 10^5$"
   ]
  },
  {
   "cell_type": "markdown",
   "id": "5d53d9f8-4c02-4b2f-aac8-4a42bba7fe70",
   "metadata": {
    "panel-layout": {
     "height": 154.5625,
     "visible": true,
     "width": 100
    }
   },
   "source": [
    "initialize  \n",
    "```\n",
    "while (condition is True):  \n",
    "    XXX   \n",
    "    Modify condition\n",
    "```"
   ]
  },
  {
   "cell_type": "markdown",
   "id": "cf912501-57fe-4ad2-9bd8-dd88cecdeaf8",
   "metadata": {
    "panel-layout": {
     "height": 85.421875,
     "visible": true,
     "width": 100
    }
   },
   "source": [
    "h = 1  \n",
    "while math.factorial(n) <= le5:  \n",
    "    n += 1"
   ]
  },
  {
   "cell_type": "code",
   "execution_count": 70,
   "id": "3d0d18c7-e0df-4a54-ac40-fe8aeb85cddd",
   "metadata": {},
   "outputs": [],
   "source": [
    "for n in range(1, 1000):\n",
    "    if math.factorial(n) > 1e5:\n",
    "        break # exit loop"
   ]
  },
  {
   "cell_type": "code",
   "execution_count": 72,
   "id": "0f094a48-8923-4852-8924-59737ef5cba7",
   "metadata": {},
   "outputs": [],
   "source": [
    "n = 1\n",
    "while math.factorial(n) <= 1e5:\n",
    "    n+=1"
   ]
  },
  {
   "cell_type": "code",
   "execution_count": 74,
   "id": "826d96e1-7a4d-4a14-b245-11652d1d2d74",
   "metadata": {
    "panel-layout": {
     "height": 27.140625,
     "visible": true,
     "width": 100
    }
   },
   "outputs": [
    {
     "data": {
      "text/plain": [
       "9"
      ]
     },
     "execution_count": 74,
     "metadata": {},
     "output_type": "execute_result"
    }
   ],
   "source": [
    "n"
   ]
  },
  {
   "cell_type": "markdown",
   "id": "3e212b90-e34a-44a7-a25d-2a4f37bb2857",
   "metadata": {
    "panel-layout": {
     "height": 68.78125,
     "visible": true,
     "width": 100
    }
   },
   "source": [
    "Write a function **first_pal(start)** that finds the first palindromic number greater than or equal to `start`.  Assume `start` is a postivie `int`. "
   ]
  },
  {
   "cell_type": "code",
   "execution_count": 76,
   "id": "81c5146f-b28f-4d9c-9c51-23f68d11c2b8",
   "metadata": {},
   "outputs": [],
   "source": [
    "def first_pal(start):\n",
    "    '''Return the first palindromic number >= start'''\n",
    "    n = start # n will be the current number\n",
    "    \n",
    "    while not is_pal(n):\n",
    "        n+=1\n",
    "\n",
    "    return n"
   ]
  },
  {
   "cell_type": "code",
   "execution_count": 78,
   "id": "d7bb0181-4d9b-4205-ac0f-872ec483f8c1",
   "metadata": {
    "panel-layout": {
     "height": 27.140625,
     "visible": true,
     "width": 100
    }
   },
   "outputs": [
    {
     "data": {
      "text/plain": [
       "2112"
      ]
     },
     "execution_count": 78,
     "metadata": {},
     "output_type": "execute_result"
    }
   ],
   "source": [
    "first_pal(2024)"
   ]
  },
  {
   "cell_type": "markdown",
   "id": "f13b2eb8-e06d-4b98-aabf-7d837b1e27a0",
   "metadata": {
    "panel-layout": {
     "height": 95.3515625,
     "visible": true,
     "width": 100
    }
   },
   "source": [
    "### Snake Eyes\n",
    "Write a function **snake_eyes()** that simulates the rolling of two dice, printing the results. Return the number of rolls before 1-1 appears. "
   ]
  },
  {
   "cell_type": "code",
   "execution_count": 86,
   "id": "c5efd4f2-481c-4c26-a0fb-c5b2df4effd4",
   "metadata": {},
   "outputs": [],
   "source": [
    "def snake_eyes():\n",
    "    '''Return the number of rolls before two dice show 1-1.'''\n",
    "    \n",
    "    nrolls = 0\n",
    "    roll = (0, 0)\n",
    "    while roll != (1, 1):\n",
    "        roll = (random.randint(1, 6), \n",
    "                random.randint(1, 6))\n",
    "        nrolls += 1\n",
    "\n",
    "    return nrolls"
   ]
  },
  {
   "cell_type": "code",
   "execution_count": 88,
   "id": "4fa61606-4915-4751-9471-298f63bcc390",
   "metadata": {
    "panel-layout": {
     "height": 27.140625,
     "visible": true,
     "width": 100
    }
   },
   "outputs": [
    {
     "data": {
      "text/plain": [
       "2"
      ]
     },
     "execution_count": 88,
     "metadata": {},
     "output_type": "execute_result"
    }
   ],
   "source": [
    "snake_eyes()"
   ]
  },
  {
   "cell_type": "markdown",
   "id": "49447328-51ca-4b37-95fe-85ae2f828433",
   "metadata": {
    "panel-layout": {
     "height": 51.640625,
     "visible": true,
     "width": 100
    }
   },
   "source": [
    "What is the max number of rolls if `snake_eyes()` is called 1000 times?"
   ]
  },
  {
   "cell_type": "code",
   "execution_count": 92,
   "id": "9a680801-e842-4c7f-9439-c29d951841b1",
   "metadata": {},
   "outputs": [],
   "source": [
    "roll_cts = [snake_eyes() for i in range(1000)]"
   ]
  },
  {
   "cell_type": "code",
   "execution_count": 94,
   "id": "bae9d7e4-b3c9-418d-93c3-e2a0b8499ec3",
   "metadata": {
    "panel-layout": {
     "height": 27.140625,
     "visible": true,
     "width": 100
    }
   },
   "outputs": [
    {
     "data": {
      "text/plain": [
       "207"
      ]
     },
     "execution_count": 94,
     "metadata": {},
     "output_type": "execute_result"
    }
   ],
   "source": [
    "max(roll_cts)"
   ]
  },
  {
   "cell_type": "markdown",
   "id": "1e7f1cc7-6717-41db-b83f-2e7af2039d9c",
   "metadata": {
    "panel-layout": {
     "height": 51.140625,
     "visible": true,
     "width": 100
    }
   },
   "source": [
    "What is the average number of rolls?"
   ]
  },
  {
   "cell_type": "code",
   "execution_count": 96,
   "id": "7d76779f-91d9-42b7-9588-0146b302ca18",
   "metadata": {
    "panel-layout": {
     "height": 27.140625,
     "visible": true,
     "width": 100
    }
   },
   "outputs": [
    {
     "data": {
      "text/plain": [
       "37.832"
      ]
     },
     "execution_count": 96,
     "metadata": {},
     "output_type": "execute_result"
    }
   ],
   "source": [
    "sum(roll_cts) / 1000"
   ]
  },
  {
   "cell_type": "code",
   "execution_count": 98,
   "id": "05260271-a8f3-412f-be43-f1beb0ce4ca1",
   "metadata": {
    "panel-layout": {
     "height": 701,
     "visible": true,
     "width": 100
    }
   },
   "outputs": [
    {
     "data": {
      "image/png": "[encoded data removed]",
      "text/plain": [
       "<Figure size 640x480 with 1 Axes>"
      ]
     },
     "metadata": {},
     "output_type": "display_data"
    }
   ],
   "source": [
    "plt.bar(range(1000), sorted(roll_cts))\n",
    "plt.show()"
   ]
  },
  {
   "cell_type": "code",
   "execution_count": 100,
   "id": "a40b7cb8-ec09-4a18-8de1-9b27701221d2",
   "metadata": {},
   "outputs": [],
   "source": [
    "freq = [0] * (max(roll_cts)+1)"
   ]
  },
  {
   "cell_type": "code",
   "execution_count": 102,
   "id": "58e29a26-a38d-4318-95e7-6abcf05336c1",
   "metadata": {},
   "outputs": [],
   "source": [
    "for r in roll_cts:\n",
    "    freq[r] += 1"
   ]
  },
  {
   "cell_type": "code",
   "execution_count": 104,
   "id": "cf2e151e-3d6a-4ac1-a612-78dd9770eb1e",
   "metadata": {
    "panel-layout": {
     "height": 921.609375,
     "visible": true,
     "width": 100
    }
   },
   "outputs": [
    {
     "data": {
      "text/plain": [
       "[0, 22, 20, 20, 16, 27, 24, 31, 25, 21]"
      ]
     },
     "execution_count": 104,
     "metadata": {},
     "output_type": "execute_result"
    }
   ],
   "source": [
    "freq[:10]"
   ]
  },
  {
   "cell_type": "code",
   "execution_count": 106,
   "id": "3a36e7fa-920d-4724-8f39-3d927a4e0330",
   "metadata": {
    "panel-layout": {
     "height": 711,
     "visible": true,
     "width": 100
    }
   },
   "outputs": [
    {
     "data": {
      "text/plain": [
       "<BarContainer object of 208 artists>"
      ]
     },
     "execution_count": 106,
     "metadata": {},
     "output_type": "execute_result"
    },
    {
     "data": {
      "image/png": "[encoded data removed]",
      "text/plain": [
       "<Figure size 640x480 with 1 Axes>"
      ]
     },
     "metadata": {},
     "output_type": "display_data"
    }
   ],
   "source": [
    "plt.bar(range(len(freq)), freq)"
   ]
  },
  {
   "cell_type": "markdown",
   "id": "c2dd861d-dc06-47f2-857a-7ccaa9b2585b",
   "metadata": {
    "panel-layout": {
     "height": 51.640625,
     "visible": true,
     "width": 100
    }
   },
   "source": [
    "The `.count()` method can be used to calculate `freq`. It will be slower. "
   ]
  },
  {
   "cell_type": "code",
   "execution_count": 110,
   "id": "758bb215-9edd-4491-93f6-fdc7aebbcf8c",
   "metadata": {},
   "outputs": [],
   "source": [
    "freq = [roll_cts.count(r+1) for r in range(max(roll_cts))]"
   ]
  },
  {
   "cell_type": "code",
   "execution_count": 114,
   "id": "bcc1af08-fece-4aa3-b9c6-0cbdaf991ce5",
   "metadata": {
    "panel-layout": {
     "height": 921.609375,
     "visible": true,
     "width": 100
    }
   },
   "outputs": [
    {
     "data": {
      "text/plain": [
       "[22, 20, 20, 16, 27, 24, 31, 25, 21, 24]"
      ]
     },
     "execution_count": 114,
     "metadata": {},
     "output_type": "execute_result"
    }
   ],
   "source": [
    "freq[:10]"
   ]
  },
  {
   "cell_type": "code",
   "execution_count": null,
   "id": "659846e8-5241-4ce6-a89a-879396e09df3",
   "metadata": {},
   "outputs": [],
   "source": []
  }
 ],
 "metadata": {
  "kernelspec": {
   "display_name": "Python 3 (ipykernel)",
   "language": "python",
   "name": "python3"
  },
  "language_info": {
   "codemirror_mode": {
    "name": "ipython",
    "version": 3
   },
   "file_extension": ".py",
   "mimetype": "text/x-python",
   "name": "python",
   "nbconvert_exporter": "python",
   "pygments_lexer": "ipython3",
   "version": "3.12.4"
  },
  "panel-cell-order": [
   "288204bf-5ee7-4445-80de-dca7a7727b01",
   "860e4167-7d3c-4add-af20-b413584e31b9",
   "6f8879d1-04a5-40ee-a00f-249ba6fd5341",
   "e468aff3-71ad-4f3b-9592-1ef9511620e0",
   "5d53d9f8-4c02-4b2f-aac8-4a42bba7fe70",
   "cf912501-57fe-4ad2-9bd8-dd88cecdeaf8",
   "826d96e1-7a4d-4a14-b245-11652d1d2d74",
   "3e212b90-e34a-44a7-a25d-2a4f37bb2857",
   "d7bb0181-4d9b-4205-ac0f-872ec483f8c1",
   "f13b2eb8-e06d-4b98-aabf-7d837b1e27a0",
   "4fa61606-4915-4751-9471-298f63bcc390",
   "49447328-51ca-4b37-95fe-85ae2f828433",
   "bae9d7e4-b3c9-418d-93c3-e2a0b8499ec3",
   "1e7f1cc7-6717-41db-b83f-2e7af2039d9c",
   "7d76779f-91d9-42b7-9588-0146b302ca18",
   "05260271-a8f3-412f-be43-f1beb0ce4ca1",
   "cf2e151e-3d6a-4ac1-a612-78dd9770eb1e",
   "3a36e7fa-920d-4724-8f39-3d927a4e0330",
   "c2dd861d-dc06-47f2-857a-7ccaa9b2585b",
   "bcc1af08-fece-4aa3-b9c6-0cbdaf991ce5"
  ]
 },
 "nbformat": 4,
 "nbformat_minor": 5
}
