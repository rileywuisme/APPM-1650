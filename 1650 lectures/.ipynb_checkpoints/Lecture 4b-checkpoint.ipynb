{
 "cells": [
  {
   "cell_type": "markdown",
   "id": "56264e27-2773-4280-9511-e9881350ae10",
   "metadata": {},
   "source": [
    "### Lecture 4b"
   ]
  },
  {
   "cell_type": "code",
   "execution_count": 3,
   "id": "263bafb4-be57-432e-b8e0-358fc2282c62",
   "metadata": {},
   "outputs": [
    {
     "name": "stdout",
     "output_type": "stream",
     "text": [
      "i = 0 x = 0\n",
      "i = 1 x = 0\n",
      "i = 2 x = 5\n",
      "i = 3 x = 15\n"
     ]
    },
    {
     "data": {
      "text/plain": [
       "30"
      ]
     },
     "execution_count": 3,
     "metadata": {},
     "output_type": "execute_result"
    }
   ],
   "source": [
    "x = 0\n",
    "for i in range(4):\n",
    "    print ('i =', i, 'x =', x)\n",
    "    x += 5*i\n",
    "\n",
    "x"
   ]
  },
  {
   "cell_type": "markdown",
   "id": "9581f807-e972-4ca6-87ec-a3a9fe31114f",
   "metadata": {},
   "source": [
    "### One-line if statement"
   ]
  },
  {
   "cell_type": "markdown",
   "id": "e823c4d0-daed-4f93-8953-beeb53ef551a",
   "metadata": {},
   "source": [
    "x = a if condition else b"
   ]
  },
  {
   "cell_type": "code",
   "execution_count": 11,
   "id": "aecab5a1-8428-4bd7-93ea-adf0006e933f",
   "metadata": {},
   "outputs": [],
   "source": [
    "x = 9"
   ]
  },
  {
   "cell_type": "code",
   "execution_count": 13,
   "id": "20657313-b55c-43cf-916a-d4046cb59985",
   "metadata": {},
   "outputs": [],
   "source": [
    "if x >= 0:\n",
    "    sqrtx = x ** 0.5\n",
    "else:\n",
    "    sqrtx = 0"
   ]
  },
  {
   "cell_type": "code",
   "execution_count": 15,
   "id": "8bc5fe5c-8bf0-4a09-95c6-dca87484b9ab",
   "metadata": {},
   "outputs": [
    {
     "data": {
      "text/plain": [
       "3.0"
      ]
     },
     "execution_count": 15,
     "metadata": {},
     "output_type": "execute_result"
    }
   ],
   "source": [
    "sqrtx"
   ]
  },
  {
   "cell_type": "code",
   "execution_count": 23,
   "id": "207e8565-a734-40ef-b96f-b7854f50f914",
   "metadata": {},
   "outputs": [],
   "source": [
    "x = -5\n",
    "sqrtx = x ** 0.5 if x >= 0 else 0"
   ]
  },
  {
   "cell_type": "code",
   "execution_count": 25,
   "id": "da610670-d07a-44bc-9185-0ef5cf630927",
   "metadata": {},
   "outputs": [
    {
     "data": {
      "text/plain": [
       "0"
      ]
     },
     "execution_count": 25,
     "metadata": {},
     "output_type": "execute_result"
    }
   ],
   "source": [
    "sqrtx"
   ]
  },
  {
   "cell_type": "markdown",
   "id": "41a3a2f6-0e1e-4eb4-b6e2-61dd44f3f8a4",
   "metadata": {},
   "source": [
    "### List Comprehensions"
   ]
  },
  {
   "cell_type": "markdown",
   "id": "27df9eed-6465-4a16-96d1-9d3c894fa40c",
   "metadata": {},
   "source": [
    "Typical build-a-list example:\n",
    "\n",
    "result = []\n",
    "\n",
    "for XXX:\n",
    "    result.appened(expr)\n",
    "\n",
    "Replace with: \n",
    "[expr for XXX]"
   ]
  },
  {
   "cell_type": "code",
   "execution_count": 35,
   "id": "fe4de37d-9282-40e8-a998-94f5c6b5b940",
   "metadata": {},
   "outputs": [
    {
     "data": {
      "text/plain": [
       "[4, 8, 12, 16, 20]"
      ]
     },
     "execution_count": 35,
     "metadata": {},
     "output_type": "execute_result"
    }
   ],
   "source": [
    "# First five multiples of 4\n",
    "[4*i for i in range(1, 6)]"
   ]
  },
  {
   "cell_type": "code",
   "execution_count": 39,
   "id": "9f904f9d-0d23-43c1-9ac5-e786fece1734",
   "metadata": {},
   "outputs": [
    {
     "data": {
      "text/plain": [
       "60"
      ]
     },
     "execution_count": 39,
     "metadata": {},
     "output_type": "execute_result"
    }
   ],
   "source": [
    "sum(4*i for i in range(1, 6))"
   ]
  },
  {
   "cell_type": "markdown",
   "id": "16df9b8c-e836-427c-a718-6e82dee5225c",
   "metadata": {},
   "source": [
    "### List Comprehension Examples"
   ]
  },
  {
   "cell_type": "code",
   "execution_count": 50,
   "id": "087fc734-0bc9-4337-b15f-6a9960562138",
   "metadata": {},
   "outputs": [
    {
     "data": {
      "text/plain": [
       "[1, 3, 5, 7, 9, 11]"
      ]
     },
     "execution_count": 50,
     "metadata": {},
     "output_type": "execute_result"
    }
   ],
   "source": [
    "# first 6 odd numbers\n",
    "[i for i in range(1, 13, 2)]"
   ]
  },
  {
   "cell_type": "code",
   "execution_count": 52,
   "id": "5753f35b-09d6-49dc-b5d0-3f770754b98c",
   "metadata": {},
   "outputs": [
    {
     "data": {
      "text/plain": [
       "[1, 3, 5, 7, 9, 11]"
      ]
     },
     "execution_count": 52,
     "metadata": {},
     "output_type": "execute_result"
    }
   ],
   "source": [
    "[i*2 + 1 for i in range(6)]"
   ]
  },
  {
   "cell_type": "code",
   "execution_count": 58,
   "id": "cb587e6d-e158-4484-a731-1ca795033db2",
   "metadata": {},
   "outputs": [
    {
     "data": {
      "text/plain": [
       "[1, 4, 9, 16, 25, 36, 49, 64, 81, 100]"
      ]
     },
     "execution_count": 58,
     "metadata": {},
     "output_type": "execute_result"
    }
   ],
   "source": [
    "# first 10 squares\n",
    "[k**2 for k in range(1, 11)]"
   ]
  },
  {
   "cell_type": "raw",
   "id": "7ea0431c-df66-4c42-9b46-f41a2bb79187",
   "metadata": {},
   "source": [
    "[k/100 for k in range(7, 208, 10)]"
   ]
  },
  {
   "cell_type": "code",
   "execution_count": 70,
   "id": "82bb136d-d4c7-4c4f-a678-89632b267c6d",
   "metadata": {},
   "outputs": [
    {
     "data": {
      "text/plain": [
       "[4, 9, 25, 49, 121]"
      ]
     },
     "execution_count": 70,
     "metadata": {},
     "output_type": "execute_result"
    }
   ],
   "source": [
    "primes = [2, 3, 5, 7, 11]\n",
    "\n",
    "primes_sq = []\n",
    "for p in primes:\n",
    "    primes_sq.append(p*p)\n",
    "\n",
    "primes_sq"
   ]
  },
  {
   "cell_type": "code",
   "execution_count": 74,
   "id": "ac55c469-b3ec-41fe-8dfb-4c39178ca9c5",
   "metadata": {},
   "outputs": [
    {
     "data": {
      "text/plain": [
       "[4, 9, 25, 49, 121]"
      ]
     },
     "execution_count": 74,
     "metadata": {},
     "output_type": "execute_result"
    }
   ],
   "source": [
    "[p ** 2 for p in primes]"
   ]
  },
  {
   "cell_type": "code",
   "execution_count": 76,
   "id": "3a480baa-2643-44e9-95f4-e15b0581de7b",
   "metadata": {},
   "outputs": [
    {
     "data": {
      "text/plain": [
       "[True, False, False, False, False]"
      ]
     },
     "execution_count": 76,
     "metadata": {},
     "output_type": "execute_result"
    }
   ],
   "source": [
    "[p % 2 == 0 for p in primes]"
   ]
  },
  {
   "cell_type": "markdown",
   "id": "760607f4-2880-4c01-9b41-a6447a25e715",
   "metadata": {},
   "source": [
    "### List Comprehensions with Filtering\n",
    "\n",
    "Typical loop:\n",
    "\n",
    "'''result = []\n",
    "\n",
    "for XXX:\n",
    "    if condition:\n",
    "        result.append(expr)'''"
   ]
  },
  {
   "cell_type": "code",
   "execution_count": 84,
   "id": "69519ee3-f216-4167-9f5e-bca80c57092d",
   "metadata": {},
   "outputs": [
    {
     "data": {
      "text/plain": [
       "[-9, -7, -5, -3, -1, 1, 3, 5, 7]"
      ]
     },
     "execution_count": 84,
     "metadata": {},
     "output_type": "execute_result"
    }
   ],
   "source": [
    "nums = list(range(-9, 8, 2))\n",
    "nums"
   ]
  },
  {
   "cell_type": "markdown",
   "id": "193c9df6-e924-4890-bf6f-a43ca4d136c3",
   "metadata": {},
   "source": [
    "Extract the negative numbers from nums"
   ]
  },
  {
   "cell_type": "code",
   "execution_count": 87,
   "id": "3650a115-df43-4aca-9749-33705a581672",
   "metadata": {},
   "outputs": [
    {
     "data": {
      "text/plain": [
       "[-9, -7, -5, -3, -1]"
      ]
     },
     "execution_count": 87,
     "metadata": {},
     "output_type": "execute_result"
    }
   ],
   "source": [
    "[n for n in nums if n < 0]"
   ]
  },
  {
   "cell_type": "markdown",
   "id": "9074b587-86ad-4e77-9a9c-1d92c3e65e29",
   "metadata": {},
   "source": [
    "Extract the multiples of 3 from nums"
   ]
  },
  {
   "cell_type": "code",
   "execution_count": 90,
   "id": "fe8be7fc-d47e-43cb-9be3-465b0e859509",
   "metadata": {},
   "outputs": [
    {
     "data": {
      "text/plain": [
       "[-9, -3, 3]"
      ]
     },
     "execution_count": 90,
     "metadata": {},
     "output_type": "execute_result"
    }
   ],
   "source": [
    "[n for n in nums if n % 3 == 0]"
   ]
  },
  {
   "cell_type": "markdown",
   "id": "e5376c8c-eb2a-48ef-8dec-afc6fa6f8c87",
   "metadata": {},
   "source": [
    "Create a new list with every negative number in nums changed to zero"
   ]
  },
  {
   "cell_type": "code",
   "execution_count": 105,
   "id": "f4df3884-7463-4d42-a357-15f7e515406f",
   "metadata": {},
   "outputs": [
    {
     "data": {
      "text/plain": [
       "[0, 0, 0, 0, 0, 1, 3, 5, 7]"
      ]
     },
     "execution_count": 105,
     "metadata": {},
     "output_type": "execute_result"
    }
   ],
   "source": [
    "[n if n > 0 else 0 for n in nums]"
   ]
  },
  {
   "cell_type": "markdown",
   "id": "753fe157-d268-4b45-a8ec-4b265cf7372f",
   "metadata": {},
   "source": [
    "### Enumerate"
   ]
  },
  {
   "cell_type": "code",
   "execution_count": 122,
   "id": "6caa88cf-11bf-441f-957e-4a3de39b5f1c",
   "metadata": {},
   "outputs": [
    {
     "name": "stdout",
     "output_type": "stream",
     "text": [
      "0 Sun\n",
      "1 Mon\n",
      "2 Tue\n"
     ]
    }
   ],
   "source": [
    "days = ['Sun', 'Mon', 'Tue']\n",
    "for index, val in enumerate(days):\n",
    "    print(index, val)"
   ]
  },
  {
   "cell_type": "code",
   "execution_count": 126,
   "id": "ce963f5d-ea15-4918-9f5c-d7cdebcc59c6",
   "metadata": {},
   "outputs": [
    {
     "data": {
      "text/plain": [
       "[(0, 'Sun'), (1, 'Mon'), (2, 'Tue')]"
      ]
     },
     "execution_count": 126,
     "metadata": {},
     "output_type": "execute_result"
    }
   ],
   "source": [
    "[tup for tup in enumerate(days)]"
   ]
  },
  {
   "cell_type": "markdown",
   "id": "0f09a931-6c80-425b-b910-af0da335d52d",
   "metadata": {},
   "source": [
    "### Zip"
   ]
  },
  {
   "cell_type": "code",
   "execution_count": 145,
   "id": "3f2c40a1-3842-44e1-8580-86614dcb8e06",
   "metadata": {},
   "outputs": [],
   "source": [
    "nums = [2, 4, 6]\n",
    "names = ['two', 'four', 'six']"
   ]
  },
  {
   "cell_type": "code",
   "execution_count": 147,
   "id": "c312d5b1-207e-447b-86e0-1fd2efa44f2e",
   "metadata": {},
   "outputs": [
    {
     "data": {
      "text/plain": [
       "[(2, 'two'), (4, 'four'), (6, 'six')]"
      ]
     },
     "execution_count": 147,
     "metadata": {},
     "output_type": "execute_result"
    }
   ],
   "source": [
    "list(zip(nums, names))"
   ]
  },
  {
   "cell_type": "code",
   "execution_count": null,
   "id": "73f72c0c-f4c3-4604-ab61-d76db134bb27",
   "metadata": {},
   "outputs": [],
   "source": []
  }
 ],
 "metadata": {
  "kernelspec": {
   "display_name": "Python 3 (ipykernel)",
   "language": "python",
   "name": "python3"
  },
  "language_info": {
   "codemirror_mode": {
    "name": "ipython",
    "version": 3
   },
   "file_extension": ".py",
   "mimetype": "text/x-python",
   "name": "python",
   "nbconvert_exporter": "python",
   "pygments_lexer": "ipython3",
   "version": "3.12.4"
  }
 },
 "nbformat": 4,
 "nbformat_minor": 5
}
