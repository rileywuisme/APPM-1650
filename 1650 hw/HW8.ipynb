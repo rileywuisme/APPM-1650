{
 "cells": [
  {
   "cell_type": "markdown",
   "metadata": {},
   "source": [
    "# HW 8\n",
    "\n",
    "**Upload 2 files** to Gradescope:\n",
    "* **HW8.py** (for the autograder)\n",
    "* **HW8.ipynb** (for manual grading)\n",
    "\n",
    "---\n"
   ]
  },
  {
   "cell_type": "code",
   "execution_count": 400,
   "metadata": {},
   "outputs": [],
   "source": [
    "import math\n",
    "import matplotlib.pyplot as plt\n",
    "import numpy as np"
   ]
  },
  {
   "cell_type": "markdown",
   "metadata": {},
   "source": [
    "### Rolling Average\n",
    "A rolling (or moving) average can help identify data patterns, smoothing out minor changes. Write a function **`rolling_avg(nums, window)`** that takes a list of numbers and returns a list containing the average for every `window` numbers. Assume that `window` is a positive integer.\n",
    "\n",
    "Example:  \n",
    "`rolling_avg([3, -5, 11, 21, 16], 3)` returns `[3.0, 9.0, 16.0]`\n",
    "which corresponds to $$\\left[\\dfrac{3-5+11}{3}, \\dfrac{-5+11+21}{3}, \\dfrac{11+21+16}{3}\\right].$$\n",
    "\n",
    "`rolling_avg([3, -5, 11, 21, 16], 4)` returns `[7.5, 10.75]`."
   ]
  },
  {
   "cell_type": "code",
   "execution_count": 402,
   "metadata": {},
   "outputs": [],
   "source": [
    "def rolling_avg(nums, window):\n",
    "    terms = [sum(nums[n:window+n])/window for n in range(len(nums)-window+1)]\n",
    "    return terms"
   ]
  },
  {
   "cell_type": "code",
   "execution_count": 403,
   "metadata": {},
   "outputs": [
    {
     "data": {
      "text/plain": [
       "[7.5, 10.75]"
      ]
     },
     "execution_count": 403,
     "metadata": {},
     "output_type": "execute_result"
    }
   ],
   "source": [
    "rolling_avg([3, -5, 11, 21, 16], 4)"
   ]
  },
  {
   "cell_type": "markdown",
   "metadata": {},
   "source": [
    "### Boulder Temperatures\n",
    "The comma-delimited spreadsheet **'boulder-temps-2019.csv'** contains the minimum and maximum daily temperatures for 2019, downloaded from [NOAA Climate Data Online](https://www.ncdc.noaa.gov/cdo-web/search). The file contains a header row:\n",
    "```\n",
    "STATION_NAME,DATE,TMIN,TMAX\n",
    "```\n",
    "followed by the temperatures for each day in the year. For example, the line for Oct 15, 2019, contains:\n",
    "```\n",
    "BOULDER CO US,20191015,69,32\n",
    "```\n",
    "**Read in the data** and **write code** to do the following:\n",
    "* Extract the **October dates**.\n",
    "* **Average the min and max temperatures** for each date. Save the averages for the 31 days in chronological order in **`oct_avgs`**.\n",
    "* Calculate the 5-day rolling averages for `oct_avgs`. Save in **`oct_roll_avgs`**.\n",
    "* Plot `oct_avgs` as a **bar chart**. Display the days of the month along the horizontal axis.\n",
    "* **Add a line graph** showing the 5-day rolling averages.\n",
    "\n",
    "<img src=\"http://www.coloradomath.org/python/boulder-temps.jpg\" width=\"576\" height=\"360\" />"
   ]
  },
  {
   "cell_type": "code",
   "execution_count": 405,
   "metadata": {},
   "outputs": [],
   "source": [
    "with open('boulder-temps-2019.csv') as fp:\n",
    "    data = fp.read()\n",
    "sp_data = data.splitlines()\n",
    "sp_sp_data = [sp_data[n].split(',') for n in range(len(sp_data))]\n",
    "dates = []\n",
    "for n in range(9*30+4, 9*30+36):\n",
    "    dates.append(sp_sp_data[n][1])"
   ]
  },
  {
   "cell_type": "code",
   "execution_count": 406,
   "metadata": {},
   "outputs": [],
   "source": [
    "oct_avgs = [(int(sp_sp_data[n][2]) + int(sp_sp_data[n][3]))/2 for n in range(274, 274+32)]\n",
    "oct_roll_avgs = rolling_avg(oct_avgs, 5)"
   ]
  },
  {
   "cell_type": "code",
   "execution_count": 407,
   "metadata": {},
   "outputs": [
    {
     "data": {
      "image/png": "[encoded data removed]",
      "text/plain": [
       "<Figure size 640x480 with 1 Axes>"
      ]
     },
     "metadata": {},
     "output_type": "display_data"
    }
   ],
   "source": [
    "plt.bar(range(1, 33), oct_avgs)\n",
    "plt.xticks(range(31), [dates[n][6:] for n in range(31)])\n",
    "plt.plot(dates[4:], oct_roll_avgs, color='orange')\n",
    "plt.title('Boulder Daily Temperature \\n Oct 2019')\n",
    "plt.show()"
   ]
  },
  {
   "cell_type": "markdown",
   "metadata": {},
   "source": [
    "### Alphabet\n",
    "Write a function **`alphabet(case)`** that returns the letters of the alphabet as a single string in either lower case (the default) or upper case. *Do not write out all of the letters.* **Use ord('a')** and **ord('A')** and **chr()** to generate the alphabet. \n",
    "\n",
    "Note: The Unicode representations for a-z and A-Z are consecutive integers, so the code for 'b' is one more than the code for 'a', the code for 'c' is one more than the code for 'b', etc.\n",
    "\n",
    "Examples:<br>\n",
    "`alphabet()` returns `'abcdefghijklmnopqrstuvwxyz'`.<br>\n",
    "`alphabet('upper')` returns `'ABCDEFGHIJKLMNOPQRSTUVWXYZ'`."
   ]
  },
  {
   "cell_type": "code",
   "execution_count": 409,
   "metadata": {},
   "outputs": [],
   "source": [
    "def alphabet(case='lower'):\n",
    "    if case == 'upper':\n",
    "        return ''.join([chr(ord('A')+n) for n in range(26)])\n",
    "    else:\n",
    "        return ''.join([chr(ord('a')+n) for n in range(26)])"
   ]
  },
  {
   "cell_type": "code",
   "execution_count": 410,
   "metadata": {},
   "outputs": [
    {
     "data": {
      "text/plain": [
       "'abcdefghijklmnopqrstuvwxyz'"
      ]
     },
     "execution_count": 410,
     "metadata": {},
     "output_type": "execute_result"
    }
   ],
   "source": [
    "alphabet()"
   ]
  },
  {
   "cell_type": "code",
   "execution_count": 411,
   "metadata": {},
   "outputs": [
    {
     "data": {
      "text/plain": [
       "'ABCDEFGHIJKLMNOPQRSTUVWXYZ'"
      ]
     },
     "execution_count": 411,
     "metadata": {},
     "output_type": "execute_result"
    }
   ],
   "source": [
    "alphabet('upper')"
   ]
  },
  {
   "cell_type": "markdown",
   "metadata": {},
   "source": [
    "### First Letter Frequency\n",
    "What is the most common first letter among the words in a list? \n",
    "\n",
    "* Write a function **`first_letter_freq(words)`** that takes a list of words in lower case string format and returns a 26-element list containing the frequencies of the first letters. The first element of the list will contain the number of words beginning with 'a', the second element will contain the number of words beginning with 'b', etc.\n",
    "\n",
    "  Example:  \n",
    "  ```\n",
    "  first_letter_freq(['alpha', 'apple', 'beta', 'zebra'])\n",
    "  ```\n",
    "  returns the 26-element list \n",
    "  ```\n",
    "  [2, 1, 0, ..., 0, 1]\n",
    "  ```\n",
    "  with 23 zeros in the middle.\n",
    "\n",
    "* **Apply `first_letter_freq()`** to the words in `'wordlist.txt'`.\n",
    "* **Display the results** in a bar chart. Show the letters of the alphabet along the horizontal axis.\n",
    "\n",
    "  <img src=\"http://www.coloradomath.org/python/first-letter-freq.jpg\" width=\"519\" height=\"346\" />"
   ]
  },
  {
   "cell_type": "code",
   "execution_count": 413,
   "metadata": {},
   "outputs": [],
   "source": [
    "def first_letter_freq(words):\n",
    "    zero_list = [0 for n in range(26)]\n",
    "    for word in words:\n",
    "        first_l = word[0]\n",
    "        zero_list[ord(first_l) - ord('a')] += 1\n",
    "\n",
    "    return zero_list"
   ]
  },
  {
   "cell_type": "code",
   "execution_count": 414,
   "metadata": {},
   "outputs": [
    {
     "data": {
      "text/plain": [
       "[2, 1, 0, 0, 0, 0, 0, 0, 0, 0, 0, 0, 0, 0, 0, 0, 0, 0, 0, 0, 0, 0, 0, 0, 0, 1]"
      ]
     },
     "execution_count": 414,
     "metadata": {},
     "output_type": "execute_result"
    }
   ],
   "source": [
    "first_letter_freq(['alpha', 'apple', 'beta', 'zebra'])"
   ]
  },
  {
   "cell_type": "code",
   "execution_count": 415,
   "metadata": {},
   "outputs": [
    {
     "name": "stdout",
     "output_type": "stream",
     "text": [
      "[407, 362, 751, 547, 398, 308, 304, 249, 115, 96, 55, 194, 295, 97, 246, 578, 37, 513, 1087, 323, 476, 132, 155, 2, 27, 22]\n"
     ]
    }
   ],
   "source": [
    "with open('wordlist.txt') as fp:\n",
    "    data = fp.read()\n",
    "\n",
    "words = data.splitlines()\n",
    "yval = print(first_letter_freq(words))"
   ]
  },
  {
   "cell_type": "code",
   "execution_count": 416,
   "metadata": {},
   "outputs": [
    {
     "data": {
      "text/plain": [
       "26"
      ]
     },
     "execution_count": 416,
     "metadata": {},
     "output_type": "execute_result"
    }
   ],
   "source": [
    "len(first_letter_freq(words))"
   ]
  },
  {
   "cell_type": "code",
   "execution_count": 417,
   "metadata": {},
   "outputs": [
    {
     "data": {
      "image/png": "[encoded data removed]",
      "text/plain": [
       "<Figure size 640x480 with 1 Axes>"
      ]
     },
     "metadata": {},
     "output_type": "display_data"
    }
   ],
   "source": [
    "import matplotlib.pyplot as plt\n",
    "\n",
    "plt.bar(range(26), first_letter_freq(words))\n",
    "plt.title('Wordlist First Letter Frequency')\n",
    "plt.xticks(range(26), alphabet())\n",
    "plt.show()"
   ]
  },
  {
   "cell_type": "markdown",
   "metadata": {},
   "source": [
    "### Letter frequency\n",
    "\n",
    "Letter frequency is used in cryptography to break ciphers. In the English language the letters that appear most frequently are E T A O I N, in that order.\n",
    "\n",
    "Write a function **`letter_freq(text)`** that takes a string `text` and **returns a dictionary** of 26 key-value pairs where each key corresponds to  a letter and each value corresponds to the frequency of the letter. For example, a return value of\n",
    "```\n",
    "{'A': 29, 'B': 13, ..., 'Z': 1}\n",
    "```\n",
    "would indicate that `text` contains 29 'A's, 13 'B's, and 1 'Z', possibly in lower case.\n",
    "\n",
    "Convert lower case letters to upper case. Ignore any characters are that not letters, including punctuation marks and whitespace. (*Hint:* You may wish to use the string method `.isalpha()`.)\n",
    "\n",
    "Example:<br>\n",
    "`letter_freq('Jack and Jill went up the hill.')` returns\n",
    "```\n",
    "{'A': 2,\n",
    " 'B': 0,\n",
    " 'C': 1,\n",
    " 'D': 1,\n",
    " 'E': 2,\n",
    " ...\n",
    " 'J': 2,\n",
    " ...\n",
    " 'Z': 0}\n",
    "```"
   ]
  },
  {
   "cell_type": "code",
   "execution_count": 419,
   "metadata": {},
   "outputs": [],
   "source": [
    "def letter_freq(text):\n",
    "    freq = {chr(letter): 0 for letter in range(ord('A'), ord('Z') + 1)}\n",
    "    \n",
    "    for char in text:\n",
    "        if char.isalpha():\n",
    "            freq[char.upper()] += 1\n",
    "    \n",
    "    return freq"
   ]
  },
  {
   "cell_type": "code",
   "execution_count": 420,
   "metadata": {},
   "outputs": [
    {
     "data": {
      "text/plain": [
       "{'A': 2,\n",
       " 'B': 0,\n",
       " 'C': 1,\n",
       " 'D': 1,\n",
       " 'E': 2,\n",
       " 'F': 0,\n",
       " 'G': 0,\n",
       " 'H': 2,\n",
       " 'I': 2,\n",
       " 'J': 2,\n",
       " 'K': 1,\n",
       " 'L': 4,\n",
       " 'M': 0,\n",
       " 'N': 2,\n",
       " 'O': 0,\n",
       " 'P': 1,\n",
       " 'Q': 0,\n",
       " 'R': 0,\n",
       " 'S': 0,\n",
       " 'T': 2,\n",
       " 'U': 1,\n",
       " 'V': 0,\n",
       " 'W': 1,\n",
       " 'X': 0,\n",
       " 'Y': 0,\n",
       " 'Z': 0}"
      ]
     },
     "execution_count": 420,
     "metadata": {},
     "output_type": "execute_result"
    }
   ],
   "source": [
    "letter_freq('Jack and Jill went up the hill.')"
   ]
  },
  {
   "cell_type": "markdown",
   "metadata": {},
   "source": [
    "### Alice\n",
    "The file 'alice.txt' contains the text of *Alice's Adventures in Wonderland*. \n",
    "* **Apply letter_freq()** to the text.\n",
    "* **Graph the letter frequencies as a bar chart.** Display the letters of the alphabet along the horizontal axis.\n",
    "\n",
    "<img src=\"http://www.coloradomath.org/python/alice-letter-freq.jpg\" width=\"519\" height=\"346\" />"
   ]
  },
  {
   "cell_type": "code",
   "execution_count": 422,
   "metadata": {},
   "outputs": [
    {
     "data": {
      "text/plain": [
       "{'A': 8825,\n",
       " 'B': 1482,\n",
       " 'C': 2421,\n",
       " 'D': 4940,\n",
       " 'E': 13618,\n",
       " 'F': 2003,\n",
       " 'G': 2534,\n",
       " 'H': 7396,\n",
       " 'I': 7543,\n",
       " 'J': 146,\n",
       " 'K': 1159,\n",
       " 'L': 4732,\n",
       " 'M': 2110,\n",
       " 'N': 7026,\n",
       " 'O': 8160,\n",
       " 'P': 1543,\n",
       " 'Q': 212,\n",
       " 'R': 5467,\n",
       " 'S': 6513,\n",
       " 'T': 10727,\n",
       " 'U': 3475,\n",
       " 'V': 853,\n",
       " 'W': 2678,\n",
       " 'X': 152,\n",
       " 'Y': 2265,\n",
       " 'Z': 78}"
      ]
     },
     "execution_count": 422,
     "metadata": {},
     "output_type": "execute_result"
    }
   ],
   "source": [
    "with open('alice.txt') as fp:\n",
    "    data = fp.read()\n",
    "\n",
    "letter_freq(data)"
   ]
  },
  {
   "cell_type": "code",
   "execution_count": 423,
   "metadata": {},
   "outputs": [
    {
     "data": {
      "image/png": "[encoded data removed]",
      "text/plain": [
       "<Figure size 640x480 with 1 Axes>"
      ]
     },
     "metadata": {},
     "output_type": "display_data"
    }
   ],
   "source": [
    "plt.bar(list(letter_freq(data)), list(letter_freq(data).values()))\n",
    "plt.title(\"Alice's Adventures in Wonderland \\n Letter Frequency\")\n",
    "plt.show()"
   ]
  },
  {
   "cell_type": "code",
   "execution_count": null,
   "metadata": {},
   "outputs": [],
   "source": []
  }
 ],
 "metadata": {
  "kernelspec": {
   "display_name": "Python 3 (ipykernel)",
   "language": "python",
   "name": "python3"
  },
  "language_info": {
   "codemirror_mode": {
    "name": "ipython",
    "version": 3
   },
   "file_extension": ".py",
   "mimetype": "text/x-python",
   "name": "python",
   "nbconvert_exporter": "python",
   "pygments_lexer": "ipython3",
   "version": "3.12.4"
  }
 },
 "nbformat": 4,
 "nbformat_minor": 4
}
