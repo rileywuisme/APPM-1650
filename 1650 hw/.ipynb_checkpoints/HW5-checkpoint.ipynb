{
 "cells": [
  {
   "cell_type": "markdown",
   "id": "94382c7f-0e8f-4943-aef8-55060d62c18d",
   "metadata": {},
   "source": [
    "# HW 5\n",
    "\n",
    "___"
   ]
  },
  {
   "cell_type": "markdown",
   "id": "ff8c0d5f-10c2-4152-a4fe-461e50dacf7d",
   "metadata": {},
   "source": [
    "### Unicode Tuples\n",
    "The function `ord(ch)` returns the numerical Unicode representation for any single character `ch`. For example, `ord('A')` returns `65` and `ord('a')` returns `97`.\n",
    "\n",
    "Write a function **`ord_tuples(chars)`** that takes a string `chars` and returns a list of two-element tuples containing each character in the string and its Unicode equivalent. **Use a list comprehension.**\n",
    "\n",
    "Example: `ord_tuples('CU Buff')` returns \n",
    "```\n",
    "[('C', 67),\n",
    " ('U', 85),\n",
    " (' ', 32),\n",
    " ('B', 66),\n",
    " ('u', 117),\n",
    " ('f', 102),\n",
    " ('f', 102)]\n",
    " ```"
   ]
  },
  {
   "cell_type": "code",
   "execution_count": 10,
   "id": "c951e9b9-4469-493c-9942-d58fb9a49ceb",
   "metadata": {},
   "outputs": [],
   "source": [
    "def ord_tuples(chars):\n",
    "    return [ (ch, ord(ch)) for ch in chars]"
   ]
  },
  {
   "cell_type": "code",
   "execution_count": 12,
   "id": "5b5b2d5e-b5ee-469b-880f-11b2385f5c7d",
   "metadata": {},
   "outputs": [
    {
     "data": {
      "text/plain": [
       "[('C', 67),\n",
       " ('U', 85),\n",
       " (' ', 32),\n",
       " ('B', 66),\n",
       " ('u', 117),\n",
       " ('f', 102),\n",
       " ('f', 102)]"
      ]
     },
     "execution_count": 12,
     "metadata": {},
     "output_type": "execute_result"
    }
   ],
   "source": [
    "ord_tuples('CU Buff')"
   ]
  },
  {
   "cell_type": "markdown",
   "id": "a65e6b91-c076-42cf-bf7e-44c5b61ca237",
   "metadata": {},
   "source": [
    "### Stretch words\n",
    "Write a function **`stretch(word)`** that takes a string and returns a longer string containing 1 copy of the first character, 2 copies of the second character, 3 copies of the third character, etc. Use **`enumerate`**.\n",
    "\n",
    "Example:<br>\n",
    "`stretch('argh')` returns `'arrggghhhh'`"
   ]
  },
  {
   "cell_type": "code",
   "execution_count": 104,
   "id": "67c8189f-1d6f-4998-b696-05b4234cbf7e",
   "metadata": {},
   "outputs": [],
   "source": [
    "def stretch(word): \n",
    "    return ''.join([ch * (i + 1) for i, ch in enumerate(word)])"
   ]
  },
  {
   "cell_type": "code",
   "execution_count": 106,
   "id": "03d333f6-0abf-4c36-abb3-0a300e3214dc",
   "metadata": {},
   "outputs": [
    {
     "data": {
      "text/plain": [
       "'arrggghhhh'"
      ]
     },
     "execution_count": 106,
     "metadata": {},
     "output_type": "execute_result"
    }
   ],
   "source": [
    "stretch('argh')"
   ]
  },
  {
   "cell_type": "markdown",
   "id": "82228dc5-6b13-4991-b29b-e930e495a2ea",
   "metadata": {
    "tags": []
   },
   "source": [
    "### Scale List Elements (non-destructive version)\n",
    "Write a function **`scale_list1(vals, factors)`** that takes a list of values and multiplies each number by a scale factor, returning a new list of the products. **Use `zip`** to pair each value with its factor. Then multiply the numbers in each pair to produce the result. Assume that `vals` and `factors` are equal-length lists of numbers.\n",
    "\n",
    "Example:   \n",
    "`scale_list1([6, -7, -2], [2.5, -3, 5])` returns `[15.0, 21, -10]`<br>\n",
    "because $6\\cdot 2.5 = 15$, $(-7)\\cdot(-3) = 21$, and $(-2)\\cdot 5 = -10$."
   ]
  },
  {
   "cell_type": "code",
   "execution_count": 18,
   "id": "ca32dd45-30ca-40f8-b2f4-8890cf55969c",
   "metadata": {},
   "outputs": [],
   "source": [
    "def scale_list1(vals, factors):\n",
    "    return [ x * y for x, y in zip(vals, factors)]"
   ]
  },
  {
   "cell_type": "code",
   "execution_count": 20,
   "id": "6040b459-02c1-445a-9396-6fc73fdf5ddf",
   "metadata": {},
   "outputs": [
    {
     "data": {
      "text/plain": [
       "[15.0, 21, -10]"
      ]
     },
     "execution_count": 20,
     "metadata": {},
     "output_type": "execute_result"
    }
   ],
   "source": [
    "scale_list1([6, -7, -2], [2.5, -3, 5])"
   ]
  },
  {
   "cell_type": "markdown",
   "id": "9d47e209-2521-450c-89fb-188f5fb0a8cf",
   "metadata": {
    "tags": []
   },
   "source": [
    "### Scale List Elements (destructive version)\n",
    "Write a similar function **`scale_list2(vals, factors)`** that performs the same calculations as `scale_list1()`. Instead of returning a new list, it **overwrites** each element of `vals` with the scaled value. The function does not return a value. For this destructive version, it is not necessary to use `zip`.\n",
    "\n",
    "Examples:   \n",
    "```\n",
    "vals = [6, -7, -2]\n",
    "scale_list2(vals, [2.5, -3, 5])\n",
    "vals\n",
    "```\n",
    "displays `[15.0, 21, -10]`."
   ]
  },
  {
   "cell_type": "code",
   "execution_count": 32,
   "id": "ba5da0e9-3855-4727-b33d-c351c4a9080e",
   "metadata": {},
   "outputs": [],
   "source": [
    "def scale_list2(vals, factors):\n",
    "    for n in range(len(vals)):\n",
    "        vals[n] = vals[n] * factors[n]"
   ]
  },
  {
   "cell_type": "code",
   "execution_count": 34,
   "id": "0b6a03c6-157e-4bf8-b06e-2be641024d43",
   "metadata": {},
   "outputs": [
    {
     "data": {
      "text/plain": [
       "[15.0, 21, -10]"
      ]
     },
     "execution_count": 34,
     "metadata": {},
     "output_type": "execute_result"
    }
   ],
   "source": [
    "vals = [6, -7, -2]\n",
    "scale_list2(vals, [2.5, -3, 5])\n",
    "vals"
   ]
  },
  {
   "cell_type": "markdown",
   "id": "e4cab6da-565c-4a66-a9df-46e643438bbe",
   "metadata": {},
   "source": [
    "### Same Halves\n",
    "Write a function **`list_same_halves(alist)`** that returns `True` if the elements in the first half of `alist` are the same as the elements in the second half (and in the same order). Assume that the `alist` is a non-empty list containing an even number of elements. Do not use an `if` statement.  Do not use a loop.\n",
    "\n",
    "Examples:  \n",
    "`list_same_halves([1, 2, 3, 4])` returns `False`.<br>\n",
    "`list_same_halves([2, 3, 'cat', 2, 3, 'cat'])` returns `True`."
   ]
  },
  {
   "cell_type": "code",
   "execution_count": 72,
   "id": "fbb99258-264b-4d35-8f50-43ce741ac2a3",
   "metadata": {},
   "outputs": [],
   "source": [
    "def list_same_halves(alist):\n",
    "    return alist[:len(alist)//2] == alist[len(alist)//2:]"
   ]
  },
  {
   "cell_type": "code",
   "execution_count": 74,
   "id": "32976ae3-954a-42c4-8755-2ca581bdbc2b",
   "metadata": {},
   "outputs": [
    {
     "data": {
      "text/plain": [
       "False"
      ]
     },
     "execution_count": 74,
     "metadata": {},
     "output_type": "execute_result"
    }
   ],
   "source": [
    "list_same_halves([1, 2, 3, 4])"
   ]
  },
  {
   "cell_type": "code",
   "execution_count": 76,
   "id": "6655965e-30cf-492e-87fb-3c0e4584b70d",
   "metadata": {},
   "outputs": [
    {
     "data": {
      "text/plain": [
       "True"
      ]
     },
     "execution_count": 76,
     "metadata": {},
     "output_type": "execute_result"
    }
   ],
   "source": [
    "list_same_halves([2, 3, 'cat', 2, 3, 'cat'])"
   ]
  },
  {
   "cell_type": "markdown",
   "id": "8e4b4976-7520-4d71-be0d-95f673987030",
   "metadata": {},
   "source": [
    "### Half Pi\n",
    "$$ \\frac{\\pi}{2} = \\frac 21 \\cdot \\frac 23 \\cdot \\frac 43 \\cdot \\frac 45 \\cdot \\frac 65 \\cdot \\frac 67 \\cdots $$\n",
    "\n",
    "Write a function **`half_pi(n)`** that returns the product of the first `n` fractions in this pattern. Your code should be able to handle large values of integer `n`."
   ]
  },
  {
   "cell_type": "code",
   "execution_count": 160,
   "id": "e5e40b90-68b4-47d5-9771-6f0a6fce355c",
   "metadata": {},
   "outputs": [],
   "source": [
    "def half_pi(n):\n",
    "    product = 1\n",
    "    for num in range(1, n+1):\n",
    "        if num % 2 == 1:\n",
    "            product *= (num + 1) / num\n",
    "        else:\n",
    "            product *= num / (num + 1)\n",
    "\n",
    "    return product"
   ]
  },
  {
   "cell_type": "code",
   "execution_count": 162,
   "id": "449bfc64-5a06-473e-8842-e861bf0e5001",
   "metadata": {},
   "outputs": [
    {
     "data": {
      "text/plain": [
       "2.0"
      ]
     },
     "execution_count": 162,
     "metadata": {},
     "output_type": "execute_result"
    }
   ],
   "source": [
    "half_pi(1)"
   ]
  },
  {
   "cell_type": "code",
   "execution_count": null,
   "id": "992bf2d2-51d6-4934-b3d5-f6b12c87ba47",
   "metadata": {},
   "outputs": [],
   "source": []
  }
 ],
 "metadata": {
  "kernelspec": {
   "display_name": "Python 3 (ipykernel)",
   "language": "python",
   "name": "python3"
  },
  "language_info": {
   "codemirror_mode": {
    "name": "ipython",
    "version": 3
   },
   "file_extension": ".py",
   "mimetype": "text/x-python",
   "name": "python",
   "nbconvert_exporter": "python",
   "pygments_lexer": "ipython3",
   "version": "3.12.4"
  }
 },
 "nbformat": 4,
 "nbformat_minor": 5
}
