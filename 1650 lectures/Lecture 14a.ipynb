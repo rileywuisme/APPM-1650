{
 "cells": [
  {
   "cell_type": "markdown",
   "id": "e98950ee-c790-434b-9aef-663650a0e533",
   "metadata": {},
   "source": [
    "### Lecture 14a"
   ]
  },
  {
   "cell_type": "code",
   "execution_count": 2,
   "id": "4df1d38d-82f5-40ed-b34b-e9fc3cbbe73a",
   "metadata": {},
   "outputs": [],
   "source": [
    "import math\n",
    "import random\n",
    "import numpy as np\n",
    "import matplotlib.pyplot as plt\n",
    "import pandas as pd"
   ]
  },
  {
   "cell_type": "markdown",
   "id": "797bc64c-e0a4-4d47-8f71-ec5644d5dd55",
   "metadata": {},
   "source": [
    "### Naming Conventions  \n",
    "For classes, names should be in camel case (ex: NumList)  \n",
    "Otherwise Python variables and function names should be in snake case (ex: num_list)  \n",
    "Python constats are usually all in upper case (ex: HRS_IN_DAY = 24)"
   ]
  },
  {
   "cell_type": "code",
   "execution_count": 10,
   "id": "8b621246-0f9f-4370-891c-88ce6c47515c",
   "metadata": {},
   "outputs": [
    {
     "data": {
      "text/plain": [
       "'Round a number to a given precision in decimal digits.\\n\\nThe return value is an integer if ndigits is omitted or None.  Otherwise\\nthe return value has the same type as the number.  ndigits may be negative.'"
      ]
     },
     "execution_count": 10,
     "metadata": {},
     "output_type": "execute_result"
    }
   ],
   "source": [
    "round.__doc__"
   ]
  },
  {
   "cell_type": "code",
   "execution_count": 12,
   "id": "edb75424-7da5-40c7-95ea-44722115daf4",
   "metadata": {},
   "outputs": [
    {
     "name": "stdout",
     "output_type": "stream",
     "text": [
      "Round a number to a given precision in decimal digits.\n",
      "\n",
      "The return value is an integer if ndigits is omitted or None.  Otherwise\n",
      "the return value has the same type as the number.  ndigits may be negative.\n"
     ]
    }
   ],
   "source": [
    "print(round.__doc__)"
   ]
  },
  {
   "cell_type": "code",
   "execution_count": 14,
   "id": "c2564b9d-c6f3-4732-bb97-003d0678bc7e",
   "metadata": {},
   "outputs": [
    {
     "data": {
      "text/plain": [
       "123.46"
      ]
     },
     "execution_count": 14,
     "metadata": {},
     "output_type": "execute_result"
    }
   ],
   "source": [
    "round(123.456, 2)"
   ]
  },
  {
   "cell_type": "code",
   "execution_count": 16,
   "id": "5b7acbf3-af88-4698-ab94-419db47ee13c",
   "metadata": {},
   "outputs": [
    {
     "data": {
      "text/plain": [
       "100.0"
      ]
     },
     "execution_count": 16,
     "metadata": {},
     "output_type": "execute_result"
    }
   ],
   "source": [
    "round(123.456, -2)"
   ]
  },
  {
   "cell_type": "markdown",
   "id": "d10818d6-b9a9-4788-aa2a-4257a58f0bee",
   "metadata": {},
   "source": [
    "### Throwaway Variables"
   ]
  },
  {
   "cell_type": "code",
   "execution_count": 36,
   "id": "0e819d0b-71c0-49f6-92c2-aae303acaded",
   "metadata": {},
   "outputs": [],
   "source": [
    "hr, minute, __ = (12, 17, 28) # when you don't need to reference the seconds"
   ]
  },
  {
   "cell_type": "code",
   "execution_count": 38,
   "id": "00650961-d39b-4c98-8397-945b1cf5a291",
   "metadata": {},
   "outputs": [
    {
     "data": {
      "text/plain": [
       "12"
      ]
     },
     "execution_count": 38,
     "metadata": {},
     "output_type": "execute_result"
    }
   ],
   "source": [
    "hr"
   ]
  },
  {
   "cell_type": "code",
   "execution_count": 29,
   "id": "bd5a385e-6c4f-47f6-aa40-03f6a8e5e88c",
   "metadata": {},
   "outputs": [
    {
     "data": {
      "text/plain": [
       "17"
      ]
     },
     "execution_count": 29,
     "metadata": {},
     "output_type": "execute_result"
    }
   ],
   "source": [
    "minute"
   ]
  },
  {
   "cell_type": "code",
   "execution_count": 42,
   "id": "a3c738b0-b9ef-467d-8804-649b2e2af82c",
   "metadata": {},
   "outputs": [
    {
     "data": {
      "text/plain": [
       "[0.5967918845179703,\n",
       " 0.06303716087028666,\n",
       " 0.5973590905045372,\n",
       " 0.920838487274885,\n",
       " 0.9808250033067589]"
      ]
     },
     "execution_count": 42,
     "metadata": {},
     "output_type": "execute_result"
    }
   ],
   "source": [
    "[random.random() for _ in range(5)]"
   ]
  },
  {
   "cell_type": "markdown",
   "id": "b46eb127-0ad4-498c-980b-0c8319cd61fa",
   "metadata": {},
   "source": [
    "### Asterisk for Packing and Unpacking"
   ]
  },
  {
   "cell_type": "code",
   "execution_count": 45,
   "id": "64005d32-c666-4aec-b308-8ed680bc98ac",
   "metadata": {},
   "outputs": [],
   "source": [
    "letters = 'xyz'\n",
    "pos = [24, 25, 26]"
   ]
  },
  {
   "cell_type": "code",
   "execution_count": 49,
   "id": "fe76b8c7-13ba-4395-8289-025e64e0e45b",
   "metadata": {},
   "outputs": [
    {
     "data": {
      "text/plain": [
       "[('x', 24), ('y', 25), ('z', 26)]"
      ]
     },
     "execution_count": 49,
     "metadata": {},
     "output_type": "execute_result"
    }
   ],
   "source": [
    "tuples = list(zip(letters, pos))\n",
    "tuples"
   ]
  },
  {
   "cell_type": "code",
   "execution_count": 53,
   "id": "b65fc53e-2fcc-4c59-b7f5-62ef734ce81f",
   "metadata": {},
   "outputs": [],
   "source": [
    "tuple1, tuple2 = zip(*tuples)"
   ]
  },
  {
   "cell_type": "code",
   "execution_count": 55,
   "id": "cb63dd08-207e-4a34-8617-9133d814f983",
   "metadata": {},
   "outputs": [
    {
     "data": {
      "text/plain": [
       "('x', 'y', 'z')"
      ]
     },
     "execution_count": 55,
     "metadata": {},
     "output_type": "execute_result"
    }
   ],
   "source": [
    "tuple1"
   ]
  },
  {
   "cell_type": "code",
   "execution_count": 57,
   "id": "fee191cd-7a24-47b4-82dc-6ae0d70143aa",
   "metadata": {},
   "outputs": [
    {
     "data": {
      "text/plain": [
       "(24, 25, 26)"
      ]
     },
     "execution_count": 57,
     "metadata": {},
     "output_type": "execute_result"
    }
   ],
   "source": [
    "tuple2"
   ]
  },
  {
   "cell_type": "code",
   "execution_count": 59,
   "id": "d64e8a49-0721-46cf-96bc-f1bcb66c4f7b",
   "metadata": {},
   "outputs": [
    {
     "name": "stdout",
     "output_type": "stream",
     "text": [
      "[24, 25, 26]\n"
     ]
    }
   ],
   "source": [
    "print(pos)"
   ]
  },
  {
   "cell_type": "code",
   "execution_count": 61,
   "id": "8596915e-a4a6-4775-95a9-c68b5ca1abc3",
   "metadata": {},
   "outputs": [
    {
     "name": "stdout",
     "output_type": "stream",
     "text": [
      "24 25 26\n"
     ]
    }
   ],
   "source": [
    "print(*pos) # pass pos elements as separate arguments"
   ]
  },
  {
   "cell_type": "code",
   "execution_count": 63,
   "id": "fbd13a69-0be7-491a-b67b-7548cabd65f4",
   "metadata": {},
   "outputs": [
    {
     "name": "stdout",
     "output_type": "stream",
     "text": [
      "24 25 26\n"
     ]
    }
   ],
   "source": [
    "print(24, 25, 26)"
   ]
  },
  {
   "cell_type": "code",
   "execution_count": 73,
   "id": "dbd39f98-e54d-469b-a534-8438e069a769",
   "metadata": {},
   "outputs": [],
   "source": [
    "def greet(*names): # *names allows for multiple arguments\n",
    "    print('Hi', names, '!')"
   ]
  },
  {
   "cell_type": "code",
   "execution_count": 75,
   "id": "98b6569b-c002-43da-8d23-7d37bd17839e",
   "metadata": {},
   "outputs": [
    {
     "name": "stdout",
     "output_type": "stream",
     "text": [
      "Hi ('Alice', 'Bob', 'Carol') !\n"
     ]
    }
   ],
   "source": [
    "greet('Alice', 'Bob', 'Carol')"
   ]
  },
  {
   "cell_type": "code",
   "execution_count": 81,
   "id": "ff5ed8dc-7a93-40aa-97d2-0e2053cfa15b",
   "metadata": {},
   "outputs": [],
   "source": [
    "def greet2(*names):\n",
    "    print('Hi', *names, '!')"
   ]
  },
  {
   "cell_type": "code",
   "execution_count": 83,
   "id": "8c951836-9292-4c6d-a074-5357cd4a404a",
   "metadata": {},
   "outputs": [
    {
     "name": "stdout",
     "output_type": "stream",
     "text": [
      "Hi Alice Bob Carol !\n"
     ]
    }
   ],
   "source": [
    "greet2('Alice', 'Bob', 'Carol')"
   ]
  },
  {
   "cell_type": "code",
   "execution_count": 85,
   "id": "67c21868-6445-4652-80dd-7bf0cca17335",
   "metadata": {},
   "outputs": [],
   "source": [
    "def greet3(*names):\n",
    "    for who in names:\n",
    "        print('Hi', who, '!')"
   ]
  },
  {
   "cell_type": "code",
   "execution_count": 87,
   "id": "7317242f-c23a-4ff3-aa24-7a3216686f72",
   "metadata": {},
   "outputs": [
    {
     "name": "stdout",
     "output_type": "stream",
     "text": [
      "Hi Alice !\n",
      "Hi Bob !\n",
      "Hi Carol !\n"
     ]
    }
   ],
   "source": [
    "greet3('Alice', 'Bob', 'Carol')"
   ]
  },
  {
   "cell_type": "code",
   "execution_count": 97,
   "id": "aab75aca-4a81-4567-9502-044d1541b84d",
   "metadata": {},
   "outputs": [],
   "source": [
    "def greet4(what, *names):\n",
    "    for who in names:\n",
    "        print(what, who, '!')"
   ]
  },
  {
   "cell_type": "code",
   "execution_count": 99,
   "id": "24de27b0-1468-428f-9d49-4e69008639ac",
   "metadata": {},
   "outputs": [
    {
     "name": "stdout",
     "output_type": "stream",
     "text": [
      "Hello Alice !\n",
      "Hello Bob !\n",
      "Hello Carol !\n"
     ]
    }
   ],
   "source": [
    "greet4('Hello', 'Alice', 'Bob', 'Carol')"
   ]
  },
  {
   "cell_type": "markdown",
   "id": "fa09e479-370a-4f48-ad17-64407f1dcbf6",
   "metadata": {},
   "source": [
    "### Mapping or Applying Functions"
   ]
  },
  {
   "cell_type": "markdown",
   "id": "d5b263e0-76e5-4ef6-ba86-172300b4cfe7",
   "metadata": {},
   "source": [
    "Let $f(x) = x^2 + 3x$, Applying the function to a list in 3 ways:\n",
    "* Using a list comprehension.\n",
    "* Using numpy vectorization.\n",
    "* Using `map()`"
   ]
  },
  {
   "cell_type": "code",
   "execution_count": 103,
   "id": "15ba8397-ba01-485f-a360-a33d29aaf25e",
   "metadata": {},
   "outputs": [],
   "source": [
    "xvals = [10, -2, 20]"
   ]
  },
  {
   "cell_type": "code",
   "execution_count": 111,
   "id": "75112799-7f9a-4f55-a4dc-2db74ae4684f",
   "metadata": {},
   "outputs": [
    {
     "data": {
      "text/plain": [
       "[130, -2, 460]"
      ]
     },
     "execution_count": 111,
     "metadata": {},
     "output_type": "execute_result"
    }
   ],
   "source": [
    "[x*x + 3*x for x in xvals]"
   ]
  },
  {
   "cell_type": "code",
   "execution_count": 113,
   "id": "81677a4f-ec80-4581-80d2-53e8b69e2a5e",
   "metadata": {},
   "outputs": [
    {
     "data": {
      "text/plain": [
       "array([10, -2, 20])"
      ]
     },
     "execution_count": 113,
     "metadata": {},
     "output_type": "execute_result"
    }
   ],
   "source": [
    "x_arr = np.array(xvals)\n",
    "x_arr"
   ]
  },
  {
   "cell_type": "code",
   "execution_count": 115,
   "id": "dd6097bb-e284-4ebb-bdb4-eeb1f4ed76cb",
   "metadata": {},
   "outputs": [
    {
     "data": {
      "text/plain": [
       "array([130,  -2, 460])"
      ]
     },
     "execution_count": 115,
     "metadata": {},
     "output_type": "execute_result"
    }
   ],
   "source": [
    "x_arr*x_arr + 3*x_arr"
   ]
  },
  {
   "cell_type": "code",
   "execution_count": 118,
   "id": "70843983-173e-49e0-985f-3d1a6f1b0b51",
   "metadata": {},
   "outputs": [],
   "source": [
    "def f(x):\n",
    "    return x*x + 3*x"
   ]
  },
  {
   "cell_type": "code",
   "execution_count": 120,
   "id": "c669ee8f-926d-4c60-9522-1c0883fd1964",
   "metadata": {},
   "outputs": [
    {
     "data": {
      "text/plain": [
       "[130, -2, 460]"
      ]
     },
     "execution_count": 120,
     "metadata": {},
     "output_type": "execute_result"
    }
   ],
   "source": [
    "[f(x) for x in xvals]"
   ]
  },
  {
   "cell_type": "code",
   "execution_count": 122,
   "id": "c89bebef-df66-484d-8c8c-a33f58e5bf57",
   "metadata": {},
   "outputs": [
    {
     "data": {
      "text/plain": [
       "array([130,  -2, 460])"
      ]
     },
     "execution_count": 122,
     "metadata": {},
     "output_type": "execute_result"
    }
   ],
   "source": [
    "f(x_arr)"
   ]
  },
  {
   "cell_type": "code",
   "execution_count": 124,
   "id": "b52a095d-a155-4d82-b7c1-a16b543c556b",
   "metadata": {},
   "outputs": [
    {
     "data": {
      "text/plain": [
       "[130, -2, 460]"
      ]
     },
     "execution_count": 124,
     "metadata": {},
     "output_type": "execute_result"
    }
   ],
   "source": [
    "list(map(f, xvals))"
   ]
  },
  {
   "cell_type": "markdown",
   "id": "30162e09-04ef-49ec-bbc1-bbb2effbdf72",
   "metadata": {},
   "source": [
    "### Anonymous `lambda` Functions  \n",
    "Unnamed, simple, one-line functions"
   ]
  },
  {
   "cell_type": "code",
   "execution_count": 127,
   "id": "ea02f28d-a127-4c51-acfc-3583de5149a8",
   "metadata": {},
   "outputs": [
    {
     "data": {
      "text/plain": [
       "<function __main__.<lambda>(x)>"
      ]
     },
     "execution_count": 127,
     "metadata": {},
     "output_type": "execute_result"
    }
   ],
   "source": [
    "lambda x: x*x + 3*x"
   ]
  },
  {
   "cell_type": "code",
   "execution_count": 129,
   "id": "7cd8c5ba-f9a3-429e-b6fa-1ac2cb009c2e",
   "metadata": {},
   "outputs": [
    {
     "data": {
      "text/plain": [
       "130"
      ]
     },
     "execution_count": 129,
     "metadata": {},
     "output_type": "execute_result"
    }
   ],
   "source": [
    "(lambda x: x*x + 3*x)(10)"
   ]
  },
  {
   "cell_type": "code",
   "execution_count": 131,
   "id": "42b7c889-6d80-4bf6-a8b1-b1025f153e27",
   "metadata": {},
   "outputs": [
    {
     "data": {
      "text/plain": [
       "array([130,  -2, 460])"
      ]
     },
     "execution_count": 131,
     "metadata": {},
     "output_type": "execute_result"
    }
   ],
   "source": [
    "(lambda x: x*x + 3*x)(x_arr)"
   ]
  },
  {
   "cell_type": "code",
   "execution_count": 135,
   "id": "ad6039e9-a37f-4222-98c4-6e2102b838d7",
   "metadata": {},
   "outputs": [
    {
     "data": {
      "text/plain": [
       "[130, -2, 460]"
      ]
     },
     "execution_count": 135,
     "metadata": {},
     "output_type": "execute_result"
    }
   ],
   "source": [
    "list(map(lambda x: x*x + 3*x, xvals))"
   ]
  },
  {
   "cell_type": "code",
   "execution_count": 137,
   "id": "d47b58b3-f436-491a-afb1-f7dbd9605fca",
   "metadata": {},
   "outputs": [],
   "source": [
    "f = lambda x: x*x + 3*x"
   ]
  },
  {
   "cell_type": "code",
   "execution_count": 139,
   "id": "dbfc095c-2a32-4ff9-a6d5-10f276eee13c",
   "metadata": {},
   "outputs": [
    {
     "data": {
      "text/plain": [
       "array([130,  -2, 460])"
      ]
     },
     "execution_count": 139,
     "metadata": {},
     "output_type": "execute_result"
    }
   ],
   "source": [
    "f(x_arr)"
   ]
  },
  {
   "cell_type": "markdown",
   "id": "343b82b1-56fe-4fbe-9397-abc85c55a7a3",
   "metadata": {},
   "source": [
    "`lambda` with multiple arguments:\n",
    "\n",
    "$c(d, p) = 10d+p$"
   ]
  },
  {
   "cell_type": "code",
   "execution_count": 142,
   "id": "d5324aa7-6ab5-4d2d-a1a8-3834ee5846cd",
   "metadata": {},
   "outputs": [
    {
     "data": {
      "text/plain": [
       "34"
      ]
     },
     "execution_count": 142,
     "metadata": {},
     "output_type": "execute_result"
    }
   ],
   "source": [
    "(lambda d, p: 10*d + p)(3, 4)"
   ]
  },
  {
   "cell_type": "code",
   "execution_count": 144,
   "id": "4794e1f4-0c7f-4293-a8da-692a51b19779",
   "metadata": {},
   "outputs": [
    {
     "data": {
      "text/plain": [
       "array([61, 72, 83])"
      ]
     },
     "execution_count": 144,
     "metadata": {},
     "output_type": "execute_result"
    }
   ],
   "source": [
    "dimes = np.array([6, 7, 8])\n",
    "pennies = np.array([1, 2, 3])\n",
    "(lambda d, p: 10*d + p)(dimes, pennies)"
   ]
  },
  {
   "cell_type": "markdown",
   "id": "733b1b6f-b000-49e8-a70c-e867b9d2b001",
   "metadata": {},
   "source": [
    "### Plotting Lambda Functions  \n",
    "Recall `plot_func(func, interval)` with $(a, b)$ as the interval. "
   ]
  },
  {
   "cell_type": "code",
   "execution_count": 162,
   "id": "d53182db-9cb8-4bbf-ac27-819d7d7485bc",
   "metadata": {},
   "outputs": [],
   "source": [
    "def plot_func(func, interval):\n",
    "    xvals = np.linspace(*interval)\n",
    "    yvals = list(map(func, xvals))\n",
    "    \n",
    "    plt.plot(xvals, yvals)\n",
    "    plt.show()"
   ]
  },
  {
   "cell_type": "code",
   "execution_count": 164,
   "id": "e43659f5-9f8a-4f6f-8ac0-aee04dea4d08",
   "metadata": {},
   "outputs": [
    {
     "data": {
      "image/png": "[encoded data removed]",
      "text/plain": [
       "<Figure size 640x480 with 1 Axes>"
      ]
     },
     "metadata": {},
     "output_type": "display_data"
    }
   ],
   "source": [
    "plot_func(lambda x: x*x + 3*x, (-3, 3))"
   ]
  },
  {
   "cell_type": "code",
   "execution_count": 166,
   "id": "adb985cf-dd07-4903-adcd-61da4db147b0",
   "metadata": {},
   "outputs": [
    {
     "data": {
      "image/png": "[encoded data removed]",
      "text/plain": [
       "<Figure size 640x480 with 1 Axes>"
      ]
     },
     "metadata": {},
     "output_type": "display_data"
    }
   ],
   "source": [
    "plot_func(math.sin, (-3, 3))"
   ]
  },
  {
   "cell_type": "markdown",
   "id": "192b0a1c-4c9b-4f64-9e09-28707f06bf12",
   "metadata": {},
   "source": [
    "### Applying Functions to a DataFrame Column"
   ]
  },
  {
   "cell_type": "code",
   "execution_count": 169,
   "id": "da53752c-da8b-4043-a7fc-87103f27033c",
   "metadata": {},
   "outputs": [
    {
     "data": {
      "text/html": [
       "<div>\n",
       "<style scoped>\n",
       "    .dataframe tbody tr th:only-of-type {\n",
       "        vertical-align: middle;\n",
       "    }\n",
       "\n",
       "    .dataframe tbody tr th {\n",
       "        vertical-align: top;\n",
       "    }\n",
       "\n",
       "    .dataframe thead th {\n",
       "        text-align: right;\n",
       "    }\n",
       "</style>\n",
       "<table border=\"1\" class=\"dataframe\">\n",
       "  <thead>\n",
       "    <tr style=\"text-align: right;\">\n",
       "      <th></th>\n",
       "      <th>Name</th>\n",
       "      <th>SSN</th>\n",
       "    </tr>\n",
       "  </thead>\n",
       "  <tbody>\n",
       "    <tr>\n",
       "      <th>0</th>\n",
       "      <td>Ralphie</td>\n",
       "      <td>123456789</td>\n",
       "    </tr>\n",
       "    <tr>\n",
       "      <th>1</th>\n",
       "      <td>Marie</td>\n",
       "      <td>987654321</td>\n",
       "    </tr>\n",
       "  </tbody>\n",
       "</table>\n",
       "</div>"
      ],
      "text/plain": [
       "      Name        SSN\n",
       "0  Ralphie  123456789\n",
       "1    Marie  987654321"
      ]
     },
     "execution_count": 169,
     "metadata": {},
     "output_type": "execute_result"
    }
   ],
   "source": [
    "df = pd.DataFrame([('Ralphie', 123456789), ('Marie', 987654321)], \n",
    "                   columns=['Name', 'SSN'])\n",
    "df"
   ]
  },
  {
   "cell_type": "markdown",
   "id": "95cd614f-473b-4f34-a4ce-69434ede6cd5",
   "metadata": {},
   "source": [
    "Change 123456789 to '123-45-6789'"
   ]
  },
  {
   "cell_type": "code",
   "execution_count": 184,
   "id": "34f6a40b-8d9b-4927-9dd3-83c08f096ad4",
   "metadata": {},
   "outputs": [],
   "source": [
    "def ssn_dash(ssn):\n",
    "    '''Take a 9-digit SSN and return a string, with dashes inserted'''\n",
    "    part1 = str(ssn)[:3]\n",
    "    part2 = str(ssn)[3:5]\n",
    "    part3 = str(ssn)[5:]\n",
    "    return part1 + '-' + part2 + '-' + part3"
   ]
  },
  {
   "cell_type": "code",
   "execution_count": 186,
   "id": "c9e4508c-dba5-423f-ae23-d9bbbfc5b66f",
   "metadata": {},
   "outputs": [
    {
     "data": {
      "text/plain": [
       "'123-45-6789'"
      ]
     },
     "execution_count": 186,
     "metadata": {},
     "output_type": "execute_result"
    }
   ],
   "source": [
    "ssn_dash(123456789)"
   ]
  },
  {
   "cell_type": "code",
   "execution_count": 192,
   "id": "e56c9a52-638e-4736-871e-c5bc1df75199",
   "metadata": {},
   "outputs": [
    {
     "data": {
      "text/plain": [
       "0    123-45-6789\n",
       "1    987-65-4321\n",
       "Name: SSN, dtype: object"
      ]
     },
     "execution_count": 192,
     "metadata": {},
     "output_type": "execute_result"
    }
   ],
   "source": [
    "df.SSN.apply(ssn_dash) #makes a copy"
   ]
  },
  {
   "cell_type": "code",
   "execution_count": 194,
   "id": "6b1ba8f7-1fe1-49a6-aa0a-28364a71bd38",
   "metadata": {},
   "outputs": [],
   "source": [
    "df.SSN = df.SSN.apply(ssn_dash)"
   ]
  },
  {
   "cell_type": "code",
   "execution_count": 196,
   "id": "5370e279-5da3-42ba-b3a7-23e82a64ab36",
   "metadata": {},
   "outputs": [
    {
     "data": {
      "text/html": [
       "<div>\n",
       "<style scoped>\n",
       "    .dataframe tbody tr th:only-of-type {\n",
       "        vertical-align: middle;\n",
       "    }\n",
       "\n",
       "    .dataframe tbody tr th {\n",
       "        vertical-align: top;\n",
       "    }\n",
       "\n",
       "    .dataframe thead th {\n",
       "        text-align: right;\n",
       "    }\n",
       "</style>\n",
       "<table border=\"1\" class=\"dataframe\">\n",
       "  <thead>\n",
       "    <tr style=\"text-align: right;\">\n",
       "      <th></th>\n",
       "      <th>Name</th>\n",
       "      <th>SSN</th>\n",
       "    </tr>\n",
       "  </thead>\n",
       "  <tbody>\n",
       "    <tr>\n",
       "      <th>0</th>\n",
       "      <td>Ralphie</td>\n",
       "      <td>123-45-6789</td>\n",
       "    </tr>\n",
       "    <tr>\n",
       "      <th>1</th>\n",
       "      <td>Marie</td>\n",
       "      <td>987-65-4321</td>\n",
       "    </tr>\n",
       "  </tbody>\n",
       "</table>\n",
       "</div>"
      ],
      "text/plain": [
       "      Name          SSN\n",
       "0  Ralphie  123-45-6789\n",
       "1    Marie  987-65-4321"
      ]
     },
     "execution_count": 196,
     "metadata": {},
     "output_type": "execute_result"
    }
   ],
   "source": [
    "df"
   ]
  },
  {
   "cell_type": "code",
   "execution_count": null,
   "id": "23581ffc-2919-4bdb-b52b-56cab4d07196",
   "metadata": {},
   "outputs": [],
   "source": []
  }
 ],
 "metadata": {
  "kernelspec": {
   "display_name": "Python 3 (ipykernel)",
   "language": "python",
   "name": "python3"
  },
  "language_info": {
   "codemirror_mode": {
    "name": "ipython",
    "version": 3
   },
   "file_extension": ".py",
   "mimetype": "text/x-python",
   "name": "python",
   "nbconvert_exporter": "python",
   "pygments_lexer": "ipython3",
   "version": "3.12.4"
  }
 },
 "nbformat": 4,
 "nbformat_minor": 5
}
