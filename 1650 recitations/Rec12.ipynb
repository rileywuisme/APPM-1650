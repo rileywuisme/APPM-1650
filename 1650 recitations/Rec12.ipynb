{
 "cells": [
  {
   "cell_type": "markdown",
   "metadata": {
    "tags": []
   },
   "source": [
    "# Recitation 12 \n",
    "\n",
    "\n",
    "___"
   ]
  },
  {
   "cell_type": "code",
   "execution_count": 2,
   "metadata": {},
   "outputs": [],
   "source": [
    "import pandas as pd\n",
    "import matplotlib.pyplot as plt"
   ]
  },
  {
   "cell_type": "markdown",
   "metadata": {},
   "source": [
    "### Avocado Prices\n",
    "\n",
    "**Read in the file** `'avocado.csv'` as a pandas DataFrame called **`dfavo`**. The file, downloaded from kaggle.com, contains Hass Avocado Board data on avocado prices and sales volume in multiple US markets from January 4, 2015, to March 25, 2018.\n",
    "\n",
    "* **Date:** Date of observation\n",
    "* **AveragePrice:** Average price of a single avocado\n",
    "* **TotalVolume:** Total number of avocados sold\n",
    "* **PLU4046:** Total number of avocados with PLU 4046 sold (small to medium)\n",
    "* **PLU4225:** Total number of avocados with PLU 4225 sold (large)\n",
    "* **PLU4770:** Total number of avocados with PLU 4770 sold (extra-large)\n",
    "* **SmallBags:** Number of small bags sold\n",
    "* **LargeBags:** Number of large bags sold\n",
    "* **XLargeBags:** Number of extra-large bags sold\n",
    "* **Type:** conventional or organic\n",
    "* **Region:** City or region of observation"
   ]
  },
  {
   "cell_type": "code",
   "execution_count": 129,
   "metadata": {},
   "outputs": [],
   "source": [
    "dfavo = pd.read_csv('avocado.csv')"
   ]
  },
  {
   "cell_type": "markdown",
   "metadata": {},
   "source": [
    "### Basic Information\n",
    "**Write code** to find the following values and store in the designated variables:\n",
    "* Let **`avo_rows_cols`** be a 2-element tuple `(nrows, ncols)` containing the number of rows and columns, respectively, in `dfavo`\n",
    "* Let **`avo_col_names`** be the column names of `dfavo` in array format (use `.values`).\n",
    "* Let **`avo_first_5_rows`** be the first 5 rows of `dfavo`\n",
    "* Let **`avo_last_2_rows`** be the last 2 rows of `dfavo`"
   ]
  },
  {
   "cell_type": "code",
   "execution_count": 121,
   "metadata": {},
   "outputs": [],
   "source": [
    "avo_rows_cols = dfavo.shape"
   ]
  },
  {
   "cell_type": "code",
   "execution_count": 145,
   "metadata": {},
   "outputs": [],
   "source": [
    "avo_col_names = dfavo.columns.values"
   ]
  },
  {
   "cell_type": "code",
   "execution_count": 147,
   "metadata": {},
   "outputs": [],
   "source": [
    "avo_first_5_rows = dfavo.head()"
   ]
  },
  {
   "cell_type": "code",
   "execution_count": 328,
   "metadata": {},
   "outputs": [],
   "source": [
    "avo_last_2_rows = dfavo[-2:]"
   ]
  },
  {
   "cell_type": "markdown",
   "metadata": {},
   "source": [
    "**Run `.info()`** to view information about the DataFrame."
   ]
  },
  {
   "cell_type": "code",
   "execution_count": 89,
   "metadata": {},
   "outputs": [
    {
     "name": "stdout",
     "output_type": "stream",
     "text": [
      "<class 'pandas.core.frame.DataFrame'>\n",
      "RangeIndex: 15884 entries, 0 to 15883\n",
      "Data columns (total 1 columns):\n",
      " #   Column  Non-Null Count  Dtype \n",
      "---  ------  --------------  ----- \n",
      " 0   0       15884 non-null  object\n",
      "dtypes: object(1)\n",
      "memory usage: 124.2+ KB\n"
     ]
    }
   ],
   "source": [
    "dfavo.info()"
   ]
  },
  {
   "cell_type": "markdown",
   "metadata": {},
   "source": [
    "**Run `.describe()`** to view other information about the DataFrame."
   ]
  },
  {
   "cell_type": "code",
   "execution_count": 91,
   "metadata": {},
   "outputs": [
    {
     "data": {
      "text/html": [
       "<div>\n",
       "<style scoped>\n",
       "    .dataframe tbody tr th:only-of-type {\n",
       "        vertical-align: middle;\n",
       "    }\n",
       "\n",
       "    .dataframe tbody tr th {\n",
       "        vertical-align: top;\n",
       "    }\n",
       "\n",
       "    .dataframe thead th {\n",
       "        text-align: right;\n",
       "    }\n",
       "</style>\n",
       "<table border=\"1\" class=\"dataframe\">\n",
       "  <thead>\n",
       "    <tr style=\"text-align: right;\">\n",
       "      <th></th>\n",
       "      <th>0</th>\n",
       "    </tr>\n",
       "  </thead>\n",
       "  <tbody>\n",
       "    <tr>\n",
       "      <th>count</th>\n",
       "      <td>15884</td>\n",
       "    </tr>\n",
       "    <tr>\n",
       "      <th>unique</th>\n",
       "      <td>15884</td>\n",
       "    </tr>\n",
       "    <tr>\n",
       "      <th>top</th>\n",
       "      <td>Date,AveragePrice,TotalVolume,PLU4046,PLU4225,...</td>\n",
       "    </tr>\n",
       "    <tr>\n",
       "      <th>freq</th>\n",
       "      <td>1</td>\n",
       "    </tr>\n",
       "  </tbody>\n",
       "</table>\n",
       "</div>"
      ],
      "text/plain": [
       "                                                        0\n",
       "count                                               15884\n",
       "unique                                              15884\n",
       "top     Date,AveragePrice,TotalVolume,PLU4046,PLU4225,...\n",
       "freq                                                    1"
      ]
     },
     "execution_count": 91,
     "metadata": {},
     "output_type": "execute_result"
    }
   ],
   "source": [
    "dfavo.describe()"
   ]
  },
  {
   "cell_type": "markdown",
   "metadata": {},
   "source": [
    "### Separate U.S. and Regional Data\n",
    "* Let **`avo_regions`** be an array containing the **distinct** names in the `Region` column. (Use `unique()`.)\n",
    "* Note that one of the `Region` names is `'TotalUS'`. Use queries to separate the `'TotalUS'` rows from the rest.\n",
    "  * Let **`dfUS`** be a DataFrame containing the rows with region `'TotalUS'`.\n",
    "  * Let **`dfRegional`** be a DataFrame containing the remaining rows."
   ]
  },
  {
   "cell_type": "code",
   "execution_count": 191,
   "metadata": {},
   "outputs": [],
   "source": [
    "avo_regions = dfavo.Region.unique()"
   ]
  },
  {
   "cell_type": "code",
   "execution_count": 195,
   "metadata": {},
   "outputs": [],
   "source": [
    "dfUS = dfavo[dfavo.Region == 'TotalUS']"
   ]
  },
  {
   "cell_type": "code",
   "execution_count": 388,
   "metadata": {},
   "outputs": [],
   "source": [
    "dfRegional = dfavo[dfavo.Region != 'TotalUS']"
   ]
  },
  {
   "cell_type": "markdown",
   "metadata": {},
   "source": [
    "### Average Prices in the U.S.\n",
    "For the following commands, **use `dfUS`**.\n",
    "* Apply `.max()` and `.min()` to `dfUS` to show the max and min values for each column.\n",
    "* Let **`avgprice_max`** be the largest value in the `AveragePrice` column.\n",
    "* Let **`avgprice_min`** be the smallest value in the `AveragePrice` column.\n",
    "* Let **`avgprice_max_rows`** correspond to the 3 rows that contain the highest `AveragePrice`. (You can use `.nlargest(3, 'AveragePrice')`.\n",
    "* Let **`avgprice_min_rows`** correspond to the 5 rows that contain the lowest `AveragePrice`. (You can use `.nsmallest()`.\n",
    "* Let **`avgprice_min_dates`** be an **array** containing the dates in **`avgprice_min_rows`**. (Use `.values` to convert a Series into an array. Can you guess why prices were low during those weeks?)"
   ]
  },
  {
   "cell_type": "code",
   "execution_count": 197,
   "metadata": {},
   "outputs": [
    {
     "data": {
      "text/plain": [
       "Date                 9/6/15\n",
       "AveragePrice           2.09\n",
       "TotalVolume     62505646.52\n",
       "PLU4046         22743616.17\n",
       "PLU4225         20470572.61\n",
       "PLU4770          2546439.11\n",
       "SmallBags        13384586.8\n",
       "LargeBags        5719096.61\n",
       "XLargeBags        551693.65\n",
       "Type                organic\n",
       "Region              TotalUS\n",
       "dtype: object"
      ]
     },
     "execution_count": 197,
     "metadata": {},
     "output_type": "execute_result"
    }
   ],
   "source": [
    "dfUS.max()"
   ]
  },
  {
   "cell_type": "code",
   "execution_count": 199,
   "metadata": {},
   "outputs": [
    {
     "data": {
      "text/plain": [
       "Date                  1/1/17\n",
       "AveragePrice            0.76\n",
       "TotalVolume        501814.87\n",
       "PLU4046             77759.93\n",
       "PLU4225            198874.09\n",
       "PLU4770                834.3\n",
       "SmallBags            71807.0\n",
       "LargeBags           22985.22\n",
       "XLargeBags               0.0\n",
       "Type            conventional\n",
       "Region               TotalUS\n",
       "dtype: object"
      ]
     },
     "execution_count": 199,
     "metadata": {},
     "output_type": "execute_result"
    }
   ],
   "source": [
    "dfUS.min()"
   ]
  },
  {
   "cell_type": "code",
   "execution_count": 209,
   "metadata": {},
   "outputs": [],
   "source": [
    "avgprice_max = dfUS.AveragePrice.max()"
   ]
  },
  {
   "cell_type": "code",
   "execution_count": 211,
   "metadata": {},
   "outputs": [],
   "source": [
    "avgprice_min = dfUS.AveragePrice.min()"
   ]
  },
  {
   "cell_type": "code",
   "execution_count": 217,
   "metadata": {},
   "outputs": [],
   "source": [
    "avgprice_max_rows = dfUS.nlargest(3, 'AveragePrice')"
   ]
  },
  {
   "cell_type": "code",
   "execution_count": 348,
   "metadata": {},
   "outputs": [],
   "source": [
    "avgprice_min_rows = dfUS.nsmallest(5, 'AveragePrice')"
   ]
  },
  {
   "cell_type": "code",
   "execution_count": 354,
   "metadata": {},
   "outputs": [],
   "source": [
    "avgprice_min_dates = avgprice_min_rows.values[:5, 0]"
   ]
  },
  {
   "cell_type": "markdown",
   "metadata": {},
   "source": [
    "### Conventional and Organic\n",
    "For the following commands, **use `dfRegional`**. \n",
    "\n",
    "* Notice that the rows with the smallest `TotalVolume` are for organic avocados and the rows with the largest are for conventional avocados.\n",
    "\n",
    "\n",
    "* Let **`dfOrg`** represent the rows corresponding to organic avocados.\n",
    "* Let **`dfConv`** represent the rows corresponding to conventional avocados.\n",
    "\n",
    "\n",
    "* Let **`org_vol_max_regions`** be an array containing the distinct region(s) with the 5 largest organic `TotalVolume`s. (Use `unique()`.)\n",
    "* Let **`conv_vol_min_regions`** be an array containing the distinct region(s) with the 5 smallest conventional `TotalVolume`s.\n"
   ]
  },
  {
   "cell_type": "code",
   "execution_count": 248,
   "metadata": {},
   "outputs": [
    {
     "data": {
      "text/html": [
       "<div>\n",
       "<style scoped>\n",
       "    .dataframe tbody tr th:only-of-type {\n",
       "        vertical-align: middle;\n",
       "    }\n",
       "\n",
       "    .dataframe tbody tr th {\n",
       "        vertical-align: top;\n",
       "    }\n",
       "\n",
       "    .dataframe thead th {\n",
       "        text-align: right;\n",
       "    }\n",
       "</style>\n",
       "<table border=\"1\" class=\"dataframe\">\n",
       "  <thead>\n",
       "    <tr style=\"text-align: right;\">\n",
       "      <th></th>\n",
       "      <th>Date</th>\n",
       "      <th>AveragePrice</th>\n",
       "      <th>TotalVolume</th>\n",
       "      <th>PLU4046</th>\n",
       "      <th>PLU4225</th>\n",
       "      <th>PLU4770</th>\n",
       "      <th>SmallBags</th>\n",
       "      <th>LargeBags</th>\n",
       "      <th>XLargeBags</th>\n",
       "      <th>Type</th>\n",
       "      <th>Region</th>\n",
       "    </tr>\n",
       "  </thead>\n",
       "  <tbody>\n",
       "    <tr>\n",
       "      <th>1123</th>\n",
       "      <td>2/5/17</td>\n",
       "      <td>0.67</td>\n",
       "      <td>11213596.29</td>\n",
       "      <td>3986429.59</td>\n",
       "      <td>3550403.07</td>\n",
       "      <td>214137.93</td>\n",
       "      <td>3403581.49</td>\n",
       "      <td>7838.83</td>\n",
       "      <td>51205.38</td>\n",
       "      <td>conventional</td>\n",
       "      <td>California</td>\n",
       "    </tr>\n",
       "  </tbody>\n",
       "</table>\n",
       "</div>"
      ],
      "text/plain": [
       "        Date  AveragePrice  TotalVolume     PLU4046     PLU4225    PLU4770  \\\n",
       "1123  2/5/17          0.67  11213596.29  3986429.59  3550403.07  214137.93   \n",
       "\n",
       "       SmallBags  LargeBags  XLargeBags          Type      Region  \n",
       "1123  3403581.49    7838.83    51205.38  conventional  California  "
      ]
     },
     "execution_count": 248,
     "metadata": {},
     "output_type": "execute_result"
    }
   ],
   "source": [
    "dfavo[dfavo.TotalVolume == dfRegional.TotalVolume.max()]"
   ]
  },
  {
   "cell_type": "code",
   "execution_count": 250,
   "metadata": {},
   "outputs": [
    {
     "data": {
      "text/html": [
       "<div>\n",
       "<style scoped>\n",
       "    .dataframe tbody tr th:only-of-type {\n",
       "        vertical-align: middle;\n",
       "    }\n",
       "\n",
       "    .dataframe tbody tr th {\n",
       "        vertical-align: top;\n",
       "    }\n",
       "\n",
       "    .dataframe thead th {\n",
       "        text-align: right;\n",
       "    }\n",
       "</style>\n",
       "<table border=\"1\" class=\"dataframe\">\n",
       "  <thead>\n",
       "    <tr style=\"text-align: right;\">\n",
       "      <th></th>\n",
       "      <th>Date</th>\n",
       "      <th>AveragePrice</th>\n",
       "      <th>TotalVolume</th>\n",
       "      <th>PLU4046</th>\n",
       "      <th>PLU4225</th>\n",
       "      <th>PLU4770</th>\n",
       "      <th>SmallBags</th>\n",
       "      <th>LargeBags</th>\n",
       "      <th>XLargeBags</th>\n",
       "      <th>Type</th>\n",
       "      <th>Region</th>\n",
       "    </tr>\n",
       "  </thead>\n",
       "  <tbody>\n",
       "    <tr>\n",
       "      <th>11874</th>\n",
       "      <td>11/8/15</td>\n",
       "      <td>1.59</td>\n",
       "      <td>84.56</td>\n",
       "      <td>3.95</td>\n",
       "      <td>3.95</td>\n",
       "      <td>0.0</td>\n",
       "      <td>73.33</td>\n",
       "      <td>3.33</td>\n",
       "      <td>0.0</td>\n",
       "      <td>organic</td>\n",
       "      <td>MiamiFtLauderdale</td>\n",
       "    </tr>\n",
       "  </tbody>\n",
       "</table>\n",
       "</div>"
      ],
      "text/plain": [
       "          Date  AveragePrice  TotalVolume  PLU4046  PLU4225  PLU4770  \\\n",
       "11874  11/8/15          1.59        84.56     3.95     3.95      0.0   \n",
       "\n",
       "       SmallBags  LargeBags  XLargeBags     Type             Region  \n",
       "11874      73.33       3.33         0.0  organic  MiamiFtLauderdale  "
      ]
     },
     "execution_count": 250,
     "metadata": {},
     "output_type": "execute_result"
    }
   ],
   "source": [
    "dfavo[dfavo.TotalVolume == dfRegional.TotalVolume.min()]"
   ]
  },
  {
   "cell_type": "code",
   "execution_count": 394,
   "metadata": {},
   "outputs": [],
   "source": [
    "dfOrg = dfRegional[(dfRegional.Type == 'organic')]"
   ]
  },
  {
   "cell_type": "code",
   "execution_count": 398,
   "metadata": {},
   "outputs": [],
   "source": [
    "dfConv = dfRegional[dfRegional.Type == 'conventional']"
   ]
  },
  {
   "cell_type": "code",
   "execution_count": 504,
   "metadata": {},
   "outputs": [],
   "source": [
    "org_vol_max_regions = dfOrg.nlargest(5, 'TotalVolume')['Region'].unique()"
   ]
  },
  {
   "cell_type": "code",
   "execution_count": 506,
   "metadata": {
    "tags": []
   },
   "outputs": [],
   "source": [
    "conv_vol_min_regions = dfConv.nsmallest(5, 'TotalVolume')['Region'].unique()"
   ]
  },
  {
   "cell_type": "markdown",
   "metadata": {},
   "source": [
    "### Sorting\n",
    "For the following commands, use **`dfUS`**. Another (less efficient) way to determine the maximum and minimum values for a column is by sorting.\n",
    "\n",
    "* Let **`dfUS_sorted`** correspond to `dfUS` but with the rows sorted by `TotalVolume` in **decreasing order**.\n",
    "* Let **`vol_max_dates`** be an **array** containing the dates in the 5 rows with the highest `TotalVolume`. **Use `dfUS_sorted`.** (Can you guess why the volume was high on those dates?)"
   ]
  },
  {
   "cell_type": "code",
   "execution_count": 435,
   "metadata": {},
   "outputs": [],
   "source": [
    "dfUS_sorted = dfUS.sort_values(by='TotalVolume', ascending=False)"
   ]
  },
  {
   "cell_type": "code",
   "execution_count": 538,
   "metadata": {},
   "outputs": [
    {
     "data": {
      "text/plain": [
       "array(['2/4/18', '2/5/17', '2/7/16', '5/7/17', '5/8/16'], dtype=object)"
      ]
     },
     "execution_count": 538,
     "metadata": {},
     "output_type": "execute_result"
    }
   ],
   "source": [
    "vol_max_dates = dfUS_sorted[:5].values[:5, 0]\n",
    "vol_max_dates"
   ]
  },
  {
   "cell_type": "markdown",
   "metadata": {},
   "source": [
    "___\n",
    "\n",
    "# Extra Problems\n",
    "Work on these problems after completing the previous exercises."
   ]
  },
  {
   "cell_type": "markdown",
   "metadata": {
    "tags": []
   },
   "source": [
    "### Inserting New Columns\n",
    "* **Insert a new column `TotalBags`** which equals the sum of the `SmallBags`, `LargeBags`, and `XLargeBags` columns.\n",
    "* Check `.columns` to see that the column was added."
   ]
  },
  {
   "cell_type": "code",
   "execution_count": null,
   "metadata": {},
   "outputs": [],
   "source": []
  },
  {
   "cell_type": "markdown",
   "metadata": {},
   "source": [
    "### Summing Columns\n",
    "* Let **`totalBags_sum`** equal the sum of the `TotalBags` column. (Use `.sum()`.)\n",
    "* Verify that the result equals the sum of the `SmallBags`, `LargeBags`, and `XLargeBags` columns."
   ]
  },
  {
   "cell_type": "code",
   "execution_count": 22,
   "metadata": {
    "tags": []
   },
   "outputs": [],
   "source": [
    "# totalBags_sum ="
   ]
  },
  {
   "cell_type": "markdown",
   "metadata": {},
   "source": [
    "### Sorting by Date\n",
    "For the following commands, use **`dfavo`**.\n",
    "* **Sort the DataFrame by `Date`** in increasing order. Note that the first few dates are from 2017 and the last few are from 2015, because the dates are not stored in an appropriate format.\n",
    "* Run **`dfavo.dtypes`**. Note that the data type for the `Date` column is `object`.\n",
    "* **Change the data type of `Date`** by executing\n",
    "```\n",
    "dfavo.Date = dfavo.Date.astype('datetime64[ns]')\n",
    "```\n",
    "* Check that the `Date` type has been updated.\n",
    "* Let **`dfavo_sorted_dates`** correspond to `dfavo` but with the rows sorted chronologically by `Date`. Verify that the first few dates are from January 2015 and the last few from March 2018.\n",
    "* Note that this change did not affect the data type of `Date` in `dfRegional`."
   ]
  },
  {
   "cell_type": "code",
   "execution_count": null,
   "metadata": {},
   "outputs": [],
   "source": []
  },
  {
   "cell_type": "code",
   "execution_count": 23,
   "metadata": {},
   "outputs": [],
   "source": [
    "# dfavo_sorted_dates = "
   ]
  },
  {
   "cell_type": "markdown",
   "metadata": {},
   "source": [
    "### Plotting DataFrames\n",
    "\n",
    "* Let **`dfdenverConv`** represent the rows for conventional avocados in the `Denver` region in `dfavo`.  \n",
    "* Let **`dfdenverOrg`** represent the rows for organic avocados in the `Denver` region.\n",
    "\n",
    "The following code plots a line graph showing the `TotalVolume` for conventional avocados in the Denver region over time.\n",
    "```\n",
    "dfdenverConv.plot('Date', 'TotalVolume')\n",
    "```\n",
    "**Plot line graphs** for Denver conventional and organic avocados `TotalVolume` by executing this code and adding the `label=` parameter for the legend.\n",
    "```\n",
    "ax = dfdenverConv.plot('Date', 'TotalVolume')\n",
    "dfdenverOrg.plot('Date', 'TotalVolume', ax=ax)\n",
    "```\n",
    "<img src=\"http://www.coloradomath.org/python/denver-avo-total-vol.jpg\" width=\"372\" height=\"283\" />\n",
    "\n",
    "**Plot line graphs for `AveragePrice`** in the Denver region.\n",
    "\n",
    "<img src=\"http://www.coloradomath.org/python/denver-avo-avg-price.jpg\" width=\"372\" height=\"273\" />\n"
   ]
  },
  {
   "cell_type": "code",
   "execution_count": 24,
   "metadata": {},
   "outputs": [],
   "source": [
    "# dfdenverConv = "
   ]
  },
  {
   "cell_type": "code",
   "execution_count": 25,
   "metadata": {},
   "outputs": [],
   "source": [
    "# dfdenverOrg = "
   ]
  },
  {
   "cell_type": "code",
   "execution_count": null,
   "metadata": {},
   "outputs": [],
   "source": []
  }
 ],
 "metadata": {
  "kernelspec": {
   "display_name": "Python 3 (ipykernel)",
   "language": "python",
   "name": "python3"
  },
  "language_info": {
   "codemirror_mode": {
    "name": "ipython",
    "version": 3
   },
   "file_extension": ".py",
   "mimetype": "text/x-python",
   "name": "python",
   "nbconvert_exporter": "python",
   "pygments_lexer": "ipython3",
   "version": "3.12.4"
  }
 },
 "nbformat": 4,
 "nbformat_minor": 4
}
