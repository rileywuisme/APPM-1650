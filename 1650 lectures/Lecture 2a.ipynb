{
 "cells": [
  {
   "cell_type": "markdown",
   "id": "93d2a40e-0988-4294-bcc7-879183c751ee",
   "metadata": {},
   "source": [
    "### Lecture 2a: Boolean Values and Conditional Expressions"
   ]
  },
  {
   "cell_type": "markdown",
   "id": "bdf7988c-ca06-45cf-a13a-b839f83a43f1",
   "metadata": {},
   "source": [
    "warm up"
   ]
  },
  {
   "cell_type": "code",
   "execution_count": 10,
   "id": "8ff2aad2-2b85-4a42-9313-27ac0f8f9123",
   "metadata": {},
   "outputs": [],
   "source": [
    "import math"
   ]
  },
  {
   "cell_type": "code",
   "execution_count": 4,
   "id": "0dc9c419-d953-4111-b0b7-a7d0f958f41a",
   "metadata": {},
   "outputs": [],
   "source": [
    "def func(x):\n",
    "    return (math.sqrt(x) - 3) / (math.sqrt(x) + 8)"
   ]
  },
  {
   "cell_type": "code",
   "execution_count": 14,
   "id": "a13c7109-9bd2-44c6-ade5-5c214fd7377a",
   "metadata": {},
   "outputs": [],
   "source": [
    "#prof's take\n",
    "def func(x): \n",
    "    xsqrt = math.sqrt(x)\n",
    "    return (xsqrt - 3) / (xsqrt +8)"
   ]
  },
  {
   "cell_type": "code",
   "execution_count": 16,
   "id": "27db6c30-3c49-4d21-85df-40003ffa7b56",
   "metadata": {},
   "outputs": [
    {
     "data": {
      "text/plain": [
       "-0.1"
      ]
     },
     "execution_count": 16,
     "metadata": {},
     "output_type": "execute_result"
    }
   ],
   "source": [
    "func(4)"
   ]
  },
  {
   "cell_type": "markdown",
   "id": "c3ea97c7-4309-45ce-88b7-ea44b0735e67",
   "metadata": {},
   "source": [
    "# Boolean Values"
   ]
  },
  {
   "cell_type": "code",
   "execution_count": 19,
   "id": "281879d7-5c98-4d46-93ce-30c4ab34cfae",
   "metadata": {},
   "outputs": [],
   "source": [
    "age = 19"
   ]
  },
  {
   "cell_type": "code",
   "execution_count": 21,
   "id": "1bda79f9-175f-47da-af15-0992f38e8616",
   "metadata": {},
   "outputs": [
    {
     "data": {
      "text/plain": [
       "False"
      ]
     },
     "execution_count": 21,
     "metadata": {},
     "output_type": "execute_result"
    }
   ],
   "source": [
    "age < 12"
   ]
  },
  {
   "cell_type": "code",
   "execution_count": 23,
   "id": "05166dde-2ac3-4559-8010-ca21e675e32e",
   "metadata": {},
   "outputs": [
    {
     "data": {
      "text/plain": [
       "True"
      ]
     },
     "execution_count": 23,
     "metadata": {},
     "output_type": "execute_result"
    }
   ],
   "source": [
    "age >= 12"
   ]
  },
  {
   "cell_type": "code",
   "execution_count": 25,
   "id": "cee6335d-81a0-4fbf-b70d-ebffb5061552",
   "metadata": {},
   "outputs": [
    {
     "data": {
      "text/plain": [
       "bool"
      ]
     },
     "execution_count": 25,
     "metadata": {},
     "output_type": "execute_result"
    }
   ],
   "source": [
    "type(True)"
   ]
  },
  {
   "cell_type": "code",
   "execution_count": 27,
   "id": "f75aff19-9f24-4b79-b2c0-1368c1a5073d",
   "metadata": {},
   "outputs": [
    {
     "data": {
      "text/plain": [
       "bool"
      ]
     },
     "execution_count": 27,
     "metadata": {},
     "output_type": "execute_result"
    }
   ],
   "source": [
    "type(False)"
   ]
  },
  {
   "cell_type": "code",
   "execution_count": 29,
   "id": "2be6c620-ab19-4ba7-8167-e954d5a3569e",
   "metadata": {},
   "outputs": [
    {
     "data": {
      "text/plain": [
       "False"
      ]
     },
     "execution_count": 29,
     "metadata": {},
     "output_type": "execute_result"
    }
   ],
   "source": [
    "age == 18"
   ]
  },
  {
   "cell_type": "code",
   "execution_count": 31,
   "id": "0497c3a4-9a03-4f1f-b260-56ed76392df3",
   "metadata": {},
   "outputs": [
    {
     "data": {
      "text/plain": [
       "True"
      ]
     },
     "execution_count": 31,
     "metadata": {},
     "output_type": "execute_result"
    }
   ],
   "source": [
    "age != 18"
   ]
  },
  {
   "cell_type": "code",
   "execution_count": 35,
   "id": "c7cf2af7-f92e-4284-84da-e78bcb5db09e",
   "metadata": {},
   "outputs": [
    {
     "data": {
      "text/plain": [
       "True"
      ]
     },
     "execution_count": 35,
     "metadata": {},
     "output_type": "execute_result"
    }
   ],
   "source": [
    "not age == 18"
   ]
  },
  {
   "cell_type": "code",
   "execution_count": 37,
   "id": "7205013c-3bbf-4b19-a321-4be53cfc056c",
   "metadata": {},
   "outputs": [
    {
     "data": {
      "text/plain": [
       "False"
      ]
     },
     "execution_count": 37,
     "metadata": {},
     "output_type": "execute_result"
    }
   ],
   "source": [
    "3 == '3'"
   ]
  },
  {
   "cell_type": "code",
   "execution_count": 39,
   "id": "6c723bb2-6eda-47d1-aa86-e2fe52238eb1",
   "metadata": {},
   "outputs": [
    {
     "data": {
      "text/plain": [
       "False"
      ]
     },
     "execution_count": 39,
     "metadata": {},
     "output_type": "execute_result"
    }
   ],
   "source": [
    "True == 'True'"
   ]
  },
  {
   "cell_type": "code",
   "execution_count": 41,
   "id": "95dfd6d2-3629-4d16-889a-cdbacfd0fa4c",
   "metadata": {},
   "outputs": [
    {
     "data": {
      "text/plain": [
       "True"
      ]
     },
     "execution_count": 41,
     "metadata": {},
     "output_type": "execute_result"
    }
   ],
   "source": [
    "'True' == 'True'"
   ]
  },
  {
   "cell_type": "code",
   "execution_count": 45,
   "id": "6494c494-8bc9-44ae-9344-de21b024711c",
   "metadata": {},
   "outputs": [
    {
     "data": {
      "text/plain": [
       "True"
      ]
     },
     "execution_count": 45,
     "metadata": {},
     "output_type": "execute_result"
    }
   ],
   "source": [
    "True == True"
   ]
  },
  {
   "cell_type": "code",
   "execution_count": 47,
   "id": "13436c56-439c-4372-acf0-e265db4efd00",
   "metadata": {},
   "outputs": [
    {
     "data": {
      "text/plain": [
       "True"
      ]
     },
     "execution_count": 47,
     "metadata": {},
     "output_type": "execute_result"
    }
   ],
   "source": [
    "age > 11 and age < 65 #regular price ticket"
   ]
  },
  {
   "cell_type": "code",
   "execution_count": 51,
   "id": "c3573dbe-ccea-4725-b150-5e55a4e98d6e",
   "metadata": {},
   "outputs": [
    {
     "data": {
      "text/plain": [
       "False"
      ]
     },
     "execution_count": 51,
     "metadata": {},
     "output_type": "execute_result"
    }
   ],
   "source": [
    "age < 12 or age > 64 #check for discount"
   ]
  },
  {
   "cell_type": "code",
   "execution_count": 53,
   "id": "84edcf53-57dc-4e68-9ceb-f7e4bc81c532",
   "metadata": {},
   "outputs": [
    {
     "data": {
      "text/plain": [
       "True"
      ]
     },
     "execution_count": 53,
     "metadata": {},
     "output_type": "execute_result"
    }
   ],
   "source": [
    "11 < age < 65"
   ]
  },
  {
   "cell_type": "markdown",
   "id": "8b181922-53ac-4f7f-9476-1b07a82f98b0",
   "metadata": {},
   "source": [
    "### Exclusive or\n",
    "return True if exactly one of two expressions is True"
   ]
  },
  {
   "cell_type": "code",
   "execution_count": 56,
   "id": "4e49fe56-58cd-4090-b0cb-363437bd1c8e",
   "metadata": {},
   "outputs": [],
   "source": [
    "a = True\n",
    "b = False"
   ]
  },
  {
   "cell_type": "code",
   "execution_count": 58,
   "id": "d0593f8d-f24a-4290-bae3-d926873a629a",
   "metadata": {},
   "outputs": [
    {
     "data": {
      "text/plain": [
       "True"
      ]
     },
     "execution_count": 58,
     "metadata": {},
     "output_type": "execute_result"
    }
   ],
   "source": [
    "a ^ b "
   ]
  },
  {
   "cell_type": "code",
   "execution_count": 60,
   "id": "64d56da0-4040-4401-9fb7-1f85a0348c5a",
   "metadata": {},
   "outputs": [],
   "source": [
    "c = True"
   ]
  },
  {
   "cell_type": "code",
   "execution_count": 62,
   "id": "47af15a8-ee02-45f0-872f-c0e622fe1333",
   "metadata": {},
   "outputs": [
    {
     "data": {
      "text/plain": [
       "False"
      ]
     },
     "execution_count": 62,
     "metadata": {},
     "output_type": "execute_result"
    }
   ],
   "source": [
    "a ^ c"
   ]
  },
  {
   "cell_type": "code",
   "execution_count": 71,
   "id": "769cce3a-24ab-4fd4-955d-5911f9d89399",
   "metadata": {},
   "outputs": [
    {
     "data": {
      "text/plain": [
       "True"
      ]
     },
     "execution_count": 71,
     "metadata": {},
     "output_type": "execute_result"
    }
   ],
   "source": [
    "# duplicate result of a ^ b:\n",
    "(a or b) and (a != b)"
   ]
  },
  {
   "cell_type": "code",
   "execution_count": 73,
   "id": "61eca175-2a94-4949-a123-d1b6d221ab40",
   "metadata": {},
   "outputs": [
    {
     "data": {
      "text/plain": [
       "False"
      ]
     },
     "execution_count": 73,
     "metadata": {},
     "output_type": "execute_result"
    }
   ],
   "source": [
    "(a or c) and (a != c)"
   ]
  },
  {
   "cell_type": "code",
   "execution_count": 75,
   "id": "a1057df1-85fe-4fa0-9bd3-58e55ac75976",
   "metadata": {},
   "outputs": [
    {
     "data": {
      "text/plain": [
       "True"
      ]
     },
     "execution_count": 75,
     "metadata": {},
     "output_type": "execute_result"
    }
   ],
   "source": [
    "# or\n",
    "(a or b) and not (a and b)"
   ]
  },
  {
   "cell_type": "markdown",
   "id": "5f66bfa6-f783-430e-b081-c3fa4e5aab12",
   "metadata": {},
   "source": [
    "Function is_pos(num) return 'True' if 'num' is positive and return 'False' otherwise. "
   ]
  },
  {
   "cell_type": "code",
   "execution_count": 78,
   "id": "9cabf5a6-6751-4201-aa22-e957fadb40b7",
   "metadata": {},
   "outputs": [],
   "source": [
    "def is_pos(num):\n",
    "    return num > 0"
   ]
  },
  {
   "cell_type": "code",
   "execution_count": 80,
   "id": "e86e477e-7a07-4314-baeb-56d58071f96e",
   "metadata": {},
   "outputs": [
    {
     "data": {
      "text/plain": [
       "(True, False)"
      ]
     },
     "execution_count": 80,
     "metadata": {},
     "output_type": "execute_result"
    }
   ],
   "source": [
    "is_pos(1), is_pos(-3)"
   ]
  },
  {
   "cell_type": "markdown",
   "id": "3a64e73d-6a73-42c0-896b-482d47e7653b",
   "metadata": {},
   "source": [
    "Function ** is_even(num) ** return True if integer  num is even"
   ]
  },
  {
   "cell_type": "code",
   "execution_count": 92,
   "id": "777914fc-d6c5-4587-aaa1-77611eedd4c5",
   "metadata": {},
   "outputs": [],
   "source": [
    "def is_even(num):\n",
    "    return num % 2 == 0\n"
   ]
  },
  {
   "cell_type": "code",
   "execution_count": 100,
   "id": "a3699505-736b-4b4e-9c08-0642b755099c",
   "metadata": {},
   "outputs": [
    {
     "data": {
      "text/plain": [
       "True"
      ]
     },
     "execution_count": 100,
     "metadata": {},
     "output_type": "execute_result"
    }
   ],
   "source": [
    "is_even(16)"
   ]
  },
  {
   "cell_type": "code",
   "execution_count": 110,
   "id": "a13d4c95-e4d4-4ec8-8b65-8f046d028b9c",
   "metadata": {},
   "outputs": [],
   "source": [
    "def is_odd(num):\n",
    "    return num % 2 == 1"
   ]
  },
  {
   "cell_type": "code",
   "execution_count": 112,
   "id": "75d07ed3-f2d3-4a51-ba89-96dbd054fdad",
   "metadata": {},
   "outputs": [
    {
     "data": {
      "text/plain": [
       "True"
      ]
     },
     "execution_count": 112,
     "metadata": {},
     "output_type": "execute_result"
    }
   ],
   "source": [
    "is_odd(7)"
   ]
  },
  {
   "cell_type": "markdown",
   "id": "23776645-6a6b-4e52-890a-e4b32eee1c67",
   "metadata": {},
   "source": [
    "### If statement\n",
    "Function **tix_type(age)** returns 'child', 'regular', or 'senior' for a ticket type based on age. "
   ]
  },
  {
   "cell_type": "code",
   "execution_count": 127,
   "id": "b4af45ca-feda-48f1-8b7d-6598b383bde1",
   "metadata": {},
   "outputs": [],
   "source": [
    "def tix_type(age):\n",
    "    if age < 12:\n",
    "        return 'child'\n",
    "    elif age < 65:\n",
    "        return 'regular'\n",
    "    else: \n",
    "        return 'senior'"
   ]
  },
  {
   "cell_type": "code",
   "execution_count": 129,
   "id": "f1fbf6b9-cb59-4017-8315-5d0301ab782c",
   "metadata": {},
   "outputs": [
    {
     "data": {
      "text/plain": [
       "('child', 'regular', 'senior')"
      ]
     },
     "execution_count": 129,
     "metadata": {},
     "output_type": "execute_result"
    }
   ],
   "source": [
    "tix_type(11), tix_type(19), tix_type(75)"
   ]
  },
  {
   "cell_type": "markdown",
   "id": "4bd9c2a6-2156-4aaa-b1b0-aec6683f703d",
   "metadata": {},
   "source": [
    "Function **parity(num)** returns 'even' if 'num' is even and returns 'odd' otherwise. "
   ]
  },
  {
   "cell_type": "code",
   "execution_count": 137,
   "id": "4be50a37-9a42-4787-b334-4d67dbe282e6",
   "metadata": {},
   "outputs": [],
   "source": [
    "def parity(num):\n",
    "    if num % 2 == 0:\n",
    "        return 'even'\n",
    "    else: \n",
    "        return 'odd'"
   ]
  },
  {
   "cell_type": "code",
   "execution_count": 139,
   "id": "ef152d11-21e2-4079-8cdc-671f2fcf83cf",
   "metadata": {},
   "outputs": [
    {
     "data": {
      "text/plain": [
       "('even', 'odd')"
      ]
     },
     "execution_count": 139,
     "metadata": {},
     "output_type": "execute_result"
    }
   ],
   "source": [
    "parity(8), parity(9)"
   ]
  },
  {
   "cell_type": "markdown",
   "id": "fd0a8c15-96ed-4856-8d9d-3148d641dba9",
   "metadata": {},
   "source": [
    "### Type Checking"
   ]
  },
  {
   "cell_type": "code",
   "execution_count": 148,
   "id": "fb1f9848-c8bb-435d-802f-5a45c992848c",
   "metadata": {},
   "outputs": [
    {
     "data": {
      "text/plain": [
       "True"
      ]
     },
     "execution_count": 148,
     "metadata": {},
     "output_type": "execute_result"
    }
   ],
   "source": [
    "type(6/2) == float"
   ]
  },
  {
   "cell_type": "code",
   "execution_count": 152,
   "id": "7b3c2683-71c9-48fe-bb50-990ffff1418f",
   "metadata": {},
   "outputs": [
    {
     "data": {
      "text/plain": [
       "True"
      ]
     },
     "execution_count": 152,
     "metadata": {},
     "output_type": "execute_result"
    }
   ],
   "source": [
    "isinstance(6/2, float)"
   ]
  },
  {
   "cell_type": "markdown",
   "id": "a1cf419d-e33d-4f79-ad14-9825acf60eda",
   "metadata": {},
   "source": [
    "Modify the 'parity' function to return 'None' if 'num' is not an 'int'"
   ]
  },
  {
   "cell_type": "code",
   "execution_count": 156,
   "id": "4188c1bf-372a-4157-8764-00a52b2a2b7d",
   "metadata": {},
   "outputs": [],
   "source": [
    "def parity(num):\n",
    "    if not isinstance(num, int):\n",
    "        return None\n",
    "    elif num % 2 == 0:\n",
    "        return 'even'\n",
    "    else: \n",
    "        return 'odd'"
   ]
  },
  {
   "cell_type": "code",
   "execution_count": 162,
   "id": "6d7361c1-09db-4d5b-9cb0-ecaa4f9e330d",
   "metadata": {},
   "outputs": [
    {
     "data": {
      "text/plain": [
       "NoneType"
      ]
     },
     "execution_count": 162,
     "metadata": {},
     "output_type": "execute_result"
    }
   ],
   "source": [
    "type(parity(3.5))"
   ]
  },
  {
   "cell_type": "markdown",
   "id": "56a92abe-6e74-4c5a-8f98-08fdde537b05",
   "metadata": {},
   "source": [
    "Function 'xintercept(m, b)' returns the x-intercept of a line $y = mx + b$ if one exists. Otherwise return 'None'"
   ]
  },
  {
   "cell_type": "code",
   "execution_count": 165,
   "id": "819f4b33-d995-44cc-b2f7-37d3ced386f5",
   "metadata": {},
   "outputs": [],
   "source": [
    "def xintercept(m, b):\n",
    "    if m == 0:\n",
    "        return None\n",
    "\n",
    "    return -b / m"
   ]
  },
  {
   "cell_type": "code",
   "execution_count": null,
   "id": "34930fd4-777e-41d8-bd87-0591594dbe45",
   "metadata": {},
   "outputs": [],
   "source": []
  }
 ],
 "metadata": {
  "kernelspec": {
   "display_name": "Python 3 (ipykernel)",
   "language": "python",
   "name": "python3"
  },
  "language_info": {
   "codemirror_mode": {
    "name": "ipython",
    "version": 3
   },
   "file_extension": ".py",
   "mimetype": "text/x-python",
   "name": "python",
   "nbconvert_exporter": "python",
   "pygments_lexer": "ipython3",
   "version": "3.12.4"
  }
 },
 "nbformat": 4,
 "nbformat_minor": 5
}
