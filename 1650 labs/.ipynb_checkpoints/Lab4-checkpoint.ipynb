{
 "cells": [
  {
   "cell_type": "markdown",
   "metadata": {},
   "source": [
    "# Lab 4\n",
    "\n",
    "___"
   ]
  },
  {
   "cell_type": "markdown",
   "metadata": {
    "tags": []
   },
   "source": [
    "### Enter the Lab4 password as a string"
   ]
  },
  {
   "cell_type": "code",
   "execution_count": 227,
   "metadata": {},
   "outputs": [],
   "source": [
    "password = 'waffle'"
   ]
  },
  {
   "cell_type": "markdown",
   "metadata": {},
   "source": [
    "### Mean\n",
    "Write a function **`mean(nums)`** that returns the average (mean) of a list of numbers. Assume that `nums` is a non-empty list of numbers.\n",
    "\n",
    "Example:  \n",
    "`mean([600, 470, 170, 43.5, 300])` returns `316.7`."
   ]
  },
  {
   "cell_type": "code",
   "execution_count": 229,
   "metadata": {},
   "outputs": [],
   "source": [
    "def mean(nums):\n",
    "    sum = 0\n",
    "    for num in nums:\n",
    "        sum += num\n",
    "\n",
    "    return sum / len(nums)"
   ]
  },
  {
   "cell_type": "code",
   "execution_count": 230,
   "metadata": {},
   "outputs": [
    {
     "data": {
      "text/plain": [
       "316.7"
      ]
     },
     "execution_count": 230,
     "metadata": {},
     "output_type": "execute_result"
    }
   ],
   "source": [
    "mean([600, 470, 170, 43.5, 300])"
   ]
  },
  {
   "cell_type": "markdown",
   "metadata": {},
   "source": [
    "### Variance\n",
    "The *variance* of a dataset is a measure of the spread between numbers in the set. It is calculated by examining the squared differences of the numbers from the mean. Suppose the numbers are $x_1, x_2, \\ldots, x_n$ and their mean is $\\mu$. Then the variance $\\sigma^2$ of the dataset is\n",
    "\n",
    "$$\\sigma^2 = \\frac 1n \\left( \\left(x_1 - \\mu\\right)^2 + \\left(x_2 - \\mu\\right)^2 + \\cdots + \\left(x_n - \\mu\\right)^2 \\right).$$ \n",
    "\n",
    "For example, given the numbers $6, 4, 17, 45$, with mean $\\mu = 18$, the variance equals\n",
    "\n",
    "$$\\sigma^2 = \n",
    "\\frac 14 \\left( (6-18)^2 + (4-18)^2 + (17-18)^2 + (45-18)^2 \\right) = 267.5.$$\n",
    "\n",
    "Write a function **`variance(nums)`** that calculates the variance of a list of numbers. **Use a loop or list comprehension** and call `mean()`."
   ]
  },
  {
   "cell_type": "code",
   "execution_count": 232,
   "metadata": {},
   "outputs": [],
   "source": [
    "def variance(nums):\n",
    "    sum_var = 0\n",
    "    for num in nums:\n",
    "        sum_var += (num - mean(nums)) ** 2\n",
    "\n",
    "    return (1/len(nums)) * (sum_var)"
   ]
  },
  {
   "cell_type": "code",
   "execution_count": 233,
   "metadata": {},
   "outputs": [
    {
     "data": {
      "text/plain": [
       "267.5"
      ]
     },
     "execution_count": 233,
     "metadata": {},
     "output_type": "execute_result"
    }
   ],
   "source": [
    "variance([6, 4, 17, 45])"
   ]
  },
  {
   "cell_type": "markdown",
   "metadata": {},
   "source": [
    "### Standard Deviation\n",
    "The *standard deviation* $\\sigma$ of a dataset is another measure of spread. It equals the square root of the variance. Write a function **`stdev(nums)`** that calculates the standard deviation of a list of numbers. Call `variance()`.\n",
    "\n",
    "Example:  \n",
    "`stdev([6, 4, 17, 45])` returns `16.355427`."
   ]
  },
  {
   "cell_type": "code",
   "execution_count": 235,
   "metadata": {},
   "outputs": [],
   "source": [
    "import math\n",
    "def stdev(nums):\n",
    "    return math.sqrt(variance(nums))"
   ]
  },
  {
   "cell_type": "code",
   "execution_count": 236,
   "metadata": {},
   "outputs": [
    {
     "data": {
      "text/plain": [
       "16.355427233796124"
      ]
     },
     "execution_count": 236,
     "metadata": {},
     "output_type": "execute_result"
    }
   ],
   "source": [
    "stdev([6, 4, 17, 45])"
   ]
  },
  {
   "cell_type": "markdown",
   "metadata": {},
   "source": [
    "### Median\n",
    "\n",
    "The *median* of an ordered list is either\n",
    "* the middle element (if the list has an odd number of elements)\n",
    "* or the average of the two middle elements (if the list has an even number of elements).\n",
    "\n",
    "Write a function **`median(nums)`** that takes an unsorted list of numbers and returns the median. Assume that `nums` is a non-empty list of numbers. You may use the `sorted()` function. \n",
    "\n",
    " Examples:<br>\n",
    " `median([25, 32, -7, 9, 4])` returns `9`.<br>\n",
    " `median([25, 32, -7, 9, 4, 14])` returns `11.5`."
   ]
  },
  {
   "cell_type": "code",
   "execution_count": 307,
   "metadata": {},
   "outputs": [],
   "source": [
    "def median(nums):\n",
    "    sort = sorted(nums)\n",
    "    if len(nums) % 2 == 1:\n",
    "        return sort[len(sort) // 2]\n",
    "    else:\n",
    "        mid1 = sort[len(sort) // 2 - 1]\n",
    "        mid2 = sort[len(sort) // 2]\n",
    "        return (mid1 + mid2) / 2"
   ]
  },
  {
   "cell_type": "code",
   "execution_count": 309,
   "metadata": {},
   "outputs": [
    {
     "data": {
      "text/plain": [
       "9"
      ]
     },
     "execution_count": 309,
     "metadata": {},
     "output_type": "execute_result"
    }
   ],
   "source": [
    "median([25, 32, -7, 9, 4])"
   ]
  },
  {
   "cell_type": "code",
   "execution_count": 311,
   "metadata": {},
   "outputs": [
    {
     "data": {
      "text/plain": [
       "11.5"
      ]
     },
     "execution_count": 311,
     "metadata": {},
     "output_type": "execute_result"
    }
   ],
   "source": [
    "median([25, 32, -7, 9, 4, 14])"
   ]
  },
  {
   "cell_type": "markdown",
   "metadata": {},
   "source": [
    "### Cumulative Sum\n",
    "Write a function **`cum_sum(nums)`** that returns the *cumulative sum* of the numbers in a list. The $n$th element of the result equals the sum of the first $n$ numbers in `nums`. Assume that `nums` is a non-empty list of numbers.\n",
    "\n",
    " Example:  \n",
    " `cum_sum([2, 4, -7, 13])` returns `[2, 6, -1, 12]` which corresponds to \n",
    " \n",
    " $$\\begin{align*}\n",
    " 2 &= 2\\\\\n",
    " 6 &= 2+4\\\\\n",
    " -1 &= 2+4-7\\\\\n",
    " 12 &= 2+4-7+13.\n",
    " \\end{align*}\n",
    " $$"
   ]
  },
  {
   "cell_type": "code",
   "execution_count": 242,
   "metadata": {},
   "outputs": [],
   "source": [
    "def cum_sum(nums):\n",
    "    list_sum = []\n",
    "    sum_now = 0\n",
    "    for i in range(len(nums)):\n",
    "        sum_now = sum(nums[:i+1])\n",
    "        list_sum.append(sum_now)\n",
    "\n",
    "    return list_sum"
   ]
  },
  {
   "cell_type": "code",
   "execution_count": 243,
   "metadata": {},
   "outputs": [
    {
     "data": {
      "text/plain": [
       "[2, 6, -1, 12]"
      ]
     },
     "execution_count": 243,
     "metadata": {},
     "output_type": "execute_result"
    }
   ],
   "source": [
    "cum_sum([2, 4, -7, 13])"
   ]
  },
  {
   "cell_type": "markdown",
   "metadata": {
    "tags": []
   },
   "source": [
    "### Coin Flips\n",
    "\n",
    "If $n$ fair coins are tossed, the probability $p$ that $k$ heads appear ($0 \\le k \\le n$) is\n",
    "$$ p = \\dfrac{\\binom{n}{k}}{2^n} $$\n",
    "\n",
    "where the *binomial coefficient* $\\binom nk$ equals\n",
    "$$\\binom nk = \\frac{n!}{k!(n-k)!}. $$\n",
    "\n",
    "Write a function **`prob_heads(ncoins, nheads)`** that computes this probability. Assume that `ncoins` is a positive integer and that `nheads` is less than or equal to `ncoins`. (*Hint:* Call `math.factorial()`.)\n",
    "\n",
    "Example:  \n",
    "`prob_heads(7, 2)` returns `0.164063`.<br>\n",
    "`prob_heads(6, 0)` returns `0.015625`.<br>\n",
    "\n",
    "What is the sum of `prob_heads(20, k)` for all `k` from 0 to 20? Why?"
   ]
  },
  {
   "cell_type": "code",
   "execution_count": 245,
   "metadata": {},
   "outputs": [],
   "source": [
    "def prob_heads(ncoins, nheads):\n",
    "    facto = math.factorial(ncoins) / (math.factorial(nheads) * math.factorial(ncoins - nheads))\n",
    "    proba = facto / (2 ** ncoins)\n",
    "    return proba"
   ]
  },
  {
   "cell_type": "code",
   "execution_count": 246,
   "metadata": {},
   "outputs": [
    {
     "data": {
      "text/plain": [
       "0.1640625"
      ]
     },
     "execution_count": 246,
     "metadata": {},
     "output_type": "execute_result"
    }
   ],
   "source": [
    "prob_heads(7, 2)"
   ]
  },
  {
   "cell_type": "code",
   "execution_count": 247,
   "metadata": {},
   "outputs": [
    {
     "data": {
      "text/plain": [
       "0.015625"
      ]
     },
     "execution_count": 247,
     "metadata": {},
     "output_type": "execute_result"
    }
   ],
   "source": [
    "prob_heads(6, 0)"
   ]
  },
  {
   "cell_type": "markdown",
   "metadata": {},
   "source": [
    "### A Sequence of Numbers\n",
    "The sequence below begins with the number 1. The next terms are found by adding 2, then adding 3, then adding 4, etc.\n",
    "\n",
    "```\n",
    "1, 3, 6, 10, 15, ...\n",
    "```\n",
    "Write a function **`seq_incr(n)`** that returns a list of the first `n` terms of this sequence. **Use a loop** or list comprehension. You may assume that `n` is a positive integer."
   ]
  },
  {
   "cell_type": "code",
   "execution_count": 249,
   "metadata": {},
   "outputs": [],
   "source": [
    "def seq_incr(n):\n",
    "    seq = []\n",
    "    current_val = 1\n",
    "    incr = 2\n",
    "    seq.append(current_val)\n",
    "    \n",
    "    for i in range(1, n):\n",
    "        current_val += incr\n",
    "        seq.append(current_val)\n",
    "        incr += 1\n",
    "        \n",
    "    return seq"
   ]
  },
  {
   "cell_type": "code",
   "execution_count": 250,
   "metadata": {},
   "outputs": [
    {
     "data": {
      "text/plain": [
       "[1, 3, 6, 10, 15, 21]"
      ]
     },
     "execution_count": 250,
     "metadata": {},
     "output_type": "execute_result"
    }
   ],
   "source": [
    "seq_incr(6)"
   ]
  },
  {
   "cell_type": "markdown",
   "metadata": {},
   "source": [
    "### Odd Number Triangle\n",
    "Write a function **`odd_triangle(nrows)`** that displays a triangle of odd numbers for `nrows` rows, as shown below for `nrows = 5`. In each row, each odd number is followed by a single space character. Each line ends with a newline character. \n",
    "\n",
    "Note that `print()` automatically inserts a newline character if the parameter `end=` is not used. Alternatively printing the character `'\\n'` produces a new line.\n",
    "```\n",
    "1 \n",
    "3 3 \n",
    "5 5 5 \n",
    "7 7 7 7 \n",
    "9 9 9 9 9\n",
    "```"
   ]
  },
  {
   "cell_type": "code",
   "execution_count": 252,
   "metadata": {},
   "outputs": [],
   "source": [
    "def odd_triangle(nrows):\n",
    "    current = 1\n",
    "    \n",
    "    for i in range(1, nrows + 1):\n",
    "        for num in range(i):\n",
    "            print(current, end=\" \")\n",
    "        print() \n",
    "        current += 2  "
   ]
  },
  {
   "cell_type": "code",
   "execution_count": 253,
   "metadata": {},
   "outputs": [
    {
     "name": "stdout",
     "output_type": "stream",
     "text": [
      "1 \n",
      "3 3 \n",
      "5 5 5 \n",
      "7 7 7 7 \n",
      "9 9 9 9 9 \n"
     ]
    }
   ],
   "source": [
    "odd_triangle(5)"
   ]
  },
  {
   "cell_type": "markdown",
   "metadata": {},
   "source": [
    "### Number Triangle\n",
    "Write a function **`num_triangle(nrows)`** that displays a triangle of numbers for `nrows` rows, as shown below for `nrows = 5`. In each row, each number is followed by a single space character. Each line ends with a newline character.\n",
    "```\n",
    "1\n",
    "2 3\n",
    "4 5 6\n",
    "7 8 9 10\n",
    "11 12 13 14 15\n",
    "```"
   ]
  },
  {
   "cell_type": "code",
   "execution_count": 255,
   "metadata": {},
   "outputs": [],
   "source": [
    "def num_triangle(nrows):\n",
    "    current = 1\n",
    "    for row in range(1, nrows + 1):\n",
    "        for i in range (row):\n",
    "            print(current, end=' ')\n",
    "            current += 1\n",
    "        print()"
   ]
  },
  {
   "cell_type": "code",
   "execution_count": 256,
   "metadata": {},
   "outputs": [
    {
     "name": "stdout",
     "output_type": "stream",
     "text": [
      "1 \n",
      "2 3 \n",
      "4 5 6 \n",
      "7 8 9 10 \n",
      "11 12 13 14 15 \n"
     ]
    }
   ],
   "source": [
    "num_triangle(5)"
   ]
  },
  {
   "cell_type": "markdown",
   "metadata": {},
   "source": [
    "___\n",
    "\n",
    "# Extra Problems\n",
    "Work on these problems after you complete the previous problems."
   ]
  },
  {
   "cell_type": "markdown",
   "metadata": {
    "tags": []
   },
   "source": [
    "### Divisibility by 11\n",
    "To determine whether a number $n$ is divisible by $11$ (without a calculator), one can alternately subtract and add the digits of $n$ and if the result is a multiple of $11$, then so is $n$. For example, $23573$ and $150898$ are divisible by $11$ because $2-3+5-7+3 = 0$ and $1-5+0-8+9-8 = -11$.\n",
    "\n",
    "Write a function **`div_by_11(n)`** that **uses this method** to determine if `n` is divisible by $11$, returning `True` or `False`. Assume that `n` is an `int`. (*Hint:* You may convert the number to string format.)"
   ]
  },
  {
   "cell_type": "code",
   "execution_count": null,
   "metadata": {},
   "outputs": [],
   "source": []
  }
 ],
 "metadata": {
  "kernelspec": {
   "display_name": "Python 3 (ipykernel)",
   "language": "python",
   "name": "python3"
  },
  "language_info": {
   "codemirror_mode": {
    "name": "ipython",
    "version": 3
   },
   "file_extension": ".py",
   "mimetype": "text/x-python",
   "name": "python",
   "nbconvert_exporter": "python",
   "pygments_lexer": "ipython3",
   "version": "3.12.4"
  }
 },
 "nbformat": 4,
 "nbformat_minor": 4
}
