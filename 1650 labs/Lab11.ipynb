{
 "cells": [
  {
   "cell_type": "markdown",
   "metadata": {},
   "source": [
    "# Lab 11"
   ]
  },
  {
   "cell_type": "markdown",
   "metadata": {
    "tags": []
   },
   "source": [
    "### Enter the Lab11 password as a string"
   ]
  },
  {
   "cell_type": "code",
   "execution_count": 2,
   "metadata": {},
   "outputs": [],
   "source": [
    "password = 'gobble'"
   ]
  },
  {
   "cell_type": "code",
   "execution_count": 39,
   "metadata": {},
   "outputs": [],
   "source": [
    "import numpy as np"
   ]
  },
  {
   "cell_type": "markdown",
   "metadata": {},
   "source": [
    "___"
   ]
  },
  {
   "cell_type": "markdown",
   "metadata": {
    "tags": []
   },
   "source": [
    "**Important**: If you create several versions of a class, only the **last** defined class will be graded by the autograder. When you make modifications to a class, any previously created objects need to be **recreated**.\n",
    "\n",
    "___"
   ]
  },
  {
   "cell_type": "markdown",
   "metadata": {},
   "source": [
    "### Polynomials"
   ]
  },
  {
   "cell_type": "markdown",
   "metadata": {},
   "source": [
    "A polynomial $P(x)$ can be represented by an array of coefficients in *increasing* degree order.\n",
    "For example, the polynomial $P(x) = 8-6x+x^2$ can be represented by `array([8, -6, 1])`. Representations for other polynomials are shown below.\n",
    "\n",
    "| &nbsp; &nbsp; &nbsp; Polynomial &nbsp; &nbsp; &nbsp;|Representation|  \n",
    "|:---------:|:--:|\n",
    "|$8 - 6x + x^2$|`array([8, -6, 1])`|\n",
    "|$8 + x^2$|`array([8, 0, 1])`|\n",
    "|$- 6x + x^2$|`array([0, -6, 1])`|\n",
    "|$8$|`array([8])`|\n"
   ]
  },
  {
   "cell_type": "markdown",
   "metadata": {},
   "source": [
    "**Create a `class` called `Polynomial`.** Each `Polynomial` will contain the following attributes:\n",
    "* `coeffs`: the polynomial coefficients in array format\n",
    "* `degree`: the degree of the polynomial\n",
    "\n",
    "The `__init__()` method takes the polynomial coefficients (in list or array format) as input and stores them in array format. The degree of the polynomial can be determined by the number of coefficients.\n",
    "\n",
    "Examples:\n",
    "\n",
    "\n",
    "```\n",
    "poly = Polynomial([8, -6, 1])\n",
    "poly.coeffs\n",
    "```\n",
    "returns `array([8, -6, 1])`.\n",
    "```\n",
    "poly.degree\n",
    "```\n",
    "returns `2`."
   ]
  },
  {
   "cell_type": "code",
   "execution_count": 41,
   "metadata": {},
   "outputs": [],
   "source": [
    "class Polynomial:\n",
    "\n",
    "    def __init__(self, coeffs):\n",
    "        self.coeffs = np.array(coeffs)\n",
    "        self.degree = len(coeffs) - 1"
   ]
  },
  {
   "cell_type": "code",
   "execution_count": 45,
   "metadata": {},
   "outputs": [
    {
     "data": {
      "text/plain": [
       "array([ 8, -6,  1])"
      ]
     },
     "execution_count": 45,
     "metadata": {},
     "output_type": "execute_result"
    }
   ],
   "source": [
    "poly = Polynomial([8, -6, 1])\n",
    "poly.coeffs"
   ]
  },
  {
   "cell_type": "code",
   "execution_count": 47,
   "metadata": {},
   "outputs": [
    {
     "data": {
      "text/plain": [
       "2"
      ]
     },
     "execution_count": 47,
     "metadata": {},
     "output_type": "execute_result"
    }
   ],
   "source": [
    "poly.degree"
   ]
  },
  {
   "cell_type": "markdown",
   "metadata": {},
   "source": [
    "**Create the following `Polynomial` methods**:\n",
    "* **`mul_scalar(scalar)`** multiplies $P(x)$ by a constant and returns a new `Polynomial` corresponding to the result.\n",
    "* **`eval(x)`** evaluates the polynomial $P$ for a given value of $x$ and returns a numerical value.\n",
    "* **`__call__(x)`** is a built-in method that allows the use of the `P(x)` syntax when `P` is a `Polynomial`. It returns the same result as `eval(x)`.\n",
    "\n",
    "Examples: Given\n",
    "```\n",
    "poly1 = Polynomial([8, -6, 1])\n",
    "poly2 = poly1.mul_scalar(-2)\n",
    "```\n",
    "then\n",
    "\n",
    "`vars(poly2)` returns `{'coeffs': array([-16,  12,  -2]), 'degree': 2}`.<br>\n",
    "`poly1.eval(-1)` returns `15`.<br>\n",
    "`poly1(-1)` returns `15`."
   ]
  },
  {
   "cell_type": "code",
   "execution_count": 95,
   "metadata": {},
   "outputs": [],
   "source": [
    "class Polynomial(Polynomial):\n",
    "\n",
    "    def mul_scalar(self, scalar):\n",
    "        return Polynomial(self.coeffs * scalar)\n",
    "\n",
    "    def eval(self, x):\n",
    "        return self.coeffs[0] * x**2 + self.coeffs[1] * x + self.coeffs[2]\n",
    "\n",
    "    def __call__(self, x):\n",
    "        return self.eval(x)"
   ]
  },
  {
   "cell_type": "code",
   "execution_count": 97,
   "metadata": {},
   "outputs": [],
   "source": [
    "poly1 = Polynomial([8, -6, 1])\n",
    "poly2 = poly1.mul_scalar(-2)"
   ]
  },
  {
   "cell_type": "code",
   "execution_count": 99,
   "metadata": {},
   "outputs": [
    {
     "data": {
      "text/plain": [
       "{'coeffs': array([-16,  12,  -2]), 'degree': 2}"
      ]
     },
     "execution_count": 99,
     "metadata": {},
     "output_type": "execute_result"
    }
   ],
   "source": [
    "vars(poly2)"
   ]
  },
  {
   "cell_type": "code",
   "execution_count": 356,
   "metadata": {},
   "outputs": [
    {
     "data": {
      "text/plain": [
       "122265"
      ]
     },
     "execution_count": 356,
     "metadata": {},
     "output_type": "execute_result"
    }
   ],
   "source": [
    "poly1.eval(124)"
   ]
  },
  {
   "cell_type": "code",
   "execution_count": 358,
   "metadata": {},
   "outputs": [
    {
     "data": {
      "text/plain": [
       "122265"
      ]
     },
     "execution_count": 358,
     "metadata": {},
     "output_type": "execute_result"
    }
   ],
   "source": [
    "poly1(124)"
   ]
  },
  {
   "cell_type": "markdown",
   "metadata": {},
   "source": [
    "**Create the following `Polynomial` methods**:\n",
    "\n",
    "* **`deriv()`** returns the derivative of $P(x)$ as a Polynomial.\n",
    "* **`antideriv()`** returns the antiderivative of $P(x)$ as a Polynomial. Use 0 as the arbitrary constant.\n",
    "\n",
    "Examples:<br>\n",
    "The derivative of $8-6x+x^2$ is $-6+2x$ and the antiderivative is $8x-3x^2+\\frac{1}{3}x^3$.<br>\n",
    "The derivative of $8$ is $0$.\n",
    "```\n",
    "poly1 = Polynomial([8, -6, 1])\n",
    "poly2 = Polynomial([8])\n",
    "```\n",
    "\n",
    "`vars(poly1.deriv())` returns `{'coeffs': array([-6,  2]), 'degree': 1}`.<br>\n",
    "`vars(poly1.antideriv())`returns `{'coeffs': array([0., 8., -3., 0.333333]), 'degree': 3}`.\n",
    "\n",
    "`vars(poly2.deriv())` returns `{'coeffs': array([0]), 'degree': 0}`.\n"
   ]
  },
  {
   "cell_type": "code",
   "execution_count": 331,
   "metadata": {},
   "outputs": [],
   "source": [
    "class Polynomial(Polynomial):\n",
    "\n",
    "    def deriv(self):\n",
    "        if self.degree == 0:\n",
    "            return Polynomial([0])\n",
    "        new_coeffs = np.array([i * c for i, c in enumerate(self.coeffs)][1:])\n",
    "        return Polynomial(new_coeffs)\n",
    "\n",
    "    def antideriv(self):\n",
    "        new_coeffs = [0] + [self.coeffs[i] / (i + 1) for i in range(len(self.coeffs))]\n",
    "        return Polynomial(new_coeffs)"
   ]
  },
  {
   "cell_type": "code",
   "execution_count": 333,
   "metadata": {},
   "outputs": [],
   "source": [
    "poly1 = Polynomial([8, -6, 1])\n",
    "poly2 = Polynomial([8])"
   ]
  },
  {
   "cell_type": "code",
   "execution_count": 335,
   "metadata": {},
   "outputs": [
    {
     "data": {
      "text/plain": [
       "<__main__.Polynomial at 0x13a577530>"
      ]
     },
     "execution_count": 335,
     "metadata": {},
     "output_type": "execute_result"
    }
   ],
   "source": [
    "poly1.deriv()"
   ]
  },
  {
   "cell_type": "code",
   "execution_count": 337,
   "metadata": {},
   "outputs": [
    {
     "data": {
      "text/plain": [
       "{'coeffs': array([ 0.        ,  8.        , -3.        ,  0.33333333]),\n",
       " 'degree': 3}"
      ]
     },
     "execution_count": 337,
     "metadata": {},
     "output_type": "execute_result"
    }
   ],
   "source": [
    "vars(poly1.antideriv())"
   ]
  },
  {
   "cell_type": "code",
   "execution_count": 341,
   "metadata": {},
   "outputs": [
    {
     "data": {
      "text/plain": [
       "{'coeffs': array([0]), 'degree': 0}"
      ]
     },
     "execution_count": 341,
     "metadata": {},
     "output_type": "execute_result"
    }
   ],
   "source": [
    "vars(poly2.deriv())"
   ]
  },
  {
   "cell_type": "code",
   "execution_count": 343,
   "metadata": {},
   "outputs": [
    {
     "data": {
      "text/plain": [
       "{'coeffs': array([8]), 'degree': 0}"
      ]
     },
     "execution_count": 343,
     "metadata": {},
     "output_type": "execute_result"
    }
   ],
   "source": [
    "vars(poly2)"
   ]
  },
  {
   "cell_type": "markdown",
   "metadata": {
    "tags": []
   },
   "source": [
    "**Create the following `Polynomial` methods**:\n",
    "\n",
    "* **`add(poly)`** adds $P(x)$ to another polynomial (possibly of different degree) and returns the sum as a new Polynomial.\n",
    "* **`__add__(poly)`** is a built-in method that returns the same result as `add()`. It allows the use of the `+` symbol.\n",
    "* **`sub(poly)`** subtracts another polynomial (possibly of different degree) from $P(x)$ and returns the difference as a Polynomial. (*Hint*: use `mul_scalar`.)\n",
    "* **`__sub__(poly)`** is a built-in method that returns the same result as `sub()`. It allows the use of the `-` symbol.\n",
    "\n",
    "Examples:\n",
    "```\n",
    "poly1 = Polynomial([8, -6, 1])\n",
    "poly2 = Polynomial([2, -3, 0, 2])\n",
    "```\n",
    "`poly1.add(poly2).coeffs` returns `array([10., -9., 1., 2.])`.<br>\n",
    "`(poly2 + poly1).coeffs` returns `array([10., -9., 1., 2.])`.<br>\n",
    "`(poly1 - poly2).coeffs` returns `array([6., -3., 1., -2.])`."
   ]
  },
  {
   "cell_type": "code",
   "execution_count": 347,
   "metadata": {},
   "outputs": [],
   "source": [
    "class Polynomial(Polynomial):\n",
    "    def add(self, poly):\n",
    "        max_degree = max(self.degree, poly.degree)\n",
    "        new_coeffs = np.zeros(max_degree + 1)\n",
    "\n",
    "        for i, c in enumerate(self.coeffs):\n",
    "            new_coeffs[i] += c\n",
    "\n",
    "        for i, c in enumerate(poly.coeffs):\n",
    "            new_coeffs[i] += c\n",
    "\n",
    "        return Polynomial(new_coeffs)\n",
    "\n",
    "    def __add__(self, poly):\n",
    "        return self.add(poly)\n",
    "\n",
    "    def sub(self, poly):\n",
    "        return self.add(poly.mul_scalar(-1))\n",
    "\n",
    "    def __sub__(self, poly):\n",
    "        return self.sub(poly)"
   ]
  },
  {
   "cell_type": "markdown",
   "metadata": {},
   "source": [
    "___\n",
    "\n",
    "# Extra Problems\n",
    "Work on these problems after completing the previous exercises."
   ]
  },
  {
   "cell_type": "markdown",
   "metadata": {},
   "source": [
    "### Printing an Object\n",
    "The **`__repr__()`** built-in method returns a string representation of a Python object. It is called by `print()` and is displayed as the output of a Jupyter cell.\n",
    "\n",
    "Create a `Polynomial` **`__repr__()`** method. It should return a string representation of the polynomial. There are many possibilities for a polynomial like $-8+x-x^3$.\n",
    "```\n",
    "print(Polynomial([-8, 1, 0, -1]))\n",
    "```\n",
    "* Simplest Option - display the coefficients separated by commas: `'-8, 1, 0, -1'` (`int` or `float` format is acceptable)\n",
    "* Better Option - display the terms separated by commas: `'-8, 1x^1, 0x^2, -1x^3'`\n",
    "* Even Better Option - skip zero $x$ terms, omit exponents equal to $1$, and omit coefficients equal to $1$ preceding $x$ terms: `'-8, x, -x^3'`\n",
    "\n",
    "Check special cases like $0$, $1$, other constant polynomials, and polynomials with zero terms (ex: $x^2$)"
   ]
  },
  {
   "cell_type": "code",
   "execution_count": null,
   "metadata": {},
   "outputs": [],
   "source": []
  }
 ],
 "metadata": {
  "kernelspec": {
   "display_name": "Python 3 (ipykernel)",
   "language": "python",
   "name": "python3"
  },
  "language_info": {
   "codemirror_mode": {
    "name": "ipython",
    "version": 3
   },
   "file_extension": ".py",
   "mimetype": "text/x-python",
   "name": "python",
   "nbconvert_exporter": "python",
   "pygments_lexer": "ipython3",
   "version": "3.12.4"
  }
 },
 "nbformat": 4,
 "nbformat_minor": 4
}
