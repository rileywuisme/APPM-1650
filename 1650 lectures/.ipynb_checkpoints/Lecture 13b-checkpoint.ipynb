{
 "cells": [
  {
   "cell_type": "markdown",
   "id": "680c3660-ce00-48b4-ae77-fd1e64c1be1f",
   "metadata": {},
   "source": [
    "### Lecture 13b"
   ]
  },
  {
   "cell_type": "code",
   "execution_count": 6,
   "id": "6398cb86-0e46-4a9e-adb0-557ddac68dd3",
   "metadata": {},
   "outputs": [],
   "source": [
    "import numpy as np"
   ]
  },
  {
   "cell_type": "markdown",
   "id": "cd73737b-478a-4182-83eb-6a23a5d4140a",
   "metadata": {},
   "source": [
    "### Exception handling  \n",
    "Error checking  \n",
    "`assert` statement"
   ]
  },
  {
   "cell_type": "code",
   "execution_count": 54,
   "id": "f952442e-c86f-4b29-9fa7-9e86a4848b3a",
   "metadata": {},
   "outputs": [],
   "source": [
    "def reciprocal(nums):\n",
    "    '''Return a list of the reciprocals of the numbers in the list nums'''\n",
    "    assert isinstance(nums, list), 'Input must be a list of numbers'\n",
    "    result = []\n",
    "    \n",
    "    for n in nums:\n",
    "        assert isinstance(n, (int, float)), 'List elements must be number'\n",
    "        assert n != 0, 'List elements must be nonzero'\n",
    "        result.append(1/n)\n",
    "        \n",
    "    return result"
   ]
  },
  {
   "cell_type": "code",
   "execution_count": 56,
   "id": "e9cc5ee6-a8c3-40fc-acc2-6b0fad6457e7",
   "metadata": {},
   "outputs": [
    {
     "data": {
      "text/plain": [
       "[1.0, 0.5, 0.3333333333333333]"
      ]
     },
     "execution_count": 56,
     "metadata": {},
     "output_type": "execute_result"
    }
   ],
   "source": [
    "reciprocal([1, 2, 3])"
   ]
  },
  {
   "cell_type": "markdown",
   "id": "bde63025-3907-49ce-9394-b6bb77dad195",
   "metadata": {},
   "source": [
    "### Try Except"
   ]
  },
  {
   "cell_type": "code",
   "execution_count": 73,
   "id": "d50a3af4-2c85-4355-90b0-861bb664febd",
   "metadata": {},
   "outputs": [],
   "source": [
    "def reciprocal(nums):\n",
    "    try: \n",
    "        return [1/n for n in nums]\n",
    "\n",
    "    except:\n",
    "        print('ERROR: Input must be a list of nonzero numbers')\n",
    "        return []"
   ]
  },
  {
   "cell_type": "code",
   "execution_count": 77,
   "id": "9db49651-b146-43fc-899e-e15645206b1f",
   "metadata": {},
   "outputs": [
    {
     "name": "stdout",
     "output_type": "stream",
     "text": [
      "ERROR: Input must be a list of numbers\n"
     ]
    },
    {
     "data": {
      "text/plain": [
       "[]"
      ]
     },
     "execution_count": 77,
     "metadata": {},
     "output_type": "execute_result"
    }
   ],
   "source": [
    "reciprocal([1, 2, 'a'])"
   ]
  },
  {
   "cell_type": "code",
   "execution_count": 75,
   "id": "1d394e68-aad3-4546-8f78-3c2107069aad",
   "metadata": {},
   "outputs": [],
   "source": [
    "def reciprocal(nums):\n",
    "    try: \n",
    "        return [1/n for n in nums]\n",
    "\n",
    "    except TypeError:\n",
    "        print('ERROR: Input must be a list of numbers')\n",
    "        return []\n",
    "        \n",
    "    except ZeroDivisionError:\n",
    "        print('ERROR: List elements must be nonzero')\n",
    "        return []"
   ]
  },
  {
   "cell_type": "markdown",
   "id": "89e3b405-b038-46c2-993b-342e7e3308a2",
   "metadata": {},
   "source": [
    "In what situation will I use this and not the built in error message?"
   ]
  },
  {
   "cell_type": "markdown",
   "id": "2f930952-2826-454c-b7eb-9f0aed4030ed",
   "metadata": {},
   "source": [
    "### Fraction class\n",
    "Represent $a/b$ with integers $a$ and $b$, $b\\neq 0$. Default denominator is 1. "
   ]
  },
  {
   "cell_type": "code",
   "execution_count": 136,
   "id": "bb4b8842-40bb-46cb-acf4-c3887574c5f9",
   "metadata": {},
   "outputs": [],
   "source": [
    "class Fraction:\n",
    "    '''Each fraction will be stored using num and demon attributes'''\n",
    "    def __init__(self, top, bottom=1):\n",
    "        self.num = top if bottom > 0 else -top\n",
    "        self.denom = abs(bottom)\n",
    "\n",
    "    def __repr__(self): # Representation, what I want to show on the screen when I just enter frac\n",
    "        return f'{self.num}/{self.denom}'"
   ]
  },
  {
   "cell_type": "code",
   "execution_count": 109,
   "id": "15c77f0b-54c1-4ddc-b561-c98603369911",
   "metadata": {},
   "outputs": [
    {
     "data": {
      "text/plain": [
       "{'num': 3, 'denom': 5}"
      ]
     },
     "execution_count": 109,
     "metadata": {},
     "output_type": "execute_result"
    }
   ],
   "source": [
    "frac = Fraction(3, 5)\n",
    "vars(frac)"
   ]
  },
  {
   "cell_type": "code",
   "execution_count": 111,
   "id": "98c2788a-f229-441e-bfda-de8cbfe69ab5",
   "metadata": {},
   "outputs": [
    {
     "data": {
      "text/plain": [
       "3/5"
      ]
     },
     "execution_count": 111,
     "metadata": {},
     "output_type": "execute_result"
    }
   ],
   "source": [
    "frac"
   ]
  },
  {
   "cell_type": "code",
   "execution_count": 113,
   "id": "8ca360ea-da67-45ff-ab73-13cec3c2274b",
   "metadata": {},
   "outputs": [
    {
     "data": {
      "text/plain": [
       "__main__.Fraction"
      ]
     },
     "execution_count": 113,
     "metadata": {},
     "output_type": "execute_result"
    }
   ],
   "source": [
    "type(frac)"
   ]
  },
  {
   "cell_type": "code",
   "execution_count": 117,
   "id": "f6505021-b705-4ba8-83bb-c0fc2ef8bbf9",
   "metadata": {},
   "outputs": [
    {
     "data": {
      "text/plain": [
       "True"
      ]
     },
     "execution_count": 117,
     "metadata": {},
     "output_type": "execute_result"
    }
   ],
   "source": [
    "isinstance(frac, Fraction)"
   ]
  },
  {
   "cell_type": "code",
   "execution_count": 123,
   "id": "8344cafd-a315-488a-bfde-2c18a4714d73",
   "metadata": {},
   "outputs": [
    {
     "data": {
      "text/plain": [
       "5/1"
      ]
     },
     "execution_count": 123,
     "metadata": {},
     "output_type": "execute_result"
    }
   ],
   "source": [
    "Fraction(5)"
   ]
  },
  {
   "cell_type": "code",
   "execution_count": 129,
   "id": "67c384f6-9d0c-4d8e-8f94-4c17d103a2a9",
   "metadata": {},
   "outputs": [
    {
     "data": {
      "text/plain": [
       "-5/2"
      ]
     },
     "execution_count": 129,
     "metadata": {},
     "output_type": "execute_result"
    }
   ],
   "source": [
    "Fraction(5, -2)"
   ]
  },
  {
   "cell_type": "markdown",
   "id": "b9d62c03-f060-41c4-bc88-d76eed9f0c92",
   "metadata": {},
   "source": [
    "### Create a subclass called UnitFraction"
   ]
  },
  {
   "cell_type": "code",
   "execution_count": 228,
   "id": "fe1f3a67-7047-4ef2-975b-1e1917caebca",
   "metadata": {},
   "outputs": [],
   "source": [
    "class UnitFraction(Fraction):\n",
    "    '''Numerator of fraction equals 1'''\n",
    "\n",
    "    def __init__(self, bottom):\n",
    "        Fraction.__init__(self, 1, bottom)"
   ]
  },
  {
   "cell_type": "code",
   "execution_count": 148,
   "id": "ef4ad600-d0b4-478c-8f93-762a2333e399",
   "metadata": {},
   "outputs": [
    {
     "data": {
      "text/plain": [
       "1/5"
      ]
     },
     "execution_count": 148,
     "metadata": {},
     "output_type": "execute_result"
    }
   ],
   "source": [
    "ufrac = UnitFraction(5)\n",
    "ufrac"
   ]
  },
  {
   "cell_type": "code",
   "execution_count": 152,
   "id": "0025a8eb-c03b-48ca-b5c1-d0e09a0d88ce",
   "metadata": {},
   "outputs": [
    {
     "data": {
      "text/plain": [
       "__main__.UnitFraction"
      ]
     },
     "execution_count": 152,
     "metadata": {},
     "output_type": "execute_result"
    }
   ],
   "source": [
    "type(ufrac)"
   ]
  },
  {
   "cell_type": "code",
   "execution_count": 154,
   "id": "8c1c16b8-834c-457a-95e4-c82cb07d5649",
   "metadata": {},
   "outputs": [
    {
     "data": {
      "text/plain": [
       "False"
      ]
     },
     "execution_count": 154,
     "metadata": {},
     "output_type": "execute_result"
    }
   ],
   "source": [
    "type(ufrac) is Fraction"
   ]
  },
  {
   "cell_type": "code",
   "execution_count": 156,
   "id": "7ccfd6cf-309f-4688-8c90-3d5ab78494c4",
   "metadata": {},
   "outputs": [
    {
     "data": {
      "text/plain": [
       "True"
      ]
     },
     "execution_count": 156,
     "metadata": {},
     "output_type": "execute_result"
    }
   ],
   "source": [
    "isinstance(ufrac, Fraction) # this is preferred over tyupe()"
   ]
  },
  {
   "cell_type": "code",
   "execution_count": 158,
   "id": "5acb2d9b-3110-4c0c-a031-ed73247ab3a5",
   "metadata": {},
   "outputs": [
    {
     "data": {
      "text/plain": [
       "12/15"
      ]
     },
     "execution_count": 158,
     "metadata": {},
     "output_type": "execute_result"
    }
   ],
   "source": [
    "Fraction(12, 15)"
   ]
  },
  {
   "cell_type": "code",
   "execution_count": 191,
   "id": "4be48e92-5714-4080-a5b8-012f15e8d682",
   "metadata": {},
   "outputs": [],
   "source": [
    "def gcd(m, n):\n",
    "    '''Euclidean algorithm (recursive) for finding the greatest common divisor'''\n",
    "    if n == 0:\n",
    "        return m\n",
    "    else:\n",
    "        return gcd(n, m%n)"
   ]
  },
  {
   "cell_type": "code",
   "execution_count": 169,
   "id": "0c2fd19a-62e7-4c10-8d72-d0b22f8ad68c",
   "metadata": {},
   "outputs": [
    {
     "data": {
      "text/plain": [
       "1"
      ]
     },
     "execution_count": 169,
     "metadata": {},
     "output_type": "execute_result"
    }
   ],
   "source": [
    "gcd(2, 1)"
   ]
  },
  {
   "cell_type": "markdown",
   "id": "cbde6c1b-8ae3-40b4-839d-0b5b599bfa97",
   "metadata": {},
   "source": [
    "Add methods:\n",
    "* `is_reduced()`: return `True` if Fraction already in simplest form\n",
    "* `reduce()`: modify a Fraction, reducing to simplest form, then return the new fraction"
   ]
  },
  {
   "cell_type": "code",
   "execution_count": 307,
   "id": "4ce9d936-5fc8-4602-ae19-465b26ba1a9c",
   "metadata": {},
   "outputs": [],
   "source": [
    "class Fraction(Fraction): # Why not UnitFraction(UnitFraction)? \n",
    "    \n",
    "    def is_reduced(self):\n",
    "        return gcd(self.num, self.denom) == 1\n",
    "\n",
    "    def reduce(self):\n",
    "        divisor = gcd(self.num, self.denom)\n",
    "        return Fraction(int(self.num / divisor), int(self.denom / divisor))"
   ]
  },
  {
   "cell_type": "code",
   "execution_count": 282,
   "id": "d65db1ed-392e-4515-b984-ecfdf4d441e3",
   "metadata": {},
   "outputs": [
    {
     "data": {
      "text/plain": [
       "False"
      ]
     },
     "execution_count": 282,
     "metadata": {},
     "output_type": "execute_result"
    }
   ],
   "source": [
    "Fraction(12, 18).is_reduced()"
   ]
  },
  {
   "cell_type": "code",
   "execution_count": 284,
   "id": "fffe6d11-45f8-4fd6-8343-01b58e57cafc",
   "metadata": {},
   "outputs": [
    {
     "data": {
      "text/plain": [
       "0.6666666666666666"
      ]
     },
     "execution_count": 284,
     "metadata": {},
     "output_type": "execute_result"
    }
   ],
   "source": [
    "frac = Fraction(12, 18)\n",
    "frac.reduce()"
   ]
  },
  {
   "cell_type": "markdown",
   "id": "002d61b2-ffef-454a-a661-71f60b3b36c2",
   "metadata": {},
   "source": [
    "Add methods:\n",
    "* `.add()`, `__add__()`: add two Fractions, return the result in simplest form"
   ]
  },
  {
   "cell_type": "code",
   "execution_count": 309,
   "id": "40554bd7-c8c4-4146-b560-261e87e59aec",
   "metadata": {},
   "outputs": [],
   "source": [
    "class Fraction(Fraction):\n",
    "\n",
    "    def add(self, frac):\n",
    "        new_denom = self.denom * frac.denom\n",
    "        new_num = self.num * frac.denom + self.denom * frac.num\n",
    "\n",
    "        return Fraction(new_num, new_denom).reduce()\n",
    "\n",
    "    def __add__(self, frac):\n",
    "        return self.add(frac)"
   ]
  },
  {
   "cell_type": "code",
   "execution_count": 313,
   "id": "5310a036-2abf-49f3-bdf6-ecc02a7820ae",
   "metadata": {},
   "outputs": [
    {
     "data": {
      "text/plain": [
       "2/1"
      ]
     },
     "execution_count": 313,
     "metadata": {},
     "output_type": "execute_result"
    }
   ],
   "source": [
    "Fraction(3, 5).add(Fraction(7, 5))"
   ]
  },
  {
   "cell_type": "code",
   "execution_count": 311,
   "id": "3d2794bb-95aa-454f-834c-c5ea5434a80c",
   "metadata": {},
   "outputs": [
    {
     "data": {
      "text/plain": [
       "2/1"
      ]
     },
     "execution_count": 311,
     "metadata": {},
     "output_type": "execute_result"
    }
   ],
   "source": [
    "Fraction(3, 5) + Fraction(7, 5)"
   ]
  },
  {
   "cell_type": "code",
   "execution_count": null,
   "id": "c125b55a-e077-4f9e-b934-b65a6c3d3a69",
   "metadata": {},
   "outputs": [],
   "source": []
  }
 ],
 "metadata": {
  "kernelspec": {
   "display_name": "Python 3 (ipykernel)",
   "language": "python",
   "name": "python3"
  },
  "language_info": {
   "codemirror_mode": {
    "name": "ipython",
    "version": 3
   },
   "file_extension": ".py",
   "mimetype": "text/x-python",
   "name": "python",
   "nbconvert_exporter": "python",
   "pygments_lexer": "ipython3",
   "version": "3.12.4"
  }
 },
 "nbformat": 4,
 "nbformat_minor": 5
}
