{
 "cells": [
  {
   "cell_type": "markdown",
   "id": "e8991814-bafd-4f37-9490-5f2a468fad17",
   "metadata": {},
   "source": [
    "### Lecture 5a"
   ]
  },
  {
   "cell_type": "markdown",
   "id": "dfdbb6b3-fb98-46f4-a04b-e178e29c7155",
   "metadata": {},
   "source": [
    "#### Copying Lists"
   ]
  },
  {
   "cell_type": "code",
   "execution_count": 4,
   "id": "d9b310a0-2e59-4911-be1c-512bbd6f3c93",
   "metadata": {},
   "outputs": [
    {
     "data": {
      "text/plain": [
       "['frog', 1, 2, 3, 4]"
      ]
     },
     "execution_count": 4,
     "metadata": {},
     "output_type": "execute_result"
    }
   ],
   "source": [
    "nums = list(range(5))\n",
    "nums[0] = 'frog'\n",
    "nums"
   ]
  },
  {
   "cell_type": "code",
   "execution_count": 6,
   "id": "d3320e28-eef8-471e-b797-7ad28d05a2d3",
   "metadata": {},
   "outputs": [
    {
     "data": {
      "text/plain": [
       "['frog', 1, 2, 3, 4]"
      ]
     },
     "execution_count": 6,
     "metadata": {},
     "output_type": "execute_result"
    }
   ],
   "source": [
    "newlist = nums\n",
    "newlist"
   ]
  },
  {
   "cell_type": "code",
   "execution_count": 10,
   "id": "7e1b07c5-a34e-4e8d-ab9f-22ee75b10fde",
   "metadata": {},
   "outputs": [
    {
     "data": {
      "text/plain": [
       "['frog', 'cow', 2, 3, 4]"
      ]
     },
     "execution_count": 10,
     "metadata": {},
     "output_type": "execute_result"
    }
   ],
   "source": [
    "nums[1] = 'cow'\n",
    "nums"
   ]
  },
  {
   "cell_type": "code",
   "execution_count": 12,
   "id": "277184f4-35f7-4bb2-a3f6-b179ab0a89fe",
   "metadata": {},
   "outputs": [
    {
     "data": {
      "text/plain": [
       "['frog', 'cow', 2, 3, 4]"
      ]
     },
     "execution_count": 12,
     "metadata": {},
     "output_type": "execute_result"
    }
   ],
   "source": [
    "newlist"
   ]
  },
  {
   "cell_type": "code",
   "execution_count": 14,
   "id": "013f7481-4854-4bf5-8a02-7f782bb2a093",
   "metadata": {},
   "outputs": [
    {
     "data": {
      "text/plain": [
       "['frog', 'cow', 2, 3, 4]"
      ]
     },
     "execution_count": 14,
     "metadata": {},
     "output_type": "execute_result"
    }
   ],
   "source": [
    "newlist = nums.copy()\n",
    "newlist"
   ]
  },
  {
   "cell_type": "code",
   "execution_count": 18,
   "id": "40c7eca7-8e9c-4259-b7d8-c8907aaaf3b2",
   "metadata": {},
   "outputs": [
    {
     "data": {
      "text/plain": [
       "['frog', 'cow', 'pig', 3, 4]"
      ]
     },
     "execution_count": 18,
     "metadata": {},
     "output_type": "execute_result"
    }
   ],
   "source": [
    "nums[2] = 'pig'\n",
    "nums"
   ]
  },
  {
   "cell_type": "code",
   "execution_count": 20,
   "id": "5196bd5a-4ac5-4c2d-b7d9-dcdb84255b2d",
   "metadata": {},
   "outputs": [
    {
     "data": {
      "text/plain": [
       "['frog', 'cow', 2, 3, 4]"
      ]
     },
     "execution_count": 20,
     "metadata": {},
     "output_type": "execute_result"
    }
   ],
   "source": [
    "newlist"
   ]
  },
  {
   "cell_type": "code",
   "execution_count": 24,
   "id": "94c49d63-36c0-4cc3-9323-ef3a72656e74",
   "metadata": {},
   "outputs": [
    {
     "data": {
      "text/plain": [
       "['frog', 'cow', 'pig', 3, 4]"
      ]
     },
     "execution_count": 24,
     "metadata": {},
     "output_type": "execute_result"
    }
   ],
   "source": [
    "nums[:] #alternate way to copy nums"
   ]
  },
  {
   "cell_type": "markdown",
   "id": "50f7961e-9dad-40fa-b9a4-e06be522ae1a",
   "metadata": {},
   "source": [
    "### Global and Local Variables"
   ]
  },
  {
   "cell_type": "code",
   "execution_count": 29,
   "id": "93f52cc5-51d2-47d5-bd8b-09d0e36ed193",
   "metadata": {},
   "outputs": [],
   "source": [
    "x = 5"
   ]
  },
  {
   "cell_type": "code",
   "execution_count": 35,
   "id": "930845a3-de79-4ff0-bc52-a43b976443be",
   "metadata": {},
   "outputs": [],
   "source": [
    "def func():\n",
    "    print (x) #do not reference gloval variable from within functions"
   ]
  },
  {
   "cell_type": "code",
   "execution_count": 33,
   "id": "a87627cc-cde6-4767-b0ca-14717ef877b1",
   "metadata": {},
   "outputs": [
    {
     "name": "stdout",
     "output_type": "stream",
     "text": [
      "5\n"
     ]
    }
   ],
   "source": [
    "func()"
   ]
  },
  {
   "cell_type": "code",
   "execution_count": 43,
   "id": "7021cc68-1448-45b0-9fd3-47be35a39880",
   "metadata": {},
   "outputs": [],
   "source": [
    "def chg(x):\n",
    "    x = 100 #a new local variable is created, does not affect global var x"
   ]
  },
  {
   "cell_type": "code",
   "execution_count": 39,
   "id": "d72054c2-95cb-4d1f-b5f4-8a45288b9623",
   "metadata": {},
   "outputs": [],
   "source": [
    "x = 5"
   ]
  },
  {
   "cell_type": "code",
   "execution_count": 41,
   "id": "993b2c72-1767-4603-aadb-aa364cfcdac4",
   "metadata": {},
   "outputs": [],
   "source": [
    "chg(x)"
   ]
  },
  {
   "cell_type": "code",
   "execution_count": 45,
   "id": "61f8adb9-b407-41cd-bcca-0662e3ebc8a8",
   "metadata": {},
   "outputs": [
    {
     "data": {
      "text/plain": [
       "5"
      ]
     },
     "execution_count": 45,
     "metadata": {},
     "output_type": "execute_result"
    }
   ],
   "source": [
    "x"
   ]
  },
  {
   "cell_type": "code",
   "execution_count": 47,
   "id": "f008a3fa-9dd5-46a4-b787-d8f07df446a8",
   "metadata": {},
   "outputs": [],
   "source": [
    "def double(n):\n",
    "    x = 2*n\n",
    "    return x"
   ]
  },
  {
   "cell_type": "code",
   "execution_count": 51,
   "id": "e3006483-36e8-44fe-ba3f-bf2831122b0a",
   "metadata": {},
   "outputs": [
    {
     "data": {
      "text/plain": [
       "10"
      ]
     },
     "execution_count": 51,
     "metadata": {},
     "output_type": "execute_result"
    }
   ],
   "source": [
    "double(x)"
   ]
  },
  {
   "cell_type": "code",
   "execution_count": 53,
   "id": "1ae45ba7-56a8-42c8-8b1d-ef05d200f58f",
   "metadata": {},
   "outputs": [
    {
     "data": {
      "text/plain": [
       "5"
      ]
     },
     "execution_count": 53,
     "metadata": {},
     "output_type": "execute_result"
    }
   ],
   "source": [
    "x "
   ]
  },
  {
   "cell_type": "code",
   "execution_count": 69,
   "id": "397b0c5d-52dd-4d64-92d4-8a0f45cd3a70",
   "metadata": {},
   "outputs": [],
   "source": [
    "def chg_list(alist):\n",
    "    alist[0] = 1000"
   ]
  },
  {
   "cell_type": "code",
   "execution_count": 57,
   "id": "38eba316-4a1f-41b4-88e6-f7533278b103",
   "metadata": {},
   "outputs": [
    {
     "data": {
      "text/plain": [
       "['frog', 'cow', 'pig', 3, 4]"
      ]
     },
     "execution_count": 57,
     "metadata": {},
     "output_type": "execute_result"
    }
   ],
   "source": [
    "nums"
   ]
  },
  {
   "cell_type": "code",
   "execution_count": 71,
   "id": "16f8de99-fb78-4ed1-89d3-e6e8a301e12b",
   "metadata": {},
   "outputs": [],
   "source": [
    "chg_list(nums)"
   ]
  },
  {
   "cell_type": "code",
   "execution_count": 73,
   "id": "70131270-db92-40eb-9d5a-30340c0619ef",
   "metadata": {},
   "outputs": [
    {
     "data": {
      "text/plain": [
       "[1000, 'cow', 'pig', 3, 4]"
      ]
     },
     "execution_count": 73,
     "metadata": {},
     "output_type": "execute_result"
    }
   ],
   "source": [
    "nums"
   ]
  },
  {
   "cell_type": "code",
   "execution_count": 85,
   "id": "208ed3e7-44e4-4ccf-b92d-33ec0db13e6a",
   "metadata": {},
   "outputs": [],
   "source": [
    "nums = list(range(5))\n",
    "newlist = nums[:]"
   ]
  },
  {
   "cell_type": "code",
   "execution_count": 87,
   "id": "e6964638-fe37-462a-8684-fb8c6025ea42",
   "metadata": {},
   "outputs": [],
   "source": [
    "chg_list(nums)"
   ]
  },
  {
   "cell_type": "code",
   "execution_count": 89,
   "id": "c60df8d3-8b12-4d9b-b23c-b090341cbd5e",
   "metadata": {},
   "outputs": [
    {
     "data": {
      "text/plain": [
       "[1000, 1, 2, 3, 4]"
      ]
     },
     "execution_count": 89,
     "metadata": {},
     "output_type": "execute_result"
    }
   ],
   "source": [
    "nums"
   ]
  },
  {
   "cell_type": "code",
   "execution_count": 91,
   "id": "1a082ed7-7788-4862-aff3-c0b35026272f",
   "metadata": {},
   "outputs": [
    {
     "data": {
      "text/plain": [
       "[0, 1, 2, 3, 4]"
      ]
     },
     "execution_count": 91,
     "metadata": {},
     "output_type": "execute_result"
    }
   ],
   "source": [
    "newlist"
   ]
  },
  {
   "cell_type": "markdown",
   "id": "f52ca103-90e3-4296-864c-cd9a2bb67c52",
   "metadata": {},
   "source": [
    "Take the square root of each number in a list. \n",
    "If the number is not positive, use 0 for the square root value"
   ]
  },
  {
   "cell_type": "code",
   "execution_count": 109,
   "id": "a1e02532-f832-4d73-98d9-6b62c31769a3",
   "metadata": {},
   "outputs": [],
   "source": [
    "def sqrt_list(nums):\n",
    "    result = []\n",
    "    for n in nums:\n",
    "        if n <= 0:\n",
    "            result.append(0)\n",
    "        else: \n",
    "            result.append(n ** 0.5)\n",
    "    return result"
   ]
  },
  {
   "cell_type": "code",
   "execution_count": 111,
   "id": "8c0ab57d-1007-4680-a279-02e832c94a8b",
   "metadata": {},
   "outputs": [
    {
     "data": {
      "text/plain": [
       "[1.4142135623730951, 0, 0, 9.0]"
      ]
     },
     "execution_count": 111,
     "metadata": {},
     "output_type": "execute_result"
    }
   ],
   "source": [
    "sqrt_list([2, -5, 0, 81])"
   ]
  },
  {
   "cell_type": "code",
   "execution_count": 115,
   "id": "ca3d6d00-2b80-47f3-b197-6325be550068",
   "metadata": {},
   "outputs": [],
   "source": [
    "#simplify\n",
    "def sqrt_list(nums):\n",
    "    \n",
    "    return [n ** 0.5 if n > 0 else 0 for n in nums]"
   ]
  },
  {
   "cell_type": "code",
   "execution_count": 117,
   "id": "4cc3fa12-9db9-4e0f-bf74-b3b486dcf08f",
   "metadata": {},
   "outputs": [
    {
     "data": {
      "text/plain": [
       "[1.4142135623730951, 0, 0, 9.0]"
      ]
     },
     "execution_count": 117,
     "metadata": {},
     "output_type": "execute_result"
    }
   ],
   "source": [
    "sqrt_list([2, -5, 0, 81])"
   ]
  },
  {
   "cell_type": "markdown",
   "id": "6ad4c0da-7c9a-410b-b3ce-0e1128d8be20",
   "metadata": {},
   "source": [
    "is_incr_list(nums) return True if the elements are in increasing order. "
   ]
  },
  {
   "cell_type": "code",
   "execution_count": 148,
   "id": "9eb49a49-ca55-4a30-bdc2-eccd63e032a6",
   "metadata": {},
   "outputs": [],
   "source": [
    "def in_incr_list(nums):\n",
    "    for index in range(0, len(nums) - 1):\n",
    "        if nums[index] >= nums[index+1]:\n",
    "            return False\n",
    "\n",
    "    return True"
   ]
  },
  {
   "cell_type": "code",
   "execution_count": 150,
   "id": "af55cc87-d46b-4b49-82a1-068d4c1e964d",
   "metadata": {},
   "outputs": [
    {
     "data": {
      "text/plain": [
       "False"
      ]
     },
     "execution_count": 150,
     "metadata": {},
     "output_type": "execute_result"
    }
   ],
   "source": [
    "in_incr_list([3, 4, 1, 9])"
   ]
  },
  {
   "cell_type": "code",
   "execution_count": 152,
   "id": "ec77ff98-bb73-4472-8216-7375a62ce086",
   "metadata": {},
   "outputs": [
    {
     "data": {
      "text/plain": [
       "True"
      ]
     },
     "execution_count": 152,
     "metadata": {},
     "output_type": "execute_result"
    }
   ],
   "source": [
    "in_incr_list([3, 4, 5, 9])"
   ]
  },
  {
   "cell_type": "markdown",
   "id": "7f1a4e1e-06f8-41aa-953f-15534122c3b8",
   "metadata": {},
   "source": [
    "### Buffs and Rams\n",
    "buff_ram_ct(['ram', 'buff', 'buff', 'trojan', 'buff'])  \n",
    "return a tuple of number of 'buff's and number of 'rams's."
   ]
  },
  {
   "cell_type": "code",
   "execution_count": null,
   "id": "39fa987b-c212-452b-8e42-ac07a5c99816",
   "metadata": {},
   "outputs": [],
   "source": [
    "def buff_ram_ct(fans):\n",
    "    "
   ]
  }
 ],
 "metadata": {
  "kernelspec": {
   "display_name": "Python 3 (ipykernel)",
   "language": "python",
   "name": "python3"
  },
  "language_info": {
   "codemirror_mode": {
    "name": "ipython",
    "version": 3
   },
   "file_extension": ".py",
   "mimetype": "text/x-python",
   "name": "python",
   "nbconvert_exporter": "python",
   "pygments_lexer": "ipython3",
   "version": "3.12.4"
  }
 },
 "nbformat": 4,
 "nbformat_minor": 5
}
