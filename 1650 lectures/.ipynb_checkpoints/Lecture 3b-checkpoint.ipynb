{
 "cells": [
  {
   "cell_type": "markdown",
   "id": "01aea44a-1306-4be5-a036-cf5b571434c5",
   "metadata": {},
   "source": [
    "### Lecture 3b"
   ]
  },
  {
   "cell_type": "code",
   "execution_count": 3,
   "id": "a737b80c-3050-480c-a7fb-4a8acbaf0502",
   "metadata": {},
   "outputs": [],
   "source": [
    "nums = [2, 4, 6, 8]"
   ]
  },
  {
   "cell_type": "code",
   "execution_count": 5,
   "id": "42a7dc18-19c2-43f2-a267-cbaf4631601d",
   "metadata": {},
   "outputs": [
    {
     "data": {
      "text/plain": [
       "[8, 6, 4, 2]"
      ]
     },
     "execution_count": 5,
     "metadata": {},
     "output_type": "execute_result"
    }
   ],
   "source": [
    "sorted(nums, reverse=True)"
   ]
  },
  {
   "cell_type": "code",
   "execution_count": 7,
   "id": "ba744a80-d1db-44f0-896f-5a8b8832a1a4",
   "metadata": {},
   "outputs": [
    {
     "data": {
      "text/plain": [
       "[2, 4, 6, 8]"
      ]
     },
     "execution_count": 7,
     "metadata": {},
     "output_type": "execute_result"
    }
   ],
   "source": [
    "nums"
   ]
  },
  {
   "cell_type": "markdown",
   "id": "33720a73-0376-4cdb-bfea-019fed894540",
   "metadata": {},
   "source": [
    "### Function default arguments and named argument"
   ]
  },
  {
   "cell_type": "markdown",
   "id": "acba4466-1b44-4608-a428-d95416eee17c",
   "metadata": {},
   "source": [
    "reduce_price(price, pct) and return the price discounted by the given pct"
   ]
  },
  {
   "cell_type": "code",
   "execution_count": 26,
   "id": "8d7eeb7a-d2db-48b3-9160-6da2681b9623",
   "metadata": {},
   "outputs": [],
   "source": [
    "def reduce_price(price, pct=10): #default value of pct is 10\n",
    "    return price - price *(pct / 100)"
   ]
  },
  {
   "cell_type": "code",
   "execution_count": 30,
   "id": "e402308f-9085-47e6-9a66-f97111763e87",
   "metadata": {},
   "outputs": [
    {
     "data": {
      "text/plain": [
       "800.0"
      ]
     },
     "execution_count": 30,
     "metadata": {},
     "output_type": "execute_result"
    }
   ],
   "source": [
    "reduce_price(1000, 20)"
   ]
  },
  {
   "cell_type": "code",
   "execution_count": 32,
   "id": "3f03db44-0576-4d2c-86e3-14d7e1bfa218",
   "metadata": {},
   "outputs": [
    {
     "data": {
      "text/plain": [
       "900.0"
      ]
     },
     "execution_count": 32,
     "metadata": {},
     "output_type": "execute_result"
    }
   ],
   "source": [
    "reduce_price(1000)"
   ]
  },
  {
   "cell_type": "code",
   "execution_count": 34,
   "id": "4c5073ad-4236-44c7-b9e3-ef4b812aaaa2",
   "metadata": {},
   "outputs": [
    {
     "data": {
      "text/plain": [
       "800.0"
      ]
     },
     "execution_count": 34,
     "metadata": {},
     "output_type": "execute_result"
    }
   ],
   "source": [
    "reduce_price(pct=20, price=1000)"
   ]
  },
  {
   "cell_type": "markdown",
   "id": "7a84fb23-6a01-4bd7-b876-dc98beae04fc",
   "metadata": {},
   "source": [
    "Updating Variables"
   ]
  },
  {
   "cell_type": "code",
   "execution_count": 37,
   "id": "d5aa51f6-ac47-4d52-a0c3-23697331956e",
   "metadata": {},
   "outputs": [],
   "source": [
    "price = 100"
   ]
  },
  {
   "cell_type": "code",
   "execution_count": 59,
   "id": "5ac7da4a-2e28-4a5a-83de-95bd5b72c544",
   "metadata": {},
   "outputs": [],
   "source": [
    "price = price + 1"
   ]
  },
  {
   "cell_type": "code",
   "execution_count": 61,
   "id": "155b4592-c3c3-4320-830d-5d113b35d1e6",
   "metadata": {},
   "outputs": [
    {
     "data": {
      "text/plain": [
       "106"
      ]
     },
     "execution_count": 61,
     "metadata": {},
     "output_type": "execute_result"
    }
   ],
   "source": [
    "price"
   ]
  },
  {
   "cell_type": "code",
   "execution_count": 63,
   "id": "456ad016-58f1-4775-af7f-f5138cd19bbd",
   "metadata": {},
   "outputs": [],
   "source": [
    "price += 1"
   ]
  },
  {
   "cell_type": "code",
   "execution_count": 71,
   "id": "84ebe0da-76aa-441c-aecb-a94fc7444ab6",
   "metadata": {},
   "outputs": [
    {
     "data": {
      "text/plain": [
       "107"
      ]
     },
     "execution_count": 71,
     "metadata": {},
     "output_type": "execute_result"
    }
   ],
   "source": [
    "price"
   ]
  },
  {
   "cell_type": "code",
   "execution_count": 73,
   "id": "96d157ba-7475-40e3-b4fc-5bb26d69ab65",
   "metadata": {},
   "outputs": [],
   "source": [
    "price *= 2"
   ]
  },
  {
   "cell_type": "code",
   "execution_count": 75,
   "id": "495f4d6d-8eb6-4625-ab8b-931a385a5d34",
   "metadata": {},
   "outputs": [
    {
     "data": {
      "text/plain": [
       "214"
      ]
     },
     "execution_count": 75,
     "metadata": {},
     "output_type": "execute_result"
    }
   ],
   "source": [
    "price"
   ]
  },
  {
   "cell_type": "markdown",
   "id": "1b4599af-b260-4093-879a-535f1137d73c",
   "metadata": {},
   "source": [
    "# Iteration with 'for' loop\n",
    "'''\n",
    "for X in XXX:\n",
    "    do something\n",
    "'''"
   ]
  },
  {
   "cell_type": "code",
   "execution_count": 83,
   "id": "c37475c0-3598-485b-8ad6-12248f4e0569",
   "metadata": {},
   "outputs": [],
   "source": [
    "tix = [13, 9, 11, 13]"
   ]
  },
  {
   "cell_type": "code",
   "execution_count": 95,
   "id": "3b16acfb-cf1c-464a-9eaa-7c2e56900801",
   "metadata": {},
   "outputs": [
    {
     "name": "stdout",
     "output_type": "stream",
     "text": [
      "13 9 11 13 "
     ]
    }
   ],
   "source": [
    "for price in tix:\n",
    "    print (price, end=' ')"
   ]
  },
  {
   "cell_type": "markdown",
   "id": "d95d3e90-111b-47f4-a9b6-e80bcecc9031",
   "metadata": {},
   "source": [
    "Suppose 9 = child, 13 = regular, 11 = senior"
   ]
  },
  {
   "cell_type": "code",
   "execution_count": 100,
   "id": "65a9f518-c94a-413a-8268-188f0d1988e6",
   "metadata": {},
   "outputs": [
    {
     "name": "stdout",
     "output_type": "stream",
     "text": [
      "regular\n",
      "child\n",
      "senior\n",
      "regular\n"
     ]
    }
   ],
   "source": [
    "for price in tix:\n",
    "    if price == 9:\n",
    "        print ('child')\n",
    "    elif price == 13:\n",
    "        print ('regular')\n",
    "    else:\n",
    "        print ('senior')"
   ]
  },
  {
   "cell_type": "markdown",
   "id": "072efd9d-469f-4c2f-afb2-02ecd18a87e4",
   "metadata": {},
   "source": [
    "### Counting the elements in a list that match a condition\n",
    "initialize a counter, then for X in XXX:\n",
    "if the condition is met: increment counter\n",
    "display or return counter"
   ]
  },
  {
   "cell_type": "code",
   "execution_count": 110,
   "id": "29dd87ab-21de-47e6-b76a-9ba0d9324ad7",
   "metadata": {},
   "outputs": [
    {
     "data": {
      "text/plain": [
       "2"
      ]
     },
     "execution_count": 110,
     "metadata": {},
     "output_type": "execute_result"
    }
   ],
   "source": [
    "regct = 0\n",
    "\n",
    "for price in tix:\n",
    "    if price == 13:\n",
    "        regct += 1\n",
    "\n",
    "regct"
   ]
  },
  {
   "cell_type": "markdown",
   "id": "b70a6953-112d-464f-abc3-4cac7a7443c3",
   "metadata": {},
   "source": [
    "### Accumulating (ex: calculating a sum or product)"
   ]
  },
  {
   "cell_type": "markdown",
   "id": "d92fa62d-7d0b-4271-9bf7-c9d23020a216",
   "metadata": {},
   "source": [
    "print the first 10 squares"
   ]
  },
  {
   "cell_type": "code",
   "execution_count": 116,
   "id": "bd8c4df1-7b22-4824-94d9-c8adc8634f34",
   "metadata": {},
   "outputs": [
    {
     "name": "stdout",
     "output_type": "stream",
     "text": [
      "1\n",
      "4\n",
      "9\n",
      "16\n",
      "25\n",
      "36\n",
      "49\n",
      "64\n",
      "81\n",
      "100\n"
     ]
    }
   ],
   "source": [
    "for num in range(1, 11):\n",
    "    print (num ** 2)"
   ]
  },
  {
   "cell_type": "markdown",
   "id": "d453db92-cfa0-4fba-ae2d-369afe695c71",
   "metadata": {},
   "source": [
    "sum the first 10 squares"
   ]
  },
  {
   "cell_type": "code",
   "execution_count": 119,
   "id": "de9cfcb6-6f04-4f84-afa9-289ae6622257",
   "metadata": {},
   "outputs": [],
   "source": [
    "total = 0\n",
    "\n",
    "for num in range(1, 11):\n",
    "    total += num ** 2"
   ]
  },
  {
   "cell_type": "code",
   "execution_count": 121,
   "id": "f748c622-3292-4499-bbfd-b884d90e5e3a",
   "metadata": {},
   "outputs": [
    {
     "data": {
      "text/plain": [
       "385"
      ]
     },
     "execution_count": 121,
     "metadata": {},
     "output_type": "execute_result"
    }
   ],
   "source": [
    "total"
   ]
  },
  {
   "cell_type": "markdown",
   "id": "34c61f9d-a830-46ca-98a3-7015a4e1e896",
   "metadata": {},
   "source": [
    "### Appending to a List"
   ]
  },
  {
   "cell_type": "code",
   "execution_count": 124,
   "id": "e38cf91f-6fc8-4810-99ae-674244330d08",
   "metadata": {},
   "outputs": [
    {
     "data": {
      "text/plain": [
       "[13, 9, 11, 13]"
      ]
     },
     "execution_count": 124,
     "metadata": {},
     "output_type": "execute_result"
    }
   ],
   "source": [
    "tix"
   ]
  },
  {
   "cell_type": "code",
   "execution_count": 132,
   "id": "5fb7dd9a-c1ba-4188-8223-5f347d807f23",
   "metadata": {},
   "outputs": [],
   "source": [
    "tix = tix + [9]"
   ]
  },
  {
   "cell_type": "code",
   "execution_count": 134,
   "id": "5ab6f6eb-1d7a-4776-804f-931ee9c69fae",
   "metadata": {},
   "outputs": [
    {
     "data": {
      "text/plain": [
       "[13, 9, 11, 13, 9]"
      ]
     },
     "execution_count": 134,
     "metadata": {},
     "output_type": "execute_result"
    }
   ],
   "source": [
    "tix"
   ]
  },
  {
   "cell_type": "markdown",
   "id": "01df6cd0-83d7-4fb3-911a-d95224c311c1",
   "metadata": {},
   "source": [
    "prefered way: "
   ]
  },
  {
   "cell_type": "code",
   "execution_count": 137,
   "id": "d6f5167a-b0f6-4184-adf2-3d0cdf22c91e",
   "metadata": {},
   "outputs": [],
   "source": [
    "tix.append(13)"
   ]
  },
  {
   "cell_type": "markdown",
   "id": "0cc6976e-eba8-4bd7-b04e-8f35b249ac81",
   "metadata": {},
   "source": [
    "### Building a List"
   ]
  },
  {
   "cell_type": "markdown",
   "id": "5bf9cdf0-4a0e-4bfa-ae5e-2a7e1af3a568",
   "metadata": {},
   "source": [
    "initialize an empty list"
   ]
  },
  {
   "cell_type": "markdown",
   "id": "48c75201-fc54-4ae1-8859-c18d89942af7",
   "metadata": {},
   "source": [
    "Create a list containing the first 10 squares"
   ]
  },
  {
   "cell_type": "code",
   "execution_count": 149,
   "id": "38720e83-285f-4565-b865-08ee484bf0c4",
   "metadata": {},
   "outputs": [],
   "source": [
    "squares = []\n",
    "\n",
    "for num in range (1, 11):\n",
    "    squares.append (num ** 2)"
   ]
  },
  {
   "cell_type": "code",
   "execution_count": 151,
   "id": "74b3c7d3-85ed-48ec-a5c3-0cd79d8e8e2d",
   "metadata": {},
   "outputs": [
    {
     "data": {
      "text/plain": [
       "[1, 4, 9, 16, 25, 36, 49, 64, 81, 100]"
      ]
     },
     "execution_count": 151,
     "metadata": {},
     "output_type": "execute_result"
    }
   ],
   "source": [
    "squares"
   ]
  },
  {
   "cell_type": "code",
   "execution_count": 153,
   "id": "f508950f-1f90-4323-9abe-580d4b677396",
   "metadata": {},
   "outputs": [
    {
     "data": {
      "text/plain": [
       "[13, 9, 11, 13, 9, 13]"
      ]
     },
     "execution_count": 153,
     "metadata": {},
     "output_type": "execute_result"
    }
   ],
   "source": [
    "tix"
   ]
  },
  {
   "cell_type": "markdown",
   "id": "4d537b44-441e-4427-8a96-eac8d42e3ae2",
   "metadata": {},
   "source": [
    "count the numbers of 13s"
   ]
  },
  {
   "cell_type": "code",
   "execution_count": 169,
   "id": "712acce6-de54-4d3a-b856-55d856561e1b",
   "metadata": {},
   "outputs": [],
   "source": [
    "#not preferred\n",
    "regct = 0\n",
    "\n",
    "for pos in range(4):\n",
    "    if tix[pos] == 13:\n",
    "        regct += 1"
   ]
  },
  {
   "cell_type": "code",
   "execution_count": 167,
   "id": "d6220e3d-cdf8-49b3-9c06-8d28ef611cba",
   "metadata": {},
   "outputs": [
    {
     "data": {
      "text/plain": [
       "2"
      ]
     },
     "execution_count": 167,
     "metadata": {},
     "output_type": "execute_result"
    }
   ],
   "source": [
    "regct"
   ]
  },
  {
   "cell_type": "markdown",
   "id": "fac49d08-8201-4e11-9b72-6e7a5428f270",
   "metadata": {},
   "source": [
    "Create a list of numbers from 1 to 50 that are divisible by 7"
   ]
  },
  {
   "cell_type": "code",
   "execution_count": 188,
   "id": "93733ea2-fb6d-4c2d-92f0-2be8be6f189a",
   "metadata": {},
   "outputs": [
    {
     "data": {
      "text/plain": [
       "[7, 14, 21, 28, 35, 42, 49]"
      ]
     },
     "execution_count": 188,
     "metadata": {},
     "output_type": "execute_result"
    }
   ],
   "source": [
    "fifty = []\n",
    "\n",
    "for num in range(1, 51):\n",
    "    if num % 7 == 0:\n",
    "        fifty.append(num)\n",
    "\n",
    "fifty"
   ]
  },
  {
   "cell_type": "code",
   "execution_count": null,
   "id": "aebc5715-f386-4c12-93d7-5ec8226ae346",
   "metadata": {},
   "outputs": [],
   "source": []
  }
 ],
 "metadata": {
  "kernelspec": {
   "display_name": "Python 3 (ipykernel)",
   "language": "python",
   "name": "python3"
  },
  "language_info": {
   "codemirror_mode": {
    "name": "ipython",
    "version": 3
   },
   "file_extension": ".py",
   "mimetype": "text/x-python",
   "name": "python",
   "nbconvert_exporter": "python",
   "pygments_lexer": "ipython3",
   "version": "3.12.4"
  }
 },
 "nbformat": 4,
 "nbformat_minor": 5
}
