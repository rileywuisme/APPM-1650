{
 "cells": [
  {
   "cell_type": "markdown",
   "metadata": {},
   "source": [
    "# Lab 2\n",
    "\n",
    "**Name your notebook** `Lab2.ipynb`. At the end of class, you will convert the notebook to `.py` format and upload to Gradescope for autograding.\n",
    "\n",
    "---\n",
    "\n",
    "*Answers shown are rounded to 6 decimal digits. It is not necessary for you to round your answers.*"
   ]
  },
  {
   "cell_type": "markdown",
   "metadata": {},
   "source": [
    "# Enter the Lab2 password as a string"
   ]
  },
  {
   "cell_type": "code",
   "execution_count": 351,
   "metadata": {},
   "outputs": [],
   "source": [
    "password = 'balloon'"
   ]
  },
  {
   "cell_type": "code",
   "execution_count": 352,
   "metadata": {
    "tags": []
   },
   "outputs": [],
   "source": [
    "import math"
   ]
  },
  {
   "cell_type": "markdown",
   "metadata": {},
   "source": [
    "### Sigmoid Function\n",
    "\n",
    "<img src=\"http://www.coloradomath.org/python/sigmoid.jpg\" width=\"588\" height=\"170\" />\n",
    "\n",
    "The *sigmoid function* is defined as\n",
    "$$\\sigma(x) = \\frac{1}{1+e^{-x}}.$$\n",
    "\n",
    "Write a function **`sigmoid(x)`** that takes a number $x$ and returns the value $\\sigma(x)$.\n",
    "\n",
    "Examples: `sigmoid(1)` returns `0.731059` and `sigmoid(-2)` returns `0.119203`."
   ]
  },
  {
   "cell_type": "code",
   "execution_count": 354,
   "metadata": {},
   "outputs": [],
   "source": [
    "def sigmoid (x):\n",
    "    return 1 / (1 + math.e ** (- x))"
   ]
  },
  {
   "cell_type": "code",
   "execution_count": 355,
   "metadata": {},
   "outputs": [
    {
     "data": {
      "text/plain": [
       "0.7310585786300049"
      ]
     },
     "execution_count": 355,
     "metadata": {},
     "output_type": "execute_result"
    }
   ],
   "source": [
    "sigmoid(1)"
   ]
  },
  {
   "cell_type": "code",
   "execution_count": 356,
   "metadata": {},
   "outputs": [
    {
     "data": {
      "text/plain": [
       "0.11920292202211757"
      ]
     },
     "execution_count": 356,
     "metadata": {},
     "output_type": "execute_result"
    }
   ],
   "source": [
    "sigmoid(-2)"
   ]
  },
  {
   "cell_type": "markdown",
   "metadata": {},
   "source": [
    "Note that the sigmoid function has an S-shaped graph with a range of $(0, 1)$. This function is often used in machine learning applications, especially *binary classification* problems for which there are exactly two possible answers. We can interpret sigmoid values as probabilities with values below a given threshold corresponding to one answer, and values above the threshold corresponding to the other answer.\n",
    "\n",
    "Write a function **`classify(x, thresh)`** that returns the boolean value `True` if `sigmoid(x)` has a value that is greater than or equal to `thresh`. It returns `False` otherwise. Assume that `thresh` is a positive number between 0 and 1. Your code should call the `sigmoid` function and *should not* use an `if` statement. \n",
    "\n",
    "Examples: `classify(0.3, 0.5)` returns `True` and `classify(0.3, 0.6)` returns `False`."
   ]
  },
  {
   "cell_type": "code",
   "execution_count": 358,
   "metadata": {},
   "outputs": [],
   "source": [
    "def classify(x, thresh):\n",
    "    return sigmoid(x) >= thresh"
   ]
  },
  {
   "cell_type": "code",
   "execution_count": 359,
   "metadata": {},
   "outputs": [
    {
     "data": {
      "text/plain": [
       "True"
      ]
     },
     "execution_count": 359,
     "metadata": {},
     "output_type": "execute_result"
    }
   ],
   "source": [
    "classify(0.3, 0.5)"
   ]
  },
  {
   "cell_type": "code",
   "execution_count": 360,
   "metadata": {},
   "outputs": [
    {
     "data": {
      "text/plain": [
       "False"
      ]
     },
     "execution_count": 360,
     "metadata": {},
     "output_type": "execute_result"
    }
   ],
   "source": [
    "classify(0.3, 0.6)"
   ]
  },
  {
   "cell_type": "markdown",
   "metadata": {},
   "source": [
    "### Parabolas\n",
    "For the following functions, the values $a$, $b$, and $c$ correspond to the coefficients of a parabola $y=ax^2+bx+c$ with $a\\ne 0$.\n",
    "\n",
    "Write a function **`parabola_dir(a, b, c)`** that returns the string `'up'` if the parabola opens up, and returns `'down'` if the parabola opens down."
   ]
  },
  {
   "cell_type": "code",
   "execution_count": 362,
   "metadata": {},
   "outputs": [],
   "source": [
    "def parabola_dir(a, b, c):\n",
    "    if a > 0:\n",
    "        return 'up'\n",
    "    else: \n",
    "        return 'down'"
   ]
  },
  {
   "cell_type": "markdown",
   "metadata": {},
   "source": [
    "Write a function **parabola_axis(a, b, c)** that returns the $x$-coordinate of the axis of symmetry. (*Hint:* You should be able to figure out the formula without looking it up. The axis lies midway between the two roots.)\n",
    "\n",
    "Example: `parabola_axis(1, 2, 3)` returns `-1.0`."
   ]
  },
  {
   "cell_type": "code",
   "execution_count": 364,
   "metadata": {},
   "outputs": [],
   "source": [
    "def parabola_axis (a, b, c):\n",
    "    return -b / (2 * a)"
   ]
  },
  {
   "cell_type": "code",
   "execution_count": 365,
   "metadata": {},
   "outputs": [
    {
     "data": {
      "text/plain": [
       "-1.0"
      ]
     },
     "execution_count": 365,
     "metadata": {},
     "output_type": "execute_result"
    }
   ],
   "source": [
    "parabola_axis (1, 2, 3)"
   ]
  },
  {
   "cell_type": "markdown",
   "metadata": {},
   "source": [
    "Write a function **`parabola_vertex(a, b, c)`** that returns the `(x, y)` coordinates of the vertex of the parabola.\n",
    "\n",
    "Example:  \n",
    "`parabola_vertex(-2, -12, -11)` returns `(-3.0, 7.0)`."
   ]
  },
  {
   "cell_type": "code",
   "execution_count": 367,
   "metadata": {},
   "outputs": [],
   "source": [
    "def parabola_vertex(a, b, c):\n",
    "    x = (-b / (2 * a))\n",
    "    return x, a * x**2 + b*x+c"
   ]
  },
  {
   "cell_type": "code",
   "execution_count": 368,
   "metadata": {},
   "outputs": [
    {
     "data": {
      "text/plain": [
       "(-3.0, 7.0)"
      ]
     },
     "execution_count": 368,
     "metadata": {},
     "output_type": "execute_result"
    }
   ],
   "source": [
    "parabola_vertex(-2, -12, -11)"
   ]
  },
  {
   "cell_type": "markdown",
   "metadata": {
    "tags": []
   },
   "source": [
    "Write a function **`parabola_is_root(a, b, c, r)`** that returns the boolean value `True` if `r` is a root of the quadratic function represented by the parabola. It returns `False` otherwise. This function **should not** use the quadratic formula.\n",
    "\n",
    "Use the `math.isclose(x, y)` function which returns `True` if the numbers `x` and `y` are close in value. Set the optional absolute tolerance to `abs_tol=1e-6`."
   ]
  },
  {
   "cell_type": "code",
   "execution_count": 370,
   "metadata": {},
   "outputs": [],
   "source": [
    "def parabola_is_root(a, b, c, r):\n",
    "    return math.isclose(0, a* r**2 + b*r + c, abs_tol=1e-6)"
   ]
  },
  {
   "cell_type": "markdown",
   "metadata": {},
   "source": [
    "Write a function **`parabola_num_roots(a, b, c)`** that returns the number of distinct roots of the quadratic function represented by the parabola. (*Hint:* Examine the discriminant in the quadratic formula.)\n",
    "\n",
    "Examples:<br>\n",
    "`parabola_num_roots(1, 2, 3)` returns `0`.<br>\n",
    "`parabola_num_roots(1, -4, 4)` returns `1`.<br>\n",
    "`parabola_num_roots(2, 0, -32)` returns `2`."
   ]
  },
  {
   "cell_type": "code",
   "execution_count": 372,
   "metadata": {},
   "outputs": [],
   "source": [
    "def parabola_num_roots(a, b, c):\n",
    "     if 0 < (b ** 2 - 4*a*c):\n",
    "         return 2\n",
    "     elif 0 == (b ** 2 - 4*a*c):\n",
    "        return 1\n",
    "     else:\n",
    "         return 0"
   ]
  },
  {
   "cell_type": "code",
   "execution_count": 373,
   "metadata": {},
   "outputs": [
    {
     "data": {
      "text/plain": [
       "0"
      ]
     },
     "execution_count": 373,
     "metadata": {},
     "output_type": "execute_result"
    }
   ],
   "source": [
    "parabola_num_roots(1, 2, 3)"
   ]
  },
  {
   "cell_type": "code",
   "execution_count": 374,
   "metadata": {},
   "outputs": [
    {
     "data": {
      "text/plain": [
       "1"
      ]
     },
     "execution_count": 374,
     "metadata": {},
     "output_type": "execute_result"
    }
   ],
   "source": [
    "parabola_num_roots(1, -4, 4)"
   ]
  },
  {
   "cell_type": "code",
   "execution_count": 375,
   "metadata": {},
   "outputs": [
    {
     "data": {
      "text/plain": [
       "2"
      ]
     },
     "execution_count": 375,
     "metadata": {},
     "output_type": "execute_result"
    }
   ],
   "source": [
    "parabola_num_roots(2, 0, -32)"
   ]
  },
  {
   "cell_type": "markdown",
   "metadata": {},
   "source": [
    "Write a function **parabola_roots(a, b, c)** that returns a two-element tuple containing the real roots of the quadratic function represented by the parabola. The roots may be arranged in any order. If the function does not have real roots, return an empty tuple `()`. If the function has a root with multiplicity 2, list the root twice.\n",
    "\n",
    "Example:<br>\n",
    "`parabola_roots(-3, 2, 5)` returns `(-1.0, 1.666667)` (or in reversed order).<br>\n",
    "`parabola_roots(3, -6, 3)` returns `(1.0, 1.0)`.<br>\n",
    "`parabola_roots(3, 2, 5)` returns `()`."
   ]
  },
  {
   "cell_type": "code",
   "execution_count": 377,
   "metadata": {},
   "outputs": [],
   "source": [
    "def parabola_roots(a, b, c):\n",
    "    if (b**2 - 4*a*c) < 0:\n",
    "        return ()\n",
    "    else:\n",
    "        x1 = (-b + math.sqrt(b**2 - 4*a*c))/(2*a)\n",
    "        x2 = (-b - math.sqrt(b**2 - 4*a*c))/(2*a)\n",
    "        return (x1, x2)"
   ]
  },
  {
   "cell_type": "code",
   "execution_count": 378,
   "metadata": {},
   "outputs": [
    {
     "data": {
      "text/plain": [
       "(-1.0, 1.6666666666666667)"
      ]
     },
     "execution_count": 378,
     "metadata": {},
     "output_type": "execute_result"
    }
   ],
   "source": [
    "parabola_roots(-3, 2, 5)"
   ]
  },
  {
   "cell_type": "code",
   "execution_count": 379,
   "metadata": {},
   "outputs": [
    {
     "data": {
      "text/plain": [
       "(1.0, 1.0)"
      ]
     },
     "execution_count": 379,
     "metadata": {},
     "output_type": "execute_result"
    }
   ],
   "source": [
    "parabola_roots(3, -6, 3)"
   ]
  },
  {
   "cell_type": "code",
   "execution_count": 380,
   "metadata": {},
   "outputs": [
    {
     "data": {
      "text/plain": [
       "()"
      ]
     },
     "execution_count": 380,
     "metadata": {},
     "output_type": "execute_result"
    }
   ],
   "source": [
    "parabola_roots(3, 2, 5)"
   ]
  },
  {
   "cell_type": "markdown",
   "metadata": {
    "tags": []
   },
   "source": [
    "### Binomial Coefficients\n",
    "\n",
    "The *binomial coefficient* $\\binom{n}{k}$ can be calculated using this formula:\n",
    "$$ \\binom{n}{k} = \\frac{n!}{k!(n-k)!}. $$\n",
    "\n",
    " Write a function **`binom(n, k)`** that takes two non-negative integers $n$ and $k$ and returns the value of $\\binom{n}{k}$ as an `int`. (The result always will be an integer.) Assume that $0\\le k\\le n$. (*Hint:* Use `math.factorial()`.)"
   ]
  },
  {
   "cell_type": "code",
   "execution_count": 382,
   "metadata": {},
   "outputs": [],
   "source": [
    "def binom(n, k):\n",
    "    return int(math.factorial(n)/(math.factorial(k)*math.factorial(n - k)))"
   ]
  },
  {
   "cell_type": "markdown",
   "metadata": {},
   "source": [
    "Note that the binomial coefficient $\\binom{n}{k}$ represents the number of unordered ways to select a set of $k$ objects from a total of $n$ objects. For example, the number of ways to give out free ski lift tickets to 4 students out of a group of 15 students is $\\binom{15}{4} = 1365$.  "
   ]
  },
  {
   "cell_type": "code",
   "execution_count": 384,
   "metadata": {},
   "outputs": [
    {
     "data": {
      "text/plain": [
       "1365"
      ]
     },
     "execution_count": 384,
     "metadata": {},
     "output_type": "execute_result"
    }
   ],
   "source": [
    "binom(15, 4)"
   ]
  },
  {
   "cell_type": "markdown",
   "metadata": {},
   "source": [
    "Verify Pascal's Identity for $n=15$ and $k=4$:\n",
    "$$\\binom{n}{k} = \\binom{n-1}{k-1} + \\binom{n-1}{k}.$$\n",
    "\n",
    "(Each entry in Pascal's Triangle equals the sum of its two neighbors in the previous row.)"
   ]
  },
  {
   "cell_type": "code",
   "execution_count": 386,
   "metadata": {},
   "outputs": [
    {
     "data": {
      "text/plain": [
       "True"
      ]
     },
     "execution_count": 386,
     "metadata": {},
     "output_type": "execute_result"
    }
   ],
   "source": [
    "binom(15, 4) == binom(14, 3)+binom(14, 4)"
   ]
  },
  {
   "cell_type": "markdown",
   "metadata": {
    "jp-MarkdownHeadingCollapsed": true,
    "tags": []
   },
   "source": [
    "### Upload Your Work to Gradescope\n",
    "\n",
    "**You must submit your Lab solutions to the autograder at the end of class even if your work is incomplete.**\n",
    "* In Jupyter, select `Run` $\\to$ `Run All Cells` and make sure there are no errors in your code. Comment out any non-working code.\n",
    "* Select `File` $\\to$ `Export Notebook as` $\\to$ `Executable Script`. This will create an executable `.py` version of your notebook. (On some computers, you will `Download` to `.py` format.)\n",
    "* **The file must be named `Lab2.py`**.\n",
    "* In Gradescope, select the `Lab2.py` assignment and upload your `Lab2.py` file.\n",
    "* Your solutions will be autograded. Some test cases may be hidden. Correct answers will be shown in green. Incorrect answers will be shown in red.\n",
    "* If you do not complete the lab during class, you may resubmit your file up to a week late. Multiple submissions are allowed.\n",
    "* **Important: Your file must be in the correct format**. If the autograder is unable to grade your work, a score of zero will be given to the assignment."
   ]
  },
  {
   "cell_type": "markdown",
   "metadata": {},
   "source": [
    "---\n",
    "\n",
    "## Extra Problems\n",
    "Work on these problems after completing the previous exercises."
   ]
  },
  {
   "cell_type": "markdown",
   "metadata": {
    "tags": []
   },
   "source": [
    "### Unit Conversions"
   ]
  },
  {
   "cell_type": "markdown",
   "metadata": {},
   "source": [
    "Write a function **`hr_to_sec(hrs, mins, secs)`** that calculates the total number of seconds for a given number of hours, minutes, and seconds. Assume that the input values are non-negative numbers.\n",
    "\n",
    "Example: `hr_to_sec(2, 1, 10)` returns 7270."
   ]
  },
  {
   "cell_type": "code",
   "execution_count": null,
   "metadata": {},
   "outputs": [],
   "source": []
  },
  {
   "cell_type": "code",
   "execution_count": null,
   "metadata": {},
   "outputs": [],
   "source": []
  },
  {
   "cell_type": "markdown",
   "metadata": {},
   "source": [
    "Write a function **`sec_to_hr(sec)`** that converts seconds into a three-element list `[hrs, mins, secs]` where `mins` and `secs` are less than 60. Assume that `sec` is a non-negative number. (*Hint:* Use `//` and `%`.)\n",
    "\n",
    "Example:  \n",
    "`sec_to_hr(7270)` returns `[2, 1, 10]`.<br>\n",
    "`sec_to_hr(50)` returns `[0, 0, 50]`.  "
   ]
  },
  {
   "cell_type": "code",
   "execution_count": null,
   "metadata": {},
   "outputs": [],
   "source": []
  },
  {
   "cell_type": "code",
   "execution_count": null,
   "metadata": {},
   "outputs": [],
   "source": []
  },
  {
   "cell_type": "markdown",
   "metadata": {},
   "source": [
    "### Comparing floating point numbers\n",
    "\n",
    "Caution must be used when determining whether two floating point numbers are equal. **Use the comparison operator `==`** on these pairs of mathematically equivalent expressions:\n",
    " \n",
    "* `3 * 0.3` and `0.9`\n",
    "* `2.51 * 100` and `251.0`\n",
    "* `4.02 * 100` and `402.0`\n",
    "     \n",
    "What are the results? Why is this happening?"
   ]
  },
  {
   "cell_type": "code",
   "execution_count": null,
   "metadata": {},
   "outputs": [],
   "source": []
  },
  {
   "cell_type": "code",
   "execution_count": null,
   "metadata": {},
   "outputs": [],
   "source": []
  },
  {
   "cell_type": "code",
   "execution_count": null,
   "metadata": {},
   "outputs": [],
   "source": []
  },
  {
   "cell_type": "markdown",
   "metadata": {},
   "source": [
    "In each case Python finds that these expressions are *not equal*. This is because these numbers cannot be represented exactly in base 2, just as the fraction 2/3 = 0.6666$\\ldots$ cannot be represented exactly in base 10.\n",
    "\n",
    "The `math.isclose(a, b)` function returns `True` if the numbers `a` and `b` are close in value. The optional parameter `rel_tol=` represents the relative tolerance, which has a default value of `1e-9`.\n",
    "\n",
    "**Apply `math.isclose()`** to the three pairs of expressions. What are the results?"
   ]
  },
  {
   "cell_type": "code",
   "execution_count": null,
   "metadata": {},
   "outputs": [],
   "source": []
  },
  {
   "cell_type": "code",
   "execution_count": null,
   "metadata": {},
   "outputs": [],
   "source": []
  },
  {
   "cell_type": "code",
   "execution_count": null,
   "metadata": {},
   "outputs": [],
   "source": []
  }
 ],
 "metadata": {
  "kernelspec": {
   "display_name": "Python 3 (ipykernel)",
   "language": "python",
   "name": "python3"
  },
  "language_info": {
   "codemirror_mode": {
    "name": "ipython",
    "version": 3
   },
   "file_extension": ".py",
   "mimetype": "text/x-python",
   "name": "python",
   "nbconvert_exporter": "python",
   "pygments_lexer": "ipython3",
   "version": "3.12.4"
  }
 },
 "nbformat": 4,
 "nbformat_minor": 4
}
