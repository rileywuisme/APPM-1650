{
 "cells": [
  {
   "cell_type": "markdown",
   "id": "5927ca42-fe08-4afb-90b4-d725bcfd014c",
   "metadata": {},
   "source": [
    "### Lecutre 12a"
   ]
  },
  {
   "cell_type": "code",
   "execution_count": 51,
   "id": "98bb42b3-a7b6-4218-87cc-4f720563bd89",
   "metadata": {},
   "outputs": [],
   "source": [
    "import numpy as np\n",
    "import pandas as pd\n",
    "import matplotlib.pyplot as plt"
   ]
  },
  {
   "cell_type": "code",
   "execution_count": 52,
   "id": "5fc45b4d-fe73-444e-9d27-2c562de27f25",
   "metadata": {},
   "outputs": [],
   "source": [
    "sibs = ['alice', 'bob', 'carol', 'daisy']\n",
    "ages = [19, 7, 12, 3]\n",
    "foods = ['sushi', 'tacos', 'kiwi', 'skittles']\n",
    "animals = ['unicorn', 'panda', 'monkey', 'rhino']\n",
    "sib_data = list(zip(ages, foods, animals))"
   ]
  },
  {
   "cell_type": "markdown",
   "id": "bd089727-d96d-43f7-a74a-593758781297",
   "metadata": {},
   "source": [
    "Panda: data analysis  \n",
    "economic analysis  \n",
    "built on numpy"
   ]
  },
  {
   "cell_type": "code",
   "execution_count": 54,
   "id": "c6a10251-f0f5-4f00-9fc1-6051623a7cea",
   "metadata": {},
   "outputs": [
    {
     "data": {
      "text/plain": [
       "[(19, 'sushi', 'unicorn'),\n",
       " (7, 'tacos', 'panda'),\n",
       " (12, 'kiwi', 'monkey'),\n",
       " (3, 'skittles', 'rhino')]"
      ]
     },
     "execution_count": 54,
     "metadata": {},
     "output_type": "execute_result"
    }
   ],
   "source": [
    "sib_data"
   ]
  },
  {
   "cell_type": "markdown",
   "id": "2592bf95-96c3-46f6-9742-a5663ec14702",
   "metadata": {},
   "source": [
    "### Series  \n",
    "A Series is like a dictionary but it is ordered. So you can call a value by a calling the index. Dictionary items can only be called using the key. "
   ]
  },
  {
   "cell_type": "code",
   "execution_count": 56,
   "id": "cde4c714-cc2e-41b3-8792-a44a4efe921c",
   "metadata": {},
   "outputs": [
    {
     "data": {
      "text/plain": [
       "0    19\n",
       "1     7\n",
       "2    12\n",
       "3     3\n",
       "dtype: int64"
      ]
     },
     "execution_count": 56,
     "metadata": {},
     "output_type": "execute_result"
    }
   ],
   "source": [
    "pd.Series(ages) # series: kind of like array/dictionary"
   ]
  },
  {
   "cell_type": "code",
   "execution_count": 57,
   "id": "e1aeae56-14f8-4419-afd2-bf65b775c1cf",
   "metadata": {},
   "outputs": [
    {
     "data": {
      "text/plain": [
       "alice    19\n",
       "bob       7\n",
       "carol    12\n",
       "daisy     3\n",
       "dtype: int64"
      ]
     },
     "execution_count": 57,
     "metadata": {},
     "output_type": "execute_result"
    }
   ],
   "source": [
    "sib_ages = pd.Series(ages, index=sibs) # index are like keys in dictionary\n",
    "sib_ages"
   ]
  },
  {
   "cell_type": "code",
   "execution_count": 58,
   "id": "cac18cc9-06f4-49ea-9d9d-3d1e39138109",
   "metadata": {},
   "outputs": [
    {
     "data": {
      "text/plain": [
       "pandas.core.series.Series"
      ]
     },
     "execution_count": 58,
     "metadata": {},
     "output_type": "execute_result"
    }
   ],
   "source": [
    "type(sib_ages)"
   ]
  },
  {
   "cell_type": "code",
   "execution_count": 59,
   "id": "58b9ad9b-7ddd-4611-91dc-57a57dff645c",
   "metadata": {},
   "outputs": [
    {
     "data": {
      "text/plain": [
       "array([19,  7, 12,  3])"
      ]
     },
     "execution_count": 59,
     "metadata": {},
     "output_type": "execute_result"
    }
   ],
   "source": [
    "sib_ages.values #output an array"
   ]
  },
  {
   "cell_type": "code",
   "execution_count": 60,
   "id": "5d6dcf67-c3dc-44ed-ae9d-d9c9256fd2d1",
   "metadata": {},
   "outputs": [
    {
     "data": {
      "text/plain": [
       "Index(['alice', 'bob', 'carol', 'daisy'], dtype='object')"
      ]
     },
     "execution_count": 60,
     "metadata": {},
     "output_type": "execute_result"
    }
   ],
   "source": [
    "sib_ages.index"
   ]
  },
  {
   "cell_type": "code",
   "execution_count": 61,
   "id": "6b55d16d-be6e-4c03-ab6a-251f9df69dcf",
   "metadata": {},
   "outputs": [
    {
     "data": {
      "text/plain": [
       "pandas.core.indexes.base.Index"
      ]
     },
     "execution_count": 61,
     "metadata": {},
     "output_type": "execute_result"
    }
   ],
   "source": [
    "type(sib_ages.index) #type = pandas index"
   ]
  },
  {
   "cell_type": "code",
   "execution_count": 62,
   "id": "ed93fc56-ab36-4c1b-a474-987590d7d952",
   "metadata": {},
   "outputs": [
    {
     "name": "stderr",
     "output_type": "stream",
     "text": [
      "/var/folders/2m/ffpxvj6x6y9_869rd2330sl00000gn/T/ipykernel_26815/1067640998.py:1: FutureWarning: Series.__getitem__ treating keys as positions is deprecated. In a future version, integer keys will always be treated as labels (consistent with DataFrame behavior). To access a value by position, use `ser.iloc[pos]`\n",
      "  sib_ages[2]\n"
     ]
    },
    {
     "data": {
      "text/plain": [
       "12"
      ]
     },
     "execution_count": 62,
     "metadata": {},
     "output_type": "execute_result"
    }
   ],
   "source": [
    "sib_ages[2]"
   ]
  },
  {
   "cell_type": "code",
   "execution_count": 63,
   "id": "512e08f4-7ed4-446c-8303-2f26f690f6d0",
   "metadata": {},
   "outputs": [
    {
     "data": {
      "text/plain": [
       "12"
      ]
     },
     "execution_count": 63,
     "metadata": {},
     "output_type": "execute_result"
    }
   ],
   "source": [
    "sib_ages['carol']"
   ]
  },
  {
   "cell_type": "code",
   "execution_count": 64,
   "id": "6b0875e7-4cc8-4c6a-975d-b0b0506b66c5",
   "metadata": {},
   "outputs": [
    {
     "data": {
      "text/plain": [
       "alice    19\n",
       "bob       7\n",
       "dtype: int64"
      ]
     },
     "execution_count": 64,
     "metadata": {},
     "output_type": "execute_result"
    }
   ],
   "source": [
    "sib_ages[:2]"
   ]
  },
  {
   "cell_type": "code",
   "execution_count": 65,
   "id": "ab22c00a-e89f-413f-b46d-c6c35e182f8d",
   "metadata": {},
   "outputs": [
    {
     "data": {
      "text/plain": [
       "alice    19\n",
       "carol    12\n",
       "dtype: int64"
      ]
     },
     "execution_count": 65,
     "metadata": {},
     "output_type": "execute_result"
    }
   ],
   "source": [
    "sib_ages[['alice', 'carol']]"
   ]
  },
  {
   "cell_type": "code",
   "execution_count": 66,
   "id": "7d450634-fb97-48e1-a22c-7a83d338834a",
   "metadata": {},
   "outputs": [
    {
     "data": {
      "text/plain": [
       "True"
      ]
     },
     "execution_count": 66,
     "metadata": {},
     "output_type": "execute_result"
    }
   ],
   "source": [
    "'bob' in sib_ages"
   ]
  },
  {
   "cell_type": "code",
   "execution_count": 67,
   "id": "76486a1f-5c80-49cc-bbce-27de11cd1ea7",
   "metadata": {},
   "outputs": [
    {
     "data": {
      "text/plain": [
       "False"
      ]
     },
     "execution_count": 67,
     "metadata": {},
     "output_type": "execute_result"
    }
   ],
   "source": [
    "'edgar' in sib_ages"
   ]
  },
  {
   "cell_type": "code",
   "execution_count": 68,
   "id": "55f3b0df-ba2e-4d77-8f47-d73a42bd2f31",
   "metadata": {},
   "outputs": [
    {
     "data": {
      "text/plain": [
       "alice     True\n",
       "bob      False\n",
       "carol     True\n",
       "daisy    False\n",
       "dtype: bool"
      ]
     },
     "execution_count": 68,
     "metadata": {},
     "output_type": "execute_result"
    }
   ],
   "source": [
    "sib_ages > 10"
   ]
  },
  {
   "cell_type": "code",
   "execution_count": 69,
   "id": "4dabc4fb-9aae-401d-b73b-af72d36e773c",
   "metadata": {},
   "outputs": [
    {
     "data": {
      "text/plain": [
       "alice    19\n",
       "carol    12\n",
       "dtype: int64"
      ]
     },
     "execution_count": 69,
     "metadata": {},
     "output_type": "execute_result"
    }
   ],
   "source": [
    "sib_ages[sib_ages > 10]"
   ]
  },
  {
   "cell_type": "code",
   "execution_count": 70,
   "id": "65898e19-2096-490c-b8c8-663e29fea0f9",
   "metadata": {},
   "outputs": [
    {
     "data": {
      "text/plain": [
       "carol    12\n",
       "dtype: int64"
      ]
     },
     "execution_count": 70,
     "metadata": {},
     "output_type": "execute_result"
    }
   ],
   "source": [
    "sib_ages[(sib_ages > 10) & (sib_ages < 18)]"
   ]
  },
  {
   "cell_type": "code",
   "execution_count": 71,
   "id": "a730f6a2-3f25-4220-9a9e-0c5d6c38debb",
   "metadata": {},
   "outputs": [
    {
     "data": {
      "text/plain": [
       "alice    19\n",
       "carol    12\n",
       "dtype: int64"
      ]
     },
     "execution_count": 71,
     "metadata": {},
     "output_type": "execute_result"
    }
   ],
   "source": [
    "sib_ages[sib_ages.between(12, 19)] # closed interval, includes endpts"
   ]
  },
  {
   "cell_type": "code",
   "execution_count": 72,
   "id": "5b6db93d-7a30-4fcb-9daf-f247efca92e7",
   "metadata": {},
   "outputs": [
    {
     "data": {
      "text/plain": [
       "bob      7\n",
       "daisy    3\n",
       "dtype: int64"
      ]
     },
     "execution_count": 72,
     "metadata": {},
     "output_type": "execute_result"
    }
   ],
   "source": [
    "sib_ages[sib_ages.isin([3, 7])]"
   ]
  },
  {
   "cell_type": "markdown",
   "id": "76c95745-6a30-4b2e-9925-2488a42b9831",
   "metadata": {},
   "source": [
    "### DataFrames"
   ]
  },
  {
   "cell_type": "code",
   "execution_count": 74,
   "id": "b00902e9-bf90-4df2-8b93-f53f44b6f41d",
   "metadata": {},
   "outputs": [
    {
     "data": {
      "text/plain": [
       "[(19, 'sushi', 'unicorn'),\n",
       " (7, 'tacos', 'panda'),\n",
       " (12, 'kiwi', 'monkey'),\n",
       " (3, 'skittles', 'rhino')]"
      ]
     },
     "execution_count": 74,
     "metadata": {},
     "output_type": "execute_result"
    }
   ],
   "source": [
    "sib_data"
   ]
  },
  {
   "cell_type": "code",
   "execution_count": 75,
   "id": "deef5019-adcb-4b1a-af2f-aeb3c2ec3c9a",
   "metadata": {},
   "outputs": [
    {
     "data": {
      "text/html": [
       "<div>\n",
       "<style scoped>\n",
       "    .dataframe tbody tr th:only-of-type {\n",
       "        vertical-align: middle;\n",
       "    }\n",
       "\n",
       "    .dataframe tbody tr th {\n",
       "        vertical-align: top;\n",
       "    }\n",
       "\n",
       "    .dataframe thead th {\n",
       "        text-align: right;\n",
       "    }\n",
       "</style>\n",
       "<table border=\"1\" class=\"dataframe\">\n",
       "  <thead>\n",
       "    <tr style=\"text-align: right;\">\n",
       "      <th></th>\n",
       "      <th>0</th>\n",
       "      <th>1</th>\n",
       "      <th>2</th>\n",
       "    </tr>\n",
       "  </thead>\n",
       "  <tbody>\n",
       "    <tr>\n",
       "      <th>0</th>\n",
       "      <td>19</td>\n",
       "      <td>sushi</td>\n",
       "      <td>unicorn</td>\n",
       "    </tr>\n",
       "    <tr>\n",
       "      <th>1</th>\n",
       "      <td>7</td>\n",
       "      <td>tacos</td>\n",
       "      <td>panda</td>\n",
       "    </tr>\n",
       "    <tr>\n",
       "      <th>2</th>\n",
       "      <td>12</td>\n",
       "      <td>kiwi</td>\n",
       "      <td>monkey</td>\n",
       "    </tr>\n",
       "    <tr>\n",
       "      <th>3</th>\n",
       "      <td>3</td>\n",
       "      <td>skittles</td>\n",
       "      <td>rhino</td>\n",
       "    </tr>\n",
       "  </tbody>\n",
       "</table>\n",
       "</div>"
      ],
      "text/plain": [
       "    0         1        2\n",
       "0  19     sushi  unicorn\n",
       "1   7     tacos    panda\n",
       "2  12      kiwi   monkey\n",
       "3   3  skittles    rhino"
      ]
     },
     "execution_count": 75,
     "metadata": {},
     "output_type": "execute_result"
    }
   ],
   "source": [
    "pd.DataFrame(sib_data)"
   ]
  },
  {
   "cell_type": "code",
   "execution_count": 76,
   "id": "d874b73d-0442-4c0d-8e38-7c5b9a79f2b0",
   "metadata": {},
   "outputs": [
    {
     "data": {
      "text/html": [
       "<div>\n",
       "<style scoped>\n",
       "    .dataframe tbody tr th:only-of-type {\n",
       "        vertical-align: middle;\n",
       "    }\n",
       "\n",
       "    .dataframe tbody tr th {\n",
       "        vertical-align: top;\n",
       "    }\n",
       "\n",
       "    .dataframe thead th {\n",
       "        text-align: right;\n",
       "    }\n",
       "</style>\n",
       "<table border=\"1\" class=\"dataframe\">\n",
       "  <thead>\n",
       "    <tr style=\"text-align: right;\">\n",
       "      <th></th>\n",
       "      <th>age</th>\n",
       "      <th>food</th>\n",
       "      <th>animal</th>\n",
       "    </tr>\n",
       "  </thead>\n",
       "  <tbody>\n",
       "    <tr>\n",
       "      <th>alice</th>\n",
       "      <td>19</td>\n",
       "      <td>sushi</td>\n",
       "      <td>unicorn</td>\n",
       "    </tr>\n",
       "    <tr>\n",
       "      <th>bob</th>\n",
       "      <td>7</td>\n",
       "      <td>tacos</td>\n",
       "      <td>panda</td>\n",
       "    </tr>\n",
       "    <tr>\n",
       "      <th>carol</th>\n",
       "      <td>12</td>\n",
       "      <td>kiwi</td>\n",
       "      <td>monkey</td>\n",
       "    </tr>\n",
       "    <tr>\n",
       "      <th>daisy</th>\n",
       "      <td>3</td>\n",
       "      <td>skittles</td>\n",
       "      <td>rhino</td>\n",
       "    </tr>\n",
       "  </tbody>\n",
       "</table>\n",
       "</div>"
      ],
      "text/plain": [
       "       age      food   animal\n",
       "alice   19     sushi  unicorn\n",
       "bob      7     tacos    panda\n",
       "carol   12      kiwi   monkey\n",
       "daisy    3  skittles    rhino"
      ]
     },
     "execution_count": 76,
     "metadata": {},
     "output_type": "execute_result"
    }
   ],
   "source": [
    "df_sib = pd.DataFrame(sib_data, index=sibs, columns=['age', 'food', 'animal'])\n",
    "df_sib"
   ]
  },
  {
   "cell_type": "code",
   "execution_count": 77,
   "id": "8fa88e52-d223-43e1-8cbc-78183bbfaf5b",
   "metadata": {},
   "outputs": [
    {
     "data": {
      "text/plain": [
       "4"
      ]
     },
     "execution_count": 77,
     "metadata": {},
     "output_type": "execute_result"
    }
   ],
   "source": [
    "len(df_sib)"
   ]
  },
  {
   "cell_type": "code",
   "execution_count": 78,
   "id": "4f17f8f0-beee-439b-8297-92a136689b0f",
   "metadata": {},
   "outputs": [
    {
     "data": {
      "text/plain": [
       "pandas.core.frame.DataFrame"
      ]
     },
     "execution_count": 78,
     "metadata": {},
     "output_type": "execute_result"
    }
   ],
   "source": [
    "type(df_sib)"
   ]
  },
  {
   "cell_type": "code",
   "execution_count": 79,
   "id": "3e7b20e4-9743-48a2-922d-fd87f9902fd4",
   "metadata": {},
   "outputs": [
    {
     "data": {
      "text/plain": [
       "(4, 3)"
      ]
     },
     "execution_count": 79,
     "metadata": {},
     "output_type": "execute_result"
    }
   ],
   "source": [
    "df_sib.shape"
   ]
  },
  {
   "cell_type": "code",
   "execution_count": 80,
   "id": "68e91bbc-0f4d-4c97-8b7d-936e5f7e4315",
   "metadata": {},
   "outputs": [
    {
     "data": {
      "text/plain": [
       "Index(['age', 'food', 'animal'], dtype='object')"
      ]
     },
     "execution_count": 80,
     "metadata": {},
     "output_type": "execute_result"
    }
   ],
   "source": [
    "df_sib.columns"
   ]
  },
  {
   "cell_type": "code",
   "execution_count": 81,
   "id": "6ed80d25-dbb4-4e6c-a639-8764a56141be",
   "metadata": {},
   "outputs": [
    {
     "data": {
      "text/plain": [
       "Index(['alice', 'bob', 'carol', 'daisy'], dtype='object')"
      ]
     },
     "execution_count": 81,
     "metadata": {},
     "output_type": "execute_result"
    }
   ],
   "source": [
    "df_sib.index"
   ]
  },
  {
   "cell_type": "code",
   "execution_count": 82,
   "id": "3f4ffeac-371b-4667-bb2c-afa0b3eeeb6b",
   "metadata": {},
   "outputs": [
    {
     "data": {
      "text/plain": [
       "array([[19, 'sushi', 'unicorn'],\n",
       "       [7, 'tacos', 'panda'],\n",
       "       [12, 'kiwi', 'monkey'],\n",
       "       [3, 'skittles', 'rhino']], dtype=object)"
      ]
     },
     "execution_count": 82,
     "metadata": {},
     "output_type": "execute_result"
    }
   ],
   "source": [
    "df_sib.values"
   ]
  },
  {
   "cell_type": "markdown",
   "id": "bdc02b8b-adc5-4a18-b5a5-c42ce8314c7a",
   "metadata": {},
   "source": [
    "### Accessing Rows"
   ]
  },
  {
   "cell_type": "code",
   "execution_count": 84,
   "id": "3587b34b-8664-4aeb-b44f-5dd949d4d9e5",
   "metadata": {},
   "outputs": [
    {
     "data": {
      "text/plain": [
       "age           12\n",
       "food        kiwi\n",
       "animal    monkey\n",
       "Name: carol, dtype: object"
      ]
     },
     "execution_count": 84,
     "metadata": {},
     "output_type": "execute_result"
    }
   ],
   "source": [
    "df_sib.loc['carol']"
   ]
  },
  {
   "cell_type": "code",
   "execution_count": 85,
   "id": "e2eae207-955d-492d-8ed9-2f7d6d0c99b3",
   "metadata": {},
   "outputs": [
    {
     "data": {
      "text/html": [
       "<div>\n",
       "<style scoped>\n",
       "    .dataframe tbody tr th:only-of-type {\n",
       "        vertical-align: middle;\n",
       "    }\n",
       "\n",
       "    .dataframe tbody tr th {\n",
       "        vertical-align: top;\n",
       "    }\n",
       "\n",
       "    .dataframe thead th {\n",
       "        text-align: right;\n",
       "    }\n",
       "</style>\n",
       "<table border=\"1\" class=\"dataframe\">\n",
       "  <thead>\n",
       "    <tr style=\"text-align: right;\">\n",
       "      <th></th>\n",
       "      <th>age</th>\n",
       "      <th>food</th>\n",
       "      <th>animal</th>\n",
       "    </tr>\n",
       "  </thead>\n",
       "  <tbody>\n",
       "    <tr>\n",
       "      <th>alice</th>\n",
       "      <td>19</td>\n",
       "      <td>sushi</td>\n",
       "      <td>unicorn</td>\n",
       "    </tr>\n",
       "    <tr>\n",
       "      <th>bob</th>\n",
       "      <td>7</td>\n",
       "      <td>tacos</td>\n",
       "      <td>panda</td>\n",
       "    </tr>\n",
       "    <tr>\n",
       "      <th>carol</th>\n",
       "      <td>12</td>\n",
       "      <td>kiwi</td>\n",
       "      <td>monkey</td>\n",
       "    </tr>\n",
       "  </tbody>\n",
       "</table>\n",
       "</div>"
      ],
      "text/plain": [
       "       age   food   animal\n",
       "alice   19  sushi  unicorn\n",
       "bob      7  tacos    panda\n",
       "carol   12   kiwi   monkey"
      ]
     },
     "execution_count": 85,
     "metadata": {},
     "output_type": "execute_result"
    }
   ],
   "source": [
    "df_sib.loc['alice': 'carol']"
   ]
  },
  {
   "cell_type": "code",
   "execution_count": 86,
   "id": "6bc1c375-5ea7-4755-a843-83ad741eca9d",
   "metadata": {},
   "outputs": [
    {
     "data": {
      "text/html": [
       "<div>\n",
       "<style scoped>\n",
       "    .dataframe tbody tr th:only-of-type {\n",
       "        vertical-align: middle;\n",
       "    }\n",
       "\n",
       "    .dataframe tbody tr th {\n",
       "        vertical-align: top;\n",
       "    }\n",
       "\n",
       "    .dataframe thead th {\n",
       "        text-align: right;\n",
       "    }\n",
       "</style>\n",
       "<table border=\"1\" class=\"dataframe\">\n",
       "  <thead>\n",
       "    <tr style=\"text-align: right;\">\n",
       "      <th></th>\n",
       "      <th>age</th>\n",
       "      <th>food</th>\n",
       "      <th>animal</th>\n",
       "    </tr>\n",
       "  </thead>\n",
       "  <tbody>\n",
       "    <tr>\n",
       "      <th>alice</th>\n",
       "      <td>19</td>\n",
       "      <td>sushi</td>\n",
       "      <td>unicorn</td>\n",
       "    </tr>\n",
       "    <tr>\n",
       "      <th>bob</th>\n",
       "      <td>7</td>\n",
       "      <td>tacos</td>\n",
       "      <td>panda</td>\n",
       "    </tr>\n",
       "    <tr>\n",
       "      <th>carol</th>\n",
       "      <td>12</td>\n",
       "      <td>kiwi</td>\n",
       "      <td>monkey</td>\n",
       "    </tr>\n",
       "  </tbody>\n",
       "</table>\n",
       "</div>"
      ],
      "text/plain": [
       "       age   food   animal\n",
       "alice   19  sushi  unicorn\n",
       "bob      7  tacos    panda\n",
       "carol   12   kiwi   monkey"
      ]
     },
     "execution_count": 86,
     "metadata": {},
     "output_type": "execute_result"
    }
   ],
   "source": [
    "df_sib.iloc[:3]"
   ]
  },
  {
   "cell_type": "markdown",
   "id": "387e9059-3a89-4aa3-857c-e9d237489095",
   "metadata": {},
   "source": [
    "### Accessing Columns"
   ]
  },
  {
   "cell_type": "code",
   "execution_count": 88,
   "id": "c4b5e52c-16e8-4837-82fe-0214ec47e136",
   "metadata": {},
   "outputs": [
    {
     "data": {
      "text/plain": [
       "alice       sushi\n",
       "bob         tacos\n",
       "carol        kiwi\n",
       "daisy    skittles\n",
       "Name: food, dtype: object"
      ]
     },
     "execution_count": 88,
     "metadata": {},
     "output_type": "execute_result"
    }
   ],
   "source": [
    "df_sib['food'] # brackets and quotes required when creating a new column"
   ]
  },
  {
   "cell_type": "code",
   "execution_count": 89,
   "id": "b5f4e0e0-0a3c-4aa1-882f-93b6968157bc",
   "metadata": {},
   "outputs": [
    {
     "data": {
      "text/plain": [
       "alice       sushi\n",
       "bob         tacos\n",
       "carol        kiwi\n",
       "daisy    skittles\n",
       "Name: food, dtype: object"
      ]
     },
     "execution_count": 89,
     "metadata": {},
     "output_type": "execute_result"
    }
   ],
   "source": [
    "df_sib.food # shortcut, doesn't work if col name have spaces\n",
    "            # begin with numbers\n",
    "            # if math python function/keyword"
   ]
  },
  {
   "cell_type": "code",
   "execution_count": 90,
   "id": "0edef7ee-f8bb-4c1d-9ac1-331c89847bc5",
   "metadata": {},
   "outputs": [
    {
     "data": {
      "text/html": [
       "<div>\n",
       "<style scoped>\n",
       "    .dataframe tbody tr th:only-of-type {\n",
       "        vertical-align: middle;\n",
       "    }\n",
       "\n",
       "    .dataframe tbody tr th {\n",
       "        vertical-align: top;\n",
       "    }\n",
       "\n",
       "    .dataframe thead th {\n",
       "        text-align: right;\n",
       "    }\n",
       "</style>\n",
       "<table border=\"1\" class=\"dataframe\">\n",
       "  <thead>\n",
       "    <tr style=\"text-align: right;\">\n",
       "      <th></th>\n",
       "      <th>food</th>\n",
       "      <th>age</th>\n",
       "    </tr>\n",
       "  </thead>\n",
       "  <tbody>\n",
       "    <tr>\n",
       "      <th>alice</th>\n",
       "      <td>sushi</td>\n",
       "      <td>19</td>\n",
       "    </tr>\n",
       "    <tr>\n",
       "      <th>bob</th>\n",
       "      <td>tacos</td>\n",
       "      <td>7</td>\n",
       "    </tr>\n",
       "    <tr>\n",
       "      <th>carol</th>\n",
       "      <td>kiwi</td>\n",
       "      <td>12</td>\n",
       "    </tr>\n",
       "    <tr>\n",
       "      <th>daisy</th>\n",
       "      <td>skittles</td>\n",
       "      <td>3</td>\n",
       "    </tr>\n",
       "  </tbody>\n",
       "</table>\n",
       "</div>"
      ],
      "text/plain": [
       "           food  age\n",
       "alice     sushi   19\n",
       "bob       tacos    7\n",
       "carol      kiwi   12\n",
       "daisy  skittles    3"
      ]
     },
     "execution_count": 90,
     "metadata": {},
     "output_type": "execute_result"
    }
   ],
   "source": [
    "df_sib[['food', 'age']]"
   ]
  },
  {
   "cell_type": "code",
   "execution_count": 91,
   "id": "13913988-072b-4fef-b918-df9cd7282f2f",
   "metadata": {},
   "outputs": [
    {
     "data": {
      "text/html": [
       "<div>\n",
       "<style scoped>\n",
       "    .dataframe tbody tr th:only-of-type {\n",
       "        vertical-align: middle;\n",
       "    }\n",
       "\n",
       "    .dataframe tbody tr th {\n",
       "        vertical-align: top;\n",
       "    }\n",
       "\n",
       "    .dataframe thead th {\n",
       "        text-align: right;\n",
       "    }\n",
       "</style>\n",
       "<table border=\"1\" class=\"dataframe\">\n",
       "  <thead>\n",
       "    <tr style=\"text-align: right;\">\n",
       "      <th></th>\n",
       "      <th>food</th>\n",
       "      <th>age</th>\n",
       "    </tr>\n",
       "  </thead>\n",
       "  <tbody>\n",
       "    <tr>\n",
       "      <th>alice</th>\n",
       "      <td>sushi</td>\n",
       "      <td>19</td>\n",
       "    </tr>\n",
       "    <tr>\n",
       "      <th>bob</th>\n",
       "      <td>tacos</td>\n",
       "      <td>7</td>\n",
       "    </tr>\n",
       "    <tr>\n",
       "      <th>carol</th>\n",
       "      <td>kiwi</td>\n",
       "      <td>12</td>\n",
       "    </tr>\n",
       "    <tr>\n",
       "      <th>daisy</th>\n",
       "      <td>skittles</td>\n",
       "      <td>3</td>\n",
       "    </tr>\n",
       "  </tbody>\n",
       "</table>\n",
       "</div>"
      ],
      "text/plain": [
       "           food  age\n",
       "alice     sushi   19\n",
       "bob       tacos    7\n",
       "carol      kiwi   12\n",
       "daisy  skittles    3"
      ]
     },
     "execution_count": 91,
     "metadata": {},
     "output_type": "execute_result"
    }
   ],
   "source": [
    "df_sib.iloc[:, [1, 0]]"
   ]
  },
  {
   "cell_type": "code",
   "execution_count": 92,
   "id": "74952ab9-5a8a-4202-9614-1fc8f81c8738",
   "metadata": {},
   "outputs": [
    {
     "data": {
      "text/html": [
       "<div>\n",
       "<style scoped>\n",
       "    .dataframe tbody tr th:only-of-type {\n",
       "        vertical-align: middle;\n",
       "    }\n",
       "\n",
       "    .dataframe tbody tr th {\n",
       "        vertical-align: top;\n",
       "    }\n",
       "\n",
       "    .dataframe thead th {\n",
       "        text-align: right;\n",
       "    }\n",
       "</style>\n",
       "<table border=\"1\" class=\"dataframe\">\n",
       "  <thead>\n",
       "    <tr style=\"text-align: right;\">\n",
       "      <th></th>\n",
       "      <th>age</th>\n",
       "      <th>food</th>\n",
       "      <th>animal</th>\n",
       "    </tr>\n",
       "  </thead>\n",
       "  <tbody>\n",
       "    <tr>\n",
       "      <th>alice</th>\n",
       "      <td>19</td>\n",
       "      <td>sushi</td>\n",
       "      <td>unicorn</td>\n",
       "    </tr>\n",
       "    <tr>\n",
       "      <th>bob</th>\n",
       "      <td>7</td>\n",
       "      <td>tacos</td>\n",
       "      <td>panda</td>\n",
       "    </tr>\n",
       "    <tr>\n",
       "      <th>carol</th>\n",
       "      <td>12</td>\n",
       "      <td>kiwi</td>\n",
       "      <td>monkey</td>\n",
       "    </tr>\n",
       "    <tr>\n",
       "      <th>daisy</th>\n",
       "      <td>3</td>\n",
       "      <td>skittles</td>\n",
       "      <td>rhino</td>\n",
       "    </tr>\n",
       "  </tbody>\n",
       "</table>\n",
       "</div>"
      ],
      "text/plain": [
       "       age      food   animal\n",
       "alice   19     sushi  unicorn\n",
       "bob      7     tacos    panda\n",
       "carol   12      kiwi   monkey\n",
       "daisy    3  skittles    rhino"
      ]
     },
     "execution_count": 92,
     "metadata": {},
     "output_type": "execute_result"
    }
   ],
   "source": [
    "df_sib"
   ]
  },
  {
   "cell_type": "markdown",
   "id": "d8dd6dc5-2584-42cb-9ca6-6abee28be483",
   "metadata": {},
   "source": [
    "### Adding a Column"
   ]
  },
  {
   "cell_type": "code",
   "execution_count": 94,
   "id": "b1e972b6-d83d-4fcb-a112-0da5d27af636",
   "metadata": {},
   "outputs": [],
   "source": [
    "df_sib['is_child'] = df_sib.age < 18 # must use bracket notation"
   ]
  },
  {
   "cell_type": "code",
   "execution_count": 95,
   "id": "f4439400-3533-426f-a385-7ed7462c7fee",
   "metadata": {},
   "outputs": [
    {
     "data": {
      "text/html": [
       "<div>\n",
       "<style scoped>\n",
       "    .dataframe tbody tr th:only-of-type {\n",
       "        vertical-align: middle;\n",
       "    }\n",
       "\n",
       "    .dataframe tbody tr th {\n",
       "        vertical-align: top;\n",
       "    }\n",
       "\n",
       "    .dataframe thead th {\n",
       "        text-align: right;\n",
       "    }\n",
       "</style>\n",
       "<table border=\"1\" class=\"dataframe\">\n",
       "  <thead>\n",
       "    <tr style=\"text-align: right;\">\n",
       "      <th></th>\n",
       "      <th>age</th>\n",
       "      <th>food</th>\n",
       "      <th>animal</th>\n",
       "      <th>is_child</th>\n",
       "    </tr>\n",
       "  </thead>\n",
       "  <tbody>\n",
       "    <tr>\n",
       "      <th>alice</th>\n",
       "      <td>19</td>\n",
       "      <td>sushi</td>\n",
       "      <td>unicorn</td>\n",
       "      <td>False</td>\n",
       "    </tr>\n",
       "    <tr>\n",
       "      <th>bob</th>\n",
       "      <td>7</td>\n",
       "      <td>tacos</td>\n",
       "      <td>panda</td>\n",
       "      <td>True</td>\n",
       "    </tr>\n",
       "    <tr>\n",
       "      <th>carol</th>\n",
       "      <td>12</td>\n",
       "      <td>kiwi</td>\n",
       "      <td>monkey</td>\n",
       "      <td>True</td>\n",
       "    </tr>\n",
       "    <tr>\n",
       "      <th>daisy</th>\n",
       "      <td>3</td>\n",
       "      <td>skittles</td>\n",
       "      <td>rhino</td>\n",
       "      <td>True</td>\n",
       "    </tr>\n",
       "  </tbody>\n",
       "</table>\n",
       "</div>"
      ],
      "text/plain": [
       "       age      food   animal  is_child\n",
       "alice   19     sushi  unicorn     False\n",
       "bob      7     tacos    panda      True\n",
       "carol   12      kiwi   monkey      True\n",
       "daisy    3  skittles    rhino      True"
      ]
     },
     "execution_count": 95,
     "metadata": {},
     "output_type": "execute_result"
    }
   ],
   "source": [
    "df_sib"
   ]
  },
  {
   "cell_type": "markdown",
   "id": "35bd3256-d688-49af-af37-59b9bfbe0d9a",
   "metadata": {},
   "source": [
    "### Sorting a DataFrame column"
   ]
  },
  {
   "cell_type": "code",
   "execution_count": 97,
   "id": "cf4d9d22-fd90-4cf0-a74f-f394e63b426d",
   "metadata": {},
   "outputs": [
    {
     "data": {
      "text/html": [
       "<div>\n",
       "<style scoped>\n",
       "    .dataframe tbody tr th:only-of-type {\n",
       "        vertical-align: middle;\n",
       "    }\n",
       "\n",
       "    .dataframe tbody tr th {\n",
       "        vertical-align: top;\n",
       "    }\n",
       "\n",
       "    .dataframe thead th {\n",
       "        text-align: right;\n",
       "    }\n",
       "</style>\n",
       "<table border=\"1\" class=\"dataframe\">\n",
       "  <thead>\n",
       "    <tr style=\"text-align: right;\">\n",
       "      <th></th>\n",
       "      <th>age</th>\n",
       "      <th>food</th>\n",
       "      <th>animal</th>\n",
       "      <th>is_child</th>\n",
       "    </tr>\n",
       "  </thead>\n",
       "  <tbody>\n",
       "    <tr>\n",
       "      <th>daisy</th>\n",
       "      <td>3</td>\n",
       "      <td>skittles</td>\n",
       "      <td>rhino</td>\n",
       "      <td>True</td>\n",
       "    </tr>\n",
       "    <tr>\n",
       "      <th>bob</th>\n",
       "      <td>7</td>\n",
       "      <td>tacos</td>\n",
       "      <td>panda</td>\n",
       "      <td>True</td>\n",
       "    </tr>\n",
       "    <tr>\n",
       "      <th>carol</th>\n",
       "      <td>12</td>\n",
       "      <td>kiwi</td>\n",
       "      <td>monkey</td>\n",
       "      <td>True</td>\n",
       "    </tr>\n",
       "    <tr>\n",
       "      <th>alice</th>\n",
       "      <td>19</td>\n",
       "      <td>sushi</td>\n",
       "      <td>unicorn</td>\n",
       "      <td>False</td>\n",
       "    </tr>\n",
       "  </tbody>\n",
       "</table>\n",
       "</div>"
      ],
      "text/plain": [
       "       age      food   animal  is_child\n",
       "daisy    3  skittles    rhino      True\n",
       "bob      7     tacos    panda      True\n",
       "carol   12      kiwi   monkey      True\n",
       "alice   19     sushi  unicorn     False"
      ]
     },
     "execution_count": 97,
     "metadata": {},
     "output_type": "execute_result"
    }
   ],
   "source": [
    "df_sib.sort_values(by='age')"
   ]
  },
  {
   "cell_type": "code",
   "execution_count": 98,
   "id": "903c3b78-64bc-40bd-a3dd-107c5051e0d3",
   "metadata": {},
   "outputs": [
    {
     "data": {
      "text/html": [
       "<div>\n",
       "<style scoped>\n",
       "    .dataframe tbody tr th:only-of-type {\n",
       "        vertical-align: middle;\n",
       "    }\n",
       "\n",
       "    .dataframe tbody tr th {\n",
       "        vertical-align: top;\n",
       "    }\n",
       "\n",
       "    .dataframe thead th {\n",
       "        text-align: right;\n",
       "    }\n",
       "</style>\n",
       "<table border=\"1\" class=\"dataframe\">\n",
       "  <thead>\n",
       "    <tr style=\"text-align: right;\">\n",
       "      <th></th>\n",
       "      <th>age</th>\n",
       "      <th>food</th>\n",
       "      <th>animal</th>\n",
       "      <th>is_child</th>\n",
       "    </tr>\n",
       "  </thead>\n",
       "  <tbody>\n",
       "    <tr>\n",
       "      <th>alice</th>\n",
       "      <td>19</td>\n",
       "      <td>sushi</td>\n",
       "      <td>unicorn</td>\n",
       "      <td>False</td>\n",
       "    </tr>\n",
       "    <tr>\n",
       "      <th>carol</th>\n",
       "      <td>12</td>\n",
       "      <td>kiwi</td>\n",
       "      <td>monkey</td>\n",
       "      <td>True</td>\n",
       "    </tr>\n",
       "    <tr>\n",
       "      <th>bob</th>\n",
       "      <td>7</td>\n",
       "      <td>tacos</td>\n",
       "      <td>panda</td>\n",
       "      <td>True</td>\n",
       "    </tr>\n",
       "    <tr>\n",
       "      <th>daisy</th>\n",
       "      <td>3</td>\n",
       "      <td>skittles</td>\n",
       "      <td>rhino</td>\n",
       "      <td>True</td>\n",
       "    </tr>\n",
       "  </tbody>\n",
       "</table>\n",
       "</div>"
      ],
      "text/plain": [
       "       age      food   animal  is_child\n",
       "alice   19     sushi  unicorn     False\n",
       "carol   12      kiwi   monkey      True\n",
       "bob      7     tacos    panda      True\n",
       "daisy    3  skittles    rhino      True"
      ]
     },
     "execution_count": 98,
     "metadata": {},
     "output_type": "execute_result"
    }
   ],
   "source": [
    "df_sib.sort_values(by='age', ascending=False) # makes a copy"
   ]
  },
  {
   "cell_type": "code",
   "execution_count": 99,
   "id": "135ec692-c717-4f5a-8242-eaa92ef03fa1",
   "metadata": {},
   "outputs": [],
   "source": [
    "df_sib.sort_values(by='age', ascending=False, inplace=True) # modify df_sib"
   ]
  },
  {
   "cell_type": "code",
   "execution_count": 100,
   "id": "93fc03de-b7a0-44fc-8443-6e1f67e48a4f",
   "metadata": {},
   "outputs": [
    {
     "data": {
      "text/html": [
       "<div>\n",
       "<style scoped>\n",
       "    .dataframe tbody tr th:only-of-type {\n",
       "        vertical-align: middle;\n",
       "    }\n",
       "\n",
       "    .dataframe tbody tr th {\n",
       "        vertical-align: top;\n",
       "    }\n",
       "\n",
       "    .dataframe thead th {\n",
       "        text-align: right;\n",
       "    }\n",
       "</style>\n",
       "<table border=\"1\" class=\"dataframe\">\n",
       "  <thead>\n",
       "    <tr style=\"text-align: right;\">\n",
       "      <th></th>\n",
       "      <th>age</th>\n",
       "      <th>food</th>\n",
       "      <th>animal</th>\n",
       "      <th>is_child</th>\n",
       "    </tr>\n",
       "  </thead>\n",
       "  <tbody>\n",
       "    <tr>\n",
       "      <th>alice</th>\n",
       "      <td>19</td>\n",
       "      <td>sushi</td>\n",
       "      <td>unicorn</td>\n",
       "      <td>False</td>\n",
       "    </tr>\n",
       "    <tr>\n",
       "      <th>carol</th>\n",
       "      <td>12</td>\n",
       "      <td>kiwi</td>\n",
       "      <td>monkey</td>\n",
       "      <td>True</td>\n",
       "    </tr>\n",
       "    <tr>\n",
       "      <th>bob</th>\n",
       "      <td>7</td>\n",
       "      <td>tacos</td>\n",
       "      <td>panda</td>\n",
       "      <td>True</td>\n",
       "    </tr>\n",
       "    <tr>\n",
       "      <th>daisy</th>\n",
       "      <td>3</td>\n",
       "      <td>skittles</td>\n",
       "      <td>rhino</td>\n",
       "      <td>True</td>\n",
       "    </tr>\n",
       "  </tbody>\n",
       "</table>\n",
       "</div>"
      ],
      "text/plain": [
       "       age      food   animal  is_child\n",
       "alice   19     sushi  unicorn     False\n",
       "carol   12      kiwi   monkey      True\n",
       "bob      7     tacos    panda      True\n",
       "daisy    3  skittles    rhino      True"
      ]
     },
     "execution_count": 100,
     "metadata": {},
     "output_type": "execute_result"
    }
   ],
   "source": [
    "df_sib"
   ]
  },
  {
   "cell_type": "markdown",
   "id": "c5dd5808-394a-4b86-a6d9-9b0fc4422f63",
   "metadata": {},
   "source": [
    "### IMDB Reading"
   ]
  },
  {
   "cell_type": "code",
   "execution_count": 102,
   "id": "45545558-8c73-4682-826e-67685e947e69",
   "metadata": {},
   "outputs": [
    {
     "data": {
      "text/html": [
       "<div>\n",
       "<style scoped>\n",
       "    .dataframe tbody tr th:only-of-type {\n",
       "        vertical-align: middle;\n",
       "    }\n",
       "\n",
       "    .dataframe tbody tr th {\n",
       "        vertical-align: top;\n",
       "    }\n",
       "\n",
       "    .dataframe thead th {\n",
       "        text-align: right;\n",
       "    }\n",
       "</style>\n",
       "<table border=\"1\" class=\"dataframe\">\n",
       "  <thead>\n",
       "    <tr style=\"text-align: right;\">\n",
       "      <th></th>\n",
       "      <th>Genre</th>\n",
       "      <th>Description</th>\n",
       "      <th>Director</th>\n",
       "      <th>Actors</th>\n",
       "      <th>Year</th>\n",
       "      <th>Runtime (Minutes)</th>\n",
       "      <th>Rating</th>\n",
       "      <th>Votes</th>\n",
       "      <th>Revenue (Millions)</th>\n",
       "      <th>Metascore</th>\n",
       "    </tr>\n",
       "    <tr>\n",
       "      <th>Title</th>\n",
       "      <th></th>\n",
       "      <th></th>\n",
       "      <th></th>\n",
       "      <th></th>\n",
       "      <th></th>\n",
       "      <th></th>\n",
       "      <th></th>\n",
       "      <th></th>\n",
       "      <th></th>\n",
       "      <th></th>\n",
       "    </tr>\n",
       "  </thead>\n",
       "  <tbody>\n",
       "    <tr>\n",
       "      <th>Star Wars: Episode VII - The Force Awakens</th>\n",
       "      <td>Action,Adventure,Fantasy</td>\n",
       "      <td>Three decades after the defeat of the Galactic...</td>\n",
       "      <td>J.J. Abrams</td>\n",
       "      <td>Daisy Ridley, John Boyega, Oscar Isaac, Domhna...</td>\n",
       "      <td>2015</td>\n",
       "      <td>136</td>\n",
       "      <td>8.1</td>\n",
       "      <td>661608</td>\n",
       "      <td>936.63</td>\n",
       "      <td>81.0</td>\n",
       "    </tr>\n",
       "    <tr>\n",
       "      <th>Avatar</th>\n",
       "      <td>Action,Adventure,Fantasy</td>\n",
       "      <td>A paraplegic marine dispatched to the moon Pan...</td>\n",
       "      <td>James Cameron</td>\n",
       "      <td>Sam Worthington, Zoe Saldana, Sigourney Weaver...</td>\n",
       "      <td>2009</td>\n",
       "      <td>162</td>\n",
       "      <td>7.8</td>\n",
       "      <td>935408</td>\n",
       "      <td>760.51</td>\n",
       "      <td>83.0</td>\n",
       "    </tr>\n",
       "    <tr>\n",
       "      <th>Jurassic World</th>\n",
       "      <td>Action,Adventure,Sci-Fi</td>\n",
       "      <td>A new theme park, built on the original site o...</td>\n",
       "      <td>Colin Trevorrow</td>\n",
       "      <td>Chris Pratt, Bryce Dallas Howard, Ty Simpkins,...</td>\n",
       "      <td>2015</td>\n",
       "      <td>124</td>\n",
       "      <td>7.0</td>\n",
       "      <td>455169</td>\n",
       "      <td>652.18</td>\n",
       "      <td>59.0</td>\n",
       "    </tr>\n",
       "    <tr>\n",
       "      <th>The Avengers</th>\n",
       "      <td>Action,Sci-Fi</td>\n",
       "      <td>Earth's mightiest heroes must come together an...</td>\n",
       "      <td>Joss Whedon</td>\n",
       "      <td>Robert Downey Jr., Chris Evans, Scarlett Johan...</td>\n",
       "      <td>2012</td>\n",
       "      <td>143</td>\n",
       "      <td>8.1</td>\n",
       "      <td>1045588</td>\n",
       "      <td>623.28</td>\n",
       "      <td>69.0</td>\n",
       "    </tr>\n",
       "    <tr>\n",
       "      <th>The Dark Knight</th>\n",
       "      <td>Action,Crime,Drama</td>\n",
       "      <td>When the menace known as the Joker wreaks havo...</td>\n",
       "      <td>Christopher Nolan</td>\n",
       "      <td>Christian Bale, Heath Ledger, Aaron Eckhart,Mi...</td>\n",
       "      <td>2008</td>\n",
       "      <td>152</td>\n",
       "      <td>9.0</td>\n",
       "      <td>1791916</td>\n",
       "      <td>533.32</td>\n",
       "      <td>82.0</td>\n",
       "    </tr>\n",
       "    <tr>\n",
       "      <th>...</th>\n",
       "      <td>...</td>\n",
       "      <td>...</td>\n",
       "      <td>...</td>\n",
       "      <td>...</td>\n",
       "      <td>...</td>\n",
       "      <td>...</td>\n",
       "      <td>...</td>\n",
       "      <td>...</td>\n",
       "      <td>...</td>\n",
       "      <td>...</td>\n",
       "    </tr>\n",
       "    <tr>\n",
       "      <th>This Beautiful Fantastic</th>\n",
       "      <td>Comedy,Drama,Fantasy</td>\n",
       "      <td>A young woman who dreams of being a children's...</td>\n",
       "      <td>Simon Aboud</td>\n",
       "      <td>Jessica Brown Findlay, Andrew Scott, Jeremy Ir...</td>\n",
       "      <td>2016</td>\n",
       "      <td>100</td>\n",
       "      <td>6.9</td>\n",
       "      <td>688</td>\n",
       "      <td>NaN</td>\n",
       "      <td>51.0</td>\n",
       "    </tr>\n",
       "    <tr>\n",
       "      <th>Triangle</th>\n",
       "      <td>Fantasy,Mystery,Thriller</td>\n",
       "      <td>The story revolves around the passengers of a ...</td>\n",
       "      <td>Christopher Smith</td>\n",
       "      <td>Melissa George, Joshua McIvor, Jack Taylor,Mic...</td>\n",
       "      <td>2009</td>\n",
       "      <td>99</td>\n",
       "      <td>6.9</td>\n",
       "      <td>72533</td>\n",
       "      <td>NaN</td>\n",
       "      <td>66.0</td>\n",
       "    </tr>\n",
       "    <tr>\n",
       "      <th>True Crimes</th>\n",
       "      <td>Crime,Drama,Thriller</td>\n",
       "      <td>A murder investigation of a slain business man...</td>\n",
       "      <td>Alexandros Avranas</td>\n",
       "      <td>Jim Carrey, Charlotte Gainsbourg, Marton Csoka...</td>\n",
       "      <td>2016</td>\n",
       "      <td>92</td>\n",
       "      <td>7.3</td>\n",
       "      <td>198</td>\n",
       "      <td>NaN</td>\n",
       "      <td>43.0</td>\n",
       "    </tr>\n",
       "    <tr>\n",
       "      <th>Twin Peaks: The Missing Pieces</th>\n",
       "      <td>Drama,Horror,Mystery</td>\n",
       "      <td>Twin Peaks before Twin Peaks (1990) and at the...</td>\n",
       "      <td>David Lynch</td>\n",
       "      <td>Chris Isaak, Kiefer Sutherland, C.H. Evans, Sa...</td>\n",
       "      <td>2014</td>\n",
       "      <td>91</td>\n",
       "      <td>8.1</td>\n",
       "      <td>1973</td>\n",
       "      <td>NaN</td>\n",
       "      <td>NaN</td>\n",
       "    </tr>\n",
       "    <tr>\n",
       "      <th>Winter's Bone</th>\n",
       "      <td>Drama</td>\n",
       "      <td>An unflinching Ozark Mountain girl hacks throu...</td>\n",
       "      <td>Debra Granik</td>\n",
       "      <td>Jennifer Lawrence, John Hawkes, Garret Dillahu...</td>\n",
       "      <td>2010</td>\n",
       "      <td>100</td>\n",
       "      <td>7.2</td>\n",
       "      <td>116435</td>\n",
       "      <td>NaN</td>\n",
       "      <td>NaN</td>\n",
       "    </tr>\n",
       "  </tbody>\n",
       "</table>\n",
       "<p>500 rows × 10 columns</p>\n",
       "</div>"
      ],
      "text/plain": [
       "                                                               Genre  \\\n",
       "Title                                                                  \n",
       "Star Wars: Episode VII - The Force Awakens  Action,Adventure,Fantasy   \n",
       "Avatar                                      Action,Adventure,Fantasy   \n",
       "Jurassic World                               Action,Adventure,Sci-Fi   \n",
       "The Avengers                                           Action,Sci-Fi   \n",
       "The Dark Knight                                   Action,Crime,Drama   \n",
       "...                                                              ...   \n",
       "This Beautiful Fantastic                        Comedy,Drama,Fantasy   \n",
       "Triangle                                    Fantasy,Mystery,Thriller   \n",
       "True Crimes                                     Crime,Drama,Thriller   \n",
       "Twin Peaks: The Missing Pieces                  Drama,Horror,Mystery   \n",
       "Winter's Bone                                                  Drama   \n",
       "\n",
       "                                                                                  Description  \\\n",
       "Title                                                                                           \n",
       "Star Wars: Episode VII - The Force Awakens  Three decades after the defeat of the Galactic...   \n",
       "Avatar                                      A paraplegic marine dispatched to the moon Pan...   \n",
       "Jurassic World                              A new theme park, built on the original site o...   \n",
       "The Avengers                                Earth's mightiest heroes must come together an...   \n",
       "The Dark Knight                             When the menace known as the Joker wreaks havo...   \n",
       "...                                                                                       ...   \n",
       "This Beautiful Fantastic                    A young woman who dreams of being a children's...   \n",
       "Triangle                                    The story revolves around the passengers of a ...   \n",
       "True Crimes                                 A murder investigation of a slain business man...   \n",
       "Twin Peaks: The Missing Pieces              Twin Peaks before Twin Peaks (1990) and at the...   \n",
       "Winter's Bone                               An unflinching Ozark Mountain girl hacks throu...   \n",
       "\n",
       "                                                      Director  \\\n",
       "Title                                                            \n",
       "Star Wars: Episode VII - The Force Awakens         J.J. Abrams   \n",
       "Avatar                                           James Cameron   \n",
       "Jurassic World                                 Colin Trevorrow   \n",
       "The Avengers                                       Joss Whedon   \n",
       "The Dark Knight                              Christopher Nolan   \n",
       "...                                                        ...   \n",
       "This Beautiful Fantastic                           Simon Aboud   \n",
       "Triangle                                     Christopher Smith   \n",
       "True Crimes                                 Alexandros Avranas   \n",
       "Twin Peaks: The Missing Pieces                     David Lynch   \n",
       "Winter's Bone                                     Debra Granik   \n",
       "\n",
       "                                                                                       Actors  \\\n",
       "Title                                                                                           \n",
       "Star Wars: Episode VII - The Force Awakens  Daisy Ridley, John Boyega, Oscar Isaac, Domhna...   \n",
       "Avatar                                      Sam Worthington, Zoe Saldana, Sigourney Weaver...   \n",
       "Jurassic World                              Chris Pratt, Bryce Dallas Howard, Ty Simpkins,...   \n",
       "The Avengers                                Robert Downey Jr., Chris Evans, Scarlett Johan...   \n",
       "The Dark Knight                             Christian Bale, Heath Ledger, Aaron Eckhart,Mi...   \n",
       "...                                                                                       ...   \n",
       "This Beautiful Fantastic                    Jessica Brown Findlay, Andrew Scott, Jeremy Ir...   \n",
       "Triangle                                    Melissa George, Joshua McIvor, Jack Taylor,Mic...   \n",
       "True Crimes                                 Jim Carrey, Charlotte Gainsbourg, Marton Csoka...   \n",
       "Twin Peaks: The Missing Pieces              Chris Isaak, Kiefer Sutherland, C.H. Evans, Sa...   \n",
       "Winter's Bone                               Jennifer Lawrence, John Hawkes, Garret Dillahu...   \n",
       "\n",
       "                                            Year  Runtime (Minutes)  Rating  \\\n",
       "Title                                                                         \n",
       "Star Wars: Episode VII - The Force Awakens  2015                136     8.1   \n",
       "Avatar                                      2009                162     7.8   \n",
       "Jurassic World                              2015                124     7.0   \n",
       "The Avengers                                2012                143     8.1   \n",
       "The Dark Knight                             2008                152     9.0   \n",
       "...                                          ...                ...     ...   \n",
       "This Beautiful Fantastic                    2016                100     6.9   \n",
       "Triangle                                    2009                 99     6.9   \n",
       "True Crimes                                 2016                 92     7.3   \n",
       "Twin Peaks: The Missing Pieces              2014                 91     8.1   \n",
       "Winter's Bone                               2010                100     7.2   \n",
       "\n",
       "                                              Votes  Revenue (Millions)  \\\n",
       "Title                                                                     \n",
       "Star Wars: Episode VII - The Force Awakens   661608              936.63   \n",
       "Avatar                                       935408              760.51   \n",
       "Jurassic World                               455169              652.18   \n",
       "The Avengers                                1045588              623.28   \n",
       "The Dark Knight                             1791916              533.32   \n",
       "...                                             ...                 ...   \n",
       "This Beautiful Fantastic                        688                 NaN   \n",
       "Triangle                                      72533                 NaN   \n",
       "True Crimes                                     198                 NaN   \n",
       "Twin Peaks: The Missing Pieces                 1973                 NaN   \n",
       "Winter's Bone                                116435                 NaN   \n",
       "\n",
       "                                            Metascore  \n",
       "Title                                                  \n",
       "Star Wars: Episode VII - The Force Awakens       81.0  \n",
       "Avatar                                           83.0  \n",
       "Jurassic World                                   59.0  \n",
       "The Avengers                                     69.0  \n",
       "The Dark Knight                                  82.0  \n",
       "...                                               ...  \n",
       "This Beautiful Fantastic                         51.0  \n",
       "Triangle                                         66.0  \n",
       "True Crimes                                      43.0  \n",
       "Twin Peaks: The Missing Pieces                    NaN  \n",
       "Winter's Bone                                     NaN  \n",
       "\n",
       "[500 rows x 10 columns]"
      ]
     },
     "execution_count": 102,
     "metadata": {},
     "output_type": "execute_result"
    }
   ],
   "source": [
    "dfmovie = pd.read_csv('imdb-movie.csv', index_col='Title')\n",
    "dfmovie"
   ]
  },
  {
   "cell_type": "code",
   "execution_count": 103,
   "id": "7dabebba-6ebd-465a-9bc7-112108f634b0",
   "metadata": {},
   "outputs": [
    {
     "data": {
      "text/html": [
       "<div>\n",
       "<style scoped>\n",
       "    .dataframe tbody tr th:only-of-type {\n",
       "        vertical-align: middle;\n",
       "    }\n",
       "\n",
       "    .dataframe tbody tr th {\n",
       "        vertical-align: top;\n",
       "    }\n",
       "\n",
       "    .dataframe thead th {\n",
       "        text-align: right;\n",
       "    }\n",
       "</style>\n",
       "<table border=\"1\" class=\"dataframe\">\n",
       "  <thead>\n",
       "    <tr style=\"text-align: right;\">\n",
       "      <th></th>\n",
       "      <th>Genre</th>\n",
       "      <th>Description</th>\n",
       "      <th>Director</th>\n",
       "      <th>Actors</th>\n",
       "      <th>Year</th>\n",
       "      <th>Runtime (Minutes)</th>\n",
       "      <th>Rating</th>\n",
       "      <th>Votes</th>\n",
       "      <th>Revenue (Millions)</th>\n",
       "      <th>Metascore</th>\n",
       "    </tr>\n",
       "    <tr>\n",
       "      <th>Title</th>\n",
       "      <th></th>\n",
       "      <th></th>\n",
       "      <th></th>\n",
       "      <th></th>\n",
       "      <th></th>\n",
       "      <th></th>\n",
       "      <th></th>\n",
       "      <th></th>\n",
       "      <th></th>\n",
       "      <th></th>\n",
       "    </tr>\n",
       "  </thead>\n",
       "  <tbody>\n",
       "    <tr>\n",
       "      <th>Twin Peaks: The Missing Pieces</th>\n",
       "      <td>Drama,Horror,Mystery</td>\n",
       "      <td>Twin Peaks before Twin Peaks (1990) and at the...</td>\n",
       "      <td>David Lynch</td>\n",
       "      <td>Chris Isaak, Kiefer Sutherland, C.H. Evans, Sa...</td>\n",
       "      <td>2014</td>\n",
       "      <td>91</td>\n",
       "      <td>8.1</td>\n",
       "      <td>1973</td>\n",
       "      <td>NaN</td>\n",
       "      <td>NaN</td>\n",
       "    </tr>\n",
       "    <tr>\n",
       "      <th>Winter's Bone</th>\n",
       "      <td>Drama</td>\n",
       "      <td>An unflinching Ozark Mountain girl hacks throu...</td>\n",
       "      <td>Debra Granik</td>\n",
       "      <td>Jennifer Lawrence, John Hawkes, Garret Dillahu...</td>\n",
       "      <td>2010</td>\n",
       "      <td>100</td>\n",
       "      <td>7.2</td>\n",
       "      <td>116435</td>\n",
       "      <td>NaN</td>\n",
       "      <td>NaN</td>\n",
       "    </tr>\n",
       "  </tbody>\n",
       "</table>\n",
       "</div>"
      ],
      "text/plain": [
       "                                               Genre  \\\n",
       "Title                                                  \n",
       "Twin Peaks: The Missing Pieces  Drama,Horror,Mystery   \n",
       "Winter's Bone                                  Drama   \n",
       "\n",
       "                                                                      Description  \\\n",
       "Title                                                                               \n",
       "Twin Peaks: The Missing Pieces  Twin Peaks before Twin Peaks (1990) and at the...   \n",
       "Winter's Bone                   An unflinching Ozark Mountain girl hacks throu...   \n",
       "\n",
       "                                    Director  \\\n",
       "Title                                          \n",
       "Twin Peaks: The Missing Pieces   David Lynch   \n",
       "Winter's Bone                   Debra Granik   \n",
       "\n",
       "                                                                           Actors  \\\n",
       "Title                                                                               \n",
       "Twin Peaks: The Missing Pieces  Chris Isaak, Kiefer Sutherland, C.H. Evans, Sa...   \n",
       "Winter's Bone                   Jennifer Lawrence, John Hawkes, Garret Dillahu...   \n",
       "\n",
       "                                Year  Runtime (Minutes)  Rating   Votes  \\\n",
       "Title                                                                     \n",
       "Twin Peaks: The Missing Pieces  2014                 91     8.1    1973   \n",
       "Winter's Bone                   2010                100     7.2  116435   \n",
       "\n",
       "                                Revenue (Millions)  Metascore  \n",
       "Title                                                          \n",
       "Twin Peaks: The Missing Pieces                 NaN        NaN  \n",
       "Winter's Bone                                  NaN        NaN  "
      ]
     },
     "execution_count": 103,
     "metadata": {},
     "output_type": "execute_result"
    }
   ],
   "source": [
    "dfmovie.tail(2)"
   ]
  },
  {
   "cell_type": "code",
   "execution_count": 104,
   "id": "2e370cb9-e9f1-4f86-acec-9deca1353eb4",
   "metadata": {},
   "outputs": [
    {
     "name": "stdout",
     "output_type": "stream",
     "text": [
      "<class 'pandas.core.frame.DataFrame'>\n",
      "Index: 500 entries, Star Wars: Episode VII - The Force Awakens to Winter's Bone\n",
      "Data columns (total 10 columns):\n",
      " #   Column              Non-Null Count  Dtype  \n",
      "---  ------              --------------  -----  \n",
      " 0   Genre               500 non-null    object \n",
      " 1   Description         500 non-null    object \n",
      " 2   Director            500 non-null    object \n",
      " 3   Actors              500 non-null    object \n",
      " 4   Year                500 non-null    int64  \n",
      " 5   Runtime (Minutes)   500 non-null    int64  \n",
      " 6   Rating              500 non-null    float64\n",
      " 7   Votes               500 non-null    int64  \n",
      " 8   Revenue (Millions)  465 non-null    float64\n",
      " 9   Metascore           467 non-null    float64\n",
      "dtypes: float64(3), int64(3), object(4)\n",
      "memory usage: 43.0+ KB\n"
     ]
    }
   ],
   "source": [
    "dfmovie.info()"
   ]
  },
  {
   "cell_type": "code",
   "execution_count": 105,
   "id": "82b4fc29-7fcb-4005-8a91-f50a9175312d",
   "metadata": {},
   "outputs": [
    {
     "data": {
      "text/html": [
       "<div>\n",
       "<style scoped>\n",
       "    .dataframe tbody tr th:only-of-type {\n",
       "        vertical-align: middle;\n",
       "    }\n",
       "\n",
       "    .dataframe tbody tr th {\n",
       "        vertical-align: top;\n",
       "    }\n",
       "\n",
       "    .dataframe thead th {\n",
       "        text-align: right;\n",
       "    }\n",
       "</style>\n",
       "<table border=\"1\" class=\"dataframe\">\n",
       "  <thead>\n",
       "    <tr style=\"text-align: right;\">\n",
       "      <th></th>\n",
       "      <th>Year</th>\n",
       "      <th>Runtime (Minutes)</th>\n",
       "      <th>Rating</th>\n",
       "      <th>Votes</th>\n",
       "      <th>Revenue (Millions)</th>\n",
       "      <th>Metascore</th>\n",
       "    </tr>\n",
       "  </thead>\n",
       "  <tbody>\n",
       "    <tr>\n",
       "      <th>count</th>\n",
       "      <td>500.000000</td>\n",
       "      <td>500.000000</td>\n",
       "      <td>500.000000</td>\n",
       "      <td>5.000000e+02</td>\n",
       "      <td>465.000000</td>\n",
       "      <td>467.000000</td>\n",
       "    </tr>\n",
       "    <tr>\n",
       "      <th>mean</th>\n",
       "      <td>2012.166000</td>\n",
       "      <td>119.494000</td>\n",
       "      <td>7.461000</td>\n",
       "      <td>2.486979e+05</td>\n",
       "      <td>99.529118</td>\n",
       "      <td>69.051392</td>\n",
       "    </tr>\n",
       "    <tr>\n",
       "      <th>std</th>\n",
       "      <td>3.319712</td>\n",
       "      <td>19.779596</td>\n",
       "      <td>0.444042</td>\n",
       "      <td>2.246276e+05</td>\n",
       "      <td>121.446885</td>\n",
       "      <td>13.389571</td>\n",
       "    </tr>\n",
       "    <tr>\n",
       "      <th>min</th>\n",
       "      <td>2006.000000</td>\n",
       "      <td>66.000000</td>\n",
       "      <td>6.800000</td>\n",
       "      <td>6.100000e+01</td>\n",
       "      <td>0.010000</td>\n",
       "      <td>23.000000</td>\n",
       "    </tr>\n",
       "    <tr>\n",
       "      <th>25%</th>\n",
       "      <td>2009.000000</td>\n",
       "      <td>105.000000</td>\n",
       "      <td>7.100000</td>\n",
       "      <td>8.955050e+04</td>\n",
       "      <td>14.670000</td>\n",
       "      <td>60.000000</td>\n",
       "    </tr>\n",
       "    <tr>\n",
       "      <th>50%</th>\n",
       "      <td>2013.000000</td>\n",
       "      <td>117.000000</td>\n",
       "      <td>7.400000</td>\n",
       "      <td>1.998365e+05</td>\n",
       "      <td>54.120000</td>\n",
       "      <td>70.000000</td>\n",
       "    </tr>\n",
       "    <tr>\n",
       "      <th>75%</th>\n",
       "      <td>2015.000000</td>\n",
       "      <td>130.250000</td>\n",
       "      <td>7.800000</td>\n",
       "      <td>3.465072e+05</td>\n",
       "      <td>141.320000</td>\n",
       "      <td>79.000000</td>\n",
       "    </tr>\n",
       "    <tr>\n",
       "      <th>max</th>\n",
       "      <td>2016.000000</td>\n",
       "      <td>191.000000</td>\n",
       "      <td>9.000000</td>\n",
       "      <td>1.791916e+06</td>\n",
       "      <td>936.630000</td>\n",
       "      <td>100.000000</td>\n",
       "    </tr>\n",
       "  </tbody>\n",
       "</table>\n",
       "</div>"
      ],
      "text/plain": [
       "              Year  Runtime (Minutes)      Rating         Votes  \\\n",
       "count   500.000000         500.000000  500.000000  5.000000e+02   \n",
       "mean   2012.166000         119.494000    7.461000  2.486979e+05   \n",
       "std       3.319712          19.779596    0.444042  2.246276e+05   \n",
       "min    2006.000000          66.000000    6.800000  6.100000e+01   \n",
       "25%    2009.000000         105.000000    7.100000  8.955050e+04   \n",
       "50%    2013.000000         117.000000    7.400000  1.998365e+05   \n",
       "75%    2015.000000         130.250000    7.800000  3.465072e+05   \n",
       "max    2016.000000         191.000000    9.000000  1.791916e+06   \n",
       "\n",
       "       Revenue (Millions)   Metascore  \n",
       "count          465.000000  467.000000  \n",
       "mean            99.529118   69.051392  \n",
       "std            121.446885   13.389571  \n",
       "min              0.010000   23.000000  \n",
       "25%             14.670000   60.000000  \n",
       "50%             54.120000   70.000000  \n",
       "75%            141.320000   79.000000  \n",
       "max            936.630000  100.000000  "
      ]
     },
     "execution_count": 105,
     "metadata": {},
     "output_type": "execute_result"
    }
   ],
   "source": [
    "dfmovie.describe() #for numerical data"
   ]
  },
  {
   "cell_type": "code",
   "execution_count": 106,
   "id": "c9d504a2-d3f3-43fb-ba3f-9f81994f40c4",
   "metadata": {},
   "outputs": [
    {
     "data": {
      "text/plain": [
       "Genre                                          Action,Adventure,Fantasy\n",
       "Description           A paraplegic marine dispatched to the moon Pan...\n",
       "Director                                                  James Cameron\n",
       "Actors                Sam Worthington, Zoe Saldana, Sigourney Weaver...\n",
       "Year                                                               2009\n",
       "Runtime (Minutes)                                                   162\n",
       "Rating                                                              7.8\n",
       "Votes                                                            935408\n",
       "Revenue (Millions)                                               760.51\n",
       "Metascore                                                          83.0\n",
       "Name: Avatar, dtype: object"
      ]
     },
     "execution_count": 106,
     "metadata": {},
     "output_type": "execute_result"
    }
   ],
   "source": [
    "dfmovie.loc['Avatar']"
   ]
  },
  {
   "cell_type": "code",
   "execution_count": 107,
   "id": "db8a277c-867b-4cdf-a567-1887554063ff",
   "metadata": {},
   "outputs": [
    {
     "data": {
      "text/plain": [
       "count     500.000000\n",
       "mean     2012.166000\n",
       "std         3.319712\n",
       "min      2006.000000\n",
       "25%      2009.000000\n",
       "50%      2013.000000\n",
       "75%      2015.000000\n",
       "max      2016.000000\n",
       "Name: Year, dtype: float64"
      ]
     },
     "execution_count": 107,
     "metadata": {},
     "output_type": "execute_result"
    }
   ],
   "source": [
    "dfmovie.Year.describe()"
   ]
  },
  {
   "cell_type": "code",
   "execution_count": 108,
   "id": "85046f2a-3589-45b1-93b9-745c8bacbd03",
   "metadata": {},
   "outputs": [],
   "source": [
    "dfmovie.Year = dfmovie.Year.astype('category')"
   ]
  },
  {
   "cell_type": "code",
   "execution_count": 109,
   "id": "9dceeca1-f94c-4182-8822-e4b678177801",
   "metadata": {},
   "outputs": [
    {
     "data": {
      "text/plain": [
       "count      500\n",
       "unique      11\n",
       "top       2016\n",
       "freq       114\n",
       "Name: Year, dtype: int64"
      ]
     },
     "execution_count": 109,
     "metadata": {},
     "output_type": "execute_result"
    }
   ],
   "source": [
    "dfmovie.Year.describe()"
   ]
  },
  {
   "cell_type": "code",
   "execution_count": 110,
   "id": "5ae3f47b-eaf4-4df3-a2eb-4819b69b2d81",
   "metadata": {},
   "outputs": [
    {
     "data": {
      "text/plain": [
       "9.0"
      ]
     },
     "execution_count": 110,
     "metadata": {},
     "output_type": "execute_result"
    }
   ],
   "source": [
    "dfmovie.Rating.max()"
   ]
  },
  {
   "cell_type": "code",
   "execution_count": 111,
   "id": "c0bda9e6-7798-4396-be47-7226995a1f9c",
   "metadata": {},
   "outputs": [
    {
     "data": {
      "text/plain": [
       "6.8"
      ]
     },
     "execution_count": 111,
     "metadata": {},
     "output_type": "execute_result"
    }
   ],
   "source": [
    "dfmovie.Rating.min()"
   ]
  },
  {
   "cell_type": "code",
   "execution_count": 112,
   "id": "527af192-04af-4a82-92c3-c7e42ae471b5",
   "metadata": {},
   "outputs": [
    {
     "data": {
      "text/plain": [
       "Title\n",
       "The Dark Knight          9.0\n",
       "Inception                8.8\n",
       "Dangal                   8.8\n",
       "Interstellar             8.6\n",
       "The Intouchables         8.6\n",
       "Kimi no na wa            8.6\n",
       "The Dark Knight Rises    8.5\n",
       "The Departed             8.5\n",
       "The Prestige             8.5\n",
       "Whiplash                 8.5\n",
       "Name: Rating, dtype: float64"
      ]
     },
     "execution_count": 112,
     "metadata": {},
     "output_type": "execute_result"
    }
   ],
   "source": [
    "dfmovie.Rating.nlargest(10)"
   ]
  },
  {
   "cell_type": "code",
   "execution_count": 113,
   "id": "648017f1-397c-482c-b990-7bc19a9e9949",
   "metadata": {},
   "outputs": [
    {
     "data": {
      "text/plain": [
       "7.461"
      ]
     },
     "execution_count": 113,
     "metadata": {},
     "output_type": "execute_result"
    }
   ],
   "source": [
    "dfmovie.Rating.mean()"
   ]
  },
  {
   "cell_type": "code",
   "execution_count": 170,
   "id": "24b4069b-6c05-41ad-baea-7c30051c1c11",
   "metadata": {},
   "outputs": [
    {
     "data": {
      "text/plain": [
       "Index(['Genre', 'Description', 'Director', 'Actors', 'Year',\n",
       "       'Runtime (Minutes)', 'Rating', 'Votes', 'Revenue (Millions)',\n",
       "       'Metascore'],\n",
       "      dtype='object')"
      ]
     },
     "execution_count": 170,
     "metadata": {},
     "output_type": "execute_result"
    }
   ],
   "source": [
    "dfmovie.columns"
   ]
  },
  {
   "cell_type": "code",
   "execution_count": 174,
   "id": "06e5963f-7dd2-4db0-b6e2-c13304e49140",
   "metadata": {},
   "outputs": [],
   "source": [
    "dfmovie.rename(columns={'Runtime (Minutes)': 'Runtime_min', \n",
    "                        'Revenue (Millions)': 'Revenue_mil'}, \n",
    "                inplace=True)"
   ]
  },
  {
   "cell_type": "code",
   "execution_count": 179,
   "id": "474fc059-d184-4ef0-b082-7861d3c6728a",
   "metadata": {},
   "outputs": [
    {
     "data": {
      "text/plain": [
       "CategoricalDtype(categories=[2006, 2007, 2008, 2009, 2010, 2011, 2012, 2013, 2014, 2015,\n",
       "                  2016],\n",
       ", ordered=False, categories_dtype=int64)"
      ]
     },
     "execution_count": 179,
     "metadata": {},
     "output_type": "execute_result"
    }
   ],
   "source": [
    "dfmovie.Year.dtype"
   ]
  },
  {
   "cell_type": "code",
   "execution_count": 181,
   "id": "343aed40-a111-4fdf-bfcc-6aac26501f31",
   "metadata": {},
   "outputs": [
    {
     "data": {
      "text/plain": [
       "[2015, 2009, 2012, 2008, 2016, ..., 2006, 2010, 2011, 2014, 2007]\n",
       "Length: 11\n",
       "Categories (11, int64): [2006, 2007, 2008, 2009, ..., 2013, 2014, 2015, 2016]"
      ]
     },
     "execution_count": 181,
     "metadata": {},
     "output_type": "execute_result"
    }
   ],
   "source": [
    "dfmovie.Year.unique()"
   ]
  },
  {
   "cell_type": "code",
   "execution_count": 185,
   "id": "17e45941-889d-4b1c-ae34-c56189fc46c1",
   "metadata": {},
   "outputs": [
    {
     "data": {
      "text/plain": [
       "[2015, 2009, 2012, 2008, 2016, 2013, 2006, 2010, 2011, 2014, 2007]"
      ]
     },
     "execution_count": 185,
     "metadata": {},
     "output_type": "execute_result"
    }
   ],
   "source": [
    "dfmovie.Year.unique().tolist() # change column to a list instead of default series"
   ]
  },
  {
   "cell_type": "markdown",
   "id": "fceee8ae-30e6-4b47-acf1-f76f679ae829",
   "metadata": {},
   "source": [
    "### Column Operations"
   ]
  },
  {
   "cell_type": "code",
   "execution_count": 264,
   "id": "8aa73438-ac72-4c0a-887d-2338b7c5f9d6",
   "metadata": {},
   "outputs": [
    {
     "data": {
      "text/plain": [
       "Title\n",
       "Star Wars: Episode VII - The Force Awakens    8.1\n",
       "Avatar                                        7.8\n",
       "Jurassic World                                7.0\n",
       "The Avengers                                  8.1\n",
       "The Dark Knight                               9.0\n",
       "                                             ... \n",
       "This Beautiful Fantastic                      6.9\n",
       "Triangle                                      6.9\n",
       "True Crimes                                   7.3\n",
       "Twin Peaks: The Missing Pieces                8.1\n",
       "Winter's Bone                                 7.2\n",
       "Name: Rating, Length: 500, dtype: float64"
      ]
     },
     "execution_count": 264,
     "metadata": {},
     "output_type": "execute_result"
    }
   ],
   "source": [
    "ratings = dfmovie.Rating\n",
    "ratings"
   ]
  },
  {
   "cell_type": "code",
   "execution_count": 198,
   "id": "1a79eb16-e6c0-423d-83a2-22e14bba8793",
   "metadata": {},
   "outputs": [
    {
     "data": {
      "text/plain": [
       "count    500.000000\n",
       "mean       7.461000\n",
       "std        0.444042\n",
       "min        6.800000\n",
       "25%        7.100000\n",
       "50%        7.400000\n",
       "75%        7.800000\n",
       "max        9.000000\n",
       "Name: Rating, dtype: float64"
      ]
     },
     "execution_count": 198,
     "metadata": {},
     "output_type": "execute_result"
    }
   ],
   "source": [
    "ratings.describe()"
   ]
  },
  {
   "cell_type": "code",
   "execution_count": 200,
   "id": "6e3f9aea-e50b-4ac4-a922-dac23917f1d4",
   "metadata": {},
   "outputs": [
    {
     "data": {
      "text/plain": [
       "7.461"
      ]
     },
     "execution_count": 200,
     "metadata": {},
     "output_type": "execute_result"
    }
   ],
   "source": [
    "ratings.mean()"
   ]
  },
  {
   "cell_type": "code",
   "execution_count": 206,
   "id": "39cfb105-a8f3-4459-a810-c74bb2e649a4",
   "metadata": {},
   "outputs": [
    {
     "data": {
      "text/plain": [
       "7.4"
      ]
     },
     "execution_count": 206,
     "metadata": {},
     "output_type": "execute_result"
    }
   ],
   "source": [
    "ratings.median()"
   ]
  },
  {
   "cell_type": "code",
   "execution_count": 208,
   "id": "3de7f8fa-48ca-4047-954c-f46750636073",
   "metadata": {},
   "outputs": [
    {
     "data": {
      "text/plain": [
       "3730.5"
      ]
     },
     "execution_count": 208,
     "metadata": {},
     "output_type": "execute_result"
    }
   ],
   "source": [
    "ratings.sum()"
   ]
  },
  {
   "cell_type": "code",
   "execution_count": 212,
   "id": "1dd25863-bfdd-4ec5-afbe-62d1aa9f7e32",
   "metadata": {},
   "outputs": [
    {
     "data": {
      "text/plain": [
       "9.0"
      ]
     },
     "execution_count": 212,
     "metadata": {},
     "output_type": "execute_result"
    }
   ],
   "source": [
    "ratings.max()"
   ]
  },
  {
   "cell_type": "code",
   "execution_count": 220,
   "id": "a001efe6-0865-47d4-aa33-c322cd24c2ad",
   "metadata": {},
   "outputs": [
    {
     "data": {
      "text/plain": [
       "Title\n",
       "The Dark Knight    9.0\n",
       "Inception          8.8\n",
       "Dangal             8.8\n",
       "Name: Rating, dtype: float64"
      ]
     },
     "execution_count": 220,
     "metadata": {},
     "output_type": "execute_result"
    }
   ],
   "source": [
    "ratings.nlargest(3)"
   ]
  },
  {
   "cell_type": "code",
   "execution_count": 224,
   "id": "62a0d0be-5c84-4b9a-aafb-f3e5d7753d38",
   "metadata": {},
   "outputs": [
    {
     "data": {
      "text/plain": [
       "Index(['The Dark Knight', 'Inception', 'Dangal'], dtype='object', name='Title')"
      ]
     },
     "execution_count": 224,
     "metadata": {},
     "output_type": "execute_result"
    }
   ],
   "source": [
    "ratings.nlargest(3).index"
   ]
  },
  {
   "cell_type": "markdown",
   "id": "c7ec5b2e-1718-4834-a718-36d2f79850f8",
   "metadata": {},
   "source": [
    "Extract the movies with ratings between 8.5 and 9 inclusive"
   ]
  },
  {
   "cell_type": "code",
   "execution_count": 253,
   "id": "aff09983-e86b-40ad-bf37-cbc38a1de287",
   "metadata": {},
   "outputs": [
    {
     "data": {
      "text/plain": [
       "Title\n",
       "The Dark Knight          9.0\n",
       "The Dark Knight Rises    8.5\n",
       "Inception                8.8\n",
       "Interstellar             8.6\n",
       "The Departed             8.5\n",
       "The Prestige             8.5\n",
       "The Intouchables         8.6\n",
       "Whiplash                 8.5\n",
       "The Lives of Others      8.5\n",
       "Dangal                   8.8\n",
       "Kimi no na wa            8.6\n",
       "Taare Zameen Par         8.5\n",
       "Name: Rating, dtype: float64"
      ]
     },
     "execution_count": 253,
     "metadata": {},
     "output_type": "execute_result"
    }
   ],
   "source": [
    "ratings[(ratings <= 9) & (ratings >= 8.5)]"
   ]
  },
  {
   "cell_type": "code",
   "execution_count": 251,
   "id": "5955fa7e-745d-40ff-ad0e-7620c191401b",
   "metadata": {},
   "outputs": [
    {
     "data": {
      "text/plain": [
       "Index(['The Dark Knight', 'The Dark Knight Rises', 'Inception', 'Interstellar',\n",
       "       'The Departed', 'The Prestige', 'The Intouchables', 'Whiplash',\n",
       "       'The Lives of Others', 'Dangal', 'Kimi no na wa', 'Taare Zameen Par'],\n",
       "      dtype='object', name='Title')"
      ]
     },
     "execution_count": 251,
     "metadata": {},
     "output_type": "execute_result"
    }
   ],
   "source": [
    "ratings[ratings.between(8.5, 9)].index"
   ]
  },
  {
   "cell_type": "markdown",
   "id": "15269a77-d15d-4b84-9e73-7ab7254927d6",
   "metadata": {},
   "source": [
    "### Identifying rows with max/min values"
   ]
  },
  {
   "cell_type": "code",
   "execution_count": 256,
   "id": "53076ba3-c983-4e1b-9af5-0b4856756f6b",
   "metadata": {},
   "outputs": [
    {
     "data": {
      "text/plain": [
       "9.0"
      ]
     },
     "execution_count": 256,
     "metadata": {},
     "output_type": "execute_result"
    }
   ],
   "source": [
    "ratings.max()"
   ]
  },
  {
   "cell_type": "code",
   "execution_count": 274,
   "id": "7b2c4804-9fa9-4716-8ca6-9108c10c892f",
   "metadata": {},
   "outputs": [
    {
     "data": {
      "text/plain": [
       "'The Dark Knight'"
      ]
     },
     "execution_count": 274,
     "metadata": {},
     "output_type": "execute_result"
    }
   ],
   "source": [
    "ratings.idxmax() #shortcut"
   ]
  },
  {
   "cell_type": "code",
   "execution_count": 276,
   "id": "ff372d17-52f5-4682-9e18-4fa9552c2454",
   "metadata": {},
   "outputs": [
    {
     "data": {
      "text/plain": [
       "'Love, Rosie'"
      ]
     },
     "execution_count": 276,
     "metadata": {},
     "output_type": "execute_result"
    }
   ],
   "source": [
    "dfmovie.Revenue_mil.idxmin()"
   ]
  },
  {
   "cell_type": "markdown",
   "id": "2675f1f8-e7d1-4f60-b70b-555cd03edf6b",
   "metadata": {},
   "source": [
    "### Plotting A Column with DataFrame"
   ]
  },
  {
   "cell_type": "code",
   "execution_count": 292,
   "id": "9505e9ca-1c23-4d1b-88bc-054cc8006fdb",
   "metadata": {},
   "outputs": [
    {
     "data": {
      "image/png": "[encoded data removed]",
      "text/plain": [
       "<Figure size 640x480 with 1 Axes>"
      ]
     },
     "metadata": {},
     "output_type": "display_data"
    }
   ],
   "source": [
    "ratings[:10].plot()\n",
    "plt.xticks(rotation=90);"
   ]
  },
  {
   "cell_type": "code",
   "execution_count": 294,
   "id": "46095fa4-071a-49aa-9ef6-68ab26012d34",
   "metadata": {},
   "outputs": [
    {
     "data": {
      "image/png": "[encoded data removed]",
      "text/plain": [
       "<Figure size 640x480 with 1 Axes>"
      ]
     },
     "metadata": {},
     "output_type": "display_data"
    }
   ],
   "source": [
    "ratings[:10].plot(kind='bar')\n",
    "plt.xticks(rotation=90);"
   ]
  },
  {
   "cell_type": "code",
   "execution_count": 298,
   "id": "6291aefa-e16a-4963-9981-22f265693586",
   "metadata": {},
   "outputs": [
    {
     "data": {
      "image/png": "[encoded data removed]",
      "text/plain": [
       "<Figure size 640x480 with 1 Axes>"
      ]
     },
     "metadata": {},
     "output_type": "display_data"
    }
   ],
   "source": [
    "ratings[:100].plot(kind='bar')\n",
    "plt.xticks([]);"
   ]
  },
  {
   "cell_type": "code",
   "execution_count": 302,
   "id": "c6956161-9460-421e-a2c3-318caaf13c2f",
   "metadata": {},
   "outputs": [
    {
     "data": {
      "text/plain": [
       "<Axes: >"
      ]
     },
     "execution_count": 302,
     "metadata": {},
     "output_type": "execute_result"
    },
    {
     "data": {
      "image/png": "[encoded data removed]",
      "text/plain": [
       "<Figure size 640x480 with 1 Axes>"
      ]
     },
     "metadata": {},
     "output_type": "display_data"
    }
   ],
   "source": [
    "ratings.plot(kind='box')"
   ]
  },
  {
   "cell_type": "code",
   "execution_count": 304,
   "id": "622318b5-d88a-4cd3-aec9-515a375684c1",
   "metadata": {},
   "outputs": [
    {
     "data": {
      "text/plain": [
       "<Axes: ylabel='Frequency'>"
      ]
     },
     "execution_count": 304,
     "metadata": {},
     "output_type": "execute_result"
    },
    {
     "data": {
      "image/png": "[encoded data removed]",
      "text/plain": [
       "<Figure size 640x480 with 1 Axes>"
      ]
     },
     "metadata": {},
     "output_type": "display_data"
    }
   ],
   "source": [
    "ratings.plot(kind='hist')"
   ]
  },
  {
   "cell_type": "code",
   "execution_count": 306,
   "id": "f12b61c6-ae2b-4c0e-b02a-e3fbaa04c7a3",
   "metadata": {},
   "outputs": [
    {
     "data": {
      "text/plain": [
       "Title\n",
       "The Dark Knight     9.0\n",
       "Inception           8.8\n",
       "Dangal              8.8\n",
       "Interstellar        8.6\n",
       "The Intouchables    8.6\n",
       "Name: Rating, dtype: float64"
      ]
     },
     "execution_count": 306,
     "metadata": {},
     "output_type": "execute_result"
    }
   ],
   "source": [
    "ratings.nlargest()"
   ]
  },
  {
   "cell_type": "markdown",
   "id": "b63607a2-416f-4a3c-a6c6-28c6b0e36a44",
   "metadata": {},
   "source": [
    "### Frequencies"
   ]
  },
  {
   "cell_type": "code",
   "execution_count": 317,
   "id": "8dfc3f59-55c9-4d13-ae29-b8f27fc2c0c1",
   "metadata": {},
   "outputs": [
    {
     "data": {
      "text/plain": [
       "Rating\n",
       "7.1    52\n",
       "7.0    46\n",
       "7.2    42\n",
       "7.3    42\n",
       "7.8    40\n",
       "7.5    35\n",
       "7.4    33\n",
       "6.9    31\n",
       "7.6    27\n",
       "7.7    27\n",
       "8.1    26\n",
       "6.8    24\n",
       "7.9    23\n",
       "8.0    19\n",
       "8.2    10\n",
       "8.3     7\n",
       "8.5     6\n",
       "8.4     4\n",
       "8.6     3\n",
       "8.8     2\n",
       "9.0     1\n",
       "Name: count, dtype: int64"
      ]
     },
     "execution_count": 317,
     "metadata": {},
     "output_type": "execute_result"
    }
   ],
   "source": [
    "ratings.value_counts() # decreasing order of frequency"
   ]
  },
  {
   "cell_type": "code",
   "execution_count": 323,
   "id": "0a79434a-ad68-49b5-aeb2-07393af7f146",
   "metadata": {},
   "outputs": [
    {
     "data": {
      "text/plain": [
       "Rating\n",
       "6.8    24\n",
       "6.9    31\n",
       "7.0    46\n",
       "7.1    52\n",
       "7.2    42\n",
       "7.3    42\n",
       "7.4    33\n",
       "7.5    35\n",
       "7.6    27\n",
       "7.7    27\n",
       "7.8    40\n",
       "7.9    23\n",
       "8.0    19\n",
       "8.1    26\n",
       "8.2    10\n",
       "8.3     7\n",
       "8.4     4\n",
       "8.5     6\n",
       "8.6     3\n",
       "8.8     2\n",
       "9.0     1\n",
       "Name: count, dtype: int64"
      ]
     },
     "execution_count": 323,
     "metadata": {},
     "output_type": "execute_result"
    }
   ],
   "source": [
    "ratings.value_counts().sort_index() # index order"
   ]
  },
  {
   "cell_type": "code",
   "execution_count": 325,
   "id": "cf837e92-9d5e-423d-9d8d-646f3fbe4d0f",
   "metadata": {},
   "outputs": [
    {
     "data": {
      "text/plain": [
       "<Axes: xlabel='Rating', ylabel='Revenue_mil'>"
      ]
     },
     "execution_count": 325,
     "metadata": {},
     "output_type": "execute_result"
    },
    {
     "data": {
      "image/png": "[encoded data removed]",
      "text/plain": [
       "<Figure size 640x480 with 1 Axes>"
      ]
     },
     "metadata": {},
     "output_type": "display_data"
    }
   ],
   "source": [
    "dfmovie.plot(x='Rating', y='Revenue_mil', kind='scatter')"
   ]
  },
  {
   "cell_type": "markdown",
   "id": "39e3e185-60d1-423c-ae37-ec6544a85c01",
   "metadata": {},
   "source": [
    "### Groupby"
   ]
  },
  {
   "cell_type": "code",
   "execution_count": 328,
   "id": "e57680d5-1ecf-4f24-a254-08d8ce396bc6",
   "metadata": {},
   "outputs": [
    {
     "name": "stderr",
     "output_type": "stream",
     "text": [
      "/var/folders/2m/ffpxvj6x6y9_869rd2330sl00000gn/T/ipykernel_26815/2116512547.py:1: FutureWarning: The default of observed=False is deprecated and will be changed to True in a future version of pandas. Pass observed=False to retain current behavior or observed=True to adopt the future default and silence this warning.\n",
      "  dfmovie.groupby('Year')\n"
     ]
    },
    {
     "data": {
      "text/plain": [
       "<pandas.core.groupby.generic.DataFrameGroupBy object at 0x16698bb00>"
      ]
     },
     "execution_count": 328,
     "metadata": {},
     "output_type": "execute_result"
    }
   ],
   "source": [
    "dfmovie.groupby('Year')"
   ]
  },
  {
   "cell_type": "code",
   "execution_count": 332,
   "id": "cd969a37-1c1c-4b40-a312-31a03d7b8757",
   "metadata": {},
   "outputs": [
    {
     "name": "stderr",
     "output_type": "stream",
     "text": [
      "/var/folders/2m/ffpxvj6x6y9_869rd2330sl00000gn/T/ipykernel_26815/3538706134.py:1: FutureWarning: The default of observed=False is deprecated and will be changed to True in a future version of pandas. Pass observed=False to retain current behavior or observed=True to adopt the future default and silence this warning.\n",
      "  dfmovie.groupby('Year').describe()\n"
     ]
    },
    {
     "data": {
      "text/html": [
       "<div>\n",
       "<style scoped>\n",
       "    .dataframe tbody tr th:only-of-type {\n",
       "        vertical-align: middle;\n",
       "    }\n",
       "\n",
       "    .dataframe tbody tr th {\n",
       "        vertical-align: top;\n",
       "    }\n",
       "\n",
       "    .dataframe thead tr th {\n",
       "        text-align: left;\n",
       "    }\n",
       "\n",
       "    .dataframe thead tr:last-of-type th {\n",
       "        text-align: right;\n",
       "    }\n",
       "</style>\n",
       "<table border=\"1\" class=\"dataframe\">\n",
       "  <thead>\n",
       "    <tr>\n",
       "      <th></th>\n",
       "      <th colspan=\"8\" halign=\"left\">Runtime_min</th>\n",
       "      <th colspan=\"2\" halign=\"left\">Rating</th>\n",
       "      <th>...</th>\n",
       "      <th colspan=\"2\" halign=\"left\">Revenue_mil</th>\n",
       "      <th colspan=\"8\" halign=\"left\">Metascore</th>\n",
       "    </tr>\n",
       "    <tr>\n",
       "      <th></th>\n",
       "      <th>count</th>\n",
       "      <th>mean</th>\n",
       "      <th>std</th>\n",
       "      <th>min</th>\n",
       "      <th>25%</th>\n",
       "      <th>50%</th>\n",
       "      <th>75%</th>\n",
       "      <th>max</th>\n",
       "      <th>count</th>\n",
       "      <th>mean</th>\n",
       "      <th>...</th>\n",
       "      <th>75%</th>\n",
       "      <th>max</th>\n",
       "      <th>count</th>\n",
       "      <th>mean</th>\n",
       "      <th>std</th>\n",
       "      <th>min</th>\n",
       "      <th>25%</th>\n",
       "      <th>50%</th>\n",
       "      <th>75%</th>\n",
       "      <th>max</th>\n",
       "    </tr>\n",
       "    <tr>\n",
       "      <th>Year</th>\n",
       "      <th></th>\n",
       "      <th></th>\n",
       "      <th></th>\n",
       "      <th></th>\n",
       "      <th></th>\n",
       "      <th></th>\n",
       "      <th></th>\n",
       "      <th></th>\n",
       "      <th></th>\n",
       "      <th></th>\n",
       "      <th></th>\n",
       "      <th></th>\n",
       "      <th></th>\n",
       "      <th></th>\n",
       "      <th></th>\n",
       "      <th></th>\n",
       "      <th></th>\n",
       "      <th></th>\n",
       "      <th></th>\n",
       "      <th></th>\n",
       "      <th></th>\n",
       "    </tr>\n",
       "  </thead>\n",
       "  <tbody>\n",
       "    <tr>\n",
       "      <th>2006</th>\n",
       "      <td>28.0</td>\n",
       "      <td>125.928571</td>\n",
       "      <td>18.812779</td>\n",
       "      <td>96.0</td>\n",
       "      <td>115.25</td>\n",
       "      <td>120.0</td>\n",
       "      <td>140.00</td>\n",
       "      <td>180.0</td>\n",
       "      <td>28.0</td>\n",
       "      <td>7.592857</td>\n",
       "      <td>...</td>\n",
       "      <td>130.4600</td>\n",
       "      <td>423.03</td>\n",
       "      <td>26.0</td>\n",
       "      <td>68.961538</td>\n",
       "      <td>13.125489</td>\n",
       "      <td>47.0</td>\n",
       "      <td>62.25</td>\n",
       "      <td>67.0</td>\n",
       "      <td>79.25</td>\n",
       "      <td>98.0</td>\n",
       "    </tr>\n",
       "    <tr>\n",
       "      <th>2007</th>\n",
       "      <td>42.0</td>\n",
       "      <td>125.095238</td>\n",
       "      <td>22.123610</td>\n",
       "      <td>96.0</td>\n",
       "      <td>111.50</td>\n",
       "      <td>121.5</td>\n",
       "      <td>132.00</td>\n",
       "      <td>191.0</td>\n",
       "      <td>42.0</td>\n",
       "      <td>7.447619</td>\n",
       "      <td>...</td>\n",
       "      <td>128.9200</td>\n",
       "      <td>318.76</td>\n",
       "      <td>36.0</td>\n",
       "      <td>69.361111</td>\n",
       "      <td>13.975801</td>\n",
       "      <td>38.0</td>\n",
       "      <td>61.75</td>\n",
       "      <td>70.0</td>\n",
       "      <td>78.75</td>\n",
       "      <td>96.0</td>\n",
       "    </tr>\n",
       "    <tr>\n",
       "      <th>2008</th>\n",
       "      <td>29.0</td>\n",
       "      <td>112.482759</td>\n",
       "      <td>19.217962</td>\n",
       "      <td>85.0</td>\n",
       "      <td>96.00</td>\n",
       "      <td>111.0</td>\n",
       "      <td>123.00</td>\n",
       "      <td>166.0</td>\n",
       "      <td>29.0</td>\n",
       "      <td>7.479310</td>\n",
       "      <td>...</td>\n",
       "      <td>136.2200</td>\n",
       "      <td>533.32</td>\n",
       "      <td>26.0</td>\n",
       "      <td>66.346154</td>\n",
       "      <td>14.380382</td>\n",
       "      <td>36.0</td>\n",
       "      <td>55.50</td>\n",
       "      <td>67.0</td>\n",
       "      <td>76.75</td>\n",
       "      <td>94.0</td>\n",
       "    </tr>\n",
       "    <tr>\n",
       "      <th>2009</th>\n",
       "      <td>29.0</td>\n",
       "      <td>119.517241</td>\n",
       "      <td>25.251055</td>\n",
       "      <td>87.0</td>\n",
       "      <td>97.00</td>\n",
       "      <td>111.0</td>\n",
       "      <td>140.00</td>\n",
       "      <td>170.0</td>\n",
       "      <td>29.0</td>\n",
       "      <td>7.672414</td>\n",
       "      <td>...</td>\n",
       "      <td>186.8950</td>\n",
       "      <td>760.51</td>\n",
       "      <td>27.0</td>\n",
       "      <td>69.740741</td>\n",
       "      <td>12.826033</td>\n",
       "      <td>34.0</td>\n",
       "      <td>64.50</td>\n",
       "      <td>73.0</td>\n",
       "      <td>79.50</td>\n",
       "      <td>88.0</td>\n",
       "    </tr>\n",
       "    <tr>\n",
       "      <th>2010</th>\n",
       "      <td>32.0</td>\n",
       "      <td>113.656250</td>\n",
       "      <td>14.546055</td>\n",
       "      <td>92.0</td>\n",
       "      <td>102.25</td>\n",
       "      <td>112.5</td>\n",
       "      <td>121.00</td>\n",
       "      <td>148.0</td>\n",
       "      <td>32.0</td>\n",
       "      <td>7.500000</td>\n",
       "      <td>...</td>\n",
       "      <td>171.5400</td>\n",
       "      <td>414.98</td>\n",
       "      <td>31.0</td>\n",
       "      <td>69.741935</td>\n",
       "      <td>13.213548</td>\n",
       "      <td>40.0</td>\n",
       "      <td>61.50</td>\n",
       "      <td>72.0</td>\n",
       "      <td>79.00</td>\n",
       "      <td>95.0</td>\n",
       "    </tr>\n",
       "    <tr>\n",
       "      <th>2011</th>\n",
       "      <td>38.0</td>\n",
       "      <td>118.052632</td>\n",
       "      <td>15.530175</td>\n",
       "      <td>93.0</td>\n",
       "      <td>105.25</td>\n",
       "      <td>116.5</td>\n",
       "      <td>129.75</td>\n",
       "      <td>158.0</td>\n",
       "      <td>38.0</td>\n",
       "      <td>7.381579</td>\n",
       "      <td>...</td>\n",
       "      <td>145.7125</td>\n",
       "      <td>380.96</td>\n",
       "      <td>37.0</td>\n",
       "      <td>69.243243</td>\n",
       "      <td>10.698924</td>\n",
       "      <td>48.0</td>\n",
       "      <td>62.00</td>\n",
       "      <td>70.0</td>\n",
       "      <td>76.00</td>\n",
       "      <td>87.0</td>\n",
       "    </tr>\n",
       "    <tr>\n",
       "      <th>2012</th>\n",
       "      <td>37.0</td>\n",
       "      <td>125.567568</td>\n",
       "      <td>23.463376</td>\n",
       "      <td>93.0</td>\n",
       "      <td>109.00</td>\n",
       "      <td>120.0</td>\n",
       "      <td>143.00</td>\n",
       "      <td>172.0</td>\n",
       "      <td>37.0</td>\n",
       "      <td>7.464865</td>\n",
       "      <td>...</td>\n",
       "      <td>182.2000</td>\n",
       "      <td>623.28</td>\n",
       "      <td>36.0</td>\n",
       "      <td>69.888889</td>\n",
       "      <td>10.727209</td>\n",
       "      <td>50.0</td>\n",
       "      <td>62.75</td>\n",
       "      <td>68.5</td>\n",
       "      <td>78.25</td>\n",
       "      <td>95.0</td>\n",
       "    </tr>\n",
       "    <tr>\n",
       "      <th>2013</th>\n",
       "      <td>48.0</td>\n",
       "      <td>120.416667</td>\n",
       "      <td>21.681283</td>\n",
       "      <td>85.0</td>\n",
       "      <td>103.50</td>\n",
       "      <td>119.0</td>\n",
       "      <td>131.25</td>\n",
       "      <td>180.0</td>\n",
       "      <td>48.0</td>\n",
       "      <td>7.391667</td>\n",
       "      <td>...</td>\n",
       "      <td>163.3650</td>\n",
       "      <td>424.65</td>\n",
       "      <td>46.0</td>\n",
       "      <td>68.326087</td>\n",
       "      <td>12.915201</td>\n",
       "      <td>44.0</td>\n",
       "      <td>61.00</td>\n",
       "      <td>64.5</td>\n",
       "      <td>77.50</td>\n",
       "      <td>96.0</td>\n",
       "    </tr>\n",
       "    <tr>\n",
       "      <th>2014</th>\n",
       "      <td>47.0</td>\n",
       "      <td>118.489362</td>\n",
       "      <td>19.396181</td>\n",
       "      <td>86.0</td>\n",
       "      <td>102.00</td>\n",
       "      <td>114.0</td>\n",
       "      <td>132.00</td>\n",
       "      <td>169.0</td>\n",
       "      <td>47.0</td>\n",
       "      <td>7.593617</td>\n",
       "      <td>...</td>\n",
       "      <td>179.7475</td>\n",
       "      <td>350.12</td>\n",
       "      <td>44.0</td>\n",
       "      <td>69.204545</td>\n",
       "      <td>13.191928</td>\n",
       "      <td>31.0</td>\n",
       "      <td>59.00</td>\n",
       "      <td>71.5</td>\n",
       "      <td>76.00</td>\n",
       "      <td>100.0</td>\n",
       "    </tr>\n",
       "    <tr>\n",
       "      <th>2015</th>\n",
       "      <td>56.0</td>\n",
       "      <td>122.303571</td>\n",
       "      <td>17.038907</td>\n",
       "      <td>92.0</td>\n",
       "      <td>111.75</td>\n",
       "      <td>121.0</td>\n",
       "      <td>130.25</td>\n",
       "      <td>187.0</td>\n",
       "      <td>56.0</td>\n",
       "      <td>7.346429</td>\n",
       "      <td>...</td>\n",
       "      <td>110.2650</td>\n",
       "      <td>936.63</td>\n",
       "      <td>52.0</td>\n",
       "      <td>67.884615</td>\n",
       "      <td>15.720168</td>\n",
       "      <td>33.0</td>\n",
       "      <td>56.75</td>\n",
       "      <td>69.0</td>\n",
       "      <td>81.00</td>\n",
       "      <td>95.0</td>\n",
       "    </tr>\n",
       "    <tr>\n",
       "      <th>2016</th>\n",
       "      <td>114.0</td>\n",
       "      <td>116.421053</td>\n",
       "      <td>18.504673</td>\n",
       "      <td>66.0</td>\n",
       "      <td>104.00</td>\n",
       "      <td>116.0</td>\n",
       "      <td>128.00</td>\n",
       "      <td>163.0</td>\n",
       "      <td>114.0</td>\n",
       "      <td>7.420175</td>\n",
       "      <td>...</td>\n",
       "      <td>76.2000</td>\n",
       "      <td>532.17</td>\n",
       "      <td>106.0</td>\n",
       "      <td>69.726415</td>\n",
       "      <td>14.337120</td>\n",
       "      <td>23.0</td>\n",
       "      <td>60.25</td>\n",
       "      <td>72.0</td>\n",
       "      <td>79.00</td>\n",
       "      <td>99.0</td>\n",
       "    </tr>\n",
       "  </tbody>\n",
       "</table>\n",
       "<p>11 rows × 40 columns</p>\n",
       "</div>"
      ],
      "text/plain": [
       "     Runtime_min                                                             \\\n",
       "           count        mean        std   min     25%    50%     75%    max   \n",
       "Year                                                                          \n",
       "2006        28.0  125.928571  18.812779  96.0  115.25  120.0  140.00  180.0   \n",
       "2007        42.0  125.095238  22.123610  96.0  111.50  121.5  132.00  191.0   \n",
       "2008        29.0  112.482759  19.217962  85.0   96.00  111.0  123.00  166.0   \n",
       "2009        29.0  119.517241  25.251055  87.0   97.00  111.0  140.00  170.0   \n",
       "2010        32.0  113.656250  14.546055  92.0  102.25  112.5  121.00  148.0   \n",
       "2011        38.0  118.052632  15.530175  93.0  105.25  116.5  129.75  158.0   \n",
       "2012        37.0  125.567568  23.463376  93.0  109.00  120.0  143.00  172.0   \n",
       "2013        48.0  120.416667  21.681283  85.0  103.50  119.0  131.25  180.0   \n",
       "2014        47.0  118.489362  19.396181  86.0  102.00  114.0  132.00  169.0   \n",
       "2015        56.0  122.303571  17.038907  92.0  111.75  121.0  130.25  187.0   \n",
       "2016       114.0  116.421053  18.504673  66.0  104.00  116.0  128.00  163.0   \n",
       "\n",
       "     Rating            ... Revenue_mil         Metascore             \\\n",
       "      count      mean  ...         75%     max     count       mean   \n",
       "Year                   ...                                            \n",
       "2006   28.0  7.592857  ...    130.4600  423.03      26.0  68.961538   \n",
       "2007   42.0  7.447619  ...    128.9200  318.76      36.0  69.361111   \n",
       "2008   29.0  7.479310  ...    136.2200  533.32      26.0  66.346154   \n",
       "2009   29.0  7.672414  ...    186.8950  760.51      27.0  69.740741   \n",
       "2010   32.0  7.500000  ...    171.5400  414.98      31.0  69.741935   \n",
       "2011   38.0  7.381579  ...    145.7125  380.96      37.0  69.243243   \n",
       "2012   37.0  7.464865  ...    182.2000  623.28      36.0  69.888889   \n",
       "2013   48.0  7.391667  ...    163.3650  424.65      46.0  68.326087   \n",
       "2014   47.0  7.593617  ...    179.7475  350.12      44.0  69.204545   \n",
       "2015   56.0  7.346429  ...    110.2650  936.63      52.0  67.884615   \n",
       "2016  114.0  7.420175  ...     76.2000  532.17     106.0  69.726415   \n",
       "\n",
       "                                                  \n",
       "            std   min    25%   50%    75%    max  \n",
       "Year                                              \n",
       "2006  13.125489  47.0  62.25  67.0  79.25   98.0  \n",
       "2007  13.975801  38.0  61.75  70.0  78.75   96.0  \n",
       "2008  14.380382  36.0  55.50  67.0  76.75   94.0  \n",
       "2009  12.826033  34.0  64.50  73.0  79.50   88.0  \n",
       "2010  13.213548  40.0  61.50  72.0  79.00   95.0  \n",
       "2011  10.698924  48.0  62.00  70.0  76.00   87.0  \n",
       "2012  10.727209  50.0  62.75  68.5  78.25   95.0  \n",
       "2013  12.915201  44.0  61.00  64.5  77.50   96.0  \n",
       "2014  13.191928  31.0  59.00  71.5  76.00  100.0  \n",
       "2015  15.720168  33.0  56.75  69.0  81.00   95.0  \n",
       "2016  14.337120  23.0  60.25  72.0  79.00   99.0  \n",
       "\n",
       "[11 rows x 40 columns]"
      ]
     },
     "execution_count": 332,
     "metadata": {},
     "output_type": "execute_result"
    }
   ],
   "source": [
    "dfmovie.groupby('Year').describe()"
   ]
  },
  {
   "cell_type": "code",
   "execution_count": 443,
   "id": "d09ac624-154f-4cc0-91ec-50e71e4980d5",
   "metadata": {},
   "outputs": [
    {
     "name": "stderr",
     "output_type": "stream",
     "text": [
      "/var/folders/2m/ffpxvj6x6y9_869rd2330sl00000gn/T/ipykernel_26815/1485496225.py:1: FutureWarning: The default of observed=False is deprecated and will be changed to True in a future version of pandas. Pass observed=False to retain current behavior or observed=True to adopt the future default and silence this warning.\n",
      "  dfmovie.groupby('Year').Rating.mean()\n"
     ]
    },
    {
     "data": {
      "text/plain": [
       "Year\n",
       "2006    7.592857\n",
       "2007    7.447619\n",
       "2008    7.479310\n",
       "2009    7.672414\n",
       "2010    7.500000\n",
       "2011    7.381579\n",
       "2012    7.464865\n",
       "2013    7.391667\n",
       "2014    7.593617\n",
       "2015    7.346429\n",
       "2016    7.420175\n",
       "Name: Rating, dtype: float64"
      ]
     },
     "execution_count": 443,
     "metadata": {},
     "output_type": "execute_result"
    }
   ],
   "source": [
    "dfmovie.groupby('Year').Rating.mean()"
   ]
  },
  {
   "cell_type": "code",
   "execution_count": 336,
   "id": "2f371542-a9cc-4380-9962-54f7fcd14c51",
   "metadata": {},
   "outputs": [
    {
     "name": "stderr",
     "output_type": "stream",
     "text": [
      "/var/folders/2m/ffpxvj6x6y9_869rd2330sl00000gn/T/ipykernel_26815/740598057.py:1: FutureWarning: The default of observed=False is deprecated and will be changed to True in a future version of pandas. Pass observed=False to retain current behavior or observed=True to adopt the future default and silence this warning.\n",
      "  dfmovie.groupby('Year').Rating.max()\n"
     ]
    },
    {
     "data": {
      "text/plain": [
       "Year\n",
       "2006    8.5\n",
       "2007    8.5\n",
       "2008    9.0\n",
       "2009    8.4\n",
       "2010    8.8\n",
       "2011    8.6\n",
       "2012    8.5\n",
       "2013    8.2\n",
       "2014    8.6\n",
       "2015    8.3\n",
       "2016    8.8\n",
       "Name: Rating, dtype: float64"
      ]
     },
     "execution_count": 336,
     "metadata": {},
     "output_type": "execute_result"
    }
   ],
   "source": [
    "dfmovie.groupby('Year').Rating.max()"
   ]
  },
  {
   "cell_type": "code",
   "execution_count": 339,
   "id": "945a2b09-1287-48dd-8b42-716eae571eb3",
   "metadata": {},
   "outputs": [
    {
     "name": "stderr",
     "output_type": "stream",
     "text": [
      "/var/folders/2m/ffpxvj6x6y9_869rd2330sl00000gn/T/ipykernel_26815/2303703881.py:1: FutureWarning: The default of observed=False is deprecated and will be changed to True in a future version of pandas. Pass observed=False to retain current behavior or observed=True to adopt the future default and silence this warning.\n",
      "  dfmovie.groupby('Year').Rating.idxmax()\n"
     ]
    },
    {
     "data": {
      "text/plain": [
       "Year\n",
       "2006               The Departed\n",
       "2007           Taare Zameen Par\n",
       "2008            The Dark Knight\n",
       "2009                   3 Idiots\n",
       "2010                  Inception\n",
       "2011           The Intouchables\n",
       "2012      The Dark Knight Rises\n",
       "2013    The Wolf of Wall Street\n",
       "2014               Interstellar\n",
       "2015    Bahubali: The Beginning\n",
       "2016                     Dangal\n",
       "Name: Rating, dtype: object"
      ]
     },
     "execution_count": 339,
     "metadata": {},
     "output_type": "execute_result"
    }
   ],
   "source": [
    "dfmovie.groupby('Year').Rating.idxmax()"
   ]
  },
  {
   "cell_type": "markdown",
   "id": "aa89aa12-496f-4a28-92e1-b4da2a55430b",
   "metadata": {},
   "source": [
    "### Missing values"
   ]
  },
  {
   "cell_type": "code",
   "execution_count": 342,
   "id": "20c821c4-4ff6-4dcb-bf93-ba59361b7320",
   "metadata": {},
   "outputs": [
    {
     "name": "stdout",
     "output_type": "stream",
     "text": [
      "<class 'pandas.core.frame.DataFrame'>\n",
      "Index: 500 entries, Star Wars: Episode VII - The Force Awakens to Winter's Bone\n",
      "Data columns (total 10 columns):\n",
      " #   Column       Non-Null Count  Dtype   \n",
      "---  ------       --------------  -----   \n",
      " 0   Genre        500 non-null    object  \n",
      " 1   Description  500 non-null    object  \n",
      " 2   Director     500 non-null    object  \n",
      " 3   Actors       500 non-null    object  \n",
      " 4   Year         500 non-null    category\n",
      " 5   Runtime_min  500 non-null    int64   \n",
      " 6   Rating       500 non-null    float64 \n",
      " 7   Votes        500 non-null    int64   \n",
      " 8   Revenue_mil  465 non-null    float64 \n",
      " 9   Metascore    467 non-null    float64 \n",
      "dtypes: category(1), float64(3), int64(2), object(4)\n",
      "memory usage: 56.1+ KB\n"
     ]
    }
   ],
   "source": [
    "dfmovie.info()"
   ]
  },
  {
   "cell_type": "code",
   "execution_count": 344,
   "id": "1b0abcc9-540b-4dee-95d1-eacd185b36c4",
   "metadata": {},
   "outputs": [
    {
     "data": {
      "text/plain": [
       "Title\n",
       "Star Wars: Episode VII - The Force Awakens    936.63\n",
       "Avatar                                        760.51\n",
       "Jurassic World                                652.18\n",
       "The Avengers                                  623.28\n",
       "The Dark Knight                               533.32\n",
       "                                               ...  \n",
       "This Beautiful Fantastic                         NaN\n",
       "Triangle                                         NaN\n",
       "True Crimes                                      NaN\n",
       "Twin Peaks: The Missing Pieces                   NaN\n",
       "Winter's Bone                                    NaN\n",
       "Name: Revenue_mil, Length: 500, dtype: float64"
      ]
     },
     "execution_count": 344,
     "metadata": {},
     "output_type": "execute_result"
    }
   ],
   "source": [
    "revenue = dfmovie.Revenue_mil\n",
    "revenue"
   ]
  },
  {
   "cell_type": "code",
   "execution_count": 348,
   "id": "df565c0d-c8a0-4c49-9f8d-432a0cdf6f1f",
   "metadata": {},
   "outputs": [
    {
     "data": {
      "text/plain": [
       "Title\n",
       "Star Wars: Episode VII - The Force Awakens    False\n",
       "Avatar                                        False\n",
       "Jurassic World                                False\n",
       "The Avengers                                  False\n",
       "The Dark Knight                               False\n",
       "                                              ...  \n",
       "This Beautiful Fantastic                       True\n",
       "Triangle                                       True\n",
       "True Crimes                                    True\n",
       "Twin Peaks: The Missing Pieces                 True\n",
       "Winter's Bone                                  True\n",
       "Name: Revenue_mil, Length: 500, dtype: bool"
      ]
     },
     "execution_count": 348,
     "metadata": {},
     "output_type": "execute_result"
    }
   ],
   "source": [
    "revenue.isna() # or is.null(). delete the ones without a value"
   ]
  },
  {
   "cell_type": "markdown",
   "id": "43ddde38-f418-4d92-9895-3c4e09cf5112",
   "metadata": {},
   "source": [
    "Extract the rows with missing Revenue_mil"
   ]
  },
  {
   "cell_type": "code",
   "execution_count": 353,
   "id": "69c7b0b9-3e0c-4e22-a2c6-e96fd43e248e",
   "metadata": {},
   "outputs": [],
   "source": [
    "null_rows = dfmovie[dfmovie.Revenue_mil.isna()]"
   ]
  },
  {
   "cell_type": "code",
   "execution_count": 357,
   "id": "336d9609-f980-482b-9fd5-19a98eea2022",
   "metadata": {},
   "outputs": [
    {
     "data": {
      "text/plain": [
       "35"
      ]
     },
     "execution_count": 357,
     "metadata": {},
     "output_type": "execute_result"
    }
   ],
   "source": [
    "len(null_rows)"
   ]
  },
  {
   "cell_type": "code",
   "execution_count": 359,
   "id": "b3386250-2179-4833-9f7b-b0d47b3fb47d",
   "metadata": {},
   "outputs": [
    {
     "data": {
      "text/html": [
       "<div>\n",
       "<style scoped>\n",
       "    .dataframe tbody tr th:only-of-type {\n",
       "        vertical-align: middle;\n",
       "    }\n",
       "\n",
       "    .dataframe tbody tr th {\n",
       "        vertical-align: top;\n",
       "    }\n",
       "\n",
       "    .dataframe thead th {\n",
       "        text-align: right;\n",
       "    }\n",
       "</style>\n",
       "<table border=\"1\" class=\"dataframe\">\n",
       "  <thead>\n",
       "    <tr style=\"text-align: right;\">\n",
       "      <th></th>\n",
       "      <th>Genre</th>\n",
       "      <th>Description</th>\n",
       "      <th>Director</th>\n",
       "      <th>Actors</th>\n",
       "      <th>Year</th>\n",
       "      <th>Runtime_min</th>\n",
       "      <th>Rating</th>\n",
       "      <th>Votes</th>\n",
       "      <th>Revenue_mil</th>\n",
       "      <th>Metascore</th>\n",
       "    </tr>\n",
       "    <tr>\n",
       "      <th>Title</th>\n",
       "      <th></th>\n",
       "      <th></th>\n",
       "      <th></th>\n",
       "      <th></th>\n",
       "      <th></th>\n",
       "      <th></th>\n",
       "      <th></th>\n",
       "      <th></th>\n",
       "      <th></th>\n",
       "      <th></th>\n",
       "    </tr>\n",
       "  </thead>\n",
       "  <tbody>\n",
       "    <tr>\n",
       "      <th>Star Wars: Episode VII - The Force Awakens</th>\n",
       "      <td>Action,Adventure,Fantasy</td>\n",
       "      <td>Three decades after the defeat of the Galactic...</td>\n",
       "      <td>J.J. Abrams</td>\n",
       "      <td>Daisy Ridley, John Boyega, Oscar Isaac, Domhna...</td>\n",
       "      <td>2015</td>\n",
       "      <td>136</td>\n",
       "      <td>8.1</td>\n",
       "      <td>661608</td>\n",
       "      <td>936.63</td>\n",
       "      <td>81.0</td>\n",
       "    </tr>\n",
       "    <tr>\n",
       "      <th>Avatar</th>\n",
       "      <td>Action,Adventure,Fantasy</td>\n",
       "      <td>A paraplegic marine dispatched to the moon Pan...</td>\n",
       "      <td>James Cameron</td>\n",
       "      <td>Sam Worthington, Zoe Saldana, Sigourney Weaver...</td>\n",
       "      <td>2009</td>\n",
       "      <td>162</td>\n",
       "      <td>7.8</td>\n",
       "      <td>935408</td>\n",
       "      <td>760.51</td>\n",
       "      <td>83.0</td>\n",
       "    </tr>\n",
       "    <tr>\n",
       "      <th>Jurassic World</th>\n",
       "      <td>Action,Adventure,Sci-Fi</td>\n",
       "      <td>A new theme park, built on the original site o...</td>\n",
       "      <td>Colin Trevorrow</td>\n",
       "      <td>Chris Pratt, Bryce Dallas Howard, Ty Simpkins,...</td>\n",
       "      <td>2015</td>\n",
       "      <td>124</td>\n",
       "      <td>7.0</td>\n",
       "      <td>455169</td>\n",
       "      <td>652.18</td>\n",
       "      <td>59.0</td>\n",
       "    </tr>\n",
       "    <tr>\n",
       "      <th>The Avengers</th>\n",
       "      <td>Action,Sci-Fi</td>\n",
       "      <td>Earth's mightiest heroes must come together an...</td>\n",
       "      <td>Joss Whedon</td>\n",
       "      <td>Robert Downey Jr., Chris Evans, Scarlett Johan...</td>\n",
       "      <td>2012</td>\n",
       "      <td>143</td>\n",
       "      <td>8.1</td>\n",
       "      <td>1045588</td>\n",
       "      <td>623.28</td>\n",
       "      <td>69.0</td>\n",
       "    </tr>\n",
       "    <tr>\n",
       "      <th>The Dark Knight</th>\n",
       "      <td>Action,Crime,Drama</td>\n",
       "      <td>When the menace known as the Joker wreaks havo...</td>\n",
       "      <td>Christopher Nolan</td>\n",
       "      <td>Christian Bale, Heath Ledger, Aaron Eckhart,Mi...</td>\n",
       "      <td>2008</td>\n",
       "      <td>152</td>\n",
       "      <td>9.0</td>\n",
       "      <td>1791916</td>\n",
       "      <td>533.32</td>\n",
       "      <td>82.0</td>\n",
       "    </tr>\n",
       "    <tr>\n",
       "      <th>...</th>\n",
       "      <td>...</td>\n",
       "      <td>...</td>\n",
       "      <td>...</td>\n",
       "      <td>...</td>\n",
       "      <td>...</td>\n",
       "      <td>...</td>\n",
       "      <td>...</td>\n",
       "      <td>...</td>\n",
       "      <td>...</td>\n",
       "      <td>...</td>\n",
       "    </tr>\n",
       "    <tr>\n",
       "      <th>A Street Cat Named Bob</th>\n",
       "      <td>Biography,Comedy,Drama</td>\n",
       "      <td>Based on the international best selling book. ...</td>\n",
       "      <td>Roger Spottiswoode</td>\n",
       "      <td>Luke Treadaway, Bob the Cat, Ruta Gedmintas, J...</td>\n",
       "      <td>2016</td>\n",
       "      <td>103</td>\n",
       "      <td>7.4</td>\n",
       "      <td>12643</td>\n",
       "      <td>0.04</td>\n",
       "      <td>54.0</td>\n",
       "    </tr>\n",
       "    <tr>\n",
       "      <th>Before We Go</th>\n",
       "      <td>Comedy,Drama,Romance</td>\n",
       "      <td>Two strangers stuck in Manhattan for the night...</td>\n",
       "      <td>Chris Evans</td>\n",
       "      <td>Chris Evans, Alice Eve, Emma Fitzpatrick, John...</td>\n",
       "      <td>2014</td>\n",
       "      <td>95</td>\n",
       "      <td>6.9</td>\n",
       "      <td>31370</td>\n",
       "      <td>0.04</td>\n",
       "      <td>31.0</td>\n",
       "    </tr>\n",
       "    <tr>\n",
       "      <th>The First Time</th>\n",
       "      <td>Comedy,Drama,Romance</td>\n",
       "      <td>A shy senior and a down-to-earth junior fall i...</td>\n",
       "      <td>Jon Kasdan</td>\n",
       "      <td>Dylan O'Brien, Britt Robertson, Victoria Justi...</td>\n",
       "      <td>2012</td>\n",
       "      <td>95</td>\n",
       "      <td>6.9</td>\n",
       "      <td>54027</td>\n",
       "      <td>0.02</td>\n",
       "      <td>55.0</td>\n",
       "    </tr>\n",
       "    <tr>\n",
       "      <th>Love, Rosie</th>\n",
       "      <td>Comedy,Romance</td>\n",
       "      <td>Rosie and Alex have been best friends since th...</td>\n",
       "      <td>Christian Ditter</td>\n",
       "      <td>Lily Collins, Sam Claflin, Christian Cooke, Ja...</td>\n",
       "      <td>2014</td>\n",
       "      <td>102</td>\n",
       "      <td>7.2</td>\n",
       "      <td>80415</td>\n",
       "      <td>0.01</td>\n",
       "      <td>44.0</td>\n",
       "    </tr>\n",
       "    <tr>\n",
       "      <th>Wakefield</th>\n",
       "      <td>Drama</td>\n",
       "      <td>A man's nervous breakdown causes him to leave ...</td>\n",
       "      <td>Robin Swicord</td>\n",
       "      <td>Bryan Cranston, Jennifer Garner, Beverly D'Ang...</td>\n",
       "      <td>2016</td>\n",
       "      <td>106</td>\n",
       "      <td>7.5</td>\n",
       "      <td>291</td>\n",
       "      <td>0.01</td>\n",
       "      <td>61.0</td>\n",
       "    </tr>\n",
       "  </tbody>\n",
       "</table>\n",
       "<p>446 rows × 10 columns</p>\n",
       "</div>"
      ],
      "text/plain": [
       "                                                               Genre  \\\n",
       "Title                                                                  \n",
       "Star Wars: Episode VII - The Force Awakens  Action,Adventure,Fantasy   \n",
       "Avatar                                      Action,Adventure,Fantasy   \n",
       "Jurassic World                               Action,Adventure,Sci-Fi   \n",
       "The Avengers                                           Action,Sci-Fi   \n",
       "The Dark Knight                                   Action,Crime,Drama   \n",
       "...                                                              ...   \n",
       "A Street Cat Named Bob                        Biography,Comedy,Drama   \n",
       "Before We Go                                    Comedy,Drama,Romance   \n",
       "The First Time                                  Comedy,Drama,Romance   \n",
       "Love, Rosie                                           Comedy,Romance   \n",
       "Wakefield                                                      Drama   \n",
       "\n",
       "                                                                                  Description  \\\n",
       "Title                                                                                           \n",
       "Star Wars: Episode VII - The Force Awakens  Three decades after the defeat of the Galactic...   \n",
       "Avatar                                      A paraplegic marine dispatched to the moon Pan...   \n",
       "Jurassic World                              A new theme park, built on the original site o...   \n",
       "The Avengers                                Earth's mightiest heroes must come together an...   \n",
       "The Dark Knight                             When the menace known as the Joker wreaks havo...   \n",
       "...                                                                                       ...   \n",
       "A Street Cat Named Bob                      Based on the international best selling book. ...   \n",
       "Before We Go                                Two strangers stuck in Manhattan for the night...   \n",
       "The First Time                              A shy senior and a down-to-earth junior fall i...   \n",
       "Love, Rosie                                 Rosie and Alex have been best friends since th...   \n",
       "Wakefield                                   A man's nervous breakdown causes him to leave ...   \n",
       "\n",
       "                                                      Director  \\\n",
       "Title                                                            \n",
       "Star Wars: Episode VII - The Force Awakens         J.J. Abrams   \n",
       "Avatar                                           James Cameron   \n",
       "Jurassic World                                 Colin Trevorrow   \n",
       "The Avengers                                       Joss Whedon   \n",
       "The Dark Knight                              Christopher Nolan   \n",
       "...                                                        ...   \n",
       "A Street Cat Named Bob                      Roger Spottiswoode   \n",
       "Before We Go                                       Chris Evans   \n",
       "The First Time                                      Jon Kasdan   \n",
       "Love, Rosie                                   Christian Ditter   \n",
       "Wakefield                                        Robin Swicord   \n",
       "\n",
       "                                                                                       Actors  \\\n",
       "Title                                                                                           \n",
       "Star Wars: Episode VII - The Force Awakens  Daisy Ridley, John Boyega, Oscar Isaac, Domhna...   \n",
       "Avatar                                      Sam Worthington, Zoe Saldana, Sigourney Weaver...   \n",
       "Jurassic World                              Chris Pratt, Bryce Dallas Howard, Ty Simpkins,...   \n",
       "The Avengers                                Robert Downey Jr., Chris Evans, Scarlett Johan...   \n",
       "The Dark Knight                             Christian Bale, Heath Ledger, Aaron Eckhart,Mi...   \n",
       "...                                                                                       ...   \n",
       "A Street Cat Named Bob                      Luke Treadaway, Bob the Cat, Ruta Gedmintas, J...   \n",
       "Before We Go                                Chris Evans, Alice Eve, Emma Fitzpatrick, John...   \n",
       "The First Time                              Dylan O'Brien, Britt Robertson, Victoria Justi...   \n",
       "Love, Rosie                                 Lily Collins, Sam Claflin, Christian Cooke, Ja...   \n",
       "Wakefield                                   Bryan Cranston, Jennifer Garner, Beverly D'Ang...   \n",
       "\n",
       "                                            Year  Runtime_min  Rating  \\\n",
       "Title                                                                   \n",
       "Star Wars: Episode VII - The Force Awakens  2015          136     8.1   \n",
       "Avatar                                      2009          162     7.8   \n",
       "Jurassic World                              2015          124     7.0   \n",
       "The Avengers                                2012          143     8.1   \n",
       "The Dark Knight                             2008          152     9.0   \n",
       "...                                          ...          ...     ...   \n",
       "A Street Cat Named Bob                      2016          103     7.4   \n",
       "Before We Go                                2014           95     6.9   \n",
       "The First Time                              2012           95     6.9   \n",
       "Love, Rosie                                 2014          102     7.2   \n",
       "Wakefield                                   2016          106     7.5   \n",
       "\n",
       "                                              Votes  Revenue_mil  Metascore  \n",
       "Title                                                                        \n",
       "Star Wars: Episode VII - The Force Awakens   661608       936.63       81.0  \n",
       "Avatar                                       935408       760.51       83.0  \n",
       "Jurassic World                               455169       652.18       59.0  \n",
       "The Avengers                                1045588       623.28       69.0  \n",
       "The Dark Knight                             1791916       533.32       82.0  \n",
       "...                                             ...          ...        ...  \n",
       "A Street Cat Named Bob                        12643         0.04       54.0  \n",
       "Before We Go                                  31370         0.04       31.0  \n",
       "The First Time                                54027         0.02       55.0  \n",
       "Love, Rosie                                   80415         0.01       44.0  \n",
       "Wakefield                                       291         0.01       61.0  \n",
       "\n",
       "[446 rows x 10 columns]"
      ]
     },
     "execution_count": 359,
     "metadata": {},
     "output_type": "execute_result"
    }
   ],
   "source": [
    "dfmovie.dropna() # omits all rows with at least one NaN value, and makes a copy"
   ]
  },
  {
   "cell_type": "code",
   "execution_count": 363,
   "id": "fd5391cd-fa49-4c07-8a0e-3693753124da",
   "metadata": {},
   "outputs": [
    {
     "data": {
      "text/plain": [
       "Title\n",
       "Star Wars: Episode VII - The Force Awakens    Daisy Ridley, John Boyega, Oscar Isaac, Domhna...\n",
       "Avatar                                        Sam Worthington, Zoe Saldana, Sigourney Weaver...\n",
       "Jurassic World                                Chris Pratt, Bryce Dallas Howard, Ty Simpkins,...\n",
       "The Avengers                                  Robert Downey Jr., Chris Evans, Scarlett Johan...\n",
       "The Dark Knight                               Christian Bale, Heath Ledger, Aaron Eckhart,Mi...\n",
       "                                                                    ...                        \n",
       "This Beautiful Fantastic                      Jessica Brown Findlay, Andrew Scott, Jeremy Ir...\n",
       "Triangle                                      Melissa George, Joshua McIvor, Jack Taylor,Mic...\n",
       "True Crimes                                   Jim Carrey, Charlotte Gainsbourg, Marton Csoka...\n",
       "Twin Peaks: The Missing Pieces                Chris Isaak, Kiefer Sutherland, C.H. Evans, Sa...\n",
       "Winter's Bone                                 Jennifer Lawrence, John Hawkes, Garret Dillahu...\n",
       "Name: Actors, Length: 500, dtype: object"
      ]
     },
     "execution_count": 363,
     "metadata": {},
     "output_type": "execute_result"
    }
   ],
   "source": [
    "dfmovie.Actors"
   ]
  },
  {
   "cell_type": "code",
   "execution_count": 367,
   "id": "0dc454bd-e337-4c31-9c76-729dae57e18d",
   "metadata": {},
   "outputs": [
    {
     "data": {
      "text/plain": [
       "Title\n",
       "The Hunger Games: Catching Fire    Jennifer Lawrence, Josh Hutcherson, Liam Hemsw...\n",
       "The Hunger Games                   Jennifer Lawrence, Josh Hutcherson, Liam Hemsw...\n",
       "X-Men: Apocalypse                  James McAvoy, Michael Fassbender, Jennifer Law...\n",
       "We're the Millers                  Jason Sudeikis, Jennifer Aniston, Emma Roberts...\n",
       "American Hustle                    Christian Bale, Amy Adams, Bradley Cooper,Jenn...\n",
       "X: First Class                     James McAvoy, Michael Fassbender, Jennifer Law...\n",
       "Juno                               Ellen Page, Michael Cera, Jennifer Garner, Jas...\n",
       "Silver Linings Playbook            Bradley Cooper, Jennifer Lawrence, Robert De N...\n",
       "Passengers                         Jennifer Lawrence, Chris Pratt, Michael Sheen,...\n",
       "Coraline                           Dakota Fanning, Teri Hatcher, John Hodgman, Je...\n",
       "Storks                             Andy Samberg, Katie Crown,Kelsey Grammer, Jenn...\n",
       "Miracles from Heaven               Jennifer Garner, Kylie Rogers, Martin Henderso...\n",
       "Blood Diamond                      Leonardo DiCaprio, Djimon Hounsou, Jennifer Co...\n",
       "The Hateful Eight                  Samuel L. Jackson, Kurt Russell, Jennifer Jaso...\n",
       "Dallas Buyers Club                 Matthew McConaughey, Jennifer Garner, Jared Le...\n",
       "Warrior                            Tom Hardy, Nick Nolte, Joel Edgerton, Jennifer...\n",
       "The Spectacular Now                Miles Teller, Shailene Woodley, Kyle Chandler,...\n",
       "A Quiet Passion                    Cynthia Nixon, Jennifer Ehle, Duncan Duff, Kei...\n",
       "Wakefield                          Bryan Cranston, Jennifer Garner, Beverly D'Ang...\n",
       "Winter's Bone                      Jennifer Lawrence, John Hawkes, Garret Dillahu...\n",
       "Name: Actors, dtype: object"
      ]
     },
     "execution_count": 367,
     "metadata": {},
     "output_type": "execute_result"
    }
   ],
   "source": [
    "dfmovie.Actors[dfmovie.Actors.str.contains('Jennifer')]"
   ]
  },
  {
   "cell_type": "markdown",
   "id": "a51d054e-6451-4ff8-8d77-2302f771be9d",
   "metadata": {},
   "source": [
    "For the movie Juno, take the Actors and convert into a list of names. "
   ]
  },
  {
   "cell_type": "code",
   "execution_count": 430,
   "id": "ad3c7ffc-a09a-4674-b5c5-318db0028b91",
   "metadata": {},
   "outputs": [
    {
     "data": {
      "text/plain": [
       "['Ellen Page', 'Michael Cera', 'Jennifer Garner', 'Jason Bateman']"
      ]
     },
     "execution_count": 430,
     "metadata": {},
     "output_type": "execute_result"
    }
   ],
   "source": [
    "dfmovie.Actors['Juno'].split(', ')"
   ]
  },
  {
   "cell_type": "code",
   "execution_count": 434,
   "id": "5b8e4dba-b947-4088-b789-2335f05590e4",
   "metadata": {},
   "outputs": [
    {
     "data": {
      "text/plain": [
       "['Ellen Page', 'Michael Cera', 'Jennifer Garner', 'Jason Bateman']"
      ]
     },
     "execution_count": 434,
     "metadata": {},
     "output_type": "execute_result"
    }
   ],
   "source": [
    "dfmovie.loc['Juno'].Actors.split(', ')"
   ]
  },
  {
   "cell_type": "markdown",
   "id": "1e5cc58d-9f03-495f-b505-db4eab302476",
   "metadata": {},
   "source": [
    "Looking for a word in description"
   ]
  },
  {
   "cell_type": "code",
   "execution_count": 439,
   "id": "86998fe2-c4b2-4fe2-91a3-c56461f86290",
   "metadata": {},
   "outputs": [
    {
     "data": {
      "text/html": [
       "<div>\n",
       "<style scoped>\n",
       "    .dataframe tbody tr th:only-of-type {\n",
       "        vertical-align: middle;\n",
       "    }\n",
       "\n",
       "    .dataframe tbody tr th {\n",
       "        vertical-align: top;\n",
       "    }\n",
       "\n",
       "    .dataframe thead th {\n",
       "        text-align: right;\n",
       "    }\n",
       "</style>\n",
       "<table border=\"1\" class=\"dataframe\">\n",
       "  <thead>\n",
       "    <tr style=\"text-align: right;\">\n",
       "      <th></th>\n",
       "      <th>Genre</th>\n",
       "      <th>Description</th>\n",
       "      <th>Director</th>\n",
       "      <th>Actors</th>\n",
       "      <th>Year</th>\n",
       "      <th>Runtime_min</th>\n",
       "      <th>Rating</th>\n",
       "      <th>Votes</th>\n",
       "      <th>Revenue_mil</th>\n",
       "      <th>Metascore</th>\n",
       "    </tr>\n",
       "    <tr>\n",
       "      <th>Title</th>\n",
       "      <th></th>\n",
       "      <th></th>\n",
       "      <th></th>\n",
       "      <th></th>\n",
       "      <th></th>\n",
       "      <th></th>\n",
       "      <th></th>\n",
       "      <th></th>\n",
       "      <th></th>\n",
       "      <th></th>\n",
       "    </tr>\n",
       "  </thead>\n",
       "  <tbody>\n",
       "    <tr>\n",
       "      <th>Gravity</th>\n",
       "      <td>Drama,Sci-Fi,Thriller</td>\n",
       "      <td>Two astronauts work together to survive after ...</td>\n",
       "      <td>Alfonso Cuarón</td>\n",
       "      <td>Sandra Bullock, George Clooney, Ed Harris, Ort...</td>\n",
       "      <td>2013</td>\n",
       "      <td>91</td>\n",
       "      <td>7.8</td>\n",
       "      <td>622089</td>\n",
       "      <td>274.08</td>\n",
       "      <td>96.0</td>\n",
       "    </tr>\n",
       "    <tr>\n",
       "      <th>WALL·E</th>\n",
       "      <td>Animation,Adventure,Family</td>\n",
       "      <td>In the distant future, a small waste-collectin...</td>\n",
       "      <td>Andrew Stanton</td>\n",
       "      <td>Ben Burtt, Elissa Knight, Jeff Garlin, Fred Wi...</td>\n",
       "      <td>2008</td>\n",
       "      <td>98</td>\n",
       "      <td>8.4</td>\n",
       "      <td>776897</td>\n",
       "      <td>223.81</td>\n",
       "      <td>NaN</td>\n",
       "    </tr>\n",
       "    <tr>\n",
       "      <th>Interstellar</th>\n",
       "      <td>Adventure,Drama,Sci-Fi</td>\n",
       "      <td>A team of explorers travel through a wormhole ...</td>\n",
       "      <td>Christopher Nolan</td>\n",
       "      <td>Matthew McConaughey, Anne Hathaway, Jessica Ch...</td>\n",
       "      <td>2014</td>\n",
       "      <td>169</td>\n",
       "      <td>8.6</td>\n",
       "      <td>1047747</td>\n",
       "      <td>187.99</td>\n",
       "      <td>74.0</td>\n",
       "    </tr>\n",
       "    <tr>\n",
       "      <th>Hidden Figures</th>\n",
       "      <td>Biography,Drama,History</td>\n",
       "      <td>The story of a team of female African-American...</td>\n",
       "      <td>Theodore Melfi</td>\n",
       "      <td>Taraji P. Henson, Octavia Spencer, Janelle Mon...</td>\n",
       "      <td>2016</td>\n",
       "      <td>127</td>\n",
       "      <td>7.8</td>\n",
       "      <td>93103</td>\n",
       "      <td>169.27</td>\n",
       "      <td>74.0</td>\n",
       "    </tr>\n",
       "    <tr>\n",
       "      <th>Star Trek Beyond</th>\n",
       "      <td>Action,Adventure,Sci-Fi</td>\n",
       "      <td>The USS Enterprise crew explores the furthest ...</td>\n",
       "      <td>Justin Lin</td>\n",
       "      <td>Chris Pine, Zachary Quinto, Karl Urban, Zoe Sa...</td>\n",
       "      <td>2016</td>\n",
       "      <td>122</td>\n",
       "      <td>7.1</td>\n",
       "      <td>164567</td>\n",
       "      <td>158.80</td>\n",
       "      <td>68.0</td>\n",
       "    </tr>\n",
       "    <tr>\n",
       "      <th>Arrival</th>\n",
       "      <td>Drama,Mystery,Sci-Fi</td>\n",
       "      <td>When twelve mysterious spacecraft appear aroun...</td>\n",
       "      <td>Denis Villeneuve</td>\n",
       "      <td>Amy Adams, Jeremy Renner, Forest Whitaker,Mich...</td>\n",
       "      <td>2016</td>\n",
       "      <td>116</td>\n",
       "      <td>8.0</td>\n",
       "      <td>340798</td>\n",
       "      <td>100.50</td>\n",
       "      <td>81.0</td>\n",
       "    </tr>\n",
       "    <tr>\n",
       "      <th>Passengers</th>\n",
       "      <td>Adventure,Drama,Romance</td>\n",
       "      <td>A spacecraft traveling to a distant colony pla...</td>\n",
       "      <td>Morten Tyldum</td>\n",
       "      <td>Jennifer Lawrence, Chris Pratt, Michael Sheen,...</td>\n",
       "      <td>2016</td>\n",
       "      <td>116</td>\n",
       "      <td>7.0</td>\n",
       "      <td>192177</td>\n",
       "      <td>100.01</td>\n",
       "      <td>41.0</td>\n",
       "    </tr>\n",
       "  </tbody>\n",
       "</table>\n",
       "</div>"
      ],
      "text/plain": [
       "                                       Genre  \\\n",
       "Title                                          \n",
       "Gravity                Drama,Sci-Fi,Thriller   \n",
       "WALL·E            Animation,Adventure,Family   \n",
       "Interstellar          Adventure,Drama,Sci-Fi   \n",
       "Hidden Figures       Biography,Drama,History   \n",
       "Star Trek Beyond     Action,Adventure,Sci-Fi   \n",
       "Arrival                 Drama,Mystery,Sci-Fi   \n",
       "Passengers           Adventure,Drama,Romance   \n",
       "\n",
       "                                                        Description  \\\n",
       "Title                                                                 \n",
       "Gravity           Two astronauts work together to survive after ...   \n",
       "WALL·E            In the distant future, a small waste-collectin...   \n",
       "Interstellar      A team of explorers travel through a wormhole ...   \n",
       "Hidden Figures    The story of a team of female African-American...   \n",
       "Star Trek Beyond  The USS Enterprise crew explores the furthest ...   \n",
       "Arrival           When twelve mysterious spacecraft appear aroun...   \n",
       "Passengers        A spacecraft traveling to a distant colony pla...   \n",
       "\n",
       "                           Director  \\\n",
       "Title                                 \n",
       "Gravity              Alfonso Cuarón   \n",
       "WALL·E               Andrew Stanton   \n",
       "Interstellar      Christopher Nolan   \n",
       "Hidden Figures       Theodore Melfi   \n",
       "Star Trek Beyond         Justin Lin   \n",
       "Arrival            Denis Villeneuve   \n",
       "Passengers            Morten Tyldum   \n",
       "\n",
       "                                                             Actors  Year  \\\n",
       "Title                                                                       \n",
       "Gravity           Sandra Bullock, George Clooney, Ed Harris, Ort...  2013   \n",
       "WALL·E            Ben Burtt, Elissa Knight, Jeff Garlin, Fred Wi...  2008   \n",
       "Interstellar      Matthew McConaughey, Anne Hathaway, Jessica Ch...  2014   \n",
       "Hidden Figures    Taraji P. Henson, Octavia Spencer, Janelle Mon...  2016   \n",
       "Star Trek Beyond  Chris Pine, Zachary Quinto, Karl Urban, Zoe Sa...  2016   \n",
       "Arrival           Amy Adams, Jeremy Renner, Forest Whitaker,Mich...  2016   \n",
       "Passengers        Jennifer Lawrence, Chris Pratt, Michael Sheen,...  2016   \n",
       "\n",
       "                  Runtime_min  Rating    Votes  Revenue_mil  Metascore  \n",
       "Title                                                                   \n",
       "Gravity                    91     7.8   622089       274.08       96.0  \n",
       "WALL·E                     98     8.4   776897       223.81        NaN  \n",
       "Interstellar              169     8.6  1047747       187.99       74.0  \n",
       "Hidden Figures            127     7.8    93103       169.27       74.0  \n",
       "Star Trek Beyond          122     7.1   164567       158.80       68.0  \n",
       "Arrival                   116     8.0   340798       100.50       81.0  \n",
       "Passengers                116     7.0   192177       100.01       41.0  "
      ]
     },
     "execution_count": 439,
     "metadata": {},
     "output_type": "execute_result"
    }
   ],
   "source": [
    "dfmovie[dfmovie.Description.str.contains('space')]"
   ]
  },
  {
   "cell_type": "code",
   "execution_count": null,
   "id": "145d2d0a-fa2f-4194-907d-dee65e442cba",
   "metadata": {},
   "outputs": [],
   "source": []
  }
 ],
 "metadata": {
  "kernelspec": {
   "display_name": "Python 3 (ipykernel)",
   "language": "python",
   "name": "python3"
  },
  "language_info": {
   "codemirror_mode": {
    "name": "ipython",
    "version": 3
   },
   "file_extension": ".py",
   "mimetype": "text/x-python",
   "name": "python",
   "nbconvert_exporter": "python",
   "pygments_lexer": "ipython3",
   "version": "3.12.4"
  }
 },
 "nbformat": 4,
 "nbformat_minor": 5
}
