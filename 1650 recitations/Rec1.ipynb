{
 "cells": [
  {
   "cell_type": "markdown",
   "metadata": {
    "tags": []
   },
   "source": [
    "# Recitation 1\n",
    "**Name your notebook** `Rec1.ipynb`.  "
   ]
  },
  {
   "cell_type": "markdown",
   "metadata": {},
   "source": [
    "___\n",
    "\n",
    "Topics: Mathematical operations, data types, variables, printing"
   ]
  },
  {
   "cell_type": "markdown",
   "metadata": {},
   "source": [
    "### Preliminaries\n",
    "\n",
    "* **Make sure you have Anaconda installed.**\n",
    "  * Visit https://www.anaconda.com/download.\n",
    "  * Select the `Download` button.\n",
    "  * Based on your operating system (Windows, Mac, or Linux), choose the 64-bit graphical installer (first option). If that doesn't work, try the second option.\n",
    "* **Set up file folders** for the Python class."
   ]
  },
  {
   "cell_type": "markdown",
   "metadata": {
    "jp-MarkdownHeadingCollapsed": true,
    "tags": []
   },
   "source": [
    "### Download Today's Exercises\n",
    "* Visit the shared google drive folder for this recitation.\n",
    "* Download the file `Rec1.ipynb` which contains today's exercises.\n",
    "* **Open the file** in JupyterLab. Save your work often.\n",
    "* At the end of class, you will **upload this notebook** to Gradescope.\n",
    "\n",
    "If you do not finish these exercises during recitation, you must finish them on your own.\n",
    "\n",
    "---"
   ]
  },
  {
   "cell_type": "markdown",
   "metadata": {},
   "source": [
    "### Basic Operations\n",
    "\n",
    "*Answers shown are rounded to 6 decimal digits. It is not necessary for you to round your answers unless instructed to do so.*"
   ]
  },
  {
   "cell_type": "markdown",
   "metadata": {},
   "source": [
    "Calculate the value of $2^3 - 5\\left(4^3 + 7\\right)$.\n",
    "\n",
    "Answer: -347"
   ]
  },
  {
   "cell_type": "code",
   "execution_count": 6,
   "metadata": {},
   "outputs": [
    {
     "data": {
      "text/plain": [
       "-347"
      ]
     },
     "execution_count": 6,
     "metadata": {},
     "output_type": "execute_result"
    }
   ],
   "source": [
    "2**3 - 5 * (4**3+7)"
   ]
  },
  {
   "cell_type": "markdown",
   "metadata": {},
   "source": [
    "The fractions $\\dfrac{7}{9}$ and $\\dfrac{2}{99}$ both generate repeating decimals. Verify."
   ]
  },
  {
   "cell_type": "code",
   "execution_count": 10,
   "metadata": {},
   "outputs": [
    {
     "name": "stdout",
     "output_type": "stream",
     "text": [
      "0.7777777777777778 and 0.020202020202020204\n"
     ]
    }
   ],
   "source": [
    "print (7/9, 'and', 2/99)"
   ]
  },
  {
   "cell_type": "markdown",
   "metadata": {},
   "source": [
    "The expression $\\dfrac{a^3 - b^3}{a-b}$ always simplifies to an integer. Find the value of $\\dfrac{180^3 - 19^3}{180-19}$.\n",
    "\n",
    " Answer: `36181.0`"
   ]
  },
  {
   "cell_type": "code",
   "execution_count": 11,
   "metadata": {},
   "outputs": [
    {
     "data": {
      "text/plain": [
       "36181.0"
      ]
     },
     "execution_count": 11,
     "metadata": {},
     "output_type": "execute_result"
    }
   ],
   "source": [
    "(180**3 - 19**3) / (180 - 19)"
   ]
  },
  {
   "cell_type": "markdown",
   "metadata": {},
   "source": [
    "In Python the `/` operator always returns a floating point value. Use `int()` to convert the previous answer into an `int`."
   ]
  },
  {
   "cell_type": "code",
   "execution_count": 15,
   "metadata": {},
   "outputs": [
    {
     "data": {
      "text/plain": [
       "6"
      ]
     },
     "execution_count": 15,
     "metadata": {},
     "output_type": "execute_result"
    }
   ],
   "source": [
    "int(18/3)"
   ]
  },
  {
   "cell_type": "markdown",
   "metadata": {},
   "source": [
    "Compare the difference between `100/6` and `100//6`. (The `//` operator is called the \"floor division\" operator)."
   ]
  },
  {
   "cell_type": "code",
   "execution_count": 17,
   "metadata": {},
   "outputs": [
    {
     "name": "stdout",
     "output_type": "stream",
     "text": [
      "compare 16.666666666666668 and 16 . I see, // rounds it out\n"
     ]
    }
   ],
   "source": [
    "print ('compare', 100/6, 'and', 100//6, '. I see, // rounds it out.')"
   ]
  },
  {
   "cell_type": "markdown",
   "metadata": {},
   "source": [
    "Find the value of $\\dfrac{200}{199\\cdot 201}$.\n",
    "\n",
    "Answer: $0.005000$"
   ]
  },
  {
   "cell_type": "code",
   "execution_count": 18,
   "metadata": {},
   "outputs": [
    {
     "data": {
      "text/plain": [
       "0.0050001250031250786"
      ]
     },
     "execution_count": 18,
     "metadata": {},
     "output_type": "execute_result"
    }
   ],
   "source": [
    "200 / (199 * 201) "
   ]
  },
  {
   "cell_type": "code",
   "execution_count": 23,
   "metadata": {},
   "outputs": [
    {
     "name": "stdout",
     "output_type": "stream",
     "text": [
      "0.005 interesting, the first equation is slightly larger, because 199 * 201 is slightly smaller. Cool.\n"
     ]
    }
   ],
   "source": [
    "print (200 / (200*200), 'interesting, the first equation is slightly larger, because 199 * 201 is slightly smaller. Cool.')"
   ]
  },
  {
   "cell_type": "markdown",
   "metadata": {},
   "source": [
    "In Python the integer 6, the floating point number 6.0, and the string '6' have different representations. Execute `type(6)`, `type(6.0)`, `type('6')` to verify the data type for each of these expressions."
   ]
  },
  {
   "cell_type": "code",
   "execution_count": 25,
   "metadata": {},
   "outputs": [
    {
     "name": "stdout",
     "output_type": "stream",
     "text": [
      "<class 'int'> <class 'float'> <class 'str'> they appear in different colors too!\n"
     ]
    }
   ],
   "source": [
    "print (type(6), type(6.0), type('6'), 'they appear in different colors too!')"
   ]
  },
  {
   "cell_type": "markdown",
   "metadata": {},
   "source": [
    "Numbers can be expressed in scientific notation. For example, `1e5` corresponds to $10^5$ and `1e-5` corresponds to $10^{-5}$. What do you expect `1e-3 / 1e4 * 1e7` to produce? Check your answer."
   ]
  },
  {
   "cell_type": "code",
   "execution_count": 26,
   "metadata": {},
   "outputs": [
    {
     "data": {
      "text/plain": [
       "1.0"
      ]
     },
     "execution_count": 26,
     "metadata": {},
     "output_type": "execute_result"
    }
   ],
   "source": [
    "1e-3 / 1e4 * 1e7"
   ]
  },
  {
   "cell_type": "markdown",
   "metadata": {},
   "source": [
    "### Quotients and Remainders\n",
    "\n",
    "Find the **quotient** when $3000$ is divided by $17$. Use the `//` operator.\n",
    "\n",
    " Answer: `176`"
   ]
  },
  {
   "cell_type": "code",
   "execution_count": 27,
   "metadata": {},
   "outputs": [
    {
     "data": {
      "text/plain": [
       "176"
      ]
     },
     "execution_count": 27,
     "metadata": {},
     "output_type": "execute_result"
    }
   ],
   "source": [
    "3000 // 17"
   ]
  },
  {
   "cell_type": "markdown",
   "metadata": {},
   "source": [
    "Find the **remainder** when $3000$ is divided by $17$. Use the `%` operator (called the \"modulo\" or \"mod\" operator).\n",
    "\n",
    " Answer: `8`\n",
    " "
   ]
  },
  {
   "cell_type": "code",
   "execution_count": 28,
   "metadata": {},
   "outputs": [
    {
     "data": {
      "text/plain": [
       "8"
      ]
     },
     "execution_count": 28,
     "metadata": {},
     "output_type": "execute_result"
    }
   ],
   "source": [
    "3000 % 17"
   ]
  },
  {
   "cell_type": "markdown",
   "metadata": {},
   "source": [
    "Use the `%` operator to calculate the **units digit** of $23^{32}$.\n",
    "\n",
    " Answer: `1`\n",
    " "
   ]
  },
  {
   "cell_type": "code",
   "execution_count": 30,
   "metadata": {},
   "outputs": [
    {
     "data": {
      "text/plain": [
       "1"
      ]
     },
     "execution_count": 30,
     "metadata": {},
     "output_type": "execute_result"
    }
   ],
   "source": [
    "23 ** 32 % 10"
   ]
  },
  {
   "cell_type": "markdown",
   "metadata": {},
   "source": [
    "Use the `%` operator to calculate the **last two digits of $23^{32}$**.\n",
    "\n",
    " Answer: `21`"
   ]
  },
  {
   "cell_type": "code",
   "execution_count": 31,
   "metadata": {},
   "outputs": [
    {
     "data": {
      "text/plain": [
       "21"
      ]
     },
     "execution_count": 31,
     "metadata": {},
     "output_type": "execute_result"
    }
   ],
   "source": [
    "23 ** 32 % 100"
   ]
  },
  {
   "cell_type": "markdown",
   "metadata": {},
   "source": [
    "### Variables"
   ]
  },
  {
   "cell_type": "markdown",
   "metadata": {},
   "source": [
    "An alternate way to find the value of $\\dfrac{180^3 - 19^3}{180-19}$ is to first assign `a=180` and `b=19`, and then simplify the fraction by writing an expression in `a` and `b`.  Try it."
   ]
  },
  {
   "cell_type": "code",
   "execution_count": 32,
   "metadata": {},
   "outputs": [],
   "source": [
    "a = 180"
   ]
  },
  {
   "cell_type": "code",
   "execution_count": 33,
   "metadata": {},
   "outputs": [],
   "source": [
    "b = 19"
   ]
  },
  {
   "cell_type": "code",
   "execution_count": 34,
   "metadata": {},
   "outputs": [
    {
     "data": {
      "text/plain": [
       "36181.0"
      ]
     },
     "execution_count": 34,
     "metadata": {},
     "output_type": "execute_result"
    }
   ],
   "source": [
    "(a ** 3 - b ** 3)/(a - b)"
   ]
  },
  {
   "cell_type": "markdown",
   "metadata": {},
   "source": [
    "This alternate approach allows you to easily find the value of $\\dfrac{1800^3 - 191^3}{1800-191}$."
   ]
  },
  {
   "cell_type": "code",
   "execution_count": 47,
   "metadata": {},
   "outputs": [
    {
     "data": {
      "text/plain": [
       "3811.0"
      ]
     },
     "execution_count": 47,
     "metadata": {},
     "output_type": "execute_result"
    }
   ],
   "source": [
    "( (10*a) ** 3 - (10*b+1) ** 3)/((10*a)-(10*b+1)) # I don't know why this method is not working"
   ]
  },
  {
   "cell_type": "code",
   "execution_count": 36,
   "metadata": {},
   "outputs": [],
   "source": [
    "#or"
   ]
  },
  {
   "cell_type": "code",
   "execution_count": 37,
   "metadata": {},
   "outputs": [],
   "source": [
    "a = 1800"
   ]
  },
  {
   "cell_type": "code",
   "execution_count": null,
   "metadata": {},
   "outputs": [],
   "source": [
    "b = 191"
   ]
  },
  {
   "cell_type": "code",
   "execution_count": 39,
   "metadata": {},
   "outputs": [
    {
     "data": {
      "text/plain": [
       "3274561.0"
      ]
     },
     "execution_count": 39,
     "metadata": {},
     "output_type": "execute_result"
    }
   ],
   "source": [
    "(a ** 3 - b ** 3)/(a - b)"
   ]
  },
  {
   "cell_type": "markdown",
   "metadata": {},
   "source": [
    "The fraction $\\dfrac{a^3 - b^3}{a-b}$ simplifies to $a^2 + ab + b^2$. Check that this is true for $a=1800$ and $b=191$."
   ]
  },
  {
   "cell_type": "code",
   "execution_count": 40,
   "metadata": {},
   "outputs": [
    {
     "data": {
      "text/plain": [
       "3274561"
      ]
     },
     "execution_count": 40,
     "metadata": {},
     "output_type": "execute_result"
    }
   ],
   "source": [
    "a ** 2 + a*b + b ** 2"
   ]
  },
  {
   "cell_type": "markdown",
   "metadata": {},
   "source": [
    "### Multiple Assignment\n",
    "It is possible to assign values to several variables in a single statement. For example, try this:\n",
    "```\n",
    "a, b, c = 3, 4, 5\n",
    "a**2 + b**2 - c**2\n",
    "```"
   ]
  },
  {
   "cell_type": "code",
   "execution_count": 42,
   "metadata": {},
   "outputs": [],
   "source": [
    "a, b, c = 3, 4, 5"
   ]
  },
  {
   "cell_type": "code",
   "execution_count": 43,
   "metadata": {},
   "outputs": [
    {
     "data": {
      "text/plain": [
       "0"
      ]
     },
     "execution_count": 43,
     "metadata": {},
     "output_type": "execute_result"
    }
   ],
   "source": [
    "a**2 + b**2 - c**2"
   ]
  },
  {
   "cell_type": "markdown",
   "metadata": {},
   "source": [
    "When you place commas between expressions, you are implicitly creating a `tuple` which wraps parentheses (sometimes invisible) around the expressions. A `tuple` is similar to a list. For example, what is the output for `7, 11, 171`?"
   ]
  },
  {
   "cell_type": "code",
   "execution_count": 44,
   "metadata": {},
   "outputs": [
    {
     "data": {
      "text/plain": [
       "(7, 11, 171)"
      ]
     },
     "execution_count": 44,
     "metadata": {},
     "output_type": "execute_result"
    }
   ],
   "source": [
    "7, 11, 171"
   ]
  },
  {
   "cell_type": "markdown",
   "metadata": {},
   "source": [
    "### Math module\n",
    "The `math` module contains many basic math functions. You can read about them here: https://docs.python.org/3/library/math.html.\n",
    "\n",
    "Be sure to `import math` before beginning these exercises."
   ]
  },
  {
   "cell_type": "code",
   "execution_count": 46,
   "metadata": {},
   "outputs": [],
   "source": [
    "import math"
   ]
  },
  {
   "cell_type": "markdown",
   "metadata": {},
   "source": [
    "Square roots can be calculated in two ways: by calling the `math.sqrt()` function or by raising a number to the power $\\frac 12$. **Calculate $\\sqrt{200}$** using both methods."
   ]
  },
  {
   "cell_type": "code",
   "execution_count": 48,
   "metadata": {},
   "outputs": [
    {
     "data": {
      "text/plain": [
       "14.142135623730951"
      ]
     },
     "execution_count": 48,
     "metadata": {},
     "output_type": "execute_result"
    }
   ],
   "source": [
    "math.sqrt(200)"
   ]
  },
  {
   "cell_type": "code",
   "execution_count": 49,
   "metadata": {},
   "outputs": [
    {
     "data": {
      "text/plain": [
       "14.142135623730951"
      ]
     },
     "execution_count": 49,
     "metadata": {},
     "output_type": "execute_result"
    }
   ],
   "source": [
    "200 ** (1/2)"
   ]
  },
  {
   "cell_type": "markdown",
   "metadata": {},
   "source": [
    "The `math.pi` constant returns the value of $\\pi$. Try it."
   ]
  },
  {
   "cell_type": "code",
   "execution_count": 50,
   "metadata": {},
   "outputs": [
    {
     "data": {
      "text/plain": [
       "3.141592653589793"
      ]
     },
     "execution_count": 50,
     "metadata": {},
     "output_type": "execute_result"
    }
   ],
   "source": [
    "math.pi"
   ]
  },
  {
   "cell_type": "markdown",
   "metadata": {},
   "source": [
    "The `round()` function takes two arguments. \n",
    "\n",
    "Example: `round(5/3, 2)` returns `1.67` which equals $5/3$ rounded to 2 decimal digits.\n",
    "\n",
    "**Display the value of $\\pi$ rounded to 5 decimal digits.** Note that there is a maximum number of digits that can be displayed because of the way floating point numbers are stored."
   ]
  },
  {
   "cell_type": "code",
   "execution_count": 57,
   "metadata": {},
   "outputs": [
    {
     "data": {
      "text/plain": [
       "3.14159"
      ]
     },
     "execution_count": 57,
     "metadata": {},
     "output_type": "execute_result"
    }
   ],
   "source": [
    "round( math.pi, 5) # the maximum digits is 15"
   ]
  },
  {
   "cell_type": "markdown",
   "metadata": {},
   "source": [
    "### Strings\n",
    "\n",
    "Text strings can be enclosed in single or double quotes. Check that 'moo' and \"moo\" produce the same output."
   ]
  },
  {
   "cell_type": "code",
   "execution_count": 58,
   "metadata": {},
   "outputs": [
    {
     "data": {
      "text/plain": [
       "'moo'"
      ]
     },
     "execution_count": 58,
     "metadata": {},
     "output_type": "execute_result"
    }
   ],
   "source": [
    "'moo'"
   ]
  },
  {
   "cell_type": "code",
   "execution_count": 59,
   "metadata": {},
   "outputs": [
    {
     "data": {
      "text/plain": [
       "'moo'"
      ]
     },
     "execution_count": 59,
     "metadata": {},
     "output_type": "execute_result"
    }
   ],
   "source": [
    "\"moo\""
   ]
  },
  {
   "cell_type": "raw",
   "metadata": {},
   "source": [
    "If you wish to insert single quotes inside a text string, the string must be enclosed in double quotes. Compare \"Dot's Diner\" and 'Dot's Diner'."
   ]
  },
  {
   "cell_type": "code",
   "execution_count": 60,
   "metadata": {},
   "outputs": [
    {
     "data": {
      "text/plain": [
       "\"Dot's Diner\""
      ]
     },
     "execution_count": 60,
     "metadata": {},
     "output_type": "execute_result"
    }
   ],
   "source": [
    "\"Dot's Diner\""
   ]
  },
  {
   "cell_type": "code",
   "execution_count": 61,
   "metadata": {},
   "outputs": [
    {
     "ename": "SyntaxError",
     "evalue": "unterminated string literal (detected at line 1) (1582325676.py, line 1)",
     "output_type": "error",
     "traceback": [
      "\u001b[0;36m  Cell \u001b[0;32mIn[61], line 1\u001b[0;36m\u001b[0m\n\u001b[0;31m    'Dot's Diner'.\u001b[0m\n\u001b[0m                ^\u001b[0m\n\u001b[0;31mSyntaxError\u001b[0m\u001b[0;31m:\u001b[0m unterminated string literal (detected at line 1)\n"
     ]
    }
   ],
   "source": [
    "'Dot's Diner'"
   ]
  },
  {
   "cell_type": "markdown",
   "metadata": {},
   "source": [
    "It is possible to \"add\" strings. What does `'cow' + 'pig'` produce?"
   ]
  },
  {
   "cell_type": "code",
   "execution_count": 62,
   "metadata": {},
   "outputs": [
    {
     "data": {
      "text/plain": [
       "'cowpig'"
      ]
     },
     "execution_count": 62,
     "metadata": {},
     "output_type": "execute_result"
    }
   ],
   "source": [
    "'cow' + 'pig'"
   ]
  },
  {
   "cell_type": "markdown",
   "metadata": {},
   "source": [
    "It is also possible to \"multiply\" strings. What does `5 * 'pig'` produce?"
   ]
  },
  {
   "cell_type": "code",
   "execution_count": 63,
   "metadata": {},
   "outputs": [
    {
     "data": {
      "text/plain": [
       "'pigpigpigpigpig'"
      ]
     },
     "execution_count": 63,
     "metadata": {},
     "output_type": "execute_result"
    }
   ],
   "source": [
    "5 * 'pig'"
   ]
  },
  {
   "cell_type": "markdown",
   "metadata": {},
   "source": [
    "Compare the output for `5 * 7` and `5 * '7'`."
   ]
  },
  {
   "cell_type": "code",
   "execution_count": 64,
   "metadata": {},
   "outputs": [
    {
     "data": {
      "text/plain": [
       "35"
      ]
     },
     "execution_count": 64,
     "metadata": {},
     "output_type": "execute_result"
    }
   ],
   "source": [
    "5 * 7"
   ]
  },
  {
   "cell_type": "code",
   "execution_count": 65,
   "metadata": {},
   "outputs": [
    {
     "data": {
      "text/plain": [
       "'77777'"
      ]
     },
     "execution_count": 65,
     "metadata": {},
     "output_type": "execute_result"
    }
   ],
   "source": [
    "5 * '7'"
   ]
  },
  {
   "cell_type": "markdown",
   "metadata": {},
   "source": [
    "### Printing\n",
    "When you `print()` a string, the enclosing quotes do not appear. Compare `\"pig\"` and `print(\"pig\")`."
   ]
  },
  {
   "cell_type": "code",
   "execution_count": 66,
   "metadata": {},
   "outputs": [
    {
     "name": "stdout",
     "output_type": "stream",
     "text": [
      "pig\n"
     ]
    }
   ],
   "source": [
    "print (\"pig\")"
   ]
  },
  {
   "cell_type": "code",
   "execution_count": 67,
   "metadata": {},
   "outputs": [
    {
     "data": {
      "text/plain": [
       "'pig'"
      ]
     },
     "execution_count": 67,
     "metadata": {},
     "output_type": "execute_result"
    }
   ],
   "source": [
    "\"pig\""
   ]
  },
  {
   "cell_type": "markdown",
   "metadata": {},
   "source": [
    "What is the output for this code?\n",
    "```\n",
    "n = 50\n",
    "print('There are', n, 'students in this class.')\n",
    "```"
   ]
  },
  {
   "cell_type": "code",
   "execution_count": 68,
   "metadata": {},
   "outputs": [],
   "source": [
    "n = 50"
   ]
  },
  {
   "cell_type": "code",
   "execution_count": 69,
   "metadata": {},
   "outputs": [
    {
     "name": "stdout",
     "output_type": "stream",
     "text": [
      "There are 50 students in this class.\n"
     ]
    }
   ],
   "source": [
    "print ('There are', n, 'students in this class.')"
   ]
  },
  {
   "cell_type": "markdown",
   "metadata": {},
   "source": [
    "Use a `print()` statement to display the following equation. Let `n = 50`, then use `n` **three times** in the `print()` statement.\n",
    "```\n",
    "50 + 50 = 100\n",
    "```"
   ]
  },
  {
   "cell_type": "code",
   "execution_count": 70,
   "metadata": {},
   "outputs": [],
   "source": [
    "n = 50"
   ]
  },
  {
   "cell_type": "code",
   "execution_count": 113,
   "metadata": {},
   "outputs": [
    {
     "name": "stdout",
     "output_type": "stream",
     "text": [
      "50 + 50 = 100\n"
     ]
    }
   ],
   "source": [
    "print ( n, '+', n, '=', 2*n)"
   ]
  },
  {
   "cell_type": "markdown",
   "metadata": {},
   "source": [
    "Use the `*` operator to print this pattern without writing out each character. There are 15 CUs in each row.\n",
    "```\n",
    "CU CU CU CU CU CU CU CU CU CU CU CU CU CU CU \n",
    " CU CU CU CU CU CU CU CU CU CU CU CU CU CU CU \n",
    "  CU CU CU CU CU CU CU CU CU CU CU CU CU CU CU \n",
    "   CU CU CU CU CU CU CU CU CU CU CU CU CU CU CU \n",
    "```"
   ]
  },
  {
   "cell_type": "code",
   "execution_count": 81,
   "metadata": {},
   "outputs": [
    {
     "name": "stdout",
     "output_type": "stream",
     "text": [
      "CU CU CU CU CU CU CU CU CU CU CU CU CU CU CU \n",
      "   CU CU CU CU CU CU CU CU CU CU CU CU CU CU CU \n",
      "     CU CU CU CU CU CU CU CU CU CU CU CU CU CU CU \n",
      "       CU CU CU CU CU CU CU CU CU CU CU CU CU CU CU \n"
     ]
    }
   ],
   "source": [
    "print (15*'CU ') \n",
    "print ('  ', 15*'CU ')\n",
    "print ('    ', 15*'CU ')\n",
    "print ('      ', 15*'CU ')"
   ]
  },
  {
   "cell_type": "markdown",
   "metadata": {},
   "source": [
    "### Exponentials and Logarithms\n",
    "\n",
    "Use the `math.e` constant and `round()` function to display the value of natural $e$ rounded to 3 decimal digits."
   ]
  },
  {
   "cell_type": "code",
   "execution_count": 82,
   "metadata": {},
   "outputs": [
    {
     "data": {
      "text/plain": [
       "2.718"
      ]
     },
     "execution_count": 82,
     "metadata": {},
     "output_type": "execute_result"
    }
   ],
   "source": [
    "round(math.e, 3)"
   ]
  },
  {
   "cell_type": "markdown",
   "metadata": {},
   "source": [
    "An alternate way to generate $e$ is to use the `math.exp()` function which raises $e$ to a given power. Try it."
   ]
  },
  {
   "cell_type": "code",
   "execution_count": 88,
   "metadata": {},
   "outputs": [
    {
     "data": {
      "text/plain": [
       "7.38905609893065"
      ]
     },
     "execution_count": 88,
     "metadata": {},
     "output_type": "execute_result"
    }
   ],
   "source": [
    "math.exp(2)"
   ]
  },
  {
   "cell_type": "markdown",
   "metadata": {},
   "source": [
    "The `math.log()` function with one argument corresponds to $\\ln(x)$. Write code to evaluate $\\left\\lvert\\, 3\\ln \\left(1 - 2e^{-5} \\right)\\,\\right\\rvert$. Use the `abs()` built-in function.\n",
    "\n",
    " Answer: `0.040703`"
   ]
  },
  {
   "cell_type": "code",
   "execution_count": 91,
   "metadata": {},
   "outputs": [
    {
     "data": {
      "text/plain": [
       "0.061262808680871306"
      ]
     },
     "execution_count": 91,
     "metadata": {},
     "output_type": "execute_result"
    }
   ],
   "source": [
    "abs( 3 * math.log(1 - 3*math.exp(-5) ) )"
   ]
  },
  {
   "cell_type": "markdown",
   "metadata": {},
   "source": [
    "There is also a `math.log10()` function for logarithms in base 10. What do you expect `math.log10(1e-5)` to produce? Check your answer."
   ]
  },
  {
   "cell_type": "code",
   "execution_count": 114,
   "metadata": {},
   "outputs": [
    {
     "data": {
      "text/plain": [
       "-5.0"
      ]
     },
     "execution_count": 114,
     "metadata": {},
     "output_type": "execute_result"
    }
   ],
   "source": [
    "math.log10(1e-5)"
   ]
  },
  {
   "cell_type": "markdown",
   "metadata": {},
   "source": [
    "For other logarithms, you can pass a second argument, corresponding to the base of the logarithm, to `math.log()`. For example, `math.log(1/8, 2)` returns `-3.0`.\n",
    "\n",
    "What does $\\log_3{\\left(9^{-4}\\right)}$ simplify to? Check your answer."
   ]
  },
  {
   "cell_type": "code",
   "execution_count": 121,
   "metadata": {},
   "outputs": [
    {
     "data": {
      "text/plain": [
       "-8.0"
      ]
     },
     "execution_count": 121,
     "metadata": {},
     "output_type": "execute_result"
    }
   ],
   "source": [
    "math.log(9 ** -4, 3)"
   ]
  },
  {
   "cell_type": "markdown",
   "metadata": {},
   "source": [
    "### Upload Your Work to Gradescope\n",
    "\n",
    "Please upload this notebook in **.ipynb** format. \n",
    "\n",
    "* Make sure this notebook is named `Rec1.ipynb`.\n",
    "* From Canvas, select `Gradescope`.\n",
    "* In Gradescope, select the assignment called `Rec1.ipynb` and upload your file.\n",
    "* If you do not complete the exercises during class, you may resubmit your file up to a week late. Multiple submissions are allowed.\n",
    "\n",
    "For future recitations, you will need to convert your file to `.py` format and submit your code to Gradescope for autograding.\n"
   ]
  },
  {
   "cell_type": "markdown",
   "metadata": {},
   "source": [
    "---"
   ]
  },
  {
   "cell_type": "markdown",
   "metadata": {},
   "source": [
    "## Extra Problems\n",
    "Work on these problems after completing the previous exercises."
   ]
  },
  {
   "cell_type": "markdown",
   "metadata": {},
   "source": [
    "### Printing\n",
    "Print this pattern. Use the `*` operator.\n",
    "```\n",
    "CU CU CU CU CU CU CU CU CU CU CU CU CU CU CU \n",
    "      CU CU CU CU CU CU CU CU CU CU CU \n",
    "            CU CU CU CU CU CU CU \n",
    "                  CU CU CU \n",
    "```"
   ]
  },
  {
   "cell_type": "code",
   "execution_count": 127,
   "metadata": {},
   "outputs": [
    {
     "name": "stdout",
     "output_type": "stream",
     "text": [
      "CU CU CU CU CU CU CU CU CU CU CU CU CU CU CU \n",
      "      CU CU CU CU CU CU CU CU CU CU CU \n",
      "            CU CU CU CU CU CU CU \n",
      "                  CU CU CU \n"
     ]
    }
   ],
   "source": [
    "print ( 15 * 'CU ')\n",
    "print ( '     ', 11 * 'CU ')\n",
    "print ( '           ', 7 * 'CU ')\n",
    "print ( '                 ', 3 * 'CU ')"
   ]
  },
  {
   "cell_type": "markdown",
   "metadata": {},
   "source": [
    "Use `print` and `*` to create your own patterns."
   ]
  },
  {
   "cell_type": "markdown",
   "metadata": {},
   "source": [
    "I feel like there should be a shortcut to the spacing and not just pressing space multiple times. "
   ]
  },
  {
   "cell_type": "markdown",
   "metadata": {},
   "source": [
    "### Readings\n",
    "\n",
    "See the Canvas Readings page for documentation on Python."
   ]
  },
  {
   "cell_type": "markdown",
   "metadata": {},
   "source": [
    "Good reads, thank you."
   ]
  },
  {
   "cell_type": "code",
   "execution_count": null,
   "metadata": {},
   "outputs": [],
   "source": []
  }
 ],
 "metadata": {
  "kernelspec": {
   "display_name": "Python 3 (ipykernel)",
   "language": "python",
   "name": "python3"
  },
  "language_info": {
   "codemirror_mode": {
    "name": "ipython",
    "version": 3
   },
   "file_extension": ".py",
   "mimetype": "text/x-python",
   "name": "python",
   "nbconvert_exporter": "python",
   "pygments_lexer": "ipython3",
   "version": "3.12.4"
  }
 },
 "nbformat": 4,
 "nbformat_minor": 4
}
