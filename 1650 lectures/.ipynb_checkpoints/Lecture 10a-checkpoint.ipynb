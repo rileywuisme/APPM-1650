{
 "cells": [
  {
   "cell_type": "markdown",
   "id": "dae0762d-813b-4654-8402-c49a0fb067f0",
   "metadata": {},
   "source": [
    "### Lecture 10a"
   ]
  },
  {
   "cell_type": "code",
   "execution_count": 6,
   "id": "32d4c305-baae-4157-8064-fd32f5988af8",
   "metadata": {},
   "outputs": [],
   "source": [
    "import math\n",
    "import random"
   ]
  },
  {
   "cell_type": "markdown",
   "id": "51fa1047-7162-4fed-9898-257f0e8c6650",
   "metadata": {},
   "source": [
    "#### Primality Testing"
   ]
  },
  {
   "cell_type": "markdown",
   "id": "223e0a2d-17de-4eba-b4e3-242ec6cf79b8",
   "metadata": {},
   "source": [
    "Write a function `is_prime(num)` that returns `True` if num is prime. "
   ]
  },
  {
   "cell_type": "code",
   "execution_count": 28,
   "id": "2a03317f-a828-4692-8b5f-0236a272cd48",
   "metadata": {},
   "outputs": [],
   "source": [
    "# inefficient version\n",
    "def is_prime(num):\n",
    "    if num == 1:\n",
    "        return False\n",
    "    # check if any number between 1 and num is a divisor\n",
    "    for d in range(2, num):\n",
    "        if num % d == 0:\n",
    "            return False #composite number\n",
    "    return True"
   ]
  },
  {
   "cell_type": "code",
   "execution_count": 36,
   "id": "dc2e0dc2-ea58-4792-9171-5a978a96c87d",
   "metadata": {},
   "outputs": [
    {
     "data": {
      "text/plain": [
       "[(1, False),\n",
       " (2, True),\n",
       " (3, True),\n",
       " (4, False),\n",
       " (5, True),\n",
       " (6, False),\n",
       " (7, True),\n",
       " (8, False),\n",
       " (9, False),\n",
       " (10, False),\n",
       " (11, True),\n",
       " (12, False),\n",
       " (13, True),\n",
       " (14, False),\n",
       " (15, False),\n",
       " (16, False),\n",
       " (17, True),\n",
       " (18, False),\n",
       " (19, True),\n",
       " (20, False)]"
      ]
     },
     "execution_count": 36,
     "metadata": {},
     "output_type": "execute_result"
    }
   ],
   "source": [
    "[(num, is_prime(num)) for num in range(1, 21)]"
   ]
  },
  {
   "cell_type": "markdown",
   "id": "ccf61ea2-ec31-4592-b501-c854ef5076c7",
   "metadata": {},
   "source": [
    "Extract the numbers from 1 to 20 that are prime."
   ]
  },
  {
   "cell_type": "code",
   "execution_count": 43,
   "id": "5a695e10-5b3b-4100-9900-853cdd0007ff",
   "metadata": {},
   "outputs": [
    {
     "data": {
      "text/plain": [
       "[2, 3, 5, 7, 11, 13, 17, 19]"
      ]
     },
     "execution_count": 43,
     "metadata": {},
     "output_type": "execute_result"
    }
   ],
   "source": [
    "[num for num in range(1, 21) if is_prime(num)]"
   ]
  },
  {
   "cell_type": "code",
   "execution_count": 64,
   "id": "ecbb2dac-b21e-4bf7-a7fc-9c869289e595",
   "metadata": {},
   "outputs": [],
   "source": [
    "# more efficient version\n",
    "def is_prime2(num):\n",
    "    if num == 1:\n",
    "        return False\n",
    "    for d in range(2, round(math.sqrt(num))+1):\n",
    "        if num % d == 0:\n",
    "            return False\n",
    "    return True"
   ]
  },
  {
   "cell_type": "code",
   "execution_count": 66,
   "id": "c5356e6a-9315-4e24-9125-43e9db997bf2",
   "metadata": {},
   "outputs": [
    {
     "data": {
      "text/plain": [
       "True"
      ]
     },
     "execution_count": 66,
     "metadata": {},
     "output_type": "execute_result"
    }
   ],
   "source": [
    "is_prime2(11)"
   ]
  },
  {
   "cell_type": "code",
   "execution_count": 70,
   "id": "02ed542a-34cf-4d4e-abe0-c55669012743",
   "metadata": {},
   "outputs": [
    {
     "data": {
      "text/plain": [
       "[2, 3, 5, 7, 11, 13, 17, 19, 23, 29, 31, 37, 41, 43, 47]"
      ]
     },
     "execution_count": 70,
     "metadata": {},
     "output_type": "execute_result"
    }
   ],
   "source": [
    "[num for num in range(1, 50) if is_prime2(num)]"
   ]
  },
  {
   "cell_type": "code",
   "execution_count": 74,
   "id": "8c93dbd3-be30-4c1e-b59f-7fc70927fc61",
   "metadata": {},
   "outputs": [
    {
     "name": "stdout",
     "output_type": "stream",
     "text": [
      "CPU times: user 502 ms, sys: 3.21 ms, total: 505 ms\n",
      "Wall time: 506 ms\n"
     ]
    }
   ],
   "source": [
    "%%time\n",
    "primes20000 = [num for num in range(1, 20000) if is_prime(num)]"
   ]
  },
  {
   "cell_type": "code",
   "execution_count": 76,
   "id": "db7b2363-0320-452a-8aa7-da5cbfa33c52",
   "metadata": {},
   "outputs": [
    {
     "name": "stdout",
     "output_type": "stream",
     "text": [
      "CPU times: user 21.2 ms, sys: 1.65 ms, total: 22.9 ms\n",
      "Wall time: 23.4 ms\n"
     ]
    }
   ],
   "source": [
    "%%time\n",
    "primes20000 = [num for num in range(1, 20000) if is_prime2(num)]"
   ]
  },
  {
   "cell_type": "markdown",
   "id": "36c254be-6b23-4824-a705-1a5e94f19176",
   "metadata": {},
   "source": [
    "###  Divisors of a Number  \n",
    "Write a function `divisors(num)` that returns a sorted list of the divisors of positive integer `num`."
   ]
  },
  {
   "cell_type": "code",
   "execution_count": 98,
   "id": "bdccc985-d9dd-46f5-b623-01970b94f6f0",
   "metadata": {},
   "outputs": [],
   "source": [
    "# inefficient version\n",
    "def divisors(num):\n",
    "    return [n for n in range(1, num+1) if num % n == 0]"
   ]
  },
  {
   "cell_type": "code",
   "execution_count": 94,
   "id": "65bf400e-c992-4ca4-9e0c-12ea6fddb28a",
   "metadata": {},
   "outputs": [
    {
     "data": {
      "text/plain": [
       "[1, 2, 3, 4, 6, 12]"
      ]
     },
     "execution_count": 94,
     "metadata": {},
     "output_type": "execute_result"
    }
   ],
   "source": [
    "divisors(12)"
   ]
  },
  {
   "cell_type": "code",
   "execution_count": 104,
   "id": "efc114c9-c68a-459d-ab2e-2f79609e4a61",
   "metadata": {},
   "outputs": [],
   "source": [
    "# efficient version\n",
    "def divisors2(num):\n",
    "    return [n for n in range(1, int(num/2)+1) if num % n == 0] + [num]"
   ]
  },
  {
   "cell_type": "code",
   "execution_count": 106,
   "id": "4f78ffc9-2c58-44d9-9bd4-0b0e56dbf461",
   "metadata": {},
   "outputs": [
    {
     "data": {
      "text/plain": [
       "[1, 2, 3, 4, 6, 12]"
      ]
     },
     "execution_count": 106,
     "metadata": {},
     "output_type": "execute_result"
    }
   ],
   "source": [
    "divisors2(12)"
   ]
  },
  {
   "cell_type": "code",
   "execution_count": 110,
   "id": "7b2db6a8-272a-4430-82ea-0aa9882d9b49",
   "metadata": {},
   "outputs": [],
   "source": [
    "# more efficient version\n",
    "def divisors3(num):\n",
    "    divs = []\n",
    "\n",
    "    for d in range(1, int(math.sqrt(num)) + 1):\n",
    "        if num % d == 0:\n",
    "            divs.append(d)\n",
    "            divs.append(num // d)\n",
    "    return sorted(divs)"
   ]
  },
  {
   "cell_type": "code",
   "execution_count": 118,
   "id": "07ceb6ec-4466-4552-aef6-d86b9b0dd899",
   "metadata": {},
   "outputs": [
    {
     "data": {
      "text/plain": [
       "[1, 5, 5, 25]"
      ]
     },
     "execution_count": 118,
     "metadata": {},
     "output_type": "execute_result"
    }
   ],
   "source": [
    "divisors3(25)"
   ]
  },
  {
   "cell_type": "code",
   "execution_count": 120,
   "id": "2ab4e68c-ef0a-4b85-8f74-7ae13324eb92",
   "metadata": {},
   "outputs": [],
   "source": [
    "# more efficient version\n",
    "def divisors4(num):\n",
    "    divs = set()\n",
    "\n",
    "    for d in range(1, int(math.sqrt(num)) + 1):\n",
    "        if num % d == 0:\n",
    "            divs.add(d)\n",
    "            divs.add(num // d)\n",
    "    return sorted(divs)"
   ]
  },
  {
   "cell_type": "code",
   "execution_count": 126,
   "id": "d3b79da2-b3b6-4032-89f4-49758a26180c",
   "metadata": {},
   "outputs": [
    {
     "data": {
      "text/plain": [
       "[1, 5, 25]"
      ]
     },
     "execution_count": 126,
     "metadata": {},
     "output_type": "execute_result"
    }
   ],
   "source": [
    "divisors4(25)"
   ]
  },
  {
   "cell_type": "code",
   "execution_count": 128,
   "id": "1a2706b0-1d74-4167-b7ca-a514b373c488",
   "metadata": {},
   "outputs": [
    {
     "name": "stdout",
     "output_type": "stream",
     "text": [
      "CPU times: user 428 ms, sys: 3.34 ms, total: 432 ms\n",
      "Wall time: 432 ms\n"
     ]
    }
   ],
   "source": [
    "%%time\n",
    "divslarge = divisors(12**7)"
   ]
  },
  {
   "cell_type": "code",
   "execution_count": 132,
   "id": "ffcfcca0-e6c0-4ebb-9490-7d73ca2ac173",
   "metadata": {},
   "outputs": [
    {
     "name": "stdout",
     "output_type": "stream",
     "text": [
      "CPU times: user 823 μs, sys: 1 μs, total: 824 μs\n",
      "Wall time: 829 μs\n"
     ]
    }
   ],
   "source": [
    "%%time\n",
    "divslarge = divisors4(12**7)"
   ]
  },
  {
   "cell_type": "markdown",
   "id": "c748567a-4d4a-4c8c-af6a-c81f2646cd91",
   "metadata": {},
   "source": [
    "### Digit Sum\n",
    "* Write a non-recursive version and use string ops.\n",
    "* Write a none-recursive version without string ops.\n",
    "* Write a non-recursve version. "
   ]
  },
  {
   "cell_type": "code",
   "execution_count": 148,
   "id": "659ab8e1-b443-498d-bb47-abf42e4193a5",
   "metadata": {},
   "outputs": [],
   "source": [
    "def digit_sum1(num):\n",
    "        return sum(int(n) for n in str(num))"
   ]
  },
  {
   "cell_type": "code",
   "execution_count": 152,
   "id": "fb97aed5-c8ff-4312-a315-456d29515cf9",
   "metadata": {},
   "outputs": [
    {
     "data": {
      "text/plain": [
       "5"
      ]
     },
     "execution_count": 152,
     "metadata": {},
     "output_type": "execute_result"
    }
   ],
   "source": [
    "digit_sum1(14)"
   ]
  },
  {
   "cell_type": "code",
   "execution_count": 160,
   "id": "fe45d66d-acaf-4fd9-8252-10fc923de344",
   "metadata": {},
   "outputs": [],
   "source": [
    "def digit_sum2(num):\n",
    "    dsum = 0\n",
    "    currnum = num\n",
    "    \n",
    "    while currnum > 0:\n",
    "        #extract a digit, add to dsum\n",
    "        dsum += currnum % 10\n",
    "        currnum //= 10\n",
    "\n",
    "    return dsum"
   ]
  },
  {
   "cell_type": "code",
   "execution_count": 162,
   "id": "d62fede8-89a6-429d-b7d2-19efd20ab2ff",
   "metadata": {},
   "outputs": [
    {
     "data": {
      "text/plain": [
       "9"
      ]
     },
     "execution_count": 162,
     "metadata": {},
     "output_type": "execute_result"
    }
   ],
   "source": [
    "digit_sum2(135)"
   ]
  },
  {
   "cell_type": "code",
   "execution_count": 174,
   "id": "1b0258e4-22da-4e3d-9030-59fa46446e82",
   "metadata": {},
   "outputs": [],
   "source": [
    "# recursive version\n",
    "def digit_sum3(num):\n",
    "    if num < 10:\n",
    "        return num\n",
    "\n",
    "    return digit_sum3(num//10) + (num % 10)"
   ]
  },
  {
   "cell_type": "code",
   "execution_count": 176,
   "id": "47bcc3a8-4604-4c5a-be14-e70d9e6df312",
   "metadata": {},
   "outputs": [
    {
     "data": {
      "text/plain": [
       "9"
      ]
     },
     "execution_count": 176,
     "metadata": {},
     "output_type": "execute_result"
    }
   ],
   "source": [
    "digit_sum3(135)"
   ]
  },
  {
   "cell_type": "code",
   "execution_count": null,
   "id": "4400a2a4-c273-4a29-99a6-5ecd6479eb02",
   "metadata": {},
   "outputs": [],
   "source": []
  }
 ],
 "metadata": {
  "kernelspec": {
   "display_name": "Python 3 (ipykernel)",
   "language": "python",
   "name": "python3"
  },
  "language_info": {
   "codemirror_mode": {
    "name": "ipython",
    "version": 3
   },
   "file_extension": ".py",
   "mimetype": "text/x-python",
   "name": "python",
   "nbconvert_exporter": "python",
   "pygments_lexer": "ipython3",
   "version": "3.12.4"
  }
 },
 "nbformat": 4,
 "nbformat_minor": 5
}
