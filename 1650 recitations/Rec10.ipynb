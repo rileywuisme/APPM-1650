{
 "cells": [
  {
   "cell_type": "markdown",
   "metadata": {
    "tags": []
   },
   "source": [
    "# Recitation 10\n",
    "\n",
    "___"
   ]
  },
  {
   "cell_type": "code",
   "execution_count": 11,
   "metadata": {},
   "outputs": [],
   "source": [
    "import math\n",
    "import random\n",
    "import matplotlib.pyplot as plt"
   ]
  },
  {
   "cell_type": "markdown",
   "metadata": {},
   "source": [
    "### Code Tracing\n",
    "Predict the output for each of these code snippets. Then check your answers."
   ]
  },
  {
   "cell_type": "markdown",
   "metadata": {},
   "source": [
    "```\n",
    "x = 'oink'\n",
    "y = ''\n",
    "for z in range(len(x)):\n",
    "    y += 2 * str(z)\n",
    "y\n",
    "```"
   ]
  },
  {
   "cell_type": "code",
   "execution_count": 14,
   "metadata": {},
   "outputs": [
    {
     "data": {
      "text/plain": [
       "'00112233'"
      ]
     },
     "execution_count": 14,
     "metadata": {},
     "output_type": "execute_result"
    }
   ],
   "source": [
    "x = 'oink'\n",
    "y = ''\n",
    "for z in range(len(x)):\n",
    "    y += 2 * str(z)\n",
    "\n",
    "y\n",
    "\n",
    "'00112233'"
   ]
  },
  {
   "cell_type": "markdown",
   "metadata": {},
   "source": [
    "```\n",
    "x = 100\n",
    "y = {}\n",
    "for z in range(len(str(x))):\n",
    "    y[z] = x * (z+1)\n",
    "y\n",
    "```"
   ]
  },
  {
   "cell_type": "code",
   "execution_count": 16,
   "metadata": {},
   "outputs": [
    {
     "data": {
      "text/plain": [
       "{100, 200, 300, 400}"
      ]
     },
     "execution_count": 16,
     "metadata": {},
     "output_type": "execute_result"
    }
   ],
   "source": [
    "x = 100\n",
    "y = {}\n",
    "for z in range(len(str(x))):\n",
    "    y[z] = x * (z+1)\n",
    "\n",
    "y\n",
    "\n",
    "{100, 200, 300, 400}"
   ]
  },
  {
   "cell_type": "markdown",
   "metadata": {},
   "source": [
    "```\n",
    "def func(x):\n",
    "    if x <= 3:\n",
    "        return 3\n",
    "    else:\n",
    "        return x + func(x-1)\n",
    "func(5)\n",
    "```"
   ]
  },
  {
   "cell_type": "code",
   "execution_count": 18,
   "metadata": {},
   "outputs": [
    {
     "data": {
      "text/plain": [
       "12"
      ]
     },
     "execution_count": 18,
     "metadata": {},
     "output_type": "execute_result"
    }
   ],
   "source": [
    "def func(x):\n",
    "    if x <= 3:\n",
    "        return 3\n",
    "    else:\n",
    "        return x + func(x-1)\n",
    "func(5)\n",
    "\n",
    "12"
   ]
  },
  {
   "cell_type": "markdown",
   "metadata": {},
   "source": [
    "```\n",
    "{y : x for x, y in enumerate('abcd')}\n",
    "```"
   ]
  },
  {
   "cell_type": "code",
   "execution_count": 20,
   "metadata": {},
   "outputs": [
    {
     "data": {
      "text/plain": [
       "{'a': 0, 'b': 1, 'c': 2, 'd': 3}"
      ]
     },
     "execution_count": 20,
     "metadata": {},
     "output_type": "execute_result"
    }
   ],
   "source": [
    "{y : x for x, y in enumerate('abcd')}\n",
    "\n",
    "# {1: a, 2: b, 3: c, 4: d}"
   ]
  },
  {
   "cell_type": "markdown",
   "metadata": {},
   "source": [
    "### Odd Numbers\n",
    "Write a **recursive function `odds(n)`** that returns a list of the first `n` odd integers.\n",
    "\n",
    "Example:  \n",
    "`odds(4)` returns `[1, 3, 5, 7]`."
   ]
  },
  {
   "cell_type": "code",
   "execution_count": 22,
   "metadata": {},
   "outputs": [],
   "source": [
    "def odds(n):\n",
    "    if n == 1:\n",
    "        return [1]\n",
    "\n",
    "    return odds(n-1) + [2*n-1]"
   ]
  },
  {
   "cell_type": "code",
   "execution_count": 23,
   "metadata": {},
   "outputs": [
    {
     "data": {
      "text/plain": [
       "[1, 3, 5, 7]"
      ]
     },
     "execution_count": 23,
     "metadata": {},
     "output_type": "execute_result"
    }
   ],
   "source": [
    "odds(4)"
   ]
  },
  {
   "cell_type": "markdown",
   "metadata": {},
   "source": [
    "### A Sequence\n",
    "Write a **recursive function `seq(n)`** that returns the `n`th term of this sequence:\n",
    "$$1, 12, 123, 1234, 12345, \\ldots .$$"
   ]
  },
  {
   "cell_type": "code",
   "execution_count": 25,
   "metadata": {},
   "outputs": [],
   "source": [
    "def seq(n):\n",
    "    if n == 1:\n",
    "        return 1\n",
    "\n",
    "    return int(str(seq(n-1)) + str(n))"
   ]
  },
  {
   "cell_type": "code",
   "execution_count": 26,
   "metadata": {},
   "outputs": [
    {
     "data": {
      "text/plain": [
       "123456"
      ]
     },
     "execution_count": 26,
     "metadata": {},
     "output_type": "execute_result"
    }
   ],
   "source": [
    "seq(6)"
   ]
  },
  {
   "cell_type": "markdown",
   "metadata": {},
   "source": [
    "### Pascal's Triangle\n",
    "Pascal's Triangle contains the *binomial coefficients* $\\binom nk$ for the expansion of $(x+1)^n$. For example, the coefficients in $(x+1)^3 = \\underline{1}x^3 + \\underline{3}x^2 + \\underline{3}x + \\underline{1}$ correspond to  $\\binom 30\\ \\ \\binom 31\\ \\ \\binom 32\\ \\ \\binom 33$.\n",
    "\n",
    "Write a function **`pascal(n)`** that displays the first `n` rows of Pascal's Triangle, including the 0th row. The number in the `n`th row and `k`th column equals $\\binom nk$. **Use a nested `for` loop.** You may use the `binom()` function defined below. \n",
    "\n",
    "Example: `pascal(5)` produces\n",
    "```\n",
    "1\n",
    "1 1\n",
    "1 2 1\n",
    "1 3 3 1\n",
    "1 4 6 4 1\n",
    "1 5 10 10 5 1\n",
    "```"
   ]
  },
  {
   "cell_type": "code",
   "execution_count": 28,
   "metadata": {},
   "outputs": [],
   "source": [
    "def binom(n, k):\n",
    "    return math.factorial(n) // math.factorial(k) // math.factorial(n-k)"
   ]
  },
  {
   "cell_type": "code",
   "execution_count": 29,
   "metadata": {},
   "outputs": [],
   "source": [
    "def pascal(n):\n",
    "    print(1)\n",
    "    for col in range(1, n+1):\n",
    "        for row in range(col+1):\n",
    "            print(binom(col, row), end=' ')\n",
    "        print()"
   ]
  },
  {
   "cell_type": "code",
   "execution_count": 30,
   "metadata": {},
   "outputs": [
    {
     "name": "stdout",
     "output_type": "stream",
     "text": [
      "1\n",
      "1 1 \n",
      "1 2 1 \n",
      "1 3 3 1 \n",
      "1 4 6 4 1 \n",
      "1 5 10 10 5 1 \n"
     ]
    }
   ],
   "source": [
    "pascal(5)"
   ]
  },
  {
   "cell_type": "markdown",
   "metadata": {},
   "source": [
    "### Pi Approximation\n",
    "Consider a unit circle of radius 1, inscribed inside of a square, shown below. If we randomly throw darts at the square, some of the darts will land inside the circle and others will land outside the circle but still within the square. The probability that a dart lands inside of the circle equals\n",
    "$$\\frac{\\text{area of circle}}{\\text{area of square}} = \\frac{\\pi}{4}.$$ \n",
    "\n",
    "Write a function **`pi_darts(ndarts)`** that simulates the throwing of `ndarts` darts and calculates the fraction of throws that land inside the circle. The function multiplies the fraction by $4$ to return an estimate for the value of $\\pi$. For example, `pi_darts(1000)` might return `3.148`.\n",
    "\n",
    "(*Hint:* You may wish to locate the center of the circle at the origin. Use two random numbers to represent the $x$ and $y$ coordinates of a dart. Then use the distance formula to determine whether the dart lies within the circle.)\n",
    "\n",
    " <img src=\"http://www.coloradomath.org/python/circle_inscribed.png\" width=\"200\" />\n",
    "\n"
   ]
  },
  {
   "cell_type": "code",
   "execution_count": 32,
   "metadata": {
    "tags": []
   },
   "outputs": [],
   "source": [
    "def pi_darts(ndarts):\n",
    "    in_circle = 0\n",
    "    x = [random.uniform(-1, 1) for n in range(ndarts)]\n",
    "    y = [random.uniform(-1, 1) for n in range(ndarts)]\n",
    "    for n in range(ndarts):\n",
    "        if x[n]**2 + y[n]**2 < 1:\n",
    "            in_circle += 1\n",
    "    prob = in_circle / ndarts\n",
    "    return prob * 4"
   ]
  },
  {
   "cell_type": "code",
   "execution_count": 33,
   "metadata": {},
   "outputs": [
    {
     "data": {
      "text/plain": [
       "3.216"
      ]
     },
     "execution_count": 33,
     "metadata": {},
     "output_type": "execute_result"
    }
   ],
   "source": [
    "pi_darts(1000)"
   ]
  },
  {
   "cell_type": "markdown",
   "metadata": {
    "tags": []
   },
   "source": [
    "### Dice Rolls\n",
    "Write a function **`dice_sum_total(thresh)`** that simulates the roll of a fair six-sided die, printing the results in a row, until the sum of all of the rolls exceeds `thresh`. Return the number of rolls. Assume that `thresh` is a positive integer.\n",
    "\n",
    "* Write a **non-recursive version** of the function.\n",
    "* Write a **recursive version** of the function.\n",
    "\n",
    "Here is sample output for `dice_sum_total(15)`:\n",
    "```\n",
    "4 1 1 2 3 1 2 4 \n",
    "8\n",
    "```\n"
   ]
  },
  {
   "cell_type": "code",
   "execution_count": 35,
   "metadata": {
    "tags": []
   },
   "outputs": [],
   "source": [
    "# non-recursive version\n",
    "def dice_sum_total(thresh):\n",
    "    roll = 0\n",
    "    ncount = 0\n",
    "    while roll < thresh:\n",
    "        r = random.randint(1, 6)\n",
    "        print(r, end=' ')\n",
    "        roll += r\n",
    "        ncount += 1\n",
    "    return ncount"
   ]
  },
  {
   "cell_type": "code",
   "execution_count": 36,
   "metadata": {},
   "outputs": [
    {
     "name": "stdout",
     "output_type": "stream",
     "text": [
      "1 1 2 6 6 "
     ]
    },
    {
     "data": {
      "text/plain": [
       "5"
      ]
     },
     "execution_count": 36,
     "metadata": {},
     "output_type": "execute_result"
    }
   ],
   "source": [
    "dice_sum_total(15)"
   ]
  },
  {
   "cell_type": "code",
   "execution_count": 116,
   "metadata": {},
   "outputs": [],
   "source": [
    "# recursive version\n",
    "def dice_sum_total_rec(thresh):\n",
    "    count = 0\n",
    "    roll = random.randint(1, 6)\n",
    "    count += 1\n",
    "    print(roll, end=' ')\n",
    "    if thresh <= 1:\n",
    "        return count\n",
    "    return dice_sum_total_rec(thresh-roll) + 1"
   ]
  },
  {
   "cell_type": "code",
   "execution_count": 118,
   "metadata": {},
   "outputs": [
    {
     "name": "stdout",
     "output_type": "stream",
     "text": [
      "5 3 4 2 1 "
     ]
    },
    {
     "data": {
      "text/plain": [
       "5"
      ]
     },
     "execution_count": 118,
     "metadata": {},
     "output_type": "execute_result"
    }
   ],
   "source": [
    "dice_sum_total_rec(15)"
   ]
  },
  {
   "cell_type": "markdown",
   "metadata": {},
   "source": [
    "___\n",
    "\n",
    "# Extra Problems\n",
    "Work on these problems after completing the previous exercises."
   ]
  },
  {
   "cell_type": "markdown",
   "metadata": {},
   "source": [
    "### Word Rectangle\n",
    "\n",
    "Write a function **`word_rect(word, ncols)`** that displays the string `word` in rectangular format, with `ncols` letters in each row, separated by spaces.\n",
    "\n",
    "Example: `word_rect('UNIVERSITYOFCOLORADOBOULDER', 6)` displays\n",
    "\n",
    "```\n",
    "U N I V E R \n",
    "S I T Y O F \n",
    "C O L O R A \n",
    "D O B O U L \n",
    "D E R \n",
    "```"
   ]
  },
  {
   "cell_type": "code",
   "execution_count": null,
   "metadata": {},
   "outputs": [],
   "source": []
  },
  {
   "cell_type": "markdown",
   "metadata": {},
   "source": [
    "### Perfect, Abundant, and Deficient Numbers\n",
    "A number $n$ is **perfect** if the sum of its divisors equals $2n$, a number is **abundant** if the divisor sum exceeds $2n$, and a number is **deficient** if the divisor sum is less than $2n$.\n",
    "\n",
    "Examples:<br>\n",
    "$6$ is perfect because $1+2+3+6 = 2\\cdot 6$.<br>\n",
    "$12$ is abundant because $1+2+3+4+6+12 = 28 > 2\\cdot 12$.<br>\n",
    "$15$ is deficient because $1+3+5+15 = 24 < 2\\cdot 15$."
   ]
  },
  {
   "cell_type": "markdown",
   "metadata": {},
   "source": [
    "Write a function **`num_type(num)`** that takes a positive integer `num` and returns `'perfect'`, `'abundant'`, or `'deficient'`."
   ]
  },
  {
   "cell_type": "code",
   "execution_count": null,
   "metadata": {},
   "outputs": [],
   "source": []
  },
  {
   "cell_type": "markdown",
   "metadata": {},
   "source": [
    "**Create a scatter plot** showing the abundant, perfect, and deficient numbers from 1 to 100. Assign the values $1, 0, -1$ to the number types, respectively. The horizontal axis labels should identify the abundant and perfect numbers.\n",
    "\n",
    "<img src=\"http://www.coloradomath.org/python/abundant.jpg\" />"
   ]
  },
  {
   "cell_type": "code",
   "execution_count": null,
   "metadata": {},
   "outputs": [],
   "source": []
  }
 ],
 "metadata": {
  "kernelspec": {
   "display_name": "Python 3 (ipykernel)",
   "language": "python",
   "name": "python3"
  },
  "language_info": {
   "codemirror_mode": {
    "name": "ipython",
    "version": 3
   },
   "file_extension": ".py",
   "mimetype": "text/x-python",
   "name": "python",
   "nbconvert_exporter": "python",
   "pygments_lexer": "ipython3",
   "version": "3.12.4"
  }
 },
 "nbformat": 4,
 "nbformat_minor": 4
}
