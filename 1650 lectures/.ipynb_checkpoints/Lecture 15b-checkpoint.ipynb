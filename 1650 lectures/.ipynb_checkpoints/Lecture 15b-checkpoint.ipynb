{
 "cells": [
  {
   "cell_type": "markdown",
   "id": "f6b78950-7f73-4d75-91ca-90b57dff0b77",
   "metadata": {},
   "source": [
    "### Lecture 15b"
   ]
  },
  {
   "cell_type": "code",
   "execution_count": 2,
   "id": "175b66a1-1233-4a10-b725-5291a865c8f2",
   "metadata": {},
   "outputs": [],
   "source": [
    "import math\n",
    "import random\n",
    "import numpy as np"
   ]
  },
  {
   "cell_type": "code",
   "execution_count": 42,
   "id": "c5812454-9e30-4cbd-a07a-5652bb8a6542",
   "metadata": {},
   "outputs": [
    {
     "data": {
      "text/plain": [
       "array([[ 2,  4,  6,  8],\n",
       "       [10, 12, 14, 16],\n",
       "       [18, 20, 22, 24]])"
      ]
     },
     "execution_count": 42,
     "metadata": {},
     "output_type": "execute_result"
    }
   ],
   "source": [
    "arr = np.arange(2, 25, 2).reshape(3, 4)\n",
    "arr"
   ]
  },
  {
   "cell_type": "code",
   "execution_count": 48,
   "id": "cea5513c-e686-49b8-a992-ecfe76e9f6db",
   "metadata": {},
   "outputs": [
    {
     "data": {
      "text/plain": [
       "array([22, 18])"
      ]
     },
     "execution_count": 48,
     "metadata": {},
     "output_type": "execute_result"
    }
   ],
   "source": [
    "arr[2, -2::-2]"
   ]
  },
  {
   "cell_type": "code",
   "execution_count": 52,
   "id": "16fb64f5-f14d-4d03-8a32-8015fdb3ec30",
   "metadata": {},
   "outputs": [
    {
     "data": {
      "text/plain": [
       "array([ 6, 14, 22])"
      ]
     },
     "execution_count": 52,
     "metadata": {},
     "output_type": "execute_result"
    }
   ],
   "source": [
    "arr[:, 2]"
   ]
  },
  {
   "cell_type": "code",
   "execution_count": 70,
   "id": "8f874fc1-ae10-477e-8bac-1302c3e2a442",
   "metadata": {},
   "outputs": [
    {
     "data": {
      "text/plain": [
       "array([[16, 14],\n",
       "       [24, 22]])"
      ]
     },
     "execution_count": 70,
     "metadata": {},
     "output_type": "execute_result"
    }
   ],
   "source": [
    "arr[1:, :-3:-1]"
   ]
  },
  {
   "cell_type": "code",
   "execution_count": 72,
   "id": "0294a3e0-21bc-4d34-9dd2-ac9699bff61d",
   "metadata": {},
   "outputs": [
    {
     "data": {
      "text/plain": [
       "array([[16, 14],\n",
       "       [24, 22]])"
      ]
     },
     "execution_count": 72,
     "metadata": {},
     "output_type": "execute_result"
    }
   ],
   "source": [
    "arr[1:, 3:1:-1]"
   ]
  },
  {
   "cell_type": "markdown",
   "id": "c55bef21-4091-48e9-97e7-388c9ae87d89",
   "metadata": {},
   "source": [
    "### Continued Fractions"
   ]
  },
  {
   "cell_type": "code",
   "execution_count": 80,
   "id": "b7bfd9ca-740a-492d-8788-d02b68fb0e63",
   "metadata": {},
   "outputs": [],
   "source": [
    "def cont_frac(numlist):\n",
    "    '''Return the value of a finite simple continued fraction give numlist'''\n",
    "    if len(numlist) == 1:\n",
    "        return numlist[0]\n",
    "    else:\n",
    "        return numlist[0] + 1 / cont_frac(numlist[1:])"
   ]
  },
  {
   "cell_type": "code",
   "execution_count": 82,
   "id": "97b68411-5c17-4920-8890-ab7e46bf4198",
   "metadata": {},
   "outputs": [
    {
     "data": {
      "text/plain": [
       "2.236065573770492"
      ]
     },
     "execution_count": 82,
     "metadata": {},
     "output_type": "execute_result"
    }
   ],
   "source": [
    "cont_frac([2, 4, 4, 4, 4])"
   ]
  },
  {
   "cell_type": "code",
   "execution_count": 86,
   "id": "bdae64cb-d7ce-4b99-b15f-e9eb621fe29f",
   "metadata": {},
   "outputs": [
    {
     "data": {
      "text/plain": [
       "1.625"
      ]
     },
     "execution_count": 86,
     "metadata": {},
     "output_type": "execute_result"
    }
   ],
   "source": [
    "cont_frac([1, 1, 1, 1, 1, 1])"
   ]
  },
  {
   "cell_type": "markdown",
   "id": "8d61e0a3-c0c1-46a6-a22e-f5ef23db6fc3",
   "metadata": {},
   "source": [
    "### CU Semester Code\n",
    "2024 fall: 2247  \n",
    "2023 spring: 2231  \n",
    "1985 summer: 1854  "
   ]
  },
  {
   "cell_type": "markdown",
   "id": "7e3f465c-0048-47c0-bb96-4c87b7b5e4dd",
   "metadata": {},
   "source": [
    "Write a function **`sem_code(year, sem)` and returns the CU 4-digit code as an integer."
   ]
  },
  {
   "cell_type": "code",
   "execution_count": 136,
   "id": "a9718ece-3145-41b2-a8ba-574f3d187855",
   "metadata": {},
   "outputs": [],
   "source": [
    "# string version\n",
    "def sem_code(year, sem):\n",
    "    sem_dict = {'fall':7, 'spring':1, 'summer':4}\n",
    "    years = str(year)[0] + str(year)[2:]\n",
    "    return int(years + str(sem_dict[sem]))\n",
    "    # return 10* int(return_year) + sem_dict[sem]"
   ]
  },
  {
   "cell_type": "code",
   "execution_count": 138,
   "id": "e310be5d-15c2-4a3f-893b-aa9514da230b",
   "metadata": {},
   "outputs": [
    {
     "data": {
      "text/plain": [
       "2247"
      ]
     },
     "execution_count": 138,
     "metadata": {},
     "output_type": "execute_result"
    }
   ],
   "source": [
    "sem_code(2024, 'fall')"
   ]
  },
  {
   "cell_type": "code",
   "execution_count": 140,
   "id": "9563d6fa-42d0-4999-8d2a-33267fb6ded9",
   "metadata": {},
   "outputs": [],
   "source": [
    "# non-string version\n",
    "def sem_code(year, sem):\n",
    "    sem_dict = {'fall':7, 'spring':1, 'summer':4}\n",
    "\n",
    "    first_digit = year // 1000\n",
    "    last2_digits = year % 100\n",
    "    sem_digit = sem_dict[sem]\n",
    "\n",
    "    return first_digit * 1000 + last2_digits * 10 + sem_digit"
   ]
  },
  {
   "cell_type": "code",
   "execution_count": 142,
   "id": "9bf02cf4-68b1-4cd7-8532-2d0191648221",
   "metadata": {},
   "outputs": [
    {
     "data": {
      "text/plain": [
       "1854"
      ]
     },
     "execution_count": 142,
     "metadata": {},
     "output_type": "execute_result"
    }
   ],
   "source": [
    "sem_code(1985, 'summer')"
   ]
  },
  {
   "cell_type": "markdown",
   "id": "5bd53875-a691-4ce3-b06d-199413c1ee23",
   "metadata": {},
   "source": [
    "### Min-Max Scaling \n",
    "Write a function `normalize(arr)` that scales an array of number to the range 0 to 1 and the remaining numbers are scaled proportionally. "
   ]
  },
  {
   "cell_type": "code",
   "execution_count": 151,
   "id": "7c8bfbb5-071b-4955-8bf6-04e6eeb20b30",
   "metadata": {},
   "outputs": [],
   "source": [
    "def normalize(arr):\n",
    "    minval = arr.min() #shift all numbers by minval\n",
    "    maxval = arr.max()\n",
    "    arr_range = maxval - minval # scale factor\n",
    "\n",
    "    return (arr - minval) / arr_range"
   ]
  },
  {
   "cell_type": "code",
   "execution_count": 164,
   "id": "70c63576-66d4-4828-85bc-ace60e9993ad",
   "metadata": {},
   "outputs": [],
   "source": [
    "np.random.seed(20)\n",
    "arr1 = np.random.randint(1, 11, 5)\n",
    "arr2 = np.random.randint(1, 11, 5)"
   ]
  },
  {
   "cell_type": "code",
   "execution_count": 166,
   "id": "4f1ef0da-b14e-4e51-9567-993bf8c7ae03",
   "metadata": {},
   "outputs": [
    {
     "data": {
      "text/plain": [
       "array([ 4, 10,  5,  7,  8])"
      ]
     },
     "execution_count": 166,
     "metadata": {},
     "output_type": "execute_result"
    }
   ],
   "source": [
    "arr1"
   ]
  },
  {
   "cell_type": "code",
   "execution_count": 168,
   "id": "45d0a107-aa3e-44c8-8254-2bb2bf73d455",
   "metadata": {},
   "outputs": [
    {
     "data": {
      "text/plain": [
       "array([3, 1, 7, 9, 6])"
      ]
     },
     "execution_count": 168,
     "metadata": {},
     "output_type": "execute_result"
    }
   ],
   "source": [
    "arr2"
   ]
  },
  {
   "cell_type": "code",
   "execution_count": 170,
   "id": "41a96b63-af4a-4f5d-b2a2-389fcb4a1535",
   "metadata": {},
   "outputs": [
    {
     "data": {
      "text/plain": [
       "array([0.        , 1.        , 0.16666667, 0.5       , 0.66666667])"
      ]
     },
     "execution_count": 170,
     "metadata": {},
     "output_type": "execute_result"
    }
   ],
   "source": [
    "normalize(arr1)"
   ]
  },
  {
   "cell_type": "code",
   "execution_count": 172,
   "id": "ffabb0f0-0354-42d1-9950-35a55ecce791",
   "metadata": {},
   "outputs": [
    {
     "data": {
      "text/plain": [
       "array([0.25 , 0.   , 0.75 , 1.   , 0.625])"
      ]
     },
     "execution_count": 172,
     "metadata": {},
     "output_type": "execute_result"
    }
   ],
   "source": [
    "normalize(arr2)"
   ]
  },
  {
   "cell_type": "code",
   "execution_count": 176,
   "id": "ff68b8f4-e139-4709-8a4b-f0bcf48280ad",
   "metadata": {},
   "outputs": [
    {
     "data": {
      "text/plain": [
       "30"
      ]
     },
     "execution_count": 176,
     "metadata": {},
     "output_type": "execute_result"
    }
   ],
   "source": [
    "# code tracing\n",
    "def func(x):\n",
    "    if x < 2:\n",
    "        return 0\n",
    "    else:\n",
    "        return 10 + func(x-1)\n",
    "\n",
    "func(4)"
   ]
  },
  {
   "cell_type": "code",
   "execution_count": null,
   "id": "9c878fa6-18b7-4e0f-804b-7c9a0f7d88bc",
   "metadata": {},
   "outputs": [],
   "source": []
  }
 ],
 "metadata": {
  "kernelspec": {
   "display_name": "Python 3 (ipykernel)",
   "language": "python",
   "name": "python3"
  },
  "language_info": {
   "codemirror_mode": {
    "name": "ipython",
    "version": 3
   },
   "file_extension": ".py",
   "mimetype": "text/x-python",
   "name": "python",
   "nbconvert_exporter": "python",
   "pygments_lexer": "ipython3",
   "version": "3.12.4"
  }
 },
 "nbformat": 4,
 "nbformat_minor": 5
}
