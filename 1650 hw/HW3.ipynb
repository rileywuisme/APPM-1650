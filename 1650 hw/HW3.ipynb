{
 "cells": [
  {
   "cell_type": "markdown",
   "metadata": {},
   "source": [
    "# HW 3\n",
    "\n",
    "*Answers shown are rounded to 6 decimal digits. Unless specified it is not necessary for your functions to round answers."
   ]
  },
  {
   "cell_type": "code",
   "execution_count": 217,
   "metadata": {},
   "outputs": [],
   "source": [
    "import math"
   ]
  },
  {
   "cell_type": "markdown",
   "metadata": {
    "tags": []
   },
   "source": [
    "### Countdown\n",
    "Write a function **`countdown(start, step)`** that returns a list of positive integers beginning with `start`, decreasing by `step` each time, and ending when 0 is reached. If the `step` is omitted, use the default value of 1. Assume that the arguments are positive integers. **Use `range`.**  Do not use a loop.\n",
    "\n",
    "Examples:  \n",
    "`countdown(5)` returns `[5, 4, 3, 2, 1]`.<br>\n",
    "`countdown(18, 3)` returns `[18, 15, 12, 9, 6, 3]`."
   ]
  },
  {
   "cell_type": "code",
   "execution_count": 279,
   "metadata": {},
   "outputs": [],
   "source": [
    "def countdown(start, step=1):\n",
    "    return list(range(start, 0, -step))"
   ]
  },
  {
   "cell_type": "code",
   "execution_count": 281,
   "metadata": {},
   "outputs": [
    {
     "data": {
      "text/plain": [
       "[5, 4, 3, 2, 1]"
      ]
     },
     "execution_count": 281,
     "metadata": {},
     "output_type": "execute_result"
    }
   ],
   "source": [
    "countdown(5)"
   ]
  },
  {
   "cell_type": "code",
   "execution_count": 283,
   "metadata": {},
   "outputs": [
    {
     "data": {
      "text/plain": [
       "[18, 15, 12, 9, 6, 3]"
      ]
     },
     "execution_count": 283,
     "metadata": {},
     "output_type": "execute_result"
    }
   ],
   "source": [
    "countdown(18, 3)"
   ]
  },
  {
   "cell_type": "markdown",
   "metadata": {
    "tags": []
   },
   "source": [
    "### Lists\n",
    "\n",
    "Write a function **`odds(n)`** that returns a list of the first `n` odd positive integers. Assume that `n` is a positive `int`. **Use `range`.** Do not use a loop.\n",
    "\n",
    "Example:  \n",
    "`odds(6)` returns `[1, 3, 5, 7, 9, 11]`."
   ]
  },
  {
   "cell_type": "code",
   "execution_count": 223,
   "metadata": {},
   "outputs": [],
   "source": [
    "def odds(n):\n",
    "    return list(range(1, 2*n, 2))"
   ]
  },
  {
   "cell_type": "code",
   "execution_count": 224,
   "metadata": {},
   "outputs": [
    {
     "data": {
      "text/plain": [
       "[1, 3, 5, 7, 9, 11]"
      ]
     },
     "execution_count": 224,
     "metadata": {},
     "output_type": "execute_result"
    }
   ],
   "source": [
    "odds(6)"
   ]
  },
  {
   "cell_type": "markdown",
   "metadata": {},
   "source": [
    "### Odd numbers\n",
    "\n",
    "Write a function **`count_odds(nums)`** that takes a list of numbers and returns the number of odd elements in the list. Use a `for` loop. You may assume that `nums` is a (possibly empty) list of `int`s. \n",
    "\n",
    "Examples:  \n",
    "`count_odds([-3, 10, 1, -5])` returns `3`.<br>\n",
    "`count_odds([])` returns `0`."
   ]
  },
  {
   "cell_type": "code",
   "execution_count": 226,
   "metadata": {},
   "outputs": [],
   "source": [
    "def count_odds(nums):\n",
    "    num_odd = 0\n",
    "    for num in nums:\n",
    "        if num % 2 == 1:\n",
    "            num_odd += 1\n",
    "\n",
    "    return num_odd"
   ]
  },
  {
   "cell_type": "code",
   "execution_count": 227,
   "metadata": {},
   "outputs": [
    {
     "data": {
      "text/plain": [
       "3"
      ]
     },
     "execution_count": 227,
     "metadata": {},
     "output_type": "execute_result"
    }
   ],
   "source": [
    "count_odds([-3, 10, 1, -5])"
   ]
  },
  {
   "cell_type": "code",
   "execution_count": 228,
   "metadata": {},
   "outputs": [
    {
     "data": {
      "text/plain": [
       "0"
      ]
     },
     "execution_count": 228,
     "metadata": {},
     "output_type": "execute_result"
    }
   ],
   "source": [
    "count_odds([])"
   ]
  },
  {
   "cell_type": "markdown",
   "metadata": {},
   "source": [
    "Write a function **`sum_odds(n)`** that returns the sum of the first `n` odd integers. Use a `for` loop. You may assume that `n` is a non-negative integer. \n",
    "\n",
    "Examples:  \n",
    "`sum_odds(6)` returns `36`.<br>\n",
    "`sum_odds(0)` returns `0`."
   ]
  },
  {
   "cell_type": "code",
   "execution_count": 230,
   "metadata": {},
   "outputs": [],
   "source": [
    "def sum_odds(n):\n",
    "    sum = 0\n",
    "    for num in range(1, n*2, 2):\n",
    "        sum += num\n",
    "\n",
    "    return sum"
   ]
  },
  {
   "cell_type": "code",
   "execution_count": 231,
   "metadata": {},
   "outputs": [
    {
     "data": {
      "text/plain": [
       "36"
      ]
     },
     "execution_count": 231,
     "metadata": {},
     "output_type": "execute_result"
    }
   ],
   "source": [
    "sum_odds(6)"
   ]
  },
  {
   "cell_type": "code",
   "execution_count": 232,
   "metadata": {},
   "outputs": [
    {
     "data": {
      "text/plain": [
       "0"
      ]
     },
     "execution_count": 232,
     "metadata": {},
     "output_type": "execute_result"
    }
   ],
   "source": [
    "sum_odds(0)"
   ]
  },
  {
   "cell_type": "markdown",
   "metadata": {},
   "source": [
    "Write a function **`odd_elts(nums)`** that takes a list of numbers and returns a new list containing only the numbers that are odd. Use a `for` loop. You may assume that `nums` is a (possibly empty) list of integers. \n",
    "\n",
    "Examples:  \n",
    "`odd_elts([-3, 10, 1, -5])` returns `[-3, 1, -5]`.<br>\n",
    "`odd_elts([])` returns `[]`."
   ]
  },
  {
   "cell_type": "code",
   "execution_count": 234,
   "metadata": {},
   "outputs": [],
   "source": [
    "def odd_elts(nums):\n",
    "    odd = []\n",
    "    for num in nums:\n",
    "        if num % 2 == 1:\n",
    "            odd.append(num)\n",
    "\n",
    "    return odd"
   ]
  },
  {
   "cell_type": "code",
   "execution_count": 235,
   "metadata": {},
   "outputs": [
    {
     "data": {
      "text/plain": [
       "[-3, 1, -5]"
      ]
     },
     "execution_count": 235,
     "metadata": {},
     "output_type": "execute_result"
    }
   ],
   "source": [
    "odd_elts([-3, 10, 1, -5])"
   ]
  },
  {
   "cell_type": "code",
   "execution_count": 236,
   "metadata": {},
   "outputs": [
    {
     "data": {
      "text/plain": [
       "[]"
      ]
     },
     "execution_count": 236,
     "metadata": {},
     "output_type": "execute_result"
    }
   ],
   "source": [
    "odd_elts([])"
   ]
  },
  {
   "cell_type": "markdown",
   "metadata": {},
   "source": [
    "Write a function **`is_odd_elts(nums)`** that takes a list of numbers and for each element returns `True` if the element is odd and `False` otherwise. Use a `for` loop. You may assume that `nums` is a (possibly empty) list of `int`s. \n",
    "\n",
    "Examples:  \n",
    "`is_odd_elts([7, 11, 2020])` returns `[True, True, False]`.<br>\n",
    "`is_odd_elts([])` returns `[]`."
   ]
  },
  {
   "cell_type": "code",
   "execution_count": 238,
   "metadata": {},
   "outputs": [],
   "source": [
    "def is_odd_elts(nums):\n",
    "    true_false = []\n",
    "    for num in nums:\n",
    "        if num % 2 == 1:\n",
    "            true_false.append(True)\n",
    "        else:\n",
    "            true_false.append(False)\n",
    "\n",
    "    return true_false"
   ]
  },
  {
   "cell_type": "code",
   "execution_count": 239,
   "metadata": {},
   "outputs": [
    {
     "data": {
      "text/plain": [
       "[True, True, False]"
      ]
     },
     "execution_count": 239,
     "metadata": {},
     "output_type": "execute_result"
    }
   ],
   "source": [
    "is_odd_elts([7, 11, 2020])"
   ]
  },
  {
   "cell_type": "code",
   "execution_count": 240,
   "metadata": {},
   "outputs": [
    {
     "data": {
      "text/plain": [
       "[]"
      ]
     },
     "execution_count": 240,
     "metadata": {},
     "output_type": "execute_result"
    }
   ],
   "source": [
    "is_odd_elts([])"
   ]
  },
  {
   "cell_type": "markdown",
   "metadata": {
    "tags": []
   },
   "source": [
    "### String Lengths\n",
    "Write a function **`string_lens(strings)`** that takes a list of strings and returns the number of characters in each string. Use a `for` loop. You may assume that each element has type `str`.\n",
    "\n",
    "Examples:  \n",
    "`string_lens(['queen', 'elizabeth', ''])` returns `[5, 9, 0]`.<br>\n",
    "`string_lens([])` returns `[]`."
   ]
  },
  {
   "cell_type": "code",
   "execution_count": 242,
   "metadata": {},
   "outputs": [],
   "source": [
    "def string_lens(strings):\n",
    "    leng = []\n",
    "    for string in strings:\n",
    "        leng.append(len(string))\n",
    "\n",
    "    return leng"
   ]
  },
  {
   "cell_type": "code",
   "execution_count": 243,
   "metadata": {},
   "outputs": [
    {
     "data": {
      "text/plain": [
       "[5, 9, 0]"
      ]
     },
     "execution_count": 243,
     "metadata": {},
     "output_type": "execute_result"
    }
   ],
   "source": [
    "string_lens(['queen', 'elizabeth', ''])"
   ]
  },
  {
   "cell_type": "code",
   "execution_count": 244,
   "metadata": {},
   "outputs": [
    {
     "data": {
      "text/plain": [
       "[]"
      ]
     },
     "execution_count": 244,
     "metadata": {},
     "output_type": "execute_result"
    }
   ],
   "source": [
    "string_lens([])"
   ]
  },
  {
   "cell_type": "markdown",
   "metadata": {
    "tags": []
   },
   "source": [
    "### Digit Sum\n",
    "\n",
    "Write a function **`digit_sum(n)`** that returns the sum of the digits of `n`. Assume that `n` is a positive integer. Use a `for` loop. (*Hint:* You may convert the number to string format.)\n",
    "\n",
    " Examples:<br>\n",
    " `digit_sum(1776)` returns `21` which equals $1+7+7+6$.<br>\n",
    " The sum of the digits of $50!$ is $216$."
   ]
  },
  {
   "cell_type": "code",
   "execution_count": 246,
   "metadata": {},
   "outputs": [],
   "source": [
    "def digit_sum(n):\n",
    "    nums = str(n)\n",
    "    sum = 0\n",
    "    for num in nums:\n",
    "        sum += int(num)\n",
    "\n",
    "    return sum"
   ]
  },
  {
   "cell_type": "code",
   "execution_count": 247,
   "metadata": {},
   "outputs": [
    {
     "data": {
      "text/plain": [
       "21"
      ]
     },
     "execution_count": 247,
     "metadata": {},
     "output_type": "execute_result"
    }
   ],
   "source": [
    "digit_sum(1776)"
   ]
  }
 ],
 "metadata": {
  "kernelspec": {
   "display_name": "Python 3 (ipykernel)",
   "language": "python",
   "name": "python3"
  },
  "language_info": {
   "codemirror_mode": {
    "name": "ipython",
    "version": 3
   },
   "file_extension": ".py",
   "mimetype": "text/x-python",
   "name": "python",
   "nbconvert_exporter": "python",
   "pygments_lexer": "ipython3",
   "version": "3.12.4"
  }
 },
 "nbformat": 4,
 "nbformat_minor": 4
}
