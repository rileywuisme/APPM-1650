{
 "cells": [
  {
   "cell_type": "markdown",
   "metadata": {
    "tags": []
   },
   "source": [
    "# Recitation 2\n",
    "**Name your notebook `Rec2.ipynb`.** At the end of class, you will convert the notebook to `.py` format and upload to Gradescope for autograding.\n",
    "\n",
    "___\n"
   ]
  },
  {
   "cell_type": "code",
   "execution_count": 526,
   "metadata": {},
   "outputs": [],
   "source": [
    "import math"
   ]
  },
  {
   "cell_type": "markdown",
   "metadata": {},
   "source": [
    "### Circle Circumference and Area\n",
    "Write a function **`circ_circum(r)`** that returns the circumference of a circle given the radius.\n",
    "\n",
    "Example:  \n",
    "`circ_circum(5)` returns `31.415927`."
   ]
  },
  {
   "cell_type": "markdown",
   "metadata": {},
   "source": [
    "Write a function **`circ_area(r)`** that returns the area of a circle given the radius.\n",
    "\n",
    "Example:  \n",
    "`circ_area(5)` returns `78.539816`."
   ]
  },
  {
   "cell_type": "code",
   "execution_count": 529,
   "metadata": {},
   "outputs": [],
   "source": [
    "def circ_circum(r):\n",
    "    return math.pi * 2 * r"
   ]
  },
  {
   "cell_type": "code",
   "execution_count": 530,
   "metadata": {},
   "outputs": [
    {
     "data": {
      "text/plain": [
       "31.41592653589793"
      ]
     },
     "execution_count": 530,
     "metadata": {},
     "output_type": "execute_result"
    }
   ],
   "source": [
    "circ_circum(5)"
   ]
  },
  {
   "cell_type": "code",
   "execution_count": 531,
   "metadata": {},
   "outputs": [],
   "source": [
    "def circ_area(r):\n",
    "    return math.pi * r ** 2"
   ]
  },
  {
   "cell_type": "code",
   "execution_count": 532,
   "metadata": {},
   "outputs": [
    {
     "data": {
      "text/plain": [
       "78.53981633974483"
      ]
     },
     "execution_count": 532,
     "metadata": {},
     "output_type": "execute_result"
    }
   ],
   "source": [
    "circ_area(5)"
   ]
  },
  {
   "cell_type": "markdown",
   "metadata": {},
   "source": [
    "### Hypotenuse\n",
    "Write a function **`hypot(a, b)`** that calculates the length of the hypotenuse of a right triangle given the leg lengths. Assume that `a` and `b` are numbers. Your function should check that `a` and `b` are positive. If not, it should print the message `'Error: The arguments must be positive'` and return `0`.\n",
    "\n",
    "Example:  \n",
    "`hypot(7, 24)` returns `25.0`.  \n",
    "`hypot(3, 0)` displays `'Error: The arguments must be positive'` and returns `0`."
   ]
  },
  {
   "cell_type": "code",
   "execution_count": 534,
   "metadata": {},
   "outputs": [
    {
     "data": {
      "text/plain": [
       "False"
      ]
     },
     "execution_count": 534,
     "metadata": {},
     "output_type": "execute_result"
    }
   ],
   "source": [
    "x = False\n",
    "y = False \n",
    "\n",
    "x or y"
   ]
  },
  {
   "cell_type": "code",
   "execution_count": 535,
   "metadata": {},
   "outputs": [
    {
     "data": {
      "text/plain": [
       "False"
      ]
     },
     "execution_count": 535,
     "metadata": {},
     "output_type": "execute_result"
    }
   ],
   "source": [
    "a = 4\n",
    "a <= 3"
   ]
  },
  {
   "cell_type": "code",
   "execution_count": 536,
   "metadata": {},
   "outputs": [
    {
     "name": "stdout",
     "output_type": "stream",
     "text": [
      "x and y were both not true\n"
     ]
    }
   ],
   "source": [
    "if x or y:\n",
    "    print('x or y was true')\n",
    "else:\n",
    "    print('x and y were both not true')"
   ]
  },
  {
   "cell_type": "code",
   "execution_count": 537,
   "metadata": {},
   "outputs": [],
   "source": [
    "def hypot(a, b):\n",
    "    if a > 0 and b > 0:\n",
    "        return math.sqrt( a ** 2 + b ** 2)\n",
    "    else:\n",
    "        print('Error: The arguments must be positive')\n",
    "        return 0"
   ]
  },
  {
   "cell_type": "code",
   "execution_count": 538,
   "metadata": {},
   "outputs": [
    {
     "data": {
      "text/plain": [
       "25.0"
      ]
     },
     "execution_count": 538,
     "metadata": {},
     "output_type": "execute_result"
    }
   ],
   "source": [
    "hypot(7, 24)"
   ]
  },
  {
   "cell_type": "code",
   "execution_count": 539,
   "metadata": {},
   "outputs": [
    {
     "name": "stdout",
     "output_type": "stream",
     "text": [
      "Error: The arguments must be positive\n"
     ]
    },
    {
     "data": {
      "text/plain": [
       "0"
      ]
     },
     "execution_count": 539,
     "metadata": {},
     "output_type": "execute_result"
    }
   ],
   "source": [
    "hypot(3, 0)"
   ]
  },
  {
   "cell_type": "markdown",
   "metadata": {},
   "source": [
    "### Strings\n",
    "Write a function **`unword(word)`** that concatenates the string 'un' to the beginning of a string `word`.\n",
    "\n",
    "Example:  \n",
    "`unword('tie')` returns `'untie'`.<br>\n",
    "`unword(unword('tie'))` returns `'ununtie'`.  "
   ]
  },
  {
   "cell_type": "code",
   "execution_count": 541,
   "metadata": {},
   "outputs": [],
   "source": [
    "def unword(word):\n",
    "    return 'un' + word"
   ]
  },
  {
   "cell_type": "code",
   "execution_count": 542,
   "metadata": {},
   "outputs": [
    {
     "data": {
      "text/plain": [
       "'untie'"
      ]
     },
     "execution_count": 542,
     "metadata": {},
     "output_type": "execute_result"
    }
   ],
   "source": [
    "unword('tie')"
   ]
  },
  {
   "cell_type": "code",
   "execution_count": 543,
   "metadata": {},
   "outputs": [
    {
     "data": {
      "text/plain": [
       "'ununtie'"
      ]
     },
     "execution_count": 543,
     "metadata": {},
     "output_type": "execute_result"
    }
   ],
   "source": [
    "unword(unword('tie'))"
   ]
  },
  {
   "cell_type": "markdown",
   "metadata": {},
   "source": [
    "Write a function **`wordword(word)`** that concatenates a `word` string to itself.\n",
    "\n",
    "Example:  \n",
    "`wordword('aye ') + 'sir'` returns `'aye aye sir'`."
   ]
  },
  {
   "cell_type": "code",
   "execution_count": 545,
   "metadata": {},
   "outputs": [],
   "source": [
    "def wordword(word):\n",
    "    return word * 2 "
   ]
  },
  {
   "cell_type": "code",
   "execution_count": 546,
   "metadata": {},
   "outputs": [
    {
     "data": {
      "text/plain": [
       "'aye aye sir'"
      ]
     },
     "execution_count": 546,
     "metadata": {},
     "output_type": "execute_result"
    }
   ],
   "source": [
    "wordword('aye ') + 'sir'"
   ]
  },
  {
   "cell_type": "markdown",
   "metadata": {},
   "source": [
    "### Non-Negative Numbers\n",
    "\n",
    "Write a function **`nonneg(a, b)`** that returns `True` if `a` and `b` are both not negative. Your code should not use an `if` statement.\n",
    "\n",
    "Examples:  \n",
    "`nonneg(2.5, 0)` returns `True`.<br>\n",
    "`nonneg(-2.5, 0)` returns `False`."
   ]
  },
  {
   "cell_type": "code",
   "execution_count": 548,
   "metadata": {},
   "outputs": [
    {
     "data": {
      "text/plain": [
       "True"
      ]
     },
     "execution_count": 548,
     "metadata": {},
     "output_type": "execute_result"
    }
   ],
   "source": [
    "a = True\n",
    "b = True\n",
    "\n",
    "a and b"
   ]
  },
  {
   "cell_type": "code",
   "execution_count": 549,
   "metadata": {},
   "outputs": [],
   "source": [
    "def nonneg(a, b):\n",
    "    return a >= 0 and b >= 0"
   ]
  },
  {
   "cell_type": "code",
   "execution_count": 550,
   "metadata": {},
   "outputs": [
    {
     "data": {
      "text/plain": [
       "True"
      ]
     },
     "execution_count": 550,
     "metadata": {},
     "output_type": "execute_result"
    }
   ],
   "source": [
    "nonneg(2.5, 0)"
   ]
  },
  {
   "cell_type": "code",
   "execution_count": 551,
   "metadata": {},
   "outputs": [
    {
     "data": {
      "text/plain": [
       "False"
      ]
     },
     "execution_count": 551,
     "metadata": {},
     "output_type": "execute_result"
    }
   ],
   "source": [
    "nonneg(-2.5, 0)"
   ]
  },
  {
   "cell_type": "markdown",
   "metadata": {},
   "source": [
    "### Last Digit"
   ]
  },
  {
   "cell_type": "markdown",
   "metadata": {},
   "source": [
    "Write a function **`ends_in_digit(num, d)`** that returns `True` if `num` ends in the digit `d`. Assume that `num` and `d` are integers and that `d` ranges from 0 to 9. Your code should not use an `if` statement.\n",
    "\n",
    "Examples:  \n",
    "`ends_in_digit(1287, 7)` returns `True`.<br>\n",
    "`ends_in_digit(1287, 8)` returns `False`."
   ]
  },
  {
   "cell_type": "code",
   "execution_count": 554,
   "metadata": {},
   "outputs": [
    {
     "data": {
      "text/plain": [
       "True"
      ]
     },
     "execution_count": 554,
     "metadata": {},
     "output_type": "execute_result"
    }
   ],
   "source": [
    "1 == 1"
   ]
  },
  {
   "cell_type": "code",
   "execution_count": 555,
   "metadata": {},
   "outputs": [],
   "source": [
    "def ends_in_digit(num, d):\n",
    "    return num % 10 and num % 10 == d"
   ]
  },
  {
   "cell_type": "code",
   "execution_count": 556,
   "metadata": {},
   "outputs": [
    {
     "data": {
      "text/plain": [
       "True"
      ]
     },
     "execution_count": 556,
     "metadata": {},
     "output_type": "execute_result"
    }
   ],
   "source": [
    "ends_in_digit(1287, 7)"
   ]
  },
  {
   "cell_type": "code",
   "execution_count": 557,
   "metadata": {},
   "outputs": [
    {
     "data": {
      "text/plain": [
       "False"
      ]
     },
     "execution_count": 557,
     "metadata": {},
     "output_type": "execute_result"
    }
   ],
   "source": [
    "ends_in_digit(1287, 8)"
   ]
  },
  {
   "cell_type": "markdown",
   "metadata": {
    "tags": []
   },
   "source": [
    "---\n",
    "\n",
    "# Extra Problems\n",
    "Work on these problems after completing the previous exercises."
   ]
  },
  {
   "cell_type": "markdown",
   "metadata": {},
   "source": [
    "### Truncate a Numer\n",
    "\n",
    "Write a function **`truncate(num)`** that removes the units digit of `num`. If `num` is a single-digit number, return `0`. Assume that `num` is a positive integer.\n",
    "\n",
    "Examples:  \n",
    "`truncate(1984)` returns `198`.<br>\n",
    "`truncate(9)` returns `0`.\n"
   ]
  },
  {
   "cell_type": "code",
   "execution_count": 560,
   "metadata": {},
   "outputs": [],
   "source": [
    "def truncate(num):\n",
    "    return num // 10"
   ]
  },
  {
   "cell_type": "code",
   "execution_count": 561,
   "metadata": {},
   "outputs": [
    {
     "data": {
      "text/plain": [
       "198"
      ]
     },
     "execution_count": 561,
     "metadata": {},
     "output_type": "execute_result"
    }
   ],
   "source": [
    "truncate(1984)"
   ]
  },
  {
   "cell_type": "code",
   "execution_count": 562,
   "metadata": {},
   "outputs": [
    {
     "data": {
      "text/plain": [
       "0"
      ]
     },
     "execution_count": 562,
     "metadata": {},
     "output_type": "execute_result"
    }
   ],
   "source": [
    "truncate(9)"
   ]
  },
  {
   "cell_type": "markdown",
   "metadata": {},
   "source": [
    "### Trigonometry"
   ]
  },
  {
   "cell_type": "markdown",
   "metadata": {},
   "source": [
    "Write a function **`trig_vals(angle)`** that prints out the six basic trig values for an angle given in degrees. Assume that `angle` is strictly between $0$ and $90$. The trig values should be rounded to 4 decimal places. (*Note:* The `math` module does not have functions for cot, sec, or csc.)\n",
    "\n",
    "Example: `trig_vals(30)` displays\n",
    "```\n",
    "sin 30 = 0.5\n",
    "cos 30 = 0.866\n",
    "tan 30 = 0.5774\n",
    "cot 30 = 1.7321\n",
    "sec 30 = 1.1547\n",
    "csc 30 = 2.0\n",
    "```"
   ]
  },
  {
   "cell_type": "code",
   "execution_count": 565,
   "metadata": {},
   "outputs": [],
   "source": [
    "def trig_vals(angle):\n",
    "    print ('sin', angle, \"=\", round(math.sin (math.radians(angle)), 4))\n",
    "    print ('cos', angle, \"=\", round(math.cos (math.radians(angle)), 4))\n",
    "    print ('tan', angle, \"=\", round(math.tan (math.radians(angle)), 4))\n",
    "    print ('cot', angle, \"=\", round(1 / (math.tan (math.radians(angle))), 4))\n",
    "    print ('sec', angle, \"=\", round(1 / (math.cos (math.radians(angle))), 4))\n",
    "    print ('csc', angle, \"=\", round(1 / (math.sin (math.radians(angle))), 4))"
   ]
  },
  {
   "cell_type": "code",
   "execution_count": 566,
   "metadata": {},
   "outputs": [
    {
     "name": "stdout",
     "output_type": "stream",
     "text": [
      "sin 30 = 0.5\n",
      "cos 30 = 0.866\n",
      "tan 30 = 0.5774\n",
      "cot 30 = 1.7321\n",
      "sec 30 = 1.1547\n",
      "csc 30 = 2.0\n"
     ]
    }
   ],
   "source": [
    "trig_vals(30)"
   ]
  },
  {
   "cell_type": "markdown",
   "metadata": {},
   "source": [
    "### Even and Odd Parity\n",
    "\n",
    "Write a function **`same_parity(a, b)`** that returns `True` if `a` and `b` are both even or both odd. Assume that the arguments are both integers. Write the function without an `if` statement.\n",
    "\n",
    "Examples:  \n",
    "`same_parity(16, 100)` returns `True`.<br>\n",
    "`same_parity(16, 101)` returns `False`.<br>\n",
    "`same_parity(17, 101)` returns `True`."
   ]
  },
  {
   "cell_type": "code",
   "execution_count": 568,
   "metadata": {},
   "outputs": [],
   "source": [
    "def same_parity(a, b): \n",
    "    return (a % 2 == 0 and b % 2 == 0) or (a % 2 == 1 and b % 2 == 1)"
   ]
  },
  {
   "cell_type": "code",
   "execution_count": 569,
   "metadata": {},
   "outputs": [
    {
     "data": {
      "text/plain": [
       "True"
      ]
     },
     "execution_count": 569,
     "metadata": {},
     "output_type": "execute_result"
    }
   ],
   "source": [
    "same_parity(16, 100)"
   ]
  },
  {
   "cell_type": "code",
   "execution_count": 570,
   "metadata": {},
   "outputs": [
    {
     "data": {
      "text/plain": [
       "False"
      ]
     },
     "execution_count": 570,
     "metadata": {},
     "output_type": "execute_result"
    }
   ],
   "source": [
    "same_parity(16, 101)"
   ]
  },
  {
   "cell_type": "code",
   "execution_count": 571,
   "metadata": {},
   "outputs": [
    {
     "data": {
      "text/plain": [
       "True"
      ]
     },
     "execution_count": 571,
     "metadata": {},
     "output_type": "execute_result"
    }
   ],
   "source": [
    "same_parity(17, 101)"
   ]
  },
  {
   "cell_type": "markdown",
   "metadata": {},
   "source": [
    "### Number Digits\n",
    "Write a function **`num_digits(num)`** that returns the number of digits in `num`. Assume that `num` is a positive integer. Use `math.log10()`."
   ]
  },
  {
   "cell_type": "code",
   "execution_count": 573,
   "metadata": {},
   "outputs": [],
   "source": [
    "def num_digits(num):\n",
    "    return round(math.log10(num * math.e))"
   ]
  },
  {
   "cell_type": "code",
   "execution_count": 574,
   "metadata": {},
   "outputs": [
    {
     "data": {
      "text/plain": [
       "8"
      ]
     },
     "execution_count": 574,
     "metadata": {},
     "output_type": "execute_result"
    }
   ],
   "source": [
    "num_digits(12345678)"
   ]
  },
  {
   "cell_type": "markdown",
   "metadata": {},
   "source": [
    "Write a function **`chop(num)`** that removes the first digit of `num`. If `num` is a single-digit number, return `0`."
   ]
  },
  {
   "cell_type": "code",
   "execution_count": 576,
   "metadata": {},
   "outputs": [],
   "source": [
    "def chop(num):\n",
    "    return num % 10 ** (round(math.log10(num * math.e))-1)"
   ]
  },
  {
   "cell_type": "code",
   "execution_count": 577,
   "metadata": {},
   "outputs": [
    {
     "data": {
      "text/plain": [
       "2345678"
      ]
     },
     "execution_count": 577,
     "metadata": {},
     "output_type": "execute_result"
    }
   ],
   "source": [
    "chop(12345678)"
   ]
  },
  {
   "cell_type": "markdown",
   "metadata": {},
   "source": [
    "### A Birthday Trick\n",
    "\n",
    "Actually this is a date trick. Write a function **`birthday(m, d, y)`** that takes a date of birth with month `m` (1-12), day `d` (1-31), and 4-digit year `y`, performs the following computations, and returns the result as an integer.\n",
    "\n",
    "* Add 18 to `m`.                               \n",
    "* Multiply by 25.                              \n",
    "* Subtract 333.                                \n",
    "* Multiply by 8.                               \n",
    "* Subtract 554.                                \n",
    "* Divide by 2.                                 \n",
    "* Add birth day `d`.                           \n",
    "* Multiply by 5.                               \n",
    "* Add 692.                                     \n",
    "* Multiply by 20.                              \n",
    "* Add the last two digits of the birth year `y`.\n",
    "* Subtract 32940.                              \n",
    " \n",
    "Examples:   \n",
    "`birthday(12, 25, 1998)` returns `122598`.<br>\n",
    "`birthday(9, 1, 2020)` returns `90120`."
   ]
  },
  {
   "cell_type": "code",
   "execution_count": 579,
   "metadata": {},
   "outputs": [],
   "source": [
    "def birthday(m, d, y):\n",
    "    1 <= m <= 12\n",
    "    1 <= d <= 31\n",
    "    1000 <= y <= 9999\n",
    "    return (((((18 + m) * 25 - 333 ) * 8 - 554 )/2 + d ) * 5 + 692)* 20 + (y % 100) - 32940"
   ]
  },
  {
   "cell_type": "code",
   "execution_count": 580,
   "metadata": {},
   "outputs": [
    {
     "data": {
      "text/plain": [
       "122598.0"
      ]
     },
     "execution_count": 580,
     "metadata": {},
     "output_type": "execute_result"
    }
   ],
   "source": [
    "birthday(12, 25, 1998)"
   ]
  },
  {
   "cell_type": "code",
   "execution_count": 581,
   "metadata": {},
   "outputs": [
    {
     "data": {
      "text/plain": [
       "90120.0"
      ]
     },
     "execution_count": 581,
     "metadata": {},
     "output_type": "execute_result"
    }
   ],
   "source": [
    "birthday(9, 1, 2020)"
   ]
  },
  {
   "cell_type": "markdown",
   "metadata": {},
   "source": [
    "Now write a much shorter function **`birthday2(m, d, y)`** that returns the same value."
   ]
  },
  {
   "cell_type": "code",
   "execution_count": 583,
   "metadata": {},
   "outputs": [],
   "source": [
    "def birthday2(m, d, y):\n",
    "    1 <= m <= 12\n",
    "    1 <= d <= 31\n",
    "    1000 <= y <= 9999\n",
    "    return 10000 * m + 100 * d + (y % 100)"
   ]
  },
  {
   "cell_type": "code",
   "execution_count": 584,
   "metadata": {},
   "outputs": [
    {
     "data": {
      "text/plain": [
       "60507.0"
      ]
     },
     "execution_count": 584,
     "metadata": {},
     "output_type": "execute_result"
    }
   ],
   "source": [
    "birthday(6, 5, 2007)"
   ]
  },
  {
   "cell_type": "code",
   "execution_count": 585,
   "metadata": {},
   "outputs": [
    {
     "data": {
      "text/plain": [
       "90120.0"
      ]
     },
     "execution_count": 585,
     "metadata": {},
     "output_type": "execute_result"
    }
   ],
   "source": [
    "birthday(9, 1, 2020)"
   ]
  },
  {
   "cell_type": "markdown",
   "metadata": {
    "tags": []
   },
   "source": [
    "___\n",
    "\n",
    "### Upload Your Work to Gradescope for Autograding\n",
    "\n",
    "**You must submit your Lab solutions to the autograder at the end of class even if your work is incomplete.**\n",
    "* In Jupyter, select `Run` $\\to$ `Run All Cells` and make sure there are no errors in your code. Comment out any non-working code.\n",
    "* Select `File` $\\to$ `Export Notebook as` $\\to$ `Executable Script`. This will create an executable `.py` version of your notebook. (On some computers, you will `Download` to `.py` format.)\n",
    "* **The file must be named `Rec2.py`**.\n",
    "* In Gradescope, select the `Rec2.py` assignment and upload your `Rec2.py` file.\n",
    "* Your solutions will be autograded. Some test cases may be hidden. Correct answers will be shown in green. Incorrect answers will be shown in red.\n",
    "* If you do not complete the exercises during class, you may resubmit your file up to a week late. Multiple submissions are allowed.\n",
    "* **Important: Your file must be in the correct format**. If the autograder is unable to grade your work, a score of zero will be given to the assignment.\n"
   ]
  }
 ],
 "metadata": {
  "kernelspec": {
   "display_name": "Python 3 (ipykernel)",
   "language": "python",
   "name": "python3"
  },
  "language_info": {
   "codemirror_mode": {
    "name": "ipython",
    "version": 3
   },
   "file_extension": ".py",
   "mimetype": "text/x-python",
   "name": "python",
   "nbconvert_exporter": "python",
   "pygments_lexer": "ipython3",
   "version": "3.12.4"
  }
 },
 "nbformat": 4,
 "nbformat_minor": 4
}
