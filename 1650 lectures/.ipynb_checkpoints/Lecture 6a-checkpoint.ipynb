{
 "cells": [
  {
   "cell_type": "markdown",
   "id": "460d7b16-1820-4c98-8e7f-76fd54ba0506",
   "metadata": {},
   "source": [
    "### Lecture 6a"
   ]
  },
  {
   "cell_type": "markdown",
   "id": "8e4a2ca8-d281-473a-a3ea-1eb307bf7412",
   "metadata": {},
   "source": [
    "Conditional expressions ( 'and' ,  'or' )"
   ]
  },
  {
   "cell_type": "code",
   "execution_count": 19,
   "id": "3a79b739-f5cc-4c6b-a803-a86b99e1c1bf",
   "metadata": {},
   "outputs": [],
   "source": [
    "def print_2nd(seq):\n",
    "    '''Print the 2nd element of a list, tuple, or string'''\n",
    "    if isinstance(seq, list) and len(seq) > 1:\n",
    "        print(seq[1])"
   ]
  },
  {
   "cell_type": "code",
   "execution_count": 23,
   "id": "d7ee7242-cda9-4020-b5a6-517964cb26d0",
   "metadata": {},
   "outputs": [],
   "source": [
    "print_2nd()"
   ]
  },
  {
   "cell_type": "markdown",
   "id": "f298578c-cfaf-47e2-a417-2e5c78c9dbfc",
   "metadata": {},
   "source": [
    "### Generating Random Numbers"
   ]
  },
  {
   "cell_type": "code",
   "execution_count": 27,
   "id": "c9be70c3-d083-4dc1-9358-6fea0957d40e",
   "metadata": {},
   "outputs": [],
   "source": [
    "import random"
   ]
  },
  {
   "cell_type": "code",
   "execution_count": 41,
   "id": "723b4e86-9f4f-49f4-94d4-d203d16da182",
   "metadata": {},
   "outputs": [
    {
     "data": {
      "text/plain": [
       "0.3465125161155522"
      ]
     },
     "execution_count": 41,
     "metadata": {},
     "output_type": "execute_result"
    }
   ],
   "source": [
    "random.random() #random real number in interval[0, 1)"
   ]
  },
  {
   "cell_type": "code",
   "execution_count": 49,
   "id": "ef6bd82d-c47b-4a4f-ac95-d56bb6bb2847",
   "metadata": {},
   "outputs": [
    {
     "data": {
      "text/plain": [
       "8.280228104297779"
      ]
     },
     "execution_count": 49,
     "metadata": {},
     "output_type": "execute_result"
    }
   ],
   "source": [
    "random.uniform(6, 10) #random real number in [a, b]"
   ]
  },
  {
   "cell_type": "code",
   "execution_count": 61,
   "id": "7bad8831-57f9-4f34-8b88-52a458ed62f6",
   "metadata": {},
   "outputs": [
    {
     "data": {
      "text/plain": [
       "90"
      ]
     },
     "execution_count": 61,
     "metadata": {},
     "output_type": "execute_result"
    }
   ],
   "source": [
    "random.randint(90, 100) #random integer in [m, n]"
   ]
  },
  {
   "cell_type": "code",
   "execution_count": 75,
   "id": "b62810ee-25f6-4957-8ed4-504eb865d976",
   "metadata": {},
   "outputs": [
    {
     "data": {
      "text/plain": [
       "30"
      ]
     },
     "execution_count": 75,
     "metadata": {},
     "output_type": "execute_result"
    }
   ],
   "source": [
    "random.choice([10, 20, 30]) #random element from a list or tuple or string"
   ]
  },
  {
   "cell_type": "code",
   "execution_count": 89,
   "id": "3db1e867-e8e5-4e88-b7e9-a5062db0fd3e",
   "metadata": {},
   "outputs": [
    {
     "data": {
      "text/plain": [
       "'C'"
      ]
     },
     "execution_count": 89,
     "metadata": {},
     "output_type": "execute_result"
    }
   ],
   "source": [
    "random.choice('ABC')"
   ]
  },
  {
   "cell_type": "code",
   "execution_count": 91,
   "id": "7c4fea6d-6a86-40d8-882b-8223b109359e",
   "metadata": {},
   "outputs": [],
   "source": [
    "random.seed(2024)"
   ]
  },
  {
   "cell_type": "code",
   "execution_count": 93,
   "id": "37c0a201-4e1e-419c-9eeb-4acd7f9d9eab",
   "metadata": {},
   "outputs": [
    {
     "data": {
      "text/plain": [
       "0.47009071843107064"
      ]
     },
     "execution_count": 93,
     "metadata": {},
     "output_type": "execute_result"
    }
   ],
   "source": [
    "random.random()"
   ]
  },
  {
   "cell_type": "code",
   "execution_count": 99,
   "id": "69e3fd98-7e69-4976-b425-f6ef7f37c419",
   "metadata": {},
   "outputs": [
    {
     "data": {
      "text/plain": [
       "[98, 93, 100, 97, 95]"
      ]
     },
     "execution_count": 99,
     "metadata": {},
     "output_type": "execute_result"
    }
   ],
   "source": [
    "[random.randint(90, 100) for n in range(5)]"
   ]
  },
  {
   "cell_type": "markdown",
   "id": "8d922f2a-06d7-44d0-8865-18422864f422",
   "metadata": {},
   "source": [
    "Simulating a coin flip"
   ]
  },
  {
   "cell_type": "code",
   "execution_count": 102,
   "id": "91e9d187-a884-4061-b093-cb93c572ee74",
   "metadata": {},
   "outputs": [
    {
     "data": {
      "text/plain": [
       "'T'"
      ]
     },
     "execution_count": 102,
     "metadata": {},
     "output_type": "execute_result"
    }
   ],
   "source": [
    "random.choice('HT')"
   ]
  },
  {
   "cell_type": "markdown",
   "id": "1e761885-c3f5-4cbb-88f4-59dc2437a3ab",
   "metadata": {},
   "source": [
    "Simulating the roll of a die"
   ]
  },
  {
   "cell_type": "code",
   "execution_count": 111,
   "id": "e96c99e1-ae65-42bb-809e-10a8328751f1",
   "metadata": {},
   "outputs": [
    {
     "data": {
      "text/plain": [
       "2"
      ]
     },
     "execution_count": 111,
     "metadata": {},
     "output_type": "execute_result"
    }
   ],
   "source": [
    "random.choice(list(range(1, 7)))"
   ]
  },
  {
   "cell_type": "code",
   "execution_count": 117,
   "id": "f8573f87-abbd-404b-ab22-32bd5e348939",
   "metadata": {},
   "outputs": [
    {
     "data": {
      "text/plain": [
       "6"
      ]
     },
     "execution_count": 117,
     "metadata": {},
     "output_type": "execute_result"
    }
   ],
   "source": [
    "random.randint(1, 6)"
   ]
  },
  {
   "cell_type": "markdown",
   "id": "19fcbe59-79c9-4b89-981f-15c9c55b4e1f",
   "metadata": {},
   "source": [
    "### Distribution of Random Numbers  \n",
    "Suppose a coin is flipped 1000 times. How evenly distributed is a simulation of the event?"
   ]
  },
  {
   "cell_type": "code",
   "execution_count": 153,
   "id": "8262e8b5-be5d-4dbd-bf1a-a407f1187e30",
   "metadata": {},
   "outputs": [],
   "source": [
    "flips = [random.choice('HT') for n in range(10000)]"
   ]
  },
  {
   "cell_type": "code",
   "execution_count": 147,
   "id": "fdf945c8-d0d7-4d31-a6ae-aa1ec8e416a6",
   "metadata": {},
   "outputs": [
    {
     "data": {
      "text/plain": [
       "10000"
      ]
     },
     "execution_count": 147,
     "metadata": {},
     "output_type": "execute_result"
    }
   ],
   "source": [
    "len(flips)"
   ]
  },
  {
   "cell_type": "code",
   "execution_count": 149,
   "id": "55c2842a-9eef-432c-943c-17ea1cea4e38",
   "metadata": {},
   "outputs": [
    {
     "data": {
      "text/plain": [
       "['H', 'H', 'T', 'H', 'T', 'T', 'H', 'H', 'H', 'H']"
      ]
     },
     "execution_count": 149,
     "metadata": {},
     "output_type": "execute_result"
    }
   ],
   "source": [
    "flips[:10]"
   ]
  },
  {
   "cell_type": "code",
   "execution_count": 155,
   "id": "f2210124-2d67-4669-b09e-bcd232be227c",
   "metadata": {},
   "outputs": [
    {
     "data": {
      "text/plain": [
       "5024"
      ]
     },
     "execution_count": 155,
     "metadata": {},
     "output_type": "execute_result"
    }
   ],
   "source": [
    "flips.count('H')"
   ]
  },
  {
   "cell_type": "markdown",
   "id": "62858d71-de00-4580-a262-b756e1db5900",
   "metadata": {},
   "source": [
    "Suppose random.random() is claled 1000 times. How even is the distribution. "
   ]
  },
  {
   "cell_type": "code",
   "execution_count": 172,
   "id": "5a9b1595-b728-471a-b29f-5561bd343e01",
   "metadata": {},
   "outputs": [],
   "source": [
    "randnums = [random.random() for i in range(10000)]"
   ]
  },
  {
   "cell_type": "code",
   "execution_count": 174,
   "id": "01525d6f-a290-402a-b148-cc853c985678",
   "metadata": {},
   "outputs": [
    {
     "data": {
      "text/plain": [
       "[0.6375658478698935,\n",
       " 0.13354303866072026,\n",
       " 0.10026878680000273,\n",
       " 0.8874596988603138,\n",
       " 0.2643179251193787,\n",
       " 0.8368958230203929,\n",
       " 0.15813772559243255,\n",
       " 0.19428448017195088,\n",
       " 0.16010827189154697,\n",
       " 0.4133706611627852]"
      ]
     },
     "execution_count": 174,
     "metadata": {},
     "output_type": "execute_result"
    }
   ],
   "source": [
    "randnums[:10]"
   ]
  },
  {
   "cell_type": "code",
   "execution_count": 176,
   "id": "68e556b0-b1f4-430a-9a4a-fc592fa1e594",
   "metadata": {},
   "outputs": [
    {
     "data": {
      "text/plain": [
       "[1031, 986, 970, 987, 1022, 990, 1016, 1007, 1014, 977]"
      ]
     },
     "execution_count": 176,
     "metadata": {},
     "output_type": "execute_result"
    }
   ],
   "source": [
    "#count the frequencies\n",
    "counts = 10 * [0]\n",
    "\n",
    "for num in randnums:\n",
    "    bucket = int(10 * num)\n",
    "    counts[bucket] += 1\n",
    "counts"
   ]
  },
  {
   "cell_type": "markdown",
   "id": "f0a09816-b626-4d61-850b-088860696b1d",
   "metadata": {},
   "source": [
    "### Intro to Markdown"
   ]
  },
  {
   "cell_type": "markdown",
   "id": "bc3ad8e0-7031-40a4-b2d6-434fb3e71183",
   "metadata": {},
   "source": [
    "**bold font**  add 2 spaces to the end of a line to insert a newline   \n",
    "*italic font*"
   ]
  },
  {
   "cell_type": "markdown",
   "id": "cf15378e-3f10-49e8-aaae-da350ae340a2",
   "metadata": {},
   "source": [
    "* Item 1\n",
    "* Item 2"
   ]
  },
  {
   "cell_type": "markdown",
   "id": "82af96d0-05ab-4016-8e3d-e874d354dd38",
   "metadata": {},
   "source": [
    "1. This is A\n",
    "2. this is B\n",
    "   * This is B1\n",
    "   * This is B2"
   ]
  },
  {
   "cell_type": "markdown",
   "id": "66f67b89-104f-4993-a3a5-ac0cbd8c42dc",
   "metadata": {},
   "source": [
    "Horizontal rule: 3 underscores  \n",
    "___"
   ]
  },
  {
   "cell_type": "markdown",
   "id": "b4afd9fe-5480-4957-8c48-77c248f06aa7",
   "metadata": {},
   "source": [
    "for code, use backtick: `def`"
   ]
  },
  {
   "cell_type": "markdown",
   "id": "a7c7e10b-90a7-4149-ba8f-1a32ba8398c8",
   "metadata": {},
   "source": [
    "for code blocks, use 3 backticks at the start and end  \n",
    "```\n",
    "def func(n):\n",
    "    return n ** 2\n",
    "```"
   ]
  },
  {
   "cell_type": "markdown",
   "id": "95025819-f128-4a37-8a0a-c301cc5fc3ed",
   "metadata": {},
   "source": [
    "Links: https://pythontutor.com"
   ]
  },
  {
   "cell_type": "markdown",
   "id": "55491017-16a5-43d2-9fad-603cfadf7be4",
   "metadata": {},
   "source": [
    "Link with text:\n",
    "Visualize loops in [Python Tutor](https://pythontutor.com)"
   ]
  },
  {
   "cell_type": "markdown",
   "id": "bb74208d-c658-473d-863d-2c628d7ae64c",
   "metadata": {},
   "source": [
    "Images: \n",
    "\n",
    "![Snow Image](https://coloradomath.org/python/snow.jpg)"
   ]
  },
  {
   "cell_type": "markdown",
   "id": "1cca1ba4-2667-45a5-917b-5e181e8c04bd",
   "metadata": {},
   "source": [
    "Tables: \n",
    "\n",
    "|Week 1|Week 2|Week 3|\n",
    "|:--:|:--:|:--:|\n",
    "|Alpha |Beta |Gamma|\n",
    "|100 |200 |300 |"
   ]
  },
  {
   "cell_type": "markdown",
   "id": "7b1fb212-b5e6-460d-a394-fedf5a3b75f6",
   "metadata": {},
   "source": [
    "$a^2 + b^2 = c^2$"
   ]
  },
  {
   "cell_type": "markdown",
   "id": "0f23e405-fcbd-4555-82fd-05d57dec6a92",
   "metadata": {},
   "source": [
    "$ \\frac{x+1}{x-1} $  \n",
    "\n",
    "\n",
    "$ \\dfrac{x+1}{x-1} $"
   ]
  },
  {
   "cell_type": "markdown",
   "id": "3c87e2eb-e5e6-4787-a7ef-f8d72ede5d33",
   "metadata": {},
   "source": [
    "$ c = \\sqrt{a^2 + b^2}$"
   ]
  },
  {
   "cell_type": "markdown",
   "id": "fec6367d-8ff0-4b25-8f05-4b03c4b997d5",
   "metadata": {},
   "source": [
    "$ \\int_a^b f(x) dx$"
   ]
  },
  {
   "cell_type": "markdown",
   "id": "3f081a4e-a3c1-4651-a4a0-9c790b6a5053",
   "metadata": {},
   "source": [
    "$ \\displaystyle \\int_a^b f(x) dx$"
   ]
  },
  {
   "cell_type": "markdown",
   "id": "b0c47a30-f96d-467f-a395-60817073f253",
   "metadata": {},
   "source": [
    "$x_1, x_{2y}$"
   ]
  },
  {
   "cell_type": "code",
   "execution_count": null,
   "id": "bfdb68e3-367e-451f-911e-b12f9e43dc50",
   "metadata": {},
   "outputs": [],
   "source": []
  }
 ],
 "metadata": {
  "kernelspec": {
   "display_name": "Python 3 (ipykernel)",
   "language": "python",
   "name": "python3"
  },
  "language_info": {
   "codemirror_mode": {
    "name": "ipython",
    "version": 3
   },
   "file_extension": ".py",
   "mimetype": "text/x-python",
   "name": "python",
   "nbconvert_exporter": "python",
   "pygments_lexer": "ipython3",
   "version": "3.12.4"
  }
 },
 "nbformat": 4,
 "nbformat_minor": 5
}
