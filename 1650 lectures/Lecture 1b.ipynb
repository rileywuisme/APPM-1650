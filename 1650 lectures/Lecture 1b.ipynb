{
 "cells": [
  {
   "cell_type": "markdown",
   "id": "63b2d07e-c8e4-49f0-9ec9-6748d91c754d",
   "metadata": {},
   "source": [
    "### Lecture 1b"
   ]
  },
  {
   "cell_type": "code",
   "execution_count": 2,
   "id": "d9833c63-22f6-434d-ab24-f8f786a674d7",
   "metadata": {},
   "outputs": [],
   "source": [
    "import math"
   ]
  },
  {
   "cell_type": "markdown",
   "id": "e1ab3f36-9951-426e-9a60-a06e61954127",
   "metadata": {},
   "source": [
    "### Math Module"
   ]
  },
  {
   "cell_type": "code",
   "execution_count": 5,
   "id": "72b4341b-7e85-46d5-bc1a-eee68eff4291",
   "metadata": {},
   "outputs": [
    {
     "data": {
      "text/plain": [
       "6.0"
      ]
     },
     "execution_count": 5,
     "metadata": {},
     "output_type": "execute_result"
    }
   ],
   "source": [
    "math.sqrt(36)"
   ]
  },
  {
   "cell_type": "code",
   "execution_count": 7,
   "id": "9db86f5c-ef84-4052-a7c2-24cd408d2762",
   "metadata": {},
   "outputs": [
    {
     "data": {
      "text/plain": [
       "6.0"
      ]
     },
     "execution_count": 7,
     "metadata": {},
     "output_type": "execute_result"
    }
   ],
   "source": [
    "36 ** 0.5"
   ]
  },
  {
   "cell_type": "code",
   "execution_count": 11,
   "id": "7fbeb6f6-13ed-4ed3-90aa-43cb740b8963",
   "metadata": {},
   "outputs": [
    {
     "data": {
      "text/plain": [
       "24"
      ]
     },
     "execution_count": 11,
     "metadata": {},
     "output_type": "execute_result"
    }
   ],
   "source": [
    "math.factorial(4)"
   ]
  },
  {
   "cell_type": "markdown",
   "id": "1468fd9b-8c0a-4050-85d9-d0b77eb45776",
   "metadata": {},
   "source": [
    "math.pi"
   ]
  },
  {
   "cell_type": "code",
   "execution_count": 15,
   "id": "6adac8a4-7a8e-4d33-babb-6a6555e7c25c",
   "metadata": {},
   "outputs": [
    {
     "data": {
      "text/plain": [
       "2.718281828459045"
      ]
     },
     "execution_count": 15,
     "metadata": {},
     "output_type": "execute_result"
    }
   ],
   "source": [
    "math.e"
   ]
  },
  {
   "cell_type": "code",
   "execution_count": 17,
   "id": "21275f5e-f044-4962-96ba-4544898ca6b6",
   "metadata": {},
   "outputs": [
    {
     "data": {
      "text/plain": [
       "7.38905609893065"
      ]
     },
     "execution_count": 17,
     "metadata": {},
     "output_type": "execute_result"
    }
   ],
   "source": [
    "math.exp(2)"
   ]
  },
  {
   "cell_type": "code",
   "execution_count": 19,
   "id": "c49db533-1ab6-47fe-82bc-ca6a485d8e6b",
   "metadata": {},
   "outputs": [
    {
     "data": {
      "text/plain": [
       "7.3890560989306495"
      ]
     },
     "execution_count": 19,
     "metadata": {},
     "output_type": "execute_result"
    }
   ],
   "source": [
    "math.e ** 2"
   ]
  },
  {
   "cell_type": "code",
   "execution_count": 21,
   "id": "d993c867-a9d9-42e9-aea4-489d801374e5",
   "metadata": {},
   "outputs": [
    {
     "data": {
      "text/plain": [
       "0.0"
      ]
     },
     "execution_count": 21,
     "metadata": {},
     "output_type": "execute_result"
    }
   ],
   "source": [
    "math.log(1)"
   ]
  },
  {
   "cell_type": "code",
   "execution_count": 23,
   "id": "0f301897-02df-4e35-90d3-5eaa41efc67f",
   "metadata": {},
   "outputs": [
    {
     "data": {
      "text/plain": [
       "1.0"
      ]
     },
     "execution_count": 23,
     "metadata": {},
     "output_type": "execute_result"
    }
   ],
   "source": [
    "math.log(math.e)"
   ]
  },
  {
   "cell_type": "code",
   "execution_count": 25,
   "id": "9db17c0b-e08c-4d13-b51a-12ca0f7af84e",
   "metadata": {},
   "outputs": [
    {
     "data": {
      "text/plain": [
       "-3.0"
      ]
     },
     "execution_count": 25,
     "metadata": {},
     "output_type": "execute_result"
    }
   ],
   "source": [
    "math.log(1/8, 2)"
   ]
  },
  {
   "cell_type": "code",
   "execution_count": 27,
   "id": "8939a22f-47e1-4f8e-a2ea-ffa83836c341",
   "metadata": {},
   "outputs": [
    {
     "data": {
      "text/plain": [
       "5.0"
      ]
     },
     "execution_count": 27,
     "metadata": {},
     "output_type": "execute_result"
    }
   ],
   "source": [
    "math.log10(1e5)"
   ]
  },
  {
   "cell_type": "markdown",
   "id": "b2d7c82a-9e55-479f-afd1-b30b50fa6d65",
   "metadata": {},
   "source": [
    "Trig Functions"
   ]
  },
  {
   "cell_type": "code",
   "execution_count": 31,
   "id": "5dc1280e-21bf-4a18-b555-9d1bfb906ab5",
   "metadata": {},
   "outputs": [
    {
     "data": {
      "text/plain": [
       "1.0"
      ]
     },
     "execution_count": 31,
     "metadata": {},
     "output_type": "execute_result"
    }
   ],
   "source": [
    "math.cos(0)\n"
   ]
  },
  {
   "cell_type": "code",
   "execution_count": 33,
   "id": "ef78a8fe-039b-4522-aa29-c0aced7e9735",
   "metadata": {},
   "outputs": [
    {
     "data": {
      "text/plain": [
       "0.5000000000000001"
      ]
     },
     "execution_count": 33,
     "metadata": {},
     "output_type": "execute_result"
    }
   ],
   "source": [
    "math.cos(math.pi/3)"
   ]
  },
  {
   "cell_type": "markdown",
   "id": "c2257d71-f830-4e90-a04f-3682eee03b4a",
   "metadata": {},
   "source": [
    "It has 1 because the numbers are stored in binary. Base 2, instead of base 10. "
   ]
  },
  {
   "cell_type": "code",
   "execution_count": 36,
   "id": "e2bf7754-100f-4f6b-a1ae-88c02f3ce615",
   "metadata": {},
   "outputs": [
    {
     "data": {
      "text/plain": [
       "1.0471975511965976"
      ]
     },
     "execution_count": 36,
     "metadata": {},
     "output_type": "execute_result"
    }
   ],
   "source": [
    "math.radians(60)"
   ]
  },
  {
   "cell_type": "code",
   "execution_count": 38,
   "id": "87c538b9-7b9c-4b17-a114-25f4f79152fc",
   "metadata": {},
   "outputs": [
    {
     "data": {
      "text/plain": [
       "1.0471975511965976"
      ]
     },
     "execution_count": 38,
     "metadata": {},
     "output_type": "execute_result"
    }
   ],
   "source": [
    "math.pi / 3"
   ]
  },
  {
   "cell_type": "code",
   "execution_count": 40,
   "id": "bd26d377-4ccd-4366-8c97-c2f32aab8dcf",
   "metadata": {},
   "outputs": [
    {
     "data": {
      "text/plain": [
       "59.99999999999999"
      ]
     },
     "execution_count": 40,
     "metadata": {},
     "output_type": "execute_result"
    }
   ],
   "source": [
    "math.degrees(math.pi / 3)"
   ]
  },
  {
   "cell_type": "code",
   "execution_count": 42,
   "id": "3a2b1289-b7b3-47a3-b1ff-4b0992245275",
   "metadata": {},
   "outputs": [
    {
     "data": {
      "text/plain": [
       "1.5707963267948966"
      ]
     },
     "execution_count": 42,
     "metadata": {},
     "output_type": "execute_result"
    }
   ],
   "source": [
    "math.asin(1)"
   ]
  },
  {
   "cell_type": "code",
   "execution_count": 48,
   "id": "44a690be-0e0b-48df-9b4d-b159d80c52f6",
   "metadata": {},
   "outputs": [
    {
     "data": {
      "text/plain": [
       "9"
      ]
     },
     "execution_count": 48,
     "metadata": {},
     "output_type": "execute_result"
    }
   ],
   "source": [
    "math.floor(9.2) #round down"
   ]
  },
  {
   "cell_type": "code",
   "execution_count": 50,
   "id": "9463a17d-7d52-4e54-817e-675183b8e31c",
   "metadata": {},
   "outputs": [
    {
     "data": {
      "text/plain": [
       "10"
      ]
     },
     "execution_count": 50,
     "metadata": {},
     "output_type": "execute_result"
    }
   ],
   "source": [
    "math.ceil(9.2) #round up"
   ]
  },
  {
   "cell_type": "markdown",
   "id": "2f3126c8-b0a6-4b70-9cb9-93e840db6ead",
   "metadata": {},
   "source": [
    "### Defining Functions"
   ]
  },
  {
   "cell_type": "markdown",
   "id": "f0075a15-40e1-47f4-b8b6-2aa5733217b4",
   "metadata": {},
   "source": [
    "Let $ f(x) = x + 10 $"
   ]
  },
  {
   "cell_type": "code",
   "execution_count": 77,
   "id": "eefbdb6b-4326-4902-8c9e-d6cd6c7d8607",
   "metadata": {},
   "outputs": [],
   "source": [
    "def add_10(num): # keyword, name, argument, colon\n",
    "    '''Returns 10 more than num\n",
    "    \n",
    "    triple quote can write paragraphs'''\n",
    "    return num + 10"
   ]
  },
  {
   "cell_type": "code",
   "execution_count": 72,
   "id": "7b6feba3-050f-4cf8-a3dd-95e1646e8532",
   "metadata": {},
   "outputs": [
    {
     "data": {
      "text/plain": [
       "35"
      ]
     },
     "execution_count": 72,
     "metadata": {},
     "output_type": "execute_result"
    }
   ],
   "source": [
    "add_10(25)"
   ]
  },
  {
   "cell_type": "code",
   "execution_count": 79,
   "id": "83945d24-8b1c-430c-95d9-d2c799ee98ee",
   "metadata": {},
   "outputs": [],
   "source": [
    "def add_10_print (num):\n",
    "    '''Display 10 more than num'''\n",
    "    print (num + 10)\n"
   ]
  },
  {
   "cell_type": "code",
   "execution_count": 81,
   "id": "6aa53c63-4277-490a-ae7d-9f49c9f5fd4d",
   "metadata": {},
   "outputs": [
    {
     "name": "stdout",
     "output_type": "stream",
     "text": [
      "35\n"
     ]
    }
   ],
   "source": [
    "add_10_print(25)"
   ]
  },
  {
   "cell_type": "code",
   "execution_count": 83,
   "id": "cdb26056-4673-40d6-bd3a-b80b71be9e6e",
   "metadata": {},
   "outputs": [
    {
     "data": {
      "text/plain": [
       "70"
      ]
     },
     "execution_count": 83,
     "metadata": {},
     "output_type": "execute_result"
    }
   ],
   "source": [
    "add_10(25) * 2"
   ]
  },
  {
   "cell_type": "code",
   "execution_count": 85,
   "id": "579f630e-eaa0-49d2-a3ea-0383b10337a8",
   "metadata": {},
   "outputs": [
    {
     "data": {
      "text/plain": [
       "45"
      ]
     },
     "execution_count": 85,
     "metadata": {},
     "output_type": "execute_result"
    }
   ],
   "source": [
    "add_10(add_10(25))"
   ]
  },
  {
   "cell_type": "code",
   "execution_count": 87,
   "id": "e0391a36-4893-435e-8fb2-baba9fe98ec9",
   "metadata": {},
   "outputs": [
    {
     "name": "stdout",
     "output_type": "stream",
     "text": [
      "35\n"
     ]
    },
    {
     "ename": "TypeError",
     "evalue": "unsupported operand type(s) for *: 'NoneType' and 'int'",
     "output_type": "error",
     "traceback": [
      "\u001b[0;31m---------------------------------------------------------------------------\u001b[0m",
      "\u001b[0;31mTypeError\u001b[0m                                 Traceback (most recent call last)",
      "Cell \u001b[0;32mIn[87], line 1\u001b[0m\n\u001b[0;32m----> 1\u001b[0m add_10_print(\u001b[38;5;241m25\u001b[39m) \u001b[38;5;241m*\u001b[39m \u001b[38;5;241m2\u001b[39m\n",
      "\u001b[0;31mTypeError\u001b[0m: unsupported operand type(s) for *: 'NoneType' and 'int'"
     ]
    }
   ],
   "source": [
    "add_10_print(25) * 2 #print only display value, not calculate. "
   ]
  },
  {
   "cell_type": "code",
   "execution_count": 91,
   "id": "aea97233-27e1-4751-9e9d-e6b38724f7fd",
   "metadata": {},
   "outputs": [
    {
     "data": {
      "text/plain": [
       "function"
      ]
     },
     "execution_count": 91,
     "metadata": {},
     "output_type": "execute_result"
    }
   ],
   "source": [
    "type (add_10)"
   ]
  },
  {
   "cell_type": "code",
   "execution_count": 93,
   "id": "5cc0ceba-bd24-4952-9bff-6b82fa977e72",
   "metadata": {},
   "outputs": [
    {
     "data": {
      "text/plain": [
       "function"
      ]
     },
     "execution_count": 93,
     "metadata": {},
     "output_type": "execute_result"
    }
   ],
   "source": [
    "type (add_10_print)"
   ]
  },
  {
   "cell_type": "markdown",
   "id": "71576877-21af-48ba-80de-0d9421a35f97",
   "metadata": {},
   "source": [
    "### Write a function to calculate the length of the hypotenuse of a right triangle given the leg lengths"
   ]
  },
  {
   "cell_type": "code",
   "execution_count": 96,
   "id": "cfb17bbc-a554-4fc5-ac39-d35cdbea1386",
   "metadata": {},
   "outputs": [],
   "source": [
    "def hypot(leg1, leg2):\n",
    "    'return hypotenuse'\n",
    "    return math.sqrt( leg1 ** 2 + leg2 ** 2)"
   ]
  },
  {
   "cell_type": "code",
   "execution_count": 98,
   "id": "61322231-0307-44ba-8eba-8acf0e0d625c",
   "metadata": {},
   "outputs": [
    {
     "data": {
      "text/plain": [
       "5.0"
      ]
     },
     "execution_count": 98,
     "metadata": {},
     "output_type": "execute_result"
    }
   ],
   "source": [
    "hypot(3, 4) #works!"
   ]
  },
  {
   "cell_type": "markdown",
   "id": "6fc101f0-c0b8-4326-8b8f-e6e6c088044c",
   "metadata": {},
   "source": [
    "### Write a function that prepends 'Good luck' in front of a name"
   ]
  },
  {
   "cell_type": "code",
   "execution_count": 111,
   "id": "d9d8026e-6d5b-4ed6-8550-60f8dbe474e9",
   "metadata": {},
   "outputs": [],
   "source": [
    "def good_luck(name):\n",
    "    '''Take a name in string format and prepend 'Good luck' in front'''\n",
    "    return 'Good luck ' + name + '!'"
   ]
  },
  {
   "cell_type": "code",
   "execution_count": 113,
   "id": "51461b59-ee73-4148-ac48-1ccee4f47f8f",
   "metadata": {},
   "outputs": [
    {
     "data": {
      "text/plain": [
       "'Good luck Ralphie!'"
      ]
     },
     "execution_count": 113,
     "metadata": {},
     "output_type": "execute_result"
    }
   ],
   "source": [
    "good_luck ('Ralphie') #remember to use quotation"
   ]
  },
  {
   "cell_type": "markdown",
   "id": "5e8173a8-51a0-4159-a04a-9bc16829e7fc",
   "metadata": {},
   "source": [
    "### Write a function to calculate the colume of a cylinder given its radius and height. $ V = \\pi r^2 h $"
   ]
  },
  {
   "cell_type": "code",
   "execution_count": 116,
   "id": "d01b5563-9b5d-4bb4-ab6f-a2bcc852a325",
   "metadata": {},
   "outputs": [],
   "source": [
    "def vol_cyl(radius, height):\n",
    "    '''Return the volume of a cylinder given its radius and height'''\n",
    "    return math.pi * radius ** 2 * height"
   ]
  },
  {
   "cell_type": "code",
   "execution_count": 125,
   "id": "a662c93f-e9f1-449c-9bd7-9b85253857fc",
   "metadata": {},
   "outputs": [
    {
     "data": {
      "text/plain": [
       "113.09733552923255"
      ]
     },
     "execution_count": 125,
     "metadata": {},
     "output_type": "execute_result"
    }
   ],
   "source": [
    "vol_cyl (3, 4) # works!"
   ]
  },
  {
   "cell_type": "code",
   "execution_count": 137,
   "id": "891cb3eb-06fd-4c52-8f54-13df36f56919",
   "metadata": {},
   "outputs": [],
   "source": [
    "def dist(x1, y1, x2, y2):\n",
    "    delta_x = x1 - x2\n",
    "    delta_y = y1 - y2\n",
    "    return math.sqrt( delta_x ** 2 + delta_y ** 2) \n",
    "# why does delta.x or delta.y not work?"
   ]
  },
  {
   "cell_type": "code",
   "execution_count": 139,
   "id": "1c1d0551-744d-4b6e-a65e-4f7b0c02be69",
   "metadata": {},
   "outputs": [
    {
     "data": {
      "text/plain": [
       "2.0"
      ]
     },
     "execution_count": 139,
     "metadata": {},
     "output_type": "execute_result"
    }
   ],
   "source": [
    "dist(2, 0, 0, 0)"
   ]
  },
  {
   "cell_type": "markdown",
   "id": "ce2d3923-aab8-4a82-a8f4-60df62aadd69",
   "metadata": {},
   "source": [
    "### Write a function that repeats a string N times"
   ]
  },
  {
   "cell_type": "code",
   "execution_count": 152,
   "id": "5cc71341-f747-46a5-a7b9-9c0557b7bec5",
   "metadata": {},
   "outputs": [],
   "source": [
    "def repeat_string (word, ntimes):\n",
    "    return word * ntimes\n",
    "#why don't you need the quotation around word"
   ]
  },
  {
   "cell_type": "code",
   "execution_count": 156,
   "id": "4d363d3f-1022-4c20-a75c-af3d5468e033",
   "metadata": {},
   "outputs": [
    {
     "data": {
      "text/plain": [
       "'hi hi hi '"
      ]
     },
     "execution_count": 156,
     "metadata": {},
     "output_type": "execute_result"
    }
   ],
   "source": [
    "repeat_string ('hi ', 3)"
   ]
  },
  {
   "cell_type": "code",
   "execution_count": null,
   "id": "6ceb9e75-22b8-4556-9adc-55a499decb5d",
   "metadata": {},
   "outputs": [],
   "source": []
  }
 ],
 "metadata": {
  "kernelspec": {
   "display_name": "Python 3 (ipykernel)",
   "language": "python",
   "name": "python3"
  },
  "language_info": {
   "codemirror_mode": {
    "name": "ipython",
    "version": 3
   },
   "file_extension": ".py",
   "mimetype": "text/x-python",
   "name": "python",
   "nbconvert_exporter": "python",
   "pygments_lexer": "ipython3",
   "version": "3.12.4"
  }
 },
 "nbformat": 4,
 "nbformat_minor": 5
}
