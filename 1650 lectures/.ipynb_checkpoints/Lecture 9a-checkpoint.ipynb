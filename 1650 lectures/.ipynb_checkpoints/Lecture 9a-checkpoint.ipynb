{
 "cells": [
  {
   "cell_type": "markdown",
   "id": "98fb70df-1a90-45fb-8aac-47618e8698dc",
   "metadata": {},
   "source": [
    "### Lecture 9a"
   ]
  },
  {
   "cell_type": "code",
   "execution_count": 3,
   "id": "2c54b94b-657b-4577-b66d-bad3debb15cf",
   "metadata": {},
   "outputs": [],
   "source": [
    "import random"
   ]
  },
  {
   "cell_type": "markdown",
   "id": "ad6d6fae-ffe0-4e55-a015-2f93247eab1b",
   "metadata": {},
   "source": [
    "Warm up: Flip 2 heads  \n",
    "Simulate the flipping of two heads. "
   ]
  },
  {
   "cell_type": "code",
   "execution_count": 72,
   "id": "832ac36f-9c5c-4a78-bb95-f2f9dce030db",
   "metadata": {},
   "outputs": [
    {
     "name": "stdout",
     "output_type": "stream",
     "text": [
      "H T H "
     ]
    }
   ],
   "source": [
    "head_ct = 0\n",
    "\n",
    "while head_ct < 2:\n",
    "    flip = random.choice('HT')\n",
    "    print(flip, end=' ')\n",
    "    if flip == 'H':\n",
    "        head_ct += 1"
   ]
  },
  {
   "cell_type": "markdown",
   "id": "07868878-9b89-4144-b5ad-e1024c2260b7",
   "metadata": {},
   "source": [
    "Warm up: Flip 2 heads in a row"
   ]
  },
  {
   "cell_type": "code",
   "execution_count": 60,
   "id": "e8260d20-809b-4800-b056-67ffefddfab1",
   "metadata": {},
   "outputs": [
    {
     "name": "stdout",
     "output_type": "stream",
     "text": [
      "T H T T T T H T H H "
     ]
    }
   ],
   "source": [
    "head_ct = 0\n",
    "\n",
    "while head_ct < 2:\n",
    "    flip = random.choice('HT')\n",
    "    print(flip, end=' ')\n",
    "    if flip == 'H':\n",
    "        head_ct += 1\n",
    "    else:\n",
    "        head_ct = 0"
   ]
  },
  {
   "cell_type": "markdown",
   "id": "f0058a45-3c08-4aa2-a18e-abcd6a6337bb",
   "metadata": {},
   "source": [
    "or"
   ]
  },
  {
   "cell_type": "code",
   "execution_count": 106,
   "id": "2e9fa71e-ed03-436c-bcb7-a52684908d97",
   "metadata": {},
   "outputs": [
    {
     "name": "stdout",
     "output_type": "stream",
     "text": [
      "H H "
     ]
    }
   ],
   "source": [
    "prev = ''\n",
    "flip = ''\n",
    "\n",
    "while (flip, prev) != ('H', 'H'):\n",
    "    prev = flip\n",
    "    flip = random.choice('HT')\n",
    "    print(flip, end=' ')"
   ]
  },
  {
   "cell_type": "markdown",
   "id": "e708914f-86c2-42d7-a784-3de596d48c47",
   "metadata": {},
   "source": [
    "### Inputting from the Terminal"
   ]
  },
  {
   "cell_type": "code",
   "execution_count": 111,
   "id": "05b10e44-0e47-4404-ab2b-7781048cd404",
   "metadata": {},
   "outputs": [
    {
     "name": "stdin",
     "output_type": "stream",
     "text": [
      "Enter a number 5\n"
     ]
    }
   ],
   "source": [
    "num = input('Enter a number')"
   ]
  },
  {
   "cell_type": "code",
   "execution_count": 113,
   "id": "01f67a2f-fdcb-4bbe-85f0-fb974a2d57a7",
   "metadata": {},
   "outputs": [
    {
     "data": {
      "text/plain": [
       "'5'"
      ]
     },
     "execution_count": 113,
     "metadata": {},
     "output_type": "execute_result"
    }
   ],
   "source": [
    "num"
   ]
  },
  {
   "cell_type": "code",
   "execution_count": 115,
   "id": "f63b4446-37bd-4734-9bfb-402804e3eee1",
   "metadata": {},
   "outputs": [
    {
     "data": {
      "text/plain": [
       "'555'"
      ]
     },
     "execution_count": 115,
     "metadata": {},
     "output_type": "execute_result"
    }
   ],
   "source": [
    "3 * num"
   ]
  },
  {
   "cell_type": "code",
   "execution_count": 117,
   "id": "e1cbf696-eadd-4701-8bf4-522570e35a0c",
   "metadata": {},
   "outputs": [
    {
     "data": {
      "text/plain": [
       "15"
      ]
     },
     "execution_count": 117,
     "metadata": {},
     "output_type": "execute_result"
    }
   ],
   "source": [
    "3 * int(num)"
   ]
  },
  {
   "cell_type": "markdown",
   "id": "b31de0c6-e7d4-4891-85f1-2eedefe3662b",
   "metadata": {},
   "source": [
    "**WARNING**  Comment out all calls to `input` before submitting any work to the autograder"
   ]
  },
  {
   "cell_type": "markdown",
   "id": "f4569ecd-6f08-4d26-a20a-26b89948b83b",
   "metadata": {},
   "source": [
    "Write a function `add_2ints()` that will prompt the user for two integers, then displays the sum of the integers in equation form. "
   ]
  },
  {
   "cell_type": "code",
   "execution_count": 142,
   "id": "3f7c14b3-944b-484f-8b5e-864f54b62604",
   "metadata": {},
   "outputs": [],
   "source": [
    "def add_2ints():\n",
    "    num1 = input('First integer')\n",
    "    num2 = input('Second integer')\n",
    "    sums = int(num1) + int(num2)  \n",
    "    print( f'{num1} + {num2} = {sums}')"
   ]
  },
  {
   "cell_type": "code",
   "execution_count": 144,
   "id": "7e299478-8b70-4003-9aa7-a199a1cc6d68",
   "metadata": {},
   "outputs": [
    {
     "name": "stdin",
     "output_type": "stream",
     "text": [
      "First integer 12\n",
      "Second integer 51\n"
     ]
    },
    {
     "name": "stdout",
     "output_type": "stream",
     "text": [
      "12 + 51 = 63\n"
     ]
    }
   ],
   "source": [
    "add_2ints()"
   ]
  },
  {
   "cell_type": "markdown",
   "id": "f396eaaa-71a1-4e18-92a7-5a5f9358f60c",
   "metadata": {},
   "source": [
    "### Recursion  \n",
    "Something gets done over and over in a similar way. "
   ]
  },
  {
   "cell_type": "markdown",
   "id": "be32ae28-017a-466c-b202-2651e78d0a35",
   "metadata": {},
   "source": [
    "### Factorial  \n",
    "\n",
    "$n! = n\\cdot (n-1) \\cdot (n - 2) ... 3 \\cdot 2 \\cdot 1$\n",
    "\n",
    "Recursive:\n",
    "$n! = n \\cdot (n - 1)!$"
   ]
  },
  {
   "cell_type": "code",
   "execution_count": 186,
   "id": "a586ac78-aebb-41fa-9f0b-5cc6a8a0bb20",
   "metadata": {},
   "outputs": [],
   "source": [
    "# loop version\n",
    "def fact(n):\n",
    "    prod = 1\n",
    "    for i in range(1, n+1):\n",
    "        prod *= i\n",
    "    return prod"
   ]
  },
  {
   "cell_type": "code",
   "execution_count": 188,
   "id": "437fb947-679a-4e4d-aeb0-bd78996349a1",
   "metadata": {},
   "outputs": [
    {
     "data": {
      "text/plain": [
       "120"
      ]
     },
     "execution_count": 188,
     "metadata": {},
     "output_type": "execute_result"
    }
   ],
   "source": [
    "fact(5)"
   ]
  },
  {
   "cell_type": "code",
   "execution_count": 190,
   "id": "cec5ab06-9394-465e-93e7-e30c2d23ef4e",
   "metadata": {},
   "outputs": [],
   "source": [
    "# Recursive version\n",
    "def fact(n):\n",
    "    # base case\n",
    "    if n == 0:\n",
    "        return 1\n",
    "    else:\n",
    "        return n * fact(n-1)"
   ]
  },
  {
   "cell_type": "code",
   "execution_count": 192,
   "id": "875db83c-f7cd-4bbe-8d35-c47caec90eda",
   "metadata": {},
   "outputs": [
    {
     "data": {
      "text/plain": [
       "120"
      ]
     },
     "execution_count": 192,
     "metadata": {},
     "output_type": "execute_result"
    }
   ],
   "source": [
    "fact(5)"
   ]
  },
  {
   "cell_type": "markdown",
   "id": "72b6b94f-8302-4d7b-adba-cc16b03e8967",
   "metadata": {},
   "source": [
    "### Recursive sequence  \n",
    "${2, 4, 8, 16, 32...}$  \n",
    "$a_n = 2^n$  \n",
    "Recursive definition: $a_1 = 2$, $a_n = 2 \\cdot a_{n-1}$ (relationship between the sequence)  \n",
    "**Really slow!**"
   ]
  },
  {
   "cell_type": "markdown",
   "id": "52a3d476-7a55-4621-a9bd-849170114ca3",
   "metadata": {},
   "source": [
    "### Fibonacci Sequence   \n",
    "$\\{1,1,2,3,5,8...\\cdots \\}$  \n",
    "$a_1 = a_2 = 1$, $a_n = a_{n-1} + a_{n-2}$ for $n >= 3$"
   ]
  },
  {
   "cell_type": "code",
   "execution_count": 216,
   "id": "d1256230-78cf-48a7-8106-c9f4c1786f3b",
   "metadata": {},
   "outputs": [],
   "source": [
    "def fib(n):\n",
    "    ''' return the nth term of the Fibonacci sequence'''\n",
    "    if n == 1 or n == 2:\n",
    "        return 1\n",
    "\n",
    "    return fib(n-1) + fib(n-2)"
   ]
  },
  {
   "cell_type": "code",
   "execution_count": 234,
   "id": "dcdd8e58-dcbb-4f6d-aecd-0f0c67c98e5d",
   "metadata": {},
   "outputs": [
    {
     "data": {
      "text/plain": [
       "5"
      ]
     },
     "execution_count": 234,
     "metadata": {},
     "output_type": "execute_result"
    }
   ],
   "source": [
    "fib(5)"
   ]
  },
  {
   "cell_type": "code",
   "execution_count": 237,
   "id": "9756ce12-add3-4cc1-9683-06bccec2d78d",
   "metadata": {},
   "outputs": [],
   "source": [
    "def sum_n(n):\n",
    "    '''Return the sum of the first n positive integers'''\n",
    "    if n == 1:\n",
    "        return 1\n",
    "\n",
    "    return n + sum_n(n-1)"
   ]
  },
  {
   "cell_type": "code",
   "execution_count": 239,
   "id": "2b7808ff-a275-4287-a14e-6a50b98a9cbd",
   "metadata": {},
   "outputs": [
    {
     "data": {
      "text/plain": [
       "1540"
      ]
     },
     "execution_count": 239,
     "metadata": {},
     "output_type": "execute_result"
    }
   ],
   "source": [
    "sum_n(55)"
   ]
  },
  {
   "cell_type": "code",
   "execution_count": 255,
   "id": "5e093b41-e27f-4fb8-ba24-d5d6132f8c72",
   "metadata": {},
   "outputs": [],
   "source": [
    "def prod(nums):\n",
    "    '''Return the product of the numbers in a list'''\n",
    "    if len(nums) == 1:\n",
    "        return nums[0]\n",
    "\n",
    "    return nums[0] * prod(nums[1:])"
   ]
  },
  {
   "cell_type": "code",
   "execution_count": 257,
   "id": "107377f8-04ba-4423-9a34-902385b3f678",
   "metadata": {},
   "outputs": [
    {
     "data": {
      "text/plain": [
       "48"
      ]
     },
     "execution_count": 257,
     "metadata": {},
     "output_type": "execute_result"
    }
   ],
   "source": [
    "prod([1, 4, 4, 3])"
   ]
  },
  {
   "cell_type": "code",
   "execution_count": 259,
   "id": "44a7215e-e088-4dc6-8506-ab6c427d42bf",
   "metadata": {},
   "outputs": [
    {
     "data": {
      "text/plain": [
       "144"
      ]
     },
     "execution_count": 259,
     "metadata": {},
     "output_type": "execute_result"
    }
   ],
   "source": [
    "prod([2, 3, 4, 3, 2])"
   ]
  },
  {
   "cell_type": "code",
   "execution_count": null,
   "id": "31de8c31-0b56-4eae-90e8-d3eae29e57e5",
   "metadata": {},
   "outputs": [],
   "source": []
  }
 ],
 "metadata": {
  "kernelspec": {
   "display_name": "Python 3 (ipykernel)",
   "language": "python",
   "name": "python3"
  },
  "language_info": {
   "codemirror_mode": {
    "name": "ipython",
    "version": 3
   },
   "file_extension": ".py",
   "mimetype": "text/x-python",
   "name": "python",
   "nbconvert_exporter": "python",
   "pygments_lexer": "ipython3",
   "version": "3.12.4"
  }
 },
 "nbformat": 4,
 "nbformat_minor": 5
}
