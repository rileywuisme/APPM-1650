{
 "cells": [
  {
   "cell_type": "markdown",
   "metadata": {
    "tags": []
   },
   "source": [
    "# Recitation 13\n",
    "\n",
    "___"
   ]
  },
  {
   "cell_type": "markdown",
   "metadata": {
    "tags": []
   },
   "source": [
    "**Important**: If you create several versions of a class, only the **last** defined class will be graded by the autograder. When you make modifications to a class, any previously created objects need to be **recreated**.\n",
    "\n",
    "**Defining a class using multiple cells**: The definition for a class can be split across multiple cells. For example, if the first cell contains\n",
    "```\n",
    "class Line:\n",
    "    XXX\n",
    "```\n",
    "the code can be continued in another cell by writing\n",
    "```\n",
    "class Line(Line):\n",
    "    XXX\n",
    "```\n"
   ]
  },
  {
   "cell_type": "code",
   "execution_count": 21,
   "metadata": {},
   "outputs": [],
   "source": [
    "import math\n",
    "import numpy as np\n",
    "import matplotlib.pyplot as plt"
   ]
  },
  {
   "cell_type": "markdown",
   "metadata": {},
   "source": [
    "**Create a `class` called `Line`** which will represent lines $y = mx + b$ with the following **attributes**:\n",
    "* **`slope`** for the slope of the line,\n",
    "* **`yintercept`** for the $y$-intercept of the line.\n",
    "\n",
    "Examples:  \n",
    "`line1 = Line(3, -4)` returns a `Line` corresponding to $y=3x-4$.<br>\n",
    "`line2 = Line(3, 1)` returns a `Line` corresponding to $y=3x+1$.<br>\n",
    "`line3 = Line(-1/3, 5)` returns a `Line` corresponding to $y=-x/3+5$.\n",
    "\n",
    "`line1.slope` returns `3`.<br>\n",
    "`line1.yintercept` returns `-4`.<br>"
   ]
  },
  {
   "cell_type": "code",
   "execution_count": 24,
   "metadata": {},
   "outputs": [],
   "source": [
    "class Line:\n",
    "\n",
    "    def __init__(self, slope, yintercept):\n",
    "        self.slope = slope\n",
    "        self.yintercept = yintercept"
   ]
  },
  {
   "cell_type": "code",
   "execution_count": 32,
   "metadata": {},
   "outputs": [
    {
     "data": {
      "text/plain": [
       "3"
      ]
     },
     "execution_count": 32,
     "metadata": {},
     "output_type": "execute_result"
    }
   ],
   "source": [
    "line1 = Line(3, -4)\n",
    "line2 = Line(3, 1)\n",
    "line3 = Line(-1/3, 5)\n",
    "line1.slope"
   ]
  },
  {
   "cell_type": "code",
   "execution_count": 34,
   "metadata": {},
   "outputs": [
    {
     "data": {
      "text/plain": [
       "-4"
      ]
     },
     "execution_count": 34,
     "metadata": {},
     "output_type": "execute_result"
    }
   ],
   "source": [
    "line1.yintercept"
   ]
  },
  {
   "cell_type": "markdown",
   "metadata": {},
   "source": [
    "**and methods:**\n",
    "* **`xintercept()`** returns the $x$-intercept of the line. If none, returns `np.nan`.\n",
    "* **`eval(x)`** evaluates the linear function at a value $x$.\n",
    "* **`__call__(x)`** returns the same value as `eval(x)` except that the function is called using the `line(x)` syntax.\n",
    "\n",
    "Examples:  \n",
    "`line3.xintercept()` returns `15.0`.<br>\n",
    "`Line(0, 2).xintercept()` returns `nan`.<br>\n",
    "`line1.eval(-2)` returns `-10`.<br>\n",
    "`line1(-2)` returns `-10`.<br>"
   ]
  },
  {
   "cell_type": "code",
   "execution_count": 60,
   "metadata": {},
   "outputs": [],
   "source": [
    "class Line(Line):\n",
    "\n",
    "    def xintercept(self):\n",
    "        if self.slope != 0:\n",
    "            return -self.yintercept / self.slope\n",
    "        else:\n",
    "            return np.nan\n",
    "\n",
    "    def eval(self, x):\n",
    "        return self.slope * x + self.yintercept\n",
    "\n",
    "    def __call__(self, x):\n",
    "        return self.eval(x)"
   ]
  },
  {
   "cell_type": "code",
   "execution_count": 62,
   "metadata": {},
   "outputs": [],
   "source": [
    "line1 = Line(3, -4)\n",
    "line2 = Line(3, 1)\n",
    "line3 = Line(-1/3, 5)"
   ]
  },
  {
   "cell_type": "code",
   "execution_count": 46,
   "metadata": {},
   "outputs": [
    {
     "data": {
      "text/plain": [
       "15.0"
      ]
     },
     "execution_count": 46,
     "metadata": {},
     "output_type": "execute_result"
    }
   ],
   "source": [
    "line3.xintercept()"
   ]
  },
  {
   "cell_type": "code",
   "execution_count": 50,
   "metadata": {},
   "outputs": [
    {
     "data": {
      "text/plain": [
       "nan"
      ]
     },
     "execution_count": 50,
     "metadata": {},
     "output_type": "execute_result"
    }
   ],
   "source": [
    "Line(0, 2).xintercept()"
   ]
  },
  {
   "cell_type": "code",
   "execution_count": 52,
   "metadata": {},
   "outputs": [
    {
     "data": {
      "text/plain": [
       "-10"
      ]
     },
     "execution_count": 52,
     "metadata": {},
     "output_type": "execute_result"
    }
   ],
   "source": [
    "line1.eval(-2)"
   ]
  },
  {
   "cell_type": "code",
   "execution_count": 64,
   "metadata": {},
   "outputs": [
    {
     "data": {
      "text/plain": [
       "-10"
      ]
     },
     "execution_count": 64,
     "metadata": {},
     "output_type": "execute_result"
    }
   ],
   "source": [
    "line1(-2)"
   ]
  },
  {
   "cell_type": "markdown",
   "metadata": {},
   "source": [
    "**and methods:**\n",
    "* **`parallel(line)`** returns `True` if two lines are parallel.\n",
    "* **`perp(line)`** returns `True` if two lines are perpendicular.\n",
    "* **`on_line(pt)`** returns `True` if the given `(x, y)` point lies on the line.\n",
    "* **`intersect(line)`** returns the `(x,y)` coordinates of the intersection point of two lines. If the lines do not intersect or if a line is intersected with itself, returns `np.nan`.\n",
    "\n",
    "Examples:  \n",
    "`line1.parallel(line2)` returns `True`.<br>\n",
    "`line2.parallel(line3)` returns `False`.<br><br>\n",
    "`line3.perp(line1)` returns `True`.<br>\n",
    "`line3.perp(line2)` returns `True`.<br><br>\n",
    "`line1.on_line((-2, -10))` returns `True`.<br>\n",
    "`line3.on_line((-3, 5))` returns `False`.<br><br>\n",
    "`line2.intersect(line1)` returns `nan`.<br>\n",
    "`line2.intersect(line2)` returns `nan`.<br>\n",
    "`line2.intersect(line3)` returns `(1.2, 4.6)`.\n"
   ]
  },
  {
   "cell_type": "code",
   "execution_count": 118,
   "metadata": {},
   "outputs": [],
   "source": [
    "class Line(Line):\n",
    "\n",
    "    def parallel(self, line):\n",
    "        return self.slope == line.slope\n",
    "\n",
    "    def perp(self, line):\n",
    "        return self.slope == - (1/line.slope)\n",
    "\n",
    "    def on_line(self, pt):\n",
    "        return pt[1] == self.slope * pt[0] + self.yintercept\n",
    "\n",
    "    def intersect(self, line):\n",
    "        if self.slope - line.slope == 0:\n",
    "            return np.nan\n",
    "        else:\n",
    "            x = - (self.yintercept - line.yintercept) / (self.slope - line.slope)\n",
    "            y = x * self.slope + self.yintercept\n",
    "            return (x, y)"
   ]
  },
  {
   "cell_type": "code",
   "execution_count": 120,
   "metadata": {},
   "outputs": [],
   "source": [
    "line1 = Line(3, -4)\n",
    "line2 = Line(3, 1)\n",
    "line3 = Line(-1/3, 5)"
   ]
  },
  {
   "cell_type": "code",
   "execution_count": 124,
   "metadata": {},
   "outputs": [
    {
     "data": {
      "text/plain": [
       "False"
      ]
     },
     "execution_count": 124,
     "metadata": {},
     "output_type": "execute_result"
    }
   ],
   "source": [
    "line3.on_line((-3, 5))"
   ]
  },
  {
   "cell_type": "code",
   "execution_count": 80,
   "metadata": {},
   "outputs": [
    {
     "data": {
      "text/plain": [
       "False"
      ]
     },
     "execution_count": 80,
     "metadata": {},
     "output_type": "execute_result"
    }
   ],
   "source": [
    "line1.parallel(line3)"
   ]
  },
  {
   "cell_type": "code",
   "execution_count": 109,
   "metadata": {},
   "outputs": [
    {
     "data": {
      "text/plain": [
       "(1.2, 4.6)"
      ]
     },
     "execution_count": 109,
     "metadata": {},
     "output_type": "execute_result"
    }
   ],
   "source": [
    "line2.intersect(line3)"
   ]
  },
  {
   "cell_type": "markdown",
   "metadata": {},
   "source": [
    "---\n",
    "\n",
    "## Extra Problems\n",
    "Work on these problems after completing the previous exercises."
   ]
  },
  {
   "cell_type": "markdown",
   "metadata": {},
   "source": [
    "Add the following methods to the `Line` class:\n",
    "* **`length(interval)`** returns the length of the line on a given interval `(c, d)`. Assume that `c` is less than `d`.\n",
    "* **`area()`** returns the area bounded by the line and the $x$ and $y$ axes. Return `nan` if there is no such region.\n",
    "* **`angle()`** returns the angle (in radians) formed by the line and the $x$-axis.\n",
    "* **`plot(interval)`** plots the line on a given interval. The default interval is $[-3,3]$.\n",
    "\n",
    "Examples:<br>\n",
    "`Line(3, -5).length([-1, 4])` returns `15.811388`.<br>\n",
    "`Line(3, -5).area()` returns `4.166667`.<br>\n",
    "`Line(-1, -5).angle()` returns `-0.785398`."
   ]
  },
  {
   "cell_type": "code",
   "execution_count": null,
   "metadata": {},
   "outputs": [],
   "source": []
  }
 ],
 "metadata": {
  "kernelspec": {
   "display_name": "Python 3 (ipykernel)",
   "language": "python",
   "name": "python3"
  },
  "language_info": {
   "codemirror_mode": {
    "name": "ipython",
    "version": 3
   },
   "file_extension": ".py",
   "mimetype": "text/x-python",
   "name": "python",
   "nbconvert_exporter": "python",
   "pygments_lexer": "ipython3",
   "version": "3.12.4"
  }
 },
 "nbformat": 4,
 "nbformat_minor": 4
}
