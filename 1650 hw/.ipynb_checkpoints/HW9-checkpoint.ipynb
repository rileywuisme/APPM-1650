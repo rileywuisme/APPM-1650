{
 "cells": [
  {
   "cell_type": "markdown",
   "metadata": {},
   "source": [
    "# HW 9\n",
    "\n",
    "___"
   ]
  },
  {
   "cell_type": "code",
   "execution_count": 2,
   "metadata": {},
   "outputs": [],
   "source": [
    "import random"
   ]
  },
  {
   "cell_type": "markdown",
   "metadata": {},
   "source": [
    "### Coin Flips\n",
    "Write a function **`flip_heads(nheads)`** that simulates the flipping of a coin until a total of `nheads` heads appear. The function returns the total number of flips. \n",
    "\n",
    "Example:\n",
    "`flip_heads(3)` may return `6` if the flips are HHTTTH."
   ]
  },
  {
   "cell_type": "code",
   "execution_count": 30,
   "metadata": {},
   "outputs": [],
   "source": [
    "def flip_heads(nheads):\n",
    "    heads_count = 0\n",
    "    flips_count = 0\n",
    "    while heads_count < nheads:\n",
    "        flip = random.choice(['H', 'T'])\n",
    "        flips_count += 1\n",
    "        print(flip, end=' ')\n",
    "        if flip == 'H':\n",
    "            heads_count += 1\n",
    "    return flips_count\n"
   ]
  },
  {
   "cell_type": "code",
   "execution_count": 32,
   "metadata": {},
   "outputs": [
    {
     "name": "stdout",
     "output_type": "stream",
     "text": [
      "T H T H H "
     ]
    },
    {
     "data": {
      "text/plain": [
       "5"
      ]
     },
     "execution_count": 32,
     "metadata": {},
     "output_type": "execute_result"
    }
   ],
   "source": [
    "flip_heads(3)"
   ]
  },
  {
   "cell_type": "markdown",
   "metadata": {},
   "source": [
    "Write a function **`flip_heads_consec(nheads)`** that simulates the flipping of a coin until `nheads` consecutive heads appear. The function returns the total number of flips. (*Hint:* Print out the flips while testing these functions. Then comment out the printing.)\n",
    "\n",
    "Example:<br>\n",
    "`flip_heads_consec(3)` may return `9` if the flips are HHTHTTHHH."
   ]
  },
  {
   "cell_type": "code",
   "execution_count": 44,
   "metadata": {},
   "outputs": [],
   "source": [
    "def flip_heads_consec(nheads):\n",
    "    flips_count = 0\n",
    "    consecutive_heads = 0\n",
    "    while consecutive_heads < nheads:\n",
    "        flip = random.choice(['H', 'T'])\n",
    "        flips_count += 1\n",
    "        print(flip, end=' ')\n",
    "        if flip == 'H':\n",
    "            consecutive_heads += 1\n",
    "        else:\n",
    "            consecutive_heads = 0\n",
    "    return flips_count"
   ]
  },
  {
   "cell_type": "code",
   "execution_count": 48,
   "metadata": {},
   "outputs": [
    {
     "name": "stdout",
     "output_type": "stream",
     "text": [
      "H T T T T H T H H T T H H H "
     ]
    },
    {
     "data": {
      "text/plain": [
       "14"
      ]
     },
     "execution_count": 48,
     "metadata": {},
     "output_type": "execute_result"
    }
   ],
   "source": [
    "flip_heads_consec(3)"
   ]
  },
  {
   "cell_type": "markdown",
   "metadata": {},
   "source": [
    "Calculate the average number of flips returned by **`flip_heads(5)`** if called 10000 times. Store your answer in the variable **flip_heads_avg**.\n",
    "\n",
    "Calculate the average number of flips returned by **`flip_heads_consec(3)`** if called 10000 times. Store your answer in the variable **flip_heads_consec_avg**."
   ]
  },
  {
   "cell_type": "code",
   "execution_count": 1,
   "metadata": {
    "tags": []
   },
   "outputs": [],
   "source": [
    "# flip_heads_avg = \n",
    "# flip_heads_consec_avg = "
   ]
  },
  {
   "cell_type": "code",
   "execution_count": null,
   "metadata": {},
   "outputs": [],
   "source": []
  },
  {
   "cell_type": "markdown",
   "metadata": {},
   "source": [
    "### Sum Cubes\n",
    "Write a **recursive function** **`sum_cubes(n)`** that finds the sum of the first `n` cubes. Assume that `n` is a positive integer.\n",
    "\n",
    "Example:  \n",
    "`sum_cubes(25)` returns `105625`."
   ]
  },
  {
   "cell_type": "code",
   "execution_count": 50,
   "metadata": {},
   "outputs": [],
   "source": [
    "def sum_cubes(n):\n",
    "    if n == 1:\n",
    "        return 1\n",
    "    return n ** 3 + sum_cubes(n-1)"
   ]
  },
  {
   "cell_type": "code",
   "execution_count": 52,
   "metadata": {},
   "outputs": [
    {
     "data": {
      "text/plain": [
       "105625"
      ]
     },
     "execution_count": 52,
     "metadata": {},
     "output_type": "execute_result"
    }
   ],
   "source": [
    "sum_cubes(25)"
   ]
  },
  {
   "cell_type": "markdown",
   "metadata": {},
   "source": [
    "### A Sequence\n",
    "\n",
    "Consider the function \n",
    "  $$ f(a) = \\begin{cases}\n",
    "      a/ 2 & \\text{if }a\\text{ is even},\\\\\n",
    "      1 + 3a & \\text{if }a\\text{ is odd}. \n",
    "  \\end{cases} $$ \n",
    "Write a function **`afunc(a)`** that returns the value of this function for positive integer $a$. \n",
    "\n",
    "Suppose we begin with an integer $a$ and apply the function $f(a)$ repeatedly, using each output value as the next input value. For example beginning with $a=5$, we obtain $f(5) = 16$, $f(16) = 8$, $f(8) = 4$, etc., producing the sequence 5, 16, 8, 4, $\\ldots$. \n",
    "\n",
    "For every starting value $a$, the sequence of values eventually reaches the number $1$, as far as we know.\n",
    "\n",
    "Write a **recursive function `afuncseq(a)`** that returns a list of the values generated by `afunc()`, starting with positive integer `a`, until the number $1$ is reached. \n",
    "\n",
    "Write a function **`afuncseq_longest(max_a)`** that calls `afuncseq()` for all $a$ from $1$ to `max_a` and returns a tuple representing the value of $a$ that produces the longest sequence and the length of that sequence.\n",
    "  \n",
    "Examples:  \n",
    "`afunc(5)` returns `16`.<br>\n",
    "`afuncseq(5)` returns `[5, 16, 8, 4, 2, 1]`.<br>\n",
    "`afuncseq_longest(100)` returns `(97, 119)`.\n"
   ]
  },
  {
   "cell_type": "code",
   "execution_count": 68,
   "metadata": {},
   "outputs": [],
   "source": [
    "def afunc(n):\n",
    "    if n % 2 ==0:\n",
    "        return n/2\n",
    "    else:\n",
    "        return 1 + 3 * n"
   ]
  },
  {
   "cell_type": "code",
   "execution_count": 90,
   "metadata": {},
   "outputs": [
    {
     "data": {
      "text/plain": [
       "16"
      ]
     },
     "execution_count": 90,
     "metadata": {},
     "output_type": "execute_result"
    }
   ],
   "source": [
    "afunc(5)"
   ]
  },
  {
   "cell_type": "code",
   "execution_count": 181,
   "metadata": {},
   "outputs": [],
   "source": [
    "def afuncseq(a):\n",
    "    if a == 1:\n",
    "        return [1]\n",
    "    else:\n",
    "        return [int(a)] + afuncseq(afunc(a))"
   ]
  },
  {
   "cell_type": "code",
   "execution_count": 183,
   "metadata": {},
   "outputs": [
    {
     "data": {
      "text/plain": [
       "[5, 16, 8, 4, 2, 1]"
      ]
     },
     "execution_count": 183,
     "metadata": {},
     "output_type": "execute_result"
    }
   ],
   "source": [
    "afuncseq(5)"
   ]
  },
  {
   "cell_type": "code",
   "execution_count": 267,
   "metadata": {},
   "outputs": [],
   "source": [
    "def afuncseq_longest(max_a):\n",
    "    longest_length = 0\n",
    "    starting_value = 0\n",
    "    \n",
    "    for a in range(1, max_a + 1):\n",
    "        sequence = afuncseq(a)  \n",
    "        current_length = len(sequence) \n",
    "        \n",
    "        if current_length > longest_length:\n",
    "            longest_length = current_length\n",
    "            starting_value = a\n",
    "            \n",
    "    return starting_value, longest_length"
   ]
  },
  {
   "cell_type": "code",
   "execution_count": 269,
   "metadata": {},
   "outputs": [
    {
     "data": {
      "text/plain": [
       "(97, 119)"
      ]
     },
     "execution_count": 269,
     "metadata": {},
     "output_type": "execute_result"
    }
   ],
   "source": [
    "afuncseq_longest(100)"
   ]
  },
  {
   "cell_type": "markdown",
   "metadata": {},
   "source": [
    "### Calculating a Square Root Iteratively\n",
    "To estimate $\\sqrt s$ we can begin with an initial guess of $x_0$ and refine the guess iteratively until the desired accuracy is attained. The following formula  is based on Newton's Method:\n",
    "$$x_{n+1} = \\frac 12\\left(x_n + \\frac{s}{x_n}\\right).$$\n",
    "\n",
    "For example, suppose we wish to estimate the value of $\\sqrt{19}$. Let $s = 19$ and the initial guess be $x_0 = 4$. Then \n",
    "$$\\begin{align*}\n",
    "x_0 &= 4\\\\\n",
    "x_1 &= \\frac 12 \\left(4 + \\frac {19}{4}\\right) = 4.375\\\\\n",
    "x_2 &= \\frac 12 \\left(4.375 + \\frac{19}{4.375}\\right) = 4.358929\\\\\n",
    "x_3 &= \\frac 12 \\left(4.358929 + \\frac{19}{4.358929}\\right) =4.358899,\n",
    "\\end{align*}$$\n",
    "etc. \n",
    "\n",
    "Write a function **`approx_sqrt(s, initial, tol)`** that approximates the value of $\\sqrt s$ beginning with an initial guess and iterating until successive values of $x_n$ differ by less than `tol`. Let the default value of `tol` be $10^{-6}$. The function returns a tuple containing the square root value and the number of iterations required (excluding the initial guess).\n",
    "\n",
    "Examples:  \n",
    "`approx_sqrt(19, 4, 1e-2)` returns `(4.358899, 3)` because $x_2$ and $x_3$ differ by less than 0.01.<br>\n",
    "`approx_sqrt(99999, 1)` returns `(316.226185, 13)`.\n"
   ]
  },
  {
   "cell_type": "code",
   "execution_count": 164,
   "metadata": {},
   "outputs": [],
   "source": [
    "def approx_sqrt(s, initial, tol=1e-6):\n",
    "    guess = initial\n",
    "    iterations = 0\n",
    "    \n",
    "    while True:\n",
    "        next_guess = (guess + s / guess) / 2\n",
    "        iterations += 1\n",
    "        if abs(next_guess - guess) < tol:\n",
    "            return next_guess, iterations\n",
    "        guess = next_guess"
   ]
  },
  {
   "cell_type": "code",
   "execution_count": 166,
   "metadata": {},
   "outputs": [
    {
     "data": {
      "text/plain": [
       "(4.358898943641365, 3)"
      ]
     },
     "execution_count": 166,
     "metadata": {},
     "output_type": "execute_result"
    }
   ],
   "source": [
    "approx_sqrt(19, 4, 1e-2)"
   ]
  },
  {
   "cell_type": "code",
   "execution_count": 168,
   "metadata": {},
   "outputs": [
    {
     "data": {
      "text/plain": [
       "(316.226184874055, 13)"
      ]
     },
     "execution_count": 168,
     "metadata": {},
     "output_type": "execute_result"
    }
   ],
   "source": [
    "approx_sqrt(99999, 1)"
   ]
  },
  {
   "cell_type": "markdown",
   "metadata": {},
   "source": [
    "### Random Samples\n"
   ]
  },
  {
   "cell_type": "markdown",
   "metadata": {},
   "source": [
    "The 2012 U.S. presidential election vote counts for Mitt Romney and Barack Obama in Garfield County, CO, are shown below.\n",
    "\n",
    "|Candidate|Number of Votes|Pct of Votes|  \n",
    "|:---|:---:|:---:|  \n",
    "|Romney|12158|52.5%|\n",
    "|Obama|10989|47.5%|\n",
    "|**Total**|**23147**||\n",
    "\n",
    "Suppose a sample of these voters had been polled before the election. How often would Obama have been the winner? How does the size of the sample affect the results?\n",
    "\n",
    "Create a 23147-element list called **`votes2012`** that contains the names 'Romney' and 'Obama' with frequencies that match the actual results. Use `random.shuffle()` to randomly order the list.\n",
    "\n",
    "___\n",
    "\n",
    "Write a function **`election_sample(votes, size)`** that uses `random.sample()` to select a sample of `votes` of the given `size` and returns the name of the candidate who had the most votes in that sample. (Assume that `size` is odd, so there are no ties.)\n",
    "\n",
    "Example:  \n",
    "`election_sample(votes2012, 35)` returns `'Romney'` or `'Obama'`, whoever has more votes.\n",
    "\n",
    "___\n",
    "\n",
    "Write a function **`election_samples(votes, size, nsamples)`** that calls `election_sample()` `nsamples` times and returns a tuple containing the percentage of wins for 'Romney' or 'Obama', respectively, rounded to the nearest tenth. The function should call `election_sample()`. Do the results match what you expect? What happens if `nsamples` gets larger? What happens if `size` gets larger?\n",
    "\n",
    "Example:<br>\n",
    "`election_samples(votes2012, 35, 10)` may return `(60.0, 40.0)`."
   ]
  },
  {
   "cell_type": "code",
   "execution_count": 219,
   "metadata": {
    "tags": []
   },
   "outputs": [],
   "source": [
    "votes2012 = ['Romney'] * 12158 + ['Obama'] * 10989\n",
    "random.shuffle(votes2012)"
   ]
  },
  {
   "cell_type": "code",
   "execution_count": 223,
   "metadata": {},
   "outputs": [],
   "source": [
    "#votes2012"
   ]
  },
  {
   "cell_type": "code",
   "execution_count": 259,
   "metadata": {},
   "outputs": [],
   "source": [
    "def election_sample(votes, size):\n",
    "    sample = random.sample(votes, size)\n",
    "\n",
    "    romney_count = 0\n",
    "    obama_count = 0\n",
    "    \n",
    "    for vote in sample:\n",
    "        if vote == 'Romney':\n",
    "            romney_count += 1\n",
    "        elif vote == 'Obama':\n",
    "            obama_count += 1\n",
    "    \n",
    "    return 'Romney' if romney_count > obama_count else 'Obama'"
   ]
  },
  {
   "cell_type": "code",
   "execution_count": 261,
   "metadata": {},
   "outputs": [
    {
     "data": {
      "text/plain": [
       "'Romney'"
      ]
     },
     "execution_count": 261,
     "metadata": {},
     "output_type": "execute_result"
    }
   ],
   "source": [
    "election_sample(votes2012, 35)"
   ]
  },
  {
   "cell_type": "code",
   "execution_count": 257,
   "metadata": {},
   "outputs": [],
   "source": [
    "def election_samples(votes, size, nsamples):\n",
    "    results = {'Romney': 0, 'Obama': 0}\n",
    "    \n",
    "    for _ in range(nsamples):\n",
    "        winner = election_sample(votes, size)\n",
    "        results[winner] += 1\n",
    "    \n",
    "    romney_percentage = (results['Romney'] / nsamples) * 100\n",
    "    obama_percentage = (results['Obama'] / nsamples) * 100\n",
    "    \n",
    "    return round(romney_percentage, 1), round(obama_percentage, 1)"
   ]
  },
  {
   "cell_type": "code",
   "execution_count": 255,
   "metadata": {},
   "outputs": [
    {
     "data": {
      "text/plain": [
       "(60.0, 40.0)"
      ]
     },
     "execution_count": 255,
     "metadata": {},
     "output_type": "execute_result"
    }
   ],
   "source": [
    "election_samples(votes2012, 35, 10)"
   ]
  },
  {
   "cell_type": "code",
   "execution_count": null,
   "metadata": {},
   "outputs": [],
   "source": []
  }
 ],
 "metadata": {
  "kernelspec": {
   "display_name": "Python 3 (ipykernel)",
   "language": "python",
   "name": "python3"
  },
  "language_info": {
   "codemirror_mode": {
    "name": "ipython",
    "version": 3
   },
   "file_extension": ".py",
   "mimetype": "text/x-python",
   "name": "python",
   "nbconvert_exporter": "python",
   "pygments_lexer": "ipython3",
   "version": "3.12.4"
  }
 },
 "nbformat": 4,
 "nbformat_minor": 4
}
