{
 "cells": [
  {
   "cell_type": "markdown",
   "metadata": {},
   "source": [
    "# Lab 6"
   ]
  },
  {
   "cell_type": "markdown",
   "metadata": {
    "tags": []
   },
   "source": [
    "### Enter the Lab6 password as a string"
   ]
  },
  {
   "cell_type": "code",
   "execution_count": 631,
   "metadata": {},
   "outputs": [],
   "source": [
    "password = 'frankie'"
   ]
  },
  {
   "cell_type": "markdown",
   "metadata": {},
   "source": [
    "For this assignment, **upload Lab6.ipynb**, NOT a .py file. Before uploading, `Run All Cells` to make sure all of your plots are visible.\n",
    "\n",
    "___"
   ]
  },
  {
   "cell_type": "code",
   "execution_count": 633,
   "metadata": {},
   "outputs": [],
   "source": [
    "import math\n",
    "import random\n",
    "import numpy as np\n",
    "import matplotlib.pyplot as plt"
   ]
  },
  {
   "cell_type": "markdown",
   "metadata": {},
   "source": [
    "### String Operations\n",
    "\n",
    "Let `phrase = '  Jack and Jill\\nwent up\\tthe hill'`. Note that '\\n' is a newline character and '\\t' is a tab character. \n",
    "\n",
    "* Use `print` to display the two lines of text.\n",
    "* Apply the following string methods to `phrase`. What are the results?\n",
    "  * `.strip()`\n",
    "  * `.splitlines()`\n",
    "  * `.split()`\n",
    "  * `.split('\\t')`\n",
    "  * `.upper()`\n",
    "  * `.count('J')`\n",
    "  * `.find('J')`"
   ]
  },
  {
   "cell_type": "code",
   "execution_count": 635,
   "metadata": {},
   "outputs": [],
   "source": [
    "phrase = '  Jack and Jill\\nwent up\\tthe hill'"
   ]
  },
  {
   "cell_type": "code",
   "execution_count": 636,
   "metadata": {},
   "outputs": [
    {
     "name": "stdout",
     "output_type": "stream",
     "text": [
      "  Jack and Jill\n",
      "went up\tthe hill\n"
     ]
    }
   ],
   "source": [
    "print(phrase)"
   ]
  },
  {
   "cell_type": "code",
   "execution_count": 637,
   "metadata": {},
   "outputs": [
    {
     "data": {
      "text/plain": [
       "'Jack and Jill\\nwent up\\tthe hill'"
      ]
     },
     "execution_count": 637,
     "metadata": {},
     "output_type": "execute_result"
    }
   ],
   "source": [
    "phrase.strip()"
   ]
  },
  {
   "cell_type": "code",
   "execution_count": 638,
   "metadata": {},
   "outputs": [
    {
     "data": {
      "text/plain": [
       "['  Jack and Jill', 'went up\\tthe hill']"
      ]
     },
     "execution_count": 638,
     "metadata": {},
     "output_type": "execute_result"
    }
   ],
   "source": [
    "phrase.splitlines()"
   ]
  },
  {
   "cell_type": "code",
   "execution_count": 639,
   "metadata": {},
   "outputs": [
    {
     "data": {
      "text/plain": [
       "['Jack', 'and', 'Jill', 'went', 'up', 'the', 'hill']"
      ]
     },
     "execution_count": 639,
     "metadata": {},
     "output_type": "execute_result"
    }
   ],
   "source": [
    "phrase.split()"
   ]
  },
  {
   "cell_type": "code",
   "execution_count": 640,
   "metadata": {},
   "outputs": [
    {
     "data": {
      "text/plain": [
       "['  Jack and Jill\\nwent up', 'the hill']"
      ]
     },
     "execution_count": 640,
     "metadata": {},
     "output_type": "execute_result"
    }
   ],
   "source": [
    "phrase.split('\\t')"
   ]
  },
  {
   "cell_type": "code",
   "execution_count": 641,
   "metadata": {},
   "outputs": [
    {
     "data": {
      "text/plain": [
       "'  JACK AND JILL\\nWENT UP\\tTHE HILL'"
      ]
     },
     "execution_count": 641,
     "metadata": {},
     "output_type": "execute_result"
    }
   ],
   "source": [
    "phrase.upper()"
   ]
  },
  {
   "cell_type": "code",
   "execution_count": 642,
   "metadata": {},
   "outputs": [
    {
     "data": {
      "text/plain": [
       "2"
      ]
     },
     "execution_count": 642,
     "metadata": {},
     "output_type": "execute_result"
    }
   ],
   "source": [
    "phrase.count('J')"
   ]
  },
  {
   "cell_type": "code",
   "execution_count": 643,
   "metadata": {},
   "outputs": [
    {
     "data": {
      "text/plain": [
       "2"
      ]
     },
     "execution_count": 643,
     "metadata": {},
     "output_type": "execute_result"
    }
   ],
   "source": [
    "phrase.find('J')"
   ]
  },
  {
   "cell_type": "markdown",
   "metadata": {},
   "source": [
    "### Code Tracing\n",
    "Predict the result for each of these expressions.\n",
    "* `[ch for ch in phrase if ch.isupper()]`\n",
    "* `''.join([ch for ch in phrase if ch.isupper()]`\n",
    "* `[ch for ch in phrase if not ch.isalpha()]`\n",
    "* `[ord(ch) for ch in phrase if ch.isupper()]`"
   ]
  },
  {
   "cell_type": "code",
   "execution_count": 645,
   "metadata": {},
   "outputs": [
    {
     "data": {
      "text/plain": [
       "['J', 'J']"
      ]
     },
     "execution_count": 645,
     "metadata": {},
     "output_type": "execute_result"
    }
   ],
   "source": [
    "[ch for ch in phrase if ch.isupper()]"
   ]
  },
  {
   "cell_type": "code",
   "execution_count": 646,
   "metadata": {},
   "outputs": [
    {
     "data": {
      "text/plain": [
       "'JJ'"
      ]
     },
     "execution_count": 646,
     "metadata": {},
     "output_type": "execute_result"
    }
   ],
   "source": [
    "''.join([ch for ch in phrase if ch.isupper()])"
   ]
  },
  {
   "cell_type": "code",
   "execution_count": 647,
   "metadata": {},
   "outputs": [
    {
     "data": {
      "text/plain": [
       "[' ', ' ', ' ', ' ', '\\n', ' ', '\\t', ' ']"
      ]
     },
     "execution_count": 647,
     "metadata": {},
     "output_type": "execute_result"
    }
   ],
   "source": [
    "[ch for ch in phrase if not ch.isalpha()]"
   ]
  },
  {
   "cell_type": "code",
   "execution_count": 648,
   "metadata": {},
   "outputs": [
    {
     "data": {
      "text/plain": [
       "[74, 74]"
      ]
     },
     "execution_count": 648,
     "metadata": {},
     "output_type": "execute_result"
    }
   ],
   "source": [
    "[ord(ch) for ch in phrase if ch.isupper()]"
   ]
  },
  {
   "cell_type": "markdown",
   "metadata": {},
   "source": [
    "### 10 Largest U.S. States by Area\n",
    "Data from https://en.wikipedia.org/w/index.php?title=List_of_U.S._states_and_territories_by_area&oldid=1044486735"
   ]
  },
  {
   "cell_type": "markdown",
   "metadata": {},
   "source": [
    "**Read in the file 'states_total_area.txt'** which lists the 10 largest states by area (in square miles), one state per line, with the following information about each state, delimited by tab characters (`'\\t'`):\n",
    "* State name\n",
    "* Rank\n",
    "* Total area\n",
    "\n",
    "For example, the first line of the file is\n",
    "```\n",
    "Alaska\\t1\\t665384.04\n",
    "```\n",
    "which contains Alaska's rank (1) and total area.\n",
    "\n",
    "**Display the information for the 10 states in a table**, as shown below, with **the numbers right-aligned** and **the text left-aligned**. Use f-strings and the float format to round decimal values to the nearest tenth.\n",
    "```\n",
    "Rank  State         Total   \n",
    "-----------------------------\n",
    "  1   Alaska       665384.0\n",
    "  2   Texas        268596.5\n",
    "  3   California   163694.7\n",
    "  ...\n",
    " 10   Wyoming       97813.0\n",
    "```\n",
    "Also **write the table to a file** `'states_table.txt'`.\n"
   ]
  },
  {
   "cell_type": "code",
   "execution_count": 651,
   "metadata": {},
   "outputs": [
    {
     "name": "stdout",
     "output_type": "stream",
     "text": [
      "1           Alaska 665384.0\n",
      "2            Texas 268596.5\n",
      "3       California 163694.7\n",
      "4          Montana 147039.7\n",
      "5       New Mexico 121590.3\n",
      "6          Arizona 113990.3\n",
      "7           Nevada 110571.8\n",
      "8         Colorado 104093.7\n",
      "9           Oregon 98378.5\n",
      "10         Wyoming 97813.0\n"
     ]
    }
   ],
   "source": [
    "with open('states_total_area.txt') as fp:\n",
    "    data = fp.read()\n",
    "\n",
    "split_lines = data.splitlines()\n",
    "\n",
    "new_list = []\n",
    "for n in split_lines:\n",
    "    new_list.append(n.split('\\t'))\n",
    "\n",
    "for i in new_list:\n",
    "    state = i[0]\n",
    "    number = i[1]\n",
    "    area = float(i[2])\n",
    "    print(f'{number:2} {state:>15} {area:5.1f}')"
   ]
  },
  {
   "cell_type": "markdown",
   "metadata": {},
   "source": [
    "Writing the table to the file:"
   ]
  },
  {
   "cell_type": "code",
   "execution_count": 653,
   "metadata": {},
   "outputs": [],
   "source": [
    "with open('state_table.txt', 'w') as fp1:\n",
    "    with open('states_total_area.txt') as fp:\n",
    "        data = fp.read()\n",
    "\n",
    "    split_lines = data.splitlines()\n",
    "\n",
    "    new_list = []\n",
    "    for n in split_lines:\n",
    "        new_list.append(n.split('\\t'))\n",
    "\n",
    "    for i in new_list:\n",
    "        state = i[0]\n",
    "        number = i[1]\n",
    "        area = float(i[2])\n",
    "        fp1.write(f'{number:2} {state:>15} {area:5.1f}')"
   ]
  },
  {
   "cell_type": "markdown",
   "metadata": {},
   "source": [
    "### Triangles\n",
    "Write a function **`triangle(pos, sidelen, color)`** that uses `plt.fill()` to plot an isosceles triangle with base length and height both equal to `sidelen`. The lower left corner of the triangle is located at `pos` which corresponds to an `(x, y)` ordered pair. The default `color` is `'C0'`. The function should not call `plt.show()`. \n",
    "\n",
    "*Note:* With `fill()`, providing the coordinates of the 3 vertices is sufficient; unlike `plot()`, it is not necessary to repeat the first vertex.\n",
    "\n",
    "<img src=\"http://www.coloradomath.org/python/triangle.jpg\" width=\"216\" height=\"144\" />"
   ]
  },
  {
   "cell_type": "code",
   "execution_count": 655,
   "metadata": {},
   "outputs": [],
   "source": [
    "def triangle(pos, sidelen, color='C0'):\n",
    "    plt.fill([pos[0], pos[0]+sidelen, pos[0]+(sidelen /2), pos[0]], [pos[1], pos[1], pos[1]+sidelen, pos[1]], c = color)\n",
    "    plt.axis('off')"
   ]
  },
  {
   "cell_type": "code",
   "execution_count": 656,
   "metadata": {},
   "outputs": [
    {
     "data": {
      "image/png": "[encoded data removed]",
      "text/plain": [
       "<Figure size 640x480 with 1 Axes>"
      ]
     },
     "metadata": {},
     "output_type": "display_data"
    }
   ],
   "source": [
    "triangle((0, 0), 2)"
   ]
  },
  {
   "cell_type": "code",
   "execution_count": 657,
   "metadata": {},
   "outputs": [
    {
     "data": {
      "image/png": "[encoded data removed]",
      "text/plain": [
       "<Figure size 640x480 with 1 Axes>"
      ]
     },
     "metadata": {},
     "output_type": "display_data"
    }
   ],
   "source": [
    "triangle((0, 0), 4, 'C4')"
   ]
  },
  {
   "cell_type": "markdown",
   "metadata": {},
   "source": [
    "Write a function **`triangle_row(pos, size, num, colors)`** that displays a row of `num` triangles starting at `pos` using a list of alternating colors. The function should call `triangle()`. If `colors` is omitted, the default colors `'C0'` and `'C1'` should be used.\n",
    "\n",
    "Examples:<br>\n",
    "`triangle_row((0, 0), 1, 10)` displays\n",
    "\n",
    "<img src=\"http://www.coloradomath.org/python/triangle_row10.jpg\" width=\"720\" height=\"144\"/>\n",
    "\n",
    "`triangle_row((0, 0), 1, 7, ['m', 'c'])` displays\n",
    "\n",
    "<img src=\"http://www.coloradomath.org/python/triangle_row7.jpg\" width=\"504\" height=\"144\" />"
   ]
  },
  {
   "cell_type": "code",
   "execution_count": 659,
   "metadata": {},
   "outputs": [],
   "source": [
    "def triangle_row(pos, size, num, colors=['C0', 'C1']):\n",
    "    for i in range(num):\n",
    "        color = colors[i % len(colors)]\n",
    "        new_pos = (pos[0] + i * size, pos[1])\n",
    "        triangle(new_pos, size, color)\n",
    "    plt.axis('off')\n",
    "\n",
    "#I don't know how to make plt.ylim(0, size*num) work... When I try to use plt.ylim, it changes the limit for x-axis. "
   ]
  },
  {
   "cell_type": "code",
   "execution_count": 660,
   "metadata": {},
   "outputs": [
    {
     "data": {
      "image/png": "[encoded data removed]",
      "text/plain": [
       "<Figure size 640x480 with 1 Axes>"
      ]
     },
     "metadata": {},
     "output_type": "display_data"
    }
   ],
   "source": [
    "triangle_row((0, 0), 1, 10)"
   ]
  },
  {
   "cell_type": "code",
   "execution_count": 661,
   "metadata": {},
   "outputs": [
    {
     "data": {
      "image/png": "[encoded data removed]",
      "text/plain": [
       "<Figure size 640x480 with 1 Axes>"
      ]
     },
     "metadata": {},
     "output_type": "display_data"
    }
   ],
   "source": [
    "triangle_row((0, 0), 1, 7, ['m', 'c'])"
   ]
  },
  {
   "cell_type": "markdown",
   "metadata": {},
   "source": [
    "___\n",
    "\n",
    "# Extra Problems\n",
    "\n",
    "Work on these problems after you complete the previous problems."
   ]
  },
  {
   "cell_type": "markdown",
   "metadata": {},
   "source": [
    "### Triangle Rotations\n",
    "Write a function that uses **subplots** to display a 2x2 grid of triangles, arranged in 4 different orientations.\n",
    "\n",
    "<img src=\"http://www.coloradomath.org/python/triangle-rotations.jpg\" width=\"288\" height=\"288\"/>"
   ]
  },
  {
   "cell_type": "code",
   "execution_count": null,
   "metadata": {},
   "outputs": [],
   "source": []
  },
  {
   "cell_type": "code",
   "execution_count": null,
   "metadata": {},
   "outputs": [],
   "source": []
  },
  {
   "cell_type": "markdown",
   "metadata": {},
   "source": [
    "### Regular Polygon Sectors\n",
    "\n",
    "Write a function that draws an `n`-sided regular polygon with each sector a different color.\n",
    "\n",
    "<img src=\"http://www.coloradomath.org/python/polygon5-sectors.png\" />"
   ]
  },
  {
   "cell_type": "code",
   "execution_count": null,
   "metadata": {},
   "outputs": [],
   "source": []
  },
  {
   "cell_type": "code",
   "execution_count": null,
   "metadata": {},
   "outputs": [],
   "source": []
  }
 ],
 "metadata": {
  "kernelspec": {
   "display_name": "Python 3 (ipykernel)",
   "language": "python",
   "name": "python3"
  },
  "language_info": {
   "codemirror_mode": {
    "name": "ipython",
    "version": 3
   },
   "file_extension": ".py",
   "mimetype": "text/x-python",
   "name": "python",
   "nbconvert_exporter": "python",
   "pygments_lexer": "ipython3",
   "version": "3.12.4"
  }
 },
 "nbformat": 4,
 "nbformat_minor": 4
}
