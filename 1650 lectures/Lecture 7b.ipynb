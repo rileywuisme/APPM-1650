{
 "cells": [
  {
   "cell_type": "markdown",
   "id": "e3fe2392-9f1c-4633-85a5-599f36ab5f4d",
   "metadata": {},
   "source": [
    "### Lecture 7b"
   ]
  },
  {
   "cell_type": "code",
   "execution_count": 3,
   "id": "6e77d197-25e7-4685-8025-fe6208a512f7",
   "metadata": {},
   "outputs": [],
   "source": [
    "import matplotlib.pyplot as plt"
   ]
  },
  {
   "cell_type": "markdown",
   "id": "c7e4849a-30e5-484c-900c-53f09b4f67b6",
   "metadata": {},
   "source": [
    "Warm up "
   ]
  },
  {
   "cell_type": "code",
   "execution_count": 30,
   "id": "0d4449d2-60a9-408c-88b9-95c274dee9c2",
   "metadata": {},
   "outputs": [
    {
     "data": {
      "image/png": "[encoded data removed]",
      "text/plain": [
       "<Figure size 640x480 with 1 Axes>"
      ]
     },
     "metadata": {},
     "output_type": "display_data"
    }
   ],
   "source": [
    "plt.plot([0, 2, 2, 0, 0], [0, 0, 1, 1, 0])\n",
    "plt.show()"
   ]
  },
  {
   "cell_type": "code",
   "execution_count": 46,
   "id": "2714eacb-1dca-4a09-a495-dbcc9a3577b5",
   "metadata": {},
   "outputs": [
    {
     "data": {
      "text/plain": [
       "5.0"
      ]
     },
     "execution_count": 46,
     "metadata": {},
     "output_type": "execute_result"
    }
   ],
   "source": [
    "def double(x):\n",
    "    '''Return twice the input value'''\n",
    "    return 2*x\n",
    "\n",
    "double(2.5)"
   ]
  },
  {
   "cell_type": "code",
   "execution_count": 54,
   "id": "233c899a-f27e-47c6-98e4-2622206d3782",
   "metadata": {},
   "outputs": [
    {
     "data": {
      "text/plain": [
       "\u001b[0;31mSignature:\u001b[0m \u001b[0mdouble\u001b[0m\u001b[0;34m(\u001b[0m\u001b[0mx\u001b[0m\u001b[0;34m)\u001b[0m\u001b[0;34m\u001b[0m\u001b[0;34m\u001b[0m\u001b[0m\n",
       "\u001b[0;31mDocstring:\u001b[0m Return twice the input value\n",
       "\u001b[0;31mFile:\u001b[0m      /var/folders/2m/ffpxvj6x6y9_869rd2330sl00000gn/T/ipykernel_44120/2296268524.py\n",
       "\u001b[0;31mType:\u001b[0m      function"
      ]
     },
     "metadata": {},
     "output_type": "display_data"
    }
   ],
   "source": [
    "double? # Jupyter command"
   ]
  },
  {
   "cell_type": "code",
   "execution_count": 42,
   "id": "ef1b04ff-729b-416d-af4c-6e7b498451c1",
   "metadata": {},
   "outputs": [],
   "source": [
    "x = 2.5"
   ]
  },
  {
   "cell_type": "code",
   "execution_count": 44,
   "id": "56b20a75-b63b-4098-97e0-adf8ea592c58",
   "metadata": {},
   "outputs": [
    {
     "data": {
      "text/plain": [
       "\u001b[0;31mType:\u001b[0m        float\n",
       "\u001b[0;31mString form:\u001b[0m 2.5\n",
       "\u001b[0;31mDocstring:\u001b[0m   Convert a string or number to a floating point number, if possible."
      ]
     },
     "metadata": {},
     "output_type": "display_data"
    }
   ],
   "source": [
    "x?"
   ]
  },
  {
   "cell_type": "code",
   "execution_count": 56,
   "id": "56a700b4-a089-496a-81ef-331d85a06dac",
   "metadata": {},
   "outputs": [
    {
     "data": {
      "text/plain": [
       "\u001b[0;31mSignature:\u001b[0m \u001b[0mround\u001b[0m\u001b[0;34m(\u001b[0m\u001b[0mnumber\u001b[0m\u001b[0;34m,\u001b[0m \u001b[0mndigits\u001b[0m\u001b[0;34m=\u001b[0m\u001b[0;32mNone\u001b[0m\u001b[0;34m)\u001b[0m\u001b[0;34m\u001b[0m\u001b[0;34m\u001b[0m\u001b[0m\n",
       "\u001b[0;31mDocstring:\u001b[0m\n",
       "Round a number to a given precision in decimal digits.\n",
       "\n",
       "The return value is an integer if ndigits is omitted or None.  Otherwise\n",
       "the return value has the same type as the number.  ndigits may be negative.\n",
       "\u001b[0;31mType:\u001b[0m      builtin_function_or_method"
      ]
     },
     "metadata": {},
     "output_type": "display_data"
    }
   ],
   "source": [
    "round?"
   ]
  },
  {
   "cell_type": "markdown",
   "id": "a7620351-6660-42dc-957f-8f5492b73a46",
   "metadata": {},
   "source": [
    "### String"
   ]
  },
  {
   "cell_type": "code",
   "execution_count": 78,
   "id": "97190e17-03ad-475d-95aa-08aeb410adc1",
   "metadata": {},
   "outputs": [],
   "source": [
    "multistring='''This is a \n",
    "multi-line\n",
    "    string.'''"
   ]
  },
  {
   "cell_type": "markdown",
   "id": "7bc78c11-3b54-4204-8a2b-a9888f679317",
   "metadata": {},
   "source": [
    "The newline character is `\\n`. This is a single character. It is considered whitespace.  \n",
    "\n",
    "The tab character is `\\t`."
   ]
  },
  {
   "cell_type": "code",
   "execution_count": 76,
   "id": "82e43ce9-a1f1-4015-8c27-cfef0ee74cf2",
   "metadata": {},
   "outputs": [
    {
     "data": {
      "text/plain": [
       "'first\\tsecond'"
      ]
     },
     "execution_count": 76,
     "metadata": {},
     "output_type": "execute_result"
    }
   ],
   "source": [
    "'first\\tsecond'"
   ]
  },
  {
   "cell_type": "code",
   "execution_count": 82,
   "id": "1f8f5bd3-8908-4a82-aaf5-a250d289eb9b",
   "metadata": {},
   "outputs": [
    {
     "name": "stdout",
     "output_type": "stream",
     "text": [
      "This is a \n",
      "multi-line\n",
      "    string.\n"
     ]
    }
   ],
   "source": [
    "print(multistring)"
   ]
  },
  {
   "cell_type": "code",
   "execution_count": 68,
   "id": "96c3faa1-d7ad-42fb-be33-0938763428b7",
   "metadata": {},
   "outputs": [
    {
     "name": "stdout",
     "output_type": "stream",
     "text": [
      "first\tsecond\n"
     ]
    }
   ],
   "source": [
    "print('first\\tsecond')"
   ]
  },
  {
   "cell_type": "code",
   "execution_count": 74,
   "id": "2cf896f7-f73c-40c9-85a7-44e522053c5f",
   "metadata": {},
   "outputs": [
    {
     "name": "stdout",
     "output_type": "stream",
     "text": [
      "first\n",
      "second\n"
     ]
    }
   ],
   "source": [
    "print('first\\nsecond') #how strings are stored vs how they display"
   ]
  },
  {
   "cell_type": "markdown",
   "id": "e7394830-d0c4-4131-a871-476ed02a12c6",
   "metadata": {},
   "source": [
    "### Splitting a String"
   ]
  },
  {
   "cell_type": "code",
   "execution_count": 6,
   "id": "5b6a70fd-e83e-4a9a-97ca-19fd3fc1ec2c",
   "metadata": {},
   "outputs": [
    {
     "data": {
      "text/plain": [
       "'   303- \\n 555-\\n      1234    '"
      ]
     },
     "execution_count": 6,
     "metadata": {},
     "output_type": "execute_result"
    }
   ],
   "source": [
    "phone = '   303- \\n 555-\\n      1234    '\n",
    "phone"
   ]
  },
  {
   "cell_type": "code",
   "execution_count": 91,
   "id": "8c672d1e-1087-4697-afe7-1fae5f6f07fc",
   "metadata": {},
   "outputs": [
    {
     "name": "stdout",
     "output_type": "stream",
     "text": [
      "   303- \n",
      " 555-\n",
      "      1234    \n"
     ]
    }
   ],
   "source": [
    "print(phone)"
   ]
  },
  {
   "cell_type": "markdown",
   "id": "373e2b5d-2ca5-4b2f-acc7-1c2888755d5d",
   "metadata": {},
   "source": [
    "`.split()` will use the whitespace as dividers and remove it. It will return a list of substrings. "
   ]
  },
  {
   "cell_type": "code",
   "execution_count": 8,
   "id": "d401f72e-60d1-4e66-9ea3-6276eaaf7186",
   "metadata": {},
   "outputs": [
    {
     "data": {
      "text/plain": [
       "['303-', '555-', '1234']"
      ]
     },
     "execution_count": 8,
     "metadata": {},
     "output_type": "execute_result"
    }
   ],
   "source": [
    "phone.split()  #split the string at the whitespace and remove it"
   ]
  },
  {
   "cell_type": "code",
   "execution_count": 12,
   "id": "d3244b3c-30b7-43dc-b686-6f90e8c79760",
   "metadata": {},
   "outputs": [
    {
     "data": {
      "text/plain": [
       "['   303', ' \\n 555', '\\n      1234    ']"
      ]
     },
     "execution_count": 12,
     "metadata": {},
     "output_type": "execute_result"
    }
   ],
   "source": [
    "phone.split('-') #you can specify what to use as dividers. "
   ]
  },
  {
   "cell_type": "code",
   "execution_count": 105,
   "id": "cbd06ff7-f287-4f8e-8788-64a5be84ff39",
   "metadata": {},
   "outputs": [
    {
     "data": {
      "text/plain": [
       "['   303- ', ' 555-', '      1234    ']"
      ]
     },
     "execution_count": 105,
     "metadata": {},
     "output_type": "execute_result"
    }
   ],
   "source": [
    "phone.splitlines()  # remove the \\n as dividers and remove"
   ]
  },
  {
   "cell_type": "markdown",
   "id": "39491433-f46b-4ed7-86dc-06f53591b251",
   "metadata": {},
   "source": [
    "### Concatenating a list of strings"
   ]
  },
  {
   "cell_type": "code",
   "execution_count": 16,
   "id": "8fff911f-360b-44cb-9e85-08d42465d347",
   "metadata": {},
   "outputs": [
    {
     "data": {
      "text/plain": [
       "['303-', '555-', '1234']"
      ]
     },
     "execution_count": 16,
     "metadata": {},
     "output_type": "execute_result"
    }
   ],
   "source": [
    "parts = phone.split()\n",
    "parts"
   ]
  },
  {
   "cell_type": "code",
   "execution_count": 18,
   "id": "7d6dace0-6536-4e87-8a73-7a44493258cc",
   "metadata": {},
   "outputs": [
    {
     "data": {
      "text/plain": [
       "'303-555-1234'"
      ]
     },
     "execution_count": 18,
     "metadata": {},
     "output_type": "execute_result"
    }
   ],
   "source": [
    "''.join(parts)"
   ]
  },
  {
   "cell_type": "code",
   "execution_count": 112,
   "id": "3d021078-81ec-488a-8428-8ee260e17ed5",
   "metadata": {},
   "outputs": [
    {
     "data": {
      "text/plain": [
       "'10/9/2024'"
      ]
     },
     "execution_count": 112,
     "metadata": {},
     "output_type": "execute_result"
    }
   ],
   "source": [
    "'/'.join(['10', '9', '2024'])"
   ]
  },
  {
   "cell_type": "markdown",
   "id": "3bd35e6f-8615-410f-98eb-5a2b75aeacd4",
   "metadata": {},
   "source": [
    "### Removing leading and trailing whitespace"
   ]
  },
  {
   "cell_type": "code",
   "execution_count": 117,
   "id": "527d19b3-87a7-4f96-8189-b4ed0de9502c",
   "metadata": {},
   "outputs": [
    {
     "data": {
      "text/plain": [
       "'Ralphie        Buff'"
      ]
     },
     "execution_count": 117,
     "metadata": {},
     "output_type": "execute_result"
    }
   ],
   "source": [
    "'     Ralphie        Buff     '.strip() #remove whitespace on the sides"
   ]
  },
  {
   "cell_type": "markdown",
   "id": "d3b74c6a-7c0b-4a73-9694-6574727ee6cb",
   "metadata": {},
   "source": [
    "### File Input and Output"
   ]
  },
  {
   "cell_type": "code",
   "execution_count": 142,
   "id": "b0f11351-96cb-4d83-9b26-5d928edb9089",
   "metadata": {},
   "outputs": [],
   "source": [
    "fp = open('wordlist.txt') # returns a file pointer"
   ]
  },
  {
   "cell_type": "code",
   "execution_count": 144,
   "id": "8dad8847-34f5-46de-92f1-6c7f24c3c08e",
   "metadata": {},
   "outputs": [
    {
     "data": {
      "text/plain": [
       "<_io.TextIOWrapper name='wordlist.txt' mode='r' encoding='UTF-8'>"
      ]
     },
     "execution_count": 144,
     "metadata": {},
     "output_type": "execute_result"
    }
   ],
   "source": [
    "fp"
   ]
  },
  {
   "cell_type": "code",
   "execution_count": 146,
   "id": "09e518f6-13e6-4837-b868-2333ab98dc4a",
   "metadata": {},
   "outputs": [],
   "source": [
    "data = fp.read()\n",
    "fp.close()"
   ]
  },
  {
   "cell_type": "code",
   "execution_count": 148,
   "id": "4bd2817c-7e50-4ff7-9e1f-cb6f7e762325",
   "metadata": {},
   "outputs": [
    {
     "data": {
      "text/plain": [
       "62144"
      ]
     },
     "execution_count": 148,
     "metadata": {},
     "output_type": "execute_result"
    }
   ],
   "source": [
    "len(data)"
   ]
  },
  {
   "cell_type": "code",
   "execution_count": 152,
   "id": "c643654b-6464-488a-9b2d-201416fec39f",
   "metadata": {},
   "outputs": [
    {
     "data": {
      "text/plain": [
       "'abacus\\nabdomen\\nabdominal\\nabide\\nabiding\\nability\\nablaze\\nable\\nabnormal\\nabrasion\\nabrasive\\nabreast\\nabridg'"
      ]
     },
     "execution_count": 152,
     "metadata": {},
     "output_type": "execute_result"
    }
   ],
   "source": [
    "data[:100]"
   ]
  },
  {
   "cell_type": "markdown",
   "id": "d32e67ec-a8a5-4991-b263-ba07f2347cc3",
   "metadata": {},
   "source": [
    "### the `with` statement\n",
    "\n",
    "automatically closes the file.  \n",
    "Recommended!"
   ]
  },
  {
   "cell_type": "code",
   "execution_count": 30,
   "id": "41daf896-c0a7-4a60-bdd8-5edf0647e5a5",
   "metadata": {},
   "outputs": [],
   "source": [
    "with open('wordlist.txt') as fp:\n",
    "    data = fp.read()"
   ]
  },
  {
   "cell_type": "code",
   "execution_count": 159,
   "id": "444764aa-f125-41a2-a051-3d7709a5663a",
   "metadata": {},
   "outputs": [],
   "source": [
    "words = data.splitlines()"
   ]
  },
  {
   "cell_type": "code",
   "execution_count": 161,
   "id": "ca3e7550-1198-4c8a-afef-e5eee6daaf2d",
   "metadata": {},
   "outputs": [
    {
     "data": {
      "text/plain": [
       "['abacus',\n",
       " 'abdomen',\n",
       " 'abdominal',\n",
       " 'abide',\n",
       " 'abiding',\n",
       " 'ability',\n",
       " 'ablaze',\n",
       " 'able',\n",
       " 'abnormal',\n",
       " 'abrasion']"
      ]
     },
     "execution_count": 161,
     "metadata": {},
     "output_type": "execute_result"
    }
   ],
   "source": [
    "words[:10]"
   ]
  },
  {
   "cell_type": "code",
   "execution_count": 163,
   "id": "50352507-64e2-4ae8-b717-dfe8233903b7",
   "metadata": {},
   "outputs": [],
   "source": [
    "with open('wordlist.txt') as fp:\n",
    "    data = fp.readlines()"
   ]
  },
  {
   "cell_type": "code",
   "execution_count": 165,
   "id": "593dc3fc-0c8e-49a5-a4a6-7a3cadbe3121",
   "metadata": {},
   "outputs": [
    {
     "data": {
      "text/plain": [
       "['abacus\\n', 'abdomen\\n', 'abdominal\\n', 'abide\\n', 'abiding\\n']"
      ]
     },
     "execution_count": 165,
     "metadata": {},
     "output_type": "execute_result"
    }
   ],
   "source": [
    "data[:5]"
   ]
  },
  {
   "cell_type": "code",
   "execution_count": 171,
   "id": "0be392e4-37ba-4901-8a3f-7e3619132d7b",
   "metadata": {},
   "outputs": [
    {
     "name": "stdout",
     "output_type": "stream",
     "text": [
      "abacus\n",
      "abdomen\n",
      "abdominal\n",
      "abide\n",
      "abiding\n",
      "ability\n",
      "ablaze\n",
      "able\n",
      "abnormal\n",
      "abrasion\n"
     ]
    }
   ],
   "source": [
    "with open('wordlist.txt') as fp:\n",
    "    for n in range(10):\n",
    "        print(fp.readline(), end='')"
   ]
  },
  {
   "cell_type": "markdown",
   "id": "7252073c-13a0-442e-a2a5-40fd356edda7",
   "metadata": {},
   "source": [
    "### Writing to a File"
   ]
  },
  {
   "cell_type": "code",
   "execution_count": 37,
   "id": "d0c36b2a-4fbf-4bdc-8a88-433869767cef",
   "metadata": {},
   "outputs": [],
   "source": [
    "with open('outfile.txt', 'w') as fp:\n",
    "    fp.write('Hello')\n",
    "    fp.write('World')"
   ]
  },
  {
   "cell_type": "code",
   "execution_count": 183,
   "id": "1a007343-9e24-4600-9a3b-0a743a4a5ff2",
   "metadata": {},
   "outputs": [],
   "source": [
    "name = 'Ralphie'\n",
    "with open('outfile.txt', 'w') as fp:\n",
    "    fp.writelines(['Hello', name, '!\\n'])\n",
    "    fp.writelines(['Hello', name, '!\\n'])"
   ]
  },
  {
   "cell_type": "markdown",
   "id": "90f8af65-2086-4964-b1d8-7ff726eb85f9",
   "metadata": {},
   "source": [
    "### Formatting with f-strings"
   ]
  },
  {
   "cell_type": "code",
   "execution_count": 189,
   "id": "bb3b237c-1bfb-4cbd-a2e2-b6d971645cb2",
   "metadata": {},
   "outputs": [
    {
     "data": {
      "text/plain": [
       "'Oct 9'"
      ]
     },
     "execution_count": 189,
     "metadata": {},
     "output_type": "execute_result"
    }
   ],
   "source": [
    "day = 9\n",
    "'Oct ' + str(day)"
   ]
  },
  {
   "cell_type": "code",
   "execution_count": 191,
   "id": "49841577-6343-4ddb-aeaf-98858da72115",
   "metadata": {},
   "outputs": [
    {
     "data": {
      "text/plain": [
       "'Oct 9'"
      ]
     },
     "execution_count": 191,
     "metadata": {},
     "output_type": "execute_result"
    }
   ],
   "source": [
    "f'Oct {day}'"
   ]
  },
  {
   "cell_type": "code",
   "execution_count": 193,
   "id": "8dedbc36-49e6-46fb-9c67-9a0d04947c78",
   "metadata": {},
   "outputs": [
    {
     "data": {
      "text/plain": [
       "'Oct 9, 2024'"
      ]
     },
     "execution_count": 193,
     "metadata": {},
     "output_type": "execute_result"
    }
   ],
   "source": [
    "year = 2024\n",
    "f'Oct {day}, {year}'"
   ]
  },
  {
   "cell_type": "code",
   "execution_count": 195,
   "id": "5df16dc6-4691-485e-8630-fb997d7ff0f3",
   "metadata": {},
   "outputs": [
    {
     "name": "stdout",
     "output_type": "stream",
     "text": [
      "1 2 0.5\n",
      "2 4 0.25\n",
      "3 8 0.125\n",
      "4 16 0.0625\n",
      "5 32 0.03125\n",
      "6 64 0.015625\n",
      "7 128 0.0078125\n",
      "8 256 0.00390625\n",
      "9 512 0.001953125\n",
      "10 1024 0.0009765625\n"
     ]
    }
   ],
   "source": [
    "for n in range(1, 11):\n",
    "    power2 = 2 ** n\n",
    "    print(n, power2, 1/power2)"
   ]
  },
  {
   "cell_type": "code",
   "execution_count": 211,
   "id": "770055de-22a9-4260-a0d5-fe0ce09fa337",
   "metadata": {},
   "outputs": [
    {
     "data": {
      "text/plain": [
       "'    2024'"
      ]
     },
     "execution_count": 211,
     "metadata": {},
     "output_type": "execute_result"
    }
   ],
   "source": [
    "f'{year:8}' #minimum characters I want in a string as :8. Fill in blanks"
   ]
  },
  {
   "cell_type": "code",
   "execution_count": 213,
   "id": "0f6781a2-7447-4a1e-bd33-89cc851131d3",
   "metadata": {},
   "outputs": [],
   "source": [
    "xval = 0.125"
   ]
  },
  {
   "cell_type": "code",
   "execution_count": 219,
   "id": "c49ad636-9ee3-40e4-b791-467072379a04",
   "metadata": {},
   "outputs": [
    {
     "data": {
      "text/plain": [
       "'0.12'"
      ]
     },
     "execution_count": 219,
     "metadata": {},
     "output_type": "execute_result"
    }
   ],
   "source": [
    "f'{xval:.2f}' #truncate to 2 decimal digits"
   ]
  },
  {
   "cell_type": "code",
   "execution_count": 221,
   "id": "8bb9d45d-a833-4fcf-999d-cb12761382bc",
   "metadata": {},
   "outputs": [
    {
     "data": {
      "text/plain": [
       "'      0.12'"
      ]
     },
     "execution_count": 221,
     "metadata": {},
     "output_type": "execute_result"
    }
   ],
   "source": [
    "f'{xval:10.2f}'"
   ]
  },
  {
   "cell_type": "code",
   "execution_count": 229,
   "id": "9f064d5e-c2fa-4339-b594-bdc7aafcb981",
   "metadata": {},
   "outputs": [
    {
     "name": "stdout",
     "output_type": "stream",
     "text": [
      " 1,    2, 0.50\n",
      " 2,    4, 0.25\n",
      " 3,    8, 0.12\n",
      " 4,   16, 0.06\n",
      " 5,   32, 0.03\n",
      " 6,   64, 0.02\n",
      " 7,  128, 0.01\n",
      " 8,  256, 0.00\n",
      " 9,  512, 0.00\n",
      "10, 1024, 0.00\n"
     ]
    }
   ],
   "source": [
    "for n in range(1, 11):\n",
    "    power2 = 2 ** n\n",
    "    print(f'{n:2}, {power2:4}, {1/power2:4.2f}')"
   ]
  },
  {
   "cell_type": "code",
   "execution_count": null,
   "id": "1800d2b4-0165-4830-979d-38d75f847dae",
   "metadata": {},
   "outputs": [],
   "source": []
  }
 ],
 "metadata": {
  "kernelspec": {
   "display_name": "Python 3 (ipykernel)",
   "language": "python",
   "name": "python3"
  },
  "language_info": {
   "codemirror_mode": {
    "name": "ipython",
    "version": 3
   },
   "file_extension": ".py",
   "mimetype": "text/x-python",
   "name": "python",
   "nbconvert_exporter": "python",
   "pygments_lexer": "ipython3",
   "version": "3.12.4"
  }
 },
 "nbformat": 4,
 "nbformat_minor": 5
}
